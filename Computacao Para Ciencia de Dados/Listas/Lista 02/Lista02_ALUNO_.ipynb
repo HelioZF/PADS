{
 "cells": [
  {
   "cell_type": "markdown",
   "metadata": {},
   "source": [
    "# Insper - Computação para Ciência dos Dados\n",
    "\n",
    "## Mini-teste - Readmissões em Hospitais Medicare\n",
    "\n",
    "Em outubro de 2012, o Centro de Serviços Medicare e Medicaid (CMS) do governo dos EUA começou a reduzir os pagamentos do Medicare para hospitais do Sistema de Pagamento Prospectivo de Pacientes Internados com readmissões em excesso. \n",
    "\n",
    "O excesso de readmissões é medido por uma razão, dividindo-se o número de readmissões “previstas” de 30 dias de um hospital para ataque cardíaco, insuficiência cardíaca e pneumonia, pelo número que seria “esperado”, com base em um hospital com características similares. Uma proporção maior que 1 indica readmissões em excesso.\n",
    "\n",
    "* [Dicionário de Dados](https://data.cms.gov/provider-data/sites/default/files/data_dictionaries/hospital/HospitalCompare-DataDictionary.pdf)\n",
    "* [Pandas Chart Visualization](https://pandas.pydata.org/pandas-docs/stable/user_guide/visualization.html)\n",
    "\n",
    "### Questões\n",
    "\n",
    "1. Crie uma coluna `True Admission Rate`, dividindo a coluna `Number of Readmissions` pela `Number of Discharges`\n",
    "2. Plote um boxplot da diferença entre `True Admission Rate` e `Expected Readmission Rate`. Disserte.\n",
    "3. Plote um scatterplot das colunas `Predicted Readmission Rate` e `Expected Readmission Rate`, com as cores dos pontos definidas pela coluna `Measure Name`. Disserte.\n",
    "4. Plote um scatterplot de `Excess Readmission Ratio` por `Number of Discharges`. Disserte.\n",
    "5. Encontre os 5 estados com maior `Excess Readmission Ratio` e os 5 estados com menor `Excess Readmission Ratio`. Filtre o dataframe com estes 10 estados. Plote um gráfico com um boxplot por estado, considerando a coluna `Excess Readmission Ratio`"
   ]
  },
  {
   "cell_type": "code",
   "execution_count": 1,
   "metadata": {},
   "outputs": [],
   "source": [
    "import pandas as pd\n",
    "\n",
    "df = pd.read_csv('https://raw.githubusercontent.com/amkaris/EDA/master/cms_hospital_readmissions.csv')"
   ]
  }
 ],
 "metadata": {
  "interpreter": {
   "hash": "0b59637b1394756eb7ed213fcf92fb888779c2e1ebc703c3375816d555c43ab4"
  },
  "kernelspec": {
   "display_name": "Python 3 (ipykernel)",
   "language": "python",
   "name": "python3"
  },
  "language_info": {
   "codemirror_mode": {
    "name": "ipython",
    "version": 3
   },
   "file_extension": ".py",
   "mimetype": "text/x-python",
   "name": "python",
   "nbconvert_exporter": "python",
   "pygments_lexer": "ipython3",
   "version": "3.9.12"
  }
 },
 "nbformat": 4,
 "nbformat_minor": 2
}
