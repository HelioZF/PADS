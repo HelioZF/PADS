{
 "cells": [
  {
   "cell_type": "markdown",
   "id": "41a285f0",
   "metadata": {},
   "source": [
    "![Insper](https://github.com/danielscarvalho/Insper-DS-Dicas/blob/master/Insper-Logo.png?raw=true)\n",
    "\n",
    "# Insper Pós-Graduação\n",
    "## Programa Avançado em Data Science e Decisão [»](https://www.insper.edu.br/pos-graduacao/programas-avancados/data-science-e-decisao/)"
   ]
  },
  {
   "cell_type": "markdown",
   "id": "67beb17d",
   "metadata": {},
   "source": [
    "# LAB\n",
    "\n",
    "## Water Quality Dataset"
   ]
  },
  {
   "cell_type": "markdown",
   "id": "2dc30906",
   "metadata": {},
   "source": [
    "Escolhi pseudo aleatóriamente um dataset no Kaggle, peguei o primeiro que o próprio Kaggle destacou, e em < 5 min montei uma visualização dinâmica com o HoloViz para entender os dados (Data wrangling) em um scatter, usando o material da aula como referência ...\n",
    "\n",
    "Os dados não foram modificados... \"as is\" no gráfico..."
   ]
  },
  {
   "cell_type": "markdown",
   "id": "9d2fcc68",
   "metadata": {},
   "source": [
    "Data from: https://www.kaggle.com/ozgurdogan646/water-quality-dataset"
   ]
  },
  {
   "cell_type": "code",
   "execution_count": null,
   "id": "24e8104a",
   "metadata": {},
   "outputs": [],
   "source": [
    "import pandas as pd\n",
    "import hvplot.pandas #HoloViz\n",
    "import holoviews as hv\n",
    "import panel as pn"
   ]
  },
  {
   "cell_type": "markdown",
   "id": "57313e7a",
   "metadata": {},
   "source": [
    "Note que carreguei os dados direto do ZIP"
   ]
  },
  {
   "cell_type": "code",
   "execution_count": null,
   "id": "b64840a3",
   "metadata": {},
   "outputs": [],
   "source": [
    "water_df = pd.read_csv('Bases/waterPollution.csv.zip')"
   ]
  },
  {
   "cell_type": "code",
   "execution_count": null,
   "id": "133f50e5",
   "metadata": {},
   "outputs": [],
   "source": [
    "water_df.T"
   ]
  },
  {
   "cell_type": "code",
   "execution_count": null,
   "id": "8f6f64bd",
   "metadata": {},
   "outputs": [],
   "source": [
    "fields = list(water_df.columns)"
   ]
  },
  {
   "cell_type": "code",
   "execution_count": null,
   "id": "5209ad93",
   "metadata": {},
   "outputs": [],
   "source": [
    "fields"
   ]
  },
  {
   "cell_type": "code",
   "execution_count": null,
   "id": "a784c51c",
   "metadata": {},
   "outputs": [],
   "source": [
    "water_df.composition_paper_cardboard_percent.hvplot()"
   ]
  },
  {
   "cell_type": "code",
   "execution_count": null,
   "id": "bca70d7a",
   "metadata": {},
   "outputs": [],
   "source": [
    "def gera_grafico(x, y, c, cmap):\n",
    "    return water_df.hvplot.scatter(x=x, y=y, c=c, cmap=cmap, title=\"Raw Water Quality Dataset\")"
   ]
  },
  {
   "cell_type": "code",
   "execution_count": null,
   "id": "1d832dae",
   "metadata": {},
   "outputs": [],
   "source": [
    "pn.extension()"
   ]
  },
  {
   "cell_type": "code",
   "execution_count": null,
   "id": "9d19a810",
   "metadata": {
    "scrolled": true
   },
   "outputs": [],
   "source": [
    "cores = hv.plotting.list_cmaps()\n",
    "kw = dict(x=fields, y=fields, c=fields, cmap=cores)\n",
    "\n",
    "pn.interact(gera_grafico, **kw)"
   ]
  },
  {
   "cell_type": "markdown",
   "id": "ae20a0b8",
   "metadata": {},
   "source": [
    "### Referências:\n",
    "\n",
    "- https://www.kaggle.com/\n",
    "- https://holoviz.org/"
   ]
  }
 ],
 "metadata": {
  "kernelspec": {
   "display_name": "Python 3 (ipykernel)",
   "language": "python",
   "name": "python3"
  },
  "language_info": {
   "codemirror_mode": {
    "name": "ipython",
    "version": 3
   },
   "file_extension": ".py",
   "mimetype": "text/x-python",
   "name": "python",
   "nbconvert_exporter": "python",
   "pygments_lexer": "ipython3",
   "version": "3.9.12"
  }
 },
 "nbformat": 4,
 "nbformat_minor": 5
}
