{
 "cells": [
  {
   "cell_type": "markdown",
   "metadata": {},
   "source": [
    "![Insper](https://github.com/danielscarvalho/Insper-DS-Dicas/blob/master/Insper-Logo.png?raw=true)\n",
    "\n",
    "# Insper Pós-Graduação\n",
    "## Programa Avançado em Data Science e Decisão [»](https://www.insper.edu.br/pos-graduacao/programas-avancados/data-science-e-decisao/)"
   ]
  },
  {
   "cell_type": "markdown",
   "metadata": {},
   "source": [
    "##  Prática: Você quis dizer xxxxx ? \n",
    "\n",
    "\n",
    "- O que você vai treinar nesta prática:\n",
    "     1. Como abrir e processar arquivos txt em Python\n",
    "\n",
    "     2. Como fazer uso de List Comprehension \n",
    "     \n",
    "     3. Utilizar a função Counter\n",
    "     \n",
    "---\n",
    "\n",
    "Inspirado nas brilhantes notas de <a href=\"https://en.wikipedia.org/wiki/Peter_Norvig\">Peter Novig</a>  no texto                <a href=\"https://norvig.com/spell-correct.html\"> How to write a Spelling Corrector\n",
    "</a>.\n",
    "\n",
    "<img src=\"https://grammarcheck.biz/images/sample_check.JPG\" width=\"400px\">\n",
    "\n",
    "<img src=\"https://www.ahead.ie/userfiles/images/AT%20Hive/AT%20Hive%20-%20screenshots/Grammarly-4Categories.png\" width=\"400px\">\n",
    "\n",
    "<img src=\"https://averagelinuxuser.com/assets/images/posts/2019-08-20-languagetool-grammar-checker/1-LanguageTool-online-editor.jpg\" width=\"400px\">\n",
    "\n",
    "\n",
    "- [Grammar check online](https://grammarcheck.biz/)\n",
    "- [Grammarly](https://www.ahead.ie/Grammarly)\n",
    "- [LanguageTool](https://languagetool.org/)\n"
   ]
  },
  {
   "cell_type": "code",
   "execution_count": null,
   "metadata": {
    "ExecuteTime": {
     "end_time": "2020-12-30T23:26:49.730701Z",
     "start_time": "2020-12-30T23:26:49.136164Z"
    }
   },
   "outputs": [],
   "source": [
    "import re\n",
    "from collections import Counter\n",
    "import matplotlib.pyplot as plt"
   ]
  },
  {
   "cell_type": "code",
   "execution_count": null,
   "metadata": {
    "ExecuteTime": {
     "end_time": "2020-12-30T23:26:54.330157Z",
     "start_time": "2020-12-30T23:26:54.327270Z"
    }
   },
   "outputs": [],
   "source": [
    "def words(text): return re.findall(r'\\w+', text.lower())"
   ]
  },
  {
   "cell_type": "code",
   "execution_count": null,
   "metadata": {
    "ExecuteTime": {
     "end_time": "2020-12-30T23:27:20.932211Z",
     "start_time": "2020-12-30T23:27:20.878098Z"
    }
   },
   "outputs": [],
   "source": [
    "# Exemplo de repositório de livros\n",
    "# https://aplauso.imprensaoficial.com.br/edicoes/12.0.813.105/12.0.813.105.txt\n",
    "\n",
    "WORDS = Counter(words(open('Bases/agatha.txt', encoding=\"latin1\").read()))"
   ]
  },
  {
   "cell_type": "code",
   "execution_count": null,
   "metadata": {
    "ExecuteTime": {
     "end_time": "2020-12-30T23:28:15.975095Z",
     "start_time": "2020-12-30T23:28:15.971858Z"
    }
   },
   "outputs": [],
   "source": [
    "def P(word, N=sum(WORDS.values())):\n",
    "    \"\"\"Probabilidade da palavra `word`.\"\"\"\n",
    "    return WORDS[word.lower()] / N"
   ]
  },
  {
   "cell_type": "code",
   "execution_count": null,
   "metadata": {
    "ExecuteTime": {
     "end_time": "2020-12-30T23:28:19.828468Z",
     "start_time": "2020-12-30T23:28:19.825918Z"
    }
   },
   "outputs": [],
   "source": [
    "def correction(word):\n",
    "    \"\"\"Retorna a palavra correta mais provavel\"\"\"\n",
    "    return f'Você quis dizer: {max(candidates(word), key=P)}'"
   ]
  },
  {
   "cell_type": "code",
   "execution_count": null,
   "metadata": {
    "ExecuteTime": {
     "end_time": "2020-12-30T23:28:23.145595Z",
     "start_time": "2020-12-30T23:28:23.142493Z"
    }
   },
   "outputs": [],
   "source": [
    "def candidates(word):\n",
    "    \"\"\"Gera possiveis correções para a palavra\"\"\"\n",
    "    return (known([word]) or known(edits1(word)) or known(edits2(word)) or [word])"
   ]
  },
  {
   "cell_type": "code",
   "execution_count": null,
   "metadata": {
    "ExecuteTime": {
     "end_time": "2020-12-30T23:28:26.730459Z",
     "start_time": "2020-12-30T23:28:26.727570Z"
    }
   },
   "outputs": [],
   "source": [
    "def known(words):\n",
    "    return set(w for w in words if w in WORDS)"
   ]
  },
  {
   "cell_type": "code",
   "execution_count": null,
   "metadata": {
    "ExecuteTime": {
     "end_time": "2020-12-30T23:28:30.497521Z",
     "start_time": "2020-12-30T23:28:30.491262Z"
    }
   },
   "outputs": [],
   "source": [
    "def edits1(word):\n",
    "    letters = 'abcdefghijklmnopqrstuvwxyz'\n",
    "    splits = [(word[:i], word[i:]) for i in range(len(word) + 1)]\n",
    "    deletes = [L + R[1:] for L, R in splits if R]  # remove uma letra\n",
    "    transposes = [L + R[1] + R[0] + R[2:]\n",
    "                  for L, R in splits if len(R) > 1]  # troca duas letras adjacentes\n",
    "    replaces = [L + c + R[1:] for L, R in splits if R for c in letters]\n",
    "    inserts = [L + c + R for L, R in splits for c in letters]\n",
    "    return set(deletes + transposes + replaces + inserts)"
   ]
  },
  {
   "cell_type": "code",
   "execution_count": null,
   "metadata": {
    "ExecuteTime": {
     "end_time": "2020-12-30T23:28:34.365048Z",
     "start_time": "2020-12-30T23:28:34.362229Z"
    }
   },
   "outputs": [],
   "source": [
    "def edits2(word):\n",
    "    \"All edits that are two edits away from `word`.\"\n",
    "    return (e2 for e1 in edits1(word) for e2 in edits1(e1))"
   ]
  },
  {
   "cell_type": "markdown",
   "metadata": {},
   "source": [
    "## Teste aqui"
   ]
  },
  {
   "cell_type": "code",
   "execution_count": null,
   "metadata": {
    "ExecuteTime": {
     "end_time": "2020-12-30T23:28:42.314338Z",
     "start_time": "2020-12-30T23:28:42.310660Z"
    }
   },
   "outputs": [],
   "source": [
    "correction('corajem')"
   ]
  },
  {
   "cell_type": "code",
   "execution_count": null,
   "metadata": {
    "ExecuteTime": {
     "end_time": "2020-12-30T23:29:15.555788Z",
     "start_time": "2020-12-30T23:29:15.552197Z"
    }
   },
   "outputs": [],
   "source": [
    "correction('caza')"
   ]
  },
  {
   "cell_type": "markdown",
   "metadata": {},
   "source": [
    "## Compreendendo como funciona\n",
    "\n",
    "## Verificando palavras candidatas:\n",
    "\n"
   ]
  },
  {
   "cell_type": "code",
   "execution_count": null,
   "metadata": {
    "ExecuteTime": {
     "end_time": "2020-12-30T23:29:28.530389Z",
     "start_time": "2020-12-30T23:29:28.527933Z"
    }
   },
   "outputs": [],
   "source": [
    "letters = 'abcdefghijklmnopqrstuvwxyz'"
   ]
  },
  {
   "cell_type": "code",
   "execution_count": null,
   "metadata": {
    "ExecuteTime": {
     "end_time": "2020-12-30T23:29:32.626485Z",
     "start_time": "2020-12-30T23:29:32.623584Z"
    }
   },
   "outputs": [],
   "source": [
    "word = 'casa'"
   ]
  },
  {
   "cell_type": "markdown",
   "metadata": {
    "ExecuteTime": {
     "end_time": "2020-12-30T23:29:37.155887Z",
     "start_time": "2020-12-30T23:29:37.152539Z"
    }
   },
   "source": [
    "Edição simples:\n",
    "\n",
    "1. Verificando todas as formas possiveis de fazer split da palavra"
   ]
  },
  {
   "cell_type": "code",
   "execution_count": null,
   "metadata": {
    "ExecuteTime": {
     "end_time": "2020-12-30T23:29:45.779934Z",
     "start_time": "2020-12-30T23:29:45.776878Z"
    }
   },
   "outputs": [],
   "source": [
    "spl = [(word[:i], word[i:]) for i in range(len(word)+1)]"
   ]
  },
  {
   "cell_type": "code",
   "execution_count": null,
   "metadata": {
    "ExecuteTime": {
     "end_time": "2020-12-30T23:29:50.366997Z",
     "start_time": "2020-12-30T23:29:50.364099Z"
    }
   },
   "outputs": [],
   "source": [
    "spl"
   ]
  },
  {
   "cell_type": "markdown",
   "metadata": {
    "ExecuteTime": {
     "end_time": "2020-12-30T23:29:56.385448Z",
     "start_time": "2020-12-30T23:29:56.382176Z"
    }
   },
   "source": [
    "2. Edição por deleção (removendo um caracter da palavra)'"
   ]
  },
  {
   "cell_type": "code",
   "execution_count": null,
   "metadata": {
    "ExecuteTime": {
     "end_time": "2020-12-30T23:30:04.019559Z",
     "start_time": "2020-12-30T23:30:04.015618Z"
    }
   },
   "outputs": [],
   "source": [
    "[L + R[1:] for L, R in spl if R]"
   ]
  },
  {
   "cell_type": "markdown",
   "metadata": {},
   "source": [
    "3. Edição por transposição (trocando dois caracteres adjacentes)"
   ]
  },
  {
   "cell_type": "code",
   "execution_count": null,
   "metadata": {
    "ExecuteTime": {
     "end_time": "2020-12-30T23:30:13.621581Z",
     "start_time": "2020-12-30T23:30:13.617488Z"
    }
   },
   "outputs": [],
   "source": [
    "[L + R[1] + R[0] + R[2:] for L, R in spl if len(R) > 1]"
   ]
  },
  {
   "cell_type": "markdown",
   "metadata": {},
   "source": [
    "4. Edição por substituição (troca uma letra por outra do alfabeto)"
   ]
  },
  {
   "cell_type": "code",
   "execution_count": null,
   "metadata": {
    "ExecuteTime": {
     "end_time": "2020-12-30T23:30:24.211579Z",
     "start_time": "2020-12-30T23:30:24.206232Z"
    }
   },
   "outputs": [],
   "source": [
    "[L + c + R[1:] for L, R in spl if R for c in letters]"
   ]
  },
  {
   "cell_type": "markdown",
   "metadata": {},
   "source": [
    "5. Edição por inserção (adiciona uma letra):"
   ]
  },
  {
   "cell_type": "code",
   "execution_count": null,
   "metadata": {
    "ExecuteTime": {
     "end_time": "2020-12-30T23:30:36.302231Z",
     "start_time": "2020-12-30T23:30:36.296555Z"
    }
   },
   "outputs": [],
   "source": [
    "[L + c + R for L, R in spl for c in letters]"
   ]
  },
  {
   "cell_type": "markdown",
   "metadata": {},
   "source": [
    "Referências:\n",
    "\n",
    "- https://docs.python.org/pt-br/3/reference/lexical_analysis.html#keywords"
   ]
  }
 ],
 "metadata": {
  "kernelspec": {
   "display_name": "Python 3 (ipykernel)",
   "language": "python",
   "name": "python3"
  },
  "language_info": {
   "codemirror_mode": {
    "name": "ipython",
    "version": 3
   },
   "file_extension": ".py",
   "mimetype": "text/x-python",
   "name": "python",
   "nbconvert_exporter": "python",
   "pygments_lexer": "ipython3",
   "version": "3.11.5"
  },
  "toc": {
   "base_numbering": 1,
   "nav_menu": {},
   "number_sections": true,
   "sideBar": true,
   "skip_h1_title": false,
   "title_cell": "Table of Contents",
   "title_sidebar": "Contents",
   "toc_cell": false,
   "toc_position": {},
   "toc_section_display": true,
   "toc_window_display": false
  }
 },
 "nbformat": 4,
 "nbformat_minor": 4
}
