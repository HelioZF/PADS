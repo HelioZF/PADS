{
 "cells": [
  {
   "cell_type": "markdown",
   "metadata": {},
   "source": [
    "![Insper](https://github.com/danielscarvalho/Insper-DS-Dicas/blob/master/Insper-Logo.png?raw=true)\n",
    "\n",
    "# Insper Pós-Graduação\n",
    "## Programa Avançado em Data Science e Decisão [»](https://www.insper.edu.br/pos-graduacao/programas-avancados/data-science-e-decisao/)"
   ]
  },
  {
   "cell_type": "markdown",
   "metadata": {},
   "source": [
    "# PADSW04 - Checkpoint de aprendizagem\n",
    "\n",
    "<img src=\"https://s2.glbimg.com/yRAg4neotKdKHDgjKDStFucWDfw=/0x0:5278x3519/984x0/smart/filters:strip_icc()/i.s3.glbimg.com/v1/AUTH_59edd422c0c84a879bd37670ae4f538a/internal_photos/bs/2020/I/z/geO9zzSuA9FkloAFqTHg/000-8vd68k.jpg\" width=\"500\"/>\n",
    "\n",
    "<p style=\"text-align:center;\">Imagem: https://bit.ly/3sxlQfQ</p>\n",
    "\n",
    "\n",
    "Esta prática faz uso de *dados reais* disponibilizados no repositório : https://github.com/wcota/covid19br/blob/master/DESCRIPTION.md \n",
    "\n",
    "Ele contém a série histórica de casos de COVID-19 no Brasil. Há arquivos com dados consolidados por estado e outros focados em municípios. Além disso, há arquivos com informações auxiliares sobre os municípios e as fontes de dados. \n",
    "\n",
    "\n",
    "### Dados  \n",
    "\n",
    "Utilizaremos os seguintes arquivos disponibilizados neste repositório:\n",
    "\n",
    "- `cases-brazil-states.csv` - série histórica completa de casos de COVID-19 no Brasil por estado\n",
    "- `cases-brazil-cities.csv` - dados de COVID-19 no Brasil por município, do último dia disponível \n",
    "- `cities_info.csv` - informações adicionais sobre o município, como população, se o local é região metropolitana, etc\n",
    "- `gps_cities.csv` - coordenadas GPS de cada município\n",
    "\n",
    "Você não precisa baixar os dados, pode consumi-los online por meio de comandos como: \n",
    "\n",
    "```python\n",
    "    import pandas as pd \n",
    "    df = pd.read_csv(\"https://raw.githubusercontent.com/wcota/covid19br/master/cases-brazil-states.csv\")\n",
    "```\n",
    "\n",
    "_DICA_ : acesse o repositório para conhecer o Dicionário das Variáveis! \n",
    "\n",
    "\n",
    "### Exercícios \n",
    "\n",
    "Você tem algumas tarefas a serem realizadas:\n",
    "\n",
    "1. Considerando o arquivo `cases-brazil-states.csv`, responda: \n",
    "\n",
    "    a. [**0,25 ponto**] Quantas linhas e colunas ele possui? \n",
    "    \n",
    "    b. [**0,25 ponto**] Quais são os tipos de dados das variáveis? \n",
    "    \n",
    "    c. [**0,25 ponto**] Obtenha estatísticas básicas sobre estes dados (valores médios, mínimos, máximos, etc). Todos os números fazem sentido?\n",
    "    \n",
    "    d. [**0,25 ponto**] Converta a coluna `date` para o formato `DateTime`\n",
    "    \n",
    "\n",
    "2. Considerando o arquivo `cases-brazil-cities.csv`, responda: \n",
    "\n",
    "    a. [**1 ponto**] Quantas cidades _distintas_ existem? \n",
    "    \n",
    "    b. [**1 ponto**] O arquivo lista os casos por município no último dia. Obtenha por meio de manipulação deste arquivo um DataFrame com o número de casos e de mortes por estado \n",
    "    \n",
    "    \n",
    "3. [**1 ponto**] Na data de 25/fevereiro/2021, quais são os TOP10 estados com mais imunizados? Lembre-se: só está imunizado quem tomou a 2ª dose da vacina. \n",
    "\n",
    "4. [**2 pontos**] Encontre as TOP5 cidades do seu estado com o menor índice de mortalidade de COVID-19. \n",
    "\n",
    "5. [**2 pontos**] A partir das TOP5 cidades encontradas no _item 4._ , construa um dataframe com informações sobre este município (inclua as colunas: `código IBGE, nome completo, latitude, longitude, população 2020, indicação se a cidade é região metropolitana ou não`)\n",
    "\n",
    "6. [**2 pontos**] Faça um gráfico que mostre a evolução histórica de novos casos nos últimos 7 dias, comparando o TOTAL do Brasil com o TOTAL do estado de RJ, na mesma imagem \n",
    "\n",
    "\n",
    "\n",
    "### Data de entrega\n",
    "\n",
    "Estes exercícios devem ser feitos em sala de aula, com entrega via BlackBoard até às 18h. IMPORTANTE: renomeie o notebook incluindo seu nome!\n",
    "\n",
    "Em caso de dúvidas, chame o professor. Consultas aos materiais/Internet são permitidas. Bom trabalho! "
   ]
  },
  {
   "cell_type": "code",
   "execution_count": 3,
   "metadata": {},
   "outputs": [],
   "source": [
    "import pandas as pd \n",
    "\n",
    "df = pd.read_csv(\"https://raw.githubusercontent.com/wcota/covid19br/master/cases-brazil-states.csv\")"
   ]
  },
  {
   "cell_type": "markdown",
   "metadata": {},
   "source": [
    "## 1\n",
    "___"
   ]
  },
  {
   "cell_type": "markdown",
   "metadata": {},
   "source": [
    "### A"
   ]
  },
  {
   "cell_type": "code",
   "execution_count": 6,
   "metadata": {},
   "outputs": [
    {
     "name": "stdout",
     "output_type": "stream",
     "text": [
      "Número de linhas: 30842\n",
      "Número de colunas: 26\n"
     ]
    }
   ],
   "source": [
    "num_linhas, num_colunas = df.shape\n",
    "print(f\"Número de linhas: {num_linhas}\")\n",
    "print(f\"Número de colunas: {num_colunas}\")"
   ]
  },
  {
   "cell_type": "markdown",
   "metadata": {},
   "source": [
    "### B"
   ]
  },
  {
   "cell_type": "code",
   "execution_count": 7,
   "metadata": {},
   "outputs": [
    {
     "name": "stdout",
     "output_type": "stream",
     "text": [
      "epi_week                                   int64\n",
      "date                                      object\n",
      "country                                   object\n",
      "state                                     object\n",
      "city                                      object\n",
      "newDeaths                                  int64\n",
      "deaths                                     int64\n",
      "newCases                                   int64\n",
      "totalCases                                 int64\n",
      "deathsMS                                   int64\n",
      "totalCasesMS                               int64\n",
      "deaths_per_100k_inhabitants              float64\n",
      "totalCases_per_100k_inhabitants          float64\n",
      "deaths_by_totalCases                     float64\n",
      "recovered                                float64\n",
      "suspects                                 float64\n",
      "tests                                    float64\n",
      "tests_per_100k_inhabitants               float64\n",
      "vaccinated                               float64\n",
      "vaccinated_per_100_inhabitants           float64\n",
      "vaccinated_second                        float64\n",
      "vaccinated_second_per_100_inhabitants    float64\n",
      "vaccinated_single                        float64\n",
      "vaccinated_single_per_100_inhabitants    float64\n",
      "vaccinated_third                         float64\n",
      "vaccinated_third_per_100_inhabitants     float64\n",
      "dtype: object\n"
     ]
    }
   ],
   "source": [
    "print(df.dtypes)"
   ]
  },
  {
   "cell_type": "markdown",
   "metadata": {},
   "source": [
    "### C"
   ]
  },
  {
   "cell_type": "code",
   "execution_count": 12,
   "metadata": {},
   "outputs": [
    {
     "name": "stdout",
     "output_type": "stream",
     "text": [
      "           epi_week     newDeaths         deaths       newCases    totalCases  \\\n",
      "count  30842.000000  30842.000000   30842.000000   30842.000000  3.084200e+04   \n",
      "mean     146.739446     45.347902   32058.683873    2404.871279  1.395334e+06   \n",
      "std       87.895637    187.855717   96880.393547    9104.676302  4.339018e+06   \n",
      "min        9.000000    -43.000000       0.000000  -19581.000000  1.000000e+00   \n",
      "25%       50.000000      1.000000    2627.000000      83.000000  1.479220e+05   \n",
      "50%      137.000000      6.000000    8429.500000     450.000000  3.774810e+05   \n",
      "75%      224.000000     23.000000   20850.500000    1433.750000  9.398152e+05   \n",
      "max      311.000000   4146.000000  699310.000000  285396.000000  3.708552e+07   \n",
      "\n",
      "            deathsMS  totalCasesMS  deaths_per_100k_inhabitants  \\\n",
      "count   30842.000000  3.084200e+04                 30842.000000   \n",
      "mean    32052.913430  1.395038e+06                   207.608601   \n",
      "std     96872.497689  4.338608e+06                   126.552746   \n",
      "min         0.000000  0.000000e+00                     0.000000   \n",
      "25%      2624.000000  1.476890e+05                    91.624295   \n",
      "50%      8422.000000  3.772660e+05                   218.700400   \n",
      "75%     20849.000000  9.395288e+05                   312.147713   \n",
      "max    699310.000000  3.708552e+07                   445.133240   \n",
      "\n",
      "       totalCases_per_100k_inhabitants  deaths_by_totalCases  ...  \\\n",
      "count                     30842.000000          30842.000000  ...   \n",
      "mean                      10620.583377              0.023812  ...   \n",
      "std                        7803.545079              0.012996  ...   \n",
      "min                           0.000470              0.000000  ...   \n",
      "25%                        3876.741667              0.016680  ...   \n",
      "50%                        9968.647755              0.021550  ...   \n",
      "75%                       15224.854165              0.026020  ...   \n",
      "max                       32936.309460              0.222220  ...   \n",
      "\n",
      "              tests  tests_per_100k_inhabitants    vaccinated  \\\n",
      "count  2.950800e+04                29508.000000  2.211100e+04   \n",
      "mean   3.562610e+06                24621.527677  9.802526e+06   \n",
      "std    1.044924e+07                16505.421680  2.808422e+07   \n",
      "min    8.540000e+02                   36.761660  2.000000e+00   \n",
      "25%    4.104490e+05                12404.627492  1.054924e+06   \n",
      "50%    9.807270e+05                23225.858190  2.811407e+06   \n",
      "75%    2.313502e+06                32854.756100  6.869551e+06   \n",
      "max    7.092322e+07                68117.361340  1.838694e+08   \n",
      "\n",
      "       vaccinated_per_100_inhabitants  vaccinated_second  \\\n",
      "count                    22111.000000       2.147600e+04   \n",
      "mean                        62.311150       8.267940e+06   \n",
      "std                         28.920119       2.464746e+07   \n",
      "min                          0.000010       4.000000e+00   \n",
      "25%                         45.515395       5.938220e+05   \n",
      "50%                         74.668310       2.319006e+06   \n",
      "75%                         83.564280       5.850360e+06   \n",
      "max                         96.646030       1.703860e+08   \n",
      "\n",
      "       vaccinated_second_per_100_inhabitants  vaccinated_single  \\\n",
      "count                           21476.000000       1.785100e+04   \n",
      "mean                               51.308267       3.598113e+05   \n",
      "std                                28.730230       9.467502e+05   \n",
      "min                                 0.000050       1.900000e+01   \n",
      "25%                                20.806393       5.392100e+04   \n",
      "50%                                63.164295       1.151440e+05   \n",
      "75%                                75.451590       2.773560e+05   \n",
      "max                                88.976590       5.759211e+06   \n",
      "\n",
      "       vaccinated_single_per_100_inhabitants  vaccinated_third  \\\n",
      "count                           17851.000000      1.573200e+04   \n",
      "mean                                2.431704      5.745770e+06   \n",
      "std                                 1.633221      1.726811e+07   \n",
      "min                                 0.000010      1.000000e+00   \n",
      "25%                                 1.742430      3.449805e+05   \n",
      "50%                                 2.060880      1.453763e+06   \n",
      "75%                                 2.684260      3.739890e+06   \n",
      "max                                11.608060      1.263480e+08   \n",
      "\n",
      "       vaccinated_third_per_100_inhabitants  \n",
      "count                          15732.000000  \n",
      "mean                              33.545352  \n",
      "std                               21.658096  \n",
      "min                                0.000000  \n",
      "25%                               13.297130  \n",
      "50%                               34.763495  \n",
      "75%                               53.799633  \n",
      "max                               75.704830  \n",
      "\n",
      "[8 rows x 22 columns]\n"
     ]
    }
   ],
   "source": [
    "print(df.describe())"
   ]
  },
  {
   "cell_type": "markdown",
   "metadata": {},
   "source": [
    "___\n",
    "Analise dos dados:\n",
    "* Nem todos os valores fazem sentido, como podemos ver temos um número negativo no valor mínimo da variável \"newCases\", o que não faz muito sentido. O mesmo vale para \"newDeaths"
   ]
  },
  {
   "cell_type": "markdown",
   "metadata": {},
   "source": [
    "### D"
   ]
  },
  {
   "cell_type": "code",
   "execution_count": 19,
   "metadata": {},
   "outputs": [
    {
     "data": {
      "text/plain": [
       "dtype('<M8[ns]')"
      ]
     },
     "execution_count": 19,
     "metadata": {},
     "output_type": "execute_result"
    }
   ],
   "source": [
    "df['date'].dtype"
   ]
  },
  {
   "cell_type": "code",
   "execution_count": 18,
   "metadata": {},
   "outputs": [
    {
     "data": {
      "text/plain": [
       "dtype('<M8[ns]')"
      ]
     },
     "execution_count": 18,
     "metadata": {},
     "output_type": "execute_result"
    }
   ],
   "source": [
    "# Converter a coluna 'date' para o formato DateTime\n",
    "df['date'] = pd.to_datetime(df['date'])\n",
    "\n",
    "df['date'].dtype\n"
   ]
  },
  {
   "cell_type": "markdown",
   "metadata": {},
   "source": [
    "![Força](https://github.com/danielscarvalho/Insper-DS-Dicas/blob/master/img/for%C3%A7a.jpg?raw=true)"
   ]
  }
 ],
 "metadata": {
  "kernelspec": {
   "display_name": "Python 3 (ipykernel)",
   "language": "python",
   "name": "python3"
  },
  "language_info": {
   "codemirror_mode": {
    "name": "ipython",
    "version": 3
   },
   "file_extension": ".py",
   "mimetype": "text/x-python",
   "name": "python",
   "nbconvert_exporter": "python",
   "pygments_lexer": "ipython3",
   "version": "3.11.7"
  },
  "toc": {
   "base_numbering": 1,
   "nav_menu": {},
   "number_sections": true,
   "sideBar": true,
   "skip_h1_title": false,
   "title_cell": "Table of Contents",
   "title_sidebar": "Contents",
   "toc_cell": false,
   "toc_position": {},
   "toc_section_display": true,
   "toc_window_display": false
  }
 },
 "nbformat": 4,
 "nbformat_minor": 4
}
