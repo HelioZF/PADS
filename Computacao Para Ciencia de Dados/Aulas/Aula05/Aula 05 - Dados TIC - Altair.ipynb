{
 "cells": [
  {
   "cell_type": "markdown",
   "metadata": {},
   "source": [
    "![Insper](https://github.com/danielscarvalho/Insper-DS-Dicas/blob/master/Insper-Logo.png?raw=true)\n",
    "\n",
    "# Insper Pós-Graduação\n",
    "## Programa Avançado em Data Science e Decisão [»](https://www.insper.edu.br/pos-graduacao/programas-avancados/data-science-e-decisao/)"
   ]
  },
  {
   "cell_type": "markdown",
   "metadata": {
    "slideshow": {
     "slide_type": "slide"
    }
   },
   "source": [
    "# Aula 05 - Arquivos .SAV, gráficos com **altair**"
   ]
  },
  {
   "cell_type": "markdown",
   "metadata": {},
   "source": [
    "Arquivo .SAV gerado com o \"IBM SPSS STATISTICS\""
   ]
  },
  {
   "cell_type": "markdown",
   "metadata": {
    "slideshow": {
     "slide_type": "slide"
    }
   },
   "source": [
    "## Pesquisa TIC Domicílios 2019\n",
    "\n",
    "Realizada anualmente desde 2005, a pesquisa TIC Domicílios tem o objetivo de mapear o acesso às TIC nos domicílios urbanos e rurais do país e as suas formas de uso por indivíduos de 10 anos de idade ou mais.\n",
    "\n",
    "A pesquisa TIC Domicílios conta com módulos fixos (coleta anual) e módulos rotativos (outras periodicidades). Os indicadores gerados pela pesquisa oferecem um cenário do acesso e do uso de TIC do Brasil, abordando diversos temas, tais como:\n",
    "\n",
    "Acesso às TIC;\n",
    "Uso do computador;\n",
    "Uso da Internet;\n",
    "Habilidades na Internet;\n",
    "Uso do celular;\n",
    "Governo eletrônico;\n",
    "Comércio eletrônico;\n",
    "Atividades culturais na Internet.\n",
    "\n",
    "A última pesquisa disponível é a do ano de 2019, e todos os dados encontram-se disponíveis em https://cetic.br/pt/pesquisa/domicilios/microdados/"
   ]
  },
  {
   "cell_type": "code",
   "execution_count": 35,
   "metadata": {},
   "outputs": [],
   "source": [
    "#Talvez seja necessário no seu sistema...\n",
    "#!conda install altair -y"
   ]
  },
  {
   "cell_type": "code",
   "execution_count": 36,
   "metadata": {
    "scrolled": true
   },
   "outputs": [],
   "source": [
    "#Talvez seja necessário no seu sistema...\n",
    "#!conda install pyreadstat -y\n",
    "#!conda install -c conda-forge pyreadstat -y\n"
   ]
  },
  {
   "cell_type": "code",
   "execution_count": 37,
   "metadata": {
    "ExecuteTime": {
     "end_time": "2021-02-27T00:07:26.553279Z",
     "start_time": "2021-02-27T00:07:25.805834Z"
    },
    "slideshow": {
     "slide_type": "slide"
    }
   },
   "outputs": [],
   "source": [
    "import pandas as pd\n",
    "import numpy as np\n",
    "import pyreadstat\n",
    "import altair as alt"
   ]
  },
  {
   "cell_type": "markdown",
   "metadata": {
    "slideshow": {
     "slide_type": "slide"
    }
   },
   "source": [
    "O arquivo que vamos trabalhar possui a extensão .SAV, formato este proveniente do software SPSS (*Statistical Package for the Social Science*). Como o próprio nome sugere, é um software com pacote estatístico para construção, controle, inserção, obtenção de resultados e tomada de decisões baseadas em estatísticas. Entre muitos outros softwares, o SPSS caracteriza-se pela fácil utilização do usuário final, ou seja, como tudo que se deseja no programa pode ser feito através do sistema point and click (apontar e clicar), não é necessário que o usuário final seja programador, como acontece com muitos outros programas estatísticos. O arquivo .sav armazena todas as informações do banco de dados, como definição de variáveis e dados inseridos. \n",
    "\n",
    "Observe bem, ele armazena DADOS e DEFINIÇÃO DE VARIÁVEIS. E isso é ótimo para nós. Vamos ler este arquivo por meio da biblioteca pyreadstat.  Observe que nosso arquivo apresenta um encoding diferente ('latin1'). Você sabe explicar o que isso significa?\n"
   ]
  },
  {
   "cell_type": "code",
   "execution_count": 38,
   "metadata": {},
   "outputs": [
    {
     "name": "stdout",
     "output_type": "stream",
     "text": [
      "head: cannot open 'Bases/ticdom_2019_individuos_base_de_microdados_v1.0.SAV' for reading: No such file or directory\n"
     ]
    }
   ],
   "source": [
    "#Linux, Mac, Unix\n",
    "!head Bases/ticdom_2019_individuos_base_de_microdados_v1.0.SAV"
   ]
  },
  {
   "cell_type": "markdown",
   "metadata": {},
   "source": [
    "Character Set\n",
    "\n",
    "- ASCII\n",
    "- ISO-8859-1, Lating1\n",
    "- UTF-8 (Unicode)"
   ]
  },
  {
   "cell_type": "code",
   "execution_count": 39,
   "metadata": {
    "ExecuteTime": {
     "end_time": "2021-02-27T00:11:23.112329Z",
     "start_time": "2021-02-27T00:11:22.417193Z"
    },
    "slideshow": {
     "slide_type": "slide"
    }
   },
   "outputs": [],
   "source": [
    "df, meta = pyreadstat.read_sav('ticdom_2019_individuos_base_de_microdados_v1.0.SAV', encoding='latin1')"
   ]
  },
  {
   "cell_type": "code",
   "execution_count": 40,
   "metadata": {},
   "outputs": [
    {
     "data": {
      "text/plain": [
       "pandas.core.frame.DataFrame"
      ]
     },
     "execution_count": 40,
     "metadata": {},
     "output_type": "execute_result"
    }
   ],
   "source": [
    "type(df)"
   ]
  },
  {
   "cell_type": "code",
   "execution_count": 41,
   "metadata": {},
   "outputs": [
    {
     "data": {
      "text/plain": [
       "pyreadstat._readstat_parser.metadata_container"
      ]
     },
     "execution_count": 41,
     "metadata": {},
     "output_type": "execute_result"
    }
   ],
   "source": [
    "type(meta)"
   ]
  },
  {
   "cell_type": "code",
   "execution_count": 42,
   "metadata": {
    "ExecuteTime": {
     "end_time": "2021-02-27T00:12:47.755857Z",
     "start_time": "2021-02-27T00:12:47.720718Z"
    },
    "scrolled": true,
    "slideshow": {
     "slide_type": "slide"
    }
   },
   "outputs": [
    {
     "data": {
      "text/html": [
       "<div>\n",
       "<style scoped>\n",
       "    .dataframe tbody tr th:only-of-type {\n",
       "        vertical-align: middle;\n",
       "    }\n",
       "\n",
       "    .dataframe tbody tr th {\n",
       "        vertical-align: top;\n",
       "    }\n",
       "\n",
       "    .dataframe thead th {\n",
       "        text-align: right;\n",
       "    }\n",
       "</style>\n",
       "<table border=\"1\" class=\"dataframe\">\n",
       "  <thead>\n",
       "    <tr style=\"text-align: right;\">\n",
       "      <th></th>\n",
       "      <th>QUEST</th>\n",
       "      <th>ID_DOMICILIO</th>\n",
       "      <th>ID_MORADOR</th>\n",
       "      <th>SEXO</th>\n",
       "      <th>IDADE</th>\n",
       "      <th>FAIXA_ETARIA</th>\n",
       "      <th>GRAU_INSTRUCAO</th>\n",
       "      <th>PEA</th>\n",
       "      <th>RENDA_PESSOAL</th>\n",
       "      <th>RELIGIAO</th>\n",
       "      <th>...</th>\n",
       "      <th>C5_COB_AGREG</th>\n",
       "      <th>C5_COB_NENHUM</th>\n",
       "      <th>C3J3</th>\n",
       "      <th>J3_AGREG</th>\n",
       "      <th>COD_REGIAO_2</th>\n",
       "      <th>GRAU_INSTRUCAO_2</th>\n",
       "      <th>RENDA_FAMILIAR_2</th>\n",
       "      <th>PEA_2</th>\n",
       "      <th>ESTRATO</th>\n",
       "      <th>UPA</th>\n",
       "    </tr>\n",
       "  </thead>\n",
       "  <tbody>\n",
       "    <tr>\n",
       "      <th>0</th>\n",
       "      <td>115431313.0</td>\n",
       "      <td>1.0</td>\n",
       "      <td>1.0</td>\n",
       "      <td>1.0</td>\n",
       "      <td>37.0</td>\n",
       "      <td>3.0</td>\n",
       "      <td>10.0</td>\n",
       "      <td>1.0</td>\n",
       "      <td>2.0</td>\n",
       "      <td>1.0</td>\n",
       "      <td>...</td>\n",
       "      <td>0.0</td>\n",
       "      <td>1.0</td>\n",
       "      <td>1.0</td>\n",
       "      <td>1.0</td>\n",
       "      <td>4.0</td>\n",
       "      <td>3.0</td>\n",
       "      <td>3.0</td>\n",
       "      <td>1.0</td>\n",
       "      <td>49.0</td>\n",
       "      <td>295.0</td>\n",
       "    </tr>\n",
       "    <tr>\n",
       "      <th>1</th>\n",
       "      <td>115431314.0</td>\n",
       "      <td>2.0</td>\n",
       "      <td>1.0</td>\n",
       "      <td>2.0</td>\n",
       "      <td>27.0</td>\n",
       "      <td>2.0</td>\n",
       "      <td>10.0</td>\n",
       "      <td>1.0</td>\n",
       "      <td>2.0</td>\n",
       "      <td>3.0</td>\n",
       "      <td>...</td>\n",
       "      <td>0.0</td>\n",
       "      <td>1.0</td>\n",
       "      <td>1.0</td>\n",
       "      <td>1.0</td>\n",
       "      <td>4.0</td>\n",
       "      <td>3.0</td>\n",
       "      <td>2.0</td>\n",
       "      <td>1.0</td>\n",
       "      <td>49.0</td>\n",
       "      <td>295.0</td>\n",
       "    </tr>\n",
       "    <tr>\n",
       "      <th>2</th>\n",
       "      <td>115431315.0</td>\n",
       "      <td>3.0</td>\n",
       "      <td>2.0</td>\n",
       "      <td>2.0</td>\n",
       "      <td>19.0</td>\n",
       "      <td>1.0</td>\n",
       "      <td>10.0</td>\n",
       "      <td>1.0</td>\n",
       "      <td>1.0</td>\n",
       "      <td>3.0</td>\n",
       "      <td>...</td>\n",
       "      <td>0.0</td>\n",
       "      <td>1.0</td>\n",
       "      <td>1.0</td>\n",
       "      <td>1.0</td>\n",
       "      <td>4.0</td>\n",
       "      <td>3.0</td>\n",
       "      <td>2.0</td>\n",
       "      <td>1.0</td>\n",
       "      <td>49.0</td>\n",
       "      <td>295.0</td>\n",
       "    </tr>\n",
       "    <tr>\n",
       "      <th>3</th>\n",
       "      <td>115431316.0</td>\n",
       "      <td>4.0</td>\n",
       "      <td>1.0</td>\n",
       "      <td>2.0</td>\n",
       "      <td>23.0</td>\n",
       "      <td>1.0</td>\n",
       "      <td>12.0</td>\n",
       "      <td>1.0</td>\n",
       "      <td>2.0</td>\n",
       "      <td>3.0</td>\n",
       "      <td>...</td>\n",
       "      <td>0.0</td>\n",
       "      <td>1.0</td>\n",
       "      <td>1.0</td>\n",
       "      <td>1.0</td>\n",
       "      <td>4.0</td>\n",
       "      <td>4.0</td>\n",
       "      <td>2.0</td>\n",
       "      <td>1.0</td>\n",
       "      <td>49.0</td>\n",
       "      <td>295.0</td>\n",
       "    </tr>\n",
       "    <tr>\n",
       "      <th>4</th>\n",
       "      <td>116724798.0</td>\n",
       "      <td>5.0</td>\n",
       "      <td>1.0</td>\n",
       "      <td>1.0</td>\n",
       "      <td>60.0</td>\n",
       "      <td>5.0</td>\n",
       "      <td>3.0</td>\n",
       "      <td>5.0</td>\n",
       "      <td>2.0</td>\n",
       "      <td>1.0</td>\n",
       "      <td>...</td>\n",
       "      <td>0.0</td>\n",
       "      <td>1.0</td>\n",
       "      <td>1.0</td>\n",
       "      <td>1.0</td>\n",
       "      <td>4.0</td>\n",
       "      <td>1.0</td>\n",
       "      <td>2.0</td>\n",
       "      <td>2.0</td>\n",
       "      <td>49.0</td>\n",
       "      <td>295.0</td>\n",
       "    </tr>\n",
       "  </tbody>\n",
       "</table>\n",
       "<p>5 rows × 249 columns</p>\n",
       "</div>"
      ],
      "text/plain": [
       "         QUEST  ID_DOMICILIO  ID_MORADOR  SEXO  IDADE  FAIXA_ETARIA  \\\n",
       "0  115431313.0           1.0         1.0   1.0   37.0           3.0   \n",
       "1  115431314.0           2.0         1.0   2.0   27.0           2.0   \n",
       "2  115431315.0           3.0         2.0   2.0   19.0           1.0   \n",
       "3  115431316.0           4.0         1.0   2.0   23.0           1.0   \n",
       "4  116724798.0           5.0         1.0   1.0   60.0           5.0   \n",
       "\n",
       "   GRAU_INSTRUCAO  PEA  RENDA_PESSOAL  RELIGIAO  ...  C5_COB_AGREG  \\\n",
       "0            10.0  1.0            2.0       1.0  ...           0.0   \n",
       "1            10.0  1.0            2.0       3.0  ...           0.0   \n",
       "2            10.0  1.0            1.0       3.0  ...           0.0   \n",
       "3            12.0  1.0            2.0       3.0  ...           0.0   \n",
       "4             3.0  5.0            2.0       1.0  ...           0.0   \n",
       "\n",
       "   C5_COB_NENHUM  C3J3  J3_AGREG  COD_REGIAO_2  GRAU_INSTRUCAO_2  \\\n",
       "0            1.0   1.0       1.0           4.0               3.0   \n",
       "1            1.0   1.0       1.0           4.0               3.0   \n",
       "2            1.0   1.0       1.0           4.0               3.0   \n",
       "3            1.0   1.0       1.0           4.0               4.0   \n",
       "4            1.0   1.0       1.0           4.0               1.0   \n",
       "\n",
       "   RENDA_FAMILIAR_2  PEA_2  ESTRATO    UPA  \n",
       "0               3.0    1.0     49.0  295.0  \n",
       "1               2.0    1.0     49.0  295.0  \n",
       "2               2.0    1.0     49.0  295.0  \n",
       "3               2.0    1.0     49.0  295.0  \n",
       "4               2.0    2.0     49.0  295.0  \n",
       "\n",
       "[5 rows x 249 columns]"
      ]
     },
     "execution_count": 42,
     "metadata": {},
     "output_type": "execute_result"
    }
   ],
   "source": [
    "df.head(5)"
   ]
  },
  {
   "cell_type": "code",
   "execution_count": 43,
   "metadata": {},
   "outputs": [
    {
     "data": {
      "text/plain": [
       "(20536, 249)"
      ]
     },
     "execution_count": 43,
     "metadata": {},
     "output_type": "execute_result"
    }
   ],
   "source": [
    "df.shape"
   ]
  },
  {
   "cell_type": "markdown",
   "metadata": {
    "slideshow": {
     "slide_type": "slide"
    }
   },
   "source": [
    "Observe que a leitura do arquivo .sav retorna dois objetos: um dataframe e um dicionário de metadados. É com esse dicionários que vamos escrever uma função denominada *convert_to_label* que irá retornar os valores categóricos para cada resposta previamente codificada. "
   ]
  },
  {
   "cell_type": "code",
   "execution_count": 44,
   "metadata": {
    "ExecuteTime": {
     "end_time": "2021-02-27T00:17:12.775399Z",
     "start_time": "2021-02-27T00:17:12.772256Z"
    }
   },
   "outputs": [
    {
     "data": {
      "text/plain": [
       "'Católica'"
      ]
     },
     "execution_count": 44,
     "metadata": {},
     "output_type": "execute_result"
    }
   ],
   "source": [
    "meta.value_labels[\n",
    "    meta.variable_to_label['RELIGIAO']][1.0]"
   ]
  },
  {
   "cell_type": "code",
   "execution_count": 45,
   "metadata": {},
   "outputs": [],
   "source": [
    "def calc(val):\n",
    "    try:\n",
    "        return 1/val\n",
    "    except:\n",
    "        return 0"
   ]
  },
  {
   "cell_type": "code",
   "execution_count": 46,
   "metadata": {},
   "outputs": [
    {
     "data": {
      "text/plain": [
       "0"
      ]
     },
     "execution_count": 46,
     "metadata": {},
     "output_type": "execute_result"
    }
   ],
   "source": [
    "calc(0)"
   ]
  },
  {
   "cell_type": "code",
   "execution_count": 47,
   "metadata": {},
   "outputs": [],
   "source": [
    "#1/\"a\""
   ]
  },
  {
   "cell_type": "code",
   "execution_count": 48,
   "metadata": {
    "ExecuteTime": {
     "end_time": "2021-02-27T00:17:58.822092Z",
     "start_time": "2021-02-27T00:17:58.819309Z"
    },
    "slideshow": {
     "slide_type": "fragment"
    }
   },
   "outputs": [],
   "source": [
    "def convert_to_label(column, value, meta):\n",
    "    try:\n",
    "        return meta.value_labels[meta.variable_to_label[column]][value]\n",
    "    except:\n",
    "        return value"
   ]
  },
  {
   "cell_type": "markdown",
   "metadata": {
    "slideshow": {
     "slide_type": "slide"
    }
   },
   "source": [
    "Vamos fazer uma cópia do dataframe."
   ]
  },
  {
   "cell_type": "code",
   "execution_count": 49,
   "metadata": {
    "ExecuteTime": {
     "end_time": "2021-02-27T00:18:44.331529Z",
     "start_time": "2021-02-27T00:18:44.301181Z"
    },
    "slideshow": {
     "slide_type": "fragment"
    }
   },
   "outputs": [],
   "source": [
    "df_labels = df.copy()"
   ]
  },
  {
   "cell_type": "code",
   "execution_count": 50,
   "metadata": {
    "ExecuteTime": {
     "end_time": "2021-02-27T00:20:10.966512Z",
     "start_time": "2021-02-27T00:20:10.958404Z"
    },
    "slideshow": {
     "slide_type": "slide"
    }
   },
   "outputs": [
    {
     "data": {
      "text/html": [
       "<div>\n",
       "<style scoped>\n",
       "    .dataframe tbody tr th:only-of-type {\n",
       "        vertical-align: middle;\n",
       "    }\n",
       "\n",
       "    .dataframe tbody tr th {\n",
       "        vertical-align: top;\n",
       "    }\n",
       "\n",
       "    .dataframe thead th {\n",
       "        text-align: right;\n",
       "    }\n",
       "</style>\n",
       "<table border=\"1\" class=\"dataframe\">\n",
       "  <thead>\n",
       "    <tr style=\"text-align: right;\">\n",
       "      <th></th>\n",
       "      <th>QUEST</th>\n",
       "      <th>ID_DOMICILIO</th>\n",
       "      <th>ID_MORADOR</th>\n",
       "      <th>SEXO</th>\n",
       "      <th>IDADE</th>\n",
       "      <th>FAIXA_ETARIA</th>\n",
       "      <th>GRAU_INSTRUCAO</th>\n",
       "      <th>PEA</th>\n",
       "      <th>RENDA_PESSOAL</th>\n",
       "      <th>RELIGIAO</th>\n",
       "      <th>...</th>\n",
       "      <th>C5_COB_AGREG</th>\n",
       "      <th>C5_COB_NENHUM</th>\n",
       "      <th>C3J3</th>\n",
       "      <th>J3_AGREG</th>\n",
       "      <th>COD_REGIAO_2</th>\n",
       "      <th>GRAU_INSTRUCAO_2</th>\n",
       "      <th>RENDA_FAMILIAR_2</th>\n",
       "      <th>PEA_2</th>\n",
       "      <th>ESTRATO</th>\n",
       "      <th>UPA</th>\n",
       "    </tr>\n",
       "  </thead>\n",
       "  <tbody>\n",
       "    <tr>\n",
       "      <th>0</th>\n",
       "      <td>115431313.0</td>\n",
       "      <td>1.0</td>\n",
       "      <td>1.0</td>\n",
       "      <td>1.0</td>\n",
       "      <td>37.0</td>\n",
       "      <td>3.0</td>\n",
       "      <td>10.0</td>\n",
       "      <td>1.0</td>\n",
       "      <td>2.0</td>\n",
       "      <td>1.0</td>\n",
       "      <td>...</td>\n",
       "      <td>0.0</td>\n",
       "      <td>1.0</td>\n",
       "      <td>1.0</td>\n",
       "      <td>1.0</td>\n",
       "      <td>4.0</td>\n",
       "      <td>3.0</td>\n",
       "      <td>3.0</td>\n",
       "      <td>1.0</td>\n",
       "      <td>49.0</td>\n",
       "      <td>295.0</td>\n",
       "    </tr>\n",
       "    <tr>\n",
       "      <th>1</th>\n",
       "      <td>115431314.0</td>\n",
       "      <td>2.0</td>\n",
       "      <td>1.0</td>\n",
       "      <td>2.0</td>\n",
       "      <td>27.0</td>\n",
       "      <td>2.0</td>\n",
       "      <td>10.0</td>\n",
       "      <td>1.0</td>\n",
       "      <td>2.0</td>\n",
       "      <td>3.0</td>\n",
       "      <td>...</td>\n",
       "      <td>0.0</td>\n",
       "      <td>1.0</td>\n",
       "      <td>1.0</td>\n",
       "      <td>1.0</td>\n",
       "      <td>4.0</td>\n",
       "      <td>3.0</td>\n",
       "      <td>2.0</td>\n",
       "      <td>1.0</td>\n",
       "      <td>49.0</td>\n",
       "      <td>295.0</td>\n",
       "    </tr>\n",
       "    <tr>\n",
       "      <th>2</th>\n",
       "      <td>115431315.0</td>\n",
       "      <td>3.0</td>\n",
       "      <td>2.0</td>\n",
       "      <td>2.0</td>\n",
       "      <td>19.0</td>\n",
       "      <td>1.0</td>\n",
       "      <td>10.0</td>\n",
       "      <td>1.0</td>\n",
       "      <td>1.0</td>\n",
       "      <td>3.0</td>\n",
       "      <td>...</td>\n",
       "      <td>0.0</td>\n",
       "      <td>1.0</td>\n",
       "      <td>1.0</td>\n",
       "      <td>1.0</td>\n",
       "      <td>4.0</td>\n",
       "      <td>3.0</td>\n",
       "      <td>2.0</td>\n",
       "      <td>1.0</td>\n",
       "      <td>49.0</td>\n",
       "      <td>295.0</td>\n",
       "    </tr>\n",
       "    <tr>\n",
       "      <th>3</th>\n",
       "      <td>115431316.0</td>\n",
       "      <td>4.0</td>\n",
       "      <td>1.0</td>\n",
       "      <td>2.0</td>\n",
       "      <td>23.0</td>\n",
       "      <td>1.0</td>\n",
       "      <td>12.0</td>\n",
       "      <td>1.0</td>\n",
       "      <td>2.0</td>\n",
       "      <td>3.0</td>\n",
       "      <td>...</td>\n",
       "      <td>0.0</td>\n",
       "      <td>1.0</td>\n",
       "      <td>1.0</td>\n",
       "      <td>1.0</td>\n",
       "      <td>4.0</td>\n",
       "      <td>4.0</td>\n",
       "      <td>2.0</td>\n",
       "      <td>1.0</td>\n",
       "      <td>49.0</td>\n",
       "      <td>295.0</td>\n",
       "    </tr>\n",
       "    <tr>\n",
       "      <th>4</th>\n",
       "      <td>116724798.0</td>\n",
       "      <td>5.0</td>\n",
       "      <td>1.0</td>\n",
       "      <td>1.0</td>\n",
       "      <td>60.0</td>\n",
       "      <td>5.0</td>\n",
       "      <td>3.0</td>\n",
       "      <td>5.0</td>\n",
       "      <td>2.0</td>\n",
       "      <td>1.0</td>\n",
       "      <td>...</td>\n",
       "      <td>0.0</td>\n",
       "      <td>1.0</td>\n",
       "      <td>1.0</td>\n",
       "      <td>1.0</td>\n",
       "      <td>4.0</td>\n",
       "      <td>1.0</td>\n",
       "      <td>2.0</td>\n",
       "      <td>2.0</td>\n",
       "      <td>49.0</td>\n",
       "      <td>295.0</td>\n",
       "    </tr>\n",
       "    <tr>\n",
       "      <th>...</th>\n",
       "      <td>...</td>\n",
       "      <td>...</td>\n",
       "      <td>...</td>\n",
       "      <td>...</td>\n",
       "      <td>...</td>\n",
       "      <td>...</td>\n",
       "      <td>...</td>\n",
       "      <td>...</td>\n",
       "      <td>...</td>\n",
       "      <td>...</td>\n",
       "      <td>...</td>\n",
       "      <td>...</td>\n",
       "      <td>...</td>\n",
       "      <td>...</td>\n",
       "      <td>...</td>\n",
       "      <td>...</td>\n",
       "      <td>...</td>\n",
       "      <td>...</td>\n",
       "      <td>...</td>\n",
       "      <td>...</td>\n",
       "      <td>...</td>\n",
       "    </tr>\n",
       "    <tr>\n",
       "      <th>20531</th>\n",
       "      <td>122594348.0</td>\n",
       "      <td>33205.0</td>\n",
       "      <td>2.0</td>\n",
       "      <td>1.0</td>\n",
       "      <td>16.0</td>\n",
       "      <td>1.0</td>\n",
       "      <td>7.0</td>\n",
       "      <td>1.0</td>\n",
       "      <td>1.0</td>\n",
       "      <td>12.0</td>\n",
       "      <td>...</td>\n",
       "      <td>0.0</td>\n",
       "      <td>1.0</td>\n",
       "      <td>1.0</td>\n",
       "      <td>1.0</td>\n",
       "      <td>5.0</td>\n",
       "      <td>2.0</td>\n",
       "      <td>7.0</td>\n",
       "      <td>1.0</td>\n",
       "      <td>104.0</td>\n",
       "      <td>967.0</td>\n",
       "    </tr>\n",
       "    <tr>\n",
       "      <th>20532</th>\n",
       "      <td>122580380.0</td>\n",
       "      <td>33206.0</td>\n",
       "      <td>2.0</td>\n",
       "      <td>2.0</td>\n",
       "      <td>50.0</td>\n",
       "      <td>4.0</td>\n",
       "      <td>9.0</td>\n",
       "      <td>5.0</td>\n",
       "      <td>1.0</td>\n",
       "      <td>2.0</td>\n",
       "      <td>...</td>\n",
       "      <td>0.0</td>\n",
       "      <td>1.0</td>\n",
       "      <td>1.0</td>\n",
       "      <td>1.0</td>\n",
       "      <td>5.0</td>\n",
       "      <td>3.0</td>\n",
       "      <td>2.0</td>\n",
       "      <td>2.0</td>\n",
       "      <td>104.0</td>\n",
       "      <td>967.0</td>\n",
       "    </tr>\n",
       "    <tr>\n",
       "      <th>20533</th>\n",
       "      <td>122585268.0</td>\n",
       "      <td>33208.0</td>\n",
       "      <td>1.0</td>\n",
       "      <td>2.0</td>\n",
       "      <td>58.0</td>\n",
       "      <td>4.0</td>\n",
       "      <td>6.0</td>\n",
       "      <td>2.0</td>\n",
       "      <td>1.0</td>\n",
       "      <td>1.0</td>\n",
       "      <td>...</td>\n",
       "      <td>0.0</td>\n",
       "      <td>1.0</td>\n",
       "      <td>1.0</td>\n",
       "      <td>1.0</td>\n",
       "      <td>5.0</td>\n",
       "      <td>2.0</td>\n",
       "      <td>3.0</td>\n",
       "      <td>1.0</td>\n",
       "      <td>104.0</td>\n",
       "      <td>967.0</td>\n",
       "    </tr>\n",
       "    <tr>\n",
       "      <th>20534</th>\n",
       "      <td>122837082.0</td>\n",
       "      <td>33209.0</td>\n",
       "      <td>3.0</td>\n",
       "      <td>2.0</td>\n",
       "      <td>20.0</td>\n",
       "      <td>1.0</td>\n",
       "      <td>8.0</td>\n",
       "      <td>4.0</td>\n",
       "      <td>1.0</td>\n",
       "      <td>12.0</td>\n",
       "      <td>...</td>\n",
       "      <td>0.0</td>\n",
       "      <td>1.0</td>\n",
       "      <td>1.0</td>\n",
       "      <td>1.0</td>\n",
       "      <td>5.0</td>\n",
       "      <td>2.0</td>\n",
       "      <td>97.0</td>\n",
       "      <td>1.0</td>\n",
       "      <td>104.0</td>\n",
       "      <td>967.0</td>\n",
       "    </tr>\n",
       "    <tr>\n",
       "      <th>20535</th>\n",
       "      <td>122600192.0</td>\n",
       "      <td>33210.0</td>\n",
       "      <td>3.0</td>\n",
       "      <td>2.0</td>\n",
       "      <td>10.0</td>\n",
       "      <td>0.0</td>\n",
       "      <td>7.0</td>\n",
       "      <td>5.0</td>\n",
       "      <td>9.0</td>\n",
       "      <td>3.0</td>\n",
       "      <td>...</td>\n",
       "      <td>0.0</td>\n",
       "      <td>1.0</td>\n",
       "      <td>1.0</td>\n",
       "      <td>1.0</td>\n",
       "      <td>5.0</td>\n",
       "      <td>2.0</td>\n",
       "      <td>7.0</td>\n",
       "      <td>2.0</td>\n",
       "      <td>104.0</td>\n",
       "      <td>967.0</td>\n",
       "    </tr>\n",
       "  </tbody>\n",
       "</table>\n",
       "<p>20536 rows × 249 columns</p>\n",
       "</div>"
      ],
      "text/plain": [
       "             QUEST  ID_DOMICILIO  ID_MORADOR  SEXO  IDADE  FAIXA_ETARIA  \\\n",
       "0      115431313.0           1.0         1.0   1.0   37.0           3.0   \n",
       "1      115431314.0           2.0         1.0   2.0   27.0           2.0   \n",
       "2      115431315.0           3.0         2.0   2.0   19.0           1.0   \n",
       "3      115431316.0           4.0         1.0   2.0   23.0           1.0   \n",
       "4      116724798.0           5.0         1.0   1.0   60.0           5.0   \n",
       "...            ...           ...         ...   ...    ...           ...   \n",
       "20531  122594348.0       33205.0         2.0   1.0   16.0           1.0   \n",
       "20532  122580380.0       33206.0         2.0   2.0   50.0           4.0   \n",
       "20533  122585268.0       33208.0         1.0   2.0   58.0           4.0   \n",
       "20534  122837082.0       33209.0         3.0   2.0   20.0           1.0   \n",
       "20535  122600192.0       33210.0         3.0   2.0   10.0           0.0   \n",
       "\n",
       "       GRAU_INSTRUCAO  PEA  RENDA_PESSOAL  RELIGIAO  ...  C5_COB_AGREG  \\\n",
       "0                10.0  1.0            2.0       1.0  ...           0.0   \n",
       "1                10.0  1.0            2.0       3.0  ...           0.0   \n",
       "2                10.0  1.0            1.0       3.0  ...           0.0   \n",
       "3                12.0  1.0            2.0       3.0  ...           0.0   \n",
       "4                 3.0  5.0            2.0       1.0  ...           0.0   \n",
       "...               ...  ...            ...       ...  ...           ...   \n",
       "20531             7.0  1.0            1.0      12.0  ...           0.0   \n",
       "20532             9.0  5.0            1.0       2.0  ...           0.0   \n",
       "20533             6.0  2.0            1.0       1.0  ...           0.0   \n",
       "20534             8.0  4.0            1.0      12.0  ...           0.0   \n",
       "20535             7.0  5.0            9.0       3.0  ...           0.0   \n",
       "\n",
       "       C5_COB_NENHUM  C3J3  J3_AGREG  COD_REGIAO_2  GRAU_INSTRUCAO_2  \\\n",
       "0                1.0   1.0       1.0           4.0               3.0   \n",
       "1                1.0   1.0       1.0           4.0               3.0   \n",
       "2                1.0   1.0       1.0           4.0               3.0   \n",
       "3                1.0   1.0       1.0           4.0               4.0   \n",
       "4                1.0   1.0       1.0           4.0               1.0   \n",
       "...              ...   ...       ...           ...               ...   \n",
       "20531            1.0   1.0       1.0           5.0               2.0   \n",
       "20532            1.0   1.0       1.0           5.0               3.0   \n",
       "20533            1.0   1.0       1.0           5.0               2.0   \n",
       "20534            1.0   1.0       1.0           5.0               2.0   \n",
       "20535            1.0   1.0       1.0           5.0               2.0   \n",
       "\n",
       "       RENDA_FAMILIAR_2  PEA_2  ESTRATO    UPA  \n",
       "0                   3.0    1.0     49.0  295.0  \n",
       "1                   2.0    1.0     49.0  295.0  \n",
       "2                   2.0    1.0     49.0  295.0  \n",
       "3                   2.0    1.0     49.0  295.0  \n",
       "4                   2.0    2.0     49.0  295.0  \n",
       "...                 ...    ...      ...    ...  \n",
       "20531               7.0    1.0    104.0  967.0  \n",
       "20532               2.0    2.0    104.0  967.0  \n",
       "20533               3.0    1.0    104.0  967.0  \n",
       "20534              97.0    1.0    104.0  967.0  \n",
       "20535               7.0    2.0    104.0  967.0  \n",
       "\n",
       "[20536 rows x 249 columns]"
      ]
     },
     "execution_count": 50,
     "metadata": {},
     "output_type": "execute_result"
    }
   ],
   "source": [
    "df_labels"
   ]
  },
  {
   "cell_type": "code",
   "execution_count": 51,
   "metadata": {
    "ExecuteTime": {
     "end_time": "2021-02-27T00:20:48.496499Z",
     "start_time": "2021-02-27T00:20:44.781221Z"
    },
    "slideshow": {
     "slide_type": "fragment"
    }
   },
   "outputs": [],
   "source": [
    "for c in list(df):\n",
    "    df_labels[c] = df_labels[c].apply(lambda x: convert_to_label(c, x, meta))"
   ]
  },
  {
   "cell_type": "code",
   "execution_count": 52,
   "metadata": {
    "ExecuteTime": {
     "end_time": "2021-02-27T00:25:39.229519Z",
     "start_time": "2021-02-27T00:25:39.198096Z"
    },
    "slideshow": {
     "slide_type": "slide"
    }
   },
   "outputs": [
    {
     "data": {
      "text/html": [
       "<div>\n",
       "<style scoped>\n",
       "    .dataframe tbody tr th:only-of-type {\n",
       "        vertical-align: middle;\n",
       "    }\n",
       "\n",
       "    .dataframe tbody tr th {\n",
       "        vertical-align: top;\n",
       "    }\n",
       "\n",
       "    .dataframe thead th {\n",
       "        text-align: right;\n",
       "    }\n",
       "</style>\n",
       "<table border=\"1\" class=\"dataframe\">\n",
       "  <thead>\n",
       "    <tr style=\"text-align: right;\">\n",
       "      <th></th>\n",
       "      <th>QUEST</th>\n",
       "      <th>ID_DOMICILIO</th>\n",
       "      <th>ID_MORADOR</th>\n",
       "      <th>SEXO</th>\n",
       "      <th>IDADE</th>\n",
       "      <th>FAIXA_ETARIA</th>\n",
       "      <th>GRAU_INSTRUCAO</th>\n",
       "      <th>PEA</th>\n",
       "      <th>RENDA_PESSOAL</th>\n",
       "      <th>RELIGIAO</th>\n",
       "      <th>...</th>\n",
       "      <th>C5_COB_AGREG</th>\n",
       "      <th>C5_COB_NENHUM</th>\n",
       "      <th>C3J3</th>\n",
       "      <th>J3_AGREG</th>\n",
       "      <th>COD_REGIAO_2</th>\n",
       "      <th>GRAU_INSTRUCAO_2</th>\n",
       "      <th>RENDA_FAMILIAR_2</th>\n",
       "      <th>PEA_2</th>\n",
       "      <th>ESTRATO</th>\n",
       "      <th>UPA</th>\n",
       "    </tr>\n",
       "  </thead>\n",
       "  <tbody>\n",
       "    <tr>\n",
       "      <th>0</th>\n",
       "      <td>115431313.0</td>\n",
       "      <td>1.0</td>\n",
       "      <td>Morador 1</td>\n",
       "      <td>Masculino</td>\n",
       "      <td>37.0</td>\n",
       "      <td>De 35 a 44 anos</td>\n",
       "      <td>3a série/ vestibular</td>\n",
       "      <td>Trabalha em atividade remunerada (PEA)</td>\n",
       "      <td>De R$ 954,01 até R$ 1.908,00</td>\n",
       "      <td>Católica</td>\n",
       "      <td>...</td>\n",
       "      <td>Não</td>\n",
       "      <td>Nenhum</td>\n",
       "      <td>Sim</td>\n",
       "      <td>Sim</td>\n",
       "      <td>Norte</td>\n",
       "      <td>Médio</td>\n",
       "      <td>Mais de 2 SM até 3 SM</td>\n",
       "      <td>PEA</td>\n",
       "      <td>49.0</td>\n",
       "      <td>295.0</td>\n",
       "    </tr>\n",
       "    <tr>\n",
       "      <th>1</th>\n",
       "      <td>115431314.0</td>\n",
       "      <td>2.0</td>\n",
       "      <td>Morador 1</td>\n",
       "      <td>Feminino</td>\n",
       "      <td>27.0</td>\n",
       "      <td>De 25 a 34 anos</td>\n",
       "      <td>3a série/ vestibular</td>\n",
       "      <td>Trabalha em atividade remunerada (PEA)</td>\n",
       "      <td>De R$ 954,01 até R$ 1.908,00</td>\n",
       "      <td>Outras Igrejas Evangélicas</td>\n",
       "      <td>...</td>\n",
       "      <td>Não</td>\n",
       "      <td>Nenhum</td>\n",
       "      <td>Sim</td>\n",
       "      <td>Sim</td>\n",
       "      <td>Norte</td>\n",
       "      <td>Médio</td>\n",
       "      <td>Mais de 1 SM até 2 SM</td>\n",
       "      <td>PEA</td>\n",
       "      <td>49.0</td>\n",
       "      <td>295.0</td>\n",
       "    </tr>\n",
       "    <tr>\n",
       "      <th>2</th>\n",
       "      <td>115431315.0</td>\n",
       "      <td>3.0</td>\n",
       "      <td>Morador 2</td>\n",
       "      <td>Feminino</td>\n",
       "      <td>19.0</td>\n",
       "      <td>De 16 a 24 anos</td>\n",
       "      <td>3a série/ vestibular</td>\n",
       "      <td>Trabalha em atividade remunerada (PEA)</td>\n",
       "      <td>Até R$ 954,00</td>\n",
       "      <td>Outras Igrejas Evangélicas</td>\n",
       "      <td>...</td>\n",
       "      <td>Não</td>\n",
       "      <td>Nenhum</td>\n",
       "      <td>Sim</td>\n",
       "      <td>Sim</td>\n",
       "      <td>Norte</td>\n",
       "      <td>Médio</td>\n",
       "      <td>Mais de 1 SM até 2 SM</td>\n",
       "      <td>PEA</td>\n",
       "      <td>49.0</td>\n",
       "      <td>295.0</td>\n",
       "    </tr>\n",
       "    <tr>\n",
       "      <th>3</th>\n",
       "      <td>115431316.0</td>\n",
       "      <td>4.0</td>\n",
       "      <td>Morador 1</td>\n",
       "      <td>Feminino</td>\n",
       "      <td>23.0</td>\n",
       "      <td>De 16 a 24 anos</td>\n",
       "      <td>Superior completo</td>\n",
       "      <td>Trabalha em atividade remunerada (PEA)</td>\n",
       "      <td>De R$ 954,01 até R$ 1.908,00</td>\n",
       "      <td>Outras Igrejas Evangélicas</td>\n",
       "      <td>...</td>\n",
       "      <td>Não</td>\n",
       "      <td>Nenhum</td>\n",
       "      <td>Sim</td>\n",
       "      <td>Sim</td>\n",
       "      <td>Norte</td>\n",
       "      <td>Superior</td>\n",
       "      <td>Mais de 1 SM até 2 SM</td>\n",
       "      <td>PEA</td>\n",
       "      <td>49.0</td>\n",
       "      <td>295.0</td>\n",
       "    </tr>\n",
       "    <tr>\n",
       "      <th>4</th>\n",
       "      <td>116724798.0</td>\n",
       "      <td>5.0</td>\n",
       "      <td>Morador 1</td>\n",
       "      <td>Masculino</td>\n",
       "      <td>60.0</td>\n",
       "      <td>60 anos ou mais</td>\n",
       "      <td>Até pré-escola incompleto</td>\n",
       "      <td>Não trabalha e não procurou trabalho nos últim...</td>\n",
       "      <td>De R$ 954,01 até R$ 1.908,00</td>\n",
       "      <td>Católica</td>\n",
       "      <td>...</td>\n",
       "      <td>Não</td>\n",
       "      <td>Nenhum</td>\n",
       "      <td>Sim</td>\n",
       "      <td>Sim</td>\n",
       "      <td>Norte</td>\n",
       "      <td>Analfabeto / Educação infantil</td>\n",
       "      <td>Mais de 1 SM até 2 SM</td>\n",
       "      <td>Não PEA</td>\n",
       "      <td>49.0</td>\n",
       "      <td>295.0</td>\n",
       "    </tr>\n",
       "  </tbody>\n",
       "</table>\n",
       "<p>5 rows × 249 columns</p>\n",
       "</div>"
      ],
      "text/plain": [
       "         QUEST  ID_DOMICILIO ID_MORADOR       SEXO  IDADE     FAIXA_ETARIA  \\\n",
       "0  115431313.0           1.0  Morador 1  Masculino   37.0  De 35 a 44 anos   \n",
       "1  115431314.0           2.0  Morador 1   Feminino   27.0  De 25 a 34 anos   \n",
       "2  115431315.0           3.0  Morador 2   Feminino   19.0  De 16 a 24 anos   \n",
       "3  115431316.0           4.0  Morador 1   Feminino   23.0  De 16 a 24 anos   \n",
       "4  116724798.0           5.0  Morador 1  Masculino   60.0  60 anos ou mais   \n",
       "\n",
       "              GRAU_INSTRUCAO  \\\n",
       "0       3a série/ vestibular   \n",
       "1       3a série/ vestibular   \n",
       "2       3a série/ vestibular   \n",
       "3          Superior completo   \n",
       "4  Até pré-escola incompleto   \n",
       "\n",
       "                                                 PEA  \\\n",
       "0             Trabalha em atividade remunerada (PEA)   \n",
       "1             Trabalha em atividade remunerada (PEA)   \n",
       "2             Trabalha em atividade remunerada (PEA)   \n",
       "3             Trabalha em atividade remunerada (PEA)   \n",
       "4  Não trabalha e não procurou trabalho nos últim...   \n",
       "\n",
       "                  RENDA_PESSOAL                    RELIGIAO  ... C5_COB_AGREG  \\\n",
       "0  De R$ 954,01 até R$ 1.908,00                    Católica  ...          Não   \n",
       "1  De R$ 954,01 até R$ 1.908,00  Outras Igrejas Evangélicas  ...          Não   \n",
       "2                 Até R$ 954,00  Outras Igrejas Evangélicas  ...          Não   \n",
       "3  De R$ 954,01 até R$ 1.908,00  Outras Igrejas Evangélicas  ...          Não   \n",
       "4  De R$ 954,01 até R$ 1.908,00                    Católica  ...          Não   \n",
       "\n",
       "  C5_COB_NENHUM C3J3 J3_AGREG COD_REGIAO_2                GRAU_INSTRUCAO_2  \\\n",
       "0        Nenhum  Sim      Sim        Norte                           Médio   \n",
       "1        Nenhum  Sim      Sim        Norte                           Médio   \n",
       "2        Nenhum  Sim      Sim        Norte                           Médio   \n",
       "3        Nenhum  Sim      Sim        Norte                        Superior   \n",
       "4        Nenhum  Sim      Sim        Norte  Analfabeto / Educação infantil   \n",
       "\n",
       "        RENDA_FAMILIAR_2    PEA_2 ESTRATO    UPA  \n",
       "0  Mais de 2 SM até 3 SM      PEA    49.0  295.0  \n",
       "1  Mais de 1 SM até 2 SM      PEA    49.0  295.0  \n",
       "2  Mais de 1 SM até 2 SM      PEA    49.0  295.0  \n",
       "3  Mais de 1 SM até 2 SM      PEA    49.0  295.0  \n",
       "4  Mais de 1 SM até 2 SM  Não PEA    49.0  295.0  \n",
       "\n",
       "[5 rows x 249 columns]"
      ]
     },
     "execution_count": 52,
     "metadata": {},
     "output_type": "execute_result"
    }
   ],
   "source": [
    "df_labels.head()"
   ]
  },
  {
   "cell_type": "code",
   "execution_count": 53,
   "metadata": {
    "ExecuteTime": {
     "end_time": "2021-02-27T00:26:37.369655Z",
     "start_time": "2021-02-27T00:26:37.367241Z"
    },
    "slideshow": {
     "slide_type": "slide"
    }
   },
   "outputs": [],
   "source": [
    "pd.set_option('display.max_rows',1000) #define o numero maximo de linhas a serem exibidas no pandas"
   ]
  },
  {
   "cell_type": "code",
   "execution_count": 54,
   "metadata": {
    "ExecuteTime": {
     "end_time": "2021-02-27T00:27:46.723636Z",
     "start_time": "2021-02-27T00:27:46.713833Z"
    },
    "scrolled": true,
    "slideshow": {
     "slide_type": "slide"
    }
   },
   "outputs": [
    {
     "data": {
      "text/plain": [
       "QUEST                                                      115431313.0\n",
       "ID_DOMICILIO                                                       1.0\n",
       "ID_MORADOR                                                   Morador 1\n",
       "SEXO                                                         Masculino\n",
       "IDADE                                                             37.0\n",
       "FAIXA_ETARIA                                           De 35 a 44 anos\n",
       "GRAU_INSTRUCAO                                    3a série/ vestibular\n",
       "PEA                             Trabalha em atividade remunerada (PEA)\n",
       "RENDA_PESSOAL                             De R$ 954,01 até R$ 1.908,00\n",
       "RELIGIAO                                                      Católica\n",
       "RACA                                                             Parda\n",
       "C1                                                                 Sim\n",
       "C2_A                                                     Não se aplica\n",
       "C2_B                                                     Não se aplica\n",
       "C2_C                                                     Não se aplica\n",
       "C2_D                                                     Não se aplica\n",
       "C2_E                                                     Não se aplica\n",
       "C2_F                                                     Não se aplica\n",
       "C2_G                                                     Não se aplica\n",
       "C2_OUTRO                                                 Não se aplica\n",
       "C2_OUTRO_DESC                                            Não se aplica\n",
       "C2A                                                      Não se aplica\n",
       "C3                                                 Há menos de 3 meses\n",
       "C4                                Todos os dias ou quase todos os dias\n",
       "C5_A                                                               Não\n",
       "C5_B                                                               Sim\n",
       "C5_C                                                               Não\n",
       "C5_D                                                               Sim\n",
       "C5_E                                                               Não\n",
       "C5_F                                                               Não\n",
       "C5_OUTRO                                                           Não\n",
       "C5_OUTRO_DESC                                            Não se aplica\n",
       "C6_A                                                               Sim\n",
       "C6_B                                                               Sim\n",
       "C6_C                                                               Não\n",
       "C6_D                                                               Sim\n",
       "C6_E                                                               Não\n",
       "C6_F                                                               Não\n",
       "C6_G                                                               Não\n",
       "C6_OUTRO                                                           Não\n",
       "C6_OUTRO_DESC                                            Não se aplica\n",
       "C6A                                                            Em casa\n",
       "C7_A                                                               Não\n",
       "C7_B                                                               Sim\n",
       "C7_C                                                               Não\n",
       "C7_D                                                               Não\n",
       "C7_E                                                               Não\n",
       "C7_F                                                               Não\n",
       "C8_A                                                               Não\n",
       "C8_B                                                               Não\n",
       "C8_C                                                               Não\n",
       "C8_D                                                               Não\n",
       "C8_E                                                               Não\n",
       "C8_F                                                               Não\n",
       "C8_G                                                               Sim\n",
       "C8_H                                                               Sim\n",
       "C9_A                                                               Não\n",
       "C9_B                                                               Sim\n",
       "C9_C                                                               Sim\n",
       "C9_D                                                               Sim\n",
       "C9_F                                                               Não\n",
       "C9_G                                                               Não\n",
       "C10_A                                                              Não\n",
       "C10_B                                                              Não\n",
       "C10_C                                                              Não\n",
       "C10_D                                                              Não\n",
       "C10_E                                                              Sim\n",
       "C10_F                                                              Sim\n",
       "C11_A                                                              Sim\n",
       "C11_B                                                              Não\n",
       "C11_C                                                              Não\n",
       "C12_A                                                              Não\n",
       "C12_B                                                              Sim\n",
       "C12_C                                                              Não\n",
       "C12_D                                                              Não\n",
       "C12_E1                                                             Não\n",
       "C12_F1                                                             Não\n",
       "H2                                                                 Sim\n",
       "B1                                                                 Sim\n",
       "B2                                           Há menos de 3 meses atrás\n",
       "B4_A                                                     Não se aplica\n",
       "B4_B                                                     Não se aplica\n",
       "B4_C                                                     Não se aplica\n",
       "B4_D                                                     Não se aplica\n",
       "B4_E                                                     Não se aplica\n",
       "B4_F                                                     Não se aplica\n",
       "B4_G                                                     Não se aplica\n",
       "B4_H                                                     Não se aplica\n",
       "I1_A                                                               Não\n",
       "I1_B                                                               Sim\n",
       "I1_C                                                               Não\n",
       "I1_D                                                               Sim\n",
       "I1_E                                                               Não\n",
       "I1_F                                                               Não\n",
       "I1_G                                                               Não\n",
       "I1_H                                                               Não\n",
       "I1_I                                                               Não\n",
       "J1                                                                 Sim\n",
       "J2_A                                                               Não\n",
       "J2_B                                                               Não\n",
       "J2_C                                                               Sim\n",
       "J2_D                                                               Sim\n",
       "J2_E                                                               Não\n",
       "J2_F                                                               Sim\n",
       "J2_G                                                               Não\n",
       "J2_H1                                                              Sim\n",
       "J2_I                                                               Não\n",
       "J2_J                                                               Sim\n",
       "J2_K                                                               Não\n",
       "J2_L                                                               Sim\n",
       "J2_M                                                               Sim\n",
       "J2_N                                                               Sim\n",
       "J3                                                                 Sim\n",
       "J3A_A                                                              Sim\n",
       "J3A_B                                                              Sim\n",
       "J5                                                                 Sim\n",
       "J5_QTD_LINHAS                                                      1.0\n",
       "J6                                                            Pós-Pago\n",
       "TC1                                      Pelo menos uma vez por semana\n",
       "TC2                                                                Não\n",
       "TC3_A                                                              Sim\n",
       "TC3_B                                                              Sim\n",
       "TC4_A                                                              Sim\n",
       "TC4_B                                                              Não\n",
       "TC4_C                                                              Não\n",
       "TC4_D                                                              Não\n",
       "TC4B_A                                                             Não\n",
       "TC4B_B                                                             Sim\n",
       "TC4B_C                                                             Não\n",
       "TC4B_D                                                             Não\n",
       "TC4B_E                                                             Sim\n",
       "TC4B_F                                                             Não\n",
       "TC4B_G                                                             Não\n",
       "TC4B_H                                                             Não\n",
       "TC4B_I                                                             Não\n",
       "TC4B_J                                                             Não\n",
       "TC4C_A                                                             Não\n",
       "TC4C_B                                                             Não\n",
       "TC4C_C                                                             Sim\n",
       "TC4C_D                                                             Não\n",
       "TC4C_E                                                             Não\n",
       "TC4C_F                                                             Não\n",
       "TC5_A                                       Pelo menos uma vez por mês\n",
       "TC5_B                                                    Não se aplica\n",
       "TC6_A                                                              Não\n",
       "TC6_B                                                    Não se aplica\n",
       "TC7_A                                                              Sim\n",
       "TC7_B                                                              Não\n",
       "TC8_A                                                    Não se aplica\n",
       "TC8_B                                                    Não se aplica\n",
       "TC9_A                                                    Não se aplica\n",
       "TC9_B                                                    Não se aplica\n",
       "TC9_C                                                              Não\n",
       "TC10_A                                                   Não se aplica\n",
       "TC10_B                                                   Não se aplica\n",
       "TC10_C                                                   Não se aplica\n",
       "TC10_D                                                   Não se aplica\n",
       "TC11_A                                                   Não se aplica\n",
       "TC11_B                                                   Não se aplica\n",
       "TC11_C                                                   Não se aplica\n",
       "TC11_D                                                   Não se aplica\n",
       "TC11_E                                                   Não se aplica\n",
       "TC11_F                                                   Não se aplica\n",
       "TC11_G                                                   Não se aplica\n",
       "TC11_H                                                   Não se aplica\n",
       "TC12                                                     Não se aplica\n",
       "TC13_A                                                             Não\n",
       "TC13_B                                                             Não\n",
       "TC13_C                                                             Não\n",
       "TC13_D                                                             Não\n",
       "TC13_E                                                             Não\n",
       "TC13_F                                                             Não\n",
       "TC13_G                                                             Não\n",
       "TC13_H                                                             Não\n",
       "G1_A                                                               Não\n",
       "G1_B                                                               Não\n",
       "G1_C                                                               Não\n",
       "G1_D                                                               Sim\n",
       "G1_E                                                               Não\n",
       "G1_F                                                               Não\n",
       "G1_G                                                               Não\n",
       "G2_A                                                     Não se aplica\n",
       "G2_B                                                     Não se aplica\n",
       "G2_C                                                     Não se aplica\n",
       "G2_D                 Realizou parte do serviço na Internet, mas pre...\n",
       "G2_E                                                     Não se aplica\n",
       "G2_F                                                     Não se aplica\n",
       "G2_G                                                     Não se aplica\n",
       "G3_A                                                     Não se aplica\n",
       "G3_B                                                     Não se aplica\n",
       "G3_C                                                     Não se aplica\n",
       "G3_D                                                     Não se aplica\n",
       "G3_E                                                     Não se aplica\n",
       "G3_F                                                     Não se aplica\n",
       "G3_G                                                     Não se aplica\n",
       "G3_H                                                     Não se aplica\n",
       "G3_OUTRO                                                 Não se aplica\n",
       "G3_OUTRO_DESC                                            Não se aplica\n",
       "G4_A                                                               Não\n",
       "G4_B                                                               Não\n",
       "G4_C                                                               Não\n",
       "G4_D                                                               Não\n",
       "G4_E                                                               Sim\n",
       "C1_COB_A                                                 Não se aplica\n",
       "C1_COB_B                                                 Não se aplica\n",
       "C1_COB_C                                                 Não se aplica\n",
       "C1_COB_D                                                 Não se aplica\n",
       "C3_COB                                                   Não se aplica\n",
       "C4_COB                                                   Não se aplica\n",
       "C5_COB_A                                                 Não se aplica\n",
       "C5_COB_B                                                 Não se aplica\n",
       "C5_COB_C                                                 Não se aplica\n",
       "C5_COB_D                                                 Não se aplica\n",
       "C5_COB_E                                                 Não se aplica\n",
       "C5_COB_F                                                 Não se aplica\n",
       "C5_COB_G                                                 Não se aplica\n",
       "C5_COB_G_DESC                                            Não se aplica\n",
       "C6_COB_A                                                 Não se aplica\n",
       "C6_COB_B                                                 Não se aplica\n",
       "C6_COB_C                                                 Não se aplica\n",
       "C6_COB_D                                                 Não se aplica\n",
       "C6_COB_E                                                 Não se aplica\n",
       "C6_COB_F                                                 Não se aplica\n",
       "C6_COB_G                                                 Não se aplica\n",
       "C6_COB_OUTRO                                             Não se aplica\n",
       "C6_COB_OUTRO_DESC                                        Não se aplica\n",
       "PESO                                                        2150.12921\n",
       "CLASSE_CB2015                                                 Classe C\n",
       "CLASSE_CB2008                                                 Classe C\n",
       "AREA                                                            URBANA\n",
       "RENDA_FAMILIAR                          De R$ 1.908,01 até R$ 2.862,00\n",
       "C5_AGREG                                           Total de Computador\n",
       "C5_DISPOSITIVOS                                                  Ambos\n",
       "G1_AGREG                                                           Sim\n",
       "C8_NAO                                                            99.0\n",
       "I1_NENHUM                                                Não se aplica\n",
       "J5_FAIXAS                                                            1\n",
       "J2_NENHUM                                                Não se aplica\n",
       "C1_COB_AGREG                                                       Não\n",
       "C5_COB_AGREG                                                       Não\n",
       "C5_COB_NENHUM                                                   Nenhum\n",
       "C3J3                                                               Sim\n",
       "J3_AGREG                                                           Sim\n",
       "COD_REGIAO_2                                                     Norte\n",
       "GRAU_INSTRUCAO_2                                                 Médio\n",
       "RENDA_FAMILIAR_2                                 Mais de 2 SM até 3 SM\n",
       "PEA_2                                                              PEA\n",
       "ESTRATO                                                           49.0\n",
       "UPA                                                              295.0\n",
       "Name: 0, dtype: object"
      ]
     },
     "execution_count": 54,
     "metadata": {},
     "output_type": "execute_result"
    }
   ],
   "source": [
    "df_labels.loc[0]"
   ]
  },
  {
   "cell_type": "markdown",
   "metadata": {},
   "source": [
    "Python\n",
    "\n",
    "- for\n",
    "- lambda\n",
    "- try\n",
    "- list\n",
    "- .apply\n",
    "- def"
   ]
  },
  {
   "cell_type": "markdown",
   "metadata": {
    "slideshow": {
     "slide_type": "slide"
    }
   },
   "source": [
    "## Medida de frequência ponderada"
   ]
  },
  {
   "cell_type": "code",
   "execution_count": 55,
   "metadata": {
    "ExecuteTime": {
     "end_time": "2021-02-27T00:31:55.102576Z",
     "start_time": "2021-02-27T00:31:55.098675Z"
    },
    "slideshow": {
     "slide_type": "slide"
    }
   },
   "outputs": [],
   "source": [
    "# X é a variável que iremos contar frequencia de seus valores\n",
    "# Y é a variável que possui o peso amostral\n",
    "\n",
    "def weighted_frequency(x, y):\n",
    "    a = pd.Series(df[[x,y]].groupby(x).sum()[y])/df[y].sum()\n",
    "    b = a.index.map(meta.variable_value_labels[x])\n",
    "    c = a.values\n",
    "    df_temp = pd.DataFrame({'Labels': b, 'Frequency': c})\n",
    "    return df_temp"
   ]
  },
  {
   "cell_type": "code",
   "execution_count": 56,
   "metadata": {
    "ExecuteTime": {
     "end_time": "2021-02-27T00:32:06.490457Z",
     "start_time": "2021-02-27T00:32:06.453662Z"
    },
    "slideshow": {
     "slide_type": "slide"
    }
   },
   "outputs": [
    {
     "data": {
      "text/html": [
       "<div>\n",
       "<style scoped>\n",
       "    .dataframe tbody tr th:only-of-type {\n",
       "        vertical-align: middle;\n",
       "    }\n",
       "\n",
       "    .dataframe tbody tr th {\n",
       "        vertical-align: top;\n",
       "    }\n",
       "\n",
       "    .dataframe thead th {\n",
       "        text-align: right;\n",
       "    }\n",
       "</style>\n",
       "<table border=\"1\" class=\"dataframe\">\n",
       "  <thead>\n",
       "    <tr style=\"text-align: right;\">\n",
       "      <th></th>\n",
       "      <th>Labels</th>\n",
       "      <th>Frequency</th>\n",
       "    </tr>\n",
       "  </thead>\n",
       "  <tbody>\n",
       "    <tr>\n",
       "      <th>0</th>\n",
       "      <td>Não</td>\n",
       "      <td>0.417891</td>\n",
       "    </tr>\n",
       "    <tr>\n",
       "      <th>1</th>\n",
       "      <td>Sim</td>\n",
       "      <td>0.580622</td>\n",
       "    </tr>\n",
       "    <tr>\n",
       "      <th>2</th>\n",
       "      <td>Não sabe</td>\n",
       "      <td>0.000068</td>\n",
       "    </tr>\n",
       "    <tr>\n",
       "      <th>3</th>\n",
       "      <td>Não respondeu</td>\n",
       "      <td>0.001419</td>\n",
       "    </tr>\n",
       "  </tbody>\n",
       "</table>\n",
       "</div>"
      ],
      "text/plain": [
       "          Labels  Frequency\n",
       "0            Não   0.417891\n",
       "1            Sim   0.580622\n",
       "2       Não sabe   0.000068\n",
       "3  Não respondeu   0.001419"
      ]
     },
     "execution_count": 56,
     "metadata": {},
     "output_type": "execute_result"
    }
   ],
   "source": [
    "weighted_frequency('B1', 'PESO')"
   ]
  },
  {
   "cell_type": "markdown",
   "metadata": {
    "slideshow": {
     "slide_type": "slide"
    }
   },
   "source": [
    "Vamos fazer uso da função *crosstab* da biblioteca Pandas para verificar a quantidade de respostas para o indicador B1 (já usou computador?), em função da Raça."
   ]
  },
  {
   "cell_type": "code",
   "execution_count": 57,
   "metadata": {
    "scrolled": true
   },
   "outputs": [
    {
     "data": {
      "text/plain": [
       "0         Parda\n",
       "1        Branca\n",
       "2         Parda\n",
       "3        Branca\n",
       "4        Branca\n",
       "          ...  \n",
       "20531    Branca\n",
       "20532     Parda\n",
       "20533    Branca\n",
       "20534     Parda\n",
       "20535     Parda\n",
       "Name: RACA, Length: 20536, dtype: object"
      ]
     },
     "execution_count": 57,
     "metadata": {},
     "output_type": "execute_result"
    }
   ],
   "source": [
    "df_labels['RACA']"
   ]
  },
  {
   "cell_type": "code",
   "execution_count": 58,
   "metadata": {},
   "outputs": [
    {
     "data": {
      "text/plain": [
       "0        Sim\n",
       "1        Sim\n",
       "2        Sim\n",
       "3        Não\n",
       "4        Sim\n",
       "        ... \n",
       "20531    Sim\n",
       "20532    Sim\n",
       "20533    Sim\n",
       "20534    Sim\n",
       "20535    Sim\n",
       "Name: B1, Length: 20536, dtype: object"
      ]
     },
     "execution_count": 58,
     "metadata": {},
     "output_type": "execute_result"
    }
   ],
   "source": [
    "df_labels['B1']"
   ]
  },
  {
   "cell_type": "code",
   "execution_count": 59,
   "metadata": {
    "ExecuteTime": {
     "end_time": "2021-02-27T00:36:26.364556Z",
     "start_time": "2021-02-27T00:36:26.335907Z"
    },
    "slideshow": {
     "slide_type": "fragment"
    }
   },
   "outputs": [
    {
     "data": {
      "text/html": [
       "<div>\n",
       "<style scoped>\n",
       "    .dataframe tbody tr th:only-of-type {\n",
       "        vertical-align: middle;\n",
       "    }\n",
       "\n",
       "    .dataframe tbody tr th {\n",
       "        vertical-align: top;\n",
       "    }\n",
       "\n",
       "    .dataframe thead th {\n",
       "        text-align: right;\n",
       "    }\n",
       "</style>\n",
       "<table border=\"1\" class=\"dataframe\">\n",
       "  <thead>\n",
       "    <tr style=\"text-align: right;\">\n",
       "      <th>B1</th>\n",
       "      <th>Não</th>\n",
       "      <th>Não respondeu</th>\n",
       "      <th>Não sabe</th>\n",
       "      <th>Sim</th>\n",
       "    </tr>\n",
       "    <tr>\n",
       "      <th>RACA</th>\n",
       "      <th></th>\n",
       "      <th></th>\n",
       "      <th></th>\n",
       "      <th></th>\n",
       "    </tr>\n",
       "  </thead>\n",
       "  <tbody>\n",
       "    <tr>\n",
       "      <th>Amarela</th>\n",
       "      <td>263</td>\n",
       "      <td>0</td>\n",
       "      <td>1</td>\n",
       "      <td>265</td>\n",
       "    </tr>\n",
       "    <tr>\n",
       "      <th>Branca</th>\n",
       "      <td>3511</td>\n",
       "      <td>6</td>\n",
       "      <td>1</td>\n",
       "      <td>3681</td>\n",
       "    </tr>\n",
       "    <tr>\n",
       "      <th>Indígena</th>\n",
       "      <td>212</td>\n",
       "      <td>1</td>\n",
       "      <td>1</td>\n",
       "      <td>144</td>\n",
       "    </tr>\n",
       "    <tr>\n",
       "      <th>Não respondeu</th>\n",
       "      <td>577</td>\n",
       "      <td>1</td>\n",
       "      <td>0</td>\n",
       "      <td>130</td>\n",
       "    </tr>\n",
       "    <tr>\n",
       "      <th>Parda</th>\n",
       "      <td>4084</td>\n",
       "      <td>12</td>\n",
       "      <td>0</td>\n",
       "      <td>4560</td>\n",
       "    </tr>\n",
       "    <tr>\n",
       "      <th>Preta</th>\n",
       "      <td>1628</td>\n",
       "      <td>3</td>\n",
       "      <td>1</td>\n",
       "      <td>1454</td>\n",
       "    </tr>\n",
       "  </tbody>\n",
       "</table>\n",
       "</div>"
      ],
      "text/plain": [
       "B1              Não  Não respondeu  Não sabe   Sim\n",
       "RACA                                              \n",
       "Amarela         263              0         1   265\n",
       "Branca         3511              6         1  3681\n",
       "Indígena        212              1         1   144\n",
       "Não respondeu   577              1         0   130\n",
       "Parda          4084             12         0  4560\n",
       "Preta          1628              3         1  1454"
      ]
     },
     "execution_count": 59,
     "metadata": {},
     "output_type": "execute_result"
    }
   ],
   "source": [
    "pd.crosstab(df_labels['RACA'], df_labels['B1'])"
   ]
  },
  {
   "cell_type": "markdown",
   "metadata": {
    "slideshow": {
     "slide_type": "slide"
    }
   },
   "source": [
    "O que temos é a quantidade. E se nosso objetivo fosse obter a soma do peso amostral? E para cada possível valor da Raça, nós tivéssemos quanto isso representa em percentual?"
   ]
  },
  {
   "cell_type": "code",
   "execution_count": 60,
   "metadata": {
    "scrolled": true
   },
   "outputs": [
    {
     "data": {
      "text/plain": [
       "0         Parda\n",
       "1        Branca\n",
       "2         Parda\n",
       "3        Branca\n",
       "4        Branca\n",
       "          ...  \n",
       "20531    Branca\n",
       "20532     Parda\n",
       "20533    Branca\n",
       "20534     Parda\n",
       "20535     Parda\n",
       "Name: RACA, Length: 20536, dtype: object"
      ]
     },
     "execution_count": 60,
     "metadata": {},
     "output_type": "execute_result"
    }
   ],
   "source": [
    "df_labels['RACA']"
   ]
  },
  {
   "cell_type": "code",
   "execution_count": 61,
   "metadata": {},
   "outputs": [
    {
     "data": {
      "text/plain": [
       "0         2150.129210\n",
       "1          549.999603\n",
       "2         1371.676211\n",
       "3          714.006789\n",
       "4         6645.045514\n",
       "             ...     \n",
       "20531     8260.657571\n",
       "20532    14999.232178\n",
       "20533     4729.809722\n",
       "20534     9225.024686\n",
       "20535    10124.651781\n",
       "Name: PESO, Length: 20536, dtype: float64"
      ]
     },
     "execution_count": 61,
     "metadata": {},
     "output_type": "execute_result"
    }
   ],
   "source": [
    "df_labels['PESO']"
   ]
  },
  {
   "cell_type": "code",
   "execution_count": 62,
   "metadata": {
    "ExecuteTime": {
     "end_time": "2021-02-27T00:40:34.403343Z",
     "start_time": "2021-02-27T00:40:34.381140Z"
    },
    "slideshow": {
     "slide_type": "slide"
    }
   },
   "outputs": [
    {
     "data": {
      "text/html": [
       "<div>\n",
       "<style scoped>\n",
       "    .dataframe tbody tr th:only-of-type {\n",
       "        vertical-align: middle;\n",
       "    }\n",
       "\n",
       "    .dataframe tbody tr th {\n",
       "        vertical-align: top;\n",
       "    }\n",
       "\n",
       "    .dataframe thead th {\n",
       "        text-align: right;\n",
       "    }\n",
       "</style>\n",
       "<table border=\"1\" class=\"dataframe\">\n",
       "  <thead>\n",
       "    <tr style=\"text-align: right;\">\n",
       "      <th>B1</th>\n",
       "      <th>Não</th>\n",
       "      <th>Não respondeu</th>\n",
       "      <th>Não sabe</th>\n",
       "      <th>Sim</th>\n",
       "    </tr>\n",
       "    <tr>\n",
       "      <th>RACA</th>\n",
       "      <th></th>\n",
       "      <th></th>\n",
       "      <th></th>\n",
       "      <th></th>\n",
       "    </tr>\n",
       "  </thead>\n",
       "  <tbody>\n",
       "    <tr>\n",
       "      <th>Amarela</th>\n",
       "      <td>0.429996</td>\n",
       "      <td>0.000000</td>\n",
       "      <td>0.000925</td>\n",
       "      <td>0.569079</td>\n",
       "    </tr>\n",
       "    <tr>\n",
       "      <th>Branca</th>\n",
       "      <td>0.373124</td>\n",
       "      <td>0.000486</td>\n",
       "      <td>0.000059</td>\n",
       "      <td>0.626331</td>\n",
       "    </tr>\n",
       "    <tr>\n",
       "      <th>Indígena</th>\n",
       "      <td>0.507732</td>\n",
       "      <td>0.014052</td>\n",
       "      <td>0.000273</td>\n",
       "      <td>0.477944</td>\n",
       "    </tr>\n",
       "    <tr>\n",
       "      <th>Não respondeu</th>\n",
       "      <td>0.661876</td>\n",
       "      <td>0.001373</td>\n",
       "      <td>0.000000</td>\n",
       "      <td>0.336751</td>\n",
       "    </tr>\n",
       "    <tr>\n",
       "      <th>Parda</th>\n",
       "      <td>0.427888</td>\n",
       "      <td>0.001571</td>\n",
       "      <td>0.000000</td>\n",
       "      <td>0.570541</td>\n",
       "    </tr>\n",
       "    <tr>\n",
       "      <th>Preta</th>\n",
       "      <td>0.451040</td>\n",
       "      <td>0.002388</td>\n",
       "      <td>0.000165</td>\n",
       "      <td>0.546408</td>\n",
       "    </tr>\n",
       "  </tbody>\n",
       "</table>\n",
       "</div>"
      ],
      "text/plain": [
       "B1                  Não  Não respondeu  Não sabe       Sim\n",
       "RACA                                                      \n",
       "Amarela        0.429996       0.000000  0.000925  0.569079\n",
       "Branca         0.373124       0.000486  0.000059  0.626331\n",
       "Indígena       0.507732       0.014052  0.000273  0.477944\n",
       "Não respondeu  0.661876       0.001373  0.000000  0.336751\n",
       "Parda          0.427888       0.001571  0.000000  0.570541\n",
       "Preta          0.451040       0.002388  0.000165  0.546408"
      ]
     },
     "execution_count": 62,
     "metadata": {},
     "output_type": "execute_result"
    }
   ],
   "source": [
    "pd.crosstab(df_labels['RACA'], df_labels['B1'],\n",
    "            df_labels['PESO'], aggfunc='sum', normalize='index')"
   ]
  },
  {
   "cell_type": "code",
   "execution_count": 63,
   "metadata": {
    "ExecuteTime": {
     "end_time": "2021-02-27T00:43:17.788064Z",
     "start_time": "2021-02-27T00:43:17.785264Z"
    },
    "slideshow": {
     "slide_type": "slide"
    }
   },
   "outputs": [],
   "source": [
    "def gera_tabela_freq(df, dimensao, indice, peso):\n",
    "    return pd.crosstab(df[dimensao], df[indice], df[peso], aggfunc='sum', normalize='index')"
   ]
  },
  {
   "cell_type": "code",
   "execution_count": 64,
   "metadata": {},
   "outputs": [
    {
     "data": {
      "text/plain": [
       "0                                           Católica\n",
       "1                         Outras Igrejas Evangélicas\n",
       "2                         Outras Igrejas Evangélicas\n",
       "3                         Outras Igrejas Evangélicas\n",
       "4                                           Católica\n",
       "                            ...                     \n",
       "20531                                   Sem religião\n",
       "20532    Luterana/ Presbiteriana/ Metodista/ Batista\n",
       "20533                                       Católica\n",
       "20534                                   Sem religião\n",
       "20535                     Outras Igrejas Evangélicas\n",
       "Name: RELIGIAO, Length: 20536, dtype: object"
      ]
     },
     "execution_count": 64,
     "metadata": {},
     "output_type": "execute_result"
    }
   ],
   "source": [
    "df_labels['RELIGIAO']"
   ]
  },
  {
   "cell_type": "code",
   "execution_count": 65,
   "metadata": {
    "scrolled": true
   },
   "outputs": [
    {
     "data": {
      "text/plain": [
       "0        Sim\n",
       "1        Sim\n",
       "2        Sim\n",
       "3        Não\n",
       "4        Sim\n",
       "        ... \n",
       "20531    Sim\n",
       "20532    Sim\n",
       "20533    Sim\n",
       "20534    Sim\n",
       "20535    Sim\n",
       "Name: B1, Length: 20536, dtype: object"
      ]
     },
     "execution_count": 65,
     "metadata": {},
     "output_type": "execute_result"
    }
   ],
   "source": [
    "df_labels['B1']"
   ]
  },
  {
   "cell_type": "code",
   "execution_count": 66,
   "metadata": {},
   "outputs": [
    {
     "data": {
      "text/plain": [
       "0         2150.129210\n",
       "1          549.999603\n",
       "2         1371.676211\n",
       "3          714.006789\n",
       "4         6645.045514\n",
       "             ...     \n",
       "20531     8260.657571\n",
       "20532    14999.232178\n",
       "20533     4729.809722\n",
       "20534     9225.024686\n",
       "20535    10124.651781\n",
       "Name: PESO, Length: 20536, dtype: float64"
      ]
     },
     "execution_count": 66,
     "metadata": {},
     "output_type": "execute_result"
    }
   ],
   "source": [
    "df_labels['PESO']"
   ]
  },
  {
   "cell_type": "code",
   "execution_count": 67,
   "metadata": {
    "ExecuteTime": {
     "end_time": "2021-02-27T00:43:34.515298Z",
     "start_time": "2021-02-27T00:43:34.492901Z"
    },
    "slideshow": {
     "slide_type": "fragment"
    }
   },
   "outputs": [
    {
     "data": {
      "text/html": [
       "<div>\n",
       "<style scoped>\n",
       "    .dataframe tbody tr th:only-of-type {\n",
       "        vertical-align: middle;\n",
       "    }\n",
       "\n",
       "    .dataframe tbody tr th {\n",
       "        vertical-align: top;\n",
       "    }\n",
       "\n",
       "    .dataframe thead th {\n",
       "        text-align: right;\n",
       "    }\n",
       "</style>\n",
       "<table border=\"1\" class=\"dataframe\">\n",
       "  <thead>\n",
       "    <tr style=\"text-align: right;\">\n",
       "      <th>B1</th>\n",
       "      <th>Não</th>\n",
       "      <th>Não respondeu</th>\n",
       "      <th>Não sabe</th>\n",
       "      <th>Sim</th>\n",
       "    </tr>\n",
       "    <tr>\n",
       "      <th>RELIGIAO</th>\n",
       "      <th></th>\n",
       "      <th></th>\n",
       "      <th></th>\n",
       "      <th></th>\n",
       "    </tr>\n",
       "  </thead>\n",
       "  <tbody>\n",
       "    <tr>\n",
       "      <th>Agnóstico</th>\n",
       "      <td>0.159559</td>\n",
       "      <td>0.000000</td>\n",
       "      <td>0.000000</td>\n",
       "      <td>0.840441</td>\n",
       "    </tr>\n",
       "    <tr>\n",
       "      <th>Ateu</th>\n",
       "      <td>0.291267</td>\n",
       "      <td>0.012468</td>\n",
       "      <td>0.000000</td>\n",
       "      <td>0.696265</td>\n",
       "    </tr>\n",
       "    <tr>\n",
       "      <th>Budismo</th>\n",
       "      <td>0.235810</td>\n",
       "      <td>0.000000</td>\n",
       "      <td>0.000000</td>\n",
       "      <td>0.764190</td>\n",
       "    </tr>\n",
       "    <tr>\n",
       "      <th>Candomblé</th>\n",
       "      <td>0.122780</td>\n",
       "      <td>0.000000</td>\n",
       "      <td>0.000000</td>\n",
       "      <td>0.877220</td>\n",
       "    </tr>\n",
       "    <tr>\n",
       "      <th>Católica</th>\n",
       "      <td>0.482996</td>\n",
       "      <td>0.000319</td>\n",
       "      <td>0.000038</td>\n",
       "      <td>0.516647</td>\n",
       "    </tr>\n",
       "    <tr>\n",
       "      <th>Espírita</th>\n",
       "      <td>0.216066</td>\n",
       "      <td>0.000000</td>\n",
       "      <td>0.000000</td>\n",
       "      <td>0.783934</td>\n",
       "    </tr>\n",
       "    <tr>\n",
       "      <th>Hinduismo</th>\n",
       "      <td>1.000000</td>\n",
       "      <td>0.000000</td>\n",
       "      <td>0.000000</td>\n",
       "      <td>0.000000</td>\n",
       "    </tr>\n",
       "    <tr>\n",
       "      <th>Islamismo/ Muçulmano</th>\n",
       "      <td>1.000000</td>\n",
       "      <td>0.000000</td>\n",
       "      <td>0.000000</td>\n",
       "      <td>0.000000</td>\n",
       "    </tr>\n",
       "    <tr>\n",
       "      <th>Judaismo</th>\n",
       "      <td>0.984656</td>\n",
       "      <td>0.000000</td>\n",
       "      <td>0.000000</td>\n",
       "      <td>0.015344</td>\n",
       "    </tr>\n",
       "    <tr>\n",
       "      <th>Luterana/ Presbiteriana/ Metodista/ Batista</th>\n",
       "      <td>0.261432</td>\n",
       "      <td>0.000635</td>\n",
       "      <td>0.000000</td>\n",
       "      <td>0.737932</td>\n",
       "    </tr>\n",
       "    <tr>\n",
       "      <th>Não respondeu</th>\n",
       "      <td>0.370954</td>\n",
       "      <td>0.001995</td>\n",
       "      <td>0.001213</td>\n",
       "      <td>0.625838</td>\n",
       "    </tr>\n",
       "    <tr>\n",
       "      <th>Outras Igrejas Evangélicas</th>\n",
       "      <td>0.378013</td>\n",
       "      <td>0.002703</td>\n",
       "      <td>0.000000</td>\n",
       "      <td>0.619284</td>\n",
       "    </tr>\n",
       "    <tr>\n",
       "      <th>Outras religiosidades cristãs</th>\n",
       "      <td>0.305427</td>\n",
       "      <td>0.002327</td>\n",
       "      <td>0.000000</td>\n",
       "      <td>0.692246</td>\n",
       "    </tr>\n",
       "    <tr>\n",
       "      <th>Outras religiões</th>\n",
       "      <td>0.290358</td>\n",
       "      <td>0.000000</td>\n",
       "      <td>0.000254</td>\n",
       "      <td>0.709388</td>\n",
       "    </tr>\n",
       "    <tr>\n",
       "      <th>Sem religião</th>\n",
       "      <td>0.335885</td>\n",
       "      <td>0.004573</td>\n",
       "      <td>0.000305</td>\n",
       "      <td>0.659236</td>\n",
       "    </tr>\n",
       "    <tr>\n",
       "      <th>Umbanda</th>\n",
       "      <td>0.236109</td>\n",
       "      <td>0.000000</td>\n",
       "      <td>0.000000</td>\n",
       "      <td>0.763891</td>\n",
       "    </tr>\n",
       "  </tbody>\n",
       "</table>\n",
       "</div>"
      ],
      "text/plain": [
       "B1                                                Não  Não respondeu  \\\n",
       "RELIGIAO                                                               \n",
       "Agnóstico                                    0.159559       0.000000   \n",
       "Ateu                                         0.291267       0.012468   \n",
       "Budismo                                      0.235810       0.000000   \n",
       "Candomblé                                    0.122780       0.000000   \n",
       "Católica                                     0.482996       0.000319   \n",
       "Espírita                                     0.216066       0.000000   \n",
       "Hinduismo                                    1.000000       0.000000   \n",
       "Islamismo/ Muçulmano                         1.000000       0.000000   \n",
       "Judaismo                                     0.984656       0.000000   \n",
       "Luterana/ Presbiteriana/ Metodista/ Batista  0.261432       0.000635   \n",
       "Não respondeu                                0.370954       0.001995   \n",
       "Outras Igrejas Evangélicas                   0.378013       0.002703   \n",
       "Outras religiosidades cristãs                0.305427       0.002327   \n",
       "Outras religiões                             0.290358       0.000000   \n",
       "Sem religião                                 0.335885       0.004573   \n",
       "Umbanda                                      0.236109       0.000000   \n",
       "\n",
       "B1                                           Não sabe       Sim  \n",
       "RELIGIAO                                                         \n",
       "Agnóstico                                    0.000000  0.840441  \n",
       "Ateu                                         0.000000  0.696265  \n",
       "Budismo                                      0.000000  0.764190  \n",
       "Candomblé                                    0.000000  0.877220  \n",
       "Católica                                     0.000038  0.516647  \n",
       "Espírita                                     0.000000  0.783934  \n",
       "Hinduismo                                    0.000000  0.000000  \n",
       "Islamismo/ Muçulmano                         0.000000  0.000000  \n",
       "Judaismo                                     0.000000  0.015344  \n",
       "Luterana/ Presbiteriana/ Metodista/ Batista  0.000000  0.737932  \n",
       "Não respondeu                                0.001213  0.625838  \n",
       "Outras Igrejas Evangélicas                   0.000000  0.619284  \n",
       "Outras religiosidades cristãs                0.000000  0.692246  \n",
       "Outras religiões                             0.000254  0.709388  \n",
       "Sem religião                                 0.000305  0.659236  \n",
       "Umbanda                                      0.000000  0.763891  "
      ]
     },
     "execution_count": 67,
     "metadata": {},
     "output_type": "execute_result"
    }
   ],
   "source": [
    "gera_tabela_freq(df_labels, 'RELIGIAO', 'B1',  'PESO')"
   ]
  },
  {
   "cell_type": "code",
   "execution_count": 68,
   "metadata": {
    "ExecuteTime": {
     "end_time": "2021-02-27T00:47:49.893067Z",
     "start_time": "2021-02-27T00:47:49.871347Z"
    },
    "slideshow": {
     "slide_type": "slide"
    }
   },
   "outputs": [
    {
     "data": {
      "text/html": [
       "<div>\n",
       "<style scoped>\n",
       "    .dataframe tbody tr th:only-of-type {\n",
       "        vertical-align: middle;\n",
       "    }\n",
       "\n",
       "    .dataframe tbody tr th {\n",
       "        vertical-align: top;\n",
       "    }\n",
       "\n",
       "    .dataframe thead th {\n",
       "        text-align: right;\n",
       "    }\n",
       "</style>\n",
       "<table border=\"1\" class=\"dataframe\">\n",
       "  <thead>\n",
       "    <tr style=\"text-align: right;\">\n",
       "      <th>B1</th>\n",
       "      <th>Não</th>\n",
       "      <th>Não respondeu</th>\n",
       "      <th>Não sabe</th>\n",
       "      <th>Sim</th>\n",
       "    </tr>\n",
       "    <tr>\n",
       "      <th>PEA_2</th>\n",
       "      <th></th>\n",
       "      <th></th>\n",
       "      <th></th>\n",
       "      <th></th>\n",
       "    </tr>\n",
       "  </thead>\n",
       "  <tbody>\n",
       "    <tr>\n",
       "      <th>Não PEA</th>\n",
       "      <td>0.538646</td>\n",
       "      <td>0.002065</td>\n",
       "      <td>0.000105</td>\n",
       "      <td>0.459184</td>\n",
       "    </tr>\n",
       "    <tr>\n",
       "      <th>PEA</th>\n",
       "      <td>0.335495</td>\n",
       "      <td>0.000979</td>\n",
       "      <td>0.000042</td>\n",
       "      <td>0.663484</td>\n",
       "    </tr>\n",
       "  </tbody>\n",
       "</table>\n",
       "</div>"
      ],
      "text/plain": [
       "B1            Não  Não respondeu  Não sabe       Sim\n",
       "PEA_2                                               \n",
       "Não PEA  0.538646       0.002065  0.000105  0.459184\n",
       "PEA      0.335495       0.000979  0.000042  0.663484"
      ]
     },
     "execution_count": 68,
     "metadata": {},
     "output_type": "execute_result"
    }
   ],
   "source": [
    "gera_tabela_freq(df_labels, 'PEA_2', 'B1',  'PESO')"
   ]
  },
  {
   "cell_type": "code",
   "execution_count": 69,
   "metadata": {},
   "outputs": [
    {
     "data": {
      "text/plain": [
       "[[0, 1, 2, 3, 4, 5, 6, 7, 8, 9],\n",
       " [2, 3, 4, 5, 6, 7, 8, 9, 10, 11],\n",
       " [4, 5, 6, 7, 8, 9, 10, 11, 12, 13],\n",
       " [6, 7, 8, 9, 10, 11, 12, 13, 14, 15],\n",
       " [8, 9, 10, 11, 12, 13, 14, 15, 16, 17]]"
      ]
     },
     "execution_count": 69,
     "metadata": {},
     "output_type": "execute_result"
    }
   ],
   "source": [
    "[[a+b for a in range(10)] for b in range(10) if b%2 == 0]"
   ]
  },
  {
   "cell_type": "code",
   "execution_count": 70,
   "metadata": {
    "ExecuteTime": {
     "end_time": "2021-02-27T00:49:01.029713Z",
     "start_time": "2021-02-27T00:49:01.024492Z"
    },
    "slideshow": {
     "slide_type": "slide"
    }
   },
   "outputs": [],
   "source": [
    "dimensoes = ['AREA', 'SEXO', 'COD_REGIAO_2', 'RACA', 'GRAU_INSTRUCAO',\n",
    "             'FAIXA_ETARIA', 'RENDA_FAMILIAR',  'CLASSE_CB2015',  'RELIGIAO', 'PEA_2']\n",
    "\n",
    "indicadores = [c for c in df_labels.columns if c not in dimensoes + ['QUEST', 'ID_DOMICILIO', 'ID_MORADOR',\n",
    "                                                                     'IDADE', 'RENDA_PESSOAL', 'GRAU_INSTRUCAO_2', 'RENDA_FAMILIAR_2', 'PEA', 'ESTRATO', 'UPA',  'PEA',  'PESO', 'CLASSE_CB2008', ]]"
   ]
  },
  {
   "cell_type": "code",
   "execution_count": 71,
   "metadata": {
    "ExecuteTime": {
     "end_time": "2021-02-27T00:49:44.541376Z",
     "start_time": "2021-02-27T00:49:44.538936Z"
    },
    "slideshow": {
     "slide_type": "slide"
    }
   },
   "outputs": [],
   "source": [
    "dimensao = 'SEXO'\n",
    "indicador = 'B1'"
   ]
  },
  {
   "cell_type": "code",
   "execution_count": 72,
   "metadata": {
    "ExecuteTime": {
     "end_time": "2021-02-27T00:49:46.863463Z",
     "start_time": "2021-02-27T00:49:46.851402Z"
    },
    "slideshow": {
     "slide_type": "slide"
    }
   },
   "outputs": [
    {
     "data": {
      "text/html": [
       "<div>\n",
       "<style scoped>\n",
       "    .dataframe tbody tr th:only-of-type {\n",
       "        vertical-align: middle;\n",
       "    }\n",
       "\n",
       "    .dataframe tbody tr th {\n",
       "        vertical-align: top;\n",
       "    }\n",
       "\n",
       "    .dataframe thead th {\n",
       "        text-align: right;\n",
       "    }\n",
       "</style>\n",
       "<table border=\"1\" class=\"dataframe\">\n",
       "  <thead>\n",
       "    <tr style=\"text-align: right;\">\n",
       "      <th></th>\n",
       "      <th>Labels</th>\n",
       "      <th>Frequency</th>\n",
       "    </tr>\n",
       "  </thead>\n",
       "  <tbody>\n",
       "    <tr>\n",
       "      <th>0</th>\n",
       "      <td>Não</td>\n",
       "      <td>0.417891</td>\n",
       "    </tr>\n",
       "    <tr>\n",
       "      <th>1</th>\n",
       "      <td>Sim</td>\n",
       "      <td>0.580622</td>\n",
       "    </tr>\n",
       "    <tr>\n",
       "      <th>2</th>\n",
       "      <td>Não sabe</td>\n",
       "      <td>0.000068</td>\n",
       "    </tr>\n",
       "    <tr>\n",
       "      <th>3</th>\n",
       "      <td>Não respondeu</td>\n",
       "      <td>0.001419</td>\n",
       "    </tr>\n",
       "  </tbody>\n",
       "</table>\n",
       "</div>"
      ],
      "text/plain": [
       "          Labels  Frequency\n",
       "0            Não   0.417891\n",
       "1            Sim   0.580622\n",
       "2       Não sabe   0.000068\n",
       "3  Não respondeu   0.001419"
      ]
     },
     "execution_count": 72,
     "metadata": {},
     "output_type": "execute_result"
    }
   ],
   "source": [
    "weighted_frequency(indicador, 'PESO')"
   ]
  },
  {
   "cell_type": "code",
   "execution_count": 73,
   "metadata": {
    "ExecuteTime": {
     "end_time": "2021-02-27T00:51:06.004868Z",
     "start_time": "2021-02-27T00:51:05.977394Z"
    },
    "slideshow": {
     "slide_type": "slide"
    }
   },
   "outputs": [
    {
     "name": "stderr",
     "output_type": "stream",
     "text": [
      "/home/heliozf/anaconda3/lib/python3.12/site-packages/altair/utils/core.py:395: FutureWarning: the convert_dtype parameter is deprecated and will be removed in a future version.  Do ``ser.astype(object).apply()`` instead if you want ``convert_dtype=False``.\n",
      "  col = df[col_name].apply(to_list_if_array, convert_dtype=False)\n"
     ]
    },
    {
     "data": {
      "text/html": [
       "\n",
       "<style>\n",
       "  #altair-viz-9723c27cbd064f709c5f1aa7c592fd16.vega-embed {\n",
       "    width: 100%;\n",
       "    display: flex;\n",
       "  }\n",
       "\n",
       "  #altair-viz-9723c27cbd064f709c5f1aa7c592fd16.vega-embed details,\n",
       "  #altair-viz-9723c27cbd064f709c5f1aa7c592fd16.vega-embed details summary {\n",
       "    position: relative;\n",
       "  }\n",
       "</style>\n",
       "<div id=\"altair-viz-9723c27cbd064f709c5f1aa7c592fd16\"></div>\n",
       "<script type=\"text/javascript\">\n",
       "  var VEGA_DEBUG = (typeof VEGA_DEBUG == \"undefined\") ? {} : VEGA_DEBUG;\n",
       "  (function(spec, embedOpt){\n",
       "    let outputDiv = document.currentScript.previousElementSibling;\n",
       "    if (outputDiv.id !== \"altair-viz-9723c27cbd064f709c5f1aa7c592fd16\") {\n",
       "      outputDiv = document.getElementById(\"altair-viz-9723c27cbd064f709c5f1aa7c592fd16\");\n",
       "    }\n",
       "    const paths = {\n",
       "      \"vega\": \"https://cdn.jsdelivr.net/npm/vega@5?noext\",\n",
       "      \"vega-lib\": \"https://cdn.jsdelivr.net/npm/vega-lib?noext\",\n",
       "      \"vega-lite\": \"https://cdn.jsdelivr.net/npm/vega-lite@5.8.0?noext\",\n",
       "      \"vega-embed\": \"https://cdn.jsdelivr.net/npm/vega-embed@6?noext\",\n",
       "    };\n",
       "\n",
       "    function maybeLoadScript(lib, version) {\n",
       "      var key = `${lib.replace(\"-\", \"\")}_version`;\n",
       "      return (VEGA_DEBUG[key] == version) ?\n",
       "        Promise.resolve(paths[lib]) :\n",
       "        new Promise(function(resolve, reject) {\n",
       "          var s = document.createElement('script');\n",
       "          document.getElementsByTagName(\"head\")[0].appendChild(s);\n",
       "          s.async = true;\n",
       "          s.onload = () => {\n",
       "            VEGA_DEBUG[key] = version;\n",
       "            return resolve(paths[lib]);\n",
       "          };\n",
       "          s.onerror = () => reject(`Error loading script: ${paths[lib]}`);\n",
       "          s.src = paths[lib];\n",
       "        });\n",
       "    }\n",
       "\n",
       "    function showError(err) {\n",
       "      outputDiv.innerHTML = `<div class=\"error\" style=\"color:red;\">${err}</div>`;\n",
       "      throw err;\n",
       "    }\n",
       "\n",
       "    function displayChart(vegaEmbed) {\n",
       "      vegaEmbed(outputDiv, spec, embedOpt)\n",
       "        .catch(err => showError(`Javascript Error: ${err.message}<br>This usually means there's a typo in your chart specification. See the javascript console for the full traceback.`));\n",
       "    }\n",
       "\n",
       "    if(typeof define === \"function\" && define.amd) {\n",
       "      requirejs.config({paths});\n",
       "      require([\"vega-embed\"], displayChart, err => showError(`Error loading script: ${err.message}`));\n",
       "    } else {\n",
       "      maybeLoadScript(\"vega\", \"5\")\n",
       "        .then(() => maybeLoadScript(\"vega-lite\", \"5.8.0\"))\n",
       "        .then(() => maybeLoadScript(\"vega-embed\", \"6\"))\n",
       "        .catch(showError)\n",
       "        .then(() => displayChart(vegaEmbed));\n",
       "    }\n",
       "  })({\"config\": {\"view\": {\"continuousWidth\": 300, \"continuousHeight\": 300}}, \"data\": {\"name\": \"data-2f2d71f1770c9da986ec703cb6cca8c2\"}, \"mark\": {\"type\": \"bar\"}, \"encoding\": {\"tooltip\": [{\"field\": \"Labels\", \"type\": \"nominal\"}, {\"field\": \"Frequency\", \"type\": \"quantitative\"}], \"x\": {\"axis\": {\"labelAngle\": 45, \"title\": \"Respostas\"}, \"field\": \"Labels\", \"type\": \"nominal\"}, \"y\": {\"axis\": {\"title\": \"Frequencia\"}, \"field\": \"Frequency\", \"type\": \"quantitative\"}}, \"params\": [{\"name\": \"param_1\", \"select\": {\"type\": \"interval\", \"encodings\": [\"x\", \"y\"]}, \"bind\": \"scales\"}], \"$schema\": \"https://vega.github.io/schema/vega-lite/v5.8.0.json\", \"datasets\": {\"data-2f2d71f1770c9da986ec703cb6cca8c2\": [{\"Labels\": \"N\\u00e3o\", \"Frequency\": 0.4178910751883392}, {\"Labels\": \"Sim\", \"Frequency\": 0.5806219005902814}, {\"Labels\": \"N\\u00e3o sabe\", \"Frequency\": 6.788811832444174e-05}, {\"Labels\": \"N\\u00e3o respondeu\", \"Frequency\": 0.0014191361030548725}]}}, {\"mode\": \"vega-lite\"});\n",
       "</script>"
      ],
      "text/plain": [
       "alt.Chart(...)"
      ]
     },
     "execution_count": 73,
     "metadata": {},
     "output_type": "execute_result"
    }
   ],
   "source": [
    "alt.Chart(weighted_frequency(indicador, 'PESO')).mark_bar().encode(\n",
    "        x=alt.X('Labels', axis=alt.Axis(labelAngle=45, title='Respostas')),\n",
    "        y=alt.Y('Frequency', axis=alt.Axis(title='Frequencia')),\n",
    "        tooltip=['Labels', 'Frequency']\n",
    ").interactive()"
   ]
  },
  {
   "cell_type": "code",
   "execution_count": 74,
   "metadata": {
    "ExecuteTime": {
     "end_time": "2021-02-27T00:51:15.881919Z",
     "start_time": "2021-02-27T00:51:15.854994Z"
    },
    "slideshow": {
     "slide_type": "slide"
    }
   },
   "outputs": [
    {
     "data": {
      "text/html": [
       "<div>\n",
       "<style scoped>\n",
       "    .dataframe tbody tr th:only-of-type {\n",
       "        vertical-align: middle;\n",
       "    }\n",
       "\n",
       "    .dataframe tbody tr th {\n",
       "        vertical-align: top;\n",
       "    }\n",
       "\n",
       "    .dataframe thead th {\n",
       "        text-align: right;\n",
       "    }\n",
       "</style>\n",
       "<table border=\"1\" class=\"dataframe\">\n",
       "  <thead>\n",
       "    <tr style=\"text-align: right;\">\n",
       "      <th>B1</th>\n",
       "      <th>SEXO</th>\n",
       "      <th>Não</th>\n",
       "      <th>Não respondeu</th>\n",
       "      <th>Não sabe</th>\n",
       "      <th>Sim</th>\n",
       "    </tr>\n",
       "  </thead>\n",
       "  <tbody>\n",
       "    <tr>\n",
       "      <th>0</th>\n",
       "      <td>Feminino</td>\n",
       "      <td>0.450328</td>\n",
       "      <td>0.001004</td>\n",
       "      <td>0.000049</td>\n",
       "      <td>0.548619</td>\n",
       "    </tr>\n",
       "    <tr>\n",
       "      <th>1</th>\n",
       "      <td>Masculino</td>\n",
       "      <td>0.382605</td>\n",
       "      <td>0.001871</td>\n",
       "      <td>0.000089</td>\n",
       "      <td>0.615436</td>\n",
       "    </tr>\n",
       "  </tbody>\n",
       "</table>\n",
       "</div>"
      ],
      "text/plain": [
       "B1       SEXO       Não  Não respondeu  Não sabe       Sim\n",
       "0    Feminino  0.450328       0.001004  0.000049  0.548619\n",
       "1   Masculino  0.382605       0.001871  0.000089  0.615436"
      ]
     },
     "execution_count": 74,
     "metadata": {},
     "output_type": "execute_result"
    }
   ],
   "source": [
    "gera_tabela_freq(df_labels, dimensao,  indicador, 'PESO').reset_index()"
   ]
  },
  {
   "cell_type": "code",
   "execution_count": 75,
   "metadata": {
    "ExecuteTime": {
     "end_time": "2021-02-27T00:54:12.566691Z",
     "start_time": "2021-02-27T00:54:12.544508Z"
    },
    "slideshow": {
     "slide_type": "slide"
    }
   },
   "outputs": [],
   "source": [
    "dimensao = 'AREA'\n",
    "tiny_data = pd.melt(gera_tabela_freq(df_labels, dimensao,  indicador, 'PESO').reset_index(), \n",
    "                    id_vars=dimensao, \n",
    "                    var_name='Respostas', \n",
    "                    value_name='Frequencia')"
   ]
  },
  {
   "cell_type": "code",
   "execution_count": 76,
   "metadata": {
    "ExecuteTime": {
     "end_time": "2021-02-27T00:54:13.055981Z",
     "start_time": "2021-02-27T00:54:13.047341Z"
    }
   },
   "outputs": [
    {
     "data": {
      "text/html": [
       "<div>\n",
       "<style scoped>\n",
       "    .dataframe tbody tr th:only-of-type {\n",
       "        vertical-align: middle;\n",
       "    }\n",
       "\n",
       "    .dataframe tbody tr th {\n",
       "        vertical-align: top;\n",
       "    }\n",
       "\n",
       "    .dataframe thead th {\n",
       "        text-align: right;\n",
       "    }\n",
       "</style>\n",
       "<table border=\"1\" class=\"dataframe\">\n",
       "  <thead>\n",
       "    <tr style=\"text-align: right;\">\n",
       "      <th></th>\n",
       "      <th>AREA</th>\n",
       "      <th>Respostas</th>\n",
       "      <th>Frequencia</th>\n",
       "    </tr>\n",
       "  </thead>\n",
       "  <tbody>\n",
       "    <tr>\n",
       "      <th>0</th>\n",
       "      <td>RURAL</td>\n",
       "      <td>Não</td>\n",
       "      <td>0.677597</td>\n",
       "    </tr>\n",
       "    <tr>\n",
       "      <th>1</th>\n",
       "      <td>URBANA</td>\n",
       "      <td>Não</td>\n",
       "      <td>0.375142</td>\n",
       "    </tr>\n",
       "    <tr>\n",
       "      <th>2</th>\n",
       "      <td>RURAL</td>\n",
       "      <td>Não respondeu</td>\n",
       "      <td>0.003215</td>\n",
       "    </tr>\n",
       "    <tr>\n",
       "      <th>3</th>\n",
       "      <td>URBANA</td>\n",
       "      <td>Não respondeu</td>\n",
       "      <td>0.001124</td>\n",
       "    </tr>\n",
       "    <tr>\n",
       "      <th>4</th>\n",
       "      <td>RURAL</td>\n",
       "      <td>Não sabe</td>\n",
       "      <td>0.000153</td>\n",
       "    </tr>\n",
       "    <tr>\n",
       "      <th>5</th>\n",
       "      <td>URBANA</td>\n",
       "      <td>Não sabe</td>\n",
       "      <td>0.000054</td>\n",
       "    </tr>\n",
       "    <tr>\n",
       "      <th>6</th>\n",
       "      <td>RURAL</td>\n",
       "      <td>Sim</td>\n",
       "      <td>0.319035</td>\n",
       "    </tr>\n",
       "    <tr>\n",
       "      <th>7</th>\n",
       "      <td>URBANA</td>\n",
       "      <td>Sim</td>\n",
       "      <td>0.623681</td>\n",
       "    </tr>\n",
       "  </tbody>\n",
       "</table>\n",
       "</div>"
      ],
      "text/plain": [
       "     AREA      Respostas  Frequencia\n",
       "0   RURAL            Não    0.677597\n",
       "1  URBANA            Não    0.375142\n",
       "2   RURAL  Não respondeu    0.003215\n",
       "3  URBANA  Não respondeu    0.001124\n",
       "4   RURAL       Não sabe    0.000153\n",
       "5  URBANA       Não sabe    0.000054\n",
       "6   RURAL            Sim    0.319035\n",
       "7  URBANA            Sim    0.623681"
      ]
     },
     "execution_count": 76,
     "metadata": {},
     "output_type": "execute_result"
    }
   ],
   "source": [
    "tiny_data"
   ]
  },
  {
   "cell_type": "code",
   "execution_count": 77,
   "metadata": {
    "ExecuteTime": {
     "end_time": "2021-02-27T00:54:14.896011Z",
     "start_time": "2021-02-27T00:54:14.873160Z"
    }
   },
   "outputs": [
    {
     "name": "stderr",
     "output_type": "stream",
     "text": [
      "/home/heliozf/anaconda3/lib/python3.12/site-packages/altair/utils/core.py:395: FutureWarning: the convert_dtype parameter is deprecated and will be removed in a future version.  Do ``ser.astype(object).apply()`` instead if you want ``convert_dtype=False``.\n",
      "  col = df[col_name].apply(to_list_if_array, convert_dtype=False)\n",
      "/home/heliozf/anaconda3/lib/python3.12/site-packages/altair/utils/core.py:395: FutureWarning: the convert_dtype parameter is deprecated and will be removed in a future version.  Do ``ser.astype(object).apply()`` instead if you want ``convert_dtype=False``.\n",
      "  col = df[col_name].apply(to_list_if_array, convert_dtype=False)\n"
     ]
    },
    {
     "data": {
      "text/html": [
       "\n",
       "<style>\n",
       "  #altair-viz-049f8094e6c043fe86df182b4ec9eddd.vega-embed {\n",
       "    width: 100%;\n",
       "    display: flex;\n",
       "  }\n",
       "\n",
       "  #altair-viz-049f8094e6c043fe86df182b4ec9eddd.vega-embed details,\n",
       "  #altair-viz-049f8094e6c043fe86df182b4ec9eddd.vega-embed details summary {\n",
       "    position: relative;\n",
       "  }\n",
       "</style>\n",
       "<div id=\"altair-viz-049f8094e6c043fe86df182b4ec9eddd\"></div>\n",
       "<script type=\"text/javascript\">\n",
       "  var VEGA_DEBUG = (typeof VEGA_DEBUG == \"undefined\") ? {} : VEGA_DEBUG;\n",
       "  (function(spec, embedOpt){\n",
       "    let outputDiv = document.currentScript.previousElementSibling;\n",
       "    if (outputDiv.id !== \"altair-viz-049f8094e6c043fe86df182b4ec9eddd\") {\n",
       "      outputDiv = document.getElementById(\"altair-viz-049f8094e6c043fe86df182b4ec9eddd\");\n",
       "    }\n",
       "    const paths = {\n",
       "      \"vega\": \"https://cdn.jsdelivr.net/npm/vega@5?noext\",\n",
       "      \"vega-lib\": \"https://cdn.jsdelivr.net/npm/vega-lib?noext\",\n",
       "      \"vega-lite\": \"https://cdn.jsdelivr.net/npm/vega-lite@5.8.0?noext\",\n",
       "      \"vega-embed\": \"https://cdn.jsdelivr.net/npm/vega-embed@6?noext\",\n",
       "    };\n",
       "\n",
       "    function maybeLoadScript(lib, version) {\n",
       "      var key = `${lib.replace(\"-\", \"\")}_version`;\n",
       "      return (VEGA_DEBUG[key] == version) ?\n",
       "        Promise.resolve(paths[lib]) :\n",
       "        new Promise(function(resolve, reject) {\n",
       "          var s = document.createElement('script');\n",
       "          document.getElementsByTagName(\"head\")[0].appendChild(s);\n",
       "          s.async = true;\n",
       "          s.onload = () => {\n",
       "            VEGA_DEBUG[key] = version;\n",
       "            return resolve(paths[lib]);\n",
       "          };\n",
       "          s.onerror = () => reject(`Error loading script: ${paths[lib]}`);\n",
       "          s.src = paths[lib];\n",
       "        });\n",
       "    }\n",
       "\n",
       "    function showError(err) {\n",
       "      outputDiv.innerHTML = `<div class=\"error\" style=\"color:red;\">${err}</div>`;\n",
       "      throw err;\n",
       "    }\n",
       "\n",
       "    function displayChart(vegaEmbed) {\n",
       "      vegaEmbed(outputDiv, spec, embedOpt)\n",
       "        .catch(err => showError(`Javascript Error: ${err.message}<br>This usually means there's a typo in your chart specification. See the javascript console for the full traceback.`));\n",
       "    }\n",
       "\n",
       "    if(typeof define === \"function\" && define.amd) {\n",
       "      requirejs.config({paths});\n",
       "      require([\"vega-embed\"], displayChart, err => showError(`Error loading script: ${err.message}`));\n",
       "    } else {\n",
       "      maybeLoadScript(\"vega\", \"5\")\n",
       "        .then(() => maybeLoadScript(\"vega-lite\", \"5.8.0\"))\n",
       "        .then(() => maybeLoadScript(\"vega-embed\", \"6\"))\n",
       "        .catch(showError)\n",
       "        .then(() => displayChart(vegaEmbed));\n",
       "    }\n",
       "  })({\"config\": {\"view\": {\"continuousWidth\": 300, \"continuousHeight\": 300}}, \"data\": {\"name\": \"data-7b20349a312dbc740a26907d87b7b841\"}, \"mark\": {\"type\": \"bar\"}, \"encoding\": {\"color\": {\"field\": \"Respostas\", \"type\": \"nominal\"}, \"column\": {\"field\": \"AREA\", \"type\": \"nominal\"}, \"x\": {\"axis\": {\"labelAngle\": 45, \"title\": \"Frequencia\"}, \"field\": \"Frequencia\", \"type\": \"quantitative\"}, \"y\": {\"axis\": {\"title\": \"Respostas\"}, \"field\": \"Respostas\", \"type\": \"nominal\"}}, \"params\": [{\"name\": \"param_2\", \"select\": {\"type\": \"interval\", \"encodings\": [\"x\", \"y\"]}, \"bind\": \"scales\"}], \"$schema\": \"https://vega.github.io/schema/vega-lite/v5.8.0.json\", \"datasets\": {\"data-7b20349a312dbc740a26907d87b7b841\": [{\"AREA\": \"RURAL\", \"Respostas\": \"N\\u00e3o\", \"Frequencia\": 0.6775974058093508}, {\"AREA\": \"URBANA\", \"Respostas\": \"N\\u00e3o\", \"Frequencia\": 0.3751419101154356}, {\"AREA\": \"RURAL\", \"Respostas\": \"N\\u00e3o respondeu\", \"Frequencia\": 0.0032147349103466747}, {\"AREA\": \"URBANA\", \"Respostas\": \"N\\u00e3o respondeu\", \"Frequencia\": 0.001123570147330666}, {\"AREA\": \"RURAL\", \"Respostas\": \"N\\u00e3o sabe\", \"Frequencia\": 0.00015313443096218367}, {\"AREA\": \"URBANA\", \"Respostas\": \"N\\u00e3o sabe\", \"Frequencia\": 5.3856081900481196e-05}, {\"AREA\": \"RURAL\", \"Respostas\": \"Sim\", \"Frequencia\": 0.3190347248493402}, {\"AREA\": \"URBANA\", \"Respostas\": \"Sim\", \"Frequencia\": 0.6236806636553331}]}}, {\"mode\": \"vega-lite\"});\n",
       "</script>"
      ],
      "text/plain": [
       "alt.Chart(...)"
      ]
     },
     "execution_count": 77,
     "metadata": {},
     "output_type": "execute_result"
    }
   ],
   "source": [
    "alt.Chart(tiny_data).mark_bar().encode(\n",
    "        x=alt.X('Frequencia',  axis=alt.Axis(labelAngle=45, title='Frequencia')),\n",
    "        column=dimensao,\n",
    "        color='Respostas',\n",
    "        y=alt.Y('Respostas', axis=alt.Axis(title='Respostas')),\n",
    ").interactive()"
   ]
  },
  {
   "cell_type": "code",
   "execution_count": null,
   "metadata": {},
   "outputs": [],
   "source": []
  },
  {
   "cell_type": "code",
   "execution_count": null,
   "metadata": {},
   "outputs": [],
   "source": []
  },
  {
   "cell_type": "code",
   "execution_count": 78,
   "metadata": {},
   "outputs": [
    {
     "name": "stderr",
     "output_type": "stream",
     "text": [
      "/home/heliozf/anaconda3/lib/python3.12/site-packages/altair/utils/core.py:395: FutureWarning: the convert_dtype parameter is deprecated and will be removed in a future version.  Do ``ser.astype(object).apply()`` instead if you want ``convert_dtype=False``.\n",
      "  col = df[col_name].apply(to_list_if_array, convert_dtype=False)\n",
      "/home/heliozf/anaconda3/lib/python3.12/site-packages/altair/utils/core.py:395: FutureWarning: the convert_dtype parameter is deprecated and will be removed in a future version.  Do ``ser.astype(object).apply()`` instead if you want ``convert_dtype=False``.\n",
      "  col = df[col_name].apply(to_list_if_array, convert_dtype=False)\n"
     ]
    },
    {
     "data": {
      "text/html": [
       "\n",
       "<style>\n",
       "  #altair-viz-0baf5cadb5c046d291837dfb34935d0a.vega-embed {\n",
       "    width: 100%;\n",
       "    display: flex;\n",
       "  }\n",
       "\n",
       "  #altair-viz-0baf5cadb5c046d291837dfb34935d0a.vega-embed details,\n",
       "  #altair-viz-0baf5cadb5c046d291837dfb34935d0a.vega-embed details summary {\n",
       "    position: relative;\n",
       "  }\n",
       "</style>\n",
       "<div id=\"altair-viz-0baf5cadb5c046d291837dfb34935d0a\"></div>\n",
       "<script type=\"text/javascript\">\n",
       "  var VEGA_DEBUG = (typeof VEGA_DEBUG == \"undefined\") ? {} : VEGA_DEBUG;\n",
       "  (function(spec, embedOpt){\n",
       "    let outputDiv = document.currentScript.previousElementSibling;\n",
       "    if (outputDiv.id !== \"altair-viz-0baf5cadb5c046d291837dfb34935d0a\") {\n",
       "      outputDiv = document.getElementById(\"altair-viz-0baf5cadb5c046d291837dfb34935d0a\");\n",
       "    }\n",
       "    const paths = {\n",
       "      \"vega\": \"https://cdn.jsdelivr.net/npm/vega@5?noext\",\n",
       "      \"vega-lib\": \"https://cdn.jsdelivr.net/npm/vega-lib?noext\",\n",
       "      \"vega-lite\": \"https://cdn.jsdelivr.net/npm/vega-lite@5.8.0?noext\",\n",
       "      \"vega-embed\": \"https://cdn.jsdelivr.net/npm/vega-embed@6?noext\",\n",
       "    };\n",
       "\n",
       "    function maybeLoadScript(lib, version) {\n",
       "      var key = `${lib.replace(\"-\", \"\")}_version`;\n",
       "      return (VEGA_DEBUG[key] == version) ?\n",
       "        Promise.resolve(paths[lib]) :\n",
       "        new Promise(function(resolve, reject) {\n",
       "          var s = document.createElement('script');\n",
       "          document.getElementsByTagName(\"head\")[0].appendChild(s);\n",
       "          s.async = true;\n",
       "          s.onload = () => {\n",
       "            VEGA_DEBUG[key] = version;\n",
       "            return resolve(paths[lib]);\n",
       "          };\n",
       "          s.onerror = () => reject(`Error loading script: ${paths[lib]}`);\n",
       "          s.src = paths[lib];\n",
       "        });\n",
       "    }\n",
       "\n",
       "    function showError(err) {\n",
       "      outputDiv.innerHTML = `<div class=\"error\" style=\"color:red;\">${err}</div>`;\n",
       "      throw err;\n",
       "    }\n",
       "\n",
       "    function displayChart(vegaEmbed) {\n",
       "      vegaEmbed(outputDiv, spec, embedOpt)\n",
       "        .catch(err => showError(`Javascript Error: ${err.message}<br>This usually means there's a typo in your chart specification. See the javascript console for the full traceback.`));\n",
       "    }\n",
       "\n",
       "    if(typeof define === \"function\" && define.amd) {\n",
       "      requirejs.config({paths});\n",
       "      require([\"vega-embed\"], displayChart, err => showError(`Error loading script: ${err.message}`));\n",
       "    } else {\n",
       "      maybeLoadScript(\"vega\", \"5\")\n",
       "        .then(() => maybeLoadScript(\"vega-lite\", \"5.8.0\"))\n",
       "        .then(() => maybeLoadScript(\"vega-embed\", \"6\"))\n",
       "        .catch(showError)\n",
       "        .then(() => displayChart(vegaEmbed));\n",
       "    }\n",
       "  })({\"config\": {\"view\": {\"continuousWidth\": 300, \"continuousHeight\": 300}}, \"data\": {\"name\": \"data-7b20349a312dbc740a26907d87b7b841\"}, \"mark\": {\"type\": \"bar\"}, \"encoding\": {\"color\": {\"field\": \"AREA\", \"type\": \"nominal\"}, \"column\": {\"field\": \"AREA\", \"type\": \"nominal\"}, \"x\": {\"axis\": {\"labelAngle\": 45, \"title\": \"Respostas\"}, \"field\": \"Respostas\", \"type\": \"nominal\"}, \"y\": {\"axis\": {\"title\": \"Frequencia\"}, \"field\": \"Frequencia\", \"type\": \"quantitative\"}}, \"params\": [{\"name\": \"param_3\", \"select\": {\"type\": \"interval\", \"encodings\": [\"x\", \"y\"]}, \"bind\": \"scales\"}], \"$schema\": \"https://vega.github.io/schema/vega-lite/v5.8.0.json\", \"datasets\": {\"data-7b20349a312dbc740a26907d87b7b841\": [{\"AREA\": \"RURAL\", \"Respostas\": \"N\\u00e3o\", \"Frequencia\": 0.6775974058093508}, {\"AREA\": \"URBANA\", \"Respostas\": \"N\\u00e3o\", \"Frequencia\": 0.3751419101154356}, {\"AREA\": \"RURAL\", \"Respostas\": \"N\\u00e3o respondeu\", \"Frequencia\": 0.0032147349103466747}, {\"AREA\": \"URBANA\", \"Respostas\": \"N\\u00e3o respondeu\", \"Frequencia\": 0.001123570147330666}, {\"AREA\": \"RURAL\", \"Respostas\": \"N\\u00e3o sabe\", \"Frequencia\": 0.00015313443096218367}, {\"AREA\": \"URBANA\", \"Respostas\": \"N\\u00e3o sabe\", \"Frequencia\": 5.3856081900481196e-05}, {\"AREA\": \"RURAL\", \"Respostas\": \"Sim\", \"Frequencia\": 0.3190347248493402}, {\"AREA\": \"URBANA\", \"Respostas\": \"Sim\", \"Frequencia\": 0.6236806636553331}]}}, {\"mode\": \"vega-lite\"});\n",
       "</script>"
      ],
      "text/plain": [
       "alt.Chart(...)"
      ]
     },
     "execution_count": 78,
     "metadata": {},
     "output_type": "execute_result"
    }
   ],
   "source": [
    "alt.Chart(tiny_data).mark_bar().encode(\n",
    "        x=alt.X('Respostas',  axis=alt.Axis(labelAngle=45, title='Respostas')),\n",
    "        column=dimensao,\n",
    "        color='AREA',\n",
    "        y=alt.Y('Frequencia', axis=alt.Axis(title='Frequencia')),\n",
    ").interactive()"
   ]
  },
  {
   "cell_type": "code",
   "execution_count": 79,
   "metadata": {},
   "outputs": [],
   "source": [
    "def calc2(a=10, b=2):\n",
    "    \"\"\"Calc 2 faz calculo maluco!\"\"\"\n",
    "    return a/2"
   ]
  },
  {
   "cell_type": "code",
   "execution_count": 80,
   "metadata": {},
   "outputs": [
    {
     "data": {
      "text/plain": [
       "5.0"
      ]
     },
     "execution_count": 80,
     "metadata": {},
     "output_type": "execute_result"
    }
   ],
   "source": [
    "calc2()"
   ]
  },
  {
   "cell_type": "code",
   "execution_count": 81,
   "metadata": {},
   "outputs": [
    {
     "data": {
      "text/plain": [
       "15.0"
      ]
     },
     "execution_count": 81,
     "metadata": {},
     "output_type": "execute_result"
    }
   ],
   "source": [
    "calc2(a=30)"
   ]
  },
  {
   "cell_type": "code",
   "execution_count": 82,
   "metadata": {},
   "outputs": [
    {
     "data": {
      "text/plain": [
       "5.0"
      ]
     },
     "execution_count": 82,
     "metadata": {},
     "output_type": "execute_result"
    }
   ],
   "source": [
    "calc2(b=3)"
   ]
  },
  {
   "cell_type": "code",
   "execution_count": 83,
   "metadata": {},
   "outputs": [
    {
     "name": "stdout",
     "output_type": "stream",
     "text": [
      "Help on function calc2 in module __main__:\n",
      "\n",
      "calc2(a=10, b=2)\n",
      "    Calc 2 faz calculo maluco!\n",
      "\n"
     ]
    }
   ],
   "source": [
    "help(calc2)"
   ]
  },
  {
   "cell_type": "code",
   "execution_count": 84,
   "metadata": {},
   "outputs": [
    {
     "data": {
      "text/plain": [
       "0.5"
      ]
     },
     "execution_count": 84,
     "metadata": {},
     "output_type": "execute_result"
    }
   ],
   "source": [
    "calc2(1,20)"
   ]
  },
  {
   "cell_type": "code",
   "execution_count": 85,
   "metadata": {},
   "outputs": [
    {
     "data": {
      "text/plain": [
       "22.0"
      ]
     },
     "execution_count": 85,
     "metadata": {},
     "output_type": "execute_result"
    }
   ],
   "source": [
    "calc2(b=10,a=44)"
   ]
  },
  {
   "cell_type": "markdown",
   "metadata": {},
   "source": [
    "### Referências\n",
    "\n",
    "- https://github.com/Roche/pyreadstat\n",
    "- https://altair-viz.github.io/"
   ]
  }
 ],
 "metadata": {
  "kernelspec": {
   "display_name": "Python 3 (ipykernel)",
   "language": "python",
   "name": "python3"
  },
  "language_info": {
   "codemirror_mode": {
    "name": "ipython",
    "version": 3
   },
   "file_extension": ".py",
   "mimetype": "text/x-python",
   "name": "python",
   "nbconvert_exporter": "python",
   "pygments_lexer": "ipython3",
   "version": "3.12.4"
  },
  "toc": {
   "base_numbering": 1,
   "nav_menu": {},
   "number_sections": true,
   "sideBar": true,
   "skip_h1_title": false,
   "title_cell": "Table of Contents",
   "title_sidebar": "Contents",
   "toc_cell": false,
   "toc_position": {},
   "toc_section_display": true,
   "toc_window_display": false
  }
 },
 "nbformat": 4,
 "nbformat_minor": 4
}
