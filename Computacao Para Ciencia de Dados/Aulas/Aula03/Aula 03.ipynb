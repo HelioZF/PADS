{
 "cells": [
  {
   "cell_type": "markdown",
   "metadata": {
    "slideshow": {
     "slide_type": "slide"
    }
   },
   "source": [
    "![Insper](https://github.com/danielscarvalho/Insper-DS-Dicas/blob/master/Insper-Logo.png?raw=true)\n",
    "\n",
    "# Insper Pós-Graduação\n",
    "## Programa Avançado em Data Science e Decisão [»](https://www.insper.edu.br/pt/cursos/pos-graduacao/programas-avancados/programas-avancados-data-science-e-decisao)"
   ]
  },
  {
   "cell_type": "markdown",
   "metadata": {},
   "source": [
    "# Aula 03 - Dataframe"
   ]
  },
  {
   "cell_type": "markdown",
   "metadata": {
    "slideshow": {
     "slide_type": "slide"
    }
   },
   "source": [
    "Pandas - Wrangling\n",
    "\n"
   ]
  },
  {
   "cell_type": "markdown",
   "metadata": {
    "slideshow": {
     "slide_type": "slide"
    }
   },
   "source": [
    "![https://d3i71xaburhd42.cloudfront.net/0e9c41ebc5086b8b9d7004a68d6637e4940f03c9/3-Figure1-1.png](https://d3i71xaburhd42.cloudfront.net/0e9c41ebc5086b8b9d7004a68d6637e4940f03c9/3-Figure1-1.png)\n"
   ]
  },
  {
   "cell_type": "markdown",
   "metadata": {
    "slideshow": {
     "slide_type": "slide"
    }
   },
   "source": [
    "Antes de começar, importe a biblioteca `Pandas`."
   ]
  },
  {
   "cell_type": "code",
   "execution_count": 3,
   "metadata": {
    "ExecuteTime": {
     "end_time": "2021-02-06T12:00:47.086327Z",
     "start_time": "2021-02-06T12:00:46.234976Z"
    },
    "slideshow": {
     "slide_type": "fragment"
    }
   },
   "outputs": [],
   "source": [
    "import pandas as pd"
   ]
  },
  {
   "cell_type": "markdown",
   "metadata": {
    "slideshow": {
     "slide_type": "slide"
    }
   },
   "source": [
    "### Concatenação de DataFrames"
   ]
  },
  {
   "cell_type": "code",
   "execution_count": null,
   "metadata": {},
   "outputs": [],
   "source": [
    "d1 = {'A': ['A0', 'A1', 'A2', 'A3'],\n",
    "      'B': ['B0', 'B1', 'B2', 'B3'],\n",
    "      'C': ['C0', 'C1', 'C2', 'C3'],\n",
    "      'D': ['D0', 'D1', 'D2', 'D3']}"
   ]
  },
  {
   "cell_type": "code",
   "execution_count": null,
   "metadata": {},
   "outputs": [],
   "source": [
    "type(d1)"
   ]
  },
  {
   "cell_type": "code",
   "execution_count": null,
   "metadata": {},
   "outputs": [],
   "source": [
    "d1[\"C\"]"
   ]
  },
  {
   "cell_type": "code",
   "execution_count": null,
   "metadata": {},
   "outputs": [],
   "source": [
    "d1[\"C\"][0]"
   ]
  },
  {
   "cell_type": "code",
   "execution_count": null,
   "metadata": {},
   "outputs": [],
   "source": [
    "d1.keys()"
   ]
  },
  {
   "cell_type": "code",
   "execution_count": null,
   "metadata": {},
   "outputs": [],
   "source": [
    "d1.values()"
   ]
  },
  {
   "cell_type": "code",
   "execution_count": null,
   "metadata": {
    "ExecuteTime": {
     "end_time": "2021-02-06T12:01:34.389034Z",
     "start_time": "2021-02-06T12:01:34.381975Z"
    },
    "slideshow": {
     "slide_type": "fragment"
    }
   },
   "outputs": [],
   "source": [
    "df1 = pd.DataFrame({'A': ['A0', 'A1', 'A2', 'A3'],\n",
    "                    'B': ['B0', 'B1', 'B2', 'B3'],\n",
    "                    'C': ['C0', 'C1', 'C2', 'C3'],\n",
    "                    'D': ['D0', 'D1', 'D2', 'D3']},\n",
    "                   index=[0, 1, 2, 3])"
   ]
  },
  {
   "cell_type": "code",
   "execution_count": null,
   "metadata": {},
   "outputs": [],
   "source": [
    "type(df1)"
   ]
  },
  {
   "cell_type": "code",
   "execution_count": null,
   "metadata": {
    "ExecuteTime": {
     "end_time": "2021-02-06T12:01:41.241517Z",
     "start_time": "2021-02-06T12:01:41.211594Z"
    },
    "slideshow": {
     "slide_type": "fragment"
    }
   },
   "outputs": [],
   "source": [
    "df1.head()"
   ]
  },
  {
   "cell_type": "code",
   "execution_count": null,
   "metadata": {},
   "outputs": [],
   "source": [
    "df1.tail()"
   ]
  },
  {
   "cell_type": "code",
   "execution_count": null,
   "metadata": {},
   "outputs": [],
   "source": [
    "df1.sample(2)"
   ]
  },
  {
   "cell_type": "code",
   "execution_count": null,
   "metadata": {
    "ExecuteTime": {
     "end_time": "2021-02-06T12:03:49.686367Z",
     "start_time": "2021-02-06T12:03:49.680795Z"
    },
    "slideshow": {
     "slide_type": "slide"
    }
   },
   "outputs": [],
   "source": [
    "df2 = pd.DataFrame({'A': ['A4', 'A5', 'A6', 'A7'], \n",
    "                    'B': ['B4', 'B5', 'B6', 'B7'],\n",
    "                    'C': ['C4', 'C5', 'C6', 'C7'], \n",
    "                    'D': ['D4', 'D5', 'D6', 'D7']}, \n",
    "                   index=[4, 5, 6, 7])\n"
   ]
  },
  {
   "cell_type": "code",
   "execution_count": null,
   "metadata": {
    "ExecuteTime": {
     "end_time": "2021-02-06T12:03:53.163612Z",
     "start_time": "2021-02-06T12:03:53.156589Z"
    },
    "slideshow": {
     "slide_type": "fragment"
    }
   },
   "outputs": [],
   "source": [
    "df2.head()"
   ]
  },
  {
   "cell_type": "code",
   "execution_count": null,
   "metadata": {
    "ExecuteTime": {
     "end_time": "2021-02-06T12:05:07.725044Z",
     "start_time": "2021-02-06T12:05:07.720059Z"
    },
    "slideshow": {
     "slide_type": "slide"
    }
   },
   "outputs": [],
   "source": [
    "df3 = pd.DataFrame({'A': ['A8', 'A9', 'A10', 'A11'],\n",
    "                    'B': ['B8', 'B9', 'B10', 'B11'],\n",
    "                    'C': ['C8', 'C9', 'C10', 'C11'],\n",
    "                    'D': ['D8', 'D9', 'D10', 'D11']},\n",
    "                   index=[8, 9, 10, 11])"
   ]
  },
  {
   "cell_type": "code",
   "execution_count": null,
   "metadata": {
    "ExecuteTime": {
     "end_time": "2021-02-06T12:05:10.618749Z",
     "start_time": "2021-02-06T12:05:10.610466Z"
    },
    "slideshow": {
     "slide_type": "fragment"
    }
   },
   "outputs": [],
   "source": [
    "df3.head()"
   ]
  },
  {
   "cell_type": "markdown",
   "metadata": {
    "slideshow": {
     "slide_type": "slide"
    }
   },
   "source": [
    "Podemos usar o comando `concat()` da biblioteca Pandas para unir DataFrames (concatenar). Por padrão eles serão concatenados um abaixo do outro, na ordem dos dataframes informada na função. "
   ]
  },
  {
   "cell_type": "code",
   "execution_count": null,
   "metadata": {
    "ExecuteTime": {
     "end_time": "2020-12-25T12:11:08.804558Z",
     "start_time": "2020-12-25T12:11:08.793849Z"
    },
    "slideshow": {
     "slide_type": "fragment"
    }
   },
   "outputs": [],
   "source": [
    "pd.concat([df2, df1, df3])"
   ]
  },
  {
   "cell_type": "code",
   "execution_count": null,
   "metadata": {},
   "outputs": [],
   "source": [
    "_21.sample(4)"
   ]
  },
  {
   "cell_type": "markdown",
   "metadata": {
    "slideshow": {
     "slide_type": "slide"
    }
   },
   "source": [
    "O `concat()` pode unir dataframes na horizontal. Para tanto, os índices tem que ser os mesmos. Nesse caso, fazemos uso do parâmetro `axis = 1`."
   ]
  },
  {
   "cell_type": "code",
   "execution_count": null,
   "metadata": {
    "ExecuteTime": {
     "end_time": "2021-02-06T12:08:44.307887Z",
     "start_time": "2021-02-06T12:08:44.293640Z"
    },
    "slideshow": {
     "slide_type": "fragment"
    }
   },
   "outputs": [],
   "source": [
    "df4 = pd.DataFrame({'E': ['E0', 'E1', 'E2', 'E3'],\n",
    "                    'F': ['F0', 'F1', 'F2', 'F3'],\n",
    "                    'G': ['G0', 'G1', 'G2', 'G3'],\n",
    "                    'H': ['H0', 'H1', 'H2', 'H3']},\n",
    "                   index=[0, 1, 2, 3])\n",
    "\n",
    "df4.head()"
   ]
  },
  {
   "cell_type": "code",
   "execution_count": null,
   "metadata": {
    "ExecuteTime": {
     "end_time": "2021-02-06T12:08:12.538685Z",
     "start_time": "2021-02-06T12:08:12.523530Z"
    },
    "slideshow": {
     "slide_type": "fragment"
    }
   },
   "outputs": [],
   "source": [
    "df1.head()"
   ]
  },
  {
   "cell_type": "code",
   "execution_count": null,
   "metadata": {
    "ExecuteTime": {
     "end_time": "2021-02-06T12:12:42.450923Z",
     "start_time": "2021-02-06T12:12:42.436981Z"
    },
    "slideshow": {
     "slide_type": "slide"
    }
   },
   "outputs": [],
   "source": [
    "pd.concat([df1, df4], axis  = 1 ) # eixo"
   ]
  },
  {
   "cell_type": "code",
   "execution_count": null,
   "metadata": {},
   "outputs": [],
   "source": [
    "pd.concat([df1, df4], axis  = 0 ) # eixo"
   ]
  },
  {
   "cell_type": "code",
   "execution_count": null,
   "metadata": {},
   "outputs": [],
   "source": [
    "pd.concat([df1, df4]) # eixo \"axis=0\" é o padrão (default)"
   ]
  },
  {
   "cell_type": "markdown",
   "metadata": {
    "slideshow": {
     "slide_type": "slide"
    }
   },
   "source": [
    "- Merge "
   ]
  },
  {
   "cell_type": "markdown",
   "metadata": {
    "slideshow": {
     "slide_type": "fragment"
    }
   },
   "source": [
    "Considere os seguintes DataFrames:"
   ]
  },
  {
   "cell_type": "code",
   "execution_count": null,
   "metadata": {
    "ExecuteTime": {
     "end_time": "2021-02-06T12:13:31.579576Z",
     "start_time": "2021-02-06T12:13:31.573117Z"
    },
    "slideshow": {
     "slide_type": "fragment"
    }
   },
   "outputs": [],
   "source": [
    "esquerda = pd.DataFrame({'key1': ['K0', 'K0', 'K1', 'K2'],\n",
    "                         'key2': ['K0', 'K1', 'K0', 'K1'],\n",
    "                         'A': ['A0', 'A1', 'A2', 'A3'],\n",
    "                         'B': ['B0', 'B1', 'B2', 'B3']})"
   ]
  },
  {
   "cell_type": "code",
   "execution_count": null,
   "metadata": {
    "ExecuteTime": {
     "end_time": "2020-12-25T12:14:09.823402Z",
     "start_time": "2020-12-25T12:14:09.815888Z"
    },
    "slideshow": {
     "slide_type": "fragment"
    }
   },
   "outputs": [],
   "source": [
    "esquerda.head()"
   ]
  },
  {
   "cell_type": "code",
   "execution_count": null,
   "metadata": {
    "ExecuteTime": {
     "end_time": "2021-02-06T12:15:59.147817Z",
     "start_time": "2021-02-06T12:15:59.134696Z"
    },
    "slideshow": {
     "slide_type": "slide"
    }
   },
   "outputs": [],
   "source": [
    "direita = pd.DataFrame({'key1': ['K0', 'K1', 'K1', 'K2'],\n",
    "                        'key2': ['K0', 'K0', 'K0', 'K0'],\n",
    "                        'C': ['C0', 'C1', 'C2', 'C3'],\n",
    "                        'D': ['D0', 'D1', 'D2', 'D3']})\n",
    "\n",
    "direita.head()"
   ]
  },
  {
   "cell_type": "markdown",
   "metadata": {
    "slideshow": {
     "slide_type": "slide"
    }
   },
   "source": [
    "Podemos fazer a concetenação desses dataframes pelo método `merge()`. Em SQL estaríamos fazendo uma junção de dados. \n",
    "\n",
    "O `merge` recebe um parâmetro, denominado `how`, que identifica o tipo da junção. Por padrão, o valor é `inner`. \n",
    "\n",
    "- inner => retorna os registros em comum da chave\n",
    "    \n",
    "- outer => retorna todos, informando nulo para os registros que não houver correspondência na chave\n",
    "    \n",
    "- left, right => retorna todos de um dos lados, mesmo não havendo correspondência no lado oposto. Quando não há correspondência no lado oposto, preenche como nulo\n",
    "    "
   ]
  },
  {
   "cell_type": "markdown",
   "metadata": {
    "slideshow": {
     "slide_type": "slide"
    }
   },
   "source": [
    "![img/merge_vens.png](img/merge_vens.png)\n",
    "Fonte: https://datascience.quantecon.org/pandas/merge.html"
   ]
  },
  {
   "cell_type": "markdown",
   "metadata": {
    "slideshow": {
     "slide_type": "slide"
    }
   },
   "source": [
    "- Inner Join\n",
    "![img/left_merge.gif](img/left_merge.gif)\n",
    "Fonte: https://datascience.quantecon.org/pandas/merge.html"
   ]
  },
  {
   "cell_type": "code",
   "execution_count": null,
   "metadata": {
    "ExecuteTime": {
     "end_time": "2020-12-25T12:20:43.316600Z",
     "start_time": "2020-12-25T12:20:43.296573Z"
    },
    "scrolled": true,
    "slideshow": {
     "slide_type": "slide"
    }
   },
   "outputs": [],
   "source": [
    "print('Inner Join') #Mais utilizado!!!\n",
    "print('Esquerda')\n",
    "display(esquerda)\n",
    "\n",
    "print('Direita')\n",
    "display(direita)\n",
    "\n",
    "print('Merge')\n",
    "pd.merge(esquerda, direita, on=['key1', 'key2'])"
   ]
  },
  {
   "cell_type": "markdown",
   "metadata": {},
   "source": [
    "Padrão do merge é o inner = how='inner'"
   ]
  },
  {
   "cell_type": "code",
   "execution_count": null,
   "metadata": {
    "ExecuteTime": {
     "end_time": "2021-02-06T12:26:54.275603Z",
     "start_time": "2021-02-06T12:26:54.244045Z"
    },
    "slideshow": {
     "slide_type": "slide"
    }
   },
   "outputs": [],
   "source": [
    "print('Outer Join')\n",
    "print('Esquerda')\n",
    "display(esquerda)\n",
    "\n",
    "print('Direita')\n",
    "display(direita)\n",
    "\n",
    "print('Merge')\n",
    "pd.merge(esquerda, direita, how='outer', on=['key1', 'key2'])"
   ]
  },
  {
   "cell_type": "code",
   "execution_count": null,
   "metadata": {
    "ExecuteTime": {
     "end_time": "2020-12-25T12:21:27.701615Z",
     "start_time": "2020-12-25T12:21:27.680386Z"
    },
    "slideshow": {
     "slide_type": "slide"
    }
   },
   "outputs": [],
   "source": [
    "print('Left Join')\n",
    "print('Esquerda')\n",
    "display(esquerda)\n",
    "\n",
    "print('Direita')\n",
    "display(direita)\n",
    "\n",
    "print('Merge')\n",
    "pd.merge(esquerda, direita, how='left', on=['key1', 'key2'])"
   ]
  },
  {
   "cell_type": "markdown",
   "metadata": {
    "slideshow": {
     "slide_type": "slide"
    }
   },
   "source": [
    "- Right Join\n",
    "\n",
    "![img/right_merge.gif](img/right_merge.gif)\n",
    "Fonte: https://datascience.quantecon.org/pandas/merge.html"
   ]
  },
  {
   "cell_type": "code",
   "execution_count": null,
   "metadata": {
    "ExecuteTime": {
     "end_time": "2020-12-25T12:21:58.183052Z",
     "start_time": "2020-12-25T12:21:58.161291Z"
    },
    "slideshow": {
     "slide_type": "slide"
    }
   },
   "outputs": [],
   "source": [
    "print('Right Join')\n",
    "print('Esquerda')\n",
    "display(esquerda)\n",
    "\n",
    "print('Direita')\n",
    "display(direita)\n",
    "\n",
    "print('Merge')\n",
    "pd.merge(esquerda, direita, how='right', on=['key1', 'key2'])"
   ]
  },
  {
   "cell_type": "markdown",
   "metadata": {
    "slideshow": {
     "slide_type": "slide"
    }
   },
   "source": [
    "## Dataframes: adição e remoção de colunas"
   ]
  },
  {
   "cell_type": "markdown",
   "metadata": {
    "slideshow": {
     "slide_type": "fragment"
    }
   },
   "source": [
    "Vamos conhecer as diferentes formas de adicionar e remover colunas de um Pandas DataFrame. \n",
    "\n",
    "Para isso, voltaremos a usar o conjunto de dados de preço de imóveis de SP, apresentado na aula 02."
   ]
  },
  {
   "cell_type": "code",
   "execution_count": 4,
   "metadata": {
    "ExecuteTime": {
     "end_time": "2021-02-06T12:45:10.776562Z",
     "start_time": "2021-02-06T12:45:09.465900Z"
    },
    "slideshow": {
     "slide_type": "fragment"
    }
   },
   "outputs": [],
   "source": [
    "import pandas as pd\n",
    "imoveisSP = pd.read_csv('https://tinyurl.com/alugueis-sp-df')"
   ]
  },
  {
   "cell_type": "code",
   "execution_count": 5,
   "metadata": {
    "ExecuteTime": {
     "end_time": "2020-12-28T17:47:09.244314Z",
     "start_time": "2020-12-28T17:47:09.231859Z"
    },
    "slideshow": {
     "slide_type": "slide"
    }
   },
   "outputs": [
    {
     "data": {
      "text/html": [
       "<div>\n",
       "<style scoped>\n",
       "    .dataframe tbody tr th:only-of-type {\n",
       "        vertical-align: middle;\n",
       "    }\n",
       "\n",
       "    .dataframe tbody tr th {\n",
       "        vertical-align: top;\n",
       "    }\n",
       "\n",
       "    .dataframe thead th {\n",
       "        text-align: right;\n",
       "    }\n",
       "</style>\n",
       "<table border=\"1\" class=\"dataframe\">\n",
       "  <thead>\n",
       "    <tr style=\"text-align: right;\">\n",
       "      <th></th>\n",
       "      <th>Price</th>\n",
       "      <th>Condo</th>\n",
       "      <th>Size</th>\n",
       "      <th>Rooms</th>\n",
       "      <th>Toilets</th>\n",
       "      <th>Suites</th>\n",
       "      <th>Parking</th>\n",
       "      <th>Elevator</th>\n",
       "      <th>Furnished</th>\n",
       "      <th>Swimming Pool</th>\n",
       "      <th>New</th>\n",
       "      <th>District</th>\n",
       "      <th>Negotiation Type</th>\n",
       "      <th>Property Type</th>\n",
       "      <th>Latitude</th>\n",
       "      <th>Longitude</th>\n",
       "    </tr>\n",
       "  </thead>\n",
       "  <tbody>\n",
       "    <tr>\n",
       "      <th>0</th>\n",
       "      <td>930</td>\n",
       "      <td>220</td>\n",
       "      <td>47</td>\n",
       "      <td>2</td>\n",
       "      <td>2</td>\n",
       "      <td>1</td>\n",
       "      <td>1</td>\n",
       "      <td>0</td>\n",
       "      <td>0</td>\n",
       "      <td>0</td>\n",
       "      <td>0</td>\n",
       "      <td>Artur Alvim/São Paulo</td>\n",
       "      <td>rent</td>\n",
       "      <td>apartment</td>\n",
       "      <td>-23.543138</td>\n",
       "      <td>-46.479486</td>\n",
       "    </tr>\n",
       "    <tr>\n",
       "      <th>1</th>\n",
       "      <td>1000</td>\n",
       "      <td>148</td>\n",
       "      <td>45</td>\n",
       "      <td>2</td>\n",
       "      <td>2</td>\n",
       "      <td>1</td>\n",
       "      <td>1</td>\n",
       "      <td>0</td>\n",
       "      <td>0</td>\n",
       "      <td>0</td>\n",
       "      <td>0</td>\n",
       "      <td>Artur Alvim/São Paulo</td>\n",
       "      <td>rent</td>\n",
       "      <td>apartment</td>\n",
       "      <td>-23.550239</td>\n",
       "      <td>-46.480718</td>\n",
       "    </tr>\n",
       "    <tr>\n",
       "      <th>2</th>\n",
       "      <td>1000</td>\n",
       "      <td>100</td>\n",
       "      <td>48</td>\n",
       "      <td>2</td>\n",
       "      <td>2</td>\n",
       "      <td>1</td>\n",
       "      <td>1</td>\n",
       "      <td>0</td>\n",
       "      <td>0</td>\n",
       "      <td>0</td>\n",
       "      <td>0</td>\n",
       "      <td>Artur Alvim/São Paulo</td>\n",
       "      <td>rent</td>\n",
       "      <td>apartment</td>\n",
       "      <td>-23.542818</td>\n",
       "      <td>-46.485665</td>\n",
       "    </tr>\n",
       "    <tr>\n",
       "      <th>3</th>\n",
       "      <td>1000</td>\n",
       "      <td>200</td>\n",
       "      <td>48</td>\n",
       "      <td>2</td>\n",
       "      <td>2</td>\n",
       "      <td>1</td>\n",
       "      <td>1</td>\n",
       "      <td>0</td>\n",
       "      <td>0</td>\n",
       "      <td>0</td>\n",
       "      <td>0</td>\n",
       "      <td>Artur Alvim/São Paulo</td>\n",
       "      <td>rent</td>\n",
       "      <td>apartment</td>\n",
       "      <td>-23.547171</td>\n",
       "      <td>-46.483014</td>\n",
       "    </tr>\n",
       "    <tr>\n",
       "      <th>4</th>\n",
       "      <td>1300</td>\n",
       "      <td>410</td>\n",
       "      <td>55</td>\n",
       "      <td>2</td>\n",
       "      <td>2</td>\n",
       "      <td>1</td>\n",
       "      <td>1</td>\n",
       "      <td>1</td>\n",
       "      <td>0</td>\n",
       "      <td>0</td>\n",
       "      <td>0</td>\n",
       "      <td>Artur Alvim/São Paulo</td>\n",
       "      <td>rent</td>\n",
       "      <td>apartment</td>\n",
       "      <td>-23.525025</td>\n",
       "      <td>-46.482436</td>\n",
       "    </tr>\n",
       "  </tbody>\n",
       "</table>\n",
       "</div>"
      ],
      "text/plain": [
       "   Price  Condo  Size  Rooms  Toilets  Suites  Parking  Elevator  Furnished  \\\n",
       "0    930    220    47      2        2       1        1         0          0   \n",
       "1   1000    148    45      2        2       1        1         0          0   \n",
       "2   1000    100    48      2        2       1        1         0          0   \n",
       "3   1000    200    48      2        2       1        1         0          0   \n",
       "4   1300    410    55      2        2       1        1         1          0   \n",
       "\n",
       "   Swimming Pool  New               District Negotiation Type Property Type  \\\n",
       "0              0    0  Artur Alvim/São Paulo             rent     apartment   \n",
       "1              0    0  Artur Alvim/São Paulo             rent     apartment   \n",
       "2              0    0  Artur Alvim/São Paulo             rent     apartment   \n",
       "3              0    0  Artur Alvim/São Paulo             rent     apartment   \n",
       "4              0    0  Artur Alvim/São Paulo             rent     apartment   \n",
       "\n",
       "    Latitude  Longitude  \n",
       "0 -23.543138 -46.479486  \n",
       "1 -23.550239 -46.480718  \n",
       "2 -23.542818 -46.485665  \n",
       "3 -23.547171 -46.483014  \n",
       "4 -23.525025 -46.482436  "
      ]
     },
     "execution_count": 5,
     "metadata": {},
     "output_type": "execute_result"
    }
   ],
   "source": [
    "imoveisSP.head()"
   ]
  },
  {
   "cell_type": "markdown",
   "metadata": {
    "slideshow": {
     "slide_type": "slide"
    }
   },
   "source": [
    "**Remover colunas**\n",
    "\n",
    "Vamos remover a coluna 'New'. \n",
    "\n",
    "Para isto, vamos usar a função `drop()` do Pandas.\n",
    "\n",
    "A função drop por padrão devolve um novo dataframe com as colunas (ou linhas) removidas. Para que ela persista a alteração, temos que fazer uso do parâmetro `inplace = True`\n",
    "\n",
    "Para remover linhas, use o parâmetro `axis = 0`, para colunas (nosso caso), temos que fazer `axis = 1`.\n"
   ]
  },
  {
   "cell_type": "code",
   "execution_count": 6,
   "metadata": {
    "ExecuteTime": {
     "end_time": "2021-02-06T12:46:35.549715Z",
     "start_time": "2021-02-06T12:46:35.542201Z"
    },
    "slideshow": {
     "slide_type": "slide"
    }
   },
   "outputs": [],
   "source": [
    "novo  = imoveisSP.drop(['Furnished'], axis = 1) #exis eixo..."
   ]
  },
  {
   "cell_type": "code",
   "execution_count": 7,
   "metadata": {
    "ExecuteTime": {
     "end_time": "2021-02-06T12:45:24.540547Z",
     "start_time": "2021-02-06T12:45:24.522349Z"
    },
    "scrolled": true,
    "slideshow": {
     "slide_type": "fragment"
    }
   },
   "outputs": [
    {
     "data": {
      "text/html": [
       "<div>\n",
       "<style scoped>\n",
       "    .dataframe tbody tr th:only-of-type {\n",
       "        vertical-align: middle;\n",
       "    }\n",
       "\n",
       "    .dataframe tbody tr th {\n",
       "        vertical-align: top;\n",
       "    }\n",
       "\n",
       "    .dataframe thead th {\n",
       "        text-align: right;\n",
       "    }\n",
       "</style>\n",
       "<table border=\"1\" class=\"dataframe\">\n",
       "  <thead>\n",
       "    <tr style=\"text-align: right;\">\n",
       "      <th></th>\n",
       "      <th>Price</th>\n",
       "      <th>Condo</th>\n",
       "      <th>Size</th>\n",
       "      <th>Rooms</th>\n",
       "      <th>Toilets</th>\n",
       "      <th>Suites</th>\n",
       "      <th>Parking</th>\n",
       "      <th>Elevator</th>\n",
       "      <th>Swimming Pool</th>\n",
       "      <th>New</th>\n",
       "      <th>District</th>\n",
       "      <th>Negotiation Type</th>\n",
       "      <th>Property Type</th>\n",
       "      <th>Latitude</th>\n",
       "      <th>Longitude</th>\n",
       "    </tr>\n",
       "  </thead>\n",
       "  <tbody>\n",
       "    <tr>\n",
       "      <th>0</th>\n",
       "      <td>930</td>\n",
       "      <td>220</td>\n",
       "      <td>47</td>\n",
       "      <td>2</td>\n",
       "      <td>2</td>\n",
       "      <td>1</td>\n",
       "      <td>1</td>\n",
       "      <td>0</td>\n",
       "      <td>0</td>\n",
       "      <td>0</td>\n",
       "      <td>Artur Alvim/São Paulo</td>\n",
       "      <td>rent</td>\n",
       "      <td>apartment</td>\n",
       "      <td>-23.543138</td>\n",
       "      <td>-46.479486</td>\n",
       "    </tr>\n",
       "    <tr>\n",
       "      <th>1</th>\n",
       "      <td>1000</td>\n",
       "      <td>148</td>\n",
       "      <td>45</td>\n",
       "      <td>2</td>\n",
       "      <td>2</td>\n",
       "      <td>1</td>\n",
       "      <td>1</td>\n",
       "      <td>0</td>\n",
       "      <td>0</td>\n",
       "      <td>0</td>\n",
       "      <td>Artur Alvim/São Paulo</td>\n",
       "      <td>rent</td>\n",
       "      <td>apartment</td>\n",
       "      <td>-23.550239</td>\n",
       "      <td>-46.480718</td>\n",
       "    </tr>\n",
       "    <tr>\n",
       "      <th>2</th>\n",
       "      <td>1000</td>\n",
       "      <td>100</td>\n",
       "      <td>48</td>\n",
       "      <td>2</td>\n",
       "      <td>2</td>\n",
       "      <td>1</td>\n",
       "      <td>1</td>\n",
       "      <td>0</td>\n",
       "      <td>0</td>\n",
       "      <td>0</td>\n",
       "      <td>Artur Alvim/São Paulo</td>\n",
       "      <td>rent</td>\n",
       "      <td>apartment</td>\n",
       "      <td>-23.542818</td>\n",
       "      <td>-46.485665</td>\n",
       "    </tr>\n",
       "    <tr>\n",
       "      <th>3</th>\n",
       "      <td>1000</td>\n",
       "      <td>200</td>\n",
       "      <td>48</td>\n",
       "      <td>2</td>\n",
       "      <td>2</td>\n",
       "      <td>1</td>\n",
       "      <td>1</td>\n",
       "      <td>0</td>\n",
       "      <td>0</td>\n",
       "      <td>0</td>\n",
       "      <td>Artur Alvim/São Paulo</td>\n",
       "      <td>rent</td>\n",
       "      <td>apartment</td>\n",
       "      <td>-23.547171</td>\n",
       "      <td>-46.483014</td>\n",
       "    </tr>\n",
       "    <tr>\n",
       "      <th>4</th>\n",
       "      <td>1300</td>\n",
       "      <td>410</td>\n",
       "      <td>55</td>\n",
       "      <td>2</td>\n",
       "      <td>2</td>\n",
       "      <td>1</td>\n",
       "      <td>1</td>\n",
       "      <td>1</td>\n",
       "      <td>0</td>\n",
       "      <td>0</td>\n",
       "      <td>Artur Alvim/São Paulo</td>\n",
       "      <td>rent</td>\n",
       "      <td>apartment</td>\n",
       "      <td>-23.525025</td>\n",
       "      <td>-46.482436</td>\n",
       "    </tr>\n",
       "  </tbody>\n",
       "</table>\n",
       "</div>"
      ],
      "text/plain": [
       "   Price  Condo  Size  Rooms  Toilets  Suites  Parking  Elevator  \\\n",
       "0    930    220    47      2        2       1        1         0   \n",
       "1   1000    148    45      2        2       1        1         0   \n",
       "2   1000    100    48      2        2       1        1         0   \n",
       "3   1000    200    48      2        2       1        1         0   \n",
       "4   1300    410    55      2        2       1        1         1   \n",
       "\n",
       "   Swimming Pool  New               District Negotiation Type Property Type  \\\n",
       "0              0    0  Artur Alvim/São Paulo             rent     apartment   \n",
       "1              0    0  Artur Alvim/São Paulo             rent     apartment   \n",
       "2              0    0  Artur Alvim/São Paulo             rent     apartment   \n",
       "3              0    0  Artur Alvim/São Paulo             rent     apartment   \n",
       "4              0    0  Artur Alvim/São Paulo             rent     apartment   \n",
       "\n",
       "    Latitude  Longitude  \n",
       "0 -23.543138 -46.479486  \n",
       "1 -23.550239 -46.480718  \n",
       "2 -23.542818 -46.485665  \n",
       "3 -23.547171 -46.483014  \n",
       "4 -23.525025 -46.482436  "
      ]
     },
     "execution_count": 7,
     "metadata": {},
     "output_type": "execute_result"
    }
   ],
   "source": [
    "novo.head()"
   ]
  },
  {
   "cell_type": "code",
   "execution_count": null,
   "metadata": {},
   "outputs": [],
   "source": [
    "novo[\"Pais\"] = \"Brasil\""
   ]
  },
  {
   "cell_type": "code",
   "execution_count": null,
   "metadata": {},
   "outputs": [],
   "source": [
    "novo"
   ]
  },
  {
   "cell_type": "code",
   "execution_count": null,
   "metadata": {},
   "outputs": [],
   "source": [
    "novo.drop(\"Pais\", axis = 1)"
   ]
  },
  {
   "cell_type": "markdown",
   "metadata": {
    "slideshow": {
     "slide_type": "slide"
    }
   },
   "source": [
    "Vamos agora criar uma coluna de Score. Vamos supor que queremos avaliar os imóveis a partir de uma função de *fitness* dada por:\n",
    "\n",
    "> Estabelecer a questão, escopo\n",
    "\n",
    "- Meu imóvel alvo precisa possuir em torno de 85 m2, então, quero que imóveis maiores ou menores sejam penalizados. Posso pensar algo entre 75 e 95 m2 como toleráveis;\n",
    "- Gostaria de imóveis de 3 quartos, mais que isso fica muito pouco espaço livre e menos que isso não me atende muito bem;\n",
    "- Prefiro imóveis com elevador\n",
    "- Não gosto de imóveis com piscina\n",
    "- Gostaria de pagar até 1000 reais, mas até R$ 1.250 eu posso avaliar."
   ]
  },
  {
   "cell_type": "markdown",
   "metadata": {
    "slideshow": {
     "slide_type": "slide"
    }
   },
   "source": [
    "Pensando nisso, podemos mapear um score com as seguintes contribuições (uma das possíveis formas, isto é um problema de otimização):\n",
    "\n",
    "- Size => abs(Size - 85) <= 10\n",
    "- Rooms => Rooms == 3\n",
    "- Elevator => Elevator \n",
    "- Swimming Pool => Swimming Pool == 0\n",
    "- Price => abs(1000 - Price)  <= 250"
   ]
  },
  {
   "cell_type": "markdown",
   "metadata": {},
   "source": [
    " #### Regra vx Código\n",
    " \n",
    "   | Regra | Código (Python) |\n",
    "   |----|---|\n",
    "   | Size => abs(Size - 85) <= 10     |             `(abs(imoveisSP['Size'] - 85) <= 10).astype(int)`  |\n",
    "   | Rooms => Rooms == 3              |    `(imoveisSP['Rooms'] % 3 == 0).astype(int)` |\n",
    "   | Elevator => Elevator             |     `(imoveisSP['Elevator'])` |\n",
    "   | Swimming Pool => Swimming Pool == 0 |                 `(imoveisSP['Swimming Pool']==0).astype(int)` |\n",
    "   | Price => abs(1000 - Price) <= 250   |               `(abs(imoveisSP['Price']-1000) <= 250).astype(int)` |"
   ]
  },
  {
   "cell_type": "code",
   "execution_count": null,
   "metadata": {},
   "outputs": [],
   "source": [
    "10 % 3"
   ]
  },
  {
   "cell_type": "code",
   "execution_count": null,
   "metadata": {},
   "outputs": [],
   "source": [
    "10 % 2"
   ]
  },
  {
   "cell_type": "code",
   "execution_count": null,
   "metadata": {},
   "outputs": [],
   "source": [
    "11 % 2"
   ]
  },
  {
   "cell_type": "code",
   "execution_count": null,
   "metadata": {
    "ExecuteTime": {
     "end_time": "2021-02-06T12:51:50.804349Z",
     "start_time": "2021-02-06T12:51:50.775029Z"
    },
    "slideshow": {
     "slide_type": "slide"
    }
   },
   "outputs": [],
   "source": [
    "imoveisSP['Score'] = (abs(imoveisSP['Size'] - 85) <= 10).astype(int) + \\\n",
    "                     (imoveisSP['Rooms'] % 3 == 0).astype(int) + \\\n",
    "                     (imoveisSP['Elevator']) + \\\n",
    "                     (imoveisSP['Swimming Pool']==0).astype(int) + \\\n",
    "                     (abs(imoveisSP['Price']-1000) <= 250).astype(int)"
   ]
  },
  {
   "cell_type": "code",
   "execution_count": null,
   "metadata": {},
   "outputs": [],
   "source": [
    "imoveisSP"
   ]
  },
  {
   "cell_type": "code",
   "execution_count": null,
   "metadata": {
    "ExecuteTime": {
     "end_time": "2021-02-06T12:52:11.019502Z",
     "start_time": "2021-02-06T12:52:10.997723Z"
    },
    "scrolled": true,
    "slideshow": {
     "slide_type": "slide"
    }
   },
   "outputs": [],
   "source": [
    "imoveisSP.nlargest(5, 'Score') #fitness"
   ]
  },
  {
   "cell_type": "markdown",
   "metadata": {},
   "source": [
    "Buscando por..."
   ]
  },
  {
   "cell_type": "markdown",
   "metadata": {},
   "source": [
    ".eq()  igual <br>\n",
    ".lt()  less than <br>\n",
    ".gt()  greater than <br>\n",
    "\n",
    "<hr>"
   ]
  },
  {
   "cell_type": "code",
   "execution_count": null,
   "metadata": {
    "ExecuteTime": {
     "end_time": "2021-02-06T12:56:35.504290Z",
     "start_time": "2021-02-06T12:56:35.467094Z"
    },
    "slideshow": {
     "slide_type": "slide"
    }
   },
   "outputs": [],
   "source": [
    "display(imoveisSP[imoveisSP['Score'].eq(5)] \\\n",
    "        [['Price', 'Size', 'Rooms', 'Elevator', 'Swimming Pool','Score']].sort_values(by=['Score', 'Price'], \\\n",
    "                                                                                      ascending=False))\n",
    "\n",
    "\n",
    "imoveisSP.nlargest(2, ['Score', 'Price'])"
   ]
  },
  {
   "cell_type": "code",
   "execution_count": null,
   "metadata": {},
   "outputs": [],
   "source": [
    "imoveisSP.nsmallest(2, ['Score', 'Price'])"
   ]
  },
  {
   "cell_type": "markdown",
   "metadata": {
    "slideshow": {
     "slide_type": "slide"
    }
   },
   "source": [
    "Outra forma de criar uma coluna calculada é por meio da função `apply`. Por exemplo, se agora quiseremos ter uma coluna chamada `Decisão`, onde iremos marcar como `visitar` quem possui `Score == 5`, e os demais como `Não visitar`, como faremos?"
   ]
  },
  {
   "cell_type": "code",
   "execution_count": null,
   "metadata": {},
   "outputs": [],
   "source": [
    "list(range(10))"
   ]
  },
  {
   "cell_type": "code",
   "execution_count": null,
   "metadata": {},
   "outputs": [],
   "source": [
    "calc2 = lambda v: v*-1 if v % 2 == 0 else v**2"
   ]
  },
  {
   "cell_type": "code",
   "execution_count": null,
   "metadata": {},
   "outputs": [],
   "source": [
    "type(calc2)"
   ]
  },
  {
   "cell_type": "code",
   "execution_count": null,
   "metadata": {},
   "outputs": [],
   "source": [
    "calc2(3)"
   ]
  },
  {
   "cell_type": "code",
   "execution_count": null,
   "metadata": {},
   "outputs": [],
   "source": [
    "calc2(2)"
   ]
  },
  {
   "cell_type": "code",
   "execution_count": null,
   "metadata": {},
   "outputs": [],
   "source": [
    "def calc(v):\n",
    "    \"\"\"Meu cálculo maluco...\"\"\"\n",
    "    if v % 2 == 0:\n",
    "        return v*-1\n",
    "    else:\n",
    "        return v**2"
   ]
  },
  {
   "cell_type": "code",
   "execution_count": null,
   "metadata": {},
   "outputs": [],
   "source": [
    "type(calc)"
   ]
  },
  {
   "cell_type": "code",
   "execution_count": null,
   "metadata": {},
   "outputs": [],
   "source": [
    "calc(3)"
   ]
  },
  {
   "cell_type": "code",
   "execution_count": null,
   "metadata": {
    "scrolled": true
   },
   "outputs": [],
   "source": [
    "calc(2)"
   ]
  },
  {
   "cell_type": "code",
   "execution_count": null,
   "metadata": {},
   "outputs": [],
   "source": [
    "help(calc)"
   ]
  },
  {
   "cell_type": "code",
   "execution_count": null,
   "metadata": {},
   "outputs": [],
   "source": [
    "def superpower(val:int=2, pw=2):\n",
    "    \"\"\"We get the power\"\"\"\n",
    "    return val**pw"
   ]
  },
  {
   "cell_type": "code",
   "execution_count": null,
   "metadata": {},
   "outputs": [],
   "source": [
    "superpower()"
   ]
  },
  {
   "cell_type": "code",
   "execution_count": null,
   "metadata": {},
   "outputs": [],
   "source": [
    "superpower(7)"
   ]
  },
  {
   "cell_type": "code",
   "execution_count": null,
   "metadata": {},
   "outputs": [],
   "source": [
    "superpower(\"aaa\")"
   ]
  },
  {
   "cell_type": "code",
   "execution_count": null,
   "metadata": {},
   "outputs": [],
   "source": [
    "help(superpower)"
   ]
  },
  {
   "cell_type": "code",
   "execution_count": null,
   "metadata": {},
   "outputs": [],
   "source": [
    "superpower(7,3)"
   ]
  },
  {
   "cell_type": "code",
   "execution_count": null,
   "metadata": {
    "ExecuteTime": {
     "end_time": "2021-02-06T13:02:28.375207Z",
     "start_time": "2021-02-06T13:02:28.368348Z"
    },
    "slideshow": {
     "slide_type": "fragment"
    }
   },
   "outputs": [],
   "source": [
    "imoveisSP['Decisao'] = imoveisSP['Score'].apply(lambda x : 'Visitar' if x == 5 else 'Não Visitar')"
   ]
  },
  {
   "cell_type": "code",
   "execution_count": null,
   "metadata": {
    "ExecuteTime": {
     "end_time": "2021-02-06T12:59:34.191179Z",
     "start_time": "2021-02-06T12:59:34.176277Z"
    },
    "slideshow": {
     "slide_type": "fragment"
    }
   },
   "outputs": [],
   "source": [
    "imoveisSP[['Price', 'Size', 'Rooms', 'Elevator', 'Swimming Pool',\n",
    "           'Score', 'Decisao']].nlargest(10, 'Score')"
   ]
  },
  {
   "cell_type": "code",
   "execution_count": null,
   "metadata": {
    "ExecuteTime": {
     "end_time": "2021-02-06T13:02:35.965275Z",
     "start_time": "2021-02-06T13:02:35.937216Z"
    },
    "slideshow": {
     "slide_type": "slide"
    }
   },
   "outputs": [],
   "source": [
    "imoveisSP.query(\"Decisao == 'Visitar'\")"
   ]
  },
  {
   "cell_type": "markdown",
   "metadata": {},
   "source": [
    "## LAB: Resolvendo o exercício do supermercado (Aula 01) com Pandas"
   ]
  },
  {
   "cell_type": "markdown",
   "metadata": {
    "slideshow": {
     "slide_type": "slide"
    }
   },
   "source": [
    "## Agregação e Grouping"
   ]
  },
  {
   "cell_type": "markdown",
   "metadata": {
    "slideshow": {
     "slide_type": "fragment"
    }
   },
   "source": [
    "Uma tarefa essencial na análise de conjuntos de dados consiste na sumarização dos dados. Calcular agregações como soma, média, mediana, valor mínimo e valor máximo são exemplos de agregações. \n",
    "\n",
    "Para esta prática, iremos utilizar os dados disponíveis na fundação SEADE, relacionados ao consumo elétrico dos municípios paulistas entre os anos de 2015 e 2019. "
   ]
  },
  {
   "cell_type": "code",
   "execution_count": null,
   "metadata": {},
   "outputs": [],
   "source": [
    "!pwd"
   ]
  },
  {
   "cell_type": "code",
   "execution_count": null,
   "metadata": {},
   "outputs": [],
   "source": [
    "!head Bases/consumo_eletrico_SP_2015_2019.csv"
   ]
  },
  {
   "cell_type": "code",
   "execution_count": null,
   "metadata": {},
   "outputs": [],
   "source": [
    "!tail Bases/consumo_eletrico_SP_2015_2019.csv"
   ]
  },
  {
   "cell_type": "code",
   "execution_count": null,
   "metadata": {},
   "outputs": [],
   "source": [
    "!ls *.csv"
   ]
  },
  {
   "cell_type": "code",
   "execution_count": null,
   "metadata": {
    "scrolled": true
   },
   "outputs": [],
   "source": [
    "!dir *.csv"
   ]
  },
  {
   "cell_type": "code",
   "execution_count": null,
   "metadata": {
    "scrolled": true
   },
   "outputs": [],
   "source": [
    "!dir Bases/*.csv"
   ]
  },
  {
   "cell_type": "code",
   "execution_count": null,
   "metadata": {
    "ExecuteTime": {
     "end_time": "2021-02-06T14:05:25.243353Z",
     "start_time": "2021-02-06T14:05:25.235005Z"
    },
    "slideshow": {
     "slide_type": "slide"
    }
   },
   "outputs": [],
   "source": [
    "import pandas as pd"
   ]
  },
  {
   "cell_type": "markdown",
   "metadata": {},
   "source": [
    "### Inglês/Americano\n",
    "\n",
    "- separador decimal . 23,838.33\n",
    "- separador de campos no CSV é , virgula\n",
    "\n",
    "### Porguês/Latinas\n",
    "\n",
    "- separador decimal , 23.838,33\n",
    "- separador de campos no CSV é ; ponto e vírgula\n",
    "\n",
    "### Characterset\n",
    "\n",
    "- ascii\n",
    "- lating - iso-8859-1\n",
    "- utf-8\n",
    "\n",
    "\n",
    "No windows o comando \"cd\" mostra a pasta atual, no Linux/Mac o comando \"pwd\" mostra a pasta atual"
   ]
  },
  {
   "cell_type": "code",
   "execution_count": 9,
   "metadata": {
    "ExecuteTime": {
     "end_time": "2021-02-06T14:07:49.616780Z",
     "start_time": "2021-02-06T14:07:49.584549Z"
    },
    "slideshow": {
     "slide_type": "fragment"
    }
   },
   "outputs": [
    {
     "data": {
      "text/html": [
       "<div>\n",
       "<style scoped>\n",
       "    .dataframe tbody tr th:only-of-type {\n",
       "        vertical-align: middle;\n",
       "    }\n",
       "\n",
       "    .dataframe tbody tr th {\n",
       "        vertical-align: top;\n",
       "    }\n",
       "\n",
       "    .dataframe thead th {\n",
       "        text-align: right;\n",
       "    }\n",
       "</style>\n",
       "<table border=\"1\" class=\"dataframe\">\n",
       "  <thead>\n",
       "    <tr style=\"text-align: right;\">\n",
       "      <th></th>\n",
       "      <th>Localidades</th>\n",
       "      <th>Períodos</th>\n",
       "      <th>Consumo de Energia Elétrica - Total (Em MWh)</th>\n",
       "      <th>Consumo de Energia Elétrica -  Comércio e Serviços (Em MWh)</th>\n",
       "      <th>Consumo de Energia Elétrica - Industrial (Em MWh)</th>\n",
       "      <th>Consumo de Energia Elétrica - Residencial (Em MWh)</th>\n",
       "      <th>Consumo de Energia Elétrica - Rural (Em MWh)</th>\n",
       "      <th>Consumo de Energia Elétrica - Iluminação e Serviços Públicos e Outros (Em MWh)</th>\n",
       "      <th>Cód. IBGE</th>\n",
       "    </tr>\n",
       "  </thead>\n",
       "  <tbody>\n",
       "    <tr>\n",
       "      <th>0</th>\n",
       "      <td>Adamantina</td>\n",
       "      <td>2015</td>\n",
       "      <td>69599</td>\n",
       "      <td>16012</td>\n",
       "      <td>8068</td>\n",
       "      <td>30007</td>\n",
       "      <td>2779</td>\n",
       "      <td>12732</td>\n",
       "      <td>3500105</td>\n",
       "    </tr>\n",
       "    <tr>\n",
       "      <th>1</th>\n",
       "      <td>Adamantina</td>\n",
       "      <td>2016</td>\n",
       "      <td>70433</td>\n",
       "      <td>16808</td>\n",
       "      <td>6960</td>\n",
       "      <td>31062</td>\n",
       "      <td>2767</td>\n",
       "      <td>12836</td>\n",
       "      <td>3500105</td>\n",
       "    </tr>\n",
       "    <tr>\n",
       "      <th>2</th>\n",
       "      <td>Adamantina</td>\n",
       "      <td>2017</td>\n",
       "      <td>72659</td>\n",
       "      <td>18228</td>\n",
       "      <td>7474</td>\n",
       "      <td>31935</td>\n",
       "      <td>2724</td>\n",
       "      <td>12299</td>\n",
       "      <td>3500105</td>\n",
       "    </tr>\n",
       "    <tr>\n",
       "      <th>3</th>\n",
       "      <td>Adamantina</td>\n",
       "      <td>2018</td>\n",
       "      <td>74776</td>\n",
       "      <td>18478</td>\n",
       "      <td>8108</td>\n",
       "      <td>32848</td>\n",
       "      <td>2901</td>\n",
       "      <td>12441</td>\n",
       "      <td>3500105</td>\n",
       "    </tr>\n",
       "    <tr>\n",
       "      <th>4</th>\n",
       "      <td>Adamantina</td>\n",
       "      <td>2019</td>\n",
       "      <td>79010</td>\n",
       "      <td>19475</td>\n",
       "      <td>8958</td>\n",
       "      <td>35115</td>\n",
       "      <td>3070</td>\n",
       "      <td>12393</td>\n",
       "      <td>3500105</td>\n",
       "    </tr>\n",
       "  </tbody>\n",
       "</table>\n",
       "</div>"
      ],
      "text/plain": [
       "  Localidades  Períodos  Consumo de Energia Elétrica - Total (Em MWh)  \\\n",
       "0  Adamantina      2015                                         69599   \n",
       "1  Adamantina      2016                                         70433   \n",
       "2  Adamantina      2017                                         72659   \n",
       "3  Adamantina      2018                                         74776   \n",
       "4  Adamantina      2019                                         79010   \n",
       "\n",
       "   Consumo de Energia Elétrica -  Comércio e Serviços (Em MWh)  \\\n",
       "0                                              16012             \n",
       "1                                              16808             \n",
       "2                                              18228             \n",
       "3                                              18478             \n",
       "4                                              19475             \n",
       "\n",
       "  Consumo de Energia Elétrica - Industrial (Em MWh)  \\\n",
       "0                                              8068   \n",
       "1                                              6960   \n",
       "2                                              7474   \n",
       "3                                              8108   \n",
       "4                                              8958   \n",
       "\n",
       "   Consumo de Energia Elétrica - Residencial (Em MWh)  \\\n",
       "0                                              30007    \n",
       "1                                              31062    \n",
       "2                                              31935    \n",
       "3                                              32848    \n",
       "4                                              35115    \n",
       "\n",
       "  Consumo de Energia Elétrica - Rural (Em MWh)  \\\n",
       "0                                         2779   \n",
       "1                                         2767   \n",
       "2                                         2724   \n",
       "3                                         2901   \n",
       "4                                         3070   \n",
       "\n",
       "   Consumo de Energia Elétrica - Iluminação e Serviços Públicos e Outros (Em MWh)  \\\n",
       "0                                              12732                                \n",
       "1                                              12836                                \n",
       "2                                              12299                                \n",
       "3                                              12441                                \n",
       "4                                              12393                                \n",
       "\n",
       "   Cód. IBGE  \n",
       "0    3500105  \n",
       "1    3500105  \n",
       "2    3500105  \n",
       "3    3500105  \n",
       "4    3500105  "
      ]
     },
     "execution_count": 9,
     "metadata": {},
     "output_type": "execute_result"
    }
   ],
   "source": [
    "consumo = pd.read_csv('Bases/consumo_eletrico_SP_2015_2019.csv', encoding='latin', sep=';')\n",
    "\n",
    "consumo.head()"
   ]
  },
  {
   "cell_type": "code",
   "execution_count": null,
   "metadata": {
    "ExecuteTime": {
     "end_time": "2020-12-30T16:44:37.209360Z",
     "start_time": "2020-12-30T16:44:37.195071Z"
    },
    "slideshow": {
     "slide_type": "fragment"
    }
   },
   "outputs": [],
   "source": [
    "consumo.head(20)"
   ]
  },
  {
   "cell_type": "code",
   "execution_count": null,
   "metadata": {
    "slideshow": {
     "slide_type": "skip"
    }
   },
   "outputs": [],
   "source": [
    "consumo.sample(3)"
   ]
  },
  {
   "cell_type": "markdown",
   "metadata": {
    "slideshow": {
     "slide_type": "slide"
    }
   },
   "source": [
    "É possível observar que para cada município do estado de SP temos uma série histórica (2015- 2019) o consumo de energia elétrica total e suas especificidades (comércio e serviço, industrial, residencial, rural, ilumunição pública/outros). "
   ]
  },
  {
   "cell_type": "code",
   "execution_count": null,
   "metadata": {},
   "outputs": [],
   "source": [
    "list(range(10))"
   ]
  },
  {
   "cell_type": "code",
   "execution_count": null,
   "metadata": {},
   "outputs": [],
   "source": [
    "list(range(10))[2:-1]"
   ]
  },
  {
   "cell_type": "code",
   "execution_count": null,
   "metadata": {
    "ExecuteTime": {
     "end_time": "2021-02-06T14:09:53.202159Z",
     "start_time": "2021-02-06T14:09:53.188111Z"
    },
    "slideshow": {
     "slide_type": "slide"
    }
   },
   "outputs": [],
   "source": [
    "consumo[list(consumo)[2:-1]].head(20)"
   ]
  },
  {
   "cell_type": "markdown",
   "metadata": {
    "slideshow": {
     "slide_type": "slide"
    }
   },
   "source": [
    "Será que o consumo total é a soma das suas componentes?"
   ]
  },
  {
   "cell_type": "code",
   "execution_count": null,
   "metadata": {},
   "outputs": [],
   "source": [
    "consumo[list(consumo)[3:-1]].sum(axis=1)"
   ]
  },
  {
   "cell_type": "code",
   "execution_count": null,
   "metadata": {
    "ExecuteTime": {
     "end_time": "2021-02-06T14:12:07.831783Z",
     "start_time": "2021-02-06T14:12:07.805198Z"
    },
    "slideshow": {
     "slide_type": "fragment"
    }
   },
   "outputs": [],
   "source": [
    "#del consumo['soma']\n",
    "display(consumo[list(consumo)[3:-1]].head(2))\n",
    "\n",
    "consumo['soma'] = consumo[list(consumo)[3:-1]].sum(axis=1)\n",
    "\n",
    "display(consumo.head(2))"
   ]
  },
  {
   "cell_type": "code",
   "execution_count": null,
   "metadata": {
    "ExecuteTime": {
     "end_time": "2020-12-30T16:44:42.176797Z",
     "start_time": "2020-12-30T16:44:42.169705Z"
    },
    "slideshow": {
     "slide_type": "fragment"
    }
   },
   "outputs": [],
   "source": [
    "consumo[[list(consumo)[2],list(consumo)[-1]]].head()"
   ]
  },
  {
   "cell_type": "markdown",
   "metadata": {
    "ExecuteTime": {
     "end_time": "2020-12-30T16:31:11.072734Z",
     "start_time": "2020-12-30T16:31:11.069468Z"
    },
    "slideshow": {
     "slide_type": "fragment"
    }
   },
   "source": [
    "Por que o valor é tão diferente? "
   ]
  },
  {
   "cell_type": "code",
   "execution_count": null,
   "metadata": {
    "ExecuteTime": {
     "end_time": "2020-12-30T16:42:18.438848Z",
     "start_time": "2020-12-30T16:42:18.430591Z"
    },
    "scrolled": true,
    "slideshow": {
     "slide_type": "slide"
    }
   },
   "outputs": [],
   "source": [
    "consumo.info()"
   ]
  },
  {
   "cell_type": "markdown",
   "metadata": {
    "slideshow": {
     "slide_type": "fragment"
    }
   },
   "source": [
    "\n",
    "<div class=\"alert alert-block alert-warning\">\n",
    "<b>Atenção:</b> Busque sempre verificar o tipo de dados que o Pandas está assumindo. Todo o seu pipeline pode ficar comprometido por um tipo de dado erroneamente identificado e não tratado. </div>"
   ]
  },
  {
   "cell_type": "markdown",
   "metadata": {
    "slideshow": {
     "slide_type": "fragment"
    }
   },
   "source": [
    "Observe que o consumo industrial e rural não está como inteiro, e sim object (provavelmente há missing data). Vamos tentar faze-los ser valores numéricos."
   ]
  },
  {
   "cell_type": "code",
   "execution_count": null,
   "metadata": {},
   "outputs": [],
   "source": [
    "consumo['Consumo de Energia Elétrica - Industrial (Em MWh)']"
   ]
  },
  {
   "cell_type": "code",
   "execution_count": null,
   "metadata": {
    "ExecuteTime": {
     "end_time": "2020-12-30T16:42:21.065370Z",
     "start_time": "2020-12-30T16:42:21.040347Z"
    },
    "scrolled": true,
    "slideshow": {
     "slide_type": "slide"
    }
   },
   "outputs": [],
   "source": [
    "consumo['Consumo de Energia Elétrica - Industrial (Em MWh)'].astype('int')"
   ]
  },
  {
   "cell_type": "code",
   "execution_count": null,
   "metadata": {},
   "outputs": [],
   "source": [
    "int('-')"
   ]
  },
  {
   "cell_type": "code",
   "execution_count": null,
   "metadata": {
    "ExecuteTime": {
     "end_time": "2021-02-06T14:16:38.825937Z",
     "start_time": "2021-02-06T14:16:38.818844Z"
    },
    "slideshow": {
     "slide_type": "slide"
    }
   },
   "outputs": [],
   "source": [
    "consumo['Consumo de Energia Elétrica - Industrial (Em MWh)'] = consumo[\n",
    "    'Consumo de Energia Elétrica - Industrial (Em MWh)'].replace(\n",
    "        '-', 0).astype('int64')"
   ]
  },
  {
   "cell_type": "code",
   "execution_count": null,
   "metadata": {
    "ExecuteTime": {
     "end_time": "2021-02-06T14:17:12.666607Z",
     "start_time": "2021-02-06T14:17:12.661353Z"
    },
    "slideshow": {
     "slide_type": "slide"
    }
   },
   "outputs": [],
   "source": [
    "consumo['Consumo de Energia Elétrica - Rural (Em MWh)'] = consumo['Consumo de Energia Elétrica - Rural (Em MWh)'].replace(\n",
    "    '-', 0).astype('int64')"
   ]
  },
  {
   "cell_type": "markdown",
   "metadata": {
    "slideshow": {
     "slide_type": "slide"
    }
   },
   "source": [
    "Agora podemos calcular novamente:"
   ]
  },
  {
   "cell_type": "code",
   "execution_count": null,
   "metadata": {
    "ExecuteTime": {
     "end_time": "2021-02-06T14:17:24.078580Z",
     "start_time": "2021-02-06T14:17:24.075388Z"
    },
    "slideshow": {
     "slide_type": "fragment"
    }
   },
   "outputs": [],
   "source": [
    "del consumo['soma']"
   ]
  },
  {
   "cell_type": "code",
   "execution_count": null,
   "metadata": {
    "ExecuteTime": {
     "end_time": "2021-02-06T14:17:32.024610Z",
     "start_time": "2021-02-06T14:17:32.018628Z"
    },
    "slideshow": {
     "slide_type": "fragment"
    }
   },
   "outputs": [],
   "source": [
    "consumo['soma'] = consumo[list(consumo)[3:-1]].sum(axis=1)"
   ]
  },
  {
   "cell_type": "code",
   "execution_count": null,
   "metadata": {
    "ExecuteTime": {
     "end_time": "2021-02-06T14:17:55.169333Z",
     "start_time": "2021-02-06T14:17:55.158593Z"
    },
    "slideshow": {
     "slide_type": "fragment"
    }
   },
   "outputs": [],
   "source": [
    "consumo[['Consumo de Energia Elétrica - Total (Em MWh)', 'soma']].head(5)"
   ]
  },
  {
   "cell_type": "code",
   "execution_count": null,
   "metadata": {
    "ExecuteTime": {
     "end_time": "2020-12-30T16:42:39.340699Z",
     "start_time": "2020-12-30T16:42:39.333240Z"
    },
    "slideshow": {
     "slide_type": "fragment"
    }
   },
   "outputs": [],
   "source": [
    "consumo[[list(consumo)[2],list(consumo)[-1]]].head()"
   ]
  },
  {
   "cell_type": "markdown",
   "metadata": {
    "slideshow": {
     "slide_type": "slide"
    }
   },
   "source": [
    "Vamos voltar para as agregações. \n",
    "\n",
    "Uma primeira proposta pode ser calculcar o consumo total do estado de SP para cada ano. Observe que temos que agrupar os dados por ano (`group by`) e depois realizar a agregação de soma (`sum`). \n",
    "\n",
    "Vamos ver como realizar isso com o Pandas."
   ]
  },
  {
   "cell_type": "code",
   "execution_count": null,
   "metadata": {
    "ExecuteTime": {
     "end_time": "2021-02-06T14:21:10.339825Z",
     "start_time": "2021-02-06T14:21:10.317314Z"
    },
    "slideshow": {
     "slide_type": "fragment"
    }
   },
   "outputs": [],
   "source": [
    "display(consumo.head(2))\n",
    "\n",
    "consumo.groupby('Períodos').sum()"
   ]
  },
  {
   "cell_type": "markdown",
   "metadata": {
    "slideshow": {
     "slide_type": "slide"
    }
   },
   "source": [
    "Refinando"
   ]
  },
  {
   "cell_type": "code",
   "execution_count": null,
   "metadata": {
    "ExecuteTime": {
     "end_time": "2020-12-30T15:44:22.666549Z",
     "start_time": "2020-12-30T15:44:22.657517Z"
    },
    "slideshow": {
     "slide_type": "fragment"
    }
   },
   "outputs": [],
   "source": [
    "consumo.groupby('Períodos')[[list(consumo)[2]]].sum()"
   ]
  },
  {
   "cell_type": "markdown",
   "metadata": {
    "slideshow": {
     "slide_type": "slide"
    }
   },
   "source": [
    "E para calcular a média, por exemplo:"
   ]
  },
  {
   "cell_type": "code",
   "execution_count": null,
   "metadata": {
    "ExecuteTime": {
     "end_time": "2021-02-06T14:22:46.567435Z",
     "start_time": "2021-02-06T14:22:46.546094Z"
    },
    "slideshow": {
     "slide_type": "fragment"
    }
   },
   "outputs": [],
   "source": [
    "consumo.groupby('Períodos')[[list(consumo)[2]]].mean()"
   ]
  },
  {
   "cell_type": "markdown",
   "metadata": {
    "slideshow": {
     "slide_type": "slide"
    }
   },
   "source": [
    "E se quisermos média e soma?"
   ]
  },
  {
   "cell_type": "code",
   "execution_count": null,
   "metadata": {
    "ExecuteTime": {
     "end_time": "2021-02-06T14:24:05.364419Z",
     "start_time": "2021-02-06T14:24:05.313272Z"
    },
    "slideshow": {
     "slide_type": "fragment"
    }
   },
   "outputs": [],
   "source": [
    "display(consumo.head(2))\n",
    "\n",
    "consumo.groupby('Períodos').agg(['mean', 'sum'])"
   ]
  },
  {
   "cell_type": "markdown",
   "metadata": {
    "ExecuteTime": {
     "end_time": "2020-12-30T15:48:41.154600Z",
     "start_time": "2020-12-30T15:48:40.448240Z"
    },
    "slideshow": {
     "slide_type": "slide"
    }
   },
   "source": [
    "Vamos obter o médio e soma para cada município, em cada ano."
   ]
  },
  {
   "cell_type": "code",
   "execution_count": null,
   "metadata": {},
   "outputs": [],
   "source": [
    "consumo.agg #Shift + Tab para ver a documentação no notebook..."
   ]
  },
  {
   "cell_type": "code",
   "execution_count": null,
   "metadata": {},
   "outputs": [],
   "source": [
    "list(consumo)[2]"
   ]
  },
  {
   "cell_type": "code",
   "execution_count": null,
   "metadata": {},
   "outputs": [],
   "source": [
    "list(consumo)"
   ]
  },
  {
   "cell_type": "code",
   "execution_count": null,
   "metadata": {},
   "outputs": [],
   "source": [
    "consumo.groupby(['Localidades', 'Períodos']).agg(['max'])[['Consumo de Energia Elétrica - Total (Em MWh)']]"
   ]
  },
  {
   "cell_type": "code",
   "execution_count": null,
   "metadata": {},
   "outputs": [],
   "source": [
    "consumo.groupby(['Localidades', 'Períodos']).agg(['mean'])[['Consumo de Energia Elétrica - Total (Em MWh)']]"
   ]
  },
  {
   "cell_type": "code",
   "execution_count": null,
   "metadata": {
    "ExecuteTime": {
     "end_time": "2021-02-06T14:26:02.730368Z",
     "start_time": "2021-02-06T14:26:02.672129Z"
    },
    "slideshow": {
     "slide_type": "fragment"
    }
   },
   "outputs": [],
   "source": [
    "consumo.groupby(['Localidades', 'Períodos']).agg(['mean'])[[list(consumo)[2]]]"
   ]
  },
  {
   "cell_type": "markdown",
   "metadata": {
    "slideshow": {
     "slide_type": "slide"
    }
   },
   "source": [
    "Como obter, por município, a média e o desvio padrão do consumo total e a soma do consumo em iluminação e serviços publicos?"
   ]
  },
  {
   "cell_type": "code",
   "execution_count": null,
   "metadata": {
    "ExecuteTime": {
     "end_time": "2020-12-30T16:05:09.176658Z",
     "start_time": "2020-12-30T16:05:09.082331Z"
    },
    "slideshow": {
     "slide_type": "fragment"
    }
   },
   "outputs": [],
   "source": [
    "consumo.groupby(['Localidades']).agg({'Consumo de Energia Elétrica - Total (Em MWh)': ['mean', 'std'],\n",
    "                                      'Consumo de Energia Elétrica - Iluminação e Serviços Públicos e Outros (Em MWh)': 'sum'})"
   ]
  },
  {
   "cell_type": "code",
   "execution_count": null,
   "metadata": {},
   "outputs": [],
   "source": [
    "df_final = _124"
   ]
  },
  {
   "cell_type": "code",
   "execution_count": null,
   "metadata": {},
   "outputs": [],
   "source": [
    "type(df_final)"
   ]
  },
  {
   "cell_type": "code",
   "execution_count": null,
   "metadata": {},
   "outputs": [],
   "source": [
    "df_final.to_excel(\"df_final.xlsx\")"
   ]
  },
  {
   "cell_type": "code",
   "execution_count": null,
   "metadata": {},
   "outputs": [],
   "source": [
    "!dir *.xlsx"
   ]
  },
  {
   "cell_type": "markdown",
   "metadata": {},
   "source": [
    "Referências sobre Pandas:\n",
    "\n",
    "- https://pandas.pydata.org/docs/"
   ]
  },
  {
   "cell_type": "markdown",
   "metadata": {},
   "source": [
    "Planilhas nunca mais!!!\n",
    "\n",
    "<img src=\"https://www.bryanshalloway.com/2021/05/10/macros-in-the-shell-integrating-that-spreadsheet-from-finance-into-a-local-data-pipeline/images/excel-meme.jfif\">\n",
    "\n",
    "### Bônus 🎁\n",
    "\n",
    "Células de texto, markdown, HTML, TeX (LaTeX), UNICODE (UTF-8), Emojis\n",
    "\n",
    "# 😃 🤬"
   ]
  },
  {
   "cell_type": "markdown",
   "metadata": {},
   "source": [
    "# Título nível 1\n",
    "\n",
    "Teste\n",
    "\n",
    "- Idea 1\n",
    "- Idea 2\n",
    "- Idea 3\n",
    "\n",
    "## Título nível 2\n",
    "\n",
    "Teste\n",
    "\n",
    "1. Idea A\n",
    "1. Idea B\n",
    "1. Idea C\n",
    "\n",
    "### Título nível 3\n",
    "\n",
    "Teste\n",
    "\n",
    "# 🕷️\n",
    "\n",
    "> Com grandes poderes vem grandes responsabilidades! Tio Ben! 🕷️\n",
    "\n",
    "#### Título nível 4\n",
    "\n",
    "E agora o meu texto!!"
   ]
  },
  {
   "cell_type": "markdown",
   "metadata": {},
   "source": [
    "#### TeX\n",
    "\n",
    "LaTex\n",
    "\n",
    "The quadratic formula is $-b \\pm \\sqrt{b^2 - 4ac} \\over 2a$\n"
   ]
  },
  {
   "cell_type": "markdown",
   "metadata": {},
   "source": [
    "\\begin{equation}\n",
    "\\frac{\\sum_{k=1}^N k^2}{a}\n",
    "\\end{equation}"
   ]
  },
  {
   "cell_type": "markdown",
   "metadata": {},
   "source": [
    "#### Imagens\n",
    "\n",
    "![Insper Aula](https://www.insper.edu.br/content/dam/insper-portal/imagens/icones/certificacoes.png)"
   ]
  },
  {
   "attachments": {},
   "cell_type": "markdown",
   "metadata": {},
   "source": [
    "<img src=\"https://www.insper.edu.br/content/dam/insper-portal/imagens/campus/campus_MG_2361.jpg\" alt=\"Insper em números\" width=\"200px\">"
   ]
  },
  {
   "cell_type": "markdown",
   "metadata": {},
   "source": [
    "#### Markdown\n",
    "\n",
    "TODO:\n",
    "    \n",
    "- [x] Estabelecer <b>questão</b>\n",
    "- [x] **Garimpar** os dados\n",
    "- [x] _Explorar_ os dados\n",
    "- [ ] <del>Modelagem</del> - Na disciplina de estatística\n",
    "- [x] Comunicar, publicar resultados ✨"
   ]
  },
  {
   "cell_type": "markdown",
   "metadata": {},
   "source": [
    "#### HTML\n",
    "\n",
    "<hr>\n",
    "\n",
    "<p>Insper vídeo: <b>Inteligência artificial e os robôs assassinos | Mitos, verdades e desafios</b></p>"
   ]
  },
  {
   "cell_type": "markdown",
   "metadata": {},
   "source": [
    "#### UNICODE, UTF-8, Emoji\n",
    "\n",
    "# 🧙‍♀️ 🎰 🎱 🎲 🔮 ✨\n",
    "\n",
    "పైథాన్ నిజంగా మంచి ప్రోగ్రామింగ్ లాంగ్వేజ్\n",
    "\n",
    "# 😈"
   ]
  },
  {
   "cell_type": "markdown",
   "metadata": {},
   "source": [
    "#### Youtube\n",
    "\n",
    "Vídeo externo"
   ]
  },
  {
   "cell_type": "code",
   "execution_count": 1,
   "metadata": {
    "scrolled": true
   },
   "outputs": [
    {
     "name": "stderr",
     "output_type": "stream",
     "text": [
      "/opt/anaconda3/lib/python3.11/site-packages/IPython/core/display.py:431: UserWarning: Consider using IPython.display.IFrame instead\n",
      "  warnings.warn(\"Consider using IPython.display.IFrame instead\")\n"
     ]
    },
    {
     "data": {
      "text/html": [
       "<iframe width=\"560\" height=\"315\" src=\"https://www.youtube.com/embed/fBAqBndM5m4\" title=\"YouTube video player\" frameborder=\"0\" allow=\"accelerometer; autoplay; clipboard-write; encrypted-media; gyroscope; picture-in-picture\" allowfullscreen></iframe>"
      ],
      "text/plain": [
       "<IPython.core.display.HTML object>"
      ]
     },
     "execution_count": 1,
     "metadata": {},
     "output_type": "execute_result"
    }
   ],
   "source": [
    "from IPython.display import HTML\n",
    "\n",
    "# Youtube\n",
    "HTML('<iframe width=\"560\" height=\"315\" src=\"https://www.youtube.com/embed/fBAqBndM5m4\" title=\"YouTube video player\" frameborder=\"0\" allow=\"accelerometer; autoplay; clipboard-write; encrypted-media; gyroscope; picture-in-picture\" allowfullscreen></iframe>')"
   ]
  },
  {
   "cell_type": "code",
   "execution_count": 2,
   "metadata": {},
   "outputs": [
    {
     "data": {
      "text/html": [
       "<iframe width=\"560\" height=\"315\" src=\"https://www.youtube.com/embed/L7E-0m9s5hc\" title=\"YouTube video player\" frameborder=\"0\" allow=\"accelerometer; autoplay; clipboard-write; encrypted-media; gyroscope; picture-in-picture\" allowfullscreen></iframe>"
      ],
      "text/plain": [
       "<IPython.core.display.HTML object>"
      ]
     },
     "execution_count": 2,
     "metadata": {},
     "output_type": "execute_result"
    }
   ],
   "source": [
    "from IPython.display import HTML\n",
    "\n",
    "# Youtube\n",
    "HTML('<iframe width=\"560\" height=\"315\" src=\"https://www.youtube.com/embed/L7E-0m9s5hc\" title=\"YouTube video player\" frameborder=\"0\" allow=\"accelerometer; autoplay; clipboard-write; encrypted-media; gyroscope; picture-in-picture\" allowfullscreen></iframe>')"
   ]
  },
  {
   "cell_type": "markdown",
   "metadata": {},
   "source": [
    "Há também outras formas de incorporar vídeo em um notebook, consulte a documentação\n",
    "\n",
    "### Mais referências:\n",
    "\n",
    "- https://emojipedia.org/\n",
    "- https://home.unicode.org/\n",
    "\n",
    "\n",
    "- [Markdown Cells](https://jupyter-notebook.readthedocs.io/en/stable/examples/Notebook/Working%20With%20Markdown%20Cells.html)\n",
    "- [Mastering Markdown](https://guides.github.com/features/mastering-markdown/)\n",
    "- [HTML Tutorial](https://www.w3schools.com/html/default.asp)\n",
    "- [Tex - Tutorial](https://www.tutorialspoint.com/tex_commands/index.htm)"
   ]
  }
 ],
 "metadata": {
  "kernelspec": {
   "display_name": "Python 3 (ipykernel)",
   "language": "python",
   "name": "python3"
  },
  "language_info": {
   "codemirror_mode": {
    "name": "ipython",
    "version": 3
   },
   "file_extension": ".py",
   "mimetype": "text/x-python",
   "name": "python",
   "nbconvert_exporter": "python",
   "pygments_lexer": "ipython3",
   "version": "3.11.5"
  },
  "toc": {
   "base_numbering": 1,
   "nav_menu": {},
   "number_sections": true,
   "sideBar": true,
   "skip_h1_title": false,
   "title_cell": "Table of Contents",
   "title_sidebar": "Contents",
   "toc_cell": false,
   "toc_position": {},
   "toc_section_display": true,
   "toc_window_display": false
  }
 },
 "nbformat": 4,
 "nbformat_minor": 4
}
