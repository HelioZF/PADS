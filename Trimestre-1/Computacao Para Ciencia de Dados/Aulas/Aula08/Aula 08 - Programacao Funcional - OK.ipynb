{
 "cells": [
  {
   "cell_type": "markdown",
   "metadata": {},
   "source": [
    "![Insper](https://github.com/danielscarvalho/Insper-DS-Dicas/blob/master/Insper-Logo.png?raw=true)\n",
    "\n",
    "# Insper Pós-Graduação\n",
    "## Programa Avançado em Data Science e Decisão [»](https://www.insper.edu.br/pos-graduacao/programas-avancados/programa-avancado-em-data-science-e-decisao/)"
   ]
  },
  {
   "cell_type": "markdown",
   "metadata": {
    "nteract": {
     "transient": {
      "deleting": false
     }
    }
   },
   "source": [
    "# Programação Funcional em Python\n",
    "\n",
    "---"
   ]
  },
  {
   "cell_type": "markdown",
   "metadata": {},
   "source": [
    "Paradigmas de programação em Python:\n",
    "- Programação estruturada\n",
    "- Programação orientada a objetos\n",
    "- Programação funcional"
   ]
  },
  {
   "cell_type": "markdown",
   "metadata": {
    "nteract": {
     "transient": {
      "deleting": false
     }
    }
   },
   "source": [
    "Programação funcional é um **paradigma de programação**. Um modo de se programar usando **funções puras**, **evitando estados compartilhados**, **mutabilidade** e **efeitos adversos**\n",
    "\n",
    "Em vez da clássica programação imperativa, é uma programação **declarativa**"
   ]
  },
  {
   "cell_type": "markdown",
   "metadata": {
    "nteract": {
     "transient": {
      "deleting": false
     }
    }
   },
   "source": [
    "**Funções puras** são funções que dadas as entradas, elas **SEMPRE** retornarão o **mesmo** resultado.\n",
    "\n",
    "Em linguagens puramente funcionais, os tipos de dados são naturalmente **imutáveis**. Isto facilita o ***paralelismo***."
   ]
  },
  {
   "attachments": {
    "ed52b6b8-55dc-43b2-84ad-9ed719007e1b.png": {
     "image/png": "[encoded data removed]"
    }
   },
   "cell_type": "markdown",
   "metadata": {},
   "source": [
    "![image.png](attachment:ed52b6b8-55dc-43b2-84ad-9ed719007e1b.png)"
   ]
  },
  {
   "cell_type": "code",
   "execution_count": null,
   "metadata": {
    "ExecuteTime": {
     "end_time": "2021-03-12T21:23:51.553127Z",
     "start_time": "2021-03-12T21:23:51.536963Z"
    },
    "collapsed": false,
    "execution": {
     "iopub.execute_input": "2020-05-08T16:19:22.493Z",
     "iopub.status.busy": "2020-05-08T16:19:22.489Z",
     "iopub.status.idle": "2020-05-08T16:19:22.499Z",
     "shell.execute_reply": "2020-05-08T16:19:22.502Z"
    },
    "jupyter": {
     "outputs_hidden": false,
     "source_hidden": false
    },
    "nteract": {
     "transient": {
      "deleting": false
     }
    },
    "outputExpanded": false
   },
   "outputs": [],
   "source": [
    "# Exemplo de funções puras. \n",
    "\n",
    "def multByTwo(x):\n",
    "  return x*2\n",
    "\n",
    "def addThree(x):\n",
    "  return x+3"
   ]
  },
  {
   "cell_type": "code",
   "execution_count": null,
   "metadata": {
    "ExecuteTime": {
     "end_time": "2021-03-12T21:24:32.842648Z",
     "start_time": "2021-03-12T21:24:32.839136Z"
    }
   },
   "outputs": [],
   "source": [
    "addThree(4)"
   ]
  },
  {
   "cell_type": "code",
   "execution_count": null,
   "metadata": {
    "ExecuteTime": {
     "end_time": "2021-03-12T21:24:52.390286Z",
     "start_time": "2021-03-12T21:24:52.385413Z"
    },
    "collapsed": false,
    "execution": {
     "iopub.execute_input": "2020-05-08T16:20:15.563Z",
     "iopub.status.busy": "2020-05-08T16:20:15.556Z",
     "iopub.status.idle": "2020-05-08T16:20:15.575Z",
     "shell.execute_reply": "2020-05-08T16:20:15.585Z"
    },
    "jupyter": {
     "outputs_hidden": false,
     "source_hidden": false
    },
    "nteract": {
     "transient": {
      "deleting": false
     }
    },
    "outputExpanded": false
   },
   "outputs": [],
   "source": [
    "# Funções puras retornam o mesmo valor\n",
    "# independente da ordem que elas são chamadas. \n",
    "# Isto é um requisito essencial ao paralelismo.\n",
    "\n",
    "print(multByTwo(2))\n",
    "print(addThree(3))\n",
    "\n",
    "print(addThree(3))\n",
    "print(multByTwo(2))\n"
   ]
  },
  {
   "cell_type": "code",
   "execution_count": null,
   "metadata": {
    "ExecuteTime": {
     "end_time": "2021-03-12T21:29:45.886054Z",
     "start_time": "2021-03-12T21:29:45.881739Z"
    },
    "collapsed": false,
    "execution": {
     "iopub.execute_input": "2020-05-08T16:25:46.927Z",
     "iopub.status.busy": "2020-05-08T16:25:46.924Z",
     "iopub.status.idle": "2020-05-08T16:25:46.938Z",
     "shell.execute_reply": "2020-05-08T16:25:46.942Z"
    },
    "jupyter": {
     "outputs_hidden": false,
     "source_hidden": false
    },
    "nteract": {
     "transient": {
      "deleting": false
     }
    },
    "outputExpanded": false
   },
   "outputs": [],
   "source": [
    "### E uma função impura, como seria?\n",
    "\n",
    "valor = 5\n",
    "\n",
    "def addFive(x):\n",
    "  return x + valor"
   ]
  },
  {
   "cell_type": "code",
   "execution_count": null,
   "metadata": {
    "ExecuteTime": {
     "end_time": "2021-03-12T21:30:08.933731Z",
     "start_time": "2021-03-12T21:30:08.930180Z"
    }
   },
   "outputs": [],
   "source": [
    "addFive(4)"
   ]
  },
  {
   "cell_type": "code",
   "execution_count": null,
   "metadata": {
    "ExecuteTime": {
     "end_time": "2021-03-12T21:31:26.738403Z",
     "start_time": "2021-03-12T21:31:26.736288Z"
    }
   },
   "outputs": [],
   "source": [
    "valor = 5"
   ]
  },
  {
   "cell_type": "code",
   "execution_count": null,
   "metadata": {
    "ExecuteTime": {
     "end_time": "2021-03-12T21:32:06.622317Z",
     "start_time": "2021-03-12T21:32:06.620039Z"
    },
    "collapsed": false,
    "execution": {
     "iopub.execute_input": "2020-05-08T16:26:00.177Z",
     "iopub.status.busy": "2020-05-08T16:26:00.173Z",
     "iopub.status.idle": "2020-05-08T16:26:00.182Z",
     "shell.execute_reply": "2020-05-08T16:26:00.187Z"
    },
    "jupyter": {
     "outputs_hidden": false,
     "source_hidden": false
    },
    "nteract": {
     "transient": {
      "deleting": false
     }
    },
    "outputExpanded": false
   },
   "outputs": [],
   "source": [
    "assert addFive(5) == 10"
   ]
  },
  {
   "cell_type": "code",
   "execution_count": null,
   "metadata": {
    "ExecuteTime": {
     "end_time": "2021-03-12T21:32:25.091342Z",
     "start_time": "2021-03-12T21:32:25.089265Z"
    },
    "collapsed": false,
    "execution": {
     "iopub.execute_input": "2020-05-08T16:26:14.910Z",
     "iopub.status.busy": "2020-05-08T16:26:14.904Z",
     "iopub.status.idle": "2020-05-08T16:26:14.917Z",
     "shell.execute_reply": "2020-05-08T16:26:14.920Z"
    },
    "jupyter": {
     "outputs_hidden": false,
     "source_hidden": false
    },
    "nteract": {
     "transient": {
      "deleting": false
     }
    },
    "outputExpanded": false
   },
   "outputs": [],
   "source": [
    "valor = 7"
   ]
  },
  {
   "cell_type": "code",
   "execution_count": null,
   "metadata": {
    "ExecuteTime": {
     "end_time": "2021-03-12T21:32:37.274301Z",
     "start_time": "2021-03-12T21:32:37.264573Z"
    },
    "collapsed": false,
    "execution": {
     "iopub.execute_input": "2020-05-08T16:26:21.423Z",
     "iopub.status.busy": "2020-05-08T16:26:21.418Z",
     "iopub.status.idle": "2020-05-08T16:26:21.440Z",
     "shell.execute_reply": "2020-05-08T16:26:21.452Z"
    },
    "jupyter": {
     "outputs_hidden": false,
     "source_hidden": false
    },
    "nteract": {
     "transient": {
      "deleting": false
     }
    },
    "outputExpanded": false
   },
   "outputs": [],
   "source": [
    "assert addFive(5) == 10"
   ]
  },
  {
   "cell_type": "code",
   "execution_count": null,
   "metadata": {},
   "outputs": [],
   "source": [
    "1/2*4**3"
   ]
  },
  {
   "cell_type": "code",
   "execution_count": null,
   "metadata": {},
   "outputs": [],
   "source": [
    "print(1/2*4**3)"
   ]
  },
  {
   "cell_type": "code",
   "execution_count": null,
   "metadata": {
    "scrolled": true
   },
   "outputs": [],
   "source": [
    "print(12/0)"
   ]
  },
  {
   "cell_type": "code",
   "execution_count": null,
   "metadata": {},
   "outputs": [],
   "source": [
    "assert True"
   ]
  },
  {
   "cell_type": "code",
   "execution_count": null,
   "metadata": {
    "scrolled": true
   },
   "outputs": [],
   "source": [
    "assert False"
   ]
  },
  {
   "cell_type": "code",
   "execution_count": null,
   "metadata": {},
   "outputs": [],
   "source": [
    "assert False, \"Ops! Deu ruin!!!\""
   ]
  },
  {
   "cell_type": "code",
   "execution_count": null,
   "metadata": {},
   "outputs": [],
   "source": [
    "v=0"
   ]
  },
  {
   "cell_type": "code",
   "execution_count": null,
   "metadata": {},
   "outputs": [],
   "source": [
    "assert v!=0, \"Ops! Vai dar div por ZERO!!\""
   ]
  },
  {
   "cell_type": "code",
   "execution_count": null,
   "metadata": {},
   "outputs": [],
   "source": [
    "if(v==0): print(\"Ops! Vai dar div por ZERO!!\")"
   ]
  },
  {
   "cell_type": "markdown",
   "metadata": {
    "nteract": {
     "transient": {
      "deleting": false
     }
    }
   },
   "source": [
    "Ou seja, **addFive** é uma função que causa **efeitos colaterais**"
   ]
  },
  {
   "cell_type": "markdown",
   "metadata": {
    "nteract": {
     "transient": {
      "deleting": false
     }
    }
   },
   "source": [
    "Podemos dizer que programação funcional é um paradigma de programação que trata a computação como uma avaliação de funções matemáticas e que evita estados ou dados mutáveis "
   ]
  },
  {
   "cell_type": "markdown",
   "metadata": {
    "nteract": {
     "transient": {
      "deleting": false
     }
    }
   },
   "source": [
    "Programação funcional é feita por meio do uso de **funções de ordem superior**, isto é, funções que recebem outras funções como argumentos e devolvem funções como resultado"
   ]
  },
  {
   "cell_type": "markdown",
   "metadata": {
    "nteract": {
     "transient": {
      "deleting": false
     }
    }
   },
   "source": [
    "Características da programação funcional\n",
    "\n",
    "- Menos código\n",
    "- Maior abstração\n",
    "- Recursão, como oposição aos loops \n",
    "- Processamento de iteráveis\n",
    "- Códigos mágicos, pouco legíveis\n",
    "\n"
   ]
  },
  {
   "cell_type": "markdown",
   "metadata": {
    "nteract": {
     "transient": {
      "deleting": false
     }
    }
   },
   "source": [
    "### Python e Programação Funcional.\n",
    "\n",
    "1. Compreensão de listas \n",
    "\n",
    "O uso de compreensão de listas é bem comum na matemática. Por exemplo:\n",
    "\n",
    "$ S = \\{x^2 | x \\in \\{0,\\dots, 9\\}\\} $\n",
    "\n",
    "$ M = \\{x | x \\in S , mod(x,2) = 0\\} $\n",
    "\n",
    "Em python temos:"
   ]
  },
  {
   "cell_type": "code",
   "execution_count": null,
   "metadata": {
    "ExecuteTime": {
     "end_time": "2021-03-12T21:38:29.178681Z",
     "start_time": "2021-03-12T21:38:29.176071Z"
    },
    "collapsed": false,
    "execution": {
     "iopub.execute_input": "2020-05-08T16:15:15.223Z",
     "iopub.status.busy": "2020-05-08T16:15:15.220Z",
     "iopub.status.idle": "2020-05-08T16:15:15.226Z",
     "shell.execute_reply": "2020-05-08T16:15:15.233Z"
    },
    "jupyter": {
     "outputs_hidden": false,
     "source_hidden": false
    },
    "nteract": {
     "transient": {
      "deleting": false
     }
    },
    "outputExpanded": false
   },
   "outputs": [],
   "source": [
    "s = [x**2 for x in range(10)]"
   ]
  },
  {
   "cell_type": "code",
   "execution_count": null,
   "metadata": {
    "ExecuteTime": {
     "end_time": "2021-03-12T21:38:29.502343Z",
     "start_time": "2021-03-12T21:38:29.489889Z"
    }
   },
   "outputs": [],
   "source": [
    "s"
   ]
  },
  {
   "cell_type": "code",
   "execution_count": null,
   "metadata": {
    "ExecuteTime": {
     "end_time": "2021-03-12T21:38:56.643544Z",
     "start_time": "2021-03-12T21:38:56.640111Z"
    }
   },
   "outputs": [],
   "source": [
    "m = [x for x in s if x%2 == 0]"
   ]
  },
  {
   "cell_type": "code",
   "execution_count": null,
   "metadata": {
    "ExecuteTime": {
     "end_time": "2021-03-12T21:39:01.132104Z",
     "start_time": "2021-03-12T21:39:01.127455Z"
    },
    "collapsed": false,
    "execution": {
     "iopub.execute_input": "2020-05-08T16:15:39.518Z",
     "iopub.status.busy": "2020-05-08T16:15:39.515Z",
     "iopub.status.idle": "2020-05-08T16:15:39.528Z",
     "shell.execute_reply": "2020-05-08T16:15:39.532Z"
    },
    "jupyter": {
     "outputs_hidden": false,
     "source_hidden": false
    },
    "nteract": {
     "transient": {
      "deleting": false
     }
    },
    "outputExpanded": false
   },
   "outputs": [],
   "source": [
    "m"
   ]
  },
  {
   "cell_type": "code",
   "execution_count": null,
   "metadata": {},
   "outputs": [],
   "source": [
    "[a+b for b in [a for a in range(10)]]"
   ]
  },
  {
   "cell_type": "code",
   "execution_count": null,
   "metadata": {},
   "outputs": [],
   "source": [
    "[[i*j for i in range(1, j+1)] for j in range(1, 8)]"
   ]
  },
  {
   "cell_type": "markdown",
   "metadata": {
    "nteract": {
     "transient": {
      "deleting": false
     }
    }
   },
   "source": [
    "Funções anônimas"
   ]
  },
  {
   "cell_type": "code",
   "execution_count": null,
   "metadata": {
    "ExecuteTime": {
     "end_time": "2021-03-12T21:39:48.979405Z",
     "start_time": "2021-03-12T21:39:48.975351Z"
    },
    "collapsed": false,
    "execution": {
     "iopub.execute_input": "2020-05-08T16:46:34.205Z",
     "iopub.status.busy": "2020-05-08T16:46:34.200Z",
     "iopub.status.idle": "2020-05-08T16:46:34.212Z",
     "shell.execute_reply": "2020-05-08T16:46:34.217Z"
    },
    "jupyter": {
     "outputs_hidden": false,
     "source_hidden": false
    },
    "nteract": {
     "transient": {
      "deleting": false
     }
    },
    "outputExpanded": false
   },
   "outputs": [],
   "source": [
    "# uma função clássica\n",
    "\n",
    "def addTen(x):\n",
    "  return x + 10\n",
    "\n",
    "# uma função anônima\n",
    "\n",
    "addTenAnonim = lambda x : x + 10"
   ]
  },
  {
   "cell_type": "code",
   "execution_count": null,
   "metadata": {
    "ExecuteTime": {
     "end_time": "2021-03-12T21:39:49.282905Z",
     "start_time": "2021-03-12T21:39:49.279308Z"
    },
    "collapsed": false,
    "execution": {
     "iopub.execute_input": "2020-05-08T16:46:41.300Z",
     "iopub.status.busy": "2020-05-08T16:46:41.295Z",
     "iopub.status.idle": "2020-05-08T16:46:41.310Z",
     "shell.execute_reply": "2020-05-08T16:46:41.315Z"
    },
    "jupyter": {
     "outputs_hidden": false,
     "source_hidden": false
    },
    "nteract": {
     "transient": {
      "deleting": false
     }
    },
    "outputExpanded": false
   },
   "outputs": [],
   "source": [
    "addTenAnonim(2)"
   ]
  },
  {
   "cell_type": "code",
   "execution_count": null,
   "metadata": {
    "ExecuteTime": {
     "end_time": "2021-03-12T21:39:59.313792Z",
     "start_time": "2021-03-12T21:39:59.310260Z"
    }
   },
   "outputs": [],
   "source": [
    "addTen(2)"
   ]
  },
  {
   "cell_type": "code",
   "execution_count": null,
   "metadata": {},
   "outputs": [],
   "source": [
    "type(addTenAnonim)"
   ]
  },
  {
   "cell_type": "code",
   "execution_count": null,
   "metadata": {},
   "outputs": [],
   "source": [
    "type(addTen)"
   ]
  },
  {
   "cell_type": "code",
   "execution_count": null,
   "metadata": {
    "ExecuteTime": {
     "end_time": "2021-03-12T21:41:35.011653Z",
     "start_time": "2021-03-12T21:41:35.008972Z"
    },
    "collapsed": false,
    "execution": {
     "iopub.execute_input": "2020-05-08T16:47:39.366Z",
     "iopub.status.busy": "2020-05-08T16:47:39.361Z",
     "iopub.status.idle": "2020-05-08T16:47:39.373Z",
     "shell.execute_reply": "2020-05-08T16:47:39.378Z"
    },
    "jupyter": {
     "outputs_hidden": false,
     "source_hidden": false
    },
    "nteract": {
     "transient": {
      "deleting": false
     }
    },
    "outputExpanded": false
   },
   "outputs": [],
   "source": [
    "# outra funcao anonima\n",
    "\n",
    "calcula = lambda valor: valor + 2 if valor%2 == 0 else valor + 3"
   ]
  },
  {
   "cell_type": "code",
   "execution_count": null,
   "metadata": {
    "ExecuteTime": {
     "end_time": "2021-03-12T21:43:50.387780Z",
     "start_time": "2021-03-12T21:43:50.385155Z"
    }
   },
   "outputs": [],
   "source": [
    "a = 20"
   ]
  },
  {
   "cell_type": "code",
   "execution_count": null,
   "metadata": {
    "ExecuteTime": {
     "end_time": "2021-03-12T21:43:53.406847Z",
     "start_time": "2021-03-12T21:43:53.403093Z"
    },
    "collapsed": false,
    "execution": {
     "iopub.execute_input": "2020-05-08T16:47:44.296Z",
     "iopub.status.busy": "2020-05-08T16:47:44.291Z",
     "iopub.status.idle": "2020-05-08T16:47:44.307Z",
     "shell.execute_reply": "2020-05-08T16:47:44.311Z"
    },
    "jupyter": {
     "outputs_hidden": false,
     "source_hidden": false
    },
    "nteract": {
     "transient": {
      "deleting": false
     }
    },
    "outputExpanded": false
   },
   "outputs": [],
   "source": [
    "calcula(a)"
   ]
  },
  {
   "cell_type": "code",
   "execution_count": null,
   "metadata": {
    "ExecuteTime": {
     "end_time": "2021-03-12T21:43:58.654667Z",
     "start_time": "2021-03-12T21:43:58.650375Z"
    }
   },
   "outputs": [],
   "source": [
    "a"
   ]
  },
  {
   "cell_type": "code",
   "execution_count": null,
   "metadata": {
    "ExecuteTime": {
     "end_time": "2021-03-12T21:41:35.786807Z",
     "start_time": "2021-03-12T21:41:35.782768Z"
    },
    "collapsed": false,
    "execution": {
     "iopub.execute_input": "2020-05-08T16:47:53.619Z",
     "iopub.status.busy": "2020-05-08T16:47:53.612Z",
     "iopub.status.idle": "2020-05-08T16:47:53.630Z",
     "shell.execute_reply": "2020-05-08T16:47:53.637Z"
    },
    "jupyter": {
     "outputs_hidden": false,
     "source_hidden": false
    },
    "nteract": {
     "transient": {
      "deleting": false
     }
    },
    "outputExpanded": false
   },
   "outputs": [],
   "source": [
    "calcula(5)"
   ]
  },
  {
   "cell_type": "code",
   "execution_count": null,
   "metadata": {},
   "outputs": [],
   "source": [
    "import math\n",
    "\n",
    "[[math.sin(y)+math.cos(x) for y in range(3)] for x in range(3)]"
   ]
  },
  {
   "cell_type": "markdown",
   "metadata": {
    "nteract": {
     "transient": {
      "deleting": false
     }
    }
   },
   "source": []
  },
  {
   "cell_type": "code",
   "execution_count": null,
   "metadata": {
    "ExecuteTime": {
     "end_time": "2021-03-12T21:49:46.585655Z",
     "start_time": "2021-03-12T21:48:55.082527Z"
    },
    "collapsed": false,
    "execution": {
     "iopub.execute_input": "2020-05-08T16:56:32.648Z",
     "iopub.status.busy": "2020-05-08T16:56:32.638Z",
     "iopub.status.idle": "2020-05-08T16:56:32.662Z",
     "shell.execute_reply": "2020-05-08T16:56:32.674Z"
    },
    "jupyter": {
     "outputs_hidden": false,
     "source_hidden": false
    },
    "nteract": {
     "transient": {
      "deleting": false
     }
    },
    "outputExpanded": false
   },
   "outputs": [],
   "source": [
    "## Funções de mapeamento\n",
    "\n",
    "## zip() --> não é uma função de compactação. A analogia é ao zipper de nossas calças. Ela une duas listas. \n",
    "\n",
    "## resersed() --> inverte os elementos de uma lista\n",
    "\n",
    "#lista = [x for x in range(999999999)]\n",
    "\n",
    "lista = [x for x in range(9999)]\n"
   ]
  },
  {
   "cell_type": "code",
   "execution_count": null,
   "metadata": {
    "ExecuteTime": {
     "end_time": "2021-03-12T21:49:56.898372Z",
     "start_time": "2021-03-12T21:49:56.892222Z"
    }
   },
   "outputs": [],
   "source": [
    "lista_reversa = reversed(lista)"
   ]
  },
  {
   "cell_type": "code",
   "execution_count": null,
   "metadata": {
    "ExecuteTime": {
     "end_time": "2021-03-12T21:50:06.795548Z",
     "start_time": "2021-03-12T21:50:06.791129Z"
    },
    "scrolled": true
   },
   "outputs": [],
   "source": [
    "lista_reversa"
   ]
  },
  {
   "cell_type": "markdown",
   "metadata": {},
   "source": [
    "Lazy load..."
   ]
  },
  {
   "cell_type": "code",
   "execution_count": null,
   "metadata": {},
   "outputs": [],
   "source": [
    "list(lista_reversa)"
   ]
  },
  {
   "cell_type": "code",
   "execution_count": null,
   "metadata": {},
   "outputs": [],
   "source": [
    "type(lista_reversa)"
   ]
  },
  {
   "cell_type": "code",
   "execution_count": null,
   "metadata": {},
   "outputs": [],
   "source": [
    "zip(lista, lista_reversa)"
   ]
  },
  {
   "cell_type": "code",
   "execution_count": null,
   "metadata": {
    "ExecuteTime": {
     "start_time": "2021-03-12T21:52:00.156Z"
    },
    "collapsed": false,
    "execution": {
     "iopub.execute_input": "2020-05-08T16:56:38.266Z",
     "iopub.status.busy": "2020-05-08T16:56:38.259Z",
     "iopub.status.idle": "2020-05-08T16:56:38.280Z",
     "shell.execute_reply": "2020-05-08T16:56:38.288Z"
    },
    "jupyter": {
     "outputs_hidden": false,
     "source_hidden": false
    },
    "nteract": {
     "transient": {
      "deleting": false
     }
    },
    "outputExpanded": false
   },
   "outputs": [],
   "source": [
    "list(zip(lista, lista_reversa))"
   ]
  },
  {
   "cell_type": "code",
   "execution_count": null,
   "metadata": {
    "ExecuteTime": {
     "end_time": "2021-03-12T19:15:25.043446Z",
     "start_time": "2021-03-12T19:15:25.041465Z"
    },
    "collapsed": false,
    "execution": {
     "iopub.execute_input": "2020-05-08T17:13:28.935Z",
     "iopub.status.busy": "2020-05-08T17:13:28.925Z",
     "iopub.status.idle": "2020-05-08T17:13:28.950Z",
     "shell.execute_reply": "2020-05-08T17:13:28.965Z"
    },
    "jupyter": {
     "outputs_hidden": false,
     "source_hidden": false
    },
    "nteract": {
     "transient": {
      "deleting": false
     }
    },
    "outputExpanded": false
   },
   "outputs": [],
   "source": [
    "### funções de mapeamento retornam iteradores preguiçosos (lazy evaluation) - Promesse"
   ]
  },
  {
   "cell_type": "code",
   "execution_count": null,
   "metadata": {
    "ExecuteTime": {
     "end_time": "2021-03-12T19:15:28.800364Z",
     "start_time": "2021-03-12T19:15:28.798185Z"
    },
    "collapsed": false,
    "execution": {
     "iopub.execute_input": "2020-05-08T17:15:00.551Z",
     "iopub.status.busy": "2020-05-08T17:15:00.542Z",
     "iopub.status.idle": "2020-05-08T17:15:00.567Z",
     "shell.execute_reply": "2020-05-08T17:15:00.576Z"
    },
    "jupyter": {
     "outputs_hidden": false,
     "source_hidden": false
    },
    "nteract": {
     "transient": {
      "deleting": false
     }
    },
    "outputExpanded": false
   },
   "outputs": [],
   "source": [
    "lista_reversa = reversed(lista)\n"
   ]
  },
  {
   "cell_type": "code",
   "execution_count": null,
   "metadata": {
    "ExecuteTime": {
     "end_time": "2021-03-12T19:15:29.203572Z",
     "start_time": "2021-03-12T19:15:29.200265Z"
    },
    "collapsed": false,
    "execution": {
     "iopub.execute_input": "2020-05-08T17:15:00.895Z",
     "iopub.status.busy": "2020-05-08T17:15:00.886Z",
     "iopub.status.idle": "2020-05-08T17:15:00.919Z",
     "shell.execute_reply": "2020-05-08T17:15:00.941Z"
    },
    "jupyter": {
     "outputs_hidden": false,
     "source_hidden": false
    },
    "nteract": {
     "transient": {
      "deleting": false
     }
    },
    "outputExpanded": false
   },
   "outputs": [],
   "source": [
    "lista_reversa"
   ]
  },
  {
   "cell_type": "code",
   "execution_count": null,
   "metadata": {
    "ExecuteTime": {
     "end_time": "2021-03-12T19:15:32.969935Z",
     "start_time": "2021-03-12T19:15:32.968063Z"
    },
    "collapsed": false,
    "execution": {
     "iopub.execute_input": "2020-05-08T17:15:01.485Z",
     "iopub.status.busy": "2020-05-08T17:15:01.475Z",
     "iopub.status.idle": "2020-05-08T17:15:01.499Z",
     "shell.execute_reply": "2020-05-08T17:15:01.509Z"
    },
    "jupyter": {
     "outputs_hidden": false,
     "source_hidden": false
    },
    "nteract": {
     "transient": {
      "deleting": false
     }
    },
    "outputExpanded": false
   },
   "outputs": [],
   "source": [
    "### E Agora???? Para enxerga-lo é preciso iterar sobre ele, consumindo-o, e gerar um outro objeto   "
   ]
  },
  {
   "cell_type": "code",
   "execution_count": null,
   "metadata": {
    "ExecuteTime": {
     "end_time": "2021-03-12T19:15:33.223219Z",
     "start_time": "2021-03-12T19:15:33.220362Z"
    },
    "collapsed": false,
    "execution": {
     "iopub.execute_input": "2020-05-08T17:15:01.802Z",
     "iopub.status.busy": "2020-05-08T17:15:01.789Z",
     "iopub.status.idle": "2020-05-08T17:15:01.827Z",
     "shell.execute_reply": "2020-05-08T17:15:01.840Z"
    },
    "jupyter": {
     "outputs_hidden": false,
     "source_hidden": false
    },
    "nteract": {
     "transient": {
      "deleting": false
     }
    },
    "outputExpanded": false
   },
   "outputs": [],
   "source": [
    "list(lista_reversa)"
   ]
  },
  {
   "cell_type": "code",
   "execution_count": null,
   "metadata": {
    "ExecuteTime": {
     "end_time": "2021-03-12T19:15:35.765354Z",
     "start_time": "2021-03-12T19:15:35.761365Z"
    },
    "collapsed": false,
    "execution": {
     "iopub.execute_input": "2020-05-08T17:16:01.357Z",
     "iopub.status.busy": "2020-05-08T17:16:01.350Z",
     "iopub.status.idle": "2020-05-08T17:16:01.371Z",
     "shell.execute_reply": "2020-05-08T17:16:01.377Z"
    },
    "jupyter": {
     "outputs_hidden": false,
     "source_hidden": false
    },
    "nteract": {
     "transient": {
      "deleting": false
     }
    },
    "outputExpanded": false
   },
   "outputs": [],
   "source": [
    "### função enumerate()\n",
    "\n",
    "#### Parecida com a função zip(), mas gera uma sequência a ser zipada com a sequencia principal\n",
    "\n",
    "list(enumerate([11,22,33]))"
   ]
  },
  {
   "cell_type": "code",
   "execution_count": null,
   "metadata": {
    "ExecuteTime": {
     "end_time": "2021-03-12T21:58:47.795765Z",
     "start_time": "2021-03-12T21:58:47.792098Z"
    },
    "collapsed": false,
    "execution": {
     "iopub.execute_input": "2020-05-08T17:27:05.121Z",
     "iopub.status.busy": "2020-05-08T17:27:05.115Z",
     "iopub.status.idle": "2020-05-08T17:27:05.136Z",
     "shell.execute_reply": "2020-05-08T17:27:05.142Z"
    },
    "jupyter": {
     "outputs_hidden": false,
     "source_hidden": false
    },
    "nteract": {
     "transient": {
      "deleting": false
     }
    },
    "outputExpanded": false
   },
   "outputs": [],
   "source": [
    "lista = [10, 20, 30, 40, 50]\n",
    "for x, y in enumerate(lista):\n",
    "  print(x, y)"
   ]
  },
  {
   "cell_type": "code",
   "execution_count": null,
   "metadata": {
    "ExecuteTime": {
     "end_time": "2021-03-12T22:01:09.623285Z",
     "start_time": "2021-03-12T22:01:09.618800Z"
    },
    "collapsed": false,
    "execution": {
     "iopub.execute_input": "2020-05-08T17:29:03.012Z",
     "iopub.status.busy": "2020-05-08T17:29:03.005Z",
     "iopub.status.idle": "2020-05-08T17:29:03.025Z",
     "shell.execute_reply": "2020-05-08T17:29:03.032Z"
    },
    "jupyter": {
     "outputs_hidden": false,
     "source_hidden": false
    },
    "nteract": {
     "transient": {
      "deleting": false
     }
    },
    "outputExpanded": false
   },
   "outputs": [],
   "source": [
    "#### Funcão map()\n",
    "### Realiza um MAPeamento. \n",
    "### É uma função de ordem superior,\n",
    "### pois recebe uma outra função como argumento.\n",
    "\n",
    "def func(x):\n",
    "  return x ** 2\n",
    "\n",
    "list(map(lambda x : x**3, [1, 2, 3]))"
   ]
  },
  {
   "cell_type": "markdown",
   "metadata": {},
   "source": [
    "Listas do Python permitem tipos diferentes!"
   ]
  },
  {
   "cell_type": "code",
   "execution_count": null,
   "metadata": {},
   "outputs": [],
   "source": [
    "list(map(func, [10, 20, 30]))"
   ]
  },
  {
   "cell_type": "code",
   "execution_count": null,
   "metadata": {},
   "outputs": [],
   "source": [
    "list(map(func, [10, 20, \"x\", 30]))"
   ]
  },
  {
   "cell_type": "code",
   "execution_count": null,
   "metadata": {},
   "outputs": [],
   "source": [
    "\"Na \" * 10 + \" Batman!!!\""
   ]
  },
  {
   "cell_type": "code",
   "execution_count": null,
   "metadata": {},
   "outputs": [],
   "source": [
    "list(map(func, range(10)))"
   ]
  },
  {
   "cell_type": "code",
   "execution_count": null,
   "metadata": {},
   "outputs": [],
   "source": [
    "list(map(calcula, range(10)))"
   ]
  },
  {
   "cell_type": "code",
   "execution_count": null,
   "metadata": {},
   "outputs": [],
   "source": [
    "map(calcula, range(10))"
   ]
  },
  {
   "cell_type": "code",
   "execution_count": null,
   "metadata": {},
   "outputs": [],
   "source": [
    "list(map(lambda v: v-1 if v%2==0 else v**2, range(10)))"
   ]
  },
  {
   "cell_type": "code",
   "execution_count": null,
   "metadata": {
    "ExecuteTime": {
     "end_time": "2021-03-12T22:00:40.395465Z",
     "start_time": "2021-03-12T22:00:40.392856Z"
    },
    "collapsed": false,
    "execution": {
     "iopub.execute_input": "2020-05-08T17:33:35.264Z",
     "iopub.status.busy": "2020-05-08T17:33:35.254Z",
     "iopub.status.idle": "2020-05-08T17:33:35.277Z",
     "shell.execute_reply": "2020-05-08T17:33:35.285Z"
    },
    "jupyter": {
     "outputs_hidden": false,
     "source_hidden": false
    },
    "nteract": {
     "transient": {
      "deleting": false
     }
    },
    "outputExpanded": false
   },
   "outputs": [],
   "source": [
    "### Funcao any()\n",
    "\n",
    "### Itera sobre um  iteravel e \n",
    "### verifica se algum de seus valores <> FALSE, None, Vazio\n",
    "\n"
   ]
  },
  {
   "cell_type": "code",
   "execution_count": null,
   "metadata": {
    "ExecuteTime": {
     "end_time": "2021-03-12T22:01:52.532287Z",
     "start_time": "2021-03-12T22:01:52.528399Z"
    },
    "collapsed": false,
    "execution": {
     "iopub.execute_input": "2020-05-08T17:33:06.521Z",
     "iopub.status.busy": "2020-05-08T17:33:06.512Z",
     "iopub.status.idle": "2020-05-08T17:33:06.539Z",
     "shell.execute_reply": "2020-05-08T17:33:06.548Z"
    },
    "jupyter": {
     "outputs_hidden": false,
     "source_hidden": false
    },
    "nteract": {
     "transient": {
      "deleting": false
     }
    },
    "outputExpanded": false
   },
   "outputs": [],
   "source": [
    "any([1,2,3])"
   ]
  },
  {
   "cell_type": "code",
   "execution_count": null,
   "metadata": {},
   "outputs": [],
   "source": [
    "any(calcula)"
   ]
  },
  {
   "cell_type": "code",
   "execution_count": null,
   "metadata": {
    "ExecuteTime": {
     "end_time": "2021-03-12T22:03:19.336880Z",
     "start_time": "2021-03-12T22:03:19.333405Z"
    },
    "collapsed": false,
    "execution": {
     "iopub.execute_input": "2020-05-08T17:33:16.866Z",
     "iopub.status.busy": "2020-05-08T17:33:16.857Z",
     "iopub.status.idle": "2020-05-08T17:33:16.883Z",
     "shell.execute_reply": "2020-05-08T17:33:16.891Z"
    },
    "jupyter": {
     "outputs_hidden": false,
     "source_hidden": false
    },
    "nteract": {
     "transient": {
      "deleting": false
     }
    },
    "outputExpanded": false
   },
   "outputs": [],
   "source": [
    "any([0,'', None, 10])"
   ]
  },
  {
   "cell_type": "code",
   "execution_count": null,
   "metadata": {},
   "outputs": [],
   "source": [
    "any(list(map(calcula, range(10))))"
   ]
  },
  {
   "cell_type": "code",
   "execution_count": null,
   "metadata": {
    "ExecuteTime": {
     "end_time": "2021-03-12T19:15:43.708883Z",
     "start_time": "2021-03-12T19:15:43.707118Z"
    },
    "collapsed": false,
    "execution": {
     "iopub.execute_input": "2020-05-08T17:34:05.359Z",
     "iopub.status.busy": "2020-05-08T17:34:05.351Z",
     "iopub.status.idle": "2020-05-08T17:34:05.370Z",
     "shell.execute_reply": "2020-05-08T17:34:05.380Z"
    },
    "jupyter": {
     "outputs_hidden": false,
     "source_hidden": false
    },
    "nteract": {
     "transient": {
      "deleting": false
     }
    },
    "outputExpanded": false
   },
   "outputs": [],
   "source": [
    "### Função all(). \n",
    "\n",
    "### Mesmo principio da any(), mas agora valida para todos os elementos do iterável"
   ]
  },
  {
   "cell_type": "code",
   "execution_count": null,
   "metadata": {
    "ExecuteTime": {
     "end_time": "2021-03-12T22:04:13.012200Z",
     "start_time": "2021-03-12T22:04:13.007673Z"
    },
    "collapsed": false,
    "execution": {
     "iopub.execute_input": "2020-05-08T17:34:14.901Z",
     "iopub.status.busy": "2020-05-08T17:34:14.892Z",
     "iopub.status.idle": "2020-05-08T17:34:14.919Z",
     "shell.execute_reply": "2020-05-08T17:34:14.928Z"
    },
    "jupyter": {
     "outputs_hidden": false,
     "source_hidden": false
    },
    "nteract": {
     "transient": {
      "deleting": false
     }
    },
    "outputExpanded": false
   },
   "outputs": [],
   "source": [
    "all([1,2])"
   ]
  },
  {
   "cell_type": "code",
   "execution_count": null,
   "metadata": {},
   "outputs": [],
   "source": [
    "any(\"Vai Corinthians!!!\")"
   ]
  },
  {
   "cell_type": "code",
   "execution_count": null,
   "metadata": {},
   "outputs": [],
   "source": [
    "all(\"Vai Corinthians!!!\")"
   ]
  },
  {
   "cell_type": "code",
   "execution_count": null,
   "metadata": {
    "ExecuteTime": {
     "end_time": "2021-03-12T22:04:47.550962Z",
     "start_time": "2021-03-12T22:04:47.547263Z"
    },
    "collapsed": false,
    "execution": {
     "iopub.execute_input": "2020-05-08T17:59:06.325Z",
     "iopub.status.busy": "2020-05-08T17:59:06.312Z",
     "iopub.status.idle": "2020-05-08T17:59:06.346Z",
     "shell.execute_reply": "2020-05-08T17:59:06.355Z"
    },
    "jupyter": {
     "outputs_hidden": false,
     "source_hidden": false
    },
    "nteract": {
     "transient": {
      "deleting": false
     }
    },
    "outputExpanded": false
   },
   "outputs": [],
   "source": [
    "### sum\n",
    "sum([1,2,3])"
   ]
  },
  {
   "cell_type": "code",
   "execution_count": null,
   "metadata": {
    "ExecuteTime": {
     "end_time": "2021-03-12T22:04:56.657521Z",
     "start_time": "2021-03-12T22:04:56.653356Z"
    },
    "collapsed": false,
    "execution": {
     "iopub.execute_input": "2020-05-08T18:06:12.775Z",
     "iopub.status.busy": "2020-05-08T18:06:12.764Z",
     "iopub.status.idle": "2020-05-08T18:06:12.793Z",
     "shell.execute_reply": "2020-05-08T18:06:12.801Z"
    },
    "jupyter": {
     "outputs_hidden": false,
     "source_hidden": false
    },
    "nteract": {
     "transient": {
      "deleting": false
     }
    },
    "outputExpanded": false
   },
   "outputs": [],
   "source": [
    "max([3,4,5])"
   ]
  },
  {
   "cell_type": "code",
   "execution_count": null,
   "metadata": {},
   "outputs": [],
   "source": [
    "sum(\"Vai Corinthians!\")"
   ]
  },
  {
   "cell_type": "code",
   "execution_count": null,
   "metadata": {},
   "outputs": [],
   "source": [
    "max(\"Vai Corinthians!\")"
   ]
  },
  {
   "cell_type": "code",
   "execution_count": null,
   "metadata": {},
   "outputs": [],
   "source": [
    "max(\"Xax\")"
   ]
  },
  {
   "cell_type": "code",
   "execution_count": null,
   "metadata": {},
   "outputs": [],
   "source": [
    "max(\"abcd\")"
   ]
  },
  {
   "cell_type": "code",
   "execution_count": null,
   "metadata": {},
   "outputs": [],
   "source": [
    "eval(3)"
   ]
  },
  {
   "cell_type": "code",
   "execution_count": null,
   "metadata": {},
   "outputs": [],
   "source": [
    "def checkVal(v):\n",
    "    if(type(v)==str):\n",
    "        return 0\n",
    "    else:\n",
    "        return v\n",
    "    "
   ]
  },
  {
   "cell_type": "code",
   "execution_count": null,
   "metadata": {},
   "outputs": [],
   "source": [
    "lst1 = [10,20,30,\"Coisa\",40,[1,2]]"
   ]
  },
  {
   "cell_type": "code",
   "execution_count": null,
   "metadata": {},
   "outputs": [],
   "source": [
    "list(map(checkVal,lst1))"
   ]
  },
  {
   "cell_type": "code",
   "execution_count": null,
   "metadata": {
    "scrolled": true
   },
   "outputs": [],
   "source": [
    "\"33\".isdigit()"
   ]
  },
  {
   "cell_type": "markdown",
   "metadata": {
    "nteract": {
     "transient": {
      "deleting": false
     }
    }
   },
   "source": [
    "### Usando Map, Reduce e Filter"
   ]
  },
  {
   "cell_type": "code",
   "execution_count": null,
   "metadata": {
    "ExecuteTime": {
     "end_time": "2021-03-12T22:05:28.818709Z",
     "start_time": "2021-03-12T22:05:28.816196Z"
    },
    "collapsed": false,
    "execution": {
     "iopub.execute_input": "2020-05-08T18:15:35.040Z",
     "iopub.status.busy": "2020-05-08T18:15:35.030Z",
     "iopub.status.idle": "2020-05-08T18:15:35.054Z",
     "shell.execute_reply": "2020-05-08T18:15:35.063Z"
    },
    "jupyter": {
     "outputs_hidden": false,
     "source_hidden": false
    },
    "nteract": {
     "transient": {
      "deleting": false
     }
    },
    "outputExpanded": false
   },
   "outputs": [],
   "source": [
    "f = lambda x : x**2 "
   ]
  },
  {
   "cell_type": "code",
   "execution_count": null,
   "metadata": {},
   "outputs": [],
   "source": [
    "type(f)"
   ]
  },
  {
   "cell_type": "code",
   "execution_count": null,
   "metadata": {
    "ExecuteTime": {
     "end_time": "2021-03-12T22:07:03.651533Z",
     "start_time": "2021-03-12T22:07:03.648582Z"
    },
    "collapsed": false,
    "execution": {
     "iopub.execute_input": "2020-05-08T18:15:55.556Z",
     "iopub.status.busy": "2020-05-08T18:15:55.545Z",
     "iopub.status.idle": "2020-05-08T18:15:55.573Z",
     "shell.execute_reply": "2020-05-08T18:15:55.582Z"
    },
    "jupyter": {
     "outputs_hidden": false,
     "source_hidden": false
    },
    "nteract": {
     "transient": {
      "deleting": false
     }
    },
    "outputExpanded": false
   },
   "outputs": [],
   "source": [
    "m = map(f, [1,2,3,4])"
   ]
  },
  {
   "cell_type": "code",
   "execution_count": null,
   "metadata": {},
   "outputs": [],
   "source": [
    "type(m)"
   ]
  },
  {
   "cell_type": "code",
   "execution_count": null,
   "metadata": {},
   "outputs": [],
   "source": [
    "m"
   ]
  },
  {
   "cell_type": "code",
   "execution_count": null,
   "metadata": {
    "ExecuteTime": {
     "end_time": "2021-03-12T22:07:04.155837Z",
     "start_time": "2021-03-12T22:07:04.152698Z"
    }
   },
   "outputs": [],
   "source": [
    "for x, y in enumerate(m):\n",
    "    print(x,y)"
   ]
  },
  {
   "cell_type": "code",
   "execution_count": null,
   "metadata": {
    "ExecuteTime": {
     "end_time": "2021-03-12T22:05:44.735806Z",
     "start_time": "2021-03-12T22:05:44.732076Z"
    },
    "collapsed": false,
    "execution": {
     "iopub.execute_input": "2020-05-08T18:16:16.944Z",
     "iopub.status.busy": "2020-05-08T18:16:16.933Z",
     "iopub.status.idle": "2020-05-08T18:16:16.965Z",
     "shell.execute_reply": "2020-05-08T18:16:16.976Z"
    },
    "jupyter": {
     "outputs_hidden": false,
     "source_hidden": false
    },
    "nteract": {
     "transient": {
      "deleting": false
     }
    },
    "outputExpanded": false
   },
   "outputs": [],
   "source": [
    "list(map(f, [1,2,3,4]))"
   ]
  },
  {
   "cell_type": "code",
   "execution_count": null,
   "metadata": {
    "ExecuteTime": {
     "end_time": "2021-03-12T19:16:09.026757Z",
     "start_time": "2021-03-12T19:16:09.024508Z"
    },
    "collapsed": false,
    "execution": {
     "iopub.execute_input": "2020-05-08T18:18:45.661Z",
     "iopub.status.busy": "2020-05-08T18:18:45.651Z",
     "iopub.status.idle": "2020-05-08T18:18:45.680Z",
     "shell.execute_reply": "2020-05-08T18:18:45.693Z"
    },
    "jupyter": {
     "outputs_hidden": false,
     "source_hidden": false
    },
    "nteract": {
     "transient": {
      "deleting": false
     }
    },
    "outputExpanded": false
   },
   "outputs": [],
   "source": [
    "### Reduce envolve obter uma função e um iterável, e gera um único resultado. "
   ]
  },
  {
   "cell_type": "code",
   "execution_count": null,
   "metadata": {
    "ExecuteTime": {
     "end_time": "2021-03-12T22:07:44.739374Z",
     "start_time": "2021-03-12T22:07:44.736646Z"
    },
    "collapsed": false,
    "execution": {
     "iopub.execute_input": "2020-05-08T18:18:46.550Z",
     "iopub.status.busy": "2020-05-08T18:18:46.540Z",
     "iopub.status.idle": "2020-05-08T18:18:46.566Z",
     "shell.execute_reply": "2020-05-08T18:18:46.578Z"
    },
    "jupyter": {
     "outputs_hidden": false,
     "source_hidden": false
    },
    "nteract": {
     "transient": {
      "deleting": false
     }
    },
    "outputExpanded": false
   },
   "outputs": [],
   "source": [
    "from functools import reduce"
   ]
  },
  {
   "cell_type": "markdown",
   "metadata": {},
   "source": [
    "((((1+2)+3)+3)+5)  -  acumulando resultados"
   ]
  },
  {
   "cell_type": "code",
   "execution_count": null,
   "metadata": {},
   "outputs": [],
   "source": [
    "reduce(lambda x, y : x+y, [1,2,4,5])"
   ]
  },
  {
   "cell_type": "code",
   "execution_count": null,
   "metadata": {},
   "outputs": [],
   "source": [
    "reduce(lambda x, y : x**y, [1,2,3,4,5])"
   ]
  },
  {
   "cell_type": "code",
   "execution_count": null,
   "metadata": {},
   "outputs": [],
   "source": [
    "reduce(lambda x, y : y**x, [1,2,3,4,5])"
   ]
  },
  {
   "cell_type": "code",
   "execution_count": null,
   "metadata": {
    "ExecuteTime": {
     "end_time": "2021-03-12T22:11:47.752767Z",
     "start_time": "2021-03-12T22:11:47.748549Z"
    },
    "collapsed": false,
    "execution": {
     "iopub.execute_input": "2020-05-08T18:19:23.756Z",
     "iopub.status.busy": "2020-05-08T18:19:23.745Z",
     "iopub.status.idle": "2020-05-08T18:19:23.783Z",
     "shell.execute_reply": "2020-05-08T18:19:23.797Z"
    },
    "jupyter": {
     "outputs_hidden": false,
     "source_hidden": false
    },
    "nteract": {
     "transient": {
      "deleting": false
     }
    },
    "outputExpanded": false
   },
   "outputs": [],
   "source": [
    "reduce(lambda x, y : x*y, [1,2,3,4,5])"
   ]
  },
  {
   "cell_type": "code",
   "execution_count": null,
   "metadata": {
    "ExecuteTime": {
     "end_time": "2021-03-12T22:12:17.627146Z",
     "start_time": "2021-03-12T22:12:17.624682Z"
    },
    "collapsed": false,
    "execution": {
     "iopub.execute_input": "2020-05-08T18:22:17.088Z",
     "iopub.status.busy": "2020-05-08T18:22:17.078Z",
     "iopub.status.idle": "2020-05-08T18:22:17.104Z",
     "shell.execute_reply": "2020-05-08T18:22:17.113Z"
    },
    "jupyter": {
     "outputs_hidden": false,
     "source_hidden": false
    },
    "nteract": {
     "transient": {
      "deleting": false
     }
    },
    "outputExpanded": false
   },
   "outputs": [],
   "source": [
    "### ajudando a compreender\n",
    "L = ['O ', 'cravo ', 'brigou ', 'com ', 'a ', 'rosa','.']"
   ]
  },
  {
   "cell_type": "code",
   "execution_count": null,
   "metadata": {},
   "outputs": [],
   "source": [
    "\"Vai \" + \"Corinthians!!\""
   ]
  },
  {
   "cell_type": "code",
   "execution_count": null,
   "metadata": {
    "ExecuteTime": {
     "end_time": "2021-03-12T22:12:18.024024Z",
     "start_time": "2021-03-12T22:12:18.020787Z"
    },
    "collapsed": false,
    "execution": {
     "iopub.execute_input": "2020-05-08T18:22:23.643Z",
     "iopub.status.busy": "2020-05-08T18:22:23.628Z",
     "iopub.status.idle": "2020-05-08T18:22:23.663Z",
     "shell.execute_reply": "2020-05-08T18:22:23.689Z"
    },
    "jupyter": {
     "outputs_hidden": false,
     "source_hidden": false
    },
    "nteract": {
     "transient": {
      "deleting": false
     }
    },
    "outputExpanded": false
   },
   "outputs": [],
   "source": [
    "frasear = lambda x,y : x + y"
   ]
  },
  {
   "cell_type": "code",
   "execution_count": null,
   "metadata": {
    "ExecuteTime": {
     "end_time": "2021-03-12T22:12:18.978858Z",
     "start_time": "2021-03-12T22:12:18.974828Z"
    },
    "collapsed": false,
    "execution": {
     "iopub.execute_input": "2020-05-08T18:23:03.248Z",
     "iopub.status.busy": "2020-05-08T18:23:03.239Z",
     "iopub.status.idle": "2020-05-08T18:23:03.268Z",
     "shell.execute_reply": "2020-05-08T18:23:03.279Z"
    },
    "jupyter": {
     "outputs_hidden": false,
     "source_hidden": false
    },
    "nteract": {
     "transient": {
      "deleting": false
     }
    },
    "outputExpanded": false
   },
   "outputs": [],
   "source": [
    "reduce(frasear, L)"
   ]
  },
  {
   "cell_type": "code",
   "execution_count": null,
   "metadata": {
    "ExecuteTime": {
     "end_time": "2021-03-12T20:34:02.312058Z",
     "start_time": "2021-03-12T20:34:02.283934Z"
    }
   },
   "outputs": [],
   "source": [
    "# Filter"
   ]
  },
  {
   "cell_type": "markdown",
   "metadata": {},
   "source": [
    "Como o nome sugere, `filter` cria uma lista de elementos para os quais uma função retorna verdadeiro. Portanto, ela espera uma condição como escopo da função a ser aplicada:\n",
    "\n",
    "    filter(function, iterable)"
   ]
  },
  {
   "cell_type": "code",
   "execution_count": null,
   "metadata": {
    "ExecuteTime": {
     "end_time": "2021-03-12T22:15:21.634587Z",
     "start_time": "2021-03-12T22:15:21.630344Z"
    }
   },
   "outputs": [],
   "source": [
    "entradas = [8, -9 , 0, -3 , 8, -14, -25, -1.4, 9]\n",
    "saidas = filter(lambda x: x <8, entradas)\n",
    "list(saidas)"
   ]
  },
  {
   "cell_type": "code",
   "execution_count": null,
   "metadata": {},
   "outputs": [],
   "source": [
    "entradas = [8, -9 , 0, -3 , 8, -14, -25, -1.4, 9]\n",
    "saidas = filter(lambda x: x >8, entradas)\n",
    "list(saidas)"
   ]
  },
  {
   "cell_type": "markdown",
   "metadata": {},
   "source": [
    "Programação funcional:\n",
    "\n",
    "- List comprehension\n",
    "- filter\n",
    "- map\n",
    "- reduce\n",
    "- any\n",
    "- all\n",
    "- apply"
   ]
  },
  {
   "attachments": {
    "6999b375-6497-4068-9cef-d503772a672f.png": {
     "image/png": "[encoded data removed]"
    }
   },
   "cell_type": "markdown",
   "metadata": {},
   "source": [
    "Map & Reduce:\n",
    "\n",
    "<img src=\"https://coderscat.com/images/2020_09_10_understanding-map-reduce.org_20200918_165624.png\" width=\"500px\">\n",
    "\n",
    "Funções são encadeadas (nested), para fácil leitura e fácil distribuição para computação paralela.\n",
    "\n",
    "![image.png](attachment:6999b375-6497-4068-9cef-d503772a672f.png)\n",
    "\n",
    "### Para saber mais\n",
    "\n",
    "- https://docs.python-guide.org/writing/style/\n",
    "- https://codesachin.wordpress.com/2016/04/03/a-practical-introduction-to-functional-programming-for-python-coders/\n",
    "\n",
    "### Referências:\n",
    "\n",
    "- https://www.w3schools.com/python/ref_keyword_assert.asp\n",
    "- https://docs.python.org/3/howto/functional.html?highlight=functional%20programming\n",
    "- https://www.geeksforgeeks.org/functional-programming-in-python/\n",
    "- https://developer.ibm.com/articles/l-prog/\n",
    "- https://books.goalkicker.com/PythonBook/\n",
    "- https://docs.python.org/3/library/functools.html?highlight=reduce#functools.reduce\n",
    "- https://coderscat.com/understanding-mapreduce/"
   ]
  },
  {
   "cell_type": "code",
   "execution_count": null,
   "metadata": {},
   "outputs": [],
   "source": []
  }
 ],
 "metadata": {
  "kernel_info": {
   "name": "python3"
  },
  "kernelspec": {
   "display_name": "Python 3 (ipykernel)",
   "language": "python",
   "name": "python3"
  },
  "language_info": {
   "codemirror_mode": {
    "name": "ipython",
    "version": 3
   },
   "file_extension": ".py",
   "mimetype": "text/x-python",
   "name": "python",
   "nbconvert_exporter": "python",
   "pygments_lexer": "ipython3",
   "version": "3.11.5"
  },
  "nteract": {
   "version": "0.28.0"
  },
  "toc": {
   "base_numbering": 1,
   "nav_menu": {},
   "number_sections": true,
   "sideBar": true,
   "skip_h1_title": false,
   "title_cell": "Table of Contents",
   "title_sidebar": "Contents",
   "toc_cell": false,
   "toc_position": {},
   "toc_section_display": true,
   "toc_window_display": false
  }
 },
 "nbformat": 4,
 "nbformat_minor": 4
}
