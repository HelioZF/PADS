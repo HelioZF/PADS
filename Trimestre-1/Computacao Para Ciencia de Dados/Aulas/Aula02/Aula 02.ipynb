{
 "cells": [
  {
   "cell_type": "markdown",
   "metadata": {
    "slideshow": {
     "slide_type": "skip"
    }
   },
   "source": [
    "![Insper](https://github.com/danielscarvalho/Insper-DS-Dicas/blob/master/Insper-Logo.png?raw=true)\n",
    "\n",
    "# Insper Pós-Graduação\n",
    "## Programa Avançado em Data Science e Decisão [»](https://www.insper.edu.br/pt/cursos/pos-graduacao/programas-avancados/programas-avancados-data-science-e-decisao)"
   ]
  },
  {
   "cell_type": "markdown",
   "metadata": {
    "slideshow": {
     "slide_type": "slide"
    }
   },
   "source": [
    "# Aula 02 - Principais bibliotecas Python\n"
   ]
  },
  {
   "cell_type": "markdown",
   "metadata": {
    "slideshow": {
     "slide_type": "slide"
    }
   },
   "source": [
    "Na aula anterior (revisão geral):\n",
    "\n",
    "- O que é Python\n",
    "- O conceito de environment\n",
    "- Anaconda\n",
    "- Instalação\n",
    "- Variáveis - tipos, declaração, funções type e str\n",
    "- Estruturas de armazenamento: lista, tupla, dicionário \n",
    "- Operadores lógicos\n",
    "- Controle de fluxo (if, elif, else)\n",
    "- Laços (for)\n",
    "- List comprehension\n",
    "- print -- formatted print \n",
    "\n",
    "Vamos retomar e utilizar estes conceitos de Python em praticamente todas as aulas...\n"
   ]
  },
  {
   "cell_type": "markdown",
   "metadata": {
    "slideshow": {
     "slide_type": "slide"
    }
   },
   "source": [
    "- Pesquisa - Lista 1 (Mentimeter)\n",
    "- Dinâmica dos labs"
   ]
  },
  {
   "cell_type": "markdown",
   "metadata": {
    "slideshow": {
     "slide_type": "slide"
    }
   },
   "source": [
    "<!--\n",
    "- Resolução do exercício da aula anterior\n",
    "- Quiz\n",
    "-->"
   ]
  },
  {
   "cell_type": "markdown",
   "metadata": {},
   "source": [
    "## Bibliotecas do Python (Padrão)\n",
    "\n",
    "Além da sintaxe simples e elegante do Python, o conjunto de bibliotecas padrão que fazem parte do Python são componentes importantes que tornam o Python uma ambiente rico em recursos computacionais e algoritmos prontos.\n",
    "\n",
    "A biblioteca padrão do Python é muito extensa, oferecendo uma ampla gama de recursos, conforme indicado pelo longo índice na documentação. A biblioteca contém módulos embutidos (escritos em C) que fornecem acesso à funcionalidade do sistema, como E/S de arquivos que de outra forma seriam inacessíveis para programadores Python, bem como módulos escritos em Python que fornecem soluções padronizadas para muitos problemas que ocorrem em programação cotidiana. Alguns desses módulos são explicitamente projetados para incentivar e aprimorar a portabilidade de programas em Python, abstraindo os detalhes da plataforma em APIs neutras em plataforma...\n",
    "\n",
    "[The Python Standard Library](https://docs.python.org/pt-br/3/library/)"
   ]
  },
  {
   "cell_type": "markdown",
   "metadata": {
    "slideshow": {
     "slide_type": "slide"
    }
   },
   "source": [
    "## O ecossistema analítico do Python\n",
    "\n"
   ]
  },
  {
   "cell_type": "markdown",
   "metadata": {
    "slideshow": {
     "slide_type": "slide"
    }
   },
   "source": [
    "![https://i.pinimg.com/736x/e2/a6/5f/e2a65f0252059ddfea93ad3ce0c63a16.jpg](https://blueskyproject.io/_assets/scipy-ecosystem.png)"
   ]
  },
  {
   "cell_type": "markdown",
   "metadata": {
    "slideshow": {
     "slide_type": "slide"
    }
   },
   "source": [
    "## Biblioteca Numpy\n",
    "\n",
    "- Abreviatura de *Numerical Python*\n",
    "- Pedra angular do processamento numérico em Python\n",
    "- Oferece estruturas de dados, algoritmos e rotinas necessários à maioria das aplicações científicas que envolvam dados númericos em Python\n",
    "- Os *arrays* em Numpy são mais eficientes para armazenar e manipular dados do que as outras estruturas de dados nativas (built-in) do Python (e.g., Listas)\n",
    "- Muitas bibliotecas e ferramentas de processamento numérico para Python supõem os arrays Numpy como uma estrutura de dados principal\n",
    "\n",
    "- Comando tradicional para uso:\n",
    "`import numpy as np`\n",
    "\n",
    "> What is NumPy?<br>\n",
    "> NumPy is the fundamental package for scientific computing in Python. It is a Python library that provides a multidimensional array object, various derived objects (such as masked arrays and matrices), and an assortment of routines for fast operations on arrays, including mathematical, logical, shape manipulation, sorting, selecting, I/O, discrete Fourier transforms, basic linear algebra, basic statistical operations, random simulation and much more.\n",
    "\n",
    "Listas são vetores<br>\n",
    "Listas de listas são matrizes"
   ]
  },
  {
   "cell_type": "markdown",
   "metadata": {
    "slideshow": {
     "slide_type": "slide"
    }
   },
   "source": [
    "### O array multidimensional (ndarray)\n",
    "\n",
    "- Um dos principais recursos do NumPy é seu objeto array N-dimensional (ndarray)\n",
    "- Trata-se de um contêiner rápido para conjuntos de dados grandes, permitindo a realização de operações matemáticas em blocos inteiros de dados\n",
    "- É um contêiner genérico multidimensional para dados *homogêneos*, isto é, todos os elementos devem ser do mesmo tipo.\n",
    "\n",
    "- Exemplo:"
   ]
  },
  {
   "cell_type": "code",
   "execution_count": 1,
   "metadata": {},
   "outputs": [],
   "source": [
    "import numpy as np  #Shift + Enter"
   ]
  },
  {
   "cell_type": "code",
   "execution_count": 4,
   "metadata": {
    "ExecuteTime": {
     "end_time": "2021-02-05T23:18:34.407082Z",
     "start_time": "2021-02-05T23:18:31.509212Z"
    },
    "scrolled": true,
    "slideshow": {
     "slide_type": "fragment"
    }
   },
   "outputs": [
    {
     "name": "stdout",
     "output_type": "stream",
     "text": [
      "[[ 0.63987706  1.86928869 -0.02375219]\n",
      " [-0.90912388  1.05067034 -0.88628546]]\n"
     ]
    }
   ],
   "source": [
    "data = np.random.randn(2, 3)\n",
    "\n",
    "print(data)"
   ]
  },
  {
   "cell_type": "markdown",
   "metadata": {
    "slideshow": {
     "slide_type": "slide"
    }
   },
   "source": [
    "- É possível escrever operações matemáticas aplicadas ao array:"
   ]
  },
  {
   "cell_type": "code",
   "execution_count": 5,
   "metadata": {
    "ExecuteTime": {
     "end_time": "2021-02-05T23:18:34.412998Z",
     "start_time": "2021-02-05T23:18:34.409192Z"
    },
    "slideshow": {
     "slide_type": "fragment"
    }
   },
   "outputs": [
    {
     "name": "stdout",
     "output_type": "stream",
     "text": [
      "[[ 0.63987706  1.86928869 -0.02375219]\n",
      " [-0.90912388  1.05067034 -0.88628546]]\n"
     ]
    }
   ],
   "source": [
    "print(data)"
   ]
  },
  {
   "cell_type": "code",
   "execution_count": 6,
   "metadata": {
    "ExecuteTime": {
     "end_time": "2021-02-05T23:18:34.426251Z",
     "start_time": "2021-02-05T23:18:34.415401Z"
    },
    "slideshow": {
     "slide_type": "fragment"
    }
   },
   "outputs": [
    {
     "data": {
      "text/plain": [
       "array([[ 6.39877064, 18.69288688, -0.23752188],\n",
       "       [-9.09123882, 10.50670337, -8.86285465]])"
      ]
     },
     "execution_count": 6,
     "metadata": {},
     "output_type": "execute_result"
    }
   ],
   "source": [
    "data * 10"
   ]
  },
  {
   "cell_type": "code",
   "execution_count": 7,
   "metadata": {},
   "outputs": [
    {
     "data": {
      "text/plain": [
       "array([[ 63.98770645, 186.92886876,  -2.37521883],\n",
       "       [-90.91238817, 105.06703373, -88.62854648]])"
      ]
     },
     "execution_count": 7,
     "metadata": {},
     "output_type": "execute_result"
    }
   ],
   "source": [
    "data * 100"
   ]
  },
  {
   "cell_type": "code",
   "execution_count": 8,
   "metadata": {},
   "outputs": [
    {
     "data": {
      "text/plain": [
       "array([[-1.27975413, -3.73857738,  0.04750438],\n",
       "       [ 1.81824776, -2.10134067,  1.77257093]])"
      ]
     },
     "execution_count": 8,
     "metadata": {},
     "output_type": "execute_result"
    }
   ],
   "source": [
    "data * -2"
   ]
  },
  {
   "cell_type": "code",
   "execution_count": 9,
   "metadata": {},
   "outputs": [
    {
     "data": {
      "text/plain": [
       "array([[ 1.27975413,  3.73857738, -0.04750438],\n",
       "       [-1.81824776,  2.10134067, -1.77257093]])"
      ]
     },
     "execution_count": 9,
     "metadata": {},
     "output_type": "execute_result"
    }
   ],
   "source": [
    "data + data"
   ]
  },
  {
   "cell_type": "code",
   "execution_count": 10,
   "metadata": {
    "ExecuteTime": {
     "end_time": "2021-02-05T23:18:34.433451Z",
     "start_time": "2021-02-05T23:18:34.429514Z"
    },
    "slideshow": {
     "slide_type": "fragment"
    }
   },
   "outputs": [
    {
     "data": {
      "text/plain": [
       "array([[ 1.91963119,  5.60786606, -0.07125656],\n",
       "       [-2.72737165,  3.15201101, -2.65885639]])"
      ]
     },
     "execution_count": 10,
     "metadata": {},
     "output_type": "execute_result"
    }
   ],
   "source": [
    "data + (data*2)"
   ]
  },
  {
   "cell_type": "code",
   "execution_count": 11,
   "metadata": {},
   "outputs": [],
   "source": [
    "l1 = [10,20,30] #Comportamento do Python"
   ]
  },
  {
   "cell_type": "code",
   "execution_count": 12,
   "metadata": {
    "scrolled": true
   },
   "outputs": [
    {
     "data": {
      "text/plain": [
       "[10, 20, 30, 10, 20, 30, 10, 20, 30, 10, 20, 30, 10, 20, 30]"
      ]
     },
     "execution_count": 12,
     "metadata": {},
     "output_type": "execute_result"
    }
   ],
   "source": [
    "l1 * 5"
   ]
  },
  {
   "cell_type": "code",
   "execution_count": 13,
   "metadata": {},
   "outputs": [
    {
     "data": {
      "text/plain": [
       "array([ 50, 100, 150])"
      ]
     },
     "execution_count": 13,
     "metadata": {},
     "output_type": "execute_result"
    }
   ],
   "source": [
    "np.array(l1) * 5 #Comportamento matemático"
   ]
  },
  {
   "cell_type": "code",
   "execution_count": 14,
   "metadata": {},
   "outputs": [],
   "source": [
    "l2 = [.1, 10, \"Vai Corinthians!\",[.2, .5]]"
   ]
  },
  {
   "cell_type": "code",
   "execution_count": 15,
   "metadata": {},
   "outputs": [
    {
     "data": {
      "text/plain": [
       "[0.1, 10, 'Vai Corinthians!', [0.2, 0.5]]"
      ]
     },
     "execution_count": 15,
     "metadata": {},
     "output_type": "execute_result"
    }
   ],
   "source": [
    "l2"
   ]
  },
  {
   "cell_type": "code",
   "execution_count": 16,
   "metadata": {},
   "outputs": [
    {
     "data": {
      "text/plain": [
       "[0.1,\n",
       " 10,\n",
       " 'Vai Corinthians!',\n",
       " [0.2, 0.5],\n",
       " 0.1,\n",
       " 10,\n",
       " 'Vai Corinthians!',\n",
       " [0.2, 0.5]]"
      ]
     },
     "execution_count": 16,
     "metadata": {},
     "output_type": "execute_result"
    }
   ],
   "source": [
    "l2 * 2"
   ]
  },
  {
   "cell_type": "code",
   "execution_count": 17,
   "metadata": {},
   "outputs": [
    {
     "ename": "ValueError",
     "evalue": "setting an array element with a sequence. The requested array has an inhomogeneous shape after 1 dimensions. The detected shape was (4,) + inhomogeneous part.",
     "output_type": "error",
     "traceback": [
      "\u001b[0;31m---------------------------------------------------------------------------\u001b[0m",
      "\u001b[0;31mValueError\u001b[0m                                Traceback (most recent call last)",
      "Cell \u001b[0;32mIn[17], line 1\u001b[0m\n\u001b[0;32m----> 1\u001b[0m np\u001b[38;5;241m.\u001b[39marray(l2)\n",
      "\u001b[0;31mValueError\u001b[0m: setting an array element with a sequence. The requested array has an inhomogeneous shape after 1 dimensions. The detected shape was (4,) + inhomogeneous part."
     ]
    }
   ],
   "source": [
    "np.array(l2)"
   ]
  },
  {
   "cell_type": "markdown",
   "metadata": {},
   "source": [
    "NumPy them o comportamento da matemática de algebra linear\n",
    "\n",
    "> Albebra linear é a base das redes neurais artificiais, machine learning e deep learning"
   ]
  },
  {
   "cell_type": "code",
   "execution_count": 18,
   "metadata": {
    "scrolled": true
   },
   "outputs": [
    {
     "data": {
      "text/plain": [
       "array([[ 1,  2,  3],\n",
       "       [10, 20, 30],\n",
       "       [11, 22, 33]])"
      ]
     },
     "execution_count": 18,
     "metadata": {},
     "output_type": "execute_result"
    }
   ],
   "source": [
    "matrix = np.array(\n",
    "[[1, 2, 3],\n",
    " [10, 20, 30],\n",
    " [11, 22, 33]])\n",
    "\n",
    "matrix"
   ]
  },
  {
   "cell_type": "code",
   "execution_count": 19,
   "metadata": {
    "scrolled": true
   },
   "outputs": [
    {
     "data": {
      "text/plain": [
       "array([[ 2,  4,  6],\n",
       "       [20, 40, 60],\n",
       "       [22, 44, 66]])"
      ]
     },
     "execution_count": 19,
     "metadata": {},
     "output_type": "execute_result"
    }
   ],
   "source": [
    "matrix * 2"
   ]
  },
  {
   "cell_type": "code",
   "execution_count": 20,
   "metadata": {},
   "outputs": [
    {
     "data": {
      "text/plain": [
       "array([[  2,   4,   6],\n",
       "       [ 30,  60,  90],\n",
       "       [ 44,  88, 132]])"
      ]
     },
     "execution_count": 20,
     "metadata": {},
     "output_type": "execute_result"
    }
   ],
   "source": [
    "matrix * np.array([[2],\n",
    "                   [3],\n",
    "                   [4]])"
   ]
  },
  {
   "cell_type": "markdown",
   "metadata": {
    "slideshow": {
     "slide_type": "slide"
    }
   },
   "source": [
    "### Criando ndarrays\n",
    "\n",
    "- A maneira mais fácil de criar um array é usar a função `array`\n",
    "- Ela aceita qualquer objeto do tipo sequência (uma lista, por exemplo) e gera um novo array Numpy"
   ]
  },
  {
   "cell_type": "code",
   "execution_count": 21,
   "metadata": {
    "ExecuteTime": {
     "end_time": "2021-02-05T23:18:34.438854Z",
     "start_time": "2021-02-05T23:18:34.435145Z"
    },
    "slideshow": {
     "slide_type": "fragment"
    }
   },
   "outputs": [],
   "source": [
    "lista = [6, 6.75, 8, 0, 1]"
   ]
  },
  {
   "cell_type": "code",
   "execution_count": 22,
   "metadata": {},
   "outputs": [
    {
     "data": {
      "text/plain": [
       "list"
      ]
     },
     "execution_count": 22,
     "metadata": {},
     "output_type": "execute_result"
    }
   ],
   "source": [
    "type(lista)"
   ]
  },
  {
   "cell_type": "code",
   "execution_count": 23,
   "metadata": {
    "ExecuteTime": {
     "end_time": "2021-02-05T23:18:34.444544Z",
     "start_time": "2021-02-05T23:18:34.441031Z"
    },
    "slideshow": {
     "slide_type": "fragment"
    }
   },
   "outputs": [],
   "source": [
    "arr1 = np.array(lista)"
   ]
  },
  {
   "cell_type": "code",
   "execution_count": 24,
   "metadata": {
    "ExecuteTime": {
     "end_time": "2021-02-05T23:18:34.525118Z",
     "start_time": "2021-02-05T23:18:34.519148Z"
    },
    "slideshow": {
     "slide_type": "fragment"
    }
   },
   "outputs": [
    {
     "data": {
      "text/plain": [
       "array([6.  , 6.75, 8.  , 0.  , 1.  ])"
      ]
     },
     "execution_count": 24,
     "metadata": {},
     "output_type": "execute_result"
    }
   ],
   "source": [
    "arr1"
   ]
  },
  {
   "cell_type": "code",
   "execution_count": 25,
   "metadata": {
    "ExecuteTime": {
     "end_time": "2021-02-05T23:18:34.805834Z",
     "start_time": "2021-02-05T23:18:34.800145Z"
    },
    "slideshow": {
     "slide_type": "fragment"
    }
   },
   "outputs": [
    {
     "data": {
      "text/plain": [
       "numpy.ndarray"
      ]
     },
     "execution_count": 25,
     "metadata": {},
     "output_type": "execute_result"
    }
   ],
   "source": [
    "type(arr1)"
   ]
  },
  {
   "cell_type": "code",
   "execution_count": 26,
   "metadata": {},
   "outputs": [
    {
     "data": {
      "text/plain": [
       "[6.0, 6.75, 8.0, 0.0, 1.0]"
      ]
     },
     "execution_count": 26,
     "metadata": {},
     "output_type": "execute_result"
    }
   ],
   "source": [
    "list(arr1)"
   ]
  },
  {
   "cell_type": "code",
   "execution_count": 28,
   "metadata": {},
   "outputs": [
    {
     "data": {
      "text/plain": [
       "list"
      ]
     },
     "execution_count": 28,
     "metadata": {},
     "output_type": "execute_result"
    }
   ],
   "source": [
    "type(_26)"
   ]
  },
  {
   "cell_type": "code",
   "execution_count": 29,
   "metadata": {},
   "outputs": [],
   "source": [
    "# _ pega o ultimo output ou o indicado ex _35; o numero muda conforme o kernel \n",
    "# B cria céĺula abaixo (Jupyter)\n",
    "# A cria célula acima (Jupyter)\n",
    "# DD apaga a célula"
   ]
  },
  {
   "cell_type": "code",
   "execution_count": 30,
   "metadata": {
    "ExecuteTime": {
     "end_time": "2021-02-05T23:18:35.047935Z",
     "start_time": "2021-02-05T23:18:35.037722Z"
    },
    "slideshow": {
     "slide_type": "slide"
    }
   },
   "outputs": [
    {
     "name": "stdout",
     "output_type": "stream",
     "text": [
      "[6.   6.75 8.   0.   1.  ]\n"
     ]
    },
    {
     "data": {
      "text/plain": [
       "1"
      ]
     },
     "execution_count": 30,
     "metadata": {},
     "output_type": "execute_result"
    }
   ],
   "source": [
    "print(arr1)\n",
    "\n",
    "arr1.ndim"
   ]
  },
  {
   "cell_type": "code",
   "execution_count": 31,
   "metadata": {
    "ExecuteTime": {
     "end_time": "2021-02-05T23:18:35.559076Z",
     "start_time": "2021-02-05T23:18:35.551734Z"
    },
    "slideshow": {
     "slide_type": "fragment"
    }
   },
   "outputs": [
    {
     "data": {
      "text/plain": [
       "(5,)"
      ]
     },
     "execution_count": 31,
     "metadata": {},
     "output_type": "execute_result"
    }
   ],
   "source": [
    "arr1.shape #formato"
   ]
  },
  {
   "cell_type": "markdown",
   "metadata": {},
   "source": [
    "Use as teclas **Shift + Tab** para ver o help rápido\n",
    "\n",
    "Use a tecla **Tab** depois de um objeto para visualizar os métodos"
   ]
  },
  {
   "cell_type": "code",
   "execution_count": 32,
   "metadata": {},
   "outputs": [
    {
     "data": {
      "text/plain": [
       "8.0"
      ]
     },
     "execution_count": 32,
     "metadata": {},
     "output_type": "execute_result"
    }
   ],
   "source": [
    "arr1.max()"
   ]
  },
  {
   "cell_type": "code",
   "execution_count": 35,
   "metadata": {},
   "outputs": [
    {
     "data": {
      "text/plain": [
       "array([6.  , 6.75, 8.  , 0.  , 1.  ])"
      ]
     },
     "execution_count": 35,
     "metadata": {},
     "output_type": "execute_result"
    }
   ],
   "source": [
    "arr1.cumsum()\n",
    "arr1                                                                "
   ]
  },
  {
   "cell_type": "code",
   "execution_count": 34,
   "metadata": {},
   "outputs": [
    {
     "data": {
      "text/plain": [
       "4.35"
      ]
     },
     "execution_count": 34,
     "metadata": {},
     "output_type": "execute_result"
    }
   ],
   "source": [
    "arr1.mean()"
   ]
  },
  {
   "cell_type": "code",
   "execution_count": 36,
   "metadata": {},
   "outputs": [
    {
     "data": {
      "text/plain": [
       "array([6.  , 6.75, 8.  , 0.  , 1.  ])"
      ]
     },
     "execution_count": 36,
     "metadata": {},
     "output_type": "execute_result"
    }
   ],
   "source": [
    "arr1"
   ]
  },
  {
   "cell_type": "code",
   "execution_count": 37,
   "metadata": {},
   "outputs": [],
   "source": [
    "a=\"Vai Corinthians!\""
   ]
  },
  {
   "cell_type": "code",
   "execution_count": 39,
   "metadata": {},
   "outputs": [
    {
     "data": {
      "text/plain": [
       "'VAI CORINTHIANS!'"
      ]
     },
     "execution_count": 39,
     "metadata": {},
     "output_type": "execute_result"
    }
   ],
   "source": [
    "a.upper()"
   ]
  },
  {
   "cell_type": "markdown",
   "metadata": {
    "slideshow": {
     "slide_type": "slide"
    }
   },
   "source": [
    "- Arrays multidimensionais \n",
    "\n"
   ]
  },
  {
   "cell_type": "code",
   "execution_count": 40,
   "metadata": {},
   "outputs": [
    {
     "data": {
      "text/plain": [
       "'1.26.4'"
      ]
     },
     "execution_count": 40,
     "metadata": {},
     "output_type": "execute_result"
    }
   ],
   "source": [
    "np.__version__ #tab para ver os programas, objetos ou métodos"
   ]
  },
  {
   "cell_type": "code",
   "execution_count": 41,
   "metadata": {
    "ExecuteTime": {
     "end_time": "2021-02-05T23:18:36.538583Z",
     "start_time": "2021-02-05T23:18:36.534781Z"
    },
    "slideshow": {
     "slide_type": "fragment"
    }
   },
   "outputs": [
    {
     "name": "stdout",
     "output_type": "stream",
     "text": [
      "[[0. 0.]\n",
      " [0. 0.]]\n"
     ]
    }
   ],
   "source": [
    "a = np.zeros((2, 2)) #Passando uma tupla como parâmetro (2,3,4) -> [2,3,5] -> Lista\n",
    "print(a)"
   ]
  },
  {
   "cell_type": "code",
   "execution_count": 42,
   "metadata": {
    "ExecuteTime": {
     "end_time": "2021-02-05T23:18:36.729169Z",
     "start_time": "2021-02-05T23:18:36.720532Z"
    },
    "slideshow": {
     "slide_type": "fragment"
    }
   },
   "outputs": [
    {
     "data": {
      "text/plain": [
       "2"
      ]
     },
     "execution_count": 42,
     "metadata": {},
     "output_type": "execute_result"
    }
   ],
   "source": [
    "a.ndim"
   ]
  },
  {
   "cell_type": "code",
   "execution_count": 43,
   "metadata": {
    "ExecuteTime": {
     "end_time": "2021-02-05T23:18:36.852364Z",
     "start_time": "2021-02-05T23:18:36.846950Z"
    },
    "slideshow": {
     "slide_type": "fragment"
    }
   },
   "outputs": [
    {
     "data": {
      "text/plain": [
       "(2, 2)"
      ]
     },
     "execution_count": 43,
     "metadata": {},
     "output_type": "execute_result"
    }
   ],
   "source": [
    "a.shape"
   ]
  },
  {
   "cell_type": "code",
   "execution_count": 44,
   "metadata": {
    "ExecuteTime": {
     "end_time": "2021-02-05T23:18:37.090811Z",
     "start_time": "2021-02-05T23:18:37.085263Z"
    },
    "slideshow": {
     "slide_type": "fragment"
    }
   },
   "outputs": [
    {
     "name": "stdout",
     "output_type": "stream",
     "text": [
      "[[-1.25590691 -0.61429424  2.46447033]\n",
      " [ 1.91165188  0.96883195 -0.22964486]]\n",
      "n dims:  2\n",
      "shape:  (2, 3)\n"
     ]
    }
   ],
   "source": [
    "b = np.random.randn(2, 3) #Matriz 2x3 -> Lista de listas\n",
    "\n",
    "print(b)\n",
    "print('n dims: ', b.ndim)\n",
    "print('shape: ', b.shape)"
   ]
  },
  {
   "cell_type": "markdown",
   "metadata": {
    "slideshow": {
     "slide_type": "slide"
    }
   },
   "source": [
    "- Operações matemáticas"
   ]
  },
  {
   "cell_type": "code",
   "execution_count": 45,
   "metadata": {
    "ExecuteTime": {
     "end_time": "2021-02-05T23:18:37.341763Z",
     "start_time": "2021-02-05T23:18:37.335302Z"
    },
    "slideshow": {
     "slide_type": "fragment"
    }
   },
   "outputs": [
    {
     "name": "stdout",
     "output_type": "stream",
     "text": [
      "x = \n",
      " [[1. 2.]\n",
      " [3. 4.]]\n",
      "y = \n",
      " [[5. 6.]\n",
      " [7. 8.]]\n"
     ]
    }
   ],
   "source": [
    "x = np.array([[1,2],[3,4]], dtype=np.float64)\n",
    "y = np.array([[5,6],[7,8]], dtype=np.float64)\n",
    "\n",
    "print('x = \\n', x)\n",
    "print('y = \\n', y)"
   ]
  },
  {
   "cell_type": "code",
   "execution_count": 46,
   "metadata": {
    "ExecuteTime": {
     "end_time": "2021-02-05T23:18:37.560796Z",
     "start_time": "2021-02-05T23:18:37.555110Z"
    },
    "scrolled": true,
    "slideshow": {
     "slide_type": "fragment"
    }
   },
   "outputs": [
    {
     "name": "stdout",
     "output_type": "stream",
     "text": [
      "[[ 6.  8.]\n",
      " [10. 12.]]\n"
     ]
    }
   ],
   "source": [
    "# Soma \n",
    "print(x+y)"
   ]
  },
  {
   "cell_type": "code",
   "execution_count": 47,
   "metadata": {
    "ExecuteTime": {
     "end_time": "2021-02-05T23:18:37.709803Z",
     "start_time": "2021-02-05T23:18:37.702586Z"
    },
    "slideshow": {
     "slide_type": "fragment"
    }
   },
   "outputs": [
    {
     "name": "stdout",
     "output_type": "stream",
     "text": [
      "[[-4. -4.]\n",
      " [-4. -4.]]\n"
     ]
    }
   ],
   "source": [
    "# Subtração\n",
    "print(x-y)"
   ]
  },
  {
   "cell_type": "code",
   "execution_count": 48,
   "metadata": {
    "ExecuteTime": {
     "end_time": "2021-02-05T23:18:37.854594Z",
     "start_time": "2021-02-05T23:18:37.848178Z"
    },
    "slideshow": {
     "slide_type": "fragment"
    }
   },
   "outputs": [
    {
     "name": "stdout",
     "output_type": "stream",
     "text": [
      "[[ 5. 12.]\n",
      " [21. 32.]]\n"
     ]
    }
   ],
   "source": [
    "# Multiplicação\n",
    "print(x*y)"
   ]
  },
  {
   "cell_type": "code",
   "execution_count": 49,
   "metadata": {
    "ExecuteTime": {
     "end_time": "2021-02-05T23:18:38.018305Z",
     "start_time": "2021-02-05T23:18:38.013686Z"
    },
    "slideshow": {
     "slide_type": "fragment"
    }
   },
   "outputs": [
    {
     "name": "stdout",
     "output_type": "stream",
     "text": [
      "[[0.2        0.33333333]\n",
      " [0.42857143 0.5       ]]\n"
     ]
    }
   ],
   "source": [
    "# Divisão\n",
    "print(x/y)"
   ]
  },
  {
   "cell_type": "markdown",
   "metadata": {
    "slideshow": {
     "slide_type": "slide"
    }
   },
   "source": [
    "- Operações nos elementos de um array\n",
    "\n"
   ]
  },
  {
   "cell_type": "code",
   "execution_count": 58,
   "metadata": {
    "ExecuteTime": {
     "end_time": "2021-02-05T23:18:38.520111Z",
     "start_time": "2021-02-05T23:18:38.512554Z"
    },
    "slideshow": {
     "slide_type": "fragment"
    }
   },
   "outputs": [
    {
     "name": "stdout",
     "output_type": "stream",
     "text": [
      "[[1 2]\n",
      " [3 4]]\n",
      "<class 'numpy.ndarray'>\n"
     ]
    }
   ],
   "source": [
    "x = np.array([[1,2], [3,4]])\n",
    "\n",
    "print(x)\n",
    "print(type(x))"
   ]
  },
  {
   "cell_type": "code",
   "execution_count": 63,
   "metadata": {},
   "outputs": [
    {
     "name": "stdout",
     "output_type": "stream",
     "text": [
      "10\n"
     ]
    }
   ],
   "source": [
    "print(np.sum(x))"
   ]
  },
  {
   "cell_type": "code",
   "execution_count": 64,
   "metadata": {},
   "outputs": [
    {
     "data": {
      "text/plain": [
       "type"
      ]
     },
     "execution_count": 64,
     "metadata": {},
     "output_type": "execute_result"
    }
   ],
   "source": [
    "type(_)"
   ]
  },
  {
   "cell_type": "code",
   "execution_count": 65,
   "metadata": {
    "ExecuteTime": {
     "end_time": "2021-02-05T23:18:38.746936Z",
     "start_time": "2021-02-05T23:18:38.741242Z"
    },
    "scrolled": true,
    "slideshow": {
     "slide_type": "fragment"
    }
   },
   "outputs": [
    {
     "name": "stdout",
     "output_type": "stream",
     "text": [
      "A soma da matrix é  10\n"
     ]
    }
   ],
   "source": [
    "print(\"A soma da matrix é \", np.sum(x))"
   ]
  },
  {
   "cell_type": "code",
   "execution_count": 66,
   "metadata": {},
   "outputs": [
    {
     "data": {
      "text/plain": [
       "type"
      ]
     },
     "execution_count": 66,
     "metadata": {},
     "output_type": "execute_result"
    }
   ],
   "source": [
    "type(_)"
   ]
  },
  {
   "cell_type": "code",
   "execution_count": 67,
   "metadata": {},
   "outputs": [
    {
     "data": {
      "text/plain": [
       "10"
      ]
     },
     "execution_count": 67,
     "metadata": {},
     "output_type": "execute_result"
    }
   ],
   "source": [
    "np.sum(x)"
   ]
  },
  {
   "cell_type": "code",
   "execution_count": 69,
   "metadata": {},
   "outputs": [
    {
     "data": {
      "text/plain": [
       "numpy.int64"
      ]
     },
     "execution_count": 69,
     "metadata": {},
     "output_type": "execute_result"
    }
   ],
   "source": [
    "type(_)"
   ]
  },
  {
   "cell_type": "code",
   "execution_count": 70,
   "metadata": {},
   "outputs": [
    {
     "data": {
      "text/plain": [
       "array([[1, 2],\n",
       "       [3, 4]])"
      ]
     },
     "execution_count": 70,
     "metadata": {},
     "output_type": "execute_result"
    }
   ],
   "source": [
    "x"
   ]
  },
  {
   "cell_type": "code",
   "execution_count": 71,
   "metadata": {},
   "outputs": [
    {
     "data": {
      "text/plain": [
       "10"
      ]
     },
     "execution_count": 71,
     "metadata": {},
     "output_type": "execute_result"
    }
   ],
   "source": [
    "np.sum(x)"
   ]
  },
  {
   "cell_type": "code",
   "execution_count": 72,
   "metadata": {
    "ExecuteTime": {
     "end_time": "2021-02-05T23:18:38.994357Z",
     "start_time": "2021-02-05T23:18:38.986687Z"
    },
    "slideshow": {
     "slide_type": "fragment"
    }
   },
   "outputs": [
    {
     "name": "stdout",
     "output_type": "stream",
     "text": [
      "[4 6]\n"
     ]
    }
   ],
   "source": [
    "print(np.sum(x, axis = 0)) # soma colunas"
   ]
  },
  {
   "cell_type": "code",
   "execution_count": 73,
   "metadata": {
    "ExecuteTime": {
     "end_time": "2021-02-05T23:18:39.075416Z",
     "start_time": "2021-02-05T23:18:39.071526Z"
    },
    "scrolled": true,
    "slideshow": {
     "slide_type": "fragment"
    }
   },
   "outputs": [
    {
     "name": "stdout",
     "output_type": "stream",
     "text": [
      "[3 7]\n"
     ]
    }
   ],
   "source": [
    "print(np.sum(x, axis = 1)) # soma linhas"
   ]
  },
  {
   "cell_type": "code",
   "execution_count": 74,
   "metadata": {
    "ExecuteTime": {
     "end_time": "2021-02-05T23:18:40.214531Z",
     "start_time": "2021-02-05T23:18:40.211423Z"
    },
    "slideshow": {
     "slide_type": "fragment"
    }
   },
   "outputs": [
    {
     "name": "stdout",
     "output_type": "stream",
     "text": [
      "[[1 3]\n",
      " [2 4]]\n"
     ]
    }
   ],
   "source": [
    "print(x.T) # transposta"
   ]
  },
  {
   "cell_type": "markdown",
   "metadata": {
    "slideshow": {
     "slide_type": "slide"
    }
   },
   "source": [
    "- Reshaping\n",
    "\n",
    "![](https://fgnt.github.io/python_crashkurs_doc/_images/numpy-reshape-examples_t.png)\n",
    "<!--\n",
    "![https://backtobazics.com/wp-content/uploads/2018/08/numpy-reshape-examples.jpg](https://backtobazics.com/wp-content/uploads/2018/08/numpy-reshape-examples.jpg)\n",
    "-->"
   ]
  },
  {
   "cell_type": "code",
   "execution_count": 75,
   "metadata": {
    "ExecuteTime": {
     "end_time": "2021-02-05T23:18:40.653462Z",
     "start_time": "2021-02-05T23:18:40.649374Z"
    },
    "slideshow": {
     "slide_type": "slide"
    }
   },
   "outputs": [
    {
     "name": "stdout",
     "output_type": "stream",
     "text": [
      "array : \n",
      " [0 1 2 3 4 5 6 7]\n"
     ]
    }
   ],
   "source": [
    "array = np.arange(8) \n",
    "print(\"array : \\n\", array) \n",
    "  "
   ]
  },
  {
   "cell_type": "code",
   "execution_count": 76,
   "metadata": {
    "ExecuteTime": {
     "end_time": "2021-02-05T23:18:41.485029Z",
     "start_time": "2021-02-05T23:18:41.482431Z"
    },
    "slideshow": {
     "slide_type": "fragment"
    }
   },
   "outputs": [
    {
     "name": "stdout",
     "output_type": "stream",
     "text": [
      "\n",
      "reshaped 2x4: \n",
      " [[0 1 2 3]\n",
      " [4 5 6 7]]\n"
     ]
    }
   ],
   "source": [
    "array = np.arange(8).reshape(2, 4)\n",
    "print(\"\\nreshaped 2x4: \\n\", array)"
   ]
  },
  {
   "cell_type": "code",
   "execution_count": 77,
   "metadata": {
    "ExecuteTime": {
     "end_time": "2021-02-05T23:18:41.703942Z",
     "start_time": "2021-02-05T23:18:41.699466Z"
    },
    "slideshow": {
     "slide_type": "fragment"
    }
   },
   "outputs": [
    {
     "name": "stdout",
     "output_type": "stream",
     "text": [
      "\n",
      "reshaped 4x2 : \n",
      " [[0 1]\n",
      " [2 3]\n",
      " [4 5]\n",
      " [6 7]]\n"
     ]
    }
   ],
   "source": [
    "array = np.arange(8).reshape(4, 2)\n",
    "print(\"\\nreshaped 4x2 : \\n\", array)"
   ]
  },
  {
   "cell_type": "code",
   "execution_count": 78,
   "metadata": {
    "ExecuteTime": {
     "end_time": "2021-02-05T23:18:42.612606Z",
     "start_time": "2021-02-05T23:18:42.609976Z"
    },
    "slideshow": {
     "slide_type": "fragment"
    }
   },
   "outputs": [
    {
     "name": "stdout",
     "output_type": "stream",
     "text": [
      "\n",
      "reshaped 3D : \n",
      " [[[0 1]\n",
      "  [2 3]]\n",
      "\n",
      " [[4 5]\n",
      "  [6 7]]]\n"
     ]
    }
   ],
   "source": [
    "\n",
    "array = np.arange(8).reshape(2, 2, 2) # 3D\n",
    "print(\"\\nreshaped 3D : \\n\", array)"
   ]
  },
  {
   "cell_type": "markdown",
   "metadata": {
    "slideshow": {
     "slide_type": "slide"
    }
   },
   "source": [
    "### Os arrays numpy são mais rápidos"
   ]
  },
  {
   "cell_type": "code",
   "execution_count": 79,
   "metadata": {},
   "outputs": [
    {
     "data": {
      "text/plain": [
       "[0, 1, 2, 3, 4, 5, 6, 7, 8, 9]"
      ]
     },
     "execution_count": 79,
     "metadata": {},
     "output_type": "execute_result"
    }
   ],
   "source": [
    "list(range(10))"
   ]
  },
  {
   "cell_type": "code",
   "execution_count": 80,
   "metadata": {
    "ExecuteTime": {
     "end_time": "2021-02-05T23:18:44.630480Z",
     "start_time": "2021-02-05T23:18:43.076976Z"
    },
    "slideshow": {
     "slide_type": "fragment"
    }
   },
   "outputs": [
    {
     "name": "stdout",
     "output_type": "stream",
     "text": [
      "19 ms ± 432 μs per loop (mean ± std. dev. of 7 runs, 100 loops each)\n"
     ]
    }
   ],
   "source": [
    "L = range(500000)\n",
    "\n",
    "%timeit [i**2 for i in L]"
   ]
  },
  {
   "cell_type": "code",
   "execution_count": 81,
   "metadata": {
    "ExecuteTime": {
     "end_time": "2021-02-05T23:18:50.882004Z",
     "start_time": "2021-02-05T23:18:44.632553Z"
    },
    "slideshow": {
     "slide_type": "fragment"
    }
   },
   "outputs": [
    {
     "name": "stdout",
     "output_type": "stream",
     "text": [
      "287 μs ± 46.3 μs per loop (mean ± std. dev. of 7 runs, 1,000 loops each)\n"
     ]
    }
   ],
   "source": [
    "a = np.arange(500000)\n",
    "\n",
    "%timeit a**2"
   ]
  },
  {
   "cell_type": "markdown",
   "metadata": {
    "slideshow": {
     "slide_type": "slide"
    }
   },
   "source": [
    "### Criando arrays com funções da Numpy"
   ]
  },
  {
   "cell_type": "code",
   "execution_count": 82,
   "metadata": {},
   "outputs": [
    {
     "data": {
      "text/plain": [
       "[-10, -8, -6, -4, -2, 0, 2, 4, 6, 8]"
      ]
     },
     "execution_count": 82,
     "metadata": {},
     "output_type": "execute_result"
    }
   ],
   "source": [
    "list(range(-10,10, 2))"
   ]
  },
  {
   "cell_type": "code",
   "execution_count": 84,
   "metadata": {},
   "outputs": [],
   "source": [
    "#list(range(-10,10,.5))"
   ]
  },
  {
   "cell_type": "code",
   "execution_count": 85,
   "metadata": {},
   "outputs": [
    {
     "data": {
      "text/plain": [
       "array([-1.00000000e+01, -9.90000000e+00, -9.80000000e+00, -9.70000000e+00,\n",
       "       -9.60000000e+00, -9.50000000e+00, -9.40000000e+00, -9.30000000e+00,\n",
       "       -9.20000000e+00, -9.10000000e+00, -9.00000000e+00, -8.90000000e+00,\n",
       "       -8.80000000e+00, -8.70000000e+00, -8.60000000e+00, -8.50000000e+00,\n",
       "       -8.40000000e+00, -8.30000000e+00, -8.20000000e+00, -8.10000000e+00,\n",
       "       -8.00000000e+00, -7.90000000e+00, -7.80000000e+00, -7.70000000e+00,\n",
       "       -7.60000000e+00, -7.50000000e+00, -7.40000000e+00, -7.30000000e+00,\n",
       "       -7.20000000e+00, -7.10000000e+00, -7.00000000e+00, -6.90000000e+00,\n",
       "       -6.80000000e+00, -6.70000000e+00, -6.60000000e+00, -6.50000000e+00,\n",
       "       -6.40000000e+00, -6.30000000e+00, -6.20000000e+00, -6.10000000e+00,\n",
       "       -6.00000000e+00, -5.90000000e+00, -5.80000000e+00, -5.70000000e+00,\n",
       "       -5.60000000e+00, -5.50000000e+00, -5.40000000e+00, -5.30000000e+00,\n",
       "       -5.20000000e+00, -5.10000000e+00, -5.00000000e+00, -4.90000000e+00,\n",
       "       -4.80000000e+00, -4.70000000e+00, -4.60000000e+00, -4.50000000e+00,\n",
       "       -4.40000000e+00, -4.30000000e+00, -4.20000000e+00, -4.10000000e+00,\n",
       "       -4.00000000e+00, -3.90000000e+00, -3.80000000e+00, -3.70000000e+00,\n",
       "       -3.60000000e+00, -3.50000000e+00, -3.40000000e+00, -3.30000000e+00,\n",
       "       -3.20000000e+00, -3.10000000e+00, -3.00000000e+00, -2.90000000e+00,\n",
       "       -2.80000000e+00, -2.70000000e+00, -2.60000000e+00, -2.50000000e+00,\n",
       "       -2.40000000e+00, -2.30000000e+00, -2.20000000e+00, -2.10000000e+00,\n",
       "       -2.00000000e+00, -1.90000000e+00, -1.80000000e+00, -1.70000000e+00,\n",
       "       -1.60000000e+00, -1.50000000e+00, -1.40000000e+00, -1.30000000e+00,\n",
       "       -1.20000000e+00, -1.10000000e+00, -1.00000000e+00, -9.00000000e-01,\n",
       "       -8.00000000e-01, -7.00000000e-01, -6.00000000e-01, -5.00000000e-01,\n",
       "       -4.00000000e-01, -3.00000000e-01, -2.00000000e-01, -1.00000000e-01,\n",
       "       -3.55271368e-14,  1.00000000e-01,  2.00000000e-01,  3.00000000e-01,\n",
       "        4.00000000e-01,  5.00000000e-01,  6.00000000e-01,  7.00000000e-01,\n",
       "        8.00000000e-01,  9.00000000e-01,  1.00000000e+00,  1.10000000e+00,\n",
       "        1.20000000e+00,  1.30000000e+00,  1.40000000e+00,  1.50000000e+00,\n",
       "        1.60000000e+00,  1.70000000e+00,  1.80000000e+00,  1.90000000e+00,\n",
       "        2.00000000e+00,  2.10000000e+00,  2.20000000e+00,  2.30000000e+00,\n",
       "        2.40000000e+00,  2.50000000e+00,  2.60000000e+00,  2.70000000e+00,\n",
       "        2.80000000e+00,  2.90000000e+00,  3.00000000e+00,  3.10000000e+00,\n",
       "        3.20000000e+00,  3.30000000e+00,  3.40000000e+00,  3.50000000e+00,\n",
       "        3.60000000e+00,  3.70000000e+00,  3.80000000e+00,  3.90000000e+00,\n",
       "        4.00000000e+00,  4.10000000e+00,  4.20000000e+00,  4.30000000e+00,\n",
       "        4.40000000e+00,  4.50000000e+00,  4.60000000e+00,  4.70000000e+00,\n",
       "        4.80000000e+00,  4.90000000e+00,  5.00000000e+00,  5.10000000e+00,\n",
       "        5.20000000e+00,  5.30000000e+00,  5.40000000e+00,  5.50000000e+00,\n",
       "        5.60000000e+00,  5.70000000e+00,  5.80000000e+00,  5.90000000e+00,\n",
       "        6.00000000e+00,  6.10000000e+00,  6.20000000e+00,  6.30000000e+00,\n",
       "        6.40000000e+00,  6.50000000e+00,  6.60000000e+00,  6.70000000e+00,\n",
       "        6.80000000e+00,  6.90000000e+00,  7.00000000e+00,  7.10000000e+00,\n",
       "        7.20000000e+00,  7.30000000e+00,  7.40000000e+00,  7.50000000e+00,\n",
       "        7.60000000e+00,  7.70000000e+00,  7.80000000e+00,  7.90000000e+00,\n",
       "        8.00000000e+00,  8.10000000e+00,  8.20000000e+00,  8.30000000e+00,\n",
       "        8.40000000e+00,  8.50000000e+00,  8.60000000e+00,  8.70000000e+00,\n",
       "        8.80000000e+00,  8.90000000e+00,  9.00000000e+00,  9.10000000e+00,\n",
       "        9.20000000e+00,  9.30000000e+00,  9.40000000e+00,  9.50000000e+00,\n",
       "        9.60000000e+00,  9.70000000e+00,  9.80000000e+00,  9.90000000e+00])"
      ]
     },
     "execution_count": 85,
     "metadata": {},
     "output_type": "execute_result"
    }
   ],
   "source": [
    "np.arange(-10, 10, .1)"
   ]
  },
  {
   "cell_type": "code",
   "execution_count": 86,
   "metadata": {
    "ExecuteTime": {
     "end_time": "2021-02-05T23:18:50.888178Z",
     "start_time": "2021-02-05T23:18:50.884205Z"
    },
    "slideshow": {
     "slide_type": "fragment"
    }
   },
   "outputs": [
    {
     "name": "stdout",
     "output_type": "stream",
     "text": [
      "[0.   0.01 0.02 0.03 0.04 0.05 0.06 0.07 0.08 0.09 0.1  0.11 0.12 0.13\n",
      " 0.14 0.15 0.16 0.17 0.18 0.19 0.2  0.21 0.22 0.23 0.24 0.25 0.26 0.27\n",
      " 0.28 0.29 0.3  0.31 0.32 0.33 0.34 0.35 0.36 0.37 0.38 0.39 0.4  0.41\n",
      " 0.42 0.43 0.44 0.45 0.46 0.47 0.48 0.49 0.5  0.51 0.52 0.53 0.54 0.55\n",
      " 0.56 0.57 0.58 0.59 0.6  0.61 0.62 0.63 0.64 0.65 0.66 0.67 0.68 0.69\n",
      " 0.7  0.71 0.72 0.73 0.74 0.75 0.76 0.77 0.78 0.79 0.8  0.81 0.82 0.83\n",
      " 0.84 0.85 0.86 0.87 0.88 0.89 0.9  0.91 0.92 0.93 0.94 0.95 0.96 0.97\n",
      " 0.98 0.99]\n"
     ]
    }
   ],
   "source": [
    "# criar um range\n",
    "x = np.arange(0, 1, 0.01) #start, stop, step\n",
    "print(x)"
   ]
  },
  {
   "cell_type": "code",
   "execution_count": 87,
   "metadata": {
    "ExecuteTime": {
     "end_time": "2021-02-05T23:18:50.897129Z",
     "start_time": "2021-02-05T23:18:50.890658Z"
    },
    "slideshow": {
     "slide_type": "fragment"
    }
   },
   "outputs": [
    {
     "name": "stdout",
     "output_type": "stream",
     "text": [
      "[-1.00000000e+00 -9.00000000e-01 -8.00000000e-01 -7.00000000e-01\n",
      " -6.00000000e-01 -5.00000000e-01 -4.00000000e-01 -3.00000000e-01\n",
      " -2.00000000e-01 -1.00000000e-01 -2.22044605e-16  1.00000000e-01\n",
      "  2.00000000e-01  3.00000000e-01  4.00000000e-01  5.00000000e-01\n",
      "  6.00000000e-01  7.00000000e-01  8.00000000e-01  9.00000000e-01]\n"
     ]
    }
   ],
   "source": [
    "x = np.arange(-1, 1, 0.1)\n",
    "print(x)"
   ]
  },
  {
   "cell_type": "code",
   "execution_count": 88,
   "metadata": {
    "ExecuteTime": {
     "end_time": "2021-02-05T23:18:50.908520Z",
     "start_time": "2021-02-05T23:18:50.899708Z"
    },
    "slideshow": {
     "slide_type": "slide"
    }
   },
   "outputs": [
    {
     "data": {
      "text/plain": [
       "array([ 0.        ,  0.41666667,  0.83333333,  1.25      ,  1.66666667,\n",
       "        2.08333333,  2.5       ,  2.91666667,  3.33333333,  3.75      ,\n",
       "        4.16666667,  4.58333333,  5.        ,  5.41666667,  5.83333333,\n",
       "        6.25      ,  6.66666667,  7.08333333,  7.5       ,  7.91666667,\n",
       "        8.33333333,  8.75      ,  9.16666667,  9.58333333, 10.        ])"
      ]
     },
     "execution_count": 88,
     "metadata": {},
     "output_type": "execute_result"
    }
   ],
   "source": [
    "# linspace (neste caso, os extremos são incluídos)\n",
    "np.linspace(0, 10, 25)"
   ]
  },
  {
   "cell_type": "code",
   "execution_count": 89,
   "metadata": {},
   "outputs": [
    {
     "data": {
      "text/plain": [
       "array([-10,  -9,  -8,  -7,  -6,  -5,  -4,  -3,  -2,  -1,   0,   1,   2,\n",
       "         3,   4,   5,   6,   7,   8,   9])"
      ]
     },
     "execution_count": 89,
     "metadata": {},
     "output_type": "execute_result"
    }
   ],
   "source": [
    "np.arange(-10, 10)"
   ]
  },
  {
   "cell_type": "code",
   "execution_count": 90,
   "metadata": {},
   "outputs": [
    {
     "data": {
      "text/plain": [
       "array([ 0. ,  2.5,  5. ,  7.5, 10. ])"
      ]
     },
     "execution_count": 90,
     "metadata": {},
     "output_type": "execute_result"
    }
   ],
   "source": [
    "np.linspace(0,10,5)"
   ]
  },
  {
   "cell_type": "code",
   "execution_count": 91,
   "metadata": {
    "ExecuteTime": {
     "end_time": "2021-02-05T23:18:50.917442Z",
     "start_time": "2021-02-05T23:18:50.911029Z"
    },
    "slideshow": {
     "slide_type": "fragment"
    }
   },
   "outputs": [
    {
     "data": {
      "text/plain": [
       "array([1.00000000e+00, 3.03773178e+00, 9.22781435e+00, 2.80316249e+01,\n",
       "       8.51525577e+01, 2.58670631e+02, 7.85771994e+02, 2.38696456e+03,\n",
       "       7.25095809e+03, 2.20264658e+04])"
      ]
     },
     "execution_count": 91,
     "metadata": {},
     "output_type": "execute_result"
    }
   ],
   "source": [
    "np.logspace(0, 10, 10, base=np.e)"
   ]
  },
  {
   "cell_type": "code",
   "execution_count": 92,
   "metadata": {
    "scrolled": true
   },
   "outputs": [
    {
     "data": {
      "text/plain": [
       "2.718281828459045"
      ]
     },
     "execution_count": 92,
     "metadata": {},
     "output_type": "execute_result"
    }
   ],
   "source": [
    "np.e #constante, variável"
   ]
  },
  {
   "cell_type": "code",
   "execution_count": 93,
   "metadata": {},
   "outputs": [
    {
     "data": {
      "text/plain": [
       "(20,)"
      ]
     },
     "execution_count": 93,
     "metadata": {},
     "output_type": "execute_result"
    }
   ],
   "source": [
    "x.shape #variável"
   ]
  },
  {
   "cell_type": "code",
   "execution_count": 94,
   "metadata": {},
   "outputs": [
    {
     "data": {
      "text/plain": [
       "0.8999999999999995"
      ]
     },
     "execution_count": 94,
     "metadata": {},
     "output_type": "execute_result"
    }
   ],
   "source": [
    "x.max() #método - função - programa - realiza computação"
   ]
  },
  {
   "cell_type": "markdown",
   "metadata": {
    "slideshow": {
     "slide_type": "slide"
    }
   },
   "source": [
    "## Bibliotecas Pandas\n",
    "\n",
    "- Oferece estruturas de dados de alto nível e funções projetadas para que o trabalho com dados *estruturados* ou *tabulares* seja rápido, fácil e expressivo\n",
    "- É uma das bibliotecas mais populares de Python\n",
    "- Suas principais estruturas de dados são: \n",
    "    - *Series* - um objeto array unidimensional com rótulo\n",
    "    - *DataFrame* - uma estrutura de dados tabular, orientada a colunas, com rótulos tanto para linhas quanto para colunas\n",
    "    \n",
    "- Enquanto que a biblioteca Numpy foi projetada para trabalhar com dados numéricos homogêneos em arrays, Pandas foi projetada para trabalhar com dados tabulares e heterogêneos\n",
    "\n",
    "- Importação: `import pandas as pd`"
   ]
  },
  {
   "cell_type": "markdown",
   "metadata": {
    "slideshow": {
     "slide_type": "slide"
    }
   },
   "source": [
    "**Pandas Series** \n",
    "\n",
    "- É um objeto do tipo array unidimensional contendo uma sequência de valores e um array associado de rótulos chamado de *índice*\n",
    "- Pandas Series serão as colunas de um Pandas DataFrame"
   ]
  },
  {
   "cell_type": "code",
   "execution_count": 95,
   "metadata": {},
   "outputs": [],
   "source": [
    "import pandas as pd"
   ]
  },
  {
   "cell_type": "code",
   "execution_count": 96,
   "metadata": {
    "ExecuteTime": {
     "end_time": "2021-02-05T23:18:52.338038Z",
     "start_time": "2021-02-05T23:18:50.919499Z"
    },
    "slideshow": {
     "slide_type": "fragment"
    }
   },
   "outputs": [
    {
     "name": "stdout",
     "output_type": "stream",
     "text": [
      "0    4\n",
      "1    7\n",
      "2   -5\n",
      "3    3\n",
      "dtype: int64\n",
      "RangeIndex(start=0, stop=4, step=1)\n"
     ]
    }
   ],
   "source": [
    "obj = pd.Series([4, 7, -5, 3])\n",
    "print(obj)\n",
    "print(obj.index)"
   ]
  },
  {
   "cell_type": "code",
   "execution_count": 97,
   "metadata": {
    "scrolled": true
   },
   "outputs": [
    {
     "name": "stdout",
     "output_type": "stream",
     "text": [
      "0    4\n",
      "1    7\n",
      "2   -5\n",
      "3    3\n",
      "dtype: int64\n"
     ]
    }
   ],
   "source": [
    "print(obj)"
   ]
  },
  {
   "cell_type": "code",
   "execution_count": 98,
   "metadata": {
    "scrolled": true
   },
   "outputs": [
    {
     "data": {
      "text/plain": [
       "array([ 4,  7, -5,  3])"
      ]
     },
     "execution_count": 98,
     "metadata": {},
     "output_type": "execute_result"
    }
   ],
   "source": [
    "obj.values  # array de valores"
   ]
  },
  {
   "cell_type": "code",
   "execution_count": 99,
   "metadata": {},
   "outputs": [
    {
     "name": "stdout",
     "output_type": "stream",
     "text": [
      "<class 'numpy.ndarray'>\n"
     ]
    }
   ],
   "source": [
    "print(type(obj.values))"
   ]
  },
  {
   "cell_type": "code",
   "execution_count": 100,
   "metadata": {},
   "outputs": [
    {
     "name": "stdout",
     "output_type": "stream",
     "text": [
      "Help on built-in function max:\n",
      "\n",
      "max(...) method of numpy.ndarray instance\n",
      "    a.max(axis=None, out=None, keepdims=False, initial=<no value>, where=True)\n",
      "\n",
      "    Return the maximum along a given axis.\n",
      "\n",
      "    Refer to `numpy.amax` for full documentation.\n",
      "\n",
      "    See Also\n",
      "    --------\n",
      "    numpy.amax : equivalent function\n",
      "\n"
     ]
    }
   ],
   "source": [
    "help(obj.values.max)"
   ]
  },
  {
   "cell_type": "code",
   "execution_count": 101,
   "metadata": {},
   "outputs": [
    {
     "data": {
      "text/plain": [
       "<function ndarray.max>"
      ]
     },
     "execution_count": 101,
     "metadata": {},
     "output_type": "execute_result"
    }
   ],
   "source": [
    "obj.values.max"
   ]
  },
  {
   "cell_type": "code",
   "execution_count": 102,
   "metadata": {
    "scrolled": true
   },
   "outputs": [
    {
     "data": {
      "text/plain": [
       "7"
      ]
     },
     "execution_count": 102,
     "metadata": {},
     "output_type": "execute_result"
    }
   ],
   "source": [
    "obj.values.max()"
   ]
  },
  {
   "cell_type": "code",
   "execution_count": 103,
   "metadata": {},
   "outputs": [
    {
     "data": {
      "text/plain": [
       "array([ 4, 11,  6,  9])"
      ]
     },
     "execution_count": 103,
     "metadata": {},
     "output_type": "execute_result"
    }
   ],
   "source": [
    "obj.values.cumsum()"
   ]
  },
  {
   "cell_type": "code",
   "execution_count": 104,
   "metadata": {
    "ExecuteTime": {
     "end_time": "2021-02-05T23:18:52.350906Z",
     "start_time": "2021-02-05T23:18:52.344644Z"
    },
    "slideshow": {
     "slide_type": "slide"
    }
   },
   "outputs": [
    {
     "name": "stdout",
     "output_type": "stream",
     "text": [
      "0    4\n",
      "1    7\n",
      "2   -5\n",
      "3    3\n",
      "dtype: int64\n",
      "<class 'numpy.ndarray'>\n"
     ]
    }
   ],
   "source": [
    "print(obj)\n",
    "\n",
    "obj.values  # array de valores\n",
    "\n",
    "print(type(obj.values))"
   ]
  },
  {
   "cell_type": "markdown",
   "metadata": {
    "slideshow": {
     "slide_type": "slide"
    }
   },
   "source": [
    "- É possível criar uma Series com um índice que identifique cada ponto de dado com um rótulo"
   ]
  },
  {
   "cell_type": "code",
   "execution_count": 105,
   "metadata": {
    "ExecuteTime": {
     "end_time": "2021-02-05T23:18:58.676933Z",
     "start_time": "2021-02-05T23:18:58.673235Z"
    },
    "slideshow": {
     "slide_type": "fragment"
    }
   },
   "outputs": [],
   "source": [
    "obj2 = pd.Series([4, 7, -5, 3], index=['d', 'b', 'a', 'c'])\n"
   ]
  },
  {
   "cell_type": "code",
   "execution_count": 106,
   "metadata": {
    "ExecuteTime": {
     "end_time": "2021-02-05T23:18:59.727060Z",
     "start_time": "2021-02-05T23:18:59.722857Z"
    },
    "slideshow": {
     "slide_type": "fragment"
    }
   },
   "outputs": [
    {
     "data": {
      "text/plain": [
       "d    4\n",
       "b    7\n",
       "a   -5\n",
       "c    3\n",
       "dtype: int64"
      ]
     },
     "execution_count": 106,
     "metadata": {},
     "output_type": "execute_result"
    }
   ],
   "source": [
    "obj2"
   ]
  },
  {
   "cell_type": "markdown",
   "metadata": {
    "slideshow": {
     "slide_type": "slide"
    }
   },
   "source": [
    "- Obtendo os dados de uma série"
   ]
  },
  {
   "cell_type": "code",
   "execution_count": 107,
   "metadata": {
    "ExecuteTime": {
     "end_time": "2021-02-05T23:19:01.048097Z",
     "start_time": "2021-02-05T23:19:01.043632Z"
    },
    "slideshow": {
     "slide_type": "fragment"
    }
   },
   "outputs": [
    {
     "data": {
      "text/plain": [
       "Index(['d', 'b', 'a', 'c'], dtype='object')"
      ]
     },
     "execution_count": 107,
     "metadata": {},
     "output_type": "execute_result"
    }
   ],
   "source": [
    "obj2.index"
   ]
  },
  {
   "cell_type": "code",
   "execution_count": 109,
   "metadata": {
    "ExecuteTime": {
     "end_time": "2021-02-05T23:19:01.260174Z",
     "start_time": "2021-02-05T23:19:01.255350Z"
    },
    "slideshow": {
     "slide_type": "fragment"
    }
   },
   "outputs": [
    {
     "data": {
      "text/plain": [
       "7"
      ]
     },
     "execution_count": 109,
     "metadata": {},
     "output_type": "execute_result"
    }
   ],
   "source": [
    "obj2['b']"
   ]
  },
  {
   "cell_type": "code",
   "execution_count": 110,
   "metadata": {},
   "outputs": [
    {
     "data": {
      "text/plain": [
       "-5"
      ]
     },
     "execution_count": 110,
     "metadata": {},
     "output_type": "execute_result"
    }
   ],
   "source": [
    "obj2[\"a\"]"
   ]
  },
  {
   "cell_type": "code",
   "execution_count": 111,
   "metadata": {
    "ExecuteTime": {
     "end_time": "2021-02-05T23:19:01.485012Z",
     "start_time": "2021-02-05T23:19:01.473604Z"
    },
    "slideshow": {
     "slide_type": "fragment"
    }
   },
   "outputs": [
    {
     "data": {
      "text/plain": [
       "d    4\n",
       "b    7\n",
       "c    3\n",
       "dtype: int64"
      ]
     },
     "execution_count": 111,
     "metadata": {},
     "output_type": "execute_result"
    }
   ],
   "source": [
    "obj2[obj2 > 0] #filtro"
   ]
  },
  {
   "cell_type": "markdown",
   "metadata": {
    "slideshow": {
     "slide_type": "slide"
    }
   },
   "source": [
    "Outra forma de pensar em uma Series é como um dicionário ordenado de tamanho fixo, como se fosse um mapeamento entre valores de índice e valores de dados"
   ]
  },
  {
   "cell_type": "markdown",
   "metadata": {},
   "source": [
    "Dicionário (dict) do Python é análogo ao objeto JavaScript (JSON)"
   ]
  },
  {
   "cell_type": "code",
   "execution_count": 112,
   "metadata": {
    "ExecuteTime": {
     "end_time": "2021-02-05T23:19:01.877731Z",
     "start_time": "2021-02-05T23:19:01.873596Z"
    },
    "slideshow": {
     "slide_type": "fragment"
    }
   },
   "outputs": [],
   "source": [
    "sdata = {'Ohio': 35000, 'Texas': 71000, 'Oregon': 16000, 'Utah': 5000}"
   ]
  },
  {
   "cell_type": "code",
   "execution_count": 113,
   "metadata": {},
   "outputs": [
    {
     "data": {
      "text/plain": [
       "dict_values([35000, 71000, 16000, 5000])"
      ]
     },
     "execution_count": 113,
     "metadata": {},
     "output_type": "execute_result"
    }
   ],
   "source": [
    "sdata.values()"
   ]
  },
  {
   "cell_type": "code",
   "execution_count": 114,
   "metadata": {},
   "outputs": [
    {
     "data": {
      "text/plain": [
       "dict_keys(['Ohio', 'Texas', 'Oregon', 'Utah'])"
      ]
     },
     "execution_count": 114,
     "metadata": {},
     "output_type": "execute_result"
    }
   ],
   "source": [
    "sdata.keys()"
   ]
  },
  {
   "cell_type": "code",
   "execution_count": 115,
   "metadata": {},
   "outputs": [
    {
     "data": {
      "text/plain": [
       "dict"
      ]
     },
     "execution_count": 115,
     "metadata": {},
     "output_type": "execute_result"
    }
   ],
   "source": [
    "type(sdata)"
   ]
  },
  {
   "cell_type": "code",
   "execution_count": 116,
   "metadata": {},
   "outputs": [
    {
     "data": {
      "text/plain": [
       "71000"
      ]
     },
     "execution_count": 116,
     "metadata": {},
     "output_type": "execute_result"
    }
   ],
   "source": [
    "sdata[\"Texas\"]"
   ]
  },
  {
   "cell_type": "code",
   "execution_count": 117,
   "metadata": {
    "ExecuteTime": {
     "end_time": "2021-02-05T23:19:02.017594Z",
     "start_time": "2021-02-05T23:19:02.011400Z"
    },
    "slideshow": {
     "slide_type": "fragment"
    }
   },
   "outputs": [],
   "source": [
    "obj3 = pd.Series(sdata)"
   ]
  },
  {
   "cell_type": "code",
   "execution_count": 118,
   "metadata": {
    "ExecuteTime": {
     "end_time": "2021-02-05T23:19:02.294940Z",
     "start_time": "2021-02-05T23:19:02.287321Z"
    },
    "slideshow": {
     "slide_type": "fragment"
    }
   },
   "outputs": [
    {
     "data": {
      "text/plain": [
       "Ohio      35000\n",
       "Texas     71000\n",
       "Oregon    16000\n",
       "Utah       5000\n",
       "dtype: int64"
      ]
     },
     "execution_count": 118,
     "metadata": {},
     "output_type": "execute_result"
    }
   ],
   "source": [
    "obj3"
   ]
  },
  {
   "cell_type": "code",
   "execution_count": 119,
   "metadata": {},
   "outputs": [
    {
     "data": {
      "text/plain": [
       "0    35000\n",
       "1    71000\n",
       "2    16000\n",
       "3     5000\n",
       "dtype: int64"
      ]
     },
     "execution_count": 119,
     "metadata": {},
     "output_type": "execute_result"
    }
   ],
   "source": [
    "pd.Series(sdata.values())"
   ]
  },
  {
   "cell_type": "code",
   "execution_count": 124,
   "metadata": {},
   "outputs": [
    {
     "data": {
      "text/plain": [
       "{'Ohio': 35000, 'Texas': 71000, 'Oregon': 16000, 'Utah': 5000}"
      ]
     },
     "execution_count": 124,
     "metadata": {},
     "output_type": "execute_result"
    }
   ],
   "source": [
    "sdata"
   ]
  },
  {
   "cell_type": "code",
   "execution_count": 122,
   "metadata": {},
   "outputs": [
    {
     "data": {
      "text/plain": [
       "Ohio      35000\n",
       "Texas     71000\n",
       "Oregon    16000\n",
       "Utah       5000\n",
       "dtype: int64"
      ]
     },
     "execution_count": 122,
     "metadata": {},
     "output_type": "execute_result"
    }
   ],
   "source": [
    "obj3"
   ]
  },
  {
   "cell_type": "code",
   "execution_count": 125,
   "metadata": {},
   "outputs": [
    {
     "name": "stdout",
     "output_type": "stream",
     "text": [
      "<class 'dict'> \n",
      " <class 'pandas.core.series.Series'>\n"
     ]
    }
   ],
   "source": [
    "print(type(sdata),'\\n',type(obj3))"
   ]
  },
  {
   "cell_type": "code",
   "execution_count": 126,
   "metadata": {},
   "outputs": [
    {
     "data": {
      "text/plain": [
       "0      Ohio\n",
       "1     Texas\n",
       "2    Oregon\n",
       "3      Utah\n",
       "dtype: object"
      ]
     },
     "execution_count": 126,
     "metadata": {},
     "output_type": "execute_result"
    }
   ],
   "source": [
    "pd.Series(sdata.keys())"
   ]
  },
  {
   "cell_type": "markdown",
   "metadata": {
    "slideshow": {
     "slide_type": "slide"
    }
   },
   "source": [
    "**DataFrames**\n",
    "\n",
    "É possível criar um dataframe a partir de Series"
   ]
  },
  {
   "cell_type": "code",
   "execution_count": 127,
   "metadata": {},
   "outputs": [
    {
     "data": {
      "text/plain": [
       "['a', 'b', 'c', 'd', 'e']"
      ]
     },
     "execution_count": 127,
     "metadata": {},
     "output_type": "execute_result"
    }
   ],
   "source": [
    "list('abcde')"
   ]
  },
  {
   "cell_type": "code",
   "execution_count": 128,
   "metadata": {
    "ExecuteTime": {
     "end_time": "2021-02-05T23:19:03.901801Z",
     "start_time": "2021-02-05T23:19:03.895435Z"
    },
    "scrolled": true,
    "slideshow": {
     "slide_type": "fragment"
    }
   },
   "outputs": [
    {
     "name": "stdout",
     "output_type": "stream",
     "text": [
      "a    1\n",
      "b    2\n",
      "c    3\n",
      "d    4\n",
      "e    5\n",
      "dtype: int64\n"
     ]
    }
   ],
   "source": [
    "ser1 = pd.Series([1,2,3,4,5], index=list('abcde'))\n",
    "\n",
    "print(ser1)"
   ]
  },
  {
   "cell_type": "code",
   "execution_count": 129,
   "metadata": {},
   "outputs": [
    {
     "data": {
      "text/plain": [
       "4"
      ]
     },
     "execution_count": 129,
     "metadata": {},
     "output_type": "execute_result"
    }
   ],
   "source": [
    "ser1[\"d\"]"
   ]
  },
  {
   "cell_type": "code",
   "execution_count": 130,
   "metadata": {
    "ExecuteTime": {
     "end_time": "2021-02-05T23:19:04.606089Z",
     "start_time": "2021-02-05T23:19:04.599466Z"
    },
    "slideshow": {
     "slide_type": "fragment"
    }
   },
   "outputs": [
    {
     "name": "stdout",
     "output_type": "stream",
     "text": [
      "a    11\n",
      "b    22\n",
      "c    33\n",
      "d    44\n",
      "f    55\n",
      "z    44\n",
      "dtype: int64\n"
     ]
    }
   ],
   "source": [
    "ser2 = pd.Series([11, 22, 33, 44, 55, 44], index=list('abcdfz'))\n",
    "\n",
    "print(ser2)"
   ]
  },
  {
   "attachments": {
    "image.png": {
     "image/png": "[encoded data removed]"
    }
   },
   "cell_type": "markdown",
   "metadata": {
    "slideshow": {
     "slide_type": "slide"
    }
   },
   "source": [
    "![dataframe.png](attachment:image.png)"
   ]
  },
  {
   "cell_type": "code",
   "execution_count": 131,
   "metadata": {
    "scrolled": true
   },
   "outputs": [
    {
     "data": {
      "text/plain": [
       "a    1\n",
       "b    2\n",
       "c    3\n",
       "d    4\n",
       "e    5\n",
       "dtype: int64"
      ]
     },
     "execution_count": 131,
     "metadata": {},
     "output_type": "execute_result"
    }
   ],
   "source": [
    "ser1"
   ]
  },
  {
   "cell_type": "code",
   "execution_count": 132,
   "metadata": {},
   "outputs": [
    {
     "data": {
      "text/plain": [
       "a    11\n",
       "b    22\n",
       "c    33\n",
       "d    44\n",
       "f    55\n",
       "z    44\n",
       "dtype: int64"
      ]
     },
     "execution_count": 132,
     "metadata": {},
     "output_type": "execute_result"
    }
   ],
   "source": [
    "ser2"
   ]
  },
  {
   "cell_type": "code",
   "execution_count": 133,
   "metadata": {
    "ExecuteTime": {
     "end_time": "2021-02-05T23:19:05.428516Z",
     "start_time": "2021-02-05T23:19:05.422708Z"
    },
    "slideshow": {
     "slide_type": "fragment"
    }
   },
   "outputs": [],
   "source": [
    "df = pd.DataFrame({'A': ser1, 'B': ser2},) #dicionário - dict - JSON"
   ]
  },
  {
   "cell_type": "code",
   "execution_count": 134,
   "metadata": {
    "ExecuteTime": {
     "end_time": "2021-02-05T23:19:06.239120Z",
     "start_time": "2021-02-05T23:19:06.212794Z"
    },
    "slideshow": {
     "slide_type": "fragment"
    }
   },
   "outputs": [
    {
     "data": {
      "text/html": [
       "<div>\n",
       "<style scoped>\n",
       "    .dataframe tbody tr th:only-of-type {\n",
       "        vertical-align: middle;\n",
       "    }\n",
       "\n",
       "    .dataframe tbody tr th {\n",
       "        vertical-align: top;\n",
       "    }\n",
       "\n",
       "    .dataframe thead th {\n",
       "        text-align: right;\n",
       "    }\n",
       "</style>\n",
       "<table border=\"1\" class=\"dataframe\">\n",
       "  <thead>\n",
       "    <tr style=\"text-align: right;\">\n",
       "      <th></th>\n",
       "      <th>A</th>\n",
       "      <th>B</th>\n",
       "    </tr>\n",
       "  </thead>\n",
       "  <tbody>\n",
       "    <tr>\n",
       "      <th>a</th>\n",
       "      <td>1.0</td>\n",
       "      <td>11.0</td>\n",
       "    </tr>\n",
       "    <tr>\n",
       "      <th>b</th>\n",
       "      <td>2.0</td>\n",
       "      <td>22.0</td>\n",
       "    </tr>\n",
       "    <tr>\n",
       "      <th>c</th>\n",
       "      <td>3.0</td>\n",
       "      <td>33.0</td>\n",
       "    </tr>\n",
       "    <tr>\n",
       "      <th>d</th>\n",
       "      <td>4.0</td>\n",
       "      <td>44.0</td>\n",
       "    </tr>\n",
       "    <tr>\n",
       "      <th>e</th>\n",
       "      <td>5.0</td>\n",
       "      <td>NaN</td>\n",
       "    </tr>\n",
       "    <tr>\n",
       "      <th>f</th>\n",
       "      <td>NaN</td>\n",
       "      <td>55.0</td>\n",
       "    </tr>\n",
       "    <tr>\n",
       "      <th>z</th>\n",
       "      <td>NaN</td>\n",
       "      <td>44.0</td>\n",
       "    </tr>\n",
       "  </tbody>\n",
       "</table>\n",
       "</div>"
      ],
      "text/plain": [
       "     A     B\n",
       "a  1.0  11.0\n",
       "b  2.0  22.0\n",
       "c  3.0  33.0\n",
       "d  4.0  44.0\n",
       "e  5.0   NaN\n",
       "f  NaN  55.0\n",
       "z  NaN  44.0"
      ]
     },
     "execution_count": 134,
     "metadata": {},
     "output_type": "execute_result"
    }
   ],
   "source": [
    "df"
   ]
  },
  {
   "cell_type": "code",
   "execution_count": 135,
   "metadata": {
    "ExecuteTime": {
     "end_time": "2021-02-05T23:19:06.541458Z",
     "start_time": "2021-02-05T23:19:06.535520Z"
    },
    "scrolled": true,
    "slideshow": {
     "slide_type": "fragment"
    }
   },
   "outputs": [
    {
     "data": {
      "text/plain": [
       "array([ 1.,  2.,  3.,  4.,  5., nan, nan])"
      ]
     },
     "execution_count": 135,
     "metadata": {},
     "output_type": "execute_result"
    }
   ],
   "source": [
    "df['A'].values"
   ]
  },
  {
   "cell_type": "markdown",
   "metadata": {
    "ExecuteTime": {
     "end_time": "2020-12-24T15:46:35.881412Z",
     "start_time": "2020-12-24T15:46:35.878147Z"
    },
    "slideshow": {
     "slide_type": "slide"
    }
   },
   "source": [
    "- Criando um dataframe do zero\n",
    "\n",
    "Considere as seguintes taxas de conversão entre as seguintes moedas:\n",
    "\n",
    "|     | USD  | EUR  | GBP  |\n",
    "|-----|------|------|------|\n",
    "| USD | 1.0  | 0.91 | 0.79 |\n",
    "| EUR | 1.1  | 1.0  | 0.87 |\n",
    "| GBP | 1.26 | 1.14 | 1.0  |\n",
    "\n",
    "\n",
    "Observando a tabela acima, temos:\n",
    "\n",
    "- Cada coluna dessa tabela é representada por uma **Series**\n",
    "- A tabela é armazenada como um **DataFrame**"
   ]
  },
  {
   "cell_type": "markdown",
   "metadata": {
    "slideshow": {
     "slide_type": "slide"
    }
   },
   "source": [
    "Vamos criar este dataframe.\n",
    "\n"
   ]
  },
  {
   "cell_type": "code",
   "execution_count": 136,
   "metadata": {
    "ExecuteTime": {
     "end_time": "2021-02-05T23:19:08.718564Z",
     "start_time": "2021-02-05T23:19:08.711195Z"
    },
    "slideshow": {
     "slide_type": "fragment"
    }
   },
   "outputs": [
    {
     "data": {
      "text/plain": [
       "USD    1.00\n",
       "EUR    1.10\n",
       "GBP    1.26\n",
       "dtype: float64"
      ]
     },
     "execution_count": 136,
     "metadata": {},
     "output_type": "execute_result"
    }
   ],
   "source": [
    "import pandas as pd\n",
    "import numpy as np \n",
    "\n",
    "moedas = ['USD', 'EUR', 'GBP']\n",
    "usd_data = np.array([1.0, 1.1, 1.26])\n",
    "\n",
    "usd = pd.Series(usd_data, index=moedas)\n",
    "usd"
   ]
  },
  {
   "cell_type": "code",
   "execution_count": 137,
   "metadata": {
    "ExecuteTime": {
     "end_time": "2021-02-05T23:19:08.931791Z",
     "start_time": "2021-02-05T23:19:08.927249Z"
    },
    "slideshow": {
     "slide_type": "fragment"
    }
   },
   "outputs": [
    {
     "data": {
      "text/plain": [
       "1.1"
      ]
     },
     "execution_count": 137,
     "metadata": {},
     "output_type": "execute_result"
    }
   ],
   "source": [
    "usd['EUR']"
   ]
  },
  {
   "cell_type": "code",
   "execution_count": 138,
   "metadata": {
    "ExecuteTime": {
     "end_time": "2021-02-05T23:19:09.836190Z",
     "start_time": "2021-02-05T23:19:09.832442Z"
    },
    "slideshow": {
     "slide_type": "fragment"
    }
   },
   "outputs": [
    {
     "data": {
      "text/plain": [
       "array([1.  , 1.1 , 1.26])"
      ]
     },
     "execution_count": 138,
     "metadata": {},
     "output_type": "execute_result"
    }
   ],
   "source": [
    "usd.values"
   ]
  },
  {
   "cell_type": "code",
   "execution_count": 139,
   "metadata": {
    "ExecuteTime": {
     "end_time": "2021-02-05T23:19:10.097574Z",
     "start_time": "2021-02-05T23:19:10.089974Z"
    },
    "scrolled": true,
    "slideshow": {
     "slide_type": "fragment"
    }
   },
   "outputs": [
    {
     "data": {
      "text/plain": [
       "Index(['USD', 'EUR', 'GBP'], dtype='object')"
      ]
     },
     "execution_count": 139,
     "metadata": {},
     "output_type": "execute_result"
    }
   ],
   "source": [
    "usd.index"
   ]
  },
  {
   "cell_type": "code",
   "execution_count": 140,
   "metadata": {},
   "outputs": [
    {
     "data": {
      "text/plain": [
       "USD    1.00\n",
       "EUR    2.10\n",
       "GBP    3.36\n",
       "dtype: float64"
      ]
     },
     "execution_count": 140,
     "metadata": {},
     "output_type": "execute_result"
    }
   ],
   "source": [
    "usd.cumsum()"
   ]
  },
  {
   "cell_type": "markdown",
   "metadata": {
    "slideshow": {
     "slide_type": "slide"
    }
   },
   "source": [
    "Código completo"
   ]
  },
  {
   "cell_type": "code",
   "execution_count": 141,
   "metadata": {
    "ExecuteTime": {
     "end_time": "2021-02-05T22:45:54.858269Z",
     "start_time": "2021-02-05T22:45:54.839572Z"
    },
    "slideshow": {
     "slide_type": "fragment"
    }
   },
   "outputs": [
    {
     "data": {
      "text/html": [
       "<div>\n",
       "<style scoped>\n",
       "    .dataframe tbody tr th:only-of-type {\n",
       "        vertical-align: middle;\n",
       "    }\n",
       "\n",
       "    .dataframe tbody tr th {\n",
       "        vertical-align: top;\n",
       "    }\n",
       "\n",
       "    .dataframe thead th {\n",
       "        text-align: right;\n",
       "    }\n",
       "</style>\n",
       "<table border=\"1\" class=\"dataframe\">\n",
       "  <thead>\n",
       "    <tr style=\"text-align: right;\">\n",
       "      <th></th>\n",
       "      <th>USD</th>\n",
       "      <th>EUR</th>\n",
       "      <th>GBP</th>\n",
       "    </tr>\n",
       "  </thead>\n",
       "  <tbody>\n",
       "    <tr>\n",
       "      <th>USD</th>\n",
       "      <td>1.00</td>\n",
       "      <td>0.91</td>\n",
       "      <td>0.79</td>\n",
       "    </tr>\n",
       "    <tr>\n",
       "      <th>EUR</th>\n",
       "      <td>1.10</td>\n",
       "      <td>1.00</td>\n",
       "      <td>0.87</td>\n",
       "    </tr>\n",
       "    <tr>\n",
       "      <th>GBP</th>\n",
       "      <td>1.26</td>\n",
       "      <td>1.14</td>\n",
       "      <td>1.00</td>\n",
       "    </tr>\n",
       "  </tbody>\n",
       "</table>\n",
       "</div>"
      ],
      "text/plain": [
       "      USD   EUR   GBP\n",
       "USD  1.00  0.91  0.79\n",
       "EUR  1.10  1.00  0.87\n",
       "GBP  1.26  1.14  1.00"
      ]
     },
     "execution_count": 141,
     "metadata": {},
     "output_type": "execute_result"
    }
   ],
   "source": [
    "import pandas as pd\n",
    "import numpy as np\n",
    "\n",
    "moedas = ['USD', 'EUR', 'GBP']\n",
    "\n",
    "usd_data = np.array([1.0, 1.1, 1.26])\n",
    "eur_data = np.array([0.91, 1.0, 1.14])\n",
    "gbp_data = np.array([0.79, 0.87, 1.0])\n",
    "\n",
    "# cada uma das series vai ser uma coluna\n",
    "usd = pd.Series(usd_data, index=moedas)\n",
    "eur = pd.Series(eur_data, index=moedas)\n",
    "gbp = pd.Series(gbp_data, index=moedas)\n",
    "\n",
    "# o dic reune as colunas e nós criamos um indice para elas\n",
    "dic = {'USD': usd, 'EUR': eur, 'GBP': gbp}\n",
    "\n",
    "taxas = pd.DataFrame(dic)\n",
    "\n",
    "taxas"
   ]
  },
  {
   "cell_type": "code",
   "execution_count": 183,
   "metadata": {},
   "outputs": [
    {
     "data": {
      "text/plain": [
       "'/home/heliozf'"
      ]
     },
     "execution_count": 183,
     "metadata": {},
     "output_type": "execute_result"
    }
   ],
   "source": [
    "pwd"
   ]
  },
  {
   "cell_type": "code",
   "execution_count": 185,
   "metadata": {},
   "outputs": [],
   "source": [
    "taxas.to_csv('/home/heliozf/Linux_PADS/PADS/Computacao Para CIencia de Dados/Aulas/Aula02/taxas.csv') #exporta para CSV - salva"
   ]
  },
  {
   "cell_type": "code",
   "execution_count": 187,
   "metadata": {
    "scrolled": true
   },
   "outputs": [
    {
     "data": {
      "text/html": [
       "<div>\n",
       "<style scoped>\n",
       "    .dataframe tbody tr th:only-of-type {\n",
       "        vertical-align: middle;\n",
       "    }\n",
       "\n",
       "    .dataframe tbody tr th {\n",
       "        vertical-align: top;\n",
       "    }\n",
       "\n",
       "    .dataframe thead th {\n",
       "        text-align: right;\n",
       "    }\n",
       "</style>\n",
       "<table border=\"1\" class=\"dataframe\">\n",
       "  <thead>\n",
       "    <tr style=\"text-align: right;\">\n",
       "      <th></th>\n",
       "      <th>Unnamed: 0</th>\n",
       "      <th>USD</th>\n",
       "      <th>EUR</th>\n",
       "      <th>GBP</th>\n",
       "    </tr>\n",
       "  </thead>\n",
       "  <tbody>\n",
       "    <tr>\n",
       "      <th>0</th>\n",
       "      <td>USD</td>\n",
       "      <td>1.00</td>\n",
       "      <td>0.91</td>\n",
       "      <td>0.79</td>\n",
       "    </tr>\n",
       "    <tr>\n",
       "      <th>1</th>\n",
       "      <td>EUR</td>\n",
       "      <td>1.10</td>\n",
       "      <td>1.00</td>\n",
       "      <td>0.87</td>\n",
       "    </tr>\n",
       "    <tr>\n",
       "      <th>2</th>\n",
       "      <td>GBP</td>\n",
       "      <td>1.26</td>\n",
       "      <td>1.14</td>\n",
       "      <td>1.00</td>\n",
       "    </tr>\n",
       "  </tbody>\n",
       "</table>\n",
       "</div>"
      ],
      "text/plain": [
       "  Unnamed: 0   USD   EUR   GBP\n",
       "0        USD  1.00  0.91  0.79\n",
       "1        EUR  1.10  1.00  0.87\n",
       "2        GBP  1.26  1.14  1.00"
      ]
     },
     "execution_count": 187,
     "metadata": {},
     "output_type": "execute_result"
    }
   ],
   "source": [
    "pd.read_csv('/home/heliozf/Linux_PADS/PADS/Computacao Para CIencia de Dados/Aulas/Aula02/taxas.csv')"
   ]
  },
  {
   "cell_type": "code",
   "execution_count": 188,
   "metadata": {},
   "outputs": [
    {
     "name": "stdout",
     "output_type": "stream",
     "text": [
      "taxas.csv\n"
     ]
    }
   ],
   "source": [
    "!dir *.csv #Windows, Linux"
   ]
  },
  {
   "cell_type": "code",
   "execution_count": 189,
   "metadata": {
    "scrolled": true
   },
   "outputs": [
    {
     "name": "stdout",
     "output_type": "stream",
     "text": [
      "taxas.csv\n"
     ]
    }
   ],
   "source": [
    "!ls *.csv #Mac, Linux, UNIX"
   ]
  },
  {
   "cell_type": "code",
   "execution_count": 190,
   "metadata": {},
   "outputs": [
    {
     "name": "stdout",
     "output_type": "stream",
     "text": [
      ",USD,EUR,GBP\n",
      "USD,1.0,0.91,0.79\n",
      "EUR,1.1,1.0,0.87\n",
      "GBP,1.26,1.14,1.0\n"
     ]
    }
   ],
   "source": [
    "!cat taxas.csv"
   ]
  },
  {
   "cell_type": "code",
   "execution_count": 191,
   "metadata": {},
   "outputs": [
    {
     "name": "stdout",
     "output_type": "stream",
     "text": [
      "/bin/bash: line 1: type: taxas.csv: not found\n"
     ]
    }
   ],
   "source": [
    "!type taxas.csv #Windows"
   ]
  },
  {
   "cell_type": "markdown",
   "metadata": {},
   "source": [
    "Obtendo dados do Dataframe"
   ]
  },
  {
   "cell_type": "code",
   "execution_count": 192,
   "metadata": {
    "ExecuteTime": {
     "end_time": "2021-02-05T22:47:57.640195Z",
     "start_time": "2021-02-05T22:47:57.634248Z"
    }
   },
   "outputs": [
    {
     "data": {
      "text/plain": [
       "Index(['USD', 'EUR', 'GBP'], dtype='object')"
      ]
     },
     "execution_count": 192,
     "metadata": {},
     "output_type": "execute_result"
    }
   ],
   "source": [
    "taxas.index"
   ]
  },
  {
   "cell_type": "code",
   "execution_count": 193,
   "metadata": {
    "ExecuteTime": {
     "end_time": "2021-02-05T22:47:59.444317Z",
     "start_time": "2021-02-05T22:47:59.439057Z"
    }
   },
   "outputs": [
    {
     "data": {
      "text/plain": [
       "Index(['USD', 'EUR', 'GBP'], dtype='object')"
      ]
     },
     "execution_count": 193,
     "metadata": {},
     "output_type": "execute_result"
    }
   ],
   "source": [
    "taxas.columns"
   ]
  },
  {
   "cell_type": "code",
   "execution_count": 194,
   "metadata": {
    "ExecuteTime": {
     "end_time": "2021-02-05T22:48:01.539246Z",
     "start_time": "2021-02-05T22:48:01.532877Z"
    }
   },
   "outputs": [
    {
     "data": {
      "text/plain": [
       "USD    1.00\n",
       "EUR    1.10\n",
       "GBP    1.26\n",
       "Name: USD, dtype: float64"
      ]
     },
     "execution_count": 194,
     "metadata": {},
     "output_type": "execute_result"
    }
   ],
   "source": [
    "taxas['USD']"
   ]
  },
  {
   "cell_type": "code",
   "execution_count": 195,
   "metadata": {
    "ExecuteTime": {
     "end_time": "2021-02-05T22:48:27.931377Z",
     "start_time": "2021-02-05T22:48:27.926635Z"
    }
   },
   "outputs": [
    {
     "data": {
      "text/plain": [
       "1.14"
      ]
     },
     "execution_count": 195,
     "metadata": {},
     "output_type": "execute_result"
    }
   ],
   "source": [
    "taxas['EUR']['GBP']"
   ]
  },
  {
   "cell_type": "code",
   "execution_count": 196,
   "metadata": {},
   "outputs": [
    {
     "data": {
      "text/html": [
       "<div>\n",
       "<style scoped>\n",
       "    .dataframe tbody tr th:only-of-type {\n",
       "        vertical-align: middle;\n",
       "    }\n",
       "\n",
       "    .dataframe tbody tr th {\n",
       "        vertical-align: top;\n",
       "    }\n",
       "\n",
       "    .dataframe thead th {\n",
       "        text-align: right;\n",
       "    }\n",
       "</style>\n",
       "<table border=\"1\" class=\"dataframe\">\n",
       "  <thead>\n",
       "    <tr style=\"text-align: right;\">\n",
       "      <th></th>\n",
       "      <th>USD</th>\n",
       "      <th>EUR</th>\n",
       "      <th>GBP</th>\n",
       "    </tr>\n",
       "  </thead>\n",
       "  <tbody>\n",
       "    <tr>\n",
       "      <th>USD</th>\n",
       "      <td>1.00</td>\n",
       "      <td>0.91</td>\n",
       "      <td>0.79</td>\n",
       "    </tr>\n",
       "    <tr>\n",
       "      <th>EUR</th>\n",
       "      <td>1.10</td>\n",
       "      <td>1.00</td>\n",
       "      <td>0.87</td>\n",
       "    </tr>\n",
       "    <tr>\n",
       "      <th>GBP</th>\n",
       "      <td>1.26</td>\n",
       "      <td>1.14</td>\n",
       "      <td>1.00</td>\n",
       "    </tr>\n",
       "  </tbody>\n",
       "</table>\n",
       "</div>"
      ],
      "text/plain": [
       "      USD   EUR   GBP\n",
       "USD  1.00  0.91  0.79\n",
       "EUR  1.10  1.00  0.87\n",
       "GBP  1.26  1.14  1.00"
      ]
     },
     "execution_count": 196,
     "metadata": {},
     "output_type": "execute_result"
    }
   ],
   "source": [
    "taxas"
   ]
  },
  {
   "cell_type": "markdown",
   "metadata": {
    "slideshow": {
     "slide_type": "slide"
    }
   },
   "source": [
    "Podemos exportar o dataframe"
   ]
  },
  {
   "cell_type": "code",
   "execution_count": 197,
   "metadata": {
    "ExecuteTime": {
     "end_time": "2021-02-05T22:48:57.599824Z",
     "start_time": "2021-02-05T22:48:57.051874Z"
    },
    "slideshow": {
     "slide_type": "fragment"
    }
   },
   "outputs": [],
   "source": [
    "taxas.to_csv('taxas.csv')"
   ]
  },
  {
   "cell_type": "markdown",
   "metadata": {
    "slideshow": {
     "slide_type": "slide"
    }
   },
   "source": [
    "Lendo o dataframe a partir do csv"
   ]
  },
  {
   "cell_type": "code",
   "execution_count": 198,
   "metadata": {
    "ExecuteTime": {
     "end_time": "2021-02-05T22:49:32.184242Z",
     "start_time": "2021-02-05T22:49:32.178145Z"
    },
    "slideshow": {
     "slide_type": "fragment"
    }
   },
   "outputs": [],
   "source": [
    "taxas_csv = pd.read_csv('taxas.csv')"
   ]
  },
  {
   "cell_type": "code",
   "execution_count": 199,
   "metadata": {
    "ExecuteTime": {
     "end_time": "2021-02-05T22:49:34.006449Z",
     "start_time": "2021-02-05T22:49:33.995933Z"
    },
    "scrolled": true,
    "slideshow": {
     "slide_type": "fragment"
    }
   },
   "outputs": [
    {
     "data": {
      "text/html": [
       "<div>\n",
       "<style scoped>\n",
       "    .dataframe tbody tr th:only-of-type {\n",
       "        vertical-align: middle;\n",
       "    }\n",
       "\n",
       "    .dataframe tbody tr th {\n",
       "        vertical-align: top;\n",
       "    }\n",
       "\n",
       "    .dataframe thead th {\n",
       "        text-align: right;\n",
       "    }\n",
       "</style>\n",
       "<table border=\"1\" class=\"dataframe\">\n",
       "  <thead>\n",
       "    <tr style=\"text-align: right;\">\n",
       "      <th></th>\n",
       "      <th>Unnamed: 0</th>\n",
       "      <th>USD</th>\n",
       "      <th>EUR</th>\n",
       "      <th>GBP</th>\n",
       "    </tr>\n",
       "  </thead>\n",
       "  <tbody>\n",
       "    <tr>\n",
       "      <th>0</th>\n",
       "      <td>USD</td>\n",
       "      <td>1.00</td>\n",
       "      <td>0.91</td>\n",
       "      <td>0.79</td>\n",
       "    </tr>\n",
       "    <tr>\n",
       "      <th>1</th>\n",
       "      <td>EUR</td>\n",
       "      <td>1.10</td>\n",
       "      <td>1.00</td>\n",
       "      <td>0.87</td>\n",
       "    </tr>\n",
       "    <tr>\n",
       "      <th>2</th>\n",
       "      <td>GBP</td>\n",
       "      <td>1.26</td>\n",
       "      <td>1.14</td>\n",
       "      <td>1.00</td>\n",
       "    </tr>\n",
       "  </tbody>\n",
       "</table>\n",
       "</div>"
      ],
      "text/plain": [
       "  Unnamed: 0   USD   EUR   GBP\n",
       "0        USD  1.00  0.91  0.79\n",
       "1        EUR  1.10  1.00  0.87\n",
       "2        GBP  1.26  1.14  1.00"
      ]
     },
     "execution_count": 199,
     "metadata": {},
     "output_type": "execute_result"
    }
   ],
   "source": [
    "taxas_csv"
   ]
  },
  {
   "cell_type": "code",
   "execution_count": 200,
   "metadata": {},
   "outputs": [
    {
     "data": {
      "text/plain": [
       "pandas.core.frame.DataFrame"
      ]
     },
     "execution_count": 200,
     "metadata": {},
     "output_type": "execute_result"
    }
   ],
   "source": [
    "type(taxas_csv)"
   ]
  },
  {
   "cell_type": "code",
   "execution_count": 201,
   "metadata": {
    "ExecuteTime": {
     "end_time": "2021-02-05T22:50:28.471157Z",
     "start_time": "2021-02-05T22:50:28.454495Z"
    },
    "slideshow": {
     "slide_type": "slide"
    }
   },
   "outputs": [
    {
     "data": {
      "text/html": [
       "<div>\n",
       "<style scoped>\n",
       "    .dataframe tbody tr th:only-of-type {\n",
       "        vertical-align: middle;\n",
       "    }\n",
       "\n",
       "    .dataframe tbody tr th {\n",
       "        vertical-align: top;\n",
       "    }\n",
       "\n",
       "    .dataframe thead th {\n",
       "        text-align: right;\n",
       "    }\n",
       "</style>\n",
       "<table border=\"1\" class=\"dataframe\">\n",
       "  <thead>\n",
       "    <tr style=\"text-align: right;\">\n",
       "      <th></th>\n",
       "      <th>USD</th>\n",
       "      <th>EUR</th>\n",
       "      <th>GBP</th>\n",
       "    </tr>\n",
       "  </thead>\n",
       "  <tbody>\n",
       "    <tr>\n",
       "      <th>USD</th>\n",
       "      <td>1.00</td>\n",
       "      <td>0.91</td>\n",
       "      <td>0.79</td>\n",
       "    </tr>\n",
       "    <tr>\n",
       "      <th>EUR</th>\n",
       "      <td>1.10</td>\n",
       "      <td>1.00</td>\n",
       "      <td>0.87</td>\n",
       "    </tr>\n",
       "    <tr>\n",
       "      <th>GBP</th>\n",
       "      <td>1.26</td>\n",
       "      <td>1.14</td>\n",
       "      <td>1.00</td>\n",
       "    </tr>\n",
       "  </tbody>\n",
       "</table>\n",
       "</div>"
      ],
      "text/plain": [
       "      USD   EUR   GBP\n",
       "USD  1.00  0.91  0.79\n",
       "EUR  1.10  1.00  0.87\n",
       "GBP  1.26  1.14  1.00"
      ]
     },
     "execution_count": 201,
     "metadata": {},
     "output_type": "execute_result"
    }
   ],
   "source": [
    "taxas_csv = pd.read_csv('taxas.csv', index_col=0)\n",
    "taxas_csv"
   ]
  },
  {
   "cell_type": "markdown",
   "metadata": {
    "slideshow": {
     "slide_type": "slide"
    }
   },
   "source": [
    "## (LAB) Atividade Digirida - Análise dos Imóveis em SP\n",
    "\n",
    "O nosso conjunto de dados está disponível no Kaggle em https://www.kaggle.com/argonalyst/sao-paulo-real-estate-sale-rent-april-2019 \n",
    "\n",
    "![https://images.adsttc.com/media/images/5388/772a/c07a/8028/7a00/0111/slideshow/rich-vs-poor.jpg?1401452327](https://images.adsttc.com/media/images/5388/772a/c07a/8028/7a00/0111/slideshow/rich-vs-poor.jpg?1401452327)<br>\n",
    "Foto: segregação urbana em SP - Paraisópolis\n",
    "\n"
   ]
  },
  {
   "cell_type": "markdown",
   "metadata": {
    "ExecuteTime": {
     "end_time": "2020-12-28T16:17:03.377078Z",
     "start_time": "2020-12-28T16:17:03.373779Z"
    },
    "slideshow": {
     "slide_type": "slide"
    }
   },
   "source": [
    "- O arquivo é um csv, e está disponível neste endereço: https://tinyurl.com/alugueis-sp-df\n",
    "\n",
    "- Vamos fazer uso do Pandas para ler os dados"
   ]
  },
  {
   "cell_type": "code",
   "execution_count": 202,
   "metadata": {},
   "outputs": [],
   "source": [
    "import pandas as pd"
   ]
  },
  {
   "cell_type": "code",
   "execution_count": 203,
   "metadata": {
    "ExecuteTime": {
     "end_time": "2021-02-06T09:42:08.706876Z",
     "start_time": "2021-02-06T09:42:04.060664Z"
    },
    "slideshow": {
     "slide_type": "fragment"
    }
   },
   "outputs": [],
   "source": [
    "imoveisSP = pd.read_csv('https://tinyurl.com/alugueis-sp-df')"
   ]
  },
  {
   "cell_type": "code",
   "execution_count": 204,
   "metadata": {
    "ExecuteTime": {
     "end_time": "2021-02-06T09:42:08.723310Z",
     "start_time": "2021-02-06T09:42:08.708523Z"
    },
    "slideshow": {
     "slide_type": "fragment"
    }
   },
   "outputs": [
    {
     "data": {
      "text/html": [
       "<div>\n",
       "<style scoped>\n",
       "    .dataframe tbody tr th:only-of-type {\n",
       "        vertical-align: middle;\n",
       "    }\n",
       "\n",
       "    .dataframe tbody tr th {\n",
       "        vertical-align: top;\n",
       "    }\n",
       "\n",
       "    .dataframe thead th {\n",
       "        text-align: right;\n",
       "    }\n",
       "</style>\n",
       "<table border=\"1\" class=\"dataframe\">\n",
       "  <thead>\n",
       "    <tr style=\"text-align: right;\">\n",
       "      <th></th>\n",
       "      <th>Price</th>\n",
       "      <th>Condo</th>\n",
       "      <th>Size</th>\n",
       "      <th>Rooms</th>\n",
       "      <th>Toilets</th>\n",
       "      <th>Suites</th>\n",
       "      <th>Parking</th>\n",
       "      <th>Elevator</th>\n",
       "      <th>Furnished</th>\n",
       "      <th>Swimming Pool</th>\n",
       "      <th>New</th>\n",
       "      <th>District</th>\n",
       "      <th>Negotiation Type</th>\n",
       "      <th>Property Type</th>\n",
       "      <th>Latitude</th>\n",
       "      <th>Longitude</th>\n",
       "    </tr>\n",
       "  </thead>\n",
       "  <tbody>\n",
       "    <tr>\n",
       "      <th>0</th>\n",
       "      <td>930</td>\n",
       "      <td>220</td>\n",
       "      <td>47</td>\n",
       "      <td>2</td>\n",
       "      <td>2</td>\n",
       "      <td>1</td>\n",
       "      <td>1</td>\n",
       "      <td>0</td>\n",
       "      <td>0</td>\n",
       "      <td>0</td>\n",
       "      <td>0</td>\n",
       "      <td>Artur Alvim/São Paulo</td>\n",
       "      <td>rent</td>\n",
       "      <td>apartment</td>\n",
       "      <td>-23.543138</td>\n",
       "      <td>-46.479486</td>\n",
       "    </tr>\n",
       "    <tr>\n",
       "      <th>1</th>\n",
       "      <td>1000</td>\n",
       "      <td>148</td>\n",
       "      <td>45</td>\n",
       "      <td>2</td>\n",
       "      <td>2</td>\n",
       "      <td>1</td>\n",
       "      <td>1</td>\n",
       "      <td>0</td>\n",
       "      <td>0</td>\n",
       "      <td>0</td>\n",
       "      <td>0</td>\n",
       "      <td>Artur Alvim/São Paulo</td>\n",
       "      <td>rent</td>\n",
       "      <td>apartment</td>\n",
       "      <td>-23.550239</td>\n",
       "      <td>-46.480718</td>\n",
       "    </tr>\n",
       "    <tr>\n",
       "      <th>2</th>\n",
       "      <td>1000</td>\n",
       "      <td>100</td>\n",
       "      <td>48</td>\n",
       "      <td>2</td>\n",
       "      <td>2</td>\n",
       "      <td>1</td>\n",
       "      <td>1</td>\n",
       "      <td>0</td>\n",
       "      <td>0</td>\n",
       "      <td>0</td>\n",
       "      <td>0</td>\n",
       "      <td>Artur Alvim/São Paulo</td>\n",
       "      <td>rent</td>\n",
       "      <td>apartment</td>\n",
       "      <td>-23.542818</td>\n",
       "      <td>-46.485665</td>\n",
       "    </tr>\n",
       "    <tr>\n",
       "      <th>3</th>\n",
       "      <td>1000</td>\n",
       "      <td>200</td>\n",
       "      <td>48</td>\n",
       "      <td>2</td>\n",
       "      <td>2</td>\n",
       "      <td>1</td>\n",
       "      <td>1</td>\n",
       "      <td>0</td>\n",
       "      <td>0</td>\n",
       "      <td>0</td>\n",
       "      <td>0</td>\n",
       "      <td>Artur Alvim/São Paulo</td>\n",
       "      <td>rent</td>\n",
       "      <td>apartment</td>\n",
       "      <td>-23.547171</td>\n",
       "      <td>-46.483014</td>\n",
       "    </tr>\n",
       "    <tr>\n",
       "      <th>4</th>\n",
       "      <td>1300</td>\n",
       "      <td>410</td>\n",
       "      <td>55</td>\n",
       "      <td>2</td>\n",
       "      <td>2</td>\n",
       "      <td>1</td>\n",
       "      <td>1</td>\n",
       "      <td>1</td>\n",
       "      <td>0</td>\n",
       "      <td>0</td>\n",
       "      <td>0</td>\n",
       "      <td>Artur Alvim/São Paulo</td>\n",
       "      <td>rent</td>\n",
       "      <td>apartment</td>\n",
       "      <td>-23.525025</td>\n",
       "      <td>-46.482436</td>\n",
       "    </tr>\n",
       "  </tbody>\n",
       "</table>\n",
       "</div>"
      ],
      "text/plain": [
       "   Price  Condo  Size  Rooms  Toilets  Suites  Parking  Elevator  Furnished  \\\n",
       "0    930    220    47      2        2       1        1         0          0   \n",
       "1   1000    148    45      2        2       1        1         0          0   \n",
       "2   1000    100    48      2        2       1        1         0          0   \n",
       "3   1000    200    48      2        2       1        1         0          0   \n",
       "4   1300    410    55      2        2       1        1         1          0   \n",
       "\n",
       "   Swimming Pool  New               District Negotiation Type Property Type  \\\n",
       "0              0    0  Artur Alvim/São Paulo             rent     apartment   \n",
       "1              0    0  Artur Alvim/São Paulo             rent     apartment   \n",
       "2              0    0  Artur Alvim/São Paulo             rent     apartment   \n",
       "3              0    0  Artur Alvim/São Paulo             rent     apartment   \n",
       "4              0    0  Artur Alvim/São Paulo             rent     apartment   \n",
       "\n",
       "    Latitude  Longitude  \n",
       "0 -23.543138 -46.479486  \n",
       "1 -23.550239 -46.480718  \n",
       "2 -23.542818 -46.485665  \n",
       "3 -23.547171 -46.483014  \n",
       "4 -23.525025 -46.482436  "
      ]
     },
     "execution_count": 204,
     "metadata": {},
     "output_type": "execute_result"
    }
   ],
   "source": [
    "imoveisSP.head()"
   ]
  },
  {
   "cell_type": "code",
   "execution_count": 205,
   "metadata": {
    "ExecuteTime": {
     "end_time": "2021-02-06T09:42:08.727740Z",
     "start_time": "2021-02-06T09:42:08.725110Z"
    },
    "slideshow": {
     "slide_type": "fragment"
    }
   },
   "outputs": [
    {
     "data": {
      "text/plain": [
       "(13640, 16)"
      ]
     },
     "execution_count": 205,
     "metadata": {},
     "output_type": "execute_result"
    }
   ],
   "source": [
    "imoveisSP.shape"
   ]
  },
  {
   "cell_type": "code",
   "execution_count": 206,
   "metadata": {
    "ExecuteTime": {
     "end_time": "2021-02-06T09:42:13.429641Z",
     "start_time": "2021-02-06T09:42:13.417547Z"
    },
    "slideshow": {
     "slide_type": "slide"
    }
   },
   "outputs": [
    {
     "name": "stdout",
     "output_type": "stream",
     "text": [
      "<class 'pandas.core.frame.DataFrame'>\n",
      "RangeIndex: 13640 entries, 0 to 13639\n",
      "Data columns (total 16 columns):\n",
      " #   Column            Non-Null Count  Dtype  \n",
      "---  ------            --------------  -----  \n",
      " 0   Price             13640 non-null  int64  \n",
      " 1   Condo             13640 non-null  int64  \n",
      " 2   Size              13640 non-null  int64  \n",
      " 3   Rooms             13640 non-null  int64  \n",
      " 4   Toilets           13640 non-null  int64  \n",
      " 5   Suites            13640 non-null  int64  \n",
      " 6   Parking           13640 non-null  int64  \n",
      " 7   Elevator          13640 non-null  int64  \n",
      " 8   Furnished         13640 non-null  int64  \n",
      " 9   Swimming Pool     13640 non-null  int64  \n",
      " 10  New               13640 non-null  int64  \n",
      " 11  District          13640 non-null  object \n",
      " 12  Negotiation Type  13640 non-null  object \n",
      " 13  Property Type     13640 non-null  object \n",
      " 14  Latitude          13640 non-null  float64\n",
      " 15  Longitude         13640 non-null  float64\n",
      "dtypes: float64(2), int64(11), object(3)\n",
      "memory usage: 1.7+ MB\n"
     ]
    }
   ],
   "source": [
    "imoveisSP.info()"
   ]
  },
  {
   "cell_type": "code",
   "execution_count": 207,
   "metadata": {
    "ExecuteTime": {
     "end_time": "2021-02-06T09:42:15.216465Z",
     "start_time": "2021-02-06T09:42:15.172408Z"
    },
    "slideshow": {
     "slide_type": "slide"
    }
   },
   "outputs": [
    {
     "data": {
      "text/html": [
       "<div>\n",
       "<style scoped>\n",
       "    .dataframe tbody tr th:only-of-type {\n",
       "        vertical-align: middle;\n",
       "    }\n",
       "\n",
       "    .dataframe tbody tr th {\n",
       "        vertical-align: top;\n",
       "    }\n",
       "\n",
       "    .dataframe thead th {\n",
       "        text-align: right;\n",
       "    }\n",
       "</style>\n",
       "<table border=\"1\" class=\"dataframe\">\n",
       "  <thead>\n",
       "    <tr style=\"text-align: right;\">\n",
       "      <th></th>\n",
       "      <th>Price</th>\n",
       "      <th>Condo</th>\n",
       "      <th>Size</th>\n",
       "      <th>Rooms</th>\n",
       "      <th>Toilets</th>\n",
       "      <th>Suites</th>\n",
       "      <th>Parking</th>\n",
       "      <th>Elevator</th>\n",
       "      <th>Furnished</th>\n",
       "      <th>Swimming Pool</th>\n",
       "      <th>New</th>\n",
       "      <th>Latitude</th>\n",
       "      <th>Longitude</th>\n",
       "    </tr>\n",
       "  </thead>\n",
       "  <tbody>\n",
       "    <tr>\n",
       "      <th>count</th>\n",
       "      <td>1.364000e+04</td>\n",
       "      <td>13640.000000</td>\n",
       "      <td>13640.000000</td>\n",
       "      <td>13640.000000</td>\n",
       "      <td>13640.000000</td>\n",
       "      <td>13640.000000</td>\n",
       "      <td>13640.000000</td>\n",
       "      <td>13640.000000</td>\n",
       "      <td>13640.000000</td>\n",
       "      <td>13640.00000</td>\n",
       "      <td>13640.000000</td>\n",
       "      <td>13640.000000</td>\n",
       "      <td>13640.000000</td>\n",
       "    </tr>\n",
       "    <tr>\n",
       "      <th>mean</th>\n",
       "      <td>2.877378e+05</td>\n",
       "      <td>689.882331</td>\n",
       "      <td>84.373900</td>\n",
       "      <td>2.312023</td>\n",
       "      <td>2.073680</td>\n",
       "      <td>0.980792</td>\n",
       "      <td>1.393182</td>\n",
       "      <td>0.354179</td>\n",
       "      <td>0.146774</td>\n",
       "      <td>0.51217</td>\n",
       "      <td>0.015616</td>\n",
       "      <td>-22.077047</td>\n",
       "      <td>-43.597088</td>\n",
       "    </tr>\n",
       "    <tr>\n",
       "      <th>std</th>\n",
       "      <td>5.908214e+05</td>\n",
       "      <td>757.649363</td>\n",
       "      <td>58.435676</td>\n",
       "      <td>0.777461</td>\n",
       "      <td>0.961803</td>\n",
       "      <td>0.834891</td>\n",
       "      <td>0.829932</td>\n",
       "      <td>0.478281</td>\n",
       "      <td>0.353894</td>\n",
       "      <td>0.49987</td>\n",
       "      <td>0.123988</td>\n",
       "      <td>5.866633</td>\n",
       "      <td>11.487288</td>\n",
       "    </tr>\n",
       "    <tr>\n",
       "      <th>min</th>\n",
       "      <td>4.800000e+02</td>\n",
       "      <td>0.000000</td>\n",
       "      <td>30.000000</td>\n",
       "      <td>1.000000</td>\n",
       "      <td>1.000000</td>\n",
       "      <td>0.000000</td>\n",
       "      <td>0.000000</td>\n",
       "      <td>0.000000</td>\n",
       "      <td>0.000000</td>\n",
       "      <td>0.00000</td>\n",
       "      <td>0.000000</td>\n",
       "      <td>-46.749039</td>\n",
       "      <td>-58.364352</td>\n",
       "    </tr>\n",
       "    <tr>\n",
       "      <th>25%</th>\n",
       "      <td>1.858750e+03</td>\n",
       "      <td>290.000000</td>\n",
       "      <td>50.000000</td>\n",
       "      <td>2.000000</td>\n",
       "      <td>2.000000</td>\n",
       "      <td>1.000000</td>\n",
       "      <td>1.000000</td>\n",
       "      <td>0.000000</td>\n",
       "      <td>0.000000</td>\n",
       "      <td>0.00000</td>\n",
       "      <td>0.000000</td>\n",
       "      <td>-23.594552</td>\n",
       "      <td>-46.681671</td>\n",
       "    </tr>\n",
       "    <tr>\n",
       "      <th>50%</th>\n",
       "      <td>8.100000e+03</td>\n",
       "      <td>500.000000</td>\n",
       "      <td>65.000000</td>\n",
       "      <td>2.000000</td>\n",
       "      <td>2.000000</td>\n",
       "      <td>1.000000</td>\n",
       "      <td>1.000000</td>\n",
       "      <td>0.000000</td>\n",
       "      <td>0.000000</td>\n",
       "      <td>1.00000</td>\n",
       "      <td>0.000000</td>\n",
       "      <td>-23.552813</td>\n",
       "      <td>-46.637255</td>\n",
       "    </tr>\n",
       "    <tr>\n",
       "      <th>75%</th>\n",
       "      <td>3.600000e+05</td>\n",
       "      <td>835.000000</td>\n",
       "      <td>94.000000</td>\n",
       "      <td>3.000000</td>\n",
       "      <td>2.000000</td>\n",
       "      <td>1.000000</td>\n",
       "      <td>2.000000</td>\n",
       "      <td>1.000000</td>\n",
       "      <td>0.000000</td>\n",
       "      <td>1.00000</td>\n",
       "      <td>0.000000</td>\n",
       "      <td>-23.517640</td>\n",
       "      <td>-46.560040</td>\n",
       "    </tr>\n",
       "    <tr>\n",
       "      <th>max</th>\n",
       "      <td>1.000000e+07</td>\n",
       "      <td>9500.000000</td>\n",
       "      <td>880.000000</td>\n",
       "      <td>10.000000</td>\n",
       "      <td>8.000000</td>\n",
       "      <td>6.000000</td>\n",
       "      <td>9.000000</td>\n",
       "      <td>1.000000</td>\n",
       "      <td>1.000000</td>\n",
       "      <td>1.00000</td>\n",
       "      <td>1.000000</td>\n",
       "      <td>0.000000</td>\n",
       "      <td>0.000000</td>\n",
       "    </tr>\n",
       "  </tbody>\n",
       "</table>\n",
       "</div>"
      ],
      "text/plain": [
       "              Price         Condo          Size         Rooms       Toilets  \\\n",
       "count  1.364000e+04  13640.000000  13640.000000  13640.000000  13640.000000   \n",
       "mean   2.877378e+05    689.882331     84.373900      2.312023      2.073680   \n",
       "std    5.908214e+05    757.649363     58.435676      0.777461      0.961803   \n",
       "min    4.800000e+02      0.000000     30.000000      1.000000      1.000000   \n",
       "25%    1.858750e+03    290.000000     50.000000      2.000000      2.000000   \n",
       "50%    8.100000e+03    500.000000     65.000000      2.000000      2.000000   \n",
       "75%    3.600000e+05    835.000000     94.000000      3.000000      2.000000   \n",
       "max    1.000000e+07   9500.000000    880.000000     10.000000      8.000000   \n",
       "\n",
       "             Suites       Parking      Elevator     Furnished  Swimming Pool  \\\n",
       "count  13640.000000  13640.000000  13640.000000  13640.000000    13640.00000   \n",
       "mean       0.980792      1.393182      0.354179      0.146774        0.51217   \n",
       "std        0.834891      0.829932      0.478281      0.353894        0.49987   \n",
       "min        0.000000      0.000000      0.000000      0.000000        0.00000   \n",
       "25%        1.000000      1.000000      0.000000      0.000000        0.00000   \n",
       "50%        1.000000      1.000000      0.000000      0.000000        1.00000   \n",
       "75%        1.000000      2.000000      1.000000      0.000000        1.00000   \n",
       "max        6.000000      9.000000      1.000000      1.000000        1.00000   \n",
       "\n",
       "                New      Latitude     Longitude  \n",
       "count  13640.000000  13640.000000  13640.000000  \n",
       "mean       0.015616    -22.077047    -43.597088  \n",
       "std        0.123988      5.866633     11.487288  \n",
       "min        0.000000    -46.749039    -58.364352  \n",
       "25%        0.000000    -23.594552    -46.681671  \n",
       "50%        0.000000    -23.552813    -46.637255  \n",
       "75%        0.000000    -23.517640    -46.560040  \n",
       "max        1.000000      0.000000      0.000000  "
      ]
     },
     "execution_count": 207,
     "metadata": {},
     "output_type": "execute_result"
    }
   ],
   "source": [
    "imoveisSP.describe()"
   ]
  },
  {
   "cell_type": "markdown",
   "metadata": {
    "ExecuteTime": {
     "end_time": "2020-12-24T16:03:13.913228Z",
     "start_time": "2020-12-24T16:03:13.910066Z"
    },
    "slideshow": {
     "slide_type": "slide"
    }
   },
   "source": [
    "- Extraindo uma Series de um Dataframe"
   ]
  },
  {
   "cell_type": "code",
   "execution_count": 208,
   "metadata": {
    "ExecuteTime": {
     "end_time": "2021-02-06T09:42:17.832740Z",
     "start_time": "2021-02-06T09:42:17.828100Z"
    },
    "slideshow": {
     "slide_type": "fragment"
    }
   },
   "outputs": [
    {
     "data": {
      "text/plain": [
       "0           930\n",
       "1          1000\n",
       "2          1000\n",
       "3          1000\n",
       "4          1300\n",
       "          ...  \n",
       "13635    265000\n",
       "13636    545000\n",
       "13637    515000\n",
       "13638    345000\n",
       "13639    161987\n",
       "Name: Price, Length: 13640, dtype: int64"
      ]
     },
     "execution_count": 208,
     "metadata": {},
     "output_type": "execute_result"
    }
   ],
   "source": [
    "imoveisSP['Price']"
   ]
  },
  {
   "cell_type": "markdown",
   "metadata": {
    "slideshow": {
     "slide_type": "slide"
    }
   },
   "source": [
    "- Convertendo uma Series em um Numpy Array"
   ]
  },
  {
   "cell_type": "code",
   "execution_count": 209,
   "metadata": {
    "ExecuteTime": {
     "end_time": "2021-02-06T09:42:20.483923Z",
     "start_time": "2021-02-06T09:42:20.480385Z"
    },
    "slideshow": {
     "slide_type": "fragment"
    }
   },
   "outputs": [
    {
     "data": {
      "text/plain": [
       "array([   930,   1000,   1000, ..., 515000, 345000, 161987])"
      ]
     },
     "execution_count": 209,
     "metadata": {},
     "output_type": "execute_result"
    }
   ],
   "source": [
    "imoveisSP['Price'].values"
   ]
  },
  {
   "cell_type": "markdown",
   "metadata": {
    "slideshow": {
     "slide_type": "slide"
    }
   },
   "source": [
    "- Filtrando DataFrames\n",
    "\n",
    "- É possível fazer filtros a partir de valores de colunas com o Pandas DataFrame\n",
    "- Por exemplo, vamos filtrar os imóveis com valor acima de R$ 1500,00"
   ]
  },
  {
   "cell_type": "code",
   "execution_count": 210,
   "metadata": {
    "ExecuteTime": {
     "end_time": "2021-02-06T09:42:24.056090Z",
     "start_time": "2021-02-06T09:42:24.053442Z"
    },
    "slideshow": {
     "slide_type": "fragment"
    }
   },
   "outputs": [],
   "source": [
    "mascara = imoveisSP['Price'] > 1500"
   ]
  },
  {
   "cell_type": "code",
   "execution_count": 211,
   "metadata": {
    "ExecuteTime": {
     "end_time": "2021-02-06T09:42:26.532351Z",
     "start_time": "2021-02-06T09:42:26.527776Z"
    },
    "slideshow": {
     "slide_type": "fragment"
    }
   },
   "outputs": [
    {
     "data": {
      "text/plain": [
       "0        False\n",
       "1        False\n",
       "2        False\n",
       "3        False\n",
       "4        False\n",
       "         ...  \n",
       "13635     True\n",
       "13636     True\n",
       "13637     True\n",
       "13638     True\n",
       "13639     True\n",
       "Name: Price, Length: 13640, dtype: bool"
      ]
     },
     "execution_count": 211,
     "metadata": {},
     "output_type": "execute_result"
    }
   ],
   "source": [
    "mascara"
   ]
  },
  {
   "cell_type": "code",
   "execution_count": 212,
   "metadata": {
    "ExecuteTime": {
     "end_time": "2021-02-06T09:42:29.215942Z",
     "start_time": "2021-02-06T09:42:29.211946Z"
    },
    "slideshow": {
     "slide_type": "fragment"
    }
   },
   "outputs": [
    {
     "data": {
      "text/plain": [
       "11118"
      ]
     },
     "execution_count": 212,
     "metadata": {},
     "output_type": "execute_result"
    }
   ],
   "source": [
    "mascara.sum()"
   ]
  },
  {
   "cell_type": "code",
   "execution_count": 213,
   "metadata": {
    "ExecuteTime": {
     "end_time": "2021-02-06T09:42:32.002476Z",
     "start_time": "2021-02-06T09:42:31.972569Z"
    },
    "slideshow": {
     "slide_type": "slide"
    }
   },
   "outputs": [
    {
     "data": {
      "text/html": [
       "<div>\n",
       "<style scoped>\n",
       "    .dataframe tbody tr th:only-of-type {\n",
       "        vertical-align: middle;\n",
       "    }\n",
       "\n",
       "    .dataframe tbody tr th {\n",
       "        vertical-align: top;\n",
       "    }\n",
       "\n",
       "    .dataframe thead th {\n",
       "        text-align: right;\n",
       "    }\n",
       "</style>\n",
       "<table border=\"1\" class=\"dataframe\">\n",
       "  <thead>\n",
       "    <tr style=\"text-align: right;\">\n",
       "      <th></th>\n",
       "      <th>Price</th>\n",
       "      <th>Condo</th>\n",
       "      <th>Size</th>\n",
       "      <th>Rooms</th>\n",
       "      <th>Toilets</th>\n",
       "      <th>Suites</th>\n",
       "      <th>Parking</th>\n",
       "      <th>Elevator</th>\n",
       "      <th>Furnished</th>\n",
       "      <th>Swimming Pool</th>\n",
       "      <th>New</th>\n",
       "      <th>District</th>\n",
       "      <th>Negotiation Type</th>\n",
       "      <th>Property Type</th>\n",
       "      <th>Latitude</th>\n",
       "      <th>Longitude</th>\n",
       "    </tr>\n",
       "  </thead>\n",
       "  <tbody>\n",
       "    <tr>\n",
       "      <th>14</th>\n",
       "      <td>1800</td>\n",
       "      <td>418</td>\n",
       "      <td>54</td>\n",
       "      <td>2</td>\n",
       "      <td>2</td>\n",
       "      <td>1</td>\n",
       "      <td>1</td>\n",
       "      <td>1</td>\n",
       "      <td>0</td>\n",
       "      <td>1</td>\n",
       "      <td>0</td>\n",
       "      <td>Belém/São Paulo</td>\n",
       "      <td>rent</td>\n",
       "      <td>apartment</td>\n",
       "      <td>-23.543955</td>\n",
       "      <td>-46.586619</td>\n",
       "    </tr>\n",
       "    <tr>\n",
       "      <th>15</th>\n",
       "      <td>1600</td>\n",
       "      <td>416</td>\n",
       "      <td>45</td>\n",
       "      <td>2</td>\n",
       "      <td>2</td>\n",
       "      <td>1</td>\n",
       "      <td>1</td>\n",
       "      <td>0</td>\n",
       "      <td>0</td>\n",
       "      <td>0</td>\n",
       "      <td>0</td>\n",
       "      <td>Belém/São Paulo</td>\n",
       "      <td>rent</td>\n",
       "      <td>apartment</td>\n",
       "      <td>-23.544698</td>\n",
       "      <td>-46.602114</td>\n",
       "    </tr>\n",
       "    <tr>\n",
       "      <th>17</th>\n",
       "      <td>1600</td>\n",
       "      <td>306</td>\n",
       "      <td>43</td>\n",
       "      <td>2</td>\n",
       "      <td>2</td>\n",
       "      <td>1</td>\n",
       "      <td>1</td>\n",
       "      <td>1</td>\n",
       "      <td>0</td>\n",
       "      <td>0</td>\n",
       "      <td>0</td>\n",
       "      <td>Belém/São Paulo</td>\n",
       "      <td>rent</td>\n",
       "      <td>apartment</td>\n",
       "      <td>-23.534606</td>\n",
       "      <td>-46.595084</td>\n",
       "    </tr>\n",
       "    <tr>\n",
       "      <th>18</th>\n",
       "      <td>1600</td>\n",
       "      <td>150</td>\n",
       "      <td>80</td>\n",
       "      <td>2</td>\n",
       "      <td>2</td>\n",
       "      <td>1</td>\n",
       "      <td>1</td>\n",
       "      <td>1</td>\n",
       "      <td>0</td>\n",
       "      <td>0</td>\n",
       "      <td>0</td>\n",
       "      <td>Belém/São Paulo</td>\n",
       "      <td>rent</td>\n",
       "      <td>apartment</td>\n",
       "      <td>-23.539620</td>\n",
       "      <td>-46.596337</td>\n",
       "    </tr>\n",
       "    <tr>\n",
       "      <th>19</th>\n",
       "      <td>1600</td>\n",
       "      <td>420</td>\n",
       "      <td>46</td>\n",
       "      <td>2</td>\n",
       "      <td>2</td>\n",
       "      <td>1</td>\n",
       "      <td>1</td>\n",
       "      <td>0</td>\n",
       "      <td>0</td>\n",
       "      <td>0</td>\n",
       "      <td>0</td>\n",
       "      <td>Belém/São Paulo</td>\n",
       "      <td>rent</td>\n",
       "      <td>apartment</td>\n",
       "      <td>-23.544698</td>\n",
       "      <td>-46.602114</td>\n",
       "    </tr>\n",
       "    <tr>\n",
       "      <th>...</th>\n",
       "      <td>...</td>\n",
       "      <td>...</td>\n",
       "      <td>...</td>\n",
       "      <td>...</td>\n",
       "      <td>...</td>\n",
       "      <td>...</td>\n",
       "      <td>...</td>\n",
       "      <td>...</td>\n",
       "      <td>...</td>\n",
       "      <td>...</td>\n",
       "      <td>...</td>\n",
       "      <td>...</td>\n",
       "      <td>...</td>\n",
       "      <td>...</td>\n",
       "      <td>...</td>\n",
       "      <td>...</td>\n",
       "    </tr>\n",
       "    <tr>\n",
       "      <th>13635</th>\n",
       "      <td>265000</td>\n",
       "      <td>420</td>\n",
       "      <td>51</td>\n",
       "      <td>2</td>\n",
       "      <td>1</td>\n",
       "      <td>0</td>\n",
       "      <td>1</td>\n",
       "      <td>0</td>\n",
       "      <td>0</td>\n",
       "      <td>0</td>\n",
       "      <td>0</td>\n",
       "      <td>Jabaquara/São Paulo</td>\n",
       "      <td>sale</td>\n",
       "      <td>apartment</td>\n",
       "      <td>-23.653004</td>\n",
       "      <td>-46.635463</td>\n",
       "    </tr>\n",
       "    <tr>\n",
       "      <th>13636</th>\n",
       "      <td>545000</td>\n",
       "      <td>630</td>\n",
       "      <td>74</td>\n",
       "      <td>3</td>\n",
       "      <td>2</td>\n",
       "      <td>1</td>\n",
       "      <td>2</td>\n",
       "      <td>0</td>\n",
       "      <td>0</td>\n",
       "      <td>1</td>\n",
       "      <td>0</td>\n",
       "      <td>Jabaquara/São Paulo</td>\n",
       "      <td>sale</td>\n",
       "      <td>apartment</td>\n",
       "      <td>-23.648930</td>\n",
       "      <td>-46.641982</td>\n",
       "    </tr>\n",
       "    <tr>\n",
       "      <th>13637</th>\n",
       "      <td>515000</td>\n",
       "      <td>1100</td>\n",
       "      <td>114</td>\n",
       "      <td>3</td>\n",
       "      <td>3</td>\n",
       "      <td>1</td>\n",
       "      <td>1</td>\n",
       "      <td>0</td>\n",
       "      <td>0</td>\n",
       "      <td>1</td>\n",
       "      <td>0</td>\n",
       "      <td>Jabaquara/São Paulo</td>\n",
       "      <td>sale</td>\n",
       "      <td>apartment</td>\n",
       "      <td>-23.649693</td>\n",
       "      <td>-46.649783</td>\n",
       "    </tr>\n",
       "    <tr>\n",
       "      <th>13638</th>\n",
       "      <td>345000</td>\n",
       "      <td>48</td>\n",
       "      <td>39</td>\n",
       "      <td>1</td>\n",
       "      <td>2</td>\n",
       "      <td>1</td>\n",
       "      <td>1</td>\n",
       "      <td>0</td>\n",
       "      <td>1</td>\n",
       "      <td>1</td>\n",
       "      <td>0</td>\n",
       "      <td>Jabaquara/São Paulo</td>\n",
       "      <td>sale</td>\n",
       "      <td>apartment</td>\n",
       "      <td>-23.652060</td>\n",
       "      <td>-46.637046</td>\n",
       "    </tr>\n",
       "    <tr>\n",
       "      <th>13639</th>\n",
       "      <td>161987</td>\n",
       "      <td>0</td>\n",
       "      <td>44</td>\n",
       "      <td>2</td>\n",
       "      <td>1</td>\n",
       "      <td>0</td>\n",
       "      <td>1</td>\n",
       "      <td>0</td>\n",
       "      <td>0</td>\n",
       "      <td>0</td>\n",
       "      <td>0</td>\n",
       "      <td>Jardim Ângela/São Paulo</td>\n",
       "      <td>sale</td>\n",
       "      <td>apartment</td>\n",
       "      <td>-23.613391</td>\n",
       "      <td>-46.523109</td>\n",
       "    </tr>\n",
       "  </tbody>\n",
       "</table>\n",
       "<p>11118 rows × 16 columns</p>\n",
       "</div>"
      ],
      "text/plain": [
       "        Price  Condo  Size  Rooms  Toilets  Suites  Parking  Elevator  \\\n",
       "14       1800    418    54      2        2       1        1         1   \n",
       "15       1600    416    45      2        2       1        1         0   \n",
       "17       1600    306    43      2        2       1        1         1   \n",
       "18       1600    150    80      2        2       1        1         1   \n",
       "19       1600    420    46      2        2       1        1         0   \n",
       "...       ...    ...   ...    ...      ...     ...      ...       ...   \n",
       "13635  265000    420    51      2        1       0        1         0   \n",
       "13636  545000    630    74      3        2       1        2         0   \n",
       "13637  515000   1100   114      3        3       1        1         0   \n",
       "13638  345000     48    39      1        2       1        1         0   \n",
       "13639  161987      0    44      2        1       0        1         0   \n",
       "\n",
       "       Furnished  Swimming Pool  New                 District  \\\n",
       "14             0              1    0          Belém/São Paulo   \n",
       "15             0              0    0          Belém/São Paulo   \n",
       "17             0              0    0          Belém/São Paulo   \n",
       "18             0              0    0          Belém/São Paulo   \n",
       "19             0              0    0          Belém/São Paulo   \n",
       "...          ...            ...  ...                      ...   \n",
       "13635          0              0    0      Jabaquara/São Paulo   \n",
       "13636          0              1    0      Jabaquara/São Paulo   \n",
       "13637          0              1    0      Jabaquara/São Paulo   \n",
       "13638          1              1    0      Jabaquara/São Paulo   \n",
       "13639          0              0    0  Jardim Ângela/São Paulo   \n",
       "\n",
       "      Negotiation Type Property Type   Latitude  Longitude  \n",
       "14                rent     apartment -23.543955 -46.586619  \n",
       "15                rent     apartment -23.544698 -46.602114  \n",
       "17                rent     apartment -23.534606 -46.595084  \n",
       "18                rent     apartment -23.539620 -46.596337  \n",
       "19                rent     apartment -23.544698 -46.602114  \n",
       "...                ...           ...        ...        ...  \n",
       "13635             sale     apartment -23.653004 -46.635463  \n",
       "13636             sale     apartment -23.648930 -46.641982  \n",
       "13637             sale     apartment -23.649693 -46.649783  \n",
       "13638             sale     apartment -23.652060 -46.637046  \n",
       "13639             sale     apartment -23.613391 -46.523109  \n",
       "\n",
       "[11118 rows x 16 columns]"
      ]
     },
     "execution_count": 213,
     "metadata": {},
     "output_type": "execute_result"
    }
   ],
   "source": [
    "imoveisSP[mascara]"
   ]
  },
  {
   "cell_type": "markdown",
   "metadata": {
    "ExecuteTime": {
     "end_time": "2020-12-24T16:06:26.349806Z",
     "start_time": "2020-12-24T16:06:26.345761Z"
    },
    "slideshow": {
     "slide_type": "slide"
    }
   },
   "source": [
    "- Dos imóveis com valor acima de R$ 1.500,00, como eles se distribuem entre os bairros?"
   ]
  },
  {
   "cell_type": "code",
   "execution_count": 214,
   "metadata": {
    "ExecuteTime": {
     "end_time": "2021-02-06T09:42:34.917316Z",
     "start_time": "2021-02-06T09:42:34.913209Z"
    },
    "slideshow": {
     "slide_type": "fragment"
    }
   },
   "outputs": [],
   "source": [
    "imoveisSP_1500 = imoveisSP[mascara]"
   ]
  },
  {
   "cell_type": "code",
   "execution_count": 215,
   "metadata": {
    "ExecuteTime": {
     "end_time": "2021-02-06T09:42:36.416840Z",
     "start_time": "2021-02-06T09:42:36.412027Z"
    },
    "slideshow": {
     "slide_type": "fragment"
    }
   },
   "outputs": [
    {
     "data": {
      "text/plain": [
       "14               Belém/São Paulo\n",
       "15               Belém/São Paulo\n",
       "17               Belém/São Paulo\n",
       "18               Belém/São Paulo\n",
       "19               Belém/São Paulo\n",
       "                  ...           \n",
       "13635        Jabaquara/São Paulo\n",
       "13636        Jabaquara/São Paulo\n",
       "13637        Jabaquara/São Paulo\n",
       "13638        Jabaquara/São Paulo\n",
       "13639    Jardim Ângela/São Paulo\n",
       "Name: District, Length: 11118, dtype: object"
      ]
     },
     "execution_count": 215,
     "metadata": {},
     "output_type": "execute_result"
    }
   ],
   "source": [
    "imoveisSP_1500['District']"
   ]
  },
  {
   "cell_type": "code",
   "execution_count": 216,
   "metadata": {
    "ExecuteTime": {
     "end_time": "2021-02-06T09:42:38.294430Z",
     "start_time": "2021-02-06T09:42:38.287714Z"
    },
    "slideshow": {
     "slide_type": "slide"
    }
   },
   "outputs": [
    {
     "data": {
      "text/plain": [
       "District\n",
       "Moema/São Paulo            293\n",
       "Mooca/São Paulo            253\n",
       "Brooklin/São Paulo         250\n",
       "Pinheiros/São Paulo        248\n",
       "Bela Vista/São Paulo       231\n",
       "                          ... \n",
       "Jardim Helena/São Paulo     39\n",
       "São Rafael/São Paulo        36\n",
       "Grajaú/São Paulo            35\n",
       "São Domingos/São Paulo      35\n",
       "Perus/São Paulo             30\n",
       "Name: count, Length: 96, dtype: int64"
      ]
     },
     "execution_count": 216,
     "metadata": {},
     "output_type": "execute_result"
    }
   ],
   "source": [
    "imoveisSP_1500['District'].value_counts()"
   ]
  },
  {
   "cell_type": "markdown",
   "metadata": {
    "slideshow": {
     "slide_type": "slide"
    }
   },
   "source": [
    "- Observe que não fizemos um filtro para que possamos diferenciar a venda e o aluguel dos imóveis. Como então garantir que queremos imoveis disponíveis para aluguel **e** que possuam valor acima de R$ 1.500,00?"
   ]
  },
  {
   "cell_type": "markdown",
   "metadata": {
    "slideshow": {
     "slide_type": "slide"
    }
   },
   "source": [
    "- Uma abordagem mais comum"
   ]
  },
  {
   "cell_type": "code",
   "execution_count": 217,
   "metadata": {
    "ExecuteTime": {
     "end_time": "2021-02-06T09:42:42.489126Z",
     "start_time": "2021-02-06T09:42:42.457627Z"
    },
    "slideshow": {
     "slide_type": "fragment"
    }
   },
   "outputs": [
    {
     "data": {
      "text/html": [
       "<div>\n",
       "<style scoped>\n",
       "    .dataframe tbody tr th:only-of-type {\n",
       "        vertical-align: middle;\n",
       "    }\n",
       "\n",
       "    .dataframe tbody tr th {\n",
       "        vertical-align: top;\n",
       "    }\n",
       "\n",
       "    .dataframe thead th {\n",
       "        text-align: right;\n",
       "    }\n",
       "</style>\n",
       "<table border=\"1\" class=\"dataframe\">\n",
       "  <thead>\n",
       "    <tr style=\"text-align: right;\">\n",
       "      <th></th>\n",
       "      <th>Price</th>\n",
       "      <th>Condo</th>\n",
       "      <th>Size</th>\n",
       "      <th>Rooms</th>\n",
       "      <th>Toilets</th>\n",
       "      <th>Suites</th>\n",
       "      <th>Parking</th>\n",
       "      <th>Elevator</th>\n",
       "      <th>Furnished</th>\n",
       "      <th>Swimming Pool</th>\n",
       "      <th>New</th>\n",
       "      <th>District</th>\n",
       "      <th>Negotiation Type</th>\n",
       "      <th>Property Type</th>\n",
       "      <th>Latitude</th>\n",
       "      <th>Longitude</th>\n",
       "    </tr>\n",
       "  </thead>\n",
       "  <tbody>\n",
       "    <tr>\n",
       "      <th>14</th>\n",
       "      <td>1800</td>\n",
       "      <td>418</td>\n",
       "      <td>54</td>\n",
       "      <td>2</td>\n",
       "      <td>2</td>\n",
       "      <td>1</td>\n",
       "      <td>1</td>\n",
       "      <td>1</td>\n",
       "      <td>0</td>\n",
       "      <td>1</td>\n",
       "      <td>0</td>\n",
       "      <td>Belém/São Paulo</td>\n",
       "      <td>rent</td>\n",
       "      <td>apartment</td>\n",
       "      <td>-23.543955</td>\n",
       "      <td>-46.586619</td>\n",
       "    </tr>\n",
       "    <tr>\n",
       "      <th>15</th>\n",
       "      <td>1600</td>\n",
       "      <td>416</td>\n",
       "      <td>45</td>\n",
       "      <td>2</td>\n",
       "      <td>2</td>\n",
       "      <td>1</td>\n",
       "      <td>1</td>\n",
       "      <td>0</td>\n",
       "      <td>0</td>\n",
       "      <td>0</td>\n",
       "      <td>0</td>\n",
       "      <td>Belém/São Paulo</td>\n",
       "      <td>rent</td>\n",
       "      <td>apartment</td>\n",
       "      <td>-23.544698</td>\n",
       "      <td>-46.602114</td>\n",
       "    </tr>\n",
       "    <tr>\n",
       "      <th>17</th>\n",
       "      <td>1600</td>\n",
       "      <td>306</td>\n",
       "      <td>43</td>\n",
       "      <td>2</td>\n",
       "      <td>2</td>\n",
       "      <td>1</td>\n",
       "      <td>1</td>\n",
       "      <td>1</td>\n",
       "      <td>0</td>\n",
       "      <td>0</td>\n",
       "      <td>0</td>\n",
       "      <td>Belém/São Paulo</td>\n",
       "      <td>rent</td>\n",
       "      <td>apartment</td>\n",
       "      <td>-23.534606</td>\n",
       "      <td>-46.595084</td>\n",
       "    </tr>\n",
       "    <tr>\n",
       "      <th>18</th>\n",
       "      <td>1600</td>\n",
       "      <td>150</td>\n",
       "      <td>80</td>\n",
       "      <td>2</td>\n",
       "      <td>2</td>\n",
       "      <td>1</td>\n",
       "      <td>1</td>\n",
       "      <td>1</td>\n",
       "      <td>0</td>\n",
       "      <td>0</td>\n",
       "      <td>0</td>\n",
       "      <td>Belém/São Paulo</td>\n",
       "      <td>rent</td>\n",
       "      <td>apartment</td>\n",
       "      <td>-23.539620</td>\n",
       "      <td>-46.596337</td>\n",
       "    </tr>\n",
       "    <tr>\n",
       "      <th>19</th>\n",
       "      <td>1600</td>\n",
       "      <td>420</td>\n",
       "      <td>46</td>\n",
       "      <td>2</td>\n",
       "      <td>2</td>\n",
       "      <td>1</td>\n",
       "      <td>1</td>\n",
       "      <td>0</td>\n",
       "      <td>0</td>\n",
       "      <td>0</td>\n",
       "      <td>0</td>\n",
       "      <td>Belém/São Paulo</td>\n",
       "      <td>rent</td>\n",
       "      <td>apartment</td>\n",
       "      <td>-23.544698</td>\n",
       "      <td>-46.602114</td>\n",
       "    </tr>\n",
       "    <tr>\n",
       "      <th>...</th>\n",
       "      <td>...</td>\n",
       "      <td>...</td>\n",
       "      <td>...</td>\n",
       "      <td>...</td>\n",
       "      <td>...</td>\n",
       "      <td>...</td>\n",
       "      <td>...</td>\n",
       "      <td>...</td>\n",
       "      <td>...</td>\n",
       "      <td>...</td>\n",
       "      <td>...</td>\n",
       "      <td>...</td>\n",
       "      <td>...</td>\n",
       "      <td>...</td>\n",
       "      <td>...</td>\n",
       "      <td>...</td>\n",
       "    </tr>\n",
       "    <tr>\n",
       "      <th>11205</th>\n",
       "      <td>3700</td>\n",
       "      <td>595</td>\n",
       "      <td>73</td>\n",
       "      <td>1</td>\n",
       "      <td>2</td>\n",
       "      <td>1</td>\n",
       "      <td>1</td>\n",
       "      <td>0</td>\n",
       "      <td>0</td>\n",
       "      <td>1</td>\n",
       "      <td>0</td>\n",
       "      <td>Brooklin/São Paulo</td>\n",
       "      <td>rent</td>\n",
       "      <td>apartment</td>\n",
       "      <td>-23.617682</td>\n",
       "      <td>-46.694963</td>\n",
       "    </tr>\n",
       "    <tr>\n",
       "      <th>11206</th>\n",
       "      <td>21000</td>\n",
       "      <td>3000</td>\n",
       "      <td>208</td>\n",
       "      <td>4</td>\n",
       "      <td>4</td>\n",
       "      <td>3</td>\n",
       "      <td>3</td>\n",
       "      <td>1</td>\n",
       "      <td>1</td>\n",
       "      <td>1</td>\n",
       "      <td>0</td>\n",
       "      <td>Brooklin/São Paulo</td>\n",
       "      <td>rent</td>\n",
       "      <td>apartment</td>\n",
       "      <td>-23.606891</td>\n",
       "      <td>-46.695934</td>\n",
       "    </tr>\n",
       "    <tr>\n",
       "      <th>11207</th>\n",
       "      <td>3800</td>\n",
       "      <td>710</td>\n",
       "      <td>55</td>\n",
       "      <td>1</td>\n",
       "      <td>1</td>\n",
       "      <td>0</td>\n",
       "      <td>1</td>\n",
       "      <td>0</td>\n",
       "      <td>1</td>\n",
       "      <td>1</td>\n",
       "      <td>0</td>\n",
       "      <td>Brooklin/São Paulo</td>\n",
       "      <td>rent</td>\n",
       "      <td>apartment</td>\n",
       "      <td>0.000000</td>\n",
       "      <td>0.000000</td>\n",
       "    </tr>\n",
       "    <tr>\n",
       "      <th>11208</th>\n",
       "      <td>5000</td>\n",
       "      <td>2354</td>\n",
       "      <td>205</td>\n",
       "      <td>3</td>\n",
       "      <td>2</td>\n",
       "      <td>1</td>\n",
       "      <td>2</td>\n",
       "      <td>1</td>\n",
       "      <td>0</td>\n",
       "      <td>0</td>\n",
       "      <td>0</td>\n",
       "      <td>Brooklin/São Paulo</td>\n",
       "      <td>rent</td>\n",
       "      <td>apartment</td>\n",
       "      <td>-23.612287</td>\n",
       "      <td>-46.681482</td>\n",
       "    </tr>\n",
       "    <tr>\n",
       "      <th>11209</th>\n",
       "      <td>15600</td>\n",
       "      <td>2300</td>\n",
       "      <td>162</td>\n",
       "      <td>3</td>\n",
       "      <td>4</td>\n",
       "      <td>3</td>\n",
       "      <td>3</td>\n",
       "      <td>0</td>\n",
       "      <td>0</td>\n",
       "      <td>1</td>\n",
       "      <td>0</td>\n",
       "      <td>Brooklin/São Paulo</td>\n",
       "      <td>rent</td>\n",
       "      <td>apartment</td>\n",
       "      <td>-23.615823</td>\n",
       "      <td>-46.685404</td>\n",
       "    </tr>\n",
       "  </tbody>\n",
       "</table>\n",
       "<p>4706 rows × 16 columns</p>\n",
       "</div>"
      ],
      "text/plain": [
       "       Price  Condo  Size  Rooms  Toilets  Suites  Parking  Elevator  \\\n",
       "14      1800    418    54      2        2       1        1         1   \n",
       "15      1600    416    45      2        2       1        1         0   \n",
       "17      1600    306    43      2        2       1        1         1   \n",
       "18      1600    150    80      2        2       1        1         1   \n",
       "19      1600    420    46      2        2       1        1         0   \n",
       "...      ...    ...   ...    ...      ...     ...      ...       ...   \n",
       "11205   3700    595    73      1        2       1        1         0   \n",
       "11206  21000   3000   208      4        4       3        3         1   \n",
       "11207   3800    710    55      1        1       0        1         0   \n",
       "11208   5000   2354   205      3        2       1        2         1   \n",
       "11209  15600   2300   162      3        4       3        3         0   \n",
       "\n",
       "       Furnished  Swimming Pool  New            District Negotiation Type  \\\n",
       "14             0              1    0     Belém/São Paulo             rent   \n",
       "15             0              0    0     Belém/São Paulo             rent   \n",
       "17             0              0    0     Belém/São Paulo             rent   \n",
       "18             0              0    0     Belém/São Paulo             rent   \n",
       "19             0              0    0     Belém/São Paulo             rent   \n",
       "...          ...            ...  ...                 ...              ...   \n",
       "11205          0              1    0  Brooklin/São Paulo             rent   \n",
       "11206          1              1    0  Brooklin/São Paulo             rent   \n",
       "11207          1              1    0  Brooklin/São Paulo             rent   \n",
       "11208          0              0    0  Brooklin/São Paulo             rent   \n",
       "11209          0              1    0  Brooklin/São Paulo             rent   \n",
       "\n",
       "      Property Type   Latitude  Longitude  \n",
       "14        apartment -23.543955 -46.586619  \n",
       "15        apartment -23.544698 -46.602114  \n",
       "17        apartment -23.534606 -46.595084  \n",
       "18        apartment -23.539620 -46.596337  \n",
       "19        apartment -23.544698 -46.602114  \n",
       "...             ...        ...        ...  \n",
       "11205     apartment -23.617682 -46.694963  \n",
       "11206     apartment -23.606891 -46.695934  \n",
       "11207     apartment   0.000000   0.000000  \n",
       "11208     apartment -23.612287 -46.681482  \n",
       "11209     apartment -23.615823 -46.685404  \n",
       "\n",
       "[4706 rows x 16 columns]"
      ]
     },
     "execution_count": 217,
     "metadata": {},
     "output_type": "execute_result"
    }
   ],
   "source": [
    "imoveisSP[(imoveisSP['Price'] > 1500) & (imoveisSP['Negotiation Type'] == 'rent')]"
   ]
  },
  {
   "cell_type": "markdown",
   "metadata": {
    "ExecuteTime": {
     "end_time": "2020-12-28T16:14:35.925805Z",
     "start_time": "2020-12-28T16:14:35.922232Z"
    },
    "slideshow": {
     "slide_type": "fragment"
    }
   },
   "source": [
    "<div class=\"alert alert-block alert-warning\">\n",
    "    <b>Atenção:</b> Enquanto que para o Python os operadores lógicos são <b>not</b>, <b>and</b>, <b>or</b>, no Pandas identificamos eles por <b>~</b>, <b>&</b> e <b>|</b>, respectivamente. </div>"
   ]
  },
  {
   "cell_type": "markdown",
   "metadata": {
    "slideshow": {
     "slide_type": "slide"
    }
   },
   "source": [
    "Muitos parênteses? Tente usar as funções `gt()` e `eq()`:\n",
    "gt() = greater than\n",
    "eq() = equal"
   ]
  },
  {
   "cell_type": "code",
   "execution_count": 220,
   "metadata": {
    "ExecuteTime": {
     "end_time": "2021-02-06T09:42:47.123580Z",
     "start_time": "2021-02-06T09:42:47.092047Z"
    },
    "slideshow": {
     "slide_type": "fragment"
    }
   },
   "outputs": [
    {
     "data": {
      "text/html": [
       "<div>\n",
       "<style scoped>\n",
       "    .dataframe tbody tr th:only-of-type {\n",
       "        vertical-align: middle;\n",
       "    }\n",
       "\n",
       "    .dataframe tbody tr th {\n",
       "        vertical-align: top;\n",
       "    }\n",
       "\n",
       "    .dataframe thead th {\n",
       "        text-align: right;\n",
       "    }\n",
       "</style>\n",
       "<table border=\"1\" class=\"dataframe\">\n",
       "  <thead>\n",
       "    <tr style=\"text-align: right;\">\n",
       "      <th></th>\n",
       "      <th>Price</th>\n",
       "      <th>Condo</th>\n",
       "      <th>Size</th>\n",
       "      <th>Rooms</th>\n",
       "      <th>Toilets</th>\n",
       "      <th>Suites</th>\n",
       "      <th>Parking</th>\n",
       "      <th>Elevator</th>\n",
       "      <th>Furnished</th>\n",
       "      <th>Swimming Pool</th>\n",
       "      <th>New</th>\n",
       "      <th>District</th>\n",
       "      <th>Negotiation Type</th>\n",
       "      <th>Property Type</th>\n",
       "      <th>Latitude</th>\n",
       "      <th>Longitude</th>\n",
       "    </tr>\n",
       "  </thead>\n",
       "  <tbody>\n",
       "    <tr>\n",
       "      <th>14</th>\n",
       "      <td>1800</td>\n",
       "      <td>418</td>\n",
       "      <td>54</td>\n",
       "      <td>2</td>\n",
       "      <td>2</td>\n",
       "      <td>1</td>\n",
       "      <td>1</td>\n",
       "      <td>1</td>\n",
       "      <td>0</td>\n",
       "      <td>1</td>\n",
       "      <td>0</td>\n",
       "      <td>Belém/São Paulo</td>\n",
       "      <td>rent</td>\n",
       "      <td>apartment</td>\n",
       "      <td>-23.543955</td>\n",
       "      <td>-46.586619</td>\n",
       "    </tr>\n",
       "    <tr>\n",
       "      <th>15</th>\n",
       "      <td>1600</td>\n",
       "      <td>416</td>\n",
       "      <td>45</td>\n",
       "      <td>2</td>\n",
       "      <td>2</td>\n",
       "      <td>1</td>\n",
       "      <td>1</td>\n",
       "      <td>0</td>\n",
       "      <td>0</td>\n",
       "      <td>0</td>\n",
       "      <td>0</td>\n",
       "      <td>Belém/São Paulo</td>\n",
       "      <td>rent</td>\n",
       "      <td>apartment</td>\n",
       "      <td>-23.544698</td>\n",
       "      <td>-46.602114</td>\n",
       "    </tr>\n",
       "    <tr>\n",
       "      <th>17</th>\n",
       "      <td>1600</td>\n",
       "      <td>306</td>\n",
       "      <td>43</td>\n",
       "      <td>2</td>\n",
       "      <td>2</td>\n",
       "      <td>1</td>\n",
       "      <td>1</td>\n",
       "      <td>1</td>\n",
       "      <td>0</td>\n",
       "      <td>0</td>\n",
       "      <td>0</td>\n",
       "      <td>Belém/São Paulo</td>\n",
       "      <td>rent</td>\n",
       "      <td>apartment</td>\n",
       "      <td>-23.534606</td>\n",
       "      <td>-46.595084</td>\n",
       "    </tr>\n",
       "    <tr>\n",
       "      <th>18</th>\n",
       "      <td>1600</td>\n",
       "      <td>150</td>\n",
       "      <td>80</td>\n",
       "      <td>2</td>\n",
       "      <td>2</td>\n",
       "      <td>1</td>\n",
       "      <td>1</td>\n",
       "      <td>1</td>\n",
       "      <td>0</td>\n",
       "      <td>0</td>\n",
       "      <td>0</td>\n",
       "      <td>Belém/São Paulo</td>\n",
       "      <td>rent</td>\n",
       "      <td>apartment</td>\n",
       "      <td>-23.539620</td>\n",
       "      <td>-46.596337</td>\n",
       "    </tr>\n",
       "    <tr>\n",
       "      <th>19</th>\n",
       "      <td>1600</td>\n",
       "      <td>420</td>\n",
       "      <td>46</td>\n",
       "      <td>2</td>\n",
       "      <td>2</td>\n",
       "      <td>1</td>\n",
       "      <td>1</td>\n",
       "      <td>0</td>\n",
       "      <td>0</td>\n",
       "      <td>0</td>\n",
       "      <td>0</td>\n",
       "      <td>Belém/São Paulo</td>\n",
       "      <td>rent</td>\n",
       "      <td>apartment</td>\n",
       "      <td>-23.544698</td>\n",
       "      <td>-46.602114</td>\n",
       "    </tr>\n",
       "  </tbody>\n",
       "</table>\n",
       "</div>"
      ],
      "text/plain": [
       "    Price  Condo  Size  Rooms  Toilets  Suites  Parking  Elevator  Furnished  \\\n",
       "14   1800    418    54      2        2       1        1         1          0   \n",
       "15   1600    416    45      2        2       1        1         0          0   \n",
       "17   1600    306    43      2        2       1        1         1          0   \n",
       "18   1600    150    80      2        2       1        1         1          0   \n",
       "19   1600    420    46      2        2       1        1         0          0   \n",
       "\n",
       "    Swimming Pool  New         District Negotiation Type Property Type  \\\n",
       "14              1    0  Belém/São Paulo             rent     apartment   \n",
       "15              0    0  Belém/São Paulo             rent     apartment   \n",
       "17              0    0  Belém/São Paulo             rent     apartment   \n",
       "18              0    0  Belém/São Paulo             rent     apartment   \n",
       "19              0    0  Belém/São Paulo             rent     apartment   \n",
       "\n",
       "     Latitude  Longitude  \n",
       "14 -23.543955 -46.586619  \n",
       "15 -23.544698 -46.602114  \n",
       "17 -23.534606 -46.595084  \n",
       "18 -23.539620 -46.596337  \n",
       "19 -23.544698 -46.602114  "
      ]
     },
     "execution_count": 220,
     "metadata": {},
     "output_type": "execute_result"
    }
   ],
   "source": [
    "imoveisSP[imoveisSP['Price'].gt(1500) & imoveisSP['Negotiation Type'].eq('rent')].head()"
   ]
  },
  {
   "cell_type": "markdown",
   "metadata": {
    "slideshow": {
     "slide_type": "slide"
    }
   },
   "source": [
    "- É possível uma abordagem SQL-Like"
   ]
  },
  {
   "cell_type": "code",
   "execution_count": 221,
   "metadata": {
    "ExecuteTime": {
     "end_time": "2021-02-06T09:46:50.669369Z",
     "start_time": "2021-02-06T09:46:50.664679Z"
    },
    "slideshow": {
     "slide_type": "fragment"
    }
   },
   "outputs": [
    {
     "data": {
      "text/html": [
       "<div>\n",
       "<style scoped>\n",
       "    .dataframe tbody tr th:only-of-type {\n",
       "        vertical-align: middle;\n",
       "    }\n",
       "\n",
       "    .dataframe tbody tr th {\n",
       "        vertical-align: top;\n",
       "    }\n",
       "\n",
       "    .dataframe thead th {\n",
       "        text-align: right;\n",
       "    }\n",
       "</style>\n",
       "<table border=\"1\" class=\"dataframe\">\n",
       "  <thead>\n",
       "    <tr style=\"text-align: right;\">\n",
       "      <th></th>\n",
       "      <th>Price</th>\n",
       "      <th>Condo</th>\n",
       "      <th>Size</th>\n",
       "      <th>Rooms</th>\n",
       "      <th>Toilets</th>\n",
       "      <th>Suites</th>\n",
       "      <th>Parking</th>\n",
       "      <th>Elevator</th>\n",
       "      <th>Furnished</th>\n",
       "      <th>Swimming Pool</th>\n",
       "      <th>New</th>\n",
       "      <th>District</th>\n",
       "      <th>Negotiation Type</th>\n",
       "      <th>Property Type</th>\n",
       "      <th>Latitude</th>\n",
       "      <th>Longitude</th>\n",
       "    </tr>\n",
       "  </thead>\n",
       "  <tbody>\n",
       "    <tr>\n",
       "      <th>14</th>\n",
       "      <td>1800</td>\n",
       "      <td>418</td>\n",
       "      <td>54</td>\n",
       "      <td>2</td>\n",
       "      <td>2</td>\n",
       "      <td>1</td>\n",
       "      <td>1</td>\n",
       "      <td>1</td>\n",
       "      <td>0</td>\n",
       "      <td>1</td>\n",
       "      <td>0</td>\n",
       "      <td>Belém/São Paulo</td>\n",
       "      <td>rent</td>\n",
       "      <td>apartment</td>\n",
       "      <td>-23.543955</td>\n",
       "      <td>-46.586619</td>\n",
       "    </tr>\n",
       "    <tr>\n",
       "      <th>15</th>\n",
       "      <td>1600</td>\n",
       "      <td>416</td>\n",
       "      <td>45</td>\n",
       "      <td>2</td>\n",
       "      <td>2</td>\n",
       "      <td>1</td>\n",
       "      <td>1</td>\n",
       "      <td>0</td>\n",
       "      <td>0</td>\n",
       "      <td>0</td>\n",
       "      <td>0</td>\n",
       "      <td>Belém/São Paulo</td>\n",
       "      <td>rent</td>\n",
       "      <td>apartment</td>\n",
       "      <td>-23.544698</td>\n",
       "      <td>-46.602114</td>\n",
       "    </tr>\n",
       "    <tr>\n",
       "      <th>17</th>\n",
       "      <td>1600</td>\n",
       "      <td>306</td>\n",
       "      <td>43</td>\n",
       "      <td>2</td>\n",
       "      <td>2</td>\n",
       "      <td>1</td>\n",
       "      <td>1</td>\n",
       "      <td>1</td>\n",
       "      <td>0</td>\n",
       "      <td>0</td>\n",
       "      <td>0</td>\n",
       "      <td>Belém/São Paulo</td>\n",
       "      <td>rent</td>\n",
       "      <td>apartment</td>\n",
       "      <td>-23.534606</td>\n",
       "      <td>-46.595084</td>\n",
       "    </tr>\n",
       "    <tr>\n",
       "      <th>18</th>\n",
       "      <td>1600</td>\n",
       "      <td>150</td>\n",
       "      <td>80</td>\n",
       "      <td>2</td>\n",
       "      <td>2</td>\n",
       "      <td>1</td>\n",
       "      <td>1</td>\n",
       "      <td>1</td>\n",
       "      <td>0</td>\n",
       "      <td>0</td>\n",
       "      <td>0</td>\n",
       "      <td>Belém/São Paulo</td>\n",
       "      <td>rent</td>\n",
       "      <td>apartment</td>\n",
       "      <td>-23.539620</td>\n",
       "      <td>-46.596337</td>\n",
       "    </tr>\n",
       "    <tr>\n",
       "      <th>19</th>\n",
       "      <td>1600</td>\n",
       "      <td>420</td>\n",
       "      <td>46</td>\n",
       "      <td>2</td>\n",
       "      <td>2</td>\n",
       "      <td>1</td>\n",
       "      <td>1</td>\n",
       "      <td>0</td>\n",
       "      <td>0</td>\n",
       "      <td>0</td>\n",
       "      <td>0</td>\n",
       "      <td>Belém/São Paulo</td>\n",
       "      <td>rent</td>\n",
       "      <td>apartment</td>\n",
       "      <td>-23.544698</td>\n",
       "      <td>-46.602114</td>\n",
       "    </tr>\n",
       "  </tbody>\n",
       "</table>\n",
       "</div>"
      ],
      "text/plain": [
       "    Price  Condo  Size  Rooms  Toilets  Suites  Parking  Elevator  Furnished  \\\n",
       "14   1800    418    54      2        2       1        1         1          0   \n",
       "15   1600    416    45      2        2       1        1         0          0   \n",
       "17   1600    306    43      2        2       1        1         1          0   \n",
       "18   1600    150    80      2        2       1        1         1          0   \n",
       "19   1600    420    46      2        2       1        1         0          0   \n",
       "\n",
       "    Swimming Pool  New         District Negotiation Type Property Type  \\\n",
       "14              1    0  Belém/São Paulo             rent     apartment   \n",
       "15              0    0  Belém/São Paulo             rent     apartment   \n",
       "17              0    0  Belém/São Paulo             rent     apartment   \n",
       "18              0    0  Belém/São Paulo             rent     apartment   \n",
       "19              0    0  Belém/São Paulo             rent     apartment   \n",
       "\n",
       "     Latitude  Longitude  \n",
       "14 -23.543955 -46.586619  \n",
       "15 -23.544698 -46.602114  \n",
       "17 -23.534606 -46.595084  \n",
       "18 -23.539620 -46.596337  \n",
       "19 -23.544698 -46.602114  "
      ]
     },
     "execution_count": 221,
     "metadata": {},
     "output_type": "execute_result"
    }
   ],
   "source": [
    "imoveisSP.query(\"Price > 1500 and `Negotiation Type` == 'rent'\").head()"
   ]
  },
  {
   "cell_type": "code",
   "execution_count": 223,
   "metadata": {},
   "outputs": [
    {
     "data": {
      "text/html": [
       "<div>\n",
       "<style scoped>\n",
       "    .dataframe tbody tr th:only-of-type {\n",
       "        vertical-align: middle;\n",
       "    }\n",
       "\n",
       "    .dataframe tbody tr th {\n",
       "        vertical-align: top;\n",
       "    }\n",
       "\n",
       "    .dataframe thead th {\n",
       "        text-align: right;\n",
       "    }\n",
       "</style>\n",
       "<table border=\"1\" class=\"dataframe\">\n",
       "  <thead>\n",
       "    <tr style=\"text-align: right;\">\n",
       "      <th></th>\n",
       "      <th>Price</th>\n",
       "      <th>Condo</th>\n",
       "      <th>Size</th>\n",
       "      <th>Rooms</th>\n",
       "      <th>Toilets</th>\n",
       "      <th>Suites</th>\n",
       "      <th>Parking</th>\n",
       "      <th>Elevator</th>\n",
       "      <th>Furnished</th>\n",
       "      <th>Swimming Pool</th>\n",
       "      <th>New</th>\n",
       "      <th>District</th>\n",
       "      <th>Negotiation Type</th>\n",
       "      <th>Property Type</th>\n",
       "      <th>Latitude</th>\n",
       "      <th>Longitude</th>\n",
       "    </tr>\n",
       "  </thead>\n",
       "  <tbody>\n",
       "    <tr>\n",
       "      <th>15</th>\n",
       "      <td>1600</td>\n",
       "      <td>416</td>\n",
       "      <td>45</td>\n",
       "      <td>2</td>\n",
       "      <td>2</td>\n",
       "      <td>1</td>\n",
       "      <td>1</td>\n",
       "      <td>0</td>\n",
       "      <td>0</td>\n",
       "      <td>0</td>\n",
       "      <td>0</td>\n",
       "      <td>Belém/São Paulo</td>\n",
       "      <td>rent</td>\n",
       "      <td>apartment</td>\n",
       "      <td>-23.544698</td>\n",
       "      <td>-46.602114</td>\n",
       "    </tr>\n",
       "    <tr>\n",
       "      <th>17</th>\n",
       "      <td>1600</td>\n",
       "      <td>306</td>\n",
       "      <td>43</td>\n",
       "      <td>2</td>\n",
       "      <td>2</td>\n",
       "      <td>1</td>\n",
       "      <td>1</td>\n",
       "      <td>1</td>\n",
       "      <td>0</td>\n",
       "      <td>0</td>\n",
       "      <td>0</td>\n",
       "      <td>Belém/São Paulo</td>\n",
       "      <td>rent</td>\n",
       "      <td>apartment</td>\n",
       "      <td>-23.534606</td>\n",
       "      <td>-46.595084</td>\n",
       "    </tr>\n",
       "    <tr>\n",
       "      <th>18</th>\n",
       "      <td>1600</td>\n",
       "      <td>150</td>\n",
       "      <td>80</td>\n",
       "      <td>2</td>\n",
       "      <td>2</td>\n",
       "      <td>1</td>\n",
       "      <td>1</td>\n",
       "      <td>1</td>\n",
       "      <td>0</td>\n",
       "      <td>0</td>\n",
       "      <td>0</td>\n",
       "      <td>Belém/São Paulo</td>\n",
       "      <td>rent</td>\n",
       "      <td>apartment</td>\n",
       "      <td>-23.539620</td>\n",
       "      <td>-46.596337</td>\n",
       "    </tr>\n",
       "    <tr>\n",
       "      <th>19</th>\n",
       "      <td>1600</td>\n",
       "      <td>420</td>\n",
       "      <td>46</td>\n",
       "      <td>2</td>\n",
       "      <td>2</td>\n",
       "      <td>1</td>\n",
       "      <td>1</td>\n",
       "      <td>0</td>\n",
       "      <td>0</td>\n",
       "      <td>0</td>\n",
       "      <td>0</td>\n",
       "      <td>Belém/São Paulo</td>\n",
       "      <td>rent</td>\n",
       "      <td>apartment</td>\n",
       "      <td>-23.544698</td>\n",
       "      <td>-46.602114</td>\n",
       "    </tr>\n",
       "    <tr>\n",
       "      <th>20</th>\n",
       "      <td>1900</td>\n",
       "      <td>800</td>\n",
       "      <td>67</td>\n",
       "      <td>3</td>\n",
       "      <td>2</td>\n",
       "      <td>1</td>\n",
       "      <td>1</td>\n",
       "      <td>1</td>\n",
       "      <td>1</td>\n",
       "      <td>0</td>\n",
       "      <td>0</td>\n",
       "      <td>Belém/São Paulo</td>\n",
       "      <td>rent</td>\n",
       "      <td>apartment</td>\n",
       "      <td>-23.538380</td>\n",
       "      <td>-46.589441</td>\n",
       "    </tr>\n",
       "  </tbody>\n",
       "</table>\n",
       "</div>"
      ],
      "text/plain": [
       "    Price  Condo  Size  Rooms  Toilets  Suites  Parking  Elevator  Furnished  \\\n",
       "15   1600    416    45      2        2       1        1         0          0   \n",
       "17   1600    306    43      2        2       1        1         1          0   \n",
       "18   1600    150    80      2        2       1        1         1          0   \n",
       "19   1600    420    46      2        2       1        1         0          0   \n",
       "20   1900    800    67      3        2       1        1         1          1   \n",
       "\n",
       "    Swimming Pool  New         District Negotiation Type Property Type  \\\n",
       "15              0    0  Belém/São Paulo             rent     apartment   \n",
       "17              0    0  Belém/São Paulo             rent     apartment   \n",
       "18              0    0  Belém/São Paulo             rent     apartment   \n",
       "19              0    0  Belém/São Paulo             rent     apartment   \n",
       "20              0    0  Belém/São Paulo             rent     apartment   \n",
       "\n",
       "     Latitude  Longitude  \n",
       "15 -23.544698 -46.602114  \n",
       "17 -23.534606 -46.595084  \n",
       "18 -23.539620 -46.596337  \n",
       "19 -23.544698 -46.602114  \n",
       "20 -23.538380 -46.589441  "
      ]
     },
     "execution_count": 223,
     "metadata": {},
     "output_type": "execute_result"
    }
   ],
   "source": [
    "imoveisSP.query(\"Price > 1500 and `Negotiation Type` == 'rent' and `Swimming Pool` == 0\").head()"
   ]
  },
  {
   "cell_type": "code",
   "execution_count": 227,
   "metadata": {},
   "outputs": [
    {
     "data": {
      "text/html": [
       "<div>\n",
       "<style scoped>\n",
       "    .dataframe tbody tr th:only-of-type {\n",
       "        vertical-align: middle;\n",
       "    }\n",
       "\n",
       "    .dataframe tbody tr th {\n",
       "        vertical-align: top;\n",
       "    }\n",
       "\n",
       "    .dataframe thead th {\n",
       "        text-align: right;\n",
       "    }\n",
       "</style>\n",
       "<table border=\"1\" class=\"dataframe\">\n",
       "  <thead>\n",
       "    <tr style=\"text-align: right;\">\n",
       "      <th></th>\n",
       "      <th>Price</th>\n",
       "      <th>Condo</th>\n",
       "      <th>Size</th>\n",
       "      <th>Rooms</th>\n",
       "      <th>Toilets</th>\n",
       "      <th>Suites</th>\n",
       "      <th>Parking</th>\n",
       "      <th>Elevator</th>\n",
       "      <th>Furnished</th>\n",
       "      <th>Swimming Pool</th>\n",
       "      <th>New</th>\n",
       "      <th>District</th>\n",
       "      <th>Negotiation Type</th>\n",
       "      <th>Property Type</th>\n",
       "      <th>Latitude</th>\n",
       "      <th>Longitude</th>\n",
       "    </tr>\n",
       "  </thead>\n",
       "  <tbody>\n",
       "    <tr>\n",
       "      <th>15</th>\n",
       "      <td>1600</td>\n",
       "      <td>416</td>\n",
       "      <td>45</td>\n",
       "      <td>2</td>\n",
       "      <td>2</td>\n",
       "      <td>1</td>\n",
       "      <td>1</td>\n",
       "      <td>0</td>\n",
       "      <td>0</td>\n",
       "      <td>0</td>\n",
       "      <td>0</td>\n",
       "      <td>Belém/São Paulo</td>\n",
       "      <td>rent</td>\n",
       "      <td>apartment</td>\n",
       "      <td>-23.544698</td>\n",
       "      <td>-46.602114</td>\n",
       "    </tr>\n",
       "    <tr>\n",
       "      <th>17</th>\n",
       "      <td>1600</td>\n",
       "      <td>306</td>\n",
       "      <td>43</td>\n",
       "      <td>2</td>\n",
       "      <td>2</td>\n",
       "      <td>1</td>\n",
       "      <td>1</td>\n",
       "      <td>1</td>\n",
       "      <td>0</td>\n",
       "      <td>0</td>\n",
       "      <td>0</td>\n",
       "      <td>Belém/São Paulo</td>\n",
       "      <td>rent</td>\n",
       "      <td>apartment</td>\n",
       "      <td>-23.534606</td>\n",
       "      <td>-46.595084</td>\n",
       "    </tr>\n",
       "    <tr>\n",
       "      <th>18</th>\n",
       "      <td>1600</td>\n",
       "      <td>150</td>\n",
       "      <td>80</td>\n",
       "      <td>2</td>\n",
       "      <td>2</td>\n",
       "      <td>1</td>\n",
       "      <td>1</td>\n",
       "      <td>1</td>\n",
       "      <td>0</td>\n",
       "      <td>0</td>\n",
       "      <td>0</td>\n",
       "      <td>Belém/São Paulo</td>\n",
       "      <td>rent</td>\n",
       "      <td>apartment</td>\n",
       "      <td>-23.539620</td>\n",
       "      <td>-46.596337</td>\n",
       "    </tr>\n",
       "    <tr>\n",
       "      <th>19</th>\n",
       "      <td>1600</td>\n",
       "      <td>420</td>\n",
       "      <td>46</td>\n",
       "      <td>2</td>\n",
       "      <td>2</td>\n",
       "      <td>1</td>\n",
       "      <td>1</td>\n",
       "      <td>0</td>\n",
       "      <td>0</td>\n",
       "      <td>0</td>\n",
       "      <td>0</td>\n",
       "      <td>Belém/São Paulo</td>\n",
       "      <td>rent</td>\n",
       "      <td>apartment</td>\n",
       "      <td>-23.544698</td>\n",
       "      <td>-46.602114</td>\n",
       "    </tr>\n",
       "    <tr>\n",
       "      <th>20</th>\n",
       "      <td>1900</td>\n",
       "      <td>800</td>\n",
       "      <td>67</td>\n",
       "      <td>3</td>\n",
       "      <td>2</td>\n",
       "      <td>1</td>\n",
       "      <td>1</td>\n",
       "      <td>1</td>\n",
       "      <td>1</td>\n",
       "      <td>0</td>\n",
       "      <td>0</td>\n",
       "      <td>Belém/São Paulo</td>\n",
       "      <td>rent</td>\n",
       "      <td>apartment</td>\n",
       "      <td>-23.538380</td>\n",
       "      <td>-46.589441</td>\n",
       "    </tr>\n",
       "  </tbody>\n",
       "</table>\n",
       "</div>"
      ],
      "text/plain": [
       "    Price  Condo  Size  Rooms  Toilets  Suites  Parking  Elevator  Furnished  \\\n",
       "15   1600    416    45      2        2       1        1         0          0   \n",
       "17   1600    306    43      2        2       1        1         1          0   \n",
       "18   1600    150    80      2        2       1        1         1          0   \n",
       "19   1600    420    46      2        2       1        1         0          0   \n",
       "20   1900    800    67      3        2       1        1         1          1   \n",
       "\n",
       "    Swimming Pool  New         District Negotiation Type Property Type  \\\n",
       "15              0    0  Belém/São Paulo             rent     apartment   \n",
       "17              0    0  Belém/São Paulo             rent     apartment   \n",
       "18              0    0  Belém/São Paulo             rent     apartment   \n",
       "19              0    0  Belém/São Paulo             rent     apartment   \n",
       "20              0    0  Belém/São Paulo             rent     apartment   \n",
       "\n",
       "     Latitude  Longitude  \n",
       "15 -23.544698 -46.602114  \n",
       "17 -23.534606 -46.595084  \n",
       "18 -23.539620 -46.596337  \n",
       "19 -23.544698 -46.602114  \n",
       "20 -23.538380 -46.589441  "
      ]
     },
     "execution_count": 227,
     "metadata": {},
     "output_type": "execute_result"
    }
   ],
   "source": [
    "imoveisSP.query(\"(Price > 1500 and Price < 3000) and `Negotiation Type` == 'rent' and `Swimming Pool` == 0\").head()"
   ]
  },
  {
   "cell_type": "markdown",
   "metadata": {
    "slideshow": {
     "slide_type": "slide"
    }
   },
   "source": [
    "### Exercício\n",
    "\n",
    "- Filtre imóveis em SP nas seguintes condições:\n",
    "    - Preço até 2000,00\n",
    "    - Que possuam elevador\n",
    "    - Com metragem acima de 85 metros quadrados\n",
    "    - e com ao menos 03 quartos\n",
    "    \n",
    "    - Quais são os 5 maiores apartamentos?\n",
    "\n",
    "    - Quais são os 10 apartamentos mais caros? E em caso de \"empate\", quais possuem o maior tamanho?\n",
    "\n",
    "    - Em relação ao local (District), deixe o texto em CAPSLOCK"
   ]
  },
  {
   "cell_type": "code",
   "execution_count": null,
   "metadata": {},
   "outputs": [],
   "source": []
  },
  {
   "cell_type": "code",
   "execution_count": null,
   "metadata": {
    "ExecuteTime": {
     "end_time": "2021-02-06T09:54:08.773153Z",
     "start_time": "2021-02-06T09:54:08.736887Z"
    },
    "slideshow": {
     "slide_type": "slide"
    }
   },
   "outputs": [],
   "source": []
  },
  {
   "cell_type": "code",
   "execution_count": null,
   "metadata": {
    "ExecuteTime": {
     "end_time": "2021-02-06T09:54:13.585401Z",
     "start_time": "2021-02-06T09:54:13.580032Z"
    },
    "slideshow": {
     "slide_type": "slide"
    }
   },
   "outputs": [],
   "source": []
  },
  {
   "cell_type": "code",
   "execution_count": null,
   "metadata": {
    "ExecuteTime": {
     "end_time": "2021-02-06T09:54:18.096730Z",
     "start_time": "2021-02-06T09:54:18.093300Z"
    },
    "slideshow": {
     "slide_type": "fragment"
    }
   },
   "outputs": [],
   "source": []
  },
  {
   "cell_type": "markdown",
   "metadata": {
    "slideshow": {
     "slide_type": "slide"
    }
   },
   "source": [
    "## Gráficos com Matplotlib\n",
    "\n",
    "- Biblioteca Python mais utilizada para a criação de plotagens e gerar outras visualizações de dados\n",
    "- Mantida por uma grande equipe de desenvolvedores\n",
    "- projetada para criar plotagens desde básicas até plotagens para publicações \n",
    "- Python apresenta uma série de bibliotecas de alto nível para criação de gráficos, mas boa parte destas faz uso de matplotlib como um *backend*\n",
    "- Teremos uma aula específica para matplotlib, mas hoje estudaremos as *plotagens de linha*, isto é, a forma que a biblioteca Pandas disponibiliza para a plotagem rápida de Series e DataFrames.\n",
    "- Tanto Series quanto DataFrame têm um atributo `plot` para criar alguns tipos básicos de plotagem."
   ]
  },
  {
   "cell_type": "code",
   "execution_count": null,
   "metadata": {
    "ExecuteTime": {
     "end_time": "2021-02-06T09:56:24.576893Z",
     "start_time": "2021-02-06T09:56:24.574569Z"
    },
    "slideshow": {
     "slide_type": "-"
    }
   },
   "outputs": [],
   "source": [
    "import matplotlib.pyplot as plt\n",
    "\n",
    "plt.rcParams[\"figure.figsize\"] = (20,8)"
   ]
  },
  {
   "cell_type": "code",
   "execution_count": null,
   "metadata": {},
   "outputs": [],
   "source": [
    "imoveisSP['Price'].plot.hist()\n",
    "\n",
    "plt.show()"
   ]
  },
  {
   "cell_type": "code",
   "execution_count": null,
   "metadata": {
    "ExecuteTime": {
     "end_time": "2021-02-06T11:27:14.863080Z",
     "start_time": "2021-02-06T11:27:14.436301Z"
    },
    "slideshow": {
     "slide_type": "slide"
    }
   },
   "outputs": [],
   "source": [
    "res['Price'].plot.hist()\n",
    "\n",
    "plt.show()"
   ]
  },
  {
   "cell_type": "code",
   "execution_count": null,
   "metadata": {
    "ExecuteTime": {
     "end_time": "2021-02-06T11:27:46.323999Z",
     "start_time": "2021-02-06T11:27:45.915719Z"
    },
    "slideshow": {
     "slide_type": "slide"
    }
   },
   "outputs": [],
   "source": [
    "res['Size'].plot.hist();"
   ]
  },
  {
   "cell_type": "code",
   "execution_count": null,
   "metadata": {
    "ExecuteTime": {
     "end_time": "2021-02-06T11:29:15.264641Z",
     "start_time": "2021-02-06T11:29:14.872606Z"
    },
    "slideshow": {
     "slide_type": "slide"
    }
   },
   "outputs": [],
   "source": [
    "res['Price'].plot.box();"
   ]
  },
  {
   "cell_type": "code",
   "execution_count": null,
   "metadata": {
    "ExecuteTime": {
     "end_time": "2021-02-06T11:30:37.914748Z",
     "start_time": "2021-02-06T11:30:37.326781Z"
    },
    "slideshow": {
     "slide_type": "slide"
    }
   },
   "outputs": [],
   "source": [
    "imoveisSP[['Rooms','Price']].boxplot(by='Rooms');"
   ]
  },
  {
   "cell_type": "code",
   "execution_count": null,
   "metadata": {
    "ExecuteTime": {
     "end_time": "2021-02-06T11:35:18.734180Z",
     "start_time": "2021-02-06T11:35:18.239763Z"
    },
    "slideshow": {
     "slide_type": "slide"
    }
   },
   "outputs": [],
   "source": [
    "imoveisVenda = imoveisSP[imoveisSP['Negotiation Type']=='sale']\n",
    "imoveisVenda.plot.scatter(x='Size', y='Price')\n",
    "\n",
    "plt.show()"
   ]
  },
  {
   "cell_type": "code",
   "execution_count": null,
   "metadata": {
    "ExecuteTime": {
     "end_time": "2021-02-06T11:35:33.254812Z",
     "start_time": "2021-02-06T11:35:32.705900Z"
    },
    "slideshow": {
     "slide_type": "slide"
    }
   },
   "outputs": [],
   "source": [
    "imoveisSP.plot.scatter(x='Rooms', y='Price', color='DarkBlue');"
   ]
  },
  {
   "cell_type": "code",
   "execution_count": null,
   "metadata": {
    "ExecuteTime": {
     "end_time": "2021-02-06T11:39:01.250585Z",
     "start_time": "2021-02-06T11:39:00.705419Z"
    },
    "slideshow": {
     "slide_type": "slide"
    }
   },
   "outputs": [],
   "source": [
    "mascara = imoveisSP['Price'] > 1500\n",
    "imoveisSP_1500 = imoveisSP[mascara]\n",
    "imoveisSP_1500['District'].value_counts().head(10).plot.barh()\n",
    "\n",
    "plt.show()"
   ]
  },
  {
   "cell_type": "markdown",
   "metadata": {
    "slideshow": {
     "slide_type": "slide"
    }
   },
   "source": [
    "## Datas e Horas em Python"
   ]
  },
  {
   "cell_type": "markdown",
   "metadata": {
    "slideshow": {
     "slide_type": "fragment"
    }
   },
   "source": [
    "O módulo embutido `datetime` do Python disponibiliza os tipos `datetime`, `date` e `time`, sendo o `datetime` o mais utilizado."
   ]
  },
  {
   "cell_type": "code",
   "execution_count": null,
   "metadata": {
    "ExecuteTime": {
     "end_time": "2021-02-06T11:40:38.042205Z",
     "start_time": "2021-02-06T11:40:38.039735Z"
    },
    "slideshow": {
     "slide_type": "fragment"
    }
   },
   "outputs": [],
   "source": [
    "from datetime import datetime, date, time"
   ]
  },
  {
   "cell_type": "code",
   "execution_count": null,
   "metadata": {
    "ExecuteTime": {
     "end_time": "2021-02-06T11:41:01.385365Z",
     "start_time": "2021-02-06T11:41:01.382233Z"
    },
    "slideshow": {
     "slide_type": "fragment"
    }
   },
   "outputs": [],
   "source": [
    "dt = datetime(2021, 5, 10, 20, 45, 0)"
   ]
  },
  {
   "cell_type": "code",
   "execution_count": null,
   "metadata": {},
   "outputs": [],
   "source": [
    "type(dt)"
   ]
  },
  {
   "cell_type": "code",
   "execution_count": null,
   "metadata": {
    "ExecuteTime": {
     "end_time": "2021-02-06T11:41:21.438973Z",
     "start_time": "2021-02-06T11:41:21.434862Z"
    },
    "slideshow": {
     "slide_type": "fragment"
    }
   },
   "outputs": [],
   "source": [
    "dt.day"
   ]
  },
  {
   "cell_type": "code",
   "execution_count": null,
   "metadata": {
    "ExecuteTime": {
     "end_time": "2021-02-06T11:41:25.271981Z",
     "start_time": "2021-02-06T11:41:25.263922Z"
    },
    "slideshow": {
     "slide_type": "fragment"
    }
   },
   "outputs": [],
   "source": [
    "dt.month"
   ]
  },
  {
   "cell_type": "code",
   "execution_count": null,
   "metadata": {
    "ExecuteTime": {
     "end_time": "2021-02-06T11:41:29.132522Z",
     "start_time": "2021-02-06T11:41:29.128704Z"
    },
    "slideshow": {
     "slide_type": "fragment"
    }
   },
   "outputs": [],
   "source": [
    "dt.year"
   ]
  },
  {
   "cell_type": "code",
   "execution_count": null,
   "metadata": {},
   "outputs": [],
   "source": [
    "dt.weekday() #??? 0 é domingo ou segunda??? Usar Shift + Tab para ver  help..."
   ]
  },
  {
   "cell_type": "code",
   "execution_count": null,
   "metadata": {},
   "outputs": [],
   "source": [
    "datetime.today()"
   ]
  },
  {
   "cell_type": "markdown",
   "metadata": {
    "slideshow": {
     "slide_type": "slide"
    }
   },
   "source": [
    "Normalmente não construímos datetimes. Nós temos strings, que precisam ser convertidas (*parsing*) para Datetime. Podemos fazer o parsing com a função `strptime`.\n",
    "\n"
   ]
  },
  {
   "cell_type": "markdown",
   "metadata": {
    "ExecuteTime": {
     "end_time": "2020-12-28T16:25:20.268970Z",
     "start_time": "2020-12-28T16:25:20.264562Z"
    },
    "slideshow": {
     "slide_type": "fragment"
    }
   },
   "source": [
    "Formatos de especificação de datetime:\n",
    "\n",
    "| Tipo | Descrição                        |\n",
    "|------|----------------------------------|\n",
    "| %Y   | ano com quatro dígitos           |\n",
    "| %y   | ano com dois dígitos             |\n",
    "| %m   | mês com dois dígitos [01,12]     |\n",
    "| %d   | dia com dois dígitos [01, 31]    |\n",
    "| %H   | Hora [00-23]                     |\n",
    "| %h   | Hora [00-12]                     |\n",
    "| %M   | Minuto com dois dígitos [00, 59] |\n",
    "| %S   | Segundos com dois dígitos        |\n",
    "\n"
   ]
  },
  {
   "cell_type": "markdown",
   "metadata": {
    "slideshow": {
     "slide_type": "fragment"
    }
   },
   "source": [
    "\n",
    "\n",
    "Exemplos:\n",
    "- 10/05/2021 `%d/%m/%Y`\n",
    "- 2010-23-05 `%Y-%d-%m`\n",
    "- 28/12/20 - `%d/%m/%y`\n",
    "- 10/05/2021 23:45:00 - `%d/%m/%Y %H:%M:%S`"
   ]
  },
  {
   "cell_type": "code",
   "execution_count": null,
   "metadata": {
    "ExecuteTime": {
     "end_time": "2021-02-06T11:47:05.819739Z",
     "start_time": "2021-02-06T11:47:05.815525Z"
    },
    "slideshow": {
     "slide_type": "slide"
    }
   },
   "outputs": [],
   "source": [
    "datetime.strptime('10-05-2021', '%d-%m-%Y')"
   ]
  },
  {
   "cell_type": "markdown",
   "metadata": {
    "slideshow": {
     "slide_type": "slide"
    }
   },
   "source": [
    "A biblioteca Pandas também possui a função `to_datetime()` que permite converter diversos objetos (não apenas strings) para o formato datatime, inclusive nos possibilitando informar o que deve ser feito em caso de erro de conversão.\n"
   ]
  },
  {
   "cell_type": "code",
   "execution_count": null,
   "metadata": {
    "ExecuteTime": {
     "end_time": "2021-02-06T11:48:53.763114Z",
     "start_time": "2021-02-06T11:48:53.757625Z"
    },
    "scrolled": true,
    "slideshow": {
     "slide_type": "fragment"
    }
   },
   "outputs": [],
   "source": [
    "import pandas as pd\n",
    "\n",
    "pd.to_datetime(19500510, format='%Y%m%d')"
   ]
  },
  {
   "cell_type": "code",
   "execution_count": null,
   "metadata": {},
   "outputs": [],
   "source": [
    "pd.to_datetime(500510, format='%y%m%d')"
   ]
  },
  {
   "cell_type": "code",
   "execution_count": null,
   "metadata": {
    "ExecuteTime": {
     "end_time": "2021-02-06T11:51:10.220031Z",
     "start_time": "2021-02-06T11:51:10.213400Z"
    },
    "slideshow": {
     "slide_type": "fragment"
    }
   },
   "outputs": [],
   "source": [
    "# Since pandas represents timestamps in nanosecond resolution, \n",
    "# the time span that can be represented using a 64-bit integer \n",
    "# is limited to approximately 584 years:\n",
    "\n",
    "pd.to_datetime('13000101', format='%Y%m%d', errors='coerce')"
   ]
  },
  {
   "cell_type": "code",
   "execution_count": null,
   "metadata": {},
   "outputs": [],
   "source": [
    "pd.to_datetime(13000101, format='%Y%m%d', errors='coerce')"
   ]
  },
  {
   "cell_type": "code",
   "execution_count": null,
   "metadata": {
    "ExecuteTime": {
     "end_time": "2021-02-06T11:52:38.159964Z",
     "start_time": "2021-02-06T11:52:38.155525Z"
    },
    "scrolled": true,
    "slideshow": {
     "slide_type": "fragment"
    }
   },
   "outputs": [],
   "source": [
    "pd.to_datetime('13000101', format='%Y%m%d', errors='ignore')"
   ]
  },
  {
   "cell_type": "markdown",
   "metadata": {},
   "source": [
    "Para saber mais sobre datas e Unix Epoch experimente:\n",
    "\n",
    "https://www.epochconverter.com/\n"
   ]
  },
  {
   "cell_type": "markdown",
   "metadata": {
    "slideshow": {
     "slide_type": "slide"
    }
   },
   "source": [
    "## Exercício Extra - Opcional "
   ]
  },
  {
   "cell_type": "markdown",
   "metadata": {
    "slideshow": {
     "slide_type": "fragment"
    }
   },
   "source": [
    "Para praticar trabalhar com o Pandas, você pode avaliar o conjunto de dados de reviews de vídeo-games, disponível em  https://www.dataquest.io/wp-content/uploads/2019/09/ign.csv. Ele apresenta a estrutura como segue:"
   ]
  },
  {
   "cell_type": "markdown",
   "metadata": {
    "slideshow": {
     "slide_type": "slide"
    }
   },
   "source": [
    "Para este dataframe, você pode produzir códigos para:\n",
    "\n",
    "a) Descobrir o range dos scores \n",
    "\n",
    "b) Descobrir qual jogo recebeu o menor score\n",
    "\n",
    "c) Descobrir qual jogo recebeu o maior score\n",
    "\n",
    "d) Descobrir a média de score deste conjunto de dados\n",
    "\n",
    "e) Exibir apenas os games que tiveram escore maior que 7\n",
    "\n",
    "f) Exibir um histograma dos scores "
   ]
  },
  {
   "cell_type": "markdown",
   "metadata": {},
   "source": [
    "### Bônus 🎁\n",
    "\n",
    "Com o caractere \"**!**\" no início de uma célula de código no Jupyter Notebook, podemos executar comandos do sistema operacional (Windows, Mac, Linux ou UNIX)\n",
    "\n",
    "> This is **magic**! >> Jupyter Notebook"
   ]
  },
  {
   "cell_type": "code",
   "execution_count": null,
   "metadata": {},
   "outputs": [],
   "source": [
    "!date /t #Windows"
   ]
  },
  {
   "cell_type": "code",
   "execution_count": null,
   "metadata": {
    "scrolled": true
   },
   "outputs": [],
   "source": [
    "!date #Linux, UNIX e Mac"
   ]
  },
  {
   "cell_type": "code",
   "execution_count": null,
   "metadata": {
    "scrolled": true
   },
   "outputs": [],
   "source": [
    "!cal"
   ]
  },
  {
   "cell_type": "code",
   "execution_count": null,
   "metadata": {},
   "outputs": [],
   "source": [
    "!ver #Windows"
   ]
  },
  {
   "cell_type": "code",
   "execution_count": null,
   "metadata": {
    "scrolled": true
   },
   "outputs": [],
   "source": [
    "!dir"
   ]
  },
  {
   "cell_type": "code",
   "execution_count": null,
   "metadata": {},
   "outputs": [],
   "source": [
    "!cat taxas.csv #Linux, Mac, UNIX"
   ]
  },
  {
   "cell_type": "code",
   "execution_count": null,
   "metadata": {},
   "outputs": [],
   "source": [
    "!type taxas.csv #Windows"
   ]
  },
  {
   "cell_type": "code",
   "execution_count": null,
   "metadata": {},
   "outputs": [],
   "source": [
    "!help"
   ]
  },
  {
   "cell_type": "code",
   "execution_count": null,
   "metadata": {},
   "outputs": [],
   "source": [
    "!man ls"
   ]
  },
  {
   "cell_type": "markdown",
   "metadata": {},
   "source": [
    "Podemos usar o comando **wget** para fazer download de arquivos:\n",
    "https://www.gnu.org/software/wget/\n",
    "\n",
    "> Para instalar no terminal do Linux:<br>\n",
    "> sudo apt install wget"
   ]
  },
  {
   "cell_type": "code",
   "execution_count": null,
   "metadata": {
    "scrolled": true
   },
   "outputs": [],
   "source": [
    "!wget https://www.dataquest.io/wp-content/uploads/2019/09/ign.csv"
   ]
  },
  {
   "cell_type": "code",
   "execution_count": null,
   "metadata": {
    "scrolled": true
   },
   "outputs": [],
   "source": [
    "!dir ign.csv #Windows"
   ]
  },
  {
   "cell_type": "code",
   "execution_count": null,
   "metadata": {},
   "outputs": [],
   "source": [
    "!ls -l ign.csv #Linux, UNIX e Mac"
   ]
  },
  {
   "cell_type": "markdown",
   "metadata": {},
   "source": [
    "E também com **%** no início de uma célula, podemos acessar comandos do Jupyter Notebook (magic)"
   ]
  },
  {
   "cell_type": "code",
   "execution_count": null,
   "metadata": {},
   "outputs": [],
   "source": [
    "%whos"
   ]
  },
  {
   "cell_type": "markdown",
   "metadata": {},
   "source": [
    "Referências, documentações oficiais das bibliotecas: \n",
    "\n",
    "# 📚 Documentação oficial\n",
    "\n",
    "- Numpy: https://numpy.org/\n",
    "- Pandas: https://pandas.pydata.org/docs/\n",
    "- Matplotlib: https://matplotlib.org/\n",
    "\n",
    "Para mais referências veja o menu **Help** do ambiente Jupyter Notebook"
   ]
  },
  {
   "cell_type": "markdown",
   "metadata": {},
   "source": [
    "<img src=\"data:image/jpeg;base64,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\">"
   ]
  }
 ],
 "metadata": {
  "kernelspec": {
   "display_name": "Python 3 (ipykernel)",
   "language": "python",
   "name": "python3"
  },
  "language_info": {
   "codemirror_mode": {
    "name": "ipython",
    "version": 3
   },
   "file_extension": ".py",
   "mimetype": "text/x-python",
   "name": "python",
   "nbconvert_exporter": "python",
   "pygments_lexer": "ipython3",
   "version": "3.12.4"
  },
  "nteract": {
   "version": "0.27.0"
  },
  "toc": {
   "base_numbering": 1,
   "nav_menu": {},
   "number_sections": true,
   "sideBar": true,
   "skip_h1_title": false,
   "title_cell": "Table of Contents",
   "title_sidebar": "Contents",
   "toc_cell": false,
   "toc_position": {},
   "toc_section_display": true,
   "toc_window_display": false
  }
 },
 "nbformat": 4,
 "nbformat_minor": 4
}
