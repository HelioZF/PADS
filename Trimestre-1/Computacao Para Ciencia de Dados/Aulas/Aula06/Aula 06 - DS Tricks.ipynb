{
 "cells": [
  {
   "cell_type": "markdown",
   "metadata": {},
   "source": [
    "![Insper](https://github.com/danielscarvalho/Insper-DS-Dicas/blob/master/Insper-Logo.png?raw=true)\n",
    "\n",
    "# Insper Pós-Graduação\n",
    "## Programa Avançado em Data Science e Decisão [»](https://www.insper.edu.br/pos-graduacao/programas-avancados/data-science-e-decisao/)"
   ]
  },
  {
   "cell_type": "markdown",
   "metadata": {},
   "source": [
    "# Data Science Tricks\n",
    "---\n",
    "\n",
    "Nesta aula vamos ver diversas ferramentas utilizadas em projetos de ciências dos dados:\n",
    "\n",
    "Objetivos:\n",
    "\n",
    "     1. Como abrir e processar arquivos txt em Python (Unicode)\n",
    "     2. Como fazer uso de List Comprehension    \n",
    "     3. Utilizar a função Counter\n",
    "     4. Utilizar expressões regulares (regexp)\n",
    "     5. Como fazer chamadas WEB (HTTP)\n",
    "     6. Como consumir WEB SERVICE REST/JSON\n",
    "     7. Como criar e acessar sua própria LIB Python\n",
    "     \n",
    "---"
   ]
  },
  {
   "cell_type": "markdown",
   "metadata": {},
   "source": [
    "## Vamos escovar bits! \n",
    "# 🤓\n",
    "\n",
    "Representação binária de números e texto em memória e disco\n",
    "\n",
    "Número 11 decimal representado em binário, 1 byte (8 bits):\n",
    "\n",
    "| 128 | 64 | 32 | 16 | 8 | 4 | 2 | 1 |\n",
    "|---|---|---|---|---|---|---|---|\n",
    "| 0 | 0 | 0 | 0 | **1** | 0 | **1** | **1** |\n",
    "\n",
    "Processamento de números ponto flutuante em **Python**, **JavaScript** (node) e **Java**: "
   ]
  },
  {
   "cell_type": "markdown",
   "metadata": {},
   "source": [
    "```\n",
    "$ python\n",
    "Python 3.6.13 |Anaconda, Inc.| (default, Feb 23 2021, 21:15:04)\n",
    "[GCC 7.3.0] on linux\n",
    "Type \"help\", \"copyright\", \"credits\" or \"license\" for more information.\n",
    ">>> .1 + .2\n",
    "0.30000000000000004\n",
    ">>> exit()\n",
    "$ node\n",
    "Welcome to Node.js v14.16.0.\n",
    "Type \".help\" for more information.\n",
    "> .1 + .2\n",
    "0.30000000000000004\n",
    "(To exit, press Ctrl+C again or Ctrl+D or type .exit)\n",
    "> \n",
    "$ ./jshell\n",
    "|  Welcome to JShell -- Version 16\n",
    "|  For an introduction type: /help intro\n",
    "\n",
    "jshell> .1 + .2\n",
    "$1 ==> 0.30000000000000004\n",
    "jshell> /exit\n",
    "|  Goodbye\n",
    "\n",
    "```\n",
    "\n",
    "> Este problema não ocorre em **R** e nem em [**Wolfram Language**](https://www.wolfram.com/language/), pois utilizam [dobule precision](https://en.wikipedia.org/wiki/Double-precision_floating-point_format)\n",
    "\n",
    "> Python é uma linguagen **não tipada**!"
   ]
  },
  {
   "cell_type": "code",
   "execution_count": null,
   "metadata": {},
   "outputs": [],
   "source": [
    ".1 + .2"
   ]
  },
  {
   "cell_type": "code",
   "execution_count": null,
   "metadata": {},
   "outputs": [],
   "source": [
    "import math"
   ]
  },
  {
   "cell_type": "code",
   "execution_count": null,
   "metadata": {},
   "outputs": [],
   "source": [
    "math.floor(.1 + .2)"
   ]
  },
  {
   "cell_type": "code",
   "execution_count": null,
   "metadata": {
    "scrolled": true
   },
   "outputs": [],
   "source": [
    "math.ceil(.1 + .2)"
   ]
  },
  {
   "cell_type": "code",
   "execution_count": null,
   "metadata": {},
   "outputs": [],
   "source": [
    "int(.1 + .2)"
   ]
  },
  {
   "cell_type": "code",
   "execution_count": null,
   "metadata": {},
   "outputs": [],
   "source": [
    "round(.1 + .2)"
   ]
  },
  {
   "cell_type": "markdown",
   "metadata": {},
   "source": [
    "Workaround..."
   ]
  },
  {
   "cell_type": "code",
   "execution_count": null,
   "metadata": {},
   "outputs": [],
   "source": [
    "def truncate(n):\n",
    "    return int(n * 1000) / 1000"
   ]
  },
  {
   "cell_type": "code",
   "execution_count": null,
   "metadata": {},
   "outputs": [],
   "source": [
    "truncate(.1 + .2)"
   ]
  },
  {
   "cell_type": "code",
   "execution_count": null,
   "metadata": {},
   "outputs": [],
   "source": [
    ".1 + .2"
   ]
  },
  {
   "cell_type": "markdown",
   "metadata": {},
   "source": [
    "Precisão:\n",
    "\n",
    "Áreas mais afetadas pelo limite de precisão numérica:\n",
    "\n",
    "- Banco\n",
    "- Finanças\n",
    "- Físico\n",
    "    - Astrofísico\n",
    "    - Partícula\n",
    "- Engenharia"
   ]
  },
  {
   "cell_type": "markdown",
   "metadata": {},
   "source": [
    "Para saber mais:\n",
    "\n",
    "- [How to Round Numbers in Python](https://realpython.com/python-rounding/)\n",
    "- [What Every Programmer Should Know About Floating-Point Arithmetic](https://floating-point-gui.de/)\n",
    "- [Floating-Point Arithmetic: Issues and Limitations](https://docs.python.org/3/tutorial/floatingpoint.html)\n",
    "\n",
    "Representação binária de números e texto:"
   ]
  },
  {
   "cell_type": "markdown",
   "metadata": {},
   "source": [
    "![bits](https://github.com/danielscarvalho/Insper-DS-Dicas/blob/master/img/bits.png?raw=true)"
   ]
  },
  {
   "cell_type": "markdown",
   "metadata": {},
   "source": [
    "Texto no MARKDOWN **☞** Ǯ\n",
    "\n",
    "# ☞"
   ]
  },
  {
   "cell_type": "code",
   "execution_count": null,
   "metadata": {},
   "outputs": [],
   "source": [
    "Ǯ = 34\n",
    "Ǯ**Ǯ"
   ]
  },
  {
   "cell_type": "code",
   "execution_count": null,
   "metadata": {},
   "outputs": [],
   "source": [
    "α = 33\n",
    "α**α"
   ]
  },
  {
   "cell_type": "markdown",
   "metadata": {},
   "source": [
    "एस्टे कोडिगो इस्टा उमा वर्गोन्हा!!!"
   ]
  },
  {
   "cell_type": "markdown",
   "metadata": {},
   "source": [
    "ఇదే విధంగా ఉమా వెర్గోన్హా !!!"
   ]
  },
  {
   "cell_type": "markdown",
   "metadata": {},
   "source": [
    "Principais tabela de caracteres (characterset):\n",
    "\n",
    "- [ASCII](https://en.wikipedia.org/wiki/ASCII) - 8 bits, 7 bits úteis, caracteres do inglês\n",
    "- [ISO-8859-1 (Latin1)](https://en.wikipedia.org/wiki/ISO/IEC_8859-1) - 8 bits, 8 bits úteis, ASCII + caracteres latinos\n",
    "- [UTF-8 (Unicode)](https://en.wikipedia.org/wiki/UTF-8) - Tabela definitiva universal, contem ASCII + ISO-8859-1, e muito mais<br>  \n",
    "\n",
    "Para saber mais:\n",
    "\n",
    "- [The Absolute Minimum Every Software Developer Absolutely, Positively Must Know About Unicode and Character Sets (No Excuses!)](https://www.joelonsoftware.com/2003/10/08/the-absolute-minimum-every-software-developer-absolutely-positively-must-know-about-unicode-and-character-sets-no-excuses/)\n",
    "\n",
    "Vídeos sobre UNICODE e representação binária dos números:\n",
    "\n",
    "- [Characters, Symbols and the Unicode Miracle - Computerphile](https://www.youtube.com/watch?v=MijmeoH9LT4)\n",
    "- [Representing Numbers and Letters with Binary: Crash Course Computer Science #4](https://www.youtube.com/watch?v=1GSjbWt0c9M)"
   ]
  },
  {
   "cell_type": "code",
   "execution_count": null,
   "metadata": {
    "scrolled": true
   },
   "outputs": [],
   "source": [
    "len(\"José Silva\")"
   ]
  },
  {
   "cell_type": "code",
   "execution_count": null,
   "metadata": {},
   "outputs": [],
   "source": [
    "\"José Silva\".encode()"
   ]
  },
  {
   "cell_type": "code",
   "execution_count": null,
   "metadata": {},
   "outputs": [],
   "source": [
    "len(\"José Silva\".encode())"
   ]
  },
  {
   "cell_type": "markdown",
   "metadata": {},
   "source": [
    "O encode padrão do Python é UTF-8"
   ]
  },
  {
   "cell_type": "code",
   "execution_count": null,
   "metadata": {},
   "outputs": [],
   "source": [
    "for cara in \"José Silva\":\n",
    "    print(cara, \"\\t\" ,len(cara), \"\\t\" ,cara.encode(), \"\\t\" ,len(cara.encode()))"
   ]
  },
  {
   "cell_type": "markdown",
   "metadata": {},
   "source": [
    "Testando ASCII"
   ]
  },
  {
   "cell_type": "code",
   "execution_count": null,
   "metadata": {
    "scrolled": true
   },
   "outputs": [],
   "source": [
    "for cara in \"José Silva\":\n",
    "    print(cara, len(cara), cara.encode(\"ascii\",\"replace\"), len(cara.encode(\"ascii\",\"replace\")))"
   ]
  },
  {
   "cell_type": "code",
   "execution_count": null,
   "metadata": {
    "scrolled": true
   },
   "outputs": [],
   "source": [
    "for cara in \"José Silva\":\n",
    "    print(cara, len(cara), cara.encode(\"ascii\",\"ignore\"), len(cara.encode(\"ascii\",\"ignore\")))"
   ]
  },
  {
   "cell_type": "markdown",
   "metadata": {},
   "source": [
    "Testando ISO-8859-1 (Latin1)"
   ]
  },
  {
   "cell_type": "code",
   "execution_count": null,
   "metadata": {},
   "outputs": [],
   "source": [
    "for cara in \"José Silva\":\n",
    "    print(cara, len(cara), cara.encode(\"latin-1\"), len(cara.encode(\"latin-1\")))"
   ]
  },
  {
   "cell_type": "markdown",
   "metadata": {},
   "source": [
    "Mais testes com Unicode"
   ]
  },
  {
   "cell_type": "code",
   "execution_count": null,
   "metadata": {
    "scrolled": true
   },
   "outputs": [],
   "source": [
    "\"Ç\".encode()"
   ]
  },
  {
   "cell_type": "code",
   "execution_count": null,
   "metadata": {},
   "outputs": [],
   "source": [
    "\"Ç\".encode(\"latin-1\")"
   ]
  },
  {
   "cell_type": "code",
   "execution_count": null,
   "metadata": {},
   "outputs": [],
   "source": [
    "\"ℵ\".encode()"
   ]
  },
  {
   "cell_type": "code",
   "execution_count": null,
   "metadata": {
    "scrolled": true
   },
   "outputs": [],
   "source": [
    "\"😀\".encode()"
   ]
  },
  {
   "cell_type": "code",
   "execution_count": null,
   "metadata": {},
   "outputs": [],
   "source": [
    "len(\"ダニエル\")"
   ]
  },
  {
   "cell_type": "code",
   "execution_count": null,
   "metadata": {},
   "outputs": [],
   "source": [
    "\"ダニエル\".encode()"
   ]
  },
  {
   "cell_type": "code",
   "execution_count": null,
   "metadata": {
    "scrolled": true
   },
   "outputs": [],
   "source": [
    "len(_)"
   ]
  },
  {
   "cell_type": "code",
   "execution_count": null,
   "metadata": {},
   "outputs": [],
   "source": [
    "for cara in \"ダニエル\":\n",
    "    print(cara, cara.encode(), len(cara), len(cara.encode()))"
   ]
  },
  {
   "cell_type": "markdown",
   "metadata": {},
   "source": [
    "Taxa de compressão de arquivo texto (.csv, .tsv, .txt, .json, .py, .xlsx (zip), .xml, etc.) são entre 90% até 80%"
   ]
  },
  {
   "cell_type": "markdown",
   "metadata": {},
   "source": [
    "Procurar usar sempre Unicode (UTF-8).  \n",
    "Você vai encontrar muitos arquivos em Lating1 no Brasil e países latinos.\n",
    "\n",
    "Para saber mais sobre UNICODE:\n",
    "\n",
    "[Unicode Python HOWTO](https://docs.python.org/3/howto/unicode.html)"
   ]
  },
  {
   "cell_type": "markdown",
   "metadata": {},
   "source": [
    "### Vamos abrir arquivo CSV modo RAIZ!"
   ]
  },
  {
   "cell_type": "code",
   "execution_count": null,
   "metadata": {},
   "outputs": [],
   "source": [
    "#x - create, a - append, w - write\n",
    "#encoding=\"utf-8\" ou \"latin-1\" ou \"ascii\"\n",
    "\n",
    "f = open(\"newfile.txt\", \"w\") \n",
    "\n",
    "for i in range(10):\n",
    "    f.write(\"Line {}\\n\".format(i))\n",
    "\n",
    "f.close() #Salvar!!!"
   ]
  },
  {
   "cell_type": "code",
   "execution_count": null,
   "metadata": {
    "scrolled": true
   },
   "outputs": [],
   "source": [
    "!dir newfile.txt"
   ]
  },
  {
   "cell_type": "code",
   "execution_count": null,
   "metadata": {},
   "outputs": [],
   "source": [
    "!ls -l newfile.txt"
   ]
  },
  {
   "cell_type": "markdown",
   "metadata": {},
   "source": [
    "10% ± 20% dado novo e atualização por dia, ambiente corporativo, sistema de banco de dados SGBD"
   ]
  },
  {
   "cell_type": "code",
   "execution_count": null,
   "metadata": {
    "scrolled": true
   },
   "outputs": [],
   "source": [
    "f = open(\"newfile.txt\", \"r\")\n",
    "\n",
    "print(f.read())\n",
    "f.close()"
   ]
  },
  {
   "cell_type": "code",
   "execution_count": null,
   "metadata": {},
   "outputs": [],
   "source": [
    "f = open(\"newfile.txt\", \"r\")\n",
    "\n",
    "text = f.read()\n",
    "f.close()"
   ]
  },
  {
   "cell_type": "code",
   "execution_count": null,
   "metadata": {},
   "outputs": [],
   "source": [
    "len(text)"
   ]
  },
  {
   "cell_type": "code",
   "execution_count": null,
   "metadata": {},
   "outputs": [],
   "source": [
    "text.encode()"
   ]
  },
  {
   "cell_type": "code",
   "execution_count": null,
   "metadata": {},
   "outputs": [],
   "source": [
    "len(text.encode())"
   ]
  },
  {
   "cell_type": "code",
   "execution_count": null,
   "metadata": {
    "scrolled": true
   },
   "outputs": [],
   "source": [
    "!ls -l newfile.txt"
   ]
  },
  {
   "cell_type": "code",
   "execution_count": null,
   "metadata": {},
   "outputs": [],
   "source": [
    "!man ls"
   ]
  },
  {
   "cell_type": "code",
   "execution_count": null,
   "metadata": {},
   "outputs": [],
   "source": [
    "!dir /?"
   ]
  },
  {
   "cell_type": "code",
   "execution_count": null,
   "metadata": {
    "scrolled": true
   },
   "outputs": [],
   "source": [
    "!dir /w newfile.txt"
   ]
  },
  {
   "cell_type": "code",
   "execution_count": null,
   "metadata": {},
   "outputs": [],
   "source": [
    "import random\n",
    "import math"
   ]
  },
  {
   "cell_type": "code",
   "execution_count": null,
   "metadata": {},
   "outputs": [],
   "source": [
    "f = open(\"newfile.csv\", \"w\") #w - gravar, r - read, a - append (gravar), x - gravar (não sobreescreve o arquivo)\n",
    "\n",
    "f.write(\"CAT,SEQ,VAL,QTD,BAL\\n\")\n",
    "\n",
    "for i in range(10):\n",
    "    f.write(\"A,{},{},{},{}\\n\".format(i+1, random.random(),random.randint(0,100),math.floor(random.random()*1000)))\n",
    "\n",
    "f.close()"
   ]
  },
  {
   "cell_type": "code",
   "execution_count": null,
   "metadata": {},
   "outputs": [],
   "source": [
    "!type newfile.csv #no Windows este comando exibe o arquivo..."
   ]
  },
  {
   "cell_type": "code",
   "execution_count": null,
   "metadata": {
    "scrolled": true
   },
   "outputs": [],
   "source": [
    "!cat newfile.csv"
   ]
  },
  {
   "cell_type": "markdown",
   "metadata": {},
   "source": [
    "Experimente abrir este arquivo CSV com o Calc ou Excel"
   ]
  },
  {
   "cell_type": "code",
   "execution_count": null,
   "metadata": {},
   "outputs": [],
   "source": [
    "!type newfile.csv"
   ]
  },
  {
   "cell_type": "markdown",
   "metadata": {},
   "source": [
    "Agora modo **Nutella**"
   ]
  },
  {
   "cell_type": "code",
   "execution_count": null,
   "metadata": {},
   "outputs": [],
   "source": [
    "import pandas as pd"
   ]
  },
  {
   "cell_type": "code",
   "execution_count": null,
   "metadata": {},
   "outputs": [],
   "source": [
    "pd.read_csv(\"newfile.csv\")"
   ]
  },
  {
   "cell_type": "code",
   "execution_count": null,
   "metadata": {},
   "outputs": [],
   "source": [
    "f = open(\"newfile.csv\", \"r\")\n",
    "data=[] #Criando lista vazia\n",
    "\n",
    "while f:\n",
    "    line  = f.readline()\n",
    "    if line == \"\":\n",
    "        break\n",
    "    data.append(line.split(\",\"))\n",
    "\n",
    "f.close()\n",
    "\n",
    "data"
   ]
  },
  {
   "cell_type": "code",
   "execution_count": null,
   "metadata": {},
   "outputs": [],
   "source": [
    "len(\"['A', '10', '0.18135291816250865', '20', '343\\n']\")"
   ]
  },
  {
   "cell_type": "markdown",
   "metadata": {},
   "source": [
    "Função para converter string para número quando foi possível!"
   ]
  },
  {
   "cell_type": "code",
   "execution_count": null,
   "metadata": {},
   "outputs": [],
   "source": [
    "def getNumber(val):\n",
    "    \"\"\"Transforma string em número quando possível\"\"\"\n",
    "    try:\n",
    "        return eval(val)\n",
    "    except:\n",
    "        return val"
   ]
  },
  {
   "cell_type": "code",
   "execution_count": null,
   "metadata": {},
   "outputs": [],
   "source": [
    "#Versão segura\n",
    "import ast\n",
    "\n",
    "def getNumber(val):\n",
    "    \"\"\"Transforma string em número quando possível - segura\"\"\"\n",
    "    try:\n",
    "        return ast.literal_eval(val)\n",
    "    except:\n",
    "        return val"
   ]
  },
  {
   "cell_type": "code",
   "execution_count": null,
   "metadata": {
    "scrolled": true
   },
   "outputs": [],
   "source": [
    "type(getNumber)"
   ]
  },
  {
   "cell_type": "code",
   "execution_count": null,
   "metadata": {
    "scrolled": true
   },
   "outputs": [],
   "source": [
    "help(getNumber)"
   ]
  },
  {
   "cell_type": "markdown",
   "metadata": {},
   "source": [
    "Cuidado! **eval** pode ser perigoso!! - https://www.programiz.com/python-programming/methods/built-in/eval"
   ]
  },
  {
   "cell_type": "code",
   "execution_count": null,
   "metadata": {},
   "outputs": [],
   "source": [
    "getNumber(\"2 + 34.2\")"
   ]
  },
  {
   "cell_type": "code",
   "execution_count": null,
   "metadata": {},
   "outputs": [],
   "source": [
    "getNumber(\"344\")"
   ]
  },
  {
   "cell_type": "code",
   "execution_count": null,
   "metadata": {},
   "outputs": [],
   "source": [
    "getNumber(\"Vai Corinthians!!\")"
   ]
  },
  {
   "cell_type": "code",
   "execution_count": null,
   "metadata": {},
   "outputs": [],
   "source": [
    "f = open(\"newfile.csv\", \"r\")\n",
    "data=[]\n",
    "\n",
    "while f:\n",
    "    line  = f.readline()\n",
    "    if line == \"\":\n",
    "        break\n",
    "    data.append([getNumber(campo) for campo in line.split(\",\")])\n",
    "\n",
    "f.close()\n",
    "\n",
    "data"
   ]
  },
  {
   "cell_type": "markdown",
   "metadata": {},
   "source": [
    "Como usar [list comprehension](https://docs.python.org/3/tutorial/datastructures.html?highlight=list%20comprehension#list-comprehensions) para aplicar a função getNumber na lista **data**?? \\[5 minutos\\]"
   ]
  },
  {
   "cell_type": "code",
   "execution_count": null,
   "metadata": {},
   "outputs": [],
   "source": [
    "data\n",
    "\n",
    "getNumber(campo)"
   ]
  },
  {
   "cell_type": "code",
   "execution_count": null,
   "metadata": {},
   "outputs": [],
   "source": [
    "[a for a in range(10)]"
   ]
  },
  {
   "cell_type": "code",
   "execution_count": null,
   "metadata": {},
   "outputs": [],
   "source": [
    "len(data)"
   ]
  },
  {
   "cell_type": "code",
   "execution_count": null,
   "metadata": {},
   "outputs": [],
   "source": [
    "[a[2] for a in data]"
   ]
  },
  {
   "cell_type": "code",
   "execution_count": null,
   "metadata": {},
   "outputs": [],
   "source": [
    "[linha for linha in data]"
   ]
  },
  {
   "cell_type": "code",
   "execution_count": null,
   "metadata": {},
   "outputs": [],
   "source": [
    "[getNumber(campo) for campo in [linha for linha in data]]"
   ]
  },
  {
   "cell_type": "code",
   "execution_count": null,
   "metadata": {
    "scrolled": true
   },
   "outputs": [],
   "source": [
    "[getNumber(campo[2]) for campo in [linha for linha in data]]"
   ]
  },
  {
   "cell_type": "code",
   "execution_count": null,
   "metadata": {},
   "outputs": [],
   "source": [
    "[getNumber(campo[2]) for campo in data]"
   ]
  },
  {
   "cell_type": "code",
   "execution_count": null,
   "metadata": {},
   "outputs": [],
   "source": [
    "[getNumber(campo[2]) for campo in data]"
   ]
  },
  {
   "cell_type": "markdown",
   "metadata": {},
   "source": [
    "- For - programação estruturada\n",
    "- List comprehension - programação funcional"
   ]
  },
  {
   "cell_type": "markdown",
   "metadata": {},
   "source": [
    "### Buscar dados de uma página web ou web api (requests) via protocolo HTTP\n",
    "\n",
    "Vamos hacker dados de páginas WEB com requests e regexp!!"
   ]
  },
  {
   "cell_type": "code",
   "execution_count": null,
   "metadata": {
    "scrolled": true
   },
   "outputs": [],
   "source": [
    "!pip install requests"
   ]
  },
  {
   "cell_type": "markdown",
   "metadata": {},
   "source": [
    "Acesse o site pelo browser..."
   ]
  },
  {
   "cell_type": "code",
   "execution_count": 1,
   "metadata": {},
   "outputs": [],
   "source": [
    "URL_EV1=\"https://k2imports.com.br/pontos-de-abastecimento-de-carros-eletricos-em-sp\"\n",
    "URL_EV2=\"https://www.nordinvestimentos.com.br/blog/onde-carregar-carro-eletrico-em-sao-paulo/\""
   ]
  },
  {
   "cell_type": "code",
   "execution_count": null,
   "metadata": {},
   "outputs": [],
   "source": [
    "URL=\"https://www.ime.usp.br/contatos/\""
   ]
  },
  {
   "cell_type": "code",
   "execution_count": null,
   "metadata": {},
   "outputs": [],
   "source": [
    "import requests"
   ]
  },
  {
   "cell_type": "markdown",
   "metadata": {},
   "source": [
    "Com requests podemos chamar uma URL como o browser faz, e obtemos o resultado... texto UTF-8"
   ]
  },
  {
   "cell_type": "code",
   "execution_count": null,
   "metadata": {},
   "outputs": [],
   "source": [
    "req = requests.get(URL)"
   ]
  },
  {
   "cell_type": "code",
   "execution_count": null,
   "metadata": {},
   "outputs": [],
   "source": [
    "type(req)"
   ]
  },
  {
   "cell_type": "code",
   "execution_count": null,
   "metadata": {},
   "outputs": [],
   "source": [
    "req.content"
   ]
  },
  {
   "cell_type": "code",
   "execution_count": null,
   "metadata": {},
   "outputs": [],
   "source": [
    "texto = req.content.decode()"
   ]
  },
  {
   "cell_type": "code",
   "execution_count": null,
   "metadata": {},
   "outputs": [],
   "source": [
    "type(texto)"
   ]
  },
  {
   "cell_type": "code",
   "execution_count": null,
   "metadata": {},
   "outputs": [],
   "source": [
    "texto"
   ]
  },
  {
   "cell_type": "markdown",
   "metadata": {},
   "source": [
    "Note que não estamos fazendo o **parse** do HTML, estamos usando como texto UTF-8"
   ]
  },
  {
   "cell_type": "markdown",
   "metadata": {},
   "source": [
    "Páginas WEB mais sofisticadas não funcionam com **requests**, há outras ferramentas para ajudar, podemos até utilizar o browser como marionete"
   ]
  },
  {
   "cell_type": "markdown",
   "metadata": {},
   "source": [
    "### Expressões Regulares (regexp)\n",
    "\n",
    "\n",
    "Expressões regulares são sequências de caracteres (com uma sintaxe específica) que define um padrão de busca em texto. Esses padrões são usados por algoritmos de pesquisa de strings (texto) para operações \"localizar\" ou \"localizar e substituir\" ou para validação de entrada de dados. É uma técnica desenvolvida em ciência da computação teórica e teoria da linguagem formal e automatos.\n",
    "\n",
    "As explressões regulares funcionam em qualquer liguagem de programação.\n",
    "\n",
    "Vamos experimentar a sintaxe básica de **regexp** online:\n",
    "\n",
    "https://regex101.com/\n",
    "\n",
    "Consultar os guias de referências (no Blackboard) para mais detalhes sobre a sintaxe de **regexp**."
   ]
  },
  {
   "cell_type": "code",
   "execution_count": null,
   "metadata": {},
   "outputs": [],
   "source": [
    "import re"
   ]
  },
  {
   "cell_type": "markdown",
   "metadata": {},
   "source": [
    "Buscar todos os e-mails do texto"
   ]
  },
  {
   "cell_type": "code",
   "execution_count": null,
   "metadata": {},
   "outputs": [],
   "source": [
    "# \"\\(*[0-9]{2}\\)* [0-9]*[0-9]{4}-[0-9]{4}\"gm\n",
    "\n",
    "re.findall(r'[a-zA-Z.]+@+[a-zA-Z.]+', texto.lower())"
   ]
  },
  {
   "cell_type": "markdown",
   "metadata": {},
   "source": [
    "Um bom padrão de regexp para e-mail pode ser complexo:\n",
    "\n",
    "```\n",
    "(?:[a-z0-9!#$%&'*+/=?^_`{|}~-]+(?:\\.[a-z0-9!#$%&'*+/=?^_`{|}~-]+)*|\"(?:[\\x01-\\x08\\x0b\\x0c\\x0e-\\x1f\\x21\\x23-\\x5b\\x5d-\\x7f]|\\\\[\\x01-\\x09\\x0b\\x0c\\x0e-\\x7f])*\")@(?:(?:[a-z0-9](?:[a-z0-9-]*[a-z0-9])?\\.)+[a-z0-9](?:[a-z0-9-]*[a-z0-9])?|\\[(?:(?:25[0-5]|2[0-4][0-9]|[01]?[0-9][0-9]?)\\.){3}(?:25[0-5]|2[0-4][0-9]|[01]?[0-9][0-9]?|[a-z0-9-]*[a-z0-9]:(?:[\\x01-\\x08\\x0b\\x0c\\x0e-\\x1f\\x21-\\x5a\\x53-\\x7f]|\\\\[\\x01-\\x09\\x0b\\x0c\\x0e-\\x7f])+)\\])\n",
    "```\n",
    "\n",
    "No PANIC!"
   ]
  },
  {
   "cell_type": "markdown",
   "metadata": {},
   "source": [
    "Buscar todos os telefones do texto"
   ]
  },
  {
   "cell_type": "code",
   "execution_count": null,
   "metadata": {},
   "outputs": [],
   "source": [
    "re.findall(r'\\([0-9]+\\)\\ [0-9]+-+[0-9]+', texto.lower())"
   ]
  },
  {
   "cell_type": "markdown",
   "metadata": {},
   "source": [
    "Buscar por nomes"
   ]
  },
  {
   "cell_type": "code",
   "execution_count": null,
   "metadata": {},
   "outputs": [],
   "source": [
    "re.findall(r'[A-Z][a-z]+(?: [a-zA-Z]+)? [A-Z][a-z]+', texto)"
   ]
  },
  {
   "cell_type": "markdown",
   "metadata": {},
   "source": [
    "### Consumir WEB API na Internet (WEB Service REST/JSON)"
   ]
  },
  {
   "cell_type": "markdown",
   "metadata": {},
   "source": [
    "Buscando dados de Bitcon\n",
    "\n",
    "https://www.mercadobitcoin.com.br/api-doc/"
   ]
  },
  {
   "cell_type": "code",
   "execution_count": null,
   "metadata": {},
   "outputs": [],
   "source": [
    "btc = requests.get(\"https://www.mercadobitcoin.net/api/BTC/trades/\").json()"
   ]
  },
  {
   "cell_type": "code",
   "execution_count": null,
   "metadata": {},
   "outputs": [],
   "source": [
    "type(btc)"
   ]
  },
  {
   "cell_type": "code",
   "execution_count": null,
   "metadata": {},
   "outputs": [],
   "source": [
    "btc"
   ]
  },
  {
   "cell_type": "code",
   "execution_count": null,
   "metadata": {},
   "outputs": [],
   "source": [
    "btc[0]"
   ]
  },
  {
   "cell_type": "code",
   "execution_count": null,
   "metadata": {},
   "outputs": [],
   "source": [
    "btc[0][\"price\"]"
   ]
  },
  {
   "cell_type": "code",
   "execution_count": null,
   "metadata": {},
   "outputs": [],
   "source": [
    "btc[0][\"price\"] / 100"
   ]
  },
  {
   "cell_type": "code",
   "execution_count": null,
   "metadata": {},
   "outputs": [],
   "source": [
    "import pandas as pd"
   ]
  },
  {
   "cell_type": "code",
   "execution_count": null,
   "metadata": {
    "scrolled": true
   },
   "outputs": [],
   "source": [
    "df_btc = pd.DataFrame.from_dict(btc)"
   ]
  },
  {
   "cell_type": "code",
   "execution_count": null,
   "metadata": {},
   "outputs": [],
   "source": [
    "df_btc"
   ]
  },
  {
   "cell_type": "code",
   "execution_count": null,
   "metadata": {},
   "outputs": [],
   "source": [
    "df_btc.describe()"
   ]
  },
  {
   "cell_type": "code",
   "execution_count": null,
   "metadata": {},
   "outputs": [],
   "source": [
    "import math\n",
    "import statistics\n",
    "\n",
    "price=[]\n",
    "\n",
    "for b in btc:\n",
    "    price.append(b['price'])\n",
    "    \n",
    "print(max(price), min(price), statistics.mean(price))"
   ]
  },
  {
   "cell_type": "markdown",
   "metadata": {},
   "source": [
    "Usando ferramenta de busca DuckDuckGo"
   ]
  },
  {
   "cell_type": "code",
   "execution_count": null,
   "metadata": {},
   "outputs": [],
   "source": [
    "ddg = requests.get(\"https://api.duckduckgo.com/?q=Insper&format=json&pretty=1\").json()"
   ]
  },
  {
   "cell_type": "code",
   "execution_count": null,
   "metadata": {},
   "outputs": [],
   "source": [
    "ddg"
   ]
  },
  {
   "cell_type": "code",
   "execution_count": null,
   "metadata": {
    "scrolled": true
   },
   "outputs": [],
   "source": [
    "ddg[\"Abstract\"]"
   ]
  },
  {
   "cell_type": "code",
   "execution_count": null,
   "metadata": {},
   "outputs": [],
   "source": [
    "while True: #loop infinito\n",
    "    query = input(\"Busca no DuckDuckGo: \")\n",
    "    if query == \"\":\n",
    "        break\n",
    "    print(requests.get(\"https://api.duckduckgo.com/?format=json&pretty=1&q=\" + query).json()[\"Abstract\"])"
   ]
  },
  {
   "cell_type": "markdown",
   "metadata": {},
   "source": [
    "Buscando dados de repositórios de um usuário do GitHub"
   ]
  },
  {
   "cell_type": "code",
   "execution_count": null,
   "metadata": {},
   "outputs": [],
   "source": [
    "gh = requests.get(\"https://api.github.com/users/danielscarvalho/repos\").json()"
   ]
  },
  {
   "cell_type": "code",
   "execution_count": null,
   "metadata": {},
   "outputs": [],
   "source": [
    "type(gh)"
   ]
  },
  {
   "cell_type": "code",
   "execution_count": null,
   "metadata": {},
   "outputs": [],
   "source": [
    "gh"
   ]
  },
  {
   "cell_type": "code",
   "execution_count": null,
   "metadata": {},
   "outputs": [],
   "source": [
    "[repo[\"description\"] for repo in gh]"
   ]
  },
  {
   "cell_type": "code",
   "execution_count": null,
   "metadata": {},
   "outputs": [],
   "source": [
    "df_gh = pd.DataFrame.from_dict(gh)"
   ]
  },
  {
   "cell_type": "code",
   "execution_count": null,
   "metadata": {},
   "outputs": [],
   "source": [
    "df_gh.T"
   ]
  },
  {
   "cell_type": "markdown",
   "metadata": {},
   "source": [
    "Tem API para tudo nesta vida!!!\n",
    "\n",
    "Public APIs - https://github.com/public-apis/public-apis"
   ]
  },
  {
   "cell_type": "markdown",
   "metadata": {},
   "source": [
    "### Criar sua própria LIB\n",
    "\n",
    "Criar sua própria LIB é importante para organizar o código, o projeto, modularizar e para trabalhar em equipe.\n",
    "\n",
    "Crie um arquivo texto .py chamado \\<suas iniciais\\>lib.py, exemplo \"dsclib.py\"<br>\n",
    "Crie suas funções no arquivo... def\n",
    "\n",
    "E use import...\n",
    "\n",
    "import dsclib.py\n",
    "\n",
    "**LAB**"
   ]
  },
  {
   "cell_type": "markdown",
   "metadata": {},
   "source": [
    "### Atividade extra\n",
    "\n",
    "Escolher uma API pública, fazer a chamada com requests, carregar no data frame e explorar graficamente."
   ]
  },
  {
   "cell_type": "markdown",
   "metadata": {},
   "source": [
    "Referências gerais sobre Python:\n",
    "\n",
    "- https://www.w3schools.com/python/default.asp\n",
    "- https://docs.python.org/3/\n",
    "- https://penseallen.github.io/PensePython2e/\n",
    "- https://docs.python-guide.org/\n",
    "- https://books.goalkicker.com/PythonBook/\n",
    "- https://jakevdp.github.io/PythonDataScienceHandbook/index.html\n",
    "- https://docs.python-requests.org/en/master/"
   ]
  }
 ],
 "metadata": {
  "kernelspec": {
   "display_name": "Python 3 (ipykernel)",
   "language": "python",
   "name": "python3"
  },
  "language_info": {
   "codemirror_mode": {
    "name": "ipython",
    "version": 3
   },
   "file_extension": ".py",
   "mimetype": "text/x-python",
   "name": "python",
   "nbconvert_exporter": "python",
   "pygments_lexer": "ipython3",
   "version": "3.11.5"
  },
  "toc": {
   "base_numbering": 1,
   "nav_menu": {},
   "number_sections": true,
   "sideBar": true,
   "skip_h1_title": false,
   "title_cell": "Table of Contents",
   "title_sidebar": "Contents",
   "toc_cell": false,
   "toc_position": {},
   "toc_section_display": true,
   "toc_window_display": false
  }
 },
 "nbformat": 4,
 "nbformat_minor": 4
}
