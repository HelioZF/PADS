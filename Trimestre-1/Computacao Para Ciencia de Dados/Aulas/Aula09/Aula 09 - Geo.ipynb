{
 "cells": [
  {
   "cell_type": "markdown",
   "id": "b7963f79",
   "metadata": {},
   "source": [
    "![Insper](https://github.com/danielscarvalho/Insper-DS-Dicas/blob/master/Insper-Logo.png?raw=true)\n",
    "\n",
    "# Insper Pós-Graduação\n",
    "## Programa Avançada em Data Science e Decisão [»](https://www.insper.edu.br/pos-graduacao/programas-avancados/data-science-e-decisao/)"
   ]
  },
  {
   "cell_type": "markdown",
   "id": "amended-money",
   "metadata": {},
   "source": [
    "# Aula 9 - Análise Espacial - Visualização"
   ]
  },
  {
   "cell_type": "markdown",
   "id": "21edea78",
   "metadata": {},
   "source": [
    "### GeoPandas"
   ]
  },
  {
   "cell_type": "markdown",
   "id": "1ba5f4e0",
   "metadata": {},
   "source": [
    "O GeoPandas estende a bibliotecas Pandas de ciência de dados adicionando suporte para dados geoespaciais. \n",
    "\n",
    "A estrutura de dados central do GeoPandas é geopandas.GeoDataFrame, uma subclasse de pandas.DataFrame capaz de armazenar colunas geométricas e realizar operações espaciais. As geometrias são tratadas por geopandas.GeoSeries, uma subclasse de pandas.Series. Portanto, seu GeoDataFrame é uma combinação de Series com seus dados (numéricos, booleanos, texto etc.) e GeoSeries com geometrias (pontos, polígonos etc.). Você pode ter quantas colunas com geometrias desejar, não há limite típico para software GIS de desktop. [>>](https://geopandas.org/getting_started/introduction.html)"
   ]
  },
  {
   "cell_type": "markdown",
   "id": "fb591d85",
   "metadata": {},
   "source": [
    "![GeoPandas](https://geopandas.org/_images/dataframe.svg)"
   ]
  },
  {
   "cell_type": "markdown",
   "id": "light-carol",
   "metadata": {},
   "source": [
    "### Instalação dos pacotes necessários"
   ]
  },
  {
   "cell_type": "markdown",
   "id": "2d38d7c1-2e4c-4462-98fa-d08dc32d9f13",
   "metadata": {},
   "source": [
    "Note que vamos instalar diversas LIBs de uma vez só..."
   ]
  },
  {
   "cell_type": "markdown",
   "id": "5a0c819b-d6d4-4d02-839d-c33fa6ac9d75",
   "metadata": {
    "ExecuteTime": {
     "end_time": "2021-03-13T17:19:46.271556Z",
     "start_time": "2021-03-13T17:18:12.612474Z"
    }
   },
   "source": [
    "Instalar na linha de comando, ou com o conda...\n",
    "\n",
    "```bash\n",
    "pip3 install geopandas pygeos fiona contextily\n",
    "```"
   ]
  },
  {
   "cell_type": "code",
   "execution_count": null,
   "id": "willing-assist",
   "metadata": {
    "ExecuteTime": {
     "end_time": "2021-03-13T17:26:21.103864Z",
     "start_time": "2021-03-13T17:26:04.637148Z"
    }
   },
   "outputs": [],
   "source": [
    "import pandas as pd\n",
    "import matplotlib.pyplot as plt\n",
    "import geopandas\n",
    "import fiona\n",
    "import contextily as cx"
   ]
  },
  {
   "cell_type": "markdown",
   "id": "51240a78",
   "metadata": {},
   "source": [
    "Buscando GEO localização (latitude e longitude) nominatim do OpenStreetMap como **JSON** (dict): https://www.openstreetmap.org"
   ]
  },
  {
   "cell_type": "code",
   "execution_count": null,
   "id": "243dd4a3",
   "metadata": {},
   "outputs": [],
   "source": [
    "import requests"
   ]
  },
  {
   "cell_type": "code",
   "execution_count": null,
   "id": "9a8b5523",
   "metadata": {},
   "outputs": [],
   "source": [
    "insper = requests.get(\"https://nominatim.openstreetmap.org/search?format=json&q=Insper\").json()"
   ]
  },
  {
   "cell_type": "code",
   "execution_count": null,
   "id": "9eec83ff",
   "metadata": {},
   "outputs": [],
   "source": [
    "insper"
   ]
  },
  {
   "cell_type": "code",
   "execution_count": null,
   "id": "e19a0bba",
   "metadata": {},
   "outputs": [],
   "source": [
    "import pandas as pd"
   ]
  },
  {
   "cell_type": "code",
   "execution_count": null,
   "id": "36e6f350",
   "metadata": {},
   "outputs": [],
   "source": [
    "pd.DataFrame([[address[\"lat\"], address[\"lon\"], address[\"display_name\"]] for address in insper], \\\n",
    "            columns =['lat','lon','address'])"
   ]
  },
  {
   "cell_type": "markdown",
   "id": "00a9665e",
   "metadata": {},
   "source": [
    "Importando dados no formato **geojson**"
   ]
  },
  {
   "cell_type": "code",
   "execution_count": null,
   "id": "3b2ca63b",
   "metadata": {},
   "outputs": [],
   "source": [
    "insper_gdf = geopandas.read_file(\"https://nominatim.openstreetmap.org/search?format=geojson&q=Insper\")"
   ]
  },
  {
   "cell_type": "code",
   "execution_count": null,
   "id": "0667d2d2",
   "metadata": {},
   "outputs": [],
   "source": [
    "type(insper_gdf)"
   ]
  },
  {
   "cell_type": "code",
   "execution_count": null,
   "id": "2beaa3c6",
   "metadata": {},
   "outputs": [],
   "source": [
    "insper_gdf"
   ]
  },
  {
   "cell_type": "code",
   "execution_count": null,
   "id": "99206795",
   "metadata": {},
   "outputs": [],
   "source": [
    "mc_gdf = geopandas.read_file(\"https://nominatim.openstreetmap.org/search?format=geojson&q=mcdonalds+sao+paulo\")"
   ]
  },
  {
   "cell_type": "code",
   "execution_count": null,
   "id": "42e19014",
   "metadata": {
    "scrolled": true
   },
   "outputs": [],
   "source": [
    "mc_gdf"
   ]
  },
  {
   "cell_type": "code",
   "execution_count": null,
   "id": "8428fea1",
   "metadata": {},
   "outputs": [],
   "source": [
    "type(mc_gdf)"
   ]
  },
  {
   "cell_type": "markdown",
   "id": "0ee8b7c8",
   "metadata": {},
   "source": [
    "Obtendo mapas do **Contextily**"
   ]
  },
  {
   "cell_type": "code",
   "execution_count": null,
   "id": "7b2b2358",
   "metadata": {},
   "outputs": [],
   "source": [
    "nightlights = cx.providers.NASAGIBS.ViirsEarthAtNight2012\n",
    "\n",
    "brasil_cx = cx.Place(\"Brasil\", source=nightlights)\n",
    "brasil_cx.plot()\n",
    "plt.show()"
   ]
  },
  {
   "cell_type": "code",
   "execution_count": null,
   "id": "5cd023ac",
   "metadata": {},
   "outputs": [],
   "source": [
    "%time\n",
    "sp_cx = cx.Place(\"Sao Paulo, Brazil\")\n",
    "sp_cx.plot()\n",
    "plt.show()"
   ]
  },
  {
   "cell_type": "code",
   "execution_count": null,
   "id": "e4fac494",
   "metadata": {},
   "outputs": [],
   "source": [
    "%time\n",
    "ax = insper_gdf.plot(color=\"red\", figsize=(9, 9))\n",
    "cx.add_basemap(ax, crs=insper_gdf.crs.to_string(), zoom=18) #zoom 1 to 18"
   ]
  },
  {
   "cell_type": "markdown",
   "id": "65925069",
   "metadata": {},
   "source": [
    "The Coordinate Reference System (CRS)\n",
    "\n",
    "- https://en.wikipedia.org/wiki/Spatial_reference_system"
   ]
  },
  {
   "cell_type": "code",
   "execution_count": null,
   "id": "ccc01e60",
   "metadata": {
    "scrolled": true
   },
   "outputs": [],
   "source": [
    "mc_gdf.crs.to_string()"
   ]
  },
  {
   "cell_type": "code",
   "execution_count": null,
   "id": "de61a93f",
   "metadata": {
    "scrolled": true
   },
   "outputs": [],
   "source": [
    "mc_gdf.crs"
   ]
  },
  {
   "cell_type": "code",
   "execution_count": null,
   "id": "d04999b6",
   "metadata": {
    "scrolled": true
   },
   "outputs": [],
   "source": [
    "mc_gdf"
   ]
  },
  {
   "cell_type": "code",
   "execution_count": null,
   "id": "67566af4",
   "metadata": {},
   "outputs": [],
   "source": [
    "%time\n",
    "ax = mc_gdf.plot(color=\"red\", figsize=(9, 9))\n",
    "cx.add_basemap(ax, zoom=10, crs=mc_gdf.crs.to_string()) #zoom 1 to 18"
   ]
  },
  {
   "cell_type": "code",
   "execution_count": null,
   "id": "bb904be8",
   "metadata": {
    "scrolled": true
   },
   "outputs": [],
   "source": [
    "%time\n",
    "rj_cx = cx.Place(\"Rio de Janeiro, Brazil\")\n",
    "rj_cx.plot()\n",
    "plt.show()"
   ]
  },
  {
   "cell_type": "code",
   "execution_count": null,
   "id": "4d14f549",
   "metadata": {},
   "outputs": [],
   "source": [
    "%time\n",
    "rj_cx = cx.Place(\"Goiania, Brazil\")\n",
    "rj_cx.plot()\n",
    "plt.show()"
   ]
  },
  {
   "cell_type": "code",
   "execution_count": null,
   "id": "923b05c1",
   "metadata": {},
   "outputs": [],
   "source": [
    "from geopandas.tools import geocode\n",
    "\n",
    "insper2_gdf = geocode(\"Insper\", provider='nominatim', user_agent='autogis_2021', timeout=10)"
   ]
  },
  {
   "cell_type": "code",
   "execution_count": null,
   "id": "48f74a53",
   "metadata": {},
   "outputs": [],
   "source": [
    "type(insper2_gdf)"
   ]
  },
  {
   "cell_type": "code",
   "execution_count": null,
   "id": "f4b8862f",
   "metadata": {},
   "outputs": [],
   "source": [
    "insper2_gdf"
   ]
  },
  {
   "cell_type": "code",
   "execution_count": null,
   "id": "18f0f847",
   "metadata": {
    "scrolled": true
   },
   "outputs": [],
   "source": [
    "ax = insper2_gdf.plot(color=\"red\", figsize=(9, 9))\n",
    "cx.add_basemap(ax, crs=insper2_gdf.crs.to_string())"
   ]
  },
  {
   "cell_type": "markdown",
   "id": "d6d9838e",
   "metadata": {},
   "source": [
    "Portal de Dados Abertos da Cidade de São Paulo<br>\n",
    "http://dados.prefeitura.sp.gov.br/dataset?res_format=ZIP\n",
    "\n",
    "Trabalhando com arquivo SHP (Shapefile)"
   ]
  },
  {
   "cell_type": "markdown",
   "id": "fa0bbbbc",
   "metadata": {},
   "source": [
    " > No Linux, Unix e Mac usamos o comando \"ls\" ou \"ls -l\" para listar os arquivos<br>\n",
    " > No Windows usar \"dir\" ou \"dir /w\""
   ]
  },
  {
   "cell_type": "code",
   "execution_count": null,
   "id": "706d7480",
   "metadata": {
    "scrolled": true
   },
   "outputs": [],
   "source": [
    "#Linux, Mac, Unix\n",
    "!ls -l Bases/*.zip"
   ]
  },
  {
   "cell_type": "code",
   "execution_count": null,
   "id": "abb69730",
   "metadata": {},
   "outputs": [],
   "source": [
    "#Windows\n",
    "!dir /w Bases/*.zip"
   ]
  },
  {
   "cell_type": "code",
   "execution_count": null,
   "id": "e56fbda1",
   "metadata": {},
   "outputs": [],
   "source": [
    "!ls -l Bases/SP_*"
   ]
  },
  {
   "cell_type": "code",
   "execution_count": null,
   "id": "390393a2",
   "metadata": {},
   "outputs": [],
   "source": [
    "!ls Bases/SP_Mun97_region/*.shp"
   ]
  },
  {
   "cell_type": "code",
   "execution_count": null,
   "id": "022d0cb3",
   "metadata": {
    "scrolled": true
   },
   "outputs": [],
   "source": [
    "sp_gdf=geopandas.read_file(\"Bases/SP_Mun97_region/SP_Mun97_region.shp\")"
   ]
  },
  {
   "cell_type": "code",
   "execution_count": null,
   "id": "3d84aa88",
   "metadata": {},
   "outputs": [],
   "source": [
    "sp_gdf.crs"
   ]
  },
  {
   "cell_type": "code",
   "execution_count": null,
   "id": "87412c9c",
   "metadata": {},
   "outputs": [],
   "source": [
    "sp_gdf"
   ]
  },
  {
   "cell_type": "code",
   "execution_count": null,
   "id": "bef658c9",
   "metadata": {},
   "outputs": [],
   "source": [
    "sp_gdf.plot(legend=True, figsize=(15,8))\n",
    "\n",
    "plt.title(\"Municípios do estado de São Paulo\")\n",
    "plt.show()"
   ]
  },
  {
   "cell_type": "code",
   "execution_count": null,
   "id": "35bf4c23",
   "metadata": {},
   "outputs": [],
   "source": [
    "sp_gdf.plot(color='white', edgecolor='black', figsize=(15,8))\n",
    "\n",
    "plt.title(\"Municípios do estado de São Paulo: bordas\")\n",
    "plt.show()"
   ]
  },
  {
   "cell_type": "code",
   "execution_count": null,
   "id": "e3a256ee",
   "metadata": {},
   "outputs": [],
   "source": [
    "print(sp_gdf.SEM_ACENTO[0])\n",
    "sp_gdf.geometry[0]"
   ]
  },
  {
   "cell_type": "code",
   "execution_count": null,
   "id": "fc616900",
   "metadata": {},
   "outputs": [],
   "source": [
    "sp_gdf[sp_gdf[\"SEM_ACENTO\"]==\"SAO PAULO\"].plot(legend=True, figsize=(15,8))\n",
    "\n",
    "plt.title(\"Cidade de São Paulo: Shape\")\n",
    "plt.show()"
   ]
  },
  {
   "cell_type": "code",
   "execution_count": null,
   "id": "5edf00c2",
   "metadata": {
    "scrolled": true
   },
   "outputs": [],
   "source": [
    "sp_gdf.centroid"
   ]
  },
  {
   "cell_type": "code",
   "execution_count": null,
   "id": "ea46f0a1",
   "metadata": {},
   "outputs": [],
   "source": [
    "sp_gdf['centroid'] = sp_gdf.centroid"
   ]
  },
  {
   "cell_type": "code",
   "execution_count": null,
   "id": "94f40c54",
   "metadata": {},
   "outputs": [],
   "source": [
    "spcentroid_gdf = sp_gdf.set_geometry('centroid')\n",
    "\n",
    "#plt.title(\"Centroid dos municípios do estado de SP\")\n",
    "spcentroid_gdf.plot( figsize=(15,8));"
   ]
  },
  {
   "cell_type": "code",
   "execution_count": null,
   "id": "2aedf172",
   "metadata": {
    "scrolled": true
   },
   "outputs": [],
   "source": [
    "ax = spcentroid_gdf[\"geometry\"].plot( figsize=(15,8))\n",
    "spcentroid_gdf[\"centroid\"].plot(ax=ax, color=\"black\")"
   ]
  },
  {
   "cell_type": "code",
   "execution_count": null,
   "id": "5ed492d0",
   "metadata": {
    "scrolled": true
   },
   "outputs": [],
   "source": [
    "ax = spcentroid_gdf[spcentroid_gdf[\"SEM_ACENTO\"]==\"SAO PAULO\"][\"geometry\"].plot(figsize=(15,8))\n",
    "spcentroid_gdf[spcentroid_gdf[\"SEM_ACENTO\"]==\"SAO PAULO\"][\"centroid\"] \\\n",
    ".plot(ax=ax, color=\"black\")"
   ]
  },
  {
   "cell_type": "markdown",
   "id": "a383d2d1",
   "metadata": {},
   "source": [
    "### Para saber mais:\n",
    "\n",
    "- [Centroid](https://en.wikipedia.org/wiki/Centroid)\n",
    "- [Geographic center of the United States](https://en.wikipedia.org/wiki/Geographic_center_of_the_United_States)"
   ]
  },
  {
   "cell_type": "markdown",
   "id": "90e7975a",
   "metadata": {},
   "source": [
    "Mapa do Brasil com dados de um arquivo **dpkg**"
   ]
  },
  {
   "cell_type": "markdown",
   "id": "c5ca4dd0",
   "metadata": {},
   "source": [
    "Este download arquivo pode demorar..."
   ]
  },
  {
   "cell_type": "code",
   "execution_count": null,
   "id": "individual-customs",
   "metadata": {
    "ExecuteTime": {
     "end_time": "2021-03-13T17:29:56.501550Z",
     "start_time": "2021-03-13T17:26:45.743902Z"
    },
    "scrolled": true
   },
   "outputs": [],
   "source": [
    "!wget ftp://geoftp.ibge.gov.br/cartas_e_mapas/bases_cartograficas_continuas/bcim/versao2016/geopackage/bcim_2016_21_11_2018.gpkg"
   ]
  },
  {
   "cell_type": "markdown",
   "id": "b0801b5a",
   "metadata": {},
   "source": [
    "Listar as camadas no **gpkg**"
   ]
  },
  {
   "cell_type": "code",
   "execution_count": null,
   "id": "453eb6f7",
   "metadata": {},
   "outputs": [],
   "source": [
    "fiona.listlayers('bcim_2016_21_11_2018.gpkg')"
   ]
  },
  {
   "cell_type": "code",
   "execution_count": null,
   "id": "9b507171",
   "metadata": {},
   "outputs": [],
   "source": [
    "brasil_gdf = geopandas.read_file(\"bcim_2016_21_11_2018.gpkg\",layer=\"lim_unidade_federacao_a\")"
   ]
  },
  {
   "cell_type": "code",
   "execution_count": null,
   "id": "99f890db",
   "metadata": {},
   "outputs": [],
   "source": [
    "brasil_gdf"
   ]
  },
  {
   "cell_type": "code",
   "execution_count": null,
   "id": "b92fb3bc",
   "metadata": {},
   "outputs": [],
   "source": [
    "brasil_gdf.crs"
   ]
  },
  {
   "cell_type": "code",
   "execution_count": null,
   "id": "afee0e25",
   "metadata": {},
   "outputs": [],
   "source": [
    "brasil_gdf[\"nome\"]"
   ]
  },
  {
   "cell_type": "code",
   "execution_count": null,
   "id": "bc295b61",
   "metadata": {
    "scrolled": true
   },
   "outputs": [],
   "source": [
    "brasil_gdf.plot(legend=True, figsize=(15,8))\n",
    "plt.title(\"Estados do Brasil\")\n",
    "plt.show()\n"
   ]
  },
  {
   "cell_type": "code",
   "execution_count": null,
   "id": "0e5c41d5",
   "metadata": {
    "scrolled": true
   },
   "outputs": [],
   "source": [
    "brasil_gdf.plot(color='green', edgecolor='yellow', figsize=(15,8))\n",
    "plt.show()"
   ]
  },
  {
   "cell_type": "code",
   "execution_count": null,
   "id": "0c7c3e85",
   "metadata": {
    "scrolled": true
   },
   "outputs": [],
   "source": [
    "ax = brasil_gdf.plot(color='white', edgecolor='red', figsize=(20,10), alpha=0.3)\n",
    "cx.add_basemap(ax, crs=brasil_gdf.crs.to_string())"
   ]
  },
  {
   "cell_type": "code",
   "execution_count": null,
   "id": "d7c6b6b5",
   "metadata": {},
   "outputs": [],
   "source": [
    "brcapitais_gdf = geopandas.read_file('bcim_2016_21_11_2018.gpkg', layer='loc_capital_p')"
   ]
  },
  {
   "cell_type": "code",
   "execution_count": null,
   "id": "3abb41fc",
   "metadata": {},
   "outputs": [],
   "source": [
    "type(brcapitais_gdf)"
   ]
  },
  {
   "cell_type": "code",
   "execution_count": null,
   "id": "cb9fd40a",
   "metadata": {},
   "outputs": [],
   "source": [
    "ax = brcapitais_gdf.plot(color='red', alpha=0.5, edgecolor='black', figsize=(20,10))\n",
    "cx.add_basemap(ax, crs=brcapitais_gdf.crs.to_string())"
   ]
  },
  {
   "cell_type": "code",
   "execution_count": null,
   "id": "df6aaf3a",
   "metadata": {},
   "outputs": [],
   "source": [
    "municipios_gdf = geopandas.read_file('bcim_2016_21_11_2018.gpkg', layer='lim_municipio_a')"
   ]
  },
  {
   "cell_type": "code",
   "execution_count": null,
   "id": "cbaffc54",
   "metadata": {},
   "outputs": [],
   "source": [
    "sp_gdf = municipios_gdf.query('nome == \"São Paulo\"')"
   ]
  },
  {
   "cell_type": "code",
   "execution_count": null,
   "id": "17f3babd",
   "metadata": {},
   "outputs": [],
   "source": [
    "ax = sp_gdf.plot(color='red', alpha=0.3, edgecolor='black', figsize=(20, 10))\n",
    "cx.add_basemap(ax, crs=sp_gdf.crs.to_string())"
   ]
  },
  {
   "cell_type": "markdown",
   "id": "62163467",
   "metadata": {},
   "source": [
    "Obtendo e combinando dados de fonte diferente...<br>\n",
    "Precisamos de uma chave comum..."
   ]
  },
  {
   "cell_type": "code",
   "execution_count": null,
   "id": "b2461325",
   "metadata": {
    "scrolled": true
   },
   "outputs": [],
   "source": [
    "!wget http://www.servicos.blog.br/wp-content/uploads/2013/10/populacao-e-pib-por-estados.xlsx"
   ]
  },
  {
   "cell_type": "code",
   "execution_count": null,
   "id": "5b0bb668",
   "metadata": {},
   "outputs": [],
   "source": [
    "!ls -l *.xlsx"
   ]
  },
  {
   "cell_type": "code",
   "execution_count": null,
   "id": "2c0c3e0f",
   "metadata": {
    "scrolled": true
   },
   "outputs": [],
   "source": [
    "!dir \\w *.xlsx"
   ]
  },
  {
   "cell_type": "code",
   "execution_count": null,
   "id": "da30fab9",
   "metadata": {},
   "outputs": [],
   "source": [
    "dados_br_df = pd.read_excel(\"populacao-e-pib-por-estados.xlsx\")"
   ]
  },
  {
   "cell_type": "code",
   "execution_count": null,
   "id": "fc8d83c9",
   "metadata": {
    "scrolled": true
   },
   "outputs": [],
   "source": [
    "dados_br_df.head()"
   ]
  },
  {
   "cell_type": "code",
   "execution_count": null,
   "id": "4cd2ada0",
   "metadata": {},
   "outputs": [],
   "source": [
    "dados_br_df.rename({\"Sigla\":\"sigla\",\"PIB\":\"pib\",\"População\":\"população\",\"Estado\":\"estado\"}, axis=1, inplace=True)"
   ]
  },
  {
   "cell_type": "code",
   "execution_count": null,
   "id": "c0938198",
   "metadata": {},
   "outputs": [],
   "source": [
    "dados_br_df.head()"
   ]
  },
  {
   "cell_type": "code",
   "execution_count": null,
   "id": "8d7773b6",
   "metadata": {},
   "outputs": [],
   "source": [
    "br_gdf = brasil_gdf.merge(dados_br_df, on = 'sigla')"
   ]
  },
  {
   "cell_type": "code",
   "execution_count": null,
   "id": "5b118acd",
   "metadata": {},
   "outputs": [],
   "source": [
    "br_gdf.head()"
   ]
  },
  {
   "cell_type": "code",
   "execution_count": null,
   "id": "cc130096",
   "metadata": {},
   "outputs": [],
   "source": [
    "type(br_gdf)"
   ]
  },
  {
   "cell_type": "code",
   "execution_count": null,
   "id": "83638c6d",
   "metadata": {},
   "outputs": [],
   "source": [
    "br_gdf.plot(column = 'pib',\n",
    "               cmap = \"seismic\",\n",
    "               figsize = (16,10),\n",
    "               legend = True,\n",
    "               edgecolor = 'black')\n",
    "\n",
    "plt.title(\"Brasil: PIB por estado\")\n",
    "plt.show()"
   ]
  },
  {
   "cell_type": "code",
   "execution_count": null,
   "id": "7230defd",
   "metadata": {},
   "outputs": [],
   "source": [
    "br_gdf.plot(column = 'população',\n",
    "               cmap = \"RdYlGn\",\n",
    "               figsize = (16,10),\n",
    "               legend = True,\n",
    "               edgecolor = 'black')\n",
    "\n",
    "plt.title(\"Brasil: População por estado\")\n",
    "plt.show()"
   ]
  },
  {
   "cell_type": "markdown",
   "id": "11cc7f1c",
   "metadata": {},
   "source": [
    "Datasets padrão no GeoPandas"
   ]
  },
  {
   "cell_type": "code",
   "execution_count": null,
   "id": "6c7ba5eb",
   "metadata": {},
   "outputs": [],
   "source": [
    "geopandas.datasets.available"
   ]
  },
  {
   "cell_type": "code",
   "execution_count": null,
   "id": "b963b2fd",
   "metadata": {},
   "outputs": [],
   "source": [
    "world_gdf = geopandas.read_file(geopandas.datasets.get_path('naturalearth_lowres'))\n",
    "\n",
    "world_gdf.plot( figsize=(15,8))\n",
    "\n",
    "plt.show()"
   ]
  },
  {
   "cell_type": "code",
   "execution_count": null,
   "id": "6e6a436e",
   "metadata": {},
   "outputs": [],
   "source": [
    "type(world_gdf)"
   ]
  },
  {
   "cell_type": "code",
   "execution_count": null,
   "id": "0339d1ab",
   "metadata": {
    "scrolled": true
   },
   "outputs": [],
   "source": [
    "world_gdf.head()"
   ]
  },
  {
   "cell_type": "code",
   "execution_count": null,
   "id": "244fa630",
   "metadata": {},
   "outputs": [],
   "source": [
    "world_gdf.plot(column = 'gdp_md_est',\n",
    "               cmap = \"Spectral\",\n",
    "               figsize = (16,10),\n",
    "               legend = True,\n",
    "               edgecolor = 'black')\n",
    "\n",
    "plt.title(\"World: GDP\")\n",
    "plt.show()"
   ]
  },
  {
   "cell_type": "code",
   "execution_count": null,
   "id": "b31c4477",
   "metadata": {},
   "outputs": [],
   "source": [
    "world_gdf.plot(column = 'pop_est',\n",
    "               cmap = \"PiYG\",\n",
    "               figsize = (16,10),\n",
    "               legend = True,\n",
    "               edgecolor = 'black')\n",
    "\n",
    "plt.title(\"World: Populatin (est)\")\n",
    "plt.show()"
   ]
  },
  {
   "cell_type": "code",
   "execution_count": null,
   "id": "2fae6160",
   "metadata": {
    "scrolled": true
   },
   "outputs": [],
   "source": [
    "sa_gdf = world_gdf[world_gdf.continent == 'South America']\n",
    "\n",
    "sa_gdf.plot(\n",
    "    color='white', edgecolor='black',  figsize=(15,8))\n",
    "\n",
    "plt.show()"
   ]
  },
  {
   "cell_type": "code",
   "execution_count": null,
   "id": "7a0832ae",
   "metadata": {},
   "outputs": [],
   "source": [
    "type(sa_gdf)"
   ]
  },
  {
   "cell_type": "code",
   "execution_count": null,
   "id": "944f3a99",
   "metadata": {
    "scrolled": true
   },
   "outputs": [],
   "source": [
    "sa_gdf"
   ]
  },
  {
   "cell_type": "code",
   "execution_count": null,
   "id": "0aede14c",
   "metadata": {},
   "outputs": [],
   "source": [
    "#Fonte: Documentação do geopandas\n",
    "sa_capitals_df = pd.DataFrame(\n",
    "    {'City': ['Buenos Aires', 'Brasilia', 'Santiago', 'Bogota', 'Caracas'],\n",
    "     'Country': ['Argentina', 'Brazil', 'Chile', 'Colombia', 'Venezuela'],\n",
    "     'Latitude': [-34.58, -15.78, -33.45, 4.60, 10.48],\n",
    "     'Longitude': [-58.66, -47.91, -70.66, -74.08, -66.86]})"
   ]
  },
  {
   "cell_type": "code",
   "execution_count": null,
   "id": "1d51def2",
   "metadata": {
    "scrolled": true
   },
   "outputs": [],
   "source": [
    "sa_capitals_df"
   ]
  },
  {
   "cell_type": "code",
   "execution_count": null,
   "id": "ba29572f",
   "metadata": {},
   "outputs": [],
   "source": [
    "sa_apitals_gdf = geopandas.GeoDataFrame(\n",
    "    sa_capitals_df, geometry=geopandas.points_from_xy(sa_capitals_df.Longitude, sa_capitals_df.Latitude))"
   ]
  },
  {
   "cell_type": "code",
   "execution_count": null,
   "id": "27188b3c",
   "metadata": {
    "scrolled": true
   },
   "outputs": [],
   "source": [
    "sa_apitals_gdf"
   ]
  },
  {
   "cell_type": "code",
   "execution_count": null,
   "id": "470564b6",
   "metadata": {
    "scrolled": true
   },
   "outputs": [],
   "source": [
    "ax = sa_gdf.plot(\n",
    "    color='white', edgecolor='black', figsize=(15,8))\n",
    "\n",
    "sa_apitals_gdf.plot(ax=ax, color='red')\n",
    "\n",
    "plt.show()"
   ]
  },
  {
   "cell_type": "code",
   "execution_count": null,
   "id": "bc00c71c",
   "metadata": {},
   "outputs": [],
   "source": [
    "sa_gdf.plot(column = 'gdp_md_est',\n",
    "               cmap = \"Spectral\",\n",
    "               figsize = (16,10),\n",
    "               legend = True,\n",
    "               edgecolor = 'black')\n",
    "\n",
    "plt.title(\"South America: GDP\")\n",
    "plt.show()"
   ]
  },
  {
   "cell_type": "code",
   "execution_count": null,
   "id": "abbbe3c5",
   "metadata": {},
   "outputs": [],
   "source": [
    "sa_gdf.plot(column = 'pop_est',\n",
    "               cmap = \"Wistia\",\n",
    "               figsize = (16,10),\n",
    "               legend = True,\n",
    "               edgecolor = 'black')\n",
    "\n",
    "plt.title(\"South America: Population (est)\")\n",
    "plt.show()"
   ]
  },
  {
   "cell_type": "markdown",
   "id": "29e25bff",
   "metadata": {},
   "source": [
    "Formatos de dados GEO:\n",
    "\n",
    "- shp: [Shapefile](https://en.wikipedia.org/wiki/Shapefile#:~:text=The%20shapefile%20format%20is%20a,information%20system%20(GIS)%20software.&text=The%20shapefile%20format%20can%20spatially,wells%2C%20rivers%2C%20and%20lakes.) (zip com 3 arquivos: .shp, .shx, e .dbf)\n",
    "- geojson: https://geojson.org/\n",
    "- gpkg: [GeoPackage](https://en.wikipedia.org/wiki/GeoPackage)\n",
    "\n",
    "Podemos obter estes tipos de dados GEO como arquivo ou dinamicamente como chamada de WEB API, normalmente são arquivos grandes.\n",
    "\n",
    "Sites de governos tem dados acurados (GEO), salvar os dados porque os sites mudam muito!!"
   ]
  },
  {
   "cell_type": "markdown",
   "id": "a0be15c6",
   "metadata": {},
   "source": [
    "### GeoViews: (HoloViz)\n",
    "\n",
    "- http://geoviews.org/gallery/index.html\n",
    "- http://geoviews.org\n",
    "\n",
    "### Dicas de Ciências dos Dados:\n",
    "\n",
    "- https://github.com/danielscarvalho/Insper-DS-Dicas/blob/master/Dica-008-what3words.ipynb\n",
    "- https://github.com/danielscarvalho/Insper-DS-Dicas\n",
    "\n",
    "### Referências:\n",
    "\n",
    "- https://geopandas.org/\n",
    "- https://nominatim.org/\n",
    "- https://github.com/tbrugz/geodata-br\n",
    "- https://matplotlib.org/stable/tutorials/colors/colormaps.html\n",
    "- https://contextily.readthedocs.io/en/latest/intro_guide.html"
   ]
  }
 ],
 "metadata": {
  "kernelspec": {
   "display_name": "Python 3 (ipykernel)",
   "language": "python",
   "name": "python3"
  },
  "language_info": {
   "codemirror_mode": {
    "name": "ipython",
    "version": 3
   },
   "file_extension": ".py",
   "mimetype": "text/x-python",
   "name": "python",
   "nbconvert_exporter": "python",
   "pygments_lexer": "ipython3",
   "version": "3.11.5"
  },
  "toc": {
   "base_numbering": 1,
   "nav_menu": {},
   "number_sections": true,
   "sideBar": true,
   "skip_h1_title": false,
   "title_cell": "Table of Contents",
   "title_sidebar": "Contents",
   "toc_cell": false,
   "toc_position": {},
   "toc_section_display": true,
   "toc_window_display": false
  }
 },
 "nbformat": 4,
 "nbformat_minor": 5
}
