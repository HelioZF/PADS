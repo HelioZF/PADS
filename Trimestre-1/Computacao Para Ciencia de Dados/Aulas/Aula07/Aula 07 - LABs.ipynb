{
 "cells": [
  {
   "cell_type": "markdown",
   "id": "d3d68e7f",
   "metadata": {},
   "source": [
    "![Insper](https://github.com/danielscarvalho/Insper-DS-Dicas/blob/master/Insper-Logo.png?raw=true)\n",
    "\n",
    "# Insper Pós-Graduação\n",
    "## Programa Avançado em Data Science e Decisão [»](https://www.insper.edu.br/pos-graduacao/programas-avancados/data-science-e-decisao/)"
   ]
  },
  {
   "cell_type": "markdown",
   "id": "8fdd3ca3",
   "metadata": {},
   "source": [
    "### Aula 07 - LAB\n",
    "\n",
    "Atividades:\n",
    "\n",
    "- Checkpoint (FEITO!)\n",
    "\n",
    "Opções:\n",
    "\n",
    "- Trabalhar na lista 2\n",
    "- Processar dados cartesianos (lista de listas - matriz) com list comprehension encadeadas (prog. funcional)\n",
    "- Consumir WEB API de bitcon, converter epoch para data \"humana\" e visualizar\n",
    "- Escolher WEB API distinta por aluno, consumir dados no Pandas e visualizar\n",
    "- Analisar dados da integradora com Pandas Profiling\n",
    "- Gerar dashboard com HoloViz + Panel\n",
    "\n",
    "Orientação e dúvidas com os professores\n",
    "\n",
    "Realizar estas atividades de estudo nas próximas semanas...  \n",
    "Há duas entregas:\n",
    "1. Lista 2\n",
    "2. Projeto Integrador (Final)\n",
    "\n",
    "Fonte de dados para estudo e pesquisa:\n",
    "\n",
    "- https://www.kaggle.com/\n",
    "- https://www.gutenberg.org/\n",
    "\n",
    "Referências:\n",
    "\n",
    "- https://holoviews.org/\n",
    "- https://panel.holoviz.org/\n"
   ]
  }
 ],
 "metadata": {
  "kernelspec": {
   "display_name": "Python 3 (ipykernel)",
   "language": "python",
   "name": "python3"
  },
  "language_info": {
   "codemirror_mode": {
    "name": "ipython",
    "version": 3
   },
   "file_extension": ".py",
   "mimetype": "text/x-python",
   "name": "python",
   "nbconvert_exporter": "python",
   "pygments_lexer": "ipython3",
   "version": "3.9.12"
  }
 },
 "nbformat": 4,
 "nbformat_minor": 5
}
