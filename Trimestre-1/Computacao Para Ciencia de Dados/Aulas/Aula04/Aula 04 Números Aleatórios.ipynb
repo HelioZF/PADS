{
 "cells": [
  {
   "cell_type": "markdown",
   "metadata": {},
   "source": [
    "![Insper](https://github.com/danielscarvalho/Insper-DS-Dicas/blob/master/Insper-Logo.png?raw=true)\n",
    "\n",
    "# Insper Pós-Graduação\n",
    "## Programa Avançado em Data Science e Decisão [»](https://www.insper.edu.br/pos-graduacao/programas-avancados/data-science-e-decisao/)"
   ]
  },
  {
   "cell_type": "markdown",
   "metadata": {},
   "source": [
    "# Números Aleatórios em Python"
   ]
  },
  {
   "cell_type": "markdown",
   "metadata": {},
   "source": [
    "Chamamos os números aleatórios de pseudoaleatórios, uma vez que são gerados por um algoritmo com um comportamento *determinístico*, baseado na semente (*seed*) do gerador de números aleatórios. \n",
    "\n",
    "Podemos definir a semente usando o comando `np.random.seed`."
   ]
  },
  {
   "cell_type": "code",
   "execution_count": null,
   "metadata": {
    "ExecuteTime": {
     "end_time": "2021-02-20T12:40:35.432980Z",
     "start_time": "2021-02-20T12:40:35.430326Z"
    }
   },
   "outputs": [],
   "source": [
    "import numpy as np"
   ]
  },
  {
   "cell_type": "code",
   "execution_count": null,
   "metadata": {
    "ExecuteTime": {
     "end_time": "2021-02-20T12:40:41.145685Z",
     "start_time": "2021-02-20T12:40:41.143305Z"
    }
   },
   "outputs": [],
   "source": [
    "np.random.seed(1234)"
   ]
  },
  {
   "cell_type": "code",
   "execution_count": null,
   "metadata": {
    "ExecuteTime": {
     "end_time": "2021-02-20T12:40:36.064529Z",
     "start_time": "2021-02-20T12:40:36.060617Z"
    }
   },
   "outputs": [],
   "source": [
    "np.random.randn(10) #sorteia amostras de uma distribuicao normal com média 0 e desvio-padrao 1 "
   ]
  },
  {
   "cell_type": "code",
   "execution_count": null,
   "metadata": {
    "ExecuteTime": {
     "end_time": "2021-02-20T12:40:42.032086Z",
     "start_time": "2021-02-20T12:40:42.027994Z"
    }
   },
   "outputs": [],
   "source": [
    "np.random.randn(10)"
   ]
  },
  {
   "cell_type": "markdown",
   "metadata": {},
   "source": [
    "# Passeios Aleatórios"
   ]
  },
  {
   "cell_type": "markdown",
   "metadata": {},
   "source": [
    "*Random walks* é uma aplicação ilustrativa de como utilizar operações de arrays e números aleatórios. Vamos considerar um passeio aleatório simples que comece em 0, com passos de 1 e -1 ocorrendo com a mesma probabilidade.  Eis uma maneira de implementar em Python puro um passeio aleatório com mil passos."
   ]
  },
  {
   "cell_type": "code",
   "execution_count": null,
   "metadata": {
    "ExecuteTime": {
     "end_time": "2020-12-25T13:43:24.482584Z",
     "start_time": "2020-12-25T13:43:24.477752Z"
    }
   },
   "outputs": [],
   "source": [
    "import random\n",
    "position = 0\n",
    "walk = [position]\n",
    "steps = 1000\n",
    "for i in range(steps):\n",
    "    step = 1 if random.randint(0,1) else -1 \n",
    "    position += step\n",
    "    walk.append(position)"
   ]
  },
  {
   "cell_type": "code",
   "execution_count": null,
   "metadata": {
    "ExecuteTime": {
     "end_time": "2021-02-20T12:57:52.451513Z",
     "start_time": "2021-02-20T12:57:52.449374Z"
    }
   },
   "outputs": [],
   "source": [
    "import matplotlib.pyplot as plt\n",
    "plt.rcParams[\"figure.figsize\"] = (20,8)"
   ]
  },
  {
   "cell_type": "code",
   "execution_count": null,
   "metadata": {
    "ExecuteTime": {
     "end_time": "2020-12-25T13:43:25.067781Z",
     "start_time": "2020-12-25T13:43:24.865977Z"
    }
   },
   "outputs": [],
   "source": [
    "plt.plot(walk[:300])"
   ]
  },
  {
   "cell_type": "markdown",
   "metadata": {},
   "source": [
    "`walk` é a soma cumulativa dos passos aleatórios. Podemos faze-la diretamente com numpy"
   ]
  },
  {
   "cell_type": "code",
   "execution_count": null,
   "metadata": {
    "ExecuteTime": {
     "end_time": "2021-02-20T12:41:03.946844Z",
     "start_time": "2021-02-20T12:41:03.944621Z"
    }
   },
   "outputs": [],
   "source": [
    "nsteps = 1000"
   ]
  },
  {
   "cell_type": "code",
   "execution_count": null,
   "metadata": {
    "ExecuteTime": {
     "end_time": "2021-02-20T12:41:04.531962Z",
     "start_time": "2021-02-20T12:41:04.529193Z"
    }
   },
   "outputs": [],
   "source": [
    "draws = np.random.randint(0, 2, size=nsteps)"
   ]
  },
  {
   "cell_type": "code",
   "execution_count": null,
   "metadata": {
    "ExecuteTime": {
     "end_time": "2021-02-20T12:41:06.335743Z",
     "start_time": "2021-02-20T12:41:06.329977Z"
    }
   },
   "outputs": [],
   "source": [
    "draws"
   ]
  },
  {
   "cell_type": "code",
   "execution_count": null,
   "metadata": {
    "ExecuteTime": {
     "end_time": "2021-02-20T12:41:07.473030Z",
     "start_time": "2021-02-20T12:41:07.469894Z"
    }
   },
   "outputs": [],
   "source": [
    "steps = np.where(draws > 0, 1 , - 1)"
   ]
  },
  {
   "cell_type": "code",
   "execution_count": null,
   "metadata": {
    "ExecuteTime": {
     "end_time": "2021-02-20T12:41:09.049202Z",
     "start_time": "2021-02-20T12:41:09.043450Z"
    }
   },
   "outputs": [],
   "source": [
    "steps"
   ]
  },
  {
   "cell_type": "code",
   "execution_count": null,
   "metadata": {
    "ExecuteTime": {
     "end_time": "2021-02-20T12:41:11.162211Z",
     "start_time": "2021-02-20T12:41:11.159635Z"
    }
   },
   "outputs": [],
   "source": [
    "walk = steps.cumsum()"
   ]
  },
  {
   "cell_type": "code",
   "execution_count": null,
   "metadata": {
    "ExecuteTime": {
     "end_time": "2021-02-20T12:41:22.828060Z",
     "start_time": "2021-02-20T12:41:22.725652Z"
    }
   },
   "outputs": [],
   "source": [
    "plt.plot(walk)"
   ]
  },
  {
   "cell_type": "code",
   "execution_count": null,
   "metadata": {
    "ExecuteTime": {
     "end_time": "2020-12-25T13:33:41.940092Z",
     "start_time": "2020-12-25T13:33:41.936377Z"
    }
   },
   "outputs": [],
   "source": [
    "walk.min()"
   ]
  },
  {
   "cell_type": "code",
   "execution_count": null,
   "metadata": {
    "ExecuteTime": {
     "end_time": "2020-12-25T13:33:44.819873Z",
     "start_time": "2020-12-25T13:33:44.816046Z"
    }
   },
   "outputs": [],
   "source": [
    "walk.max()"
   ]
  },
  {
   "cell_type": "code",
   "execution_count": null,
   "metadata": {},
   "outputs": [],
   "source": []
  },
  {
   "cell_type": "code",
   "execution_count": null,
   "metadata": {},
   "outputs": [],
   "source": []
  },
  {
   "cell_type": "markdown",
   "metadata": {},
   "source": [
    "### O instante da primeira cruzada\n",
    "\n",
    "Trata-se do passo em que o passeio aleatório alcança um determinado valor. Por exemplo, queremos saber quanto tempo demorou para que o passeio aleatório chegasse pelo menos a dez passos de distância da origem 0 em qualquer direção (`np.abs(walk) >= 10`).\n"
   ]
  },
  {
   "cell_type": "code",
   "execution_count": null,
   "metadata": {
    "ExecuteTime": {
     "end_time": "2020-12-25T13:41:08.613946Z",
     "start_time": "2020-12-25T13:41:08.608401Z"
    }
   },
   "outputs": [],
   "source": [
    "np.abs(walk) >= 10"
   ]
  },
  {
   "cell_type": "markdown",
   "metadata": {},
   "source": [
    "Mas como descobrir o primeiro? Podemos fazer uso da função `np.argmax` que retorna a primeira posição do array onde há o valor máximo. Como 1 (True) é o valor máximo, iremos obter o tempo para alcançar a primeira cruzada. Observe que isso não é performático. Você consegue compreender o motivo?"
   ]
  },
  {
   "cell_type": "code",
   "execution_count": null,
   "metadata": {
    "ExecuteTime": {
     "end_time": "2020-12-25T13:41:14.717645Z",
     "start_time": "2020-12-25T13:41:14.713801Z"
    }
   },
   "outputs": [],
   "source": [
    "(np.abs(walk) >= 10).argmax()"
   ]
  },
  {
   "cell_type": "markdown",
   "metadata": {},
   "source": [
    "Referências:\n",
    "\n",
    "- https://en.wikipedia.org/wiki/Random_walk\n",
    "- https://www.stat.berkeley.edu/~aldous/RWG/Book_Ralph/book.html"
   ]
  }
 ],
 "metadata": {
  "kernelspec": {
   "display_name": "Python 3 (ipykernel)",
   "language": "python",
   "name": "python3"
  },
  "language_info": {
   "codemirror_mode": {
    "name": "ipython",
    "version": 3
   },
   "file_extension": ".py",
   "mimetype": "text/x-python",
   "name": "python",
   "nbconvert_exporter": "python",
   "pygments_lexer": "ipython3",
   "version": "3.11.5"
  },
  "toc": {
   "base_numbering": 1,
   "nav_menu": {},
   "number_sections": true,
   "sideBar": true,
   "skip_h1_title": false,
   "title_cell": "Table of Contents",
   "title_sidebar": "Contents",
   "toc_cell": false,
   "toc_position": {},
   "toc_section_display": true,
   "toc_window_display": false
  }
 },
 "nbformat": 4,
 "nbformat_minor": 4
}
