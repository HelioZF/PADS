{
 "cells": [
  {
   "cell_type": "markdown",
   "metadata": {},
   "source": [
    "![Insper](https://github.com/danielscarvalho/Insper-DS-Dicas/blob/master/Insper-Logo.png?raw=true)\n",
    "\n",
    "# Insper Pós-Graduação\n",
    "## Programa Avançado em Data Science e Decisão [»](https://www.insper.edu.br/pos-graduacao/programas-avancados/data-science-e-decisao)"
   ]
  },
  {
   "cell_type": "markdown",
   "metadata": {
    "nteract": {
     "transient": {
      "deleting": false
     }
    }
   },
   "source": [
    "# Aula 10 - Encerramento\n",
    "\n",
    "- Programação funcional (Notebook na Aula 08)\n",
    "- Revisão de Python\n",
    "- LAB\n",
    "- Apresentação da atividade integradora (10 min por grupo)\n",
    "\n",
    "\n",
    "---"
   ]
  },
  {
   "cell_type": "markdown",
   "metadata": {},
   "source": [
    "Para estudar mais sobre Python & Ciências dos Dados:\n",
    "\n",
    "- https://penseallen.github.io/PensePython2e/\n",
    "- https://books.goalkicker.com/PythonBook/\n",
    "- https://jakevdp.github.io/PythonDataScienceHandbook/\n",
    "- https://docs.python-guide.org/\n",
    "- https://data-science-for-biz.com/\n",
    "- https://pythonfluente.com/\n",
    "- https://allendowney.github.io/ElementsOfDataScience/\n",
    "- https://docs.python.org/3/\n",
    "\n",
    "<div style=\"display: inline-block;\">\n",
    "    \n",
    "<img  style=\"display: inline-block;\" src=\"https://d33wubrfki0l68.cloudfront.net/7b1098a979f88fe7168ab273be04a96c85dd7702/2c5e5/_static/guide-book-cover.jpg\" width=\"100px\">\n",
    "\n",
    "<img  style=\"display: inline-block;\" src=\"https://jakevdp.github.io/PythonDataScienceHandbook/figures/PDSH-cover.png\" width=\"100px\">\n",
    "\n",
    "<img  style=\"display: inline-block;\" src=\"https://github.com/PenseAllen/PensePython2e/raw/master/img/Capa_PenseEmPython167x232.png\" width=\"100px\">\n",
    "\n",
    "<img  style=\"display: inline-block;\" src=\"https://books.goalkicker.com/PythonBook/PythonGrow.png\" width=\"100px\">\n",
    "</div>    \n",
    "\n",
    "<img  style=\"display: inline-block;\" src=\"https://data-science-for-biz.com/wp-content/uploads/2021/01/Data-Science-for-Business-Book-Cover.jpeg\" width=\"100px\">\n",
    "\n",
    "<img  style=\"display: inline-block;\" src=\"https://m.media-amazon.com/images/I/81OvszBEdhL._SL1500_.jpg\" width=\"100px\">\n",
    "\n",
    "<img  style=\"display: inline-block;\" src=\"https://github.com/AllenDowney/ElementsOfDataScience/raw/v1/eds_cover.png\" width=\"100px\">\n",
    "\n",
    "\n",
    "</div>    \n",
    "\n"
   ]
  },
  {
   "cell_type": "markdown",
   "metadata": {},
   "source": [
    "Dicas de Python & Ciências dos Dados:\n",
    "    \n",
    "- https://github.com/danielscarvalho/Insper-DS-Dicas\n",
    "\n"
   ]
  },
  {
   "cell_type": "markdown",
   "metadata": {},
   "source": [
    "<img src=\"https://github.com/danielscarvalho/Insper-DS-Dicas/blob/master/img/proclamation.png?raw=true\" width=\"400px\">"
   ]
  },
  {
   "cell_type": "code",
   "execution_count": null,
   "metadata": {},
   "outputs": [],
   "source": []
  }
 ],
 "metadata": {
  "kernel_info": {
   "name": "python3"
  },
  "kernelspec": {
   "display_name": "Python 3 (ipykernel)",
   "language": "python",
   "name": "python3"
  },
  "language_info": {
   "codemirror_mode": {
    "name": "ipython",
    "version": 3
   },
   "file_extension": ".py",
   "mimetype": "text/x-python",
   "name": "python",
   "nbconvert_exporter": "python",
   "pygments_lexer": "ipython3",
   "version": "3.11.5"
  },
  "nteract": {
   "version": "0.28.0"
  },
  "toc": {
   "base_numbering": 1,
   "nav_menu": {},
   "number_sections": true,
   "sideBar": true,
   "skip_h1_title": false,
   "title_cell": "Table of Contents",
   "title_sidebar": "Contents",
   "toc_cell": false,
   "toc_position": {},
   "toc_section_display": true,
   "toc_window_display": false
  }
 },
 "nbformat": 4,
 "nbformat_minor": 4
}
