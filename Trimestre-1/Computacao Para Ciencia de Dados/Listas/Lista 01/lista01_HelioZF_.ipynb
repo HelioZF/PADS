{
 "cells": [
  {
   "cell_type": "markdown",
   "metadata": {},
   "source": [
    "INSPER - Computação para a Ciência dos Dados\n",
    "\n",
    "# Computação para a Ciência dos Dados - Lista 01\n",
    "\n",
    "Faça a lista abaixo para praticar programação em Python. Utilize os conceitos vistos na Aula 01, dicas abaixo e consulte documentações de Python na internet. Em caso de dúvidas, contate o Prof. Suelane. \n",
    "\n",
    "**Entrega**:xx/xx/xxxx, 18h, via Blackboard - IMPORTANTE: renomeie o notebook incluindo seu nome! "
   ]
  },
  {
   "cell_type": "markdown",
   "metadata": {},
   "source": [
    "## 01 - Variáveis\n",
    "Crie duas variáveis, uma para salvar sua idade e outra para salvar seu nome completo. Depois, utilize o `print()` para imprimir a mensagem \"Olá, meu nome é _seu nome_ , tenho _sua idade_ anos.\". Importante: o texto precisa ser preenchido utilizando as variáveis criadas."
   ]
  },
  {
   "cell_type": "code",
   "execution_count": 2,
   "metadata": {},
   "outputs": [
    {
     "name": "stdout",
     "output_type": "stream",
     "text": [
      "Olá, meu nome é Hélio Zaia Franciscon, tenho 25 anos.\n"
     ]
    }
   ],
   "source": [
    "meu_nome = \"Hélio Zaia Franciscon\"\n",
    "minha_idade = 25\n",
    "\n",
    "print(f\"Olá, meu nome é {meu_nome}, tenho {minha_idade} anos.\")"
   ]
  },
  {
   "cell_type": "markdown",
   "metadata": {},
   "source": [
    "## 02 - Calculando médias\n",
    "\n",
    "Escreva um programa que calcula e retorna a média de uma lista de idades. Você **não** pode usar as funções prontas de Python como `sum()`. "
   ]
  },
  {
   "cell_type": "code",
   "execution_count": 3,
   "metadata": {},
   "outputs": [],
   "source": [
    "idades = [20, 21, 20, 22, 19, 18, 14, 35] # Deve retornar 21.125"
   ]
  },
  {
   "cell_type": "code",
   "execution_count": 7,
   "metadata": {},
   "outputs": [
    {
     "name": "stdout",
     "output_type": "stream",
     "text": [
      "Media do vetor idades:  21.125\n"
     ]
    }
   ],
   "source": [
    "soma = 0\n",
    "for idade in idades:\n",
    "    soma+=idade\n",
    "media_idades = soma/len(idades)\n",
    "print(\"Media do vetor idades: \", media_idades)"
   ]
  },
  {
   "cell_type": "markdown",
   "metadata": {},
   "source": [
    "## 03 - Soma de inteiros \n",
    "Faça um programa que leia 4 números inteiros, armazene-os em uma lista, imprima a lista e a soma dos valores. Não utilize funções prontas do Python para realizar a soma.\n",
    "\n",
    "**Dica**: estude o funcionamento da função `input()` e das conversões de tipos de dados de strings para números."
   ]
  },
  {
   "cell_type": "code",
   "execution_count": 5,
   "metadata": {},
   "outputs": [
    {
     "name": "stdout",
     "output_type": "stream",
     "text": [
      "Insira 4 números inteiros\n",
      "Número adicionado ao vetor\n",
      "Número adicionado ao vetor\n",
      "Número adicionado ao vetor\n",
      "Número adicionado ao vetor\n",
      "Vetor com os números inseridos:  [4, 3, 2, 1]\n",
      "Soma dos valores inseridos:  10\n"
     ]
    }
   ],
   "source": [
    "def dinamic_list():\n",
    "    lista_numeros = []\n",
    "    soma = 0\n",
    "    print(\"Insira 4 números inteiros\")\n",
    "    for i in range(0,4):\n",
    "        x = int(input())\n",
    "        soma += x\n",
    "        lista_numeros.append(x)\n",
    "        print(\"Número adicionado ao vetor\")\n",
    "    print(\"Vetor com os números inseridos: \",lista_numeros)\n",
    "    print(\"Soma dos valores inseridos: \", soma)\n",
    "\n",
    "\n",
    "dinamic_list()"
   ]
  },
  {
   "cell_type": "markdown",
   "metadata": {},
   "source": [
    "## 04 - List Comprehension\n",
    "Crie uma _List Comprehension_ para gerar uma lista com os quadrados PARES dos números inteiros de 0 até n, sendo que n é o valor de uma variável. \n",
    "\n",
    "Ex: `n = 10`, deve gerar a lista `[0, 4, 16, 36, 64, 100]`"
   ]
  },
  {
   "cell_type": "code",
   "execution_count": 8,
   "metadata": {},
   "outputs": [
    {
     "data": {
      "text/plain": [
       "[0, 4, 16, 36, 64, 100]"
      ]
     },
     "execution_count": 8,
     "metadata": {},
     "output_type": "execute_result"
    }
   ],
   "source": [
    "def list_comprehension(n):\n",
    "    quadrados_pares = [x**2 for x in range(n+1) if x % 2 == 0]\n",
    "    return quadrados_pares\n",
    "list_comprehension(10)"
   ]
  },
  {
   "cell_type": "markdown",
   "metadata": {},
   "source": [
    "## 05 - Pirâmide \n",
    "\n",
    "Dado um inteiro _n_ informado pelo usuário, faça um programa para imprimir a seguinte estrutura até a _n_-ésima linha.\n",
    "\n",
    "    1\n",
    "    2   2\n",
    "    3   3   3\n",
    "    .....\n",
    "    n   n   n   n   n   n  ... n"
   ]
  },
  {
   "cell_type": "code",
   "execution_count": 15,
   "metadata": {},
   "outputs": [
    {
     "name": "stdout",
     "output_type": "stream",
     "text": [
      "1 \n",
      "2 2 \n",
      "3 3 3 \n",
      "4 4 4 4 \n",
      "5 5 5 5 5 \n",
      "6 6 6 6 6 6 \n",
      "7 7 7 7 7 7 7 \n",
      "8 8 8 8 8 8 8 8 \n",
      "9 9 9 9 9 9 9 9 9 \n",
      "10 10 10 10 10 10 10 10 10 10 \n",
      "11 11 11 11 11 11 11 11 11 11 11 \n",
      "12 12 12 12 12 12 12 12 12 12 12 12 \n",
      "13 13 13 13 13 13 13 13 13 13 13 13 13 \n",
      "14 14 14 14 14 14 14 14 14 14 14 14 14 14 \n",
      "15 15 15 15 15 15 15 15 15 15 15 15 15 15 15 \n"
     ]
    }
   ],
   "source": [
    "def esquema_de_piramide(n):\n",
    "    for i in range(1,n+1):\n",
    "        print((str(i)+\" \")*i)\n",
    "    return None\n",
    "\n",
    "esquema_de_piramide(int(input()))"
   ]
  },
  {
   "cell_type": "markdown",
   "metadata": {},
   "source": [
    "## 06 - Loja de tintas\n",
    "\n",
    "Faça um programa para uma loja de tintas. O programa deverá pedir o tamanho em metros quadrados da área a ser pintada. Considere que a cobertura da tinta é de 1 litro para cada 3 metros quadrados e que a tinta é vendida em latas de 18 litros, que custam R$ 80,00. Informe ao usuário a quantidades de latas de tinta a serem compradas e o preço total."
   ]
  },
  {
   "cell_type": "code",
   "execution_count": 19,
   "metadata": {},
   "outputs": [
    {
     "name": "stdout",
     "output_type": "stream",
     "text": [
      "Serão necessárias 6 latas e o custo total é de R$480\n"
     ]
    }
   ],
   "source": [
    "def loja_de_tintas(area_pintar):\n",
    "    # 1litro p/ 3m^2\n",
    "    # latas 18l R$ 80,00 cada\n",
    "    import math\n",
    "    litro_por_metro = 1/3\n",
    "    custo_lata = 80\n",
    "    volume_lata = 18\n",
    "\n",
    "    litros_necessarios = area_pintar * litro_por_metro\n",
    "    latas_necessarias = math.ceil(litros_necessarios / volume_lata)\n",
    "    preco_total = latas_necessarias * custo_lata\n",
    "\n",
    "    return [latas_necessarias, preco_total]\n",
    "\n",
    "area_para_pintar = float(input(\"Digite o tamanho da área a ser pintada em m^2\"))\n",
    "print(f\"Serão necessárias {loja_de_tintas(area_para_pintar)[0]} latas e o custo total é de R${loja_de_tintas(area_para_pintar)[1]}\" )\n"
   ]
  },
  {
   "cell_type": "markdown",
   "metadata": {},
   "source": [
    "## 07 - Palíndromos\n",
    "\n",
    "Um palíndromo é uma sequência de caracteres cuja leitura é idêntica se feita da direita para esquerda ou vice−versa. Por exemplo: `OSSO` e `OVO` são palíndromos. Em textos mais complexos os espaços e pontuação são ignorados. A frase `SUBI NO ONIBUS` é o exemplo de uma frase palíndroma onde os espaços foram ignorados. Faça um programa que leia uma string, mostre−a e diga se é um palíndromo ou não."
   ]
  },
  {
   "cell_type": "code",
   "execution_count": 44,
   "metadata": {},
   "outputs": [
    {
     "name": "stdout",
     "output_type": "stream",
     "text": [
      "[True, True, True, True, True, True, True, True, True, True, True, True]\n"
     ]
    },
    {
     "data": {
      "text/plain": [
       "'É um Palíndromo'"
      ]
     },
     "execution_count": 44,
     "metadata": {},
     "output_type": "execute_result"
    }
   ],
   "source": [
    "def palindromo_detector(palavra):\n",
    "    #retirando os espaços\n",
    "    palavra = palavra.replace(\" \", \"\")\n",
    "    checklist = []\n",
    "    n = len(palavra)\n",
    "    for i in palavra:\n",
    "        if (i == palavra[n-1]):\n",
    "            checklist.append(True)\n",
    "        else: \n",
    "            checklist.append(False)\n",
    "        n-=1\n",
    "    if all(checklist):\n",
    "        return \"É um Palíndromo\"\n",
    "    else:\n",
    "        return \"Não é um Palíndromo\"\n",
    "palindromo = input(\"Digite um palindromo: \")\n",
    "palindromo_detector('subi no onibus')        "
   ]
  },
  {
   "cell_type": "markdown",
   "metadata": {},
   "source": [
    "## 08 - Lista de compras\n",
    "Utilizando o arquivo `supermercado.csv` anexado, complete o programa abaixo para responder aos seguintes desafios: \n",
    "\n",
    "1. Qual o valor total da compra? \n",
    "2. Quantos produtos foram comprados? Se representar uma fração, considere um único produto\n",
    "3. Qual o produto mais caro (em termos de valor unitário)?\n",
    "\n",
    "_Importante_ : você não pode usar bibliotecas auxiliares como Pandas ou similares. Aproveite para exercitar os comandos básicos do Python!\n",
    "\n",
    "_Estrutura do arquivo_ : para cada linha temos PRODUTO;QUANTIDADE;PRECO UNIT. (R$). Exemplo: Achocolatado;2;5.89\n",
    "\n",
    "_Dica_ : antes de seguir o código abaixo, verifique o conteúdo da variável `lines` e faça as adaptações necessárias "
   ]
  },
  {
   "cell_type": "code",
   "execution_count": 75,
   "metadata": {},
   "outputs": [
    {
     "name": "stdout",
     "output_type": "stream",
     "text": [
      "Valor total da compra: R$ 743.07\n",
      "Total de produtos comprados: 130\n",
      "Produto mais caro (valor unitário): Presunto - R$ 50.00\n"
     ]
    }
   ],
   "source": [
    "# Leitura do conteúdo do arquivo\n",
    "file_path = \"/home/heliozf/Linux_PADS/PADS/Computacao Para Ciencia de Dados/Listas/Lista 01/supermercado.csv\"\n",
    "f = open(file_path, 'r')\n",
    "lines = f.readlines()\n",
    "f.close()\n",
    "\n",
    "\n",
    "# Inicializa as variáveis\n",
    "valor_total_compra = 0.0\n",
    "total_produtos = 0\n",
    "produto_mais_caro = ''\n",
    "maior_preco_unitario = 0.0\n",
    "\n",
    "# Gera uma matriz de informações, cada produto numa linha, cada info numa coluna\n",
    "for line in lines[1:]:\n",
    "    #Separando os dados por linha em variaveis\n",
    "    produto, quantidade, preco_unitario = line.strip().split(';')\n",
    "\n",
    "    #transformando a unidade\n",
    "    quantidade = float(quantidade)\n",
    "    preco_unitario = float(preco_unitario)\n",
    "    \n",
    "    #Somando os valores da compra\n",
    "    valor_total_compra += quantidade * preco_unitario\n",
    "    \n",
    "    # Soma as quantidades de produtos (arredondando para cima em caso de fraçoes)\n",
    "    total_produtos += int(quantidade) if quantidade.is_integer() else int(quantidade) + 1\n",
    "    \n",
    "    # Verifica se o produto atual é o mais caro em termos de valor unitário\n",
    "    if preco_unitario > maior_preco_unitario:\n",
    "        maior_preco_unitario = preco_unitario\n",
    "        produto_mais_caro = produto\n",
    "\n",
    "print(f\"Valor total da compra: R$ {valor_total_compra:.2f}\")\n",
    "print(f\"Total de produtos comprados: {total_produtos}\")\n",
    "print(f\"Produto mais caro (valor unitário): {produto_mais_caro} - R$ {maior_preco_unitario:.2f}\")\n",
    "\n",
    "# Aqui você terá que converter os tipos de dados de acordo o formato da informação da lista (int, double ou string)\n",
    "\n",
    "\n",
    "# Continue..."
   ]
  },
  {
   "cell_type": "code",
   "execution_count": 49,
   "metadata": {},
   "outputs": [
    {
     "data": {
      "text/plain": [
       "'/home/heliozf/Linux_PADS/PADS'"
      ]
     },
     "execution_count": 49,
     "metadata": {},
     "output_type": "execute_result"
    }
   ],
   "source": []
  },
  {
   "cell_type": "code",
   "execution_count": 73,
   "metadata": {},
   "outputs": [
    {
     "data": {
      "text/plain": [
       "['PRODUTO;QUANTIDADE;PRECO UNIT. (R$)\\n',\n",
       " 'Achocolatado;2;5.89\\n',\n",
       " 'Acucar;3;2.03\\n',\n",
       " 'Agua;10;1.89\\n']"
      ]
     },
     "execution_count": 73,
     "metadata": {},
     "output_type": "execute_result"
    }
   ],
   "source": []
  },
  {
   "cell_type": "code",
   "execution_count": 74,
   "metadata": {},
   "outputs": [
    {
     "data": {
      "text/plain": [
       "['Achocolatado;2;5.89\\n',\n",
       " 'Acucar;3;2.03\\n',\n",
       " 'Agua;10;1.89\\n',\n",
       " 'Alface;1;2.99\\n']"
      ]
     },
     "execution_count": 74,
     "metadata": {},
     "output_type": "execute_result"
    }
   ],
   "source": []
  },
  {
   "cell_type": "code",
   "execution_count": 75,
   "metadata": {},
   "outputs": [
    {
     "data": {
      "text/plain": [
       "[['Achocolatado', '2', '5.89'],\n",
       " ['Acucar', '3', '2.03'],\n",
       " ['Agua', '10', '1.89'],\n",
       " ['Alface', '1', '2.99']]"
      ]
     },
     "execution_count": 75,
     "metadata": {},
     "output_type": "execute_result"
    }
   ],
   "source": []
  },
  {
   "cell_type": "code",
   "execution_count": 76,
   "metadata": {},
   "outputs": [
    {
     "data": {
      "text/plain": [
       "[['Achocolatado', 2.0, 5.89],\n",
       " ['Acucar', 3.0, 2.03],\n",
       " ['Agua', 10.0, 1.89],\n",
       " ['Alface', 1.0, 2.99]]"
      ]
     },
     "execution_count": 76,
     "metadata": {},
     "output_type": "execute_result"
    }
   ],
   "source": []
  },
  {
   "cell_type": "code",
   "execution_count": 77,
   "metadata": {},
   "outputs": [
    {
     "data": {
      "text/plain": [
       "798.8499999999998"
      ]
     },
     "execution_count": 77,
     "metadata": {},
     "output_type": "execute_result"
    }
   ],
   "source": []
  },
  {
   "cell_type": "code",
   "execution_count": 78,
   "metadata": {},
   "outputs": [
    {
     "data": {
      "text/plain": [
       "122.0"
      ]
     },
     "execution_count": 78,
     "metadata": {},
     "output_type": "execute_result"
    }
   ],
   "source": []
  },
  {
   "cell_type": "code",
   "execution_count": 79,
   "metadata": {},
   "outputs": [
    {
     "data": {
      "text/plain": [
       "[('Presunto', 50.0),\n",
       " ('Queijo', 45.0),\n",
       " ('Mortadela', 40.0),\n",
       " ('Vinho', 37.0),\n",
       " ('Azeite', 17.8)]"
      ]
     },
     "execution_count": 79,
     "metadata": {},
     "output_type": "execute_result"
    }
   ],
   "source": []
  }
 ],
 "metadata": {
  "kernelspec": {
   "display_name": "Python 3 (ipykernel)",
   "language": "python",
   "name": "python3"
  },
  "language_info": {
   "codemirror_mode": {
    "name": "ipython",
    "version": 3
   },
   "file_extension": ".py",
   "mimetype": "text/x-python",
   "name": "python",
   "nbconvert_exporter": "python",
   "pygments_lexer": "ipython3",
   "version": "3.12.4"
  }
 },
 "nbformat": 4,
 "nbformat_minor": 4
}
