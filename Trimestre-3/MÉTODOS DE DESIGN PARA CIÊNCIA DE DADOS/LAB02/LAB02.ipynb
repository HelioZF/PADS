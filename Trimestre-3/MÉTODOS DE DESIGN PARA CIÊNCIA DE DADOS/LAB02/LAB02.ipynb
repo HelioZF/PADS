{
 "cells": [
  {
   "cell_type": "code",
   "execution_count": 1,
   "metadata": {},
   "outputs": [
    {
     "data": {
      "text/plain": [
       "1"
      ]
     },
     "execution_count": 1,
     "metadata": {},
     "output_type": "execute_result"
    }
   ],
   "source": [
    "import os\n",
    "import pandas as pd\n",
    "import numpy as np\n",
    "import matplotlib.pyplot as plt\n",
    "import seaborn as sns\n",
    "from wordcloud import WordCloud\n",
    "\n",
    "# Baixar os dados do Kaggle (certifique-se de ter o kaggle.json configurado)\n",
    "os.system(\"kaggle datasets download -d olistbr/brazilian-ecommerce -p ./ --unzip\")\n"
   ]
  },
  {
   "cell_type": "code",
   "execution_count": 2,
   "metadata": {},
   "outputs": [],
   "source": [
    "\n",
    "folder = r\"C:\\Users\\helio\\OneDrive\\Documentos\\Insper\\PADS\\PADS\\Trimestre-3\\MÉTODOS DE DESIGN PARA CIÊNCIA DE DADOS\\Olist_Data\"\n",
    "# Carregar os datasets\n",
    "orders = pd.read_csv(os.path.join(folder+\"/olist_orders_dataset.csv\"))\n",
    "order_items = pd.read_csv(os.path.join(folder+\"/olist_order_items_dataset.csv\"))\n",
    "customers = pd.read_csv(os.path.join(folder+\"/olist_customers_dataset.csv\"))\n",
    "sellers = pd.read_csv(os.path.join(folder+\"/olist_sellers_dataset.csv\"))\n",
    "products = pd.read_csv(os.path.join(folder+\"/olist_products_dataset.csv\"))\n",
    "payments = pd.read_csv(os.path.join(folder+\"/olist_order_payments_dataset.csv\"))\n",
    "reviews = pd.read_csv(os.path.join(folder+\"/olist_order_reviews_dataset.csv\"))\n",
    "geolocation = pd.read_csv(os.path.join(folder+\"/olist_geolocation_dataset.csv\"))\n"
   ]
  },
  {
   "cell_type": "code",
   "execution_count": null,
   "metadata": {},
   "outputs": [
    {
     "name": "stdout",
     "output_type": "stream",
     "text": [
      "Gerando frame 0/22 - Ano: 2016.75\n"
     ]
    }
   ],
   "source": [
    "import pandas as pd\n",
    "import os\n",
    "import numpy as np\n",
    "import plotly.express as px\n",
    "import imageio.v2 as imageio  # Para criar o GIF\n",
    "\n",
    "# Carregar datasets\n",
    "folder = r\"C:\\Users\\helio\\OneDrive\\Documentos\\Insper\\PADS\\PADS\\Trimestre-3\\MÉTODOS DE DESIGN PARA CIÊNCIA DE DADOS\\Olist_Data\"\n",
    "\n",
    "orders = pd.read_csv(os.path.join(folder, \"olist_orders_dataset.csv\"))\n",
    "order_items = pd.read_csv(os.path.join(folder, \"olist_order_items_dataset.csv\"))\n",
    "products = pd.read_csv(os.path.join(folder, \"olist_products_dataset.csv\"))\n",
    "\n",
    "# Converter timestamp para data e extrair ano e mês\n",
    "orders[\"order_purchase_timestamp\"] = pd.to_datetime(orders[\"order_purchase_timestamp\"])\n",
    "orders[\"year_month\"] = orders[\"order_purchase_timestamp\"].dt.year + (orders[\"order_purchase_timestamp\"].dt.month - 1) / 12\n",
    "\n",
    "# Unir tabelas\n",
    "df = order_items.merge(orders[[\"order_id\", \"year_month\"]], on=\"order_id\", how=\"left\")\n",
    "df = df.merge(products[[\"product_id\", \"product_length_cm\", \"product_height_cm\", \"product_width_cm\"]], on=\"product_id\", how=\"left\")\n",
    "\n",
    "# Calcular volume (cm³)\n",
    "df[\"volume_cm3\"] = df[\"product_length_cm\"] * df[\"product_height_cm\"] * df[\"product_width_cm\"]\n",
    "\n",
    "# Filtrar dados válidos\n",
    "df = df.dropna(subset=[\"volume_cm3\", \"freight_value\", \"year_month\"])\n",
    "\n",
    "# Aplicar amostragem para reduzir tempo de execução (aumentei para 1% dos dados)\n",
    "df = df.sample(frac=0.01, random_state=42)\n",
    "\n",
    "# Criar lista de frames interpolados (1 frame por mês)\n",
    "frames = np.arange(df[\"year_month\"].min(), df[\"year_month\"].max(), 1/12)\n",
    "\n",
    "# Criar pasta para armazenar imagens temporárias\n",
    "output_folder = \"frames_gif\"\n",
    "os.makedirs(output_folder, exist_ok=True)\n",
    "\n",
    "# Lista para armazenar os caminhos das imagens\n",
    "image_paths = []\n",
    "\n",
    "# Criar gráficos individuais para cada frame\n",
    "for i, year in enumerate(frames):\n",
    "    if i % 10 == 0:  # Reduz a frequência de prints para não travar o notebook\n",
    "        print(f\"Gerando frame {i}/{len(frames)} - Ano: {year:.2f}\")\n",
    "    \n",
    "    df_temp = df[df[\"year_month\"] <= year]  # Filtrar os dados até o mês atual\n",
    "    \n",
    "    fig = px.scatter(df_temp, x=\"volume_cm3\", y=\"freight_value\",\n",
    "                     title=f\"Correlação entre Volume e Preço do Frete ({year:.2f})\",\n",
    "                     labels={\"volume_cm3\": \"Volume do Produto (cm³)\", \"freight_value\": \"Preço do Frete (R$)\"},\n",
    "                     opacity=0.6)\n",
    "    \n",
    "    # Caminho do arquivo de imagem\n",
    "    img_path = os.path.join(output_folder, f\"frame_{i:03d}.png\")\n",
    "    fig.write_image(img_path, scale=1.5)  # Salva com qualidade otimizada\n",
    "    image_paths.append(img_path)\n",
    "\n",
    "# Criar GIF a partir das imagens geradas (ajustada a duração para melhor fluidez)\n",
    "gif_path = \"grafico_animado.gif\"\n",
    "with imageio.get_writer(gif_path, mode='I', duration=0.2) as writer:\n",
    "    for img in image_paths:\n",
    "        image = imageio.imread(img)\n",
    "        writer.append_data(image)\n",
    "\n",
    "# Exibir GIF no Jupyter Notebook\n",
    "from IPython.display import Image\n",
    "Image(gif_path)"
   ]
  },
  {
   "cell_type": "code",
   "execution_count": null,
   "metadata": {},
   "outputs": [],
   "source": []
  }
 ],
 "metadata": {
  "kernelspec": {
   "display_name": "base",
   "language": "python",
   "name": "python3"
  },
  "language_info": {
   "codemirror_mode": {
    "name": "ipython",
    "version": 3
   },
   "file_extension": ".py",
   "mimetype": "text/x-python",
   "name": "python",
   "nbconvert_exporter": "python",
   "pygments_lexer": "ipython3",
   "version": "3.11.7"
  }
 },
 "nbformat": 4,
 "nbformat_minor": 2
}
