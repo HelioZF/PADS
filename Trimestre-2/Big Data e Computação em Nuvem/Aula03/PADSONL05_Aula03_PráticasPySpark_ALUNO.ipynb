{
  "nbformat": 4,
  "nbformat_minor": 0,
  "metadata": {
    "colab": {
      "provenance": []
    },
    "kernelspec": {
      "name": "python3",
      "display_name": "Python 3"
    },
    "language_info": {
      "name": "python"
    }
  },
  "cells": [
    {
      "cell_type": "markdown",
      "source": [
        "Insper\n",
        "\n",
        "# Aula 03 - Práticas PySpak\n",
        "\n",
        "## Configurando Spark localmente\n",
        "\n",
        "Instalando o Spark na versão 3.1.3 no Colab. Eventualmente você precisará reiniciar seu ambiente."
      ],
      "metadata": {
        "id": "pN9zpULRc5Iu"
      }
    },
    {
      "cell_type": "code",
      "execution_count": null,
      "metadata": {
        "id": "d51t5gyuczZj"
      },
      "outputs": [],
      "source": [
        "!pip install pyspark==3.1.3"
      ]
    },
    {
      "cell_type": "markdown",
      "source": [
        "## Lab 1 - Cálculo do PI\n",
        "\n",
        "A proporção de pontos internos ao círculo circunscrito no quadrado de raio=1 é igual à PI / 4"
      ],
      "metadata": {
        "id": "2pFN-uxhO6r6"
      }
    },
    {
      "cell_type": "code",
      "source": [
        "from pyspark.sql import SparkSession\n",
        "\n",
        "spark = (SparkSession.builder\n",
        "        .master(\"local[*]\")\n",
        "        .appName(\"PI\")\n",
        "        .getOrCreate())\n",
        "\n",
        "spark"
      ],
      "metadata": {
        "id": "-vGoKTgGN9Q0"
      },
      "execution_count": null,
      "outputs": []
    },
    {
      "cell_type": "code",
      "source": [
        "from random import random\n",
        "\n",
        "def circulo(_):\n",
        "    x = random()\n",
        "    y = random()\n",
        "\n",
        "    if (x**2 + y**2) <= 1:\n",
        "        return 1\n",
        "    else:\n",
        "        return 0"
      ],
      "metadata": {
        "id": "giEPLByZN9fl"
      },
      "execution_count": null,
      "outputs": []
    },
    {
      "cell_type": "code",
      "source": [],
      "metadata": {
        "id": "dnPZrEghPFFa"
      },
      "execution_count": null,
      "outputs": []
    },
    {
      "cell_type": "code",
      "source": [],
      "metadata": {
        "id": "AygCtYVZPFHz"
      },
      "execution_count": null,
      "outputs": []
    },
    {
      "cell_type": "code",
      "source": [],
      "metadata": {
        "id": "c5aqUYE4N9iW"
      },
      "execution_count": null,
      "outputs": []
    },
    {
      "cell_type": "code",
      "source": [],
      "metadata": {
        "id": "1hzHCMHDN9lF"
      },
      "execution_count": null,
      "outputs": []
    },
    {
      "cell_type": "code",
      "source": [],
      "metadata": {
        "id": "QPcqaa2wPNuJ"
      },
      "execution_count": null,
      "outputs": []
    },
    {
      "cell_type": "code",
      "source": [],
      "metadata": {
        "id": "-RxSzz3FPNww"
      },
      "execution_count": null,
      "outputs": []
    },
    {
      "cell_type": "code",
      "source": [],
      "metadata": {
        "id": "gXX6dMBTPNzV"
      },
      "execution_count": null,
      "outputs": []
    },
    {
      "cell_type": "code",
      "source": [
        "import math\n",
        "math.pi"
      ],
      "metadata": {
        "id": "HJhoQGInPN2k"
      },
      "execution_count": null,
      "outputs": []
    },
    {
      "cell_type": "code",
      "source": [],
      "metadata": {
        "id": "fo-DfRRUPyer"
      },
      "execution_count": null,
      "outputs": []
    },
    {
      "cell_type": "markdown",
      "source": [
        "## Lab 2 - Cálculos simples em RDD\n",
        "\n",
        "Faça um programa em Spark que:\n",
        "\n",
        "- Crie uma RDD com 30 inteiros\n",
        "- Subtraia 1 de cada valor utilizando `map()`\n",
        "- Realize o `collect()` para visualizar os resultados\n",
        "- Realize o `count()` para verificar quantos registros existem na RDD\n",
        "- Filtre valores abaixo de 10"
      ],
      "metadata": {
        "id": "obFlgiKZPzWk"
      }
    },
    {
      "cell_type": "code",
      "source": [],
      "metadata": {
        "id": "kxc9YXEYPy5z"
      },
      "execution_count": null,
      "outputs": []
    },
    {
      "cell_type": "code",
      "source": [],
      "metadata": {
        "id": "HNjFu4YkPg4k"
      },
      "execution_count": null,
      "outputs": []
    },
    {
      "cell_type": "code",
      "source": [],
      "metadata": {
        "collapsed": true,
        "id": "GAOfLDOMQOKR"
      },
      "execution_count": null,
      "outputs": []
    },
    {
      "cell_type": "code",
      "source": [],
      "metadata": {
        "id": "z_AnV44EQONC"
      },
      "execution_count": null,
      "outputs": []
    },
    {
      "cell_type": "code",
      "source": [],
      "metadata": {
        "id": "gWUAgLn1QOQK"
      },
      "execution_count": null,
      "outputs": []
    },
    {
      "cell_type": "code",
      "source": [],
      "metadata": {
        "id": "-dWrWKaYQhly"
      },
      "execution_count": null,
      "outputs": []
    },
    {
      "cell_type": "markdown",
      "source": [
        "## Lab 3 - Análise de dados (simples) do MovieLens\n",
        "\n",
        "Vamos complicar um pouco as coisas! Agora vamos trabalhar com uma base de dados. Para isso, vamos baixar a base.\n",
        "\n",
        "### Obtendo os dados\n"
      ],
      "metadata": {
        "id": "tcHVdSlNdoeg"
      }
    },
    {
      "cell_type": "code",
      "source": [
        "#importing the movie lens dataset directly to colab\n",
        "!wget --no-check-certificate https://files.grouplens.org/datasets/movielens/ml-25m.zip"
      ],
      "metadata": {
        "id": "dxAG3LyLdHhE"
      },
      "execution_count": null,
      "outputs": []
    },
    {
      "cell_type": "code",
      "source": [
        "!unzip ml-25m.zip"
      ],
      "metadata": {
        "id": "vYF5a7gBdv6V"
      },
      "execution_count": null,
      "outputs": []
    },
    {
      "cell_type": "markdown",
      "source": [
        "### Setup\n",
        "\n",
        "Criar uma sessão do Spark."
      ],
      "metadata": {
        "id": "-e_sfBageCJP"
      }
    },
    {
      "cell_type": "code",
      "source": [
        "from pyspark.sql import SparkSession\n",
        "\n",
        "spark = SparkSession \\\n",
        "        .builder \\\n",
        "        .master(\"local[*]\") \\\n",
        "        .appName(\"movielens_rdd\") \\\n",
        "        .getOrCreate()\n",
        "\n",
        "spark"
      ],
      "metadata": {
        "id": "6jDgCkrjd0ad"
      },
      "execution_count": null,
      "outputs": []
    },
    {
      "cell_type": "markdown",
      "source": [
        "Obtendo o `contexto` do Spark, onde encontramos as RDDs."
      ],
      "metadata": {
        "id": "7WQVi5-meV1e"
      }
    },
    {
      "cell_type": "code",
      "source": [],
      "metadata": {
        "id": "fyttV391eS6z"
      },
      "execution_count": null,
      "outputs": []
    },
    {
      "cell_type": "markdown",
      "source": [
        "### A) Quantas avaliações existem na base?\n",
        "\n",
        "Ou seja, quantas linhas de dados? O valor obtido era esperado mesmo? Por quê?"
      ],
      "metadata": {
        "id": "qR-RGc6QPoSI"
      }
    },
    {
      "cell_type": "code",
      "source": [],
      "metadata": {
        "id": "hk9CgfofTBWw"
      },
      "execution_count": null,
      "outputs": []
    },
    {
      "cell_type": "code",
      "source": [],
      "metadata": {
        "id": "uftJe4fsTINS"
      },
      "execution_count": null,
      "outputs": []
    },
    {
      "cell_type": "markdown",
      "source": [
        "### B) Contagem de Avaliações por Filme\n",
        "\n",
        "**Objetivo**: Encontre o número de avaliações que cada filme recebeu.\n",
        "\n",
        "**Quer dica?**:\n",
        "- Crie um RDD com (movieId, 1).\n",
        "- Use reduceByKey para contar quantas avaliações cada filme recebeu."
      ],
      "metadata": {
        "id": "TGl4TQv3TImW"
      }
    },
    {
      "cell_type": "code",
      "source": [],
      "metadata": {
        "id": "2ELJvAuQecPK"
      },
      "execution_count": null,
      "outputs": []
    },
    {
      "cell_type": "code",
      "source": [],
      "metadata": {
        "id": "ReCpHHfuWK-n"
      },
      "execution_count": null,
      "outputs": []
    },
    {
      "cell_type": "markdown",
      "source": [
        "### C) Identificação de Filmes com Avaliação Mínima e Máxima\n",
        "\n",
        "**Objetivo**: Encontre o filme com a _menor_ e a _maior_ nota.\n",
        "\n",
        "**Quer dica?**:\n",
        "- Crie um RDD com (movieId, rating).\n",
        "- Use reduceByKey para encontrar o menor e o maior valor para cada filme."
      ],
      "metadata": {
        "id": "V8QR2cC1YU3Z"
      }
    },
    {
      "cell_type": "code",
      "source": [],
      "metadata": {
        "id": "h2avYY4DWLBM"
      },
      "execution_count": null,
      "outputs": []
    },
    {
      "cell_type": "code",
      "source": [],
      "metadata": {
        "id": "b5O-OOu5Yrj4"
      },
      "execution_count": null,
      "outputs": []
    },
    {
      "cell_type": "markdown",
      "source": [
        "### D) Número de Filmes Avaliados por Usuário\n",
        "\n",
        "**Objetivo**: Encontre quantos filmes cada usuário avaliou\n",
        "\n",
        "**Quer dica?**:\n",
        "- Crie um RDD com (userId, 1) para contar as avaliações de cada usuário.\n",
        "- Use reduceByKey para contar quantos filmes cada usuário avaliou."
      ],
      "metadata": {
        "id": "PDWodVXDYsKY"
      }
    },
    {
      "cell_type": "code",
      "source": [],
      "metadata": {
        "id": "sG8Rb1zUYrmC"
      },
      "execution_count": null,
      "outputs": []
    },
    {
      "cell_type": "code",
      "source": [],
      "metadata": {
        "id": "W9hWZkLQYroW"
      },
      "execution_count": null,
      "outputs": []
    },
    {
      "cell_type": "code",
      "source": [],
      "metadata": {
        "id": "YELhCaOtYrqJ"
      },
      "execution_count": null,
      "outputs": []
    },
    {
      "cell_type": "markdown",
      "source": [
        "### E) Identificar Filmes Avaliados com Exatamente 5 Estrelas\n",
        "\n",
        "**Objetivo**: Encontre filmes que receberam exatamente 5 estrelas\n",
        "\n",
        "**Quer dica?**:\n",
        "- Crie um RDD com (movieId, rating).\n",
        "- Use filter para manter apenas as avaliações com 5 estrelas.\n",
        "- Use distinct para obter os filmes únicos que receberam essa nota."
      ],
      "metadata": {
        "id": "h01Wq19JZI3h"
      }
    },
    {
      "cell_type": "code",
      "source": [],
      "metadata": {
        "id": "hdTOP__rYrsg"
      },
      "execution_count": null,
      "outputs": []
    },
    {
      "cell_type": "code",
      "source": [],
      "metadata": {
        "id": "h2MvqJM9YruV"
      },
      "execution_count": null,
      "outputs": []
    },
    {
      "cell_type": "markdown",
      "source": [
        "### F) Cálculo da Nota Média por Filme\n",
        "\n",
        "**Objetivo**: Dado um dataset com avaliações de filmes (userId, movieId, rating), calcule a nota média para cada filme.\n",
        "\n",
        "**Quer dica?**:\n",
        "- Crie um RDD a partir do arquivo de ratings.\n",
        "- Utilize a função map para transformar cada linha no formato (movieId, rating).\n",
        "- Use reduceByKey para calcular a soma e a contagem de avaliações por filme.\n",
        "- Calcule a média dividindo a soma das notas pela contagem de notas. Pode ser útil usar o [mapValues()](https://spark.apache.org/docs/latest/api/python/reference/api/pyspark.RDD.mapValues.html)."
      ],
      "metadata": {
        "id": "K43P7wy3Zsd6"
      }
    },
    {
      "cell_type": "code",
      "source": [],
      "metadata": {
        "id": "SXaohLd-WLDS"
      },
      "execution_count": null,
      "outputs": []
    },
    {
      "cell_type": "code",
      "source": [],
      "metadata": {
        "id": "MnELZZsDWLFp"
      },
      "execution_count": null,
      "outputs": []
    },
    {
      "cell_type": "code",
      "source": [],
      "metadata": {
        "id": "VO9nMtEIbZxI"
      },
      "execution_count": null,
      "outputs": []
    },
    {
      "cell_type": "code",
      "source": [],
      "metadata": {
        "id": "qhqmU3rMpdb_"
      },
      "execution_count": null,
      "outputs": []
    },
    {
      "cell_type": "markdown",
      "source": [
        "### Lab 5 - Trabalhando com texto\n",
        "\n",
        "Vamos ver como usar RDDs para processar palavras!"
      ],
      "metadata": {
        "id": "J_dhuT_jpd4D"
      }
    },
    {
      "cell_type": "code",
      "source": [],
      "metadata": {
        "id": "wG60UHPZporp"
      },
      "execution_count": null,
      "outputs": []
    },
    {
      "cell_type": "code",
      "source": [],
      "metadata": {
        "id": "99Z1qQ22tQEh"
      },
      "execution_count": null,
      "outputs": []
    },
    {
      "cell_type": "markdown",
      "source": [
        "Há quantas linhas no arquivo?"
      ],
      "metadata": {
        "id": "M3cALfS0tRFb"
      }
    },
    {
      "cell_type": "code",
      "source": [],
      "metadata": {
        "id": "BvXmBK-4tQLH"
      },
      "execution_count": null,
      "outputs": []
    },
    {
      "cell_type": "markdown",
      "source": [
        "Há quantas linhas com texto?"
      ],
      "metadata": {
        "id": "O0sf6mlVp4xv"
      }
    },
    {
      "cell_type": "code",
      "source": [],
      "metadata": {
        "id": "hLN7iPibpot8"
      },
      "execution_count": null,
      "outputs": []
    },
    {
      "cell_type": "markdown",
      "source": [
        "Quantas vezes a palavra \"PySpark\" apareceu no texto?"
      ],
      "metadata": {
        "id": "O62xdlTntXLa"
      }
    },
    {
      "cell_type": "code",
      "source": [],
      "metadata": {
        "id": "LYXlhSgsp5hD"
      },
      "execution_count": null,
      "outputs": []
    },
    {
      "cell_type": "markdown",
      "source": [
        "Quantas vezes cada palavra apareceu?"
      ],
      "metadata": {
        "id": "rW9byuhEtXwS"
      }
    },
    {
      "cell_type": "code",
      "source": [],
      "metadata": {
        "id": "AJ9tMG1uqDh9"
      },
      "execution_count": null,
      "outputs": []
    },
    {
      "cell_type": "code",
      "source": [],
      "metadata": {
        "id": "C15QMamNqbo_"
      },
      "execution_count": null,
      "outputs": []
    },
    {
      "cell_type": "code",
      "source": [],
      "metadata": {
        "id": "fRrbuMVsqgA-"
      },
      "execution_count": null,
      "outputs": []
    }
  ]
}