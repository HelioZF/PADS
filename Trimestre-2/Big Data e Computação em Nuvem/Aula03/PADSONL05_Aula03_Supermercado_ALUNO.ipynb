{
  "cells": [
    {
      "cell_type": "markdown",
      "metadata": {
        "id": "eOk2BLo9v7pP",
        "tags": []
      },
      "source": [
        "# Insper\n",
        "## Programa Avançado em Data Science e Decisão\n",
        "## Big Data e Computação em Nuvem\n",
        "\n",
        "Prof. Michel Fornaciali\n",
        "\n",
        "Prof. Thanuci Silva\n",
        "\n",
        "\n",
        "**Do que praticamos na aula passada para o que vamos praticar hoje:**\n",
        "\n",
        "Tabela comparativa entre a programação utilizando Dask e a programação usando Spark RDDs.\n",
        "\n",
        "| Característica        | Dask                                   | Apache Spark RDDs                    |\n",
        "|-----------------------|----------------------------------------|--------------------------------------|\n",
        "| **Modelo de Programação** | APIs paralelas para arrays, dataframes e listas. Agendamento dinâmico e execução em tempo real. | Baseado em RDDs, coleções distribuídas de objetos imutáveis. Opera em lotes. |\n",
        "| **Escala e Performance** | Escala de uma máquina a clusters; útil mesmo em hardware limitado. Bom para dados além da memória. | Ideal para grandes volumes de dados em clusters. Alta eficiência com processamento em memória. |\n",
        "| **Facilidade de Uso** | Fácil integração com NumPy, pandas e scikit-learn. Favorável para usuários desses pacotes. | Curva de aprendizado mais íngreme. Integração com SQL, machine learning, processamento de grafos e streaming. |\n",
        "| **Comunidade e Suporte** | Comunidade menor, **mas crescente**. Popular na comunidade de ciência de dados Python. | Amplo suporte de uma grande comunidade e uso industrial. Suporte comercial extenso. |\n",
        "| **Caso de Uso** | Análises interativas em larga escala, integração com ferramentas de análise de dados Python. | Processamento de dados em grande escala, transformações complexas, alta tolerância a falhas. |\n",
        "\n",
        "\n",
        "\n",
        "# Prática - Supermercado\n",
        "\n",
        "Faça códigos usando Spark para responder as perguntas abaixo:\n",
        "\n",
        "- **Qual o valor total da compra?**\n",
        "- **Quantos produtos foram comprados? Se representar uma fração, considere um único produto**\n",
        "- **Qual o produto mais caro (em termos de valor unitário)?**"
      ]
    },
    {
      "cell_type": "code",
      "execution_count": null,
      "metadata": {
        "id": "m9uVzmjjnbYG"
      },
      "outputs": [],
      "source": [
        "from pyspark.sql import SparkSession\n"
      ]
    },
    {
      "cell_type": "code",
      "execution_count": null,
      "metadata": {
        "colab": {
          "base_uri": "https://localhost:8080/",
          "height": 221
        },
        "id": "SfnXWkWOnkR3",
        "outputId": "76649696-dae0-4b45-9cfc-83e70e435038"
      },
      "outputs": [
        {
          "data": {
            "text/html": [
              "\n",
              "            <div>\n",
              "                <p><b>SparkSession - in-memory</b></p>\n",
              "                \n",
              "        <div>\n",
              "            <p><b>SparkContext</b></p>\n",
              "\n",
              "            <p><a href=\"http://jupyter-thanuci-20silva:4040\">Spark UI</a></p>\n",
              "\n",
              "            <dl>\n",
              "              <dt>Version</dt>\n",
              "                <dd><code>v3.5.1</code></dd>\n",
              "              <dt>Master</dt>\n",
              "                <dd><code>local[2]</code></dd>\n",
              "              <dt>AppName</dt>\n",
              "                <dd><code>supermercado_Thanuci</code></dd>\n",
              "            </dl>\n",
              "        </div>\n",
              "        \n",
              "            </div>\n",
              "        "
            ],
            "text/plain": [
              "<pyspark.sql.session.SparkSession at 0x7fc4c3554950>"
            ]
          },
          "execution_count": 2,
          "metadata": {},
          "output_type": "execute_result"
        }
      ],
      "source": [
        "spark"
      ]
    },
    {
      "cell_type": "code",
      "execution_count": null,
      "metadata": {
        "id": "V0xcamhSux3t"
      },
      "outputs": [],
      "source": [
        "sc = spark.sparkContext"
      ]
    },
    {
      "cell_type": "code",
      "execution_count": null,
      "metadata": {
        "id": "2AnXHlcWuqbq"
      },
      "outputs": [],
      "source": []
    },
    {
      "cell_type": "code",
      "execution_count": null,
      "metadata": {
        "colab": {
          "base_uri": "https://localhost:8080/"
        },
        "id": "XR2O_huYxQXQ",
        "outputId": "99cd0ac9-0c3d-4cb9-c177-304eb4b8f3b0"
      },
      "outputs": [
        {
          "data": {
            "text/plain": [
              "['PRODUTO;QUANTIDADE;PRECO UNIT. (R$)', 'Achocolatado;2;5.89', 'Acucar;3;2.03']"
            ]
          },
          "execution_count": 11,
          "metadata": {},
          "output_type": "execute_result"
        }
      ],
      "source": []
    },
    {
      "cell_type": "markdown",
      "metadata": {
        "id": "0Dv8hOWPbEuk"
      },
      "source": [
        "## Tarefa 1: Organizando o RDD\n",
        "\n",
        "* [pyspark.RDD.map](https://spark.apache.org/docs/latest/api/python/reference/api/pyspark.RDD.map.html)\n",
        "\n",
        "   Return a new RDD by applying a function **to each element** of this RDD.\n",
        "\n",
        "\n",
        "* [pyspark.RDD.filter](https://spark.apache.org/docs/latest/api/python/reference/api/pyspark.RDD.filter.html)\n",
        "\n",
        "  Return a new RDD containing **only the elements** that satisfy a predicate.\n",
        "  \n",
        "* [string.split()](https://stackoverflow.com/questions/40955656/how-does-python-split-function-works)\n",
        "\n",
        "    Will break and **split the string on the argument that is passed** and **return all the parts in a list**. The list will not include the splitting character(s).\n",
        "\n",
        "Dito isso:\n",
        "\n",
        "1. **Remova o cabeçalho**\n",
        "2. **Separe cada string com delimitador ponto e vírgula** (`'A;B' -> ['A','B']`)"
      ]
    },
    {
      "cell_type": "code",
      "execution_count": null,
      "metadata": {
        "colab": {
          "base_uri": "https://localhost:8080/"
        },
        "id": "ahFbMzD2xQkg",
        "outputId": "67932df5-872d-4c32-b49a-d3cdba5fa3cd"
      },
      "outputs": [
        {
          "data": {
            "text/plain": [
              "['PRODUTO;QUANTIDADE;PRECO UNIT. (R$)']"
            ]
          },
          "execution_count": 14,
          "metadata": {},
          "output_type": "execute_result"
        }
      ],
      "source": []
    },
    {
      "cell_type": "code",
      "execution_count": null,
      "metadata": {
        "id": "pWjD3bRbixVL"
      },
      "outputs": [],
      "source": []
    },
    {
      "cell_type": "code",
      "execution_count": null,
      "metadata": {
        "id": "t2ENYVCPq2im",
        "outputId": "18709b7e-54c4-47c0-8ff0-9a9b0ca40a1c"
      },
      "outputs": [
        {
          "data": {
            "text/plain": [
              "['Achocolatado;2;5.89', 'Acucar;3;2.03', 'Agua;10;1.89']"
            ]
          },
          "execution_count": 9,
          "metadata": {},
          "output_type": "execute_result"
        }
      ],
      "source": []
    },
    {
      "cell_type": "code",
      "execution_count": null,
      "metadata": {
        "id": "nr3z3JQDxQzF"
      },
      "outputs": [],
      "source": []
    },
    {
      "cell_type": "code",
      "execution_count": null,
      "metadata": {
        "colab": {
          "base_uri": "https://localhost:8080/"
        },
        "id": "sXGqnhCFxQ_V",
        "outputId": "96e7b954-fde6-4241-cecf-a03ddba682aa"
      },
      "outputs": [
        {
          "data": {
            "text/plain": [
              "[['Achocolatado', '2', '5.89'], ['Acucar', '3', '2.03']]"
            ]
          },
          "execution_count": 17,
          "metadata": {},
          "output_type": "execute_result"
        }
      ],
      "source": []
    },
    {
      "cell_type": "markdown",
      "metadata": {
        "id": "stl_rO4kb8rK"
      },
      "source": [
        "3. **Transforme as strings que contém números em floats** (`'2' -> 2`)\n",
        "* [pyspark.RDD.map](https://spark.apache.org/docs/latest/api/python/reference/api/pyspark.RDD.map.html)\n",
        "* [string to float](https://stackoverflow.com/questions/379906/how-do-i-parse-a-string-to-a-float-or-int)\n",
        "\n",
        "  Convert str to float"
      ]
    },
    {
      "cell_type": "code",
      "execution_count": null,
      "metadata": {
        "id": "2pdJDbYAyAr_"
      },
      "outputs": [],
      "source": []
    },
    {
      "cell_type": "code",
      "execution_count": null,
      "metadata": {
        "id": "unBOZoGgq2in",
        "outputId": "a97c56aa-608b-401f-b7fe-9eafd4c063d6"
      },
      "outputs": [
        {
          "data": {
            "text/plain": [
              "[['Achocolatado', 2.0, 5.89],\n",
              " ['Acucar', 3.0, 2.03],\n",
              " ['Agua', 10.0, 1.89],\n",
              " ['Alface', 1.0, 2.99],\n",
              " ['Arroz', 4.0, 14.87],\n",
              " ['Atum', 3.0, 7.45],\n",
              " ['Azeite', 2.0, 17.8],\n",
              " ['Azeitona', 2.0, 8.04],\n",
              " ['Batata', 2.8, 4.99],\n",
              " ['Batata palha', 5.0, 5.99]]"
            ]
          },
          "execution_count": 19,
          "metadata": {},
          "output_type": "execute_result"
        }
      ],
      "source": []
    },
    {
      "cell_type": "markdown",
      "metadata": {
        "id": "fSc0jg4ezOmY"
      },
      "source": [
        "## Tarefa 2: Analisando a lista de compras\n",
        "\n",
        "* [pyspark.RDD.map](https://spark.apache.org/docs/latest/api/python/reference/api/pyspark.RDD.map.html)\n",
        "* [Como checar se um número é inteiro](https://stackoverflow.com/a/9266979)\n",
        "\n",
        "\n",
        "4. **Encontre a quantidade de itens comprados (se for um número quebrado arredonde para 1)**"
      ]
    },
    {
      "cell_type": "code",
      "execution_count": null,
      "metadata": {
        "id": "C9LIKdiSyfnL"
      },
      "outputs": [],
      "source": []
    },
    {
      "cell_type": "code",
      "execution_count": null,
      "metadata": {
        "id": "WBuMuJUVq2in",
        "outputId": "833ab040-3dd9-4286-8765-ff4990a35592"
      },
      "outputs": [
        {
          "data": {
            "text/plain": [
              "[['Achocolatado', 2.0, 5.89], ['Acucar', 3.0, 2.03], ['Agua', 10.0, 1.89]]"
            ]
          },
          "execution_count": 21,
          "metadata": {},
          "output_type": "execute_result"
        }
      ],
      "source": []
    },
    {
      "cell_type": "code",
      "execution_count": null,
      "metadata": {
        "id": "pFjDF60mq2in",
        "outputId": "7c1c27b3-3ab9-4761-9a3f-3856fbdb9d04"
      },
      "outputs": [
        {
          "name": "stdout",
          "output_type": "stream",
          "text": [
            "A quantidade de produtos comprada eh: 122.0\n"
          ]
        }
      ],
      "source": []
    },
    {
      "cell_type": "markdown",
      "metadata": {
        "id": "ibPTUpewzI53"
      },
      "source": [
        "5. **Obtenha o valor total da compra**\n",
        "\n",
        "\n",
        "* [pyspark.RDD.map](https://spark.apache.org/docs/latest/api/python/reference/api/pyspark.RDD.map.html)"
      ]
    },
    {
      "cell_type": "code",
      "execution_count": null,
      "metadata": {
        "id": "04umZiTsyOeA"
      },
      "outputs": [],
      "source": []
    },
    {
      "cell_type": "code",
      "execution_count": null,
      "metadata": {
        "colab": {
          "base_uri": "https://localhost:8080/"
        },
        "id": "xE-V6JmFyfwM",
        "outputId": "7651cc4b-644f-4e83-ecda-951e835216f6"
      },
      "outputs": [
        {
          "data": {
            "text/plain": [
              "[['Achocolatado', 2.0, 5.89, 11.78],\n",
              " ['Acucar', 3.0, 2.03, 6.09],\n",
              " ['Agua', 10.0, 1.89, 18.9],\n",
              " ['Alface', 1.0, 2.99, 2.99],\n",
              " ['Arroz', 4.0, 14.87, 59.48],\n",
              " ['Atum', 3.0, 7.45, 22.35],\n",
              " ['Azeite', 2.0, 17.8, 35.6],\n",
              " ['Azeitona', 2.0, 8.04, 16.08],\n",
              " ['Batata', 1, 4.99, 4.99],\n",
              " ['Batata palha', 5.0, 5.99, 29.950000000000003]]"
            ]
          },
          "execution_count": 36,
          "metadata": {},
          "output_type": "execute_result"
        }
      ],
      "source": []
    },
    {
      "cell_type": "code",
      "execution_count": null,
      "metadata": {
        "colab": {
          "base_uri": "https://localhost:8080/"
        },
        "id": "GYQNMCgfyfrs",
        "outputId": "62991880-5755-4fe3-eef0-45eb862fcd4a"
      },
      "outputs": [
        {
          "name": "stdout",
          "output_type": "stream",
          "text": [
            "O total da compra é: R$ 798.85\n"
          ]
        }
      ],
      "source": []
    },
    {
      "cell_type": "markdown",
      "metadata": {
        "id": "BMMj9-ez0Vea"
      },
      "source": [
        "6. **Qual o produto mais caro, em termos de preço unitário?**\n",
        "\n",
        "\n",
        "* [pyspark.RDD.map](https://spark.apache.org/docs/latest/api/python/reference/api/pyspark.RDD.map.html)\n",
        "* [pyspark.RDD.takeOrdered](https://spark.apache.org/docs/3.1.1/api/python/reference/api/pyspark.RDD.takeOrdered.html)"
      ]
    },
    {
      "cell_type": "code",
      "execution_count": null,
      "metadata": {
        "id": "W4_ga95E0Zfw"
      },
      "outputs": [],
      "source": []
    },
    {
      "cell_type": "code",
      "execution_count": null,
      "metadata": {
        "colab": {
          "base_uri": "https://localhost:8080/"
        },
        "id": "2bBU-coc131C",
        "outputId": "59748e64-6ec1-44dd-f0c2-d7a2532d73cf"
      },
      "outputs": [
        {
          "data": {
            "text/plain": [
              "[('Achocolatado', 5.89),\n",
              " ('Acucar', 2.03),\n",
              " ('Agua', 1.89),\n",
              " ('Alface', 2.99),\n",
              " ('Arroz', 14.87),\n",
              " ('Atum', 7.45),\n",
              " ('Azeite', 17.8),\n",
              " ('Azeitona', 8.04),\n",
              " ('Batata', 4.99),\n",
              " ('Batata palha', 5.99),\n",
              " ('Cafe', 9.7),\n",
              " ('Cebola', 3.45),\n",
              " ('Cenoura', 3.99),\n",
              " ('Cha', 3.67),\n",
              " ('Chocolate', 9.9)]"
            ]
          },
          "execution_count": 39,
          "metadata": {},
          "output_type": "execute_result"
        }
      ],
      "source": []
    },
    {
      "cell_type": "code",
      "execution_count": null,
      "metadata": {
        "colab": {
          "base_uri": "https://localhost:8080/"
        },
        "id": "iEi5g7Yp6U0T",
        "outputId": "b00af403-b07f-46ba-b834-3b3e29e2f619"
      },
      "outputs": [
        {
          "name": "stdout",
          "output_type": "stream",
          "text": [
            "O produto mais caro eh: [('Presunto', 50.0)]\n"
          ]
        }
      ],
      "source": []
    },
    {
      "cell_type": "code",
      "execution_count": null,
      "metadata": {
        "id": "IdpV_vgDiyvL"
      },
      "outputs": [],
      "source": []
    }
  ],
  "metadata": {
    "colab": {
      "provenance": []
    },
    "kernelspec": {
      "display_name": "Python 3 (ipykernel)",
      "language": "python",
      "name": "python3"
    },
    "language_info": {
      "codemirror_mode": {
        "name": "ipython",
        "version": 3
      },
      "file_extension": ".py",
      "mimetype": "text/x-python",
      "name": "python",
      "nbconvert_exporter": "python",
      "pygments_lexer": "ipython3",
      "version": "3.11.9"
    },
    "vscode": {
      "interpreter": {
        "hash": "ad2bdc8ecc057115af97d19610ffacc2b4e99fae6737bb82f5d7fb13d2f2c186"
      }
    }
  },
  "nbformat": 4,
  "nbformat_minor": 0
}