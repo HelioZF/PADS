{
  "nbformat": 4,
  "nbformat_minor": 0,
  "metadata": {
    "colab": {
      "provenance": []
    },
    "kernelspec": {
      "name": "python3",
      "display_name": "Python 3"
    },
    "language_info": {
      "name": "python"
    }
  },
  "cells": [
    {
      "cell_type": "markdown",
      "source": [
        "Insper\n",
        "\n",
        "# Aula 03 - Práticas PySpak\n",
        "\n",
        "## Configurando Spark localmente\n",
        "\n",
        "Instalando o Spark na versão 3.1.3 no Colab. Eventualmente você precisará reiniciar seu ambiente."
      ],
      "metadata": {
        "id": "pN9zpULRc5Iu"
      }
    },
    {
      "cell_type": "code",
      "execution_count": null,
      "metadata": {
        "colab": {
          "base_uri": "https://localhost:8080/"
        },
        "id": "d51t5gyuczZj",
        "outputId": "bef91f2a-7094-4c58-bb3a-bc3e8aaca397"
      },
      "outputs": [
        {
          "output_type": "stream",
          "name": "stdout",
          "text": [
            "Collecting pyspark==3.1.3\n",
            "  Downloading pyspark-3.1.3.tar.gz (214.0 MB)\n",
            "\u001b[2K     \u001b[90m━━━━━━━━━━━━━━━━━━━━━━━━━━━━━━━━━━━━━━━━\u001b[0m \u001b[32m214.0/214.0 MB\u001b[0m \u001b[31m5.5 MB/s\u001b[0m eta \u001b[36m0:00:00\u001b[0m\n",
            "\u001b[?25h  Preparing metadata (setup.py) ... \u001b[?25l\u001b[?25hdone\n",
            "Collecting py4j==0.10.9 (from pyspark==3.1.3)\n",
            "  Downloading py4j-0.10.9-py2.py3-none-any.whl.metadata (1.3 kB)\n",
            "Downloading py4j-0.10.9-py2.py3-none-any.whl (198 kB)\n",
            "\u001b[2K   \u001b[90m━━━━━━━━━━━━━━━━━━━━━━━━━━━━━━━━━━━━━━━━\u001b[0m \u001b[32m198.6/198.6 kB\u001b[0m \u001b[31m14.5 MB/s\u001b[0m eta \u001b[36m0:00:00\u001b[0m\n",
            "\u001b[?25hBuilding wheels for collected packages: pyspark\n",
            "  Building wheel for pyspark (setup.py) ... \u001b[?25l\u001b[?25hdone\n",
            "  Created wheel for pyspark: filename=pyspark-3.1.3-py2.py3-none-any.whl size=214463458 sha256=ebf6a3bdf85c7f6fae20f7116f520a6a1203fc37184ce54f26099fcfc8a59399\n",
            "  Stored in directory: /root/.cache/pip/wheels/b0/d0/fd/b0e0165f0fbd79838d2f50c544382e7a5346274f0af07ffada\n",
            "Successfully built pyspark\n",
            "Installing collected packages: py4j, pyspark\n",
            "  Attempting uninstall: py4j\n",
            "    Found existing installation: py4j 0.10.9.7\n",
            "    Uninstalling py4j-0.10.9.7:\n",
            "      Successfully uninstalled py4j-0.10.9.7\n",
            "  Attempting uninstall: pyspark\n",
            "    Found existing installation: pyspark 3.5.3\n",
            "    Uninstalling pyspark-3.5.3:\n",
            "      Successfully uninstalled pyspark-3.5.3\n",
            "Successfully installed py4j-0.10.9 pyspark-3.1.3\n"
          ]
        }
      ],
      "source": [
        "!pip install pyspark==3.1.3"
      ]
    },
    {
      "cell_type": "markdown",
      "source": [
        "## Lab 1 - Cálculo do PI\n",
        "\n",
        "A proporção de pontos internos ao círculo circunscrito no quadrado de raio=1 é igual à PI / 4"
      ],
      "metadata": {
        "id": "2pFN-uxhO6r6"
      }
    },
    {
      "cell_type": "code",
      "source": [
        "from pyspark.sql import SparkSession\n",
        "\n",
        "spark = (SparkSession.builder\n",
        "        .master(\"local[*]\")\n",
        "        .appName(\"PI\")\n",
        "        .getOrCreate())\n",
        "\n",
        "spark"
      ],
      "metadata": {
        "colab": {
          "base_uri": "https://localhost:8080/",
          "height": 222
        },
        "id": "-vGoKTgGN9Q0",
        "outputId": "80d2d3c0-9b89-46ba-c992-4654d6536cc4"
      },
      "execution_count": 1,
      "outputs": [
        {
          "output_type": "execute_result",
          "data": {
            "text/plain": [
              "<pyspark.sql.session.SparkSession at 0x7ee5720bc0a0>"
            ],
            "text/html": [
              "\n",
              "            <div>\n",
              "                <p><b>SparkSession - in-memory</b></p>\n",
              "                \n",
              "        <div>\n",
              "            <p><b>SparkContext</b></p>\n",
              "\n",
              "            <p><a href=\"http://6fa83b076bab:4040\">Spark UI</a></p>\n",
              "\n",
              "            <dl>\n",
              "              <dt>Version</dt>\n",
              "                <dd><code>v3.5.3</code></dd>\n",
              "              <dt>Master</dt>\n",
              "                <dd><code>local[*]</code></dd>\n",
              "              <dt>AppName</dt>\n",
              "                <dd><code>PI</code></dd>\n",
              "            </dl>\n",
              "        </div>\n",
              "        \n",
              "            </div>\n",
              "        "
            ]
          },
          "metadata": {},
          "execution_count": 1
        }
      ]
    },
    {
      "cell_type": "code",
      "source": [
        "from random import random\n",
        "\n",
        "def circulo(_):\n",
        "    x = random()\n",
        "    y = random()\n",
        "\n",
        "    if (x**2 + y**2) <= 1:\n",
        "        return 1\n",
        "    else:\n",
        "        return 0"
      ],
      "metadata": {
        "id": "giEPLByZN9fl"
      },
      "execution_count": 2,
      "outputs": []
    },
    {
      "cell_type": "code",
      "source": [
        "circulo(9)"
      ],
      "metadata": {
        "colab": {
          "base_uri": "https://localhost:8080/"
        },
        "id": "dnPZrEghPFFa",
        "outputId": "b01f870c-428c-4b3d-f4e5-3ef707b16db1"
      },
      "execution_count": 3,
      "outputs": [
        {
          "output_type": "execute_result",
          "data": {
            "text/plain": [
              "1"
            ]
          },
          "metadata": {},
          "execution_count": 3
        }
      ]
    },
    {
      "cell_type": "code",
      "source": [
        "circulo(9.25)"
      ],
      "metadata": {
        "id": "AygCtYVZPFHz",
        "colab": {
          "base_uri": "https://localhost:8080/"
        },
        "outputId": "ab20b5b9-89dc-4789-9941-75c26dbd0775"
      },
      "execution_count": 4,
      "outputs": [
        {
          "output_type": "execute_result",
          "data": {
            "text/plain": [
              "0"
            ]
          },
          "metadata": {},
          "execution_count": 4
        }
      ]
    },
    {
      "cell_type": "code",
      "source": [
        "circulo(\"michel\")"
      ],
      "metadata": {
        "id": "c5aqUYE4N9iW",
        "colab": {
          "base_uri": "https://localhost:8080/"
        },
        "outputId": "e47dcd4c-4cd4-450e-9c63-d3473ba5ecec"
      },
      "execution_count": 5,
      "outputs": [
        {
          "output_type": "execute_result",
          "data": {
            "text/plain": [
              "1"
            ]
          },
          "metadata": {},
          "execution_count": 5
        }
      ]
    },
    {
      "cell_type": "code",
      "source": [
        "sc = spark.sparkContext"
      ],
      "metadata": {
        "id": "1hzHCMHDN9lF"
      },
      "execution_count": 6,
      "outputs": []
    },
    {
      "cell_type": "code",
      "source": [
        "n_pontos = 20000000\n",
        "pontos = sc.parallelize( range(0, n_pontos)  )"
      ],
      "metadata": {
        "id": "QPcqaa2wPNuJ"
      },
      "execution_count": 7,
      "outputs": []
    },
    {
      "cell_type": "code",
      "source": [
        "pontos.take(20)"
      ],
      "metadata": {
        "colab": {
          "base_uri": "https://localhost:8080/"
        },
        "id": "-RxSzz3FPNww",
        "outputId": "5e4b448a-480d-45ff-a059-5be697af0bb5"
      },
      "execution_count": 8,
      "outputs": [
        {
          "output_type": "execute_result",
          "data": {
            "text/plain": [
              "[0, 1, 2, 3, 4, 5, 6, 7, 8, 9, 10, 11, 12, 13, 14, 15, 16, 17, 18, 19]"
            ]
          },
          "metadata": {},
          "execution_count": 8
        }
      ]
    },
    {
      "cell_type": "code",
      "source": [
        "# O comando abaixo é exatamente o mesmo que: amostras = pontos.map(lambda x: circulo(x))\n",
        "amostras = pontos.map(circulo)"
      ],
      "metadata": {
        "id": "gXX6dMBTPNzV"
      },
      "execution_count": 9,
      "outputs": []
    },
    {
      "cell_type": "code",
      "source": [
        "amostras.take(20)"
      ],
      "metadata": {
        "colab": {
          "base_uri": "https://localhost:8080/"
        },
        "id": "cb6hhkVc9_PE",
        "outputId": "a01eed2e-f3ed-4bca-c997-1481ab373b22"
      },
      "execution_count": 10,
      "outputs": [
        {
          "output_type": "execute_result",
          "data": {
            "text/plain": [
              "[1, 1, 1, 1, 1, 0, 1, 0, 1, 1, 0, 1, 1, 1, 0, 1, 1, 1, 1, 1]"
            ]
          },
          "metadata": {},
          "execution_count": 10
        }
      ]
    },
    {
      "cell_type": "code",
      "source": [
        "PI = (amostras.sum() / n_pontos) * 4\n",
        "print(f\"O valor aproximado de PI é {PI}\")"
      ],
      "metadata": {
        "colab": {
          "base_uri": "https://localhost:8080/"
        },
        "id": "zpjr-C2Y9_AW",
        "outputId": "8b05fc1e-b38d-4d52-e28d-ebb6bcd79b86"
      },
      "execution_count": 11,
      "outputs": [
        {
          "output_type": "stream",
          "name": "stdout",
          "text": [
            "O valor aproximado de PI é 3.1415832\n"
          ]
        }
      ]
    },
    {
      "cell_type": "code",
      "source": [
        "import math\n",
        "math.pi"
      ],
      "metadata": {
        "colab": {
          "base_uri": "https://localhost:8080/"
        },
        "id": "HJhoQGInPN2k",
        "outputId": "82f602b8-2efb-4f65-ca6d-189a76af7206"
      },
      "execution_count": 12,
      "outputs": [
        {
          "output_type": "execute_result",
          "data": {
            "text/plain": [
              "3.141592653589793"
            ]
          },
          "metadata": {},
          "execution_count": 12
        }
      ]
    },
    {
      "cell_type": "code",
      "source": [],
      "metadata": {
        "id": "fo-DfRRUPyer"
      },
      "execution_count": null,
      "outputs": []
    },
    {
      "cell_type": "markdown",
      "source": [
        "## Lab 2 - Cálculos simples em RDD\n",
        "\n",
        "Faça um programa em Spark que:\n",
        "\n",
        "- Crie uma RDD com 30 inteiros\n",
        "- Subtraia 1 de cada valor utilizando `map()`\n",
        "- Realize o `collect()` para visualizar os resultados\n",
        "- Realize o `count()` para verificar quantos registros existem na RDD\n",
        "- Filtre valores abaixo de 10"
      ],
      "metadata": {
        "id": "obFlgiKZPzWk"
      }
    },
    {
      "cell_type": "code",
      "source": [
        "n_points = 30\n",
        "points = sc.parallelize(range(n_points))\n",
        "points.take(10)"
      ],
      "metadata": {
        "colab": {
          "base_uri": "https://localhost:8080/"
        },
        "id": "kxc9YXEYPy5z",
        "outputId": "c4d6623c-1abd-44a7-c21e-5cf5ddf0472c"
      },
      "execution_count": 13,
      "outputs": [
        {
          "output_type": "execute_result",
          "data": {
            "text/plain": [
              "[0, 1, 2, 3, 4, 5, 6, 7, 8, 9]"
            ]
          },
          "metadata": {},
          "execution_count": 13
        }
      ]
    },
    {
      "cell_type": "code",
      "source": [
        "rdd_subtracao = points.map(lambda x: x - 1)"
      ],
      "metadata": {
        "id": "HNjFu4YkPg4k"
      },
      "execution_count": 14,
      "outputs": []
    },
    {
      "cell_type": "code",
      "source": [
        "rdd_subtracao.take(2)"
      ],
      "metadata": {
        "colab": {
          "base_uri": "https://localhost:8080/"
        },
        "collapsed": true,
        "id": "GAOfLDOMQOKR",
        "outputId": "b69741d1-a71a-4bd3-cd18-4ce6d908c569"
      },
      "execution_count": 15,
      "outputs": [
        {
          "output_type": "execute_result",
          "data": {
            "text/plain": [
              "[-1, 0]"
            ]
          },
          "metadata": {},
          "execution_count": 15
        }
      ]
    },
    {
      "cell_type": "code",
      "source": [
        "print(rdd_subtracao.collect()) # CUIDADO COM O COLLECT()!!! Ele puxa tudo pra memória, e pode capotar o código!"
      ],
      "metadata": {
        "colab": {
          "base_uri": "https://localhost:8080/"
        },
        "id": "z_AnV44EQONC",
        "outputId": "b0968b47-b170-49be-b733-199aafca13bf"
      },
      "execution_count": 16,
      "outputs": [
        {
          "output_type": "stream",
          "name": "stdout",
          "text": [
            "[-1, 0, 1, 2, 3, 4, 5, 6, 7, 8, 9, 10, 11, 12, 13, 14, 15, 16, 17, 18, 19, 20, 21, 22, 23, 24, 25, 26, 27, 28]\n"
          ]
        }
      ]
    },
    {
      "cell_type": "code",
      "source": [
        "rdd_subtracao.count()"
      ],
      "metadata": {
        "colab": {
          "base_uri": "https://localhost:8080/"
        },
        "id": "gWUAgLn1QOQK",
        "outputId": "67c4f10a-e04e-42f5-d960-d4e3bc40253a"
      },
      "execution_count": 18,
      "outputs": [
        {
          "output_type": "execute_result",
          "data": {
            "text/plain": [
              "30"
            ]
          },
          "metadata": {},
          "execution_count": 18
        }
      ]
    },
    {
      "cell_type": "code",
      "source": [
        "rdd_subtracao.filter( lambda x: x < 10 ).collect()"
      ],
      "metadata": {
        "id": "-dWrWKaYQhly",
        "colab": {
          "base_uri": "https://localhost:8080/"
        },
        "outputId": "33dc2090-6578-4376-ee5d-4f75edd1c7ae"
      },
      "execution_count": 19,
      "outputs": [
        {
          "output_type": "execute_result",
          "data": {
            "text/plain": [
              "[-1, 0, 1, 2, 3, 4, 5, 6, 7, 8, 9]"
            ]
          },
          "metadata": {},
          "execution_count": 19
        }
      ]
    },
    {
      "cell_type": "markdown",
      "source": [
        "## Lab 3 - Análise de dados (simples) do MovieLens\n",
        "\n",
        "Vamos complicar um pouco as coisas! Agora vamos trabalhar com uma base de dados. Para isso, vamos baixar a base.\n",
        "\n",
        "### Obtendo os dados\n"
      ],
      "metadata": {
        "id": "tcHVdSlNdoeg"
      }
    },
    {
      "cell_type": "code",
      "source": [
        "# Importing the movie lens dataset directly to colab\n",
        "!wget --no-check-certificate https://files.grouplens.org/datasets/movielens/ml-25m.zip"
      ],
      "metadata": {
        "colab": {
          "base_uri": "https://localhost:8080/"
        },
        "id": "dxAG3LyLdHhE",
        "outputId": "2adf6eeb-55ae-442c-92ba-21a2eff1d634"
      },
      "execution_count": 20,
      "outputs": [
        {
          "output_type": "stream",
          "name": "stdout",
          "text": [
            "--2024-10-26 20:35:24--  https://files.grouplens.org/datasets/movielens/ml-25m.zip\n",
            "Resolving files.grouplens.org (files.grouplens.org)... 128.101.65.152\n",
            "Connecting to files.grouplens.org (files.grouplens.org)|128.101.65.152|:443... connected.\n",
            "HTTP request sent, awaiting response... 200 OK\n",
            "Length: 261978986 (250M) [application/zip]\n",
            "Saving to: ‘ml-25m.zip’\n",
            "\n",
            "ml-25m.zip          100%[===================>] 249.84M  32.6MB/s    in 8.4s    \n",
            "\n",
            "2024-10-26 20:35:33 (29.8 MB/s) - ‘ml-25m.zip’ saved [261978986/261978986]\n",
            "\n"
          ]
        }
      ]
    },
    {
      "cell_type": "code",
      "source": [
        "!unzip ml-25m.zip"
      ],
      "metadata": {
        "colab": {
          "base_uri": "https://localhost:8080/"
        },
        "id": "vYF5a7gBdv6V",
        "outputId": "b9390b0c-1289-4266-9254-6421786eb6bc"
      },
      "execution_count": 21,
      "outputs": [
        {
          "output_type": "stream",
          "name": "stdout",
          "text": [
            "Archive:  ml-25m.zip\n",
            "   creating: ml-25m/\n",
            "  inflating: ml-25m/tags.csv         \n",
            "  inflating: ml-25m/links.csv        \n",
            "  inflating: ml-25m/README.txt       \n",
            "  inflating: ml-25m/ratings.csv      \n",
            "  inflating: ml-25m/genome-tags.csv  \n",
            "  inflating: ml-25m/genome-scores.csv  \n",
            "  inflating: ml-25m/movies.csv       \n"
          ]
        }
      ]
    },
    {
      "cell_type": "markdown",
      "source": [
        "### Setup\n",
        "\n",
        "Criar uma sessão do Spark."
      ],
      "metadata": {
        "id": "-e_sfBageCJP"
      }
    },
    {
      "cell_type": "code",
      "source": [
        "from pyspark.sql import SparkSession\n",
        "\n",
        "spark = SparkSession \\\n",
        "        .builder \\\n",
        "        .master(\"local[*]\") \\\n",
        "        .appName(\"movielens_rdd\") \\\n",
        "        .getOrCreate()\n",
        "\n",
        "spark"
      ],
      "metadata": {
        "colab": {
          "base_uri": "https://localhost:8080/",
          "height": 222
        },
        "id": "6jDgCkrjd0ad",
        "outputId": "6970ba8f-46ac-4185-9f10-093cfe99c512"
      },
      "execution_count": 22,
      "outputs": [
        {
          "output_type": "execute_result",
          "data": {
            "text/plain": [
              "<pyspark.sql.session.SparkSession at 0x7ee5720bc0a0>"
            ],
            "text/html": [
              "\n",
              "            <div>\n",
              "                <p><b>SparkSession - in-memory</b></p>\n",
              "                \n",
              "        <div>\n",
              "            <p><b>SparkContext</b></p>\n",
              "\n",
              "            <p><a href=\"http://6fa83b076bab:4040\">Spark UI</a></p>\n",
              "\n",
              "            <dl>\n",
              "              <dt>Version</dt>\n",
              "                <dd><code>v3.5.3</code></dd>\n",
              "              <dt>Master</dt>\n",
              "                <dd><code>local[*]</code></dd>\n",
              "              <dt>AppName</dt>\n",
              "                <dd><code>PI</code></dd>\n",
              "            </dl>\n",
              "        </div>\n",
              "        \n",
              "            </div>\n",
              "        "
            ]
          },
          "metadata": {},
          "execution_count": 22
        }
      ]
    },
    {
      "cell_type": "markdown",
      "source": [
        "Obtendo o `contexto` do Spark, onde encontramos as RDDs."
      ],
      "metadata": {
        "id": "7WQVi5-meV1e"
      }
    },
    {
      "cell_type": "code",
      "source": [
        "sc = spark.sparkContext"
      ],
      "metadata": {
        "id": "fyttV391eS6z"
      },
      "execution_count": 23,
      "outputs": []
    },
    {
      "cell_type": "markdown",
      "source": [
        "### A) Quantas avaliações existem na base?\n",
        "\n",
        "Ou seja, quantas linhas de dados? O valor obtido era esperado mesmo? Por quê?"
      ],
      "metadata": {
        "id": "qR-RGc6QPoSI"
      }
    },
    {
      "cell_type": "code",
      "source": [
        "ratings_rdd = sc.textFile( \"ml-25m/ratings.csv\" )\n",
        "ratings_rdd.count()"
      ],
      "metadata": {
        "id": "hk9CgfofTBWw",
        "colab": {
          "base_uri": "https://localhost:8080/"
        },
        "outputId": "b8b5b031-0225-455a-f309-bbf33f0ffdc4"
      },
      "execution_count": 46,
      "outputs": [
        {
          "output_type": "execute_result",
          "data": {
            "text/plain": [
              "25000096"
            ]
          },
          "metadata": {},
          "execution_count": 46
        }
      ]
    },
    {
      "cell_type": "code",
      "source": [
        "ratings_rdd.take(10)"
      ],
      "metadata": {
        "id": "uftJe4fsTINS",
        "colab": {
          "base_uri": "https://localhost:8080/"
        },
        "outputId": "0126a6b2-4f8e-44b8-ca03-399874739330"
      },
      "execution_count": 25,
      "outputs": [
        {
          "output_type": "execute_result",
          "data": {
            "text/plain": [
              "['userId,movieId,rating,timestamp',\n",
              " '1,296,5.0,1147880044',\n",
              " '1,306,3.5,1147868817',\n",
              " '1,307,5.0,1147868828',\n",
              " '1,665,5.0,1147878820',\n",
              " '1,899,3.5,1147868510',\n",
              " '1,1088,4.0,1147868495',\n",
              " '1,1175,3.5,1147868826',\n",
              " '1,1217,3.5,1147878326',\n",
              " '1,1237,5.0,1147868839']"
            ]
          },
          "metadata": {},
          "execution_count": 25
        }
      ]
    },
    {
      "cell_type": "code",
      "source": [
        "cabecalho = ratings_rdd.first()\n",
        "cabecalho"
      ],
      "metadata": {
        "colab": {
          "base_uri": "https://localhost:8080/",
          "height": 36
        },
        "id": "uN0QEVfTGyl3",
        "outputId": "1f76e446-f513-40eb-dffb-f33220763338"
      },
      "execution_count": 47,
      "outputs": [
        {
          "output_type": "execute_result",
          "data": {
            "text/plain": [
              "'userId,movieId,rating,timestamp'"
            ],
            "application/vnd.google.colaboratory.intrinsic+json": {
              "type": "string"
            }
          },
          "metadata": {},
          "execution_count": 47
        }
      ]
    },
    {
      "cell_type": "code",
      "source": [
        "ratings_rdd = ratings_rdd.filter( lambda x: x != cabecalho )\n",
        "ratings_rdd.take(10)"
      ],
      "metadata": {
        "colab": {
          "base_uri": "https://localhost:8080/"
        },
        "id": "3ft2fWJhGyzj",
        "outputId": "dc2c8e45-5b9a-4a1b-e1b1-eb5815aad3fa"
      },
      "execution_count": 48,
      "outputs": [
        {
          "output_type": "execute_result",
          "data": {
            "text/plain": [
              "['1,296,5.0,1147880044',\n",
              " '1,306,3.5,1147868817',\n",
              " '1,307,5.0,1147868828',\n",
              " '1,665,5.0,1147878820',\n",
              " '1,899,3.5,1147868510',\n",
              " '1,1088,4.0,1147868495',\n",
              " '1,1175,3.5,1147868826',\n",
              " '1,1217,3.5,1147878326',\n",
              " '1,1237,5.0,1147868839',\n",
              " '1,1250,4.0,1147868414']"
            ]
          },
          "metadata": {},
          "execution_count": 48
        }
      ]
    },
    {
      "cell_type": "markdown",
      "source": [
        "### B) Contagem de Avaliações por Filme\n",
        "\n",
        "**Objetivo**: Encontre o número de avaliações que cada filme recebeu.\n",
        "\n",
        "**Quer dica?**:\n",
        "- Crie um RDD com (movieId, 1).\n",
        "- Use reduceByKey para contar quantas avaliações cada filme recebeu."
      ],
      "metadata": {
        "id": "TGl4TQv3TImW"
      }
    },
    {
      "cell_type": "code",
      "source": [
        "# DICA: Para rodar mais rápido:\n",
        "# - limite a quantidade de linhas\n",
        "# - paralelize-as diretamente\n",
        "# - programe e debugue normalmente!\n",
        "# - após ter certeza que seu código funciona, comente as 2 próximas linhas e rode para todo o dataset\n",
        "#selecao = ratings_rdd.take(1000)\n",
        "#ratings_rdd = sc.parallelize(selecao)\n",
        "\n",
        "movie_count = ratings_rdd.map( lambda x: (x.split(\",\")[1], 1) )\n",
        "contagem = movie_count.reduceByKey(lambda a, b: a+b)\n",
        "contagem.take(10)"
      ],
      "metadata": {
        "colab": {
          "base_uri": "https://localhost:8080/"
        },
        "id": "NPQX-Hi3RgI5",
        "outputId": "b335c087-d4f6-4401-d8a0-ae5669245c68"
      },
      "execution_count": 49,
      "outputs": [
        {
          "output_type": "execute_result",
          "data": {
            "text/plain": [
              "[('3448', 12164),\n",
              " ('5269', 1079),\n",
              " ('6539', 37227),\n",
              " ('7318', 4330),\n",
              " ('260', 68717),\n",
              " ('914', 9692),\n",
              " ('1302', 12352),\n",
              " ('1376', 12585),\n",
              " ('1587', 7015),\n",
              " ('2115', 24306)]"
            ]
          },
          "metadata": {},
          "execution_count": 49
        }
      ]
    },
    {
      "cell_type": "code",
      "source": [
        "contagem.takeOrdered(5, key=lambda x: -x[1])"
      ],
      "metadata": {
        "colab": {
          "base_uri": "https://localhost:8080/"
        },
        "id": "MotafdNsRgL7",
        "outputId": "efa03526-f03b-479a-9487-45513833fa56"
      },
      "execution_count": 56,
      "outputs": [
        {
          "output_type": "execute_result",
          "data": {
            "text/plain": [
              "[('356', 81491),\n",
              " ('318', 81482),\n",
              " ('296', 79672),\n",
              " ('593', 74127),\n",
              " ('2571', 72674)]"
            ]
          },
          "metadata": {},
          "execution_count": 56
        }
      ]
    },
    {
      "cell_type": "code",
      "source": [],
      "metadata": {
        "id": "yzcOc5mURgXy"
      },
      "execution_count": null,
      "outputs": []
    },
    {
      "cell_type": "markdown",
      "source": [
        "### C) Identificação de Filmes com Avaliação Mínima e Máxima\n",
        "\n",
        "**Objetivo**: Encontre o filme com a _menor_ e a _maior_ nota.\n",
        "\n",
        "**Quer dica?**:\n",
        "- Crie um RDD com (movieId, rating).\n",
        "- Use reduceByKey para encontrar o menor e o maior valor para cada filme."
      ],
      "metadata": {
        "id": "V8QR2cC1YU3Z"
      }
    },
    {
      "cell_type": "code",
      "source": [
        "movie_min_rating = ratings_rdd.map(lambda line: (line.split(',')[1], float(line.split(',')[2]))) \\\n",
        "                              .reduceByKey(lambda a, b: min(a, b))\n",
        "movie_max_rating = ratings_rdd.map(lambda line: (line.split(',')[1], float(line.split(',')[2]))) \\\n",
        "                              .reduceByKey(lambda a, b: max(a, b))\n",
        "print(\"Min:\", movie_min_rating.take(10))\n",
        "print(\"Max:\", movie_max_rating.take(10))\n"
      ],
      "metadata": {
        "colab": {
          "base_uri": "https://localhost:8080/"
        },
        "id": "h2avYY4DWLBM",
        "outputId": "c43b516c-7648-4b71-c763-ac058b3d4f0c"
      },
      "execution_count": 51,
      "outputs": [
        {
          "output_type": "stream",
          "name": "stdout",
          "text": [
            "Min: [('3448', 0.5), ('5269', 0.5), ('6539', 0.5), ('7318', 0.5), ('260', 0.5), ('914', 0.5), ('1302', 0.5), ('1376', 0.5), ('1587', 0.5), ('2115', 0.5)]\n",
            "Max: [('3448', 5.0), ('5269', 5.0), ('6539', 5.0), ('7318', 5.0), ('260', 5.0), ('914', 5.0), ('1302', 5.0), ('1376', 5.0), ('1587', 5.0), ('2115', 5.0)]\n"
          ]
        }
      ]
    },
    {
      "cell_type": "code",
      "source": [],
      "metadata": {
        "id": "b5O-OOu5Yrj4"
      },
      "execution_count": null,
      "outputs": []
    },
    {
      "cell_type": "markdown",
      "source": [
        "### D) Número de Filmes Avaliados por Usuário\n",
        "\n",
        "**Objetivo**: Encontre quantos filmes cada usuário avaliou\n",
        "\n",
        "**Quer dica?**:\n",
        "- Crie um RDD com (userId, 1) para contar as avaliações de cada usuário.\n",
        "- Use reduceByKey para contar quantos filmes cada usuário avaliou."
      ],
      "metadata": {
        "id": "PDWodVXDYsKY"
      }
    },
    {
      "cell_type": "code",
      "source": [
        "user_movie_count = ratings_rdd.map(lambda line: (line.split(',')[0], 1)) \\\n",
        "                              .reduceByKey(lambda a, b: a + b)\n",
        "user_movie_count.take(10)"
      ],
      "metadata": {
        "id": "sG8Rb1zUYrmC",
        "colab": {
          "base_uri": "https://localhost:8080/"
        },
        "outputId": "cc9d28b7-13c7-4c64-9a52-5783783a876d"
      },
      "execution_count": 52,
      "outputs": [
        {
          "output_type": "execute_result",
          "data": {
            "text/plain": [
              "[('2', 184),\n",
              " ('13', 412),\n",
              " ('24', 25),\n",
              " ('33', 23),\n",
              " ('70', 196),\n",
              " ('76', 182),\n",
              " ('77', 45),\n",
              " ('111', 23),\n",
              " ('113', 133),\n",
              " ('119', 124)]"
            ]
          },
          "metadata": {},
          "execution_count": 52
        }
      ]
    },
    {
      "cell_type": "code",
      "source": [
        "user_movie_count.takeOrdered(10, key=lambda x: -x[1])"
      ],
      "metadata": {
        "id": "W9hWZkLQYroW",
        "colab": {
          "base_uri": "https://localhost:8080/"
        },
        "outputId": "8ecd123c-6a18-45ed-b478-cb66e9f565b1"
      },
      "execution_count": 53,
      "outputs": [
        {
          "output_type": "execute_result",
          "data": {
            "text/plain": [
              "[('72315', 32202),\n",
              " ('80974', 9178),\n",
              " ('137293', 8913),\n",
              " ('33844', 7919),\n",
              " ('20055', 7488),\n",
              " ('109731', 6647),\n",
              " ('92046', 6564),\n",
              " ('49403', 6553),\n",
              " ('30879', 5693),\n",
              " ('115102', 5649)]"
            ]
          },
          "metadata": {},
          "execution_count": 53
        }
      ]
    },
    {
      "cell_type": "code",
      "source": [],
      "metadata": {
        "id": "YELhCaOtYrqJ"
      },
      "execution_count": null,
      "outputs": []
    },
    {
      "cell_type": "markdown",
      "source": [
        "### E) Identificar Filmes Avaliados com Exatamente 5 Estrelas\n",
        "\n",
        "**Objetivo**: Encontre filmes que receberam exatamente 5 estrelas\n",
        "\n",
        "**Quer dica?**:\n",
        "- Crie um RDD com (movieId, rating).\n",
        "- Use filter para manter apenas as avaliações com 5 estrelas.\n",
        "- Use distinct para obter os filmes únicos que receberam essa nota."
      ],
      "metadata": {
        "id": "h01Wq19JZI3h"
      }
    },
    {
      "cell_type": "code",
      "source": [
        "movies_with_5_stars = ratings_rdd.map(lambda line: (line.split(',')[1], float(line.split(',')[2]))) \\\n",
        "                                 .filter(lambda x: x[1] == 5.0) \\\n",
        "                                 .map(lambda x: x[0]) \\\n",
        "                                 .distinct()\n",
        "print(movies_with_5_stars.take(10))\n"
      ],
      "metadata": {
        "id": "hdTOP__rYrsg",
        "colab": {
          "base_uri": "https://localhost:8080/"
        },
        "outputId": "c95f9ff1-8e05-412a-e408-f813970ff3b5"
      },
      "execution_count": 54,
      "outputs": [
        {
          "output_type": "stream",
          "name": "stdout",
          "text": [
            "['260', '1376', '3360', '4995', '5816', '6539', '293', '1221', '5618', '48780']\n"
          ]
        }
      ]
    },
    {
      "cell_type": "code",
      "source": [],
      "metadata": {
        "id": "h2MvqJM9YruV"
      },
      "execution_count": null,
      "outputs": []
    },
    {
      "cell_type": "markdown",
      "source": [
        "### F) Cálculo da Nota Média por Filme\n",
        "\n",
        "**Objetivo**: Dado um dataset com avaliações de filmes (userId, movieId, rating), calcule a nota média para cada filme.\n",
        "\n",
        "**Quer dica?**:\n",
        "- Crie um RDD a partir do arquivo de ratings.\n",
        "- Utilize a função map para transformar cada linha no formato (movieId, rating).\n",
        "- Use reduceByKey para calcular a soma e a contagem de avaliações por filme.\n",
        "- Calcule a média dividindo a soma das notas pela contagem de notas. Pode ser útil usar o [mapValues()](https://spark.apache.org/docs/latest/api/python/reference/api/pyspark.RDD.mapValues.html)."
      ],
      "metadata": {
        "id": "K43P7wy3Zsd6"
      }
    },
    {
      "cell_type": "code",
      "source": [
        "movie_ratings = ratings_rdd.map(lambda line: (line.split(',')[1], (float(line.split(',')[2]), 1)))\n",
        "movie_rating_totals = movie_ratings.reduceByKey(lambda a, b: (a[0] + b[0], a[1] + b[1]))\n",
        "movie_rating_avg = movie_rating_totals.mapValues(lambda total: total[0] / total[1])\n",
        "print(movie_rating_avg.take(10))"
      ],
      "metadata": {
        "id": "SXaohLd-WLDS",
        "colab": {
          "base_uri": "https://localhost:8080/"
        },
        "outputId": "8e2f71f0-a131-4030-9b6f-dcabfea0b7e4"
      },
      "execution_count": 55,
      "outputs": [
        {
          "output_type": "stream",
          "name": "stdout",
          "text": [
            "[('3448', 3.666639263400197), ('5269', 3.572289156626506), ('6539', 3.7892121309802027), ('7318', 3.14445727482679), ('260', 4.120188599618726), ('914', 3.9047152290548905), ('1302', 3.63714378238342), ('1376', 3.5012713547874452), ('1587', 3.243478260869565), ('2115', 3.695939274253271)]\n"
          ]
        }
      ]
    },
    {
      "cell_type": "code",
      "source": [],
      "metadata": {
        "id": "qhqmU3rMpdb_"
      },
      "execution_count": null,
      "outputs": []
    },
    {
      "cell_type": "markdown",
      "source": [
        "### Lab 5 - Trabalhando com texto\n",
        "\n",
        "Vamos ver como usar RDDs para processar palavras!"
      ],
      "metadata": {
        "id": "J_dhuT_jpd4D"
      }
    },
    {
      "cell_type": "code",
      "source": [
        "text_rdd = sc.textFile( \"texto.txt\" )"
      ],
      "metadata": {
        "id": "wG60UHPZporp"
      },
      "execution_count": 37,
      "outputs": []
    },
    {
      "cell_type": "code",
      "source": [
        "text_rdd.take(2)"
      ],
      "metadata": {
        "id": "99Z1qQ22tQEh",
        "colab": {
          "base_uri": "https://localhost:8080/"
        },
        "outputId": "d2dd649a-9954-4db1-c2c6-1a54540dccd8"
      },
      "execution_count": 38,
      "outputs": [
        {
          "output_type": "execute_result",
          "data": {
            "text/plain": [
              "['O Apache Spark é uma ferramenta essencial no universo da ciência de dados devido à sua capacidade de processar grandes volumes de dados de maneira distribuída e eficiente. A sua arquitetura permite que operações de análise de dados sejam realizadas em clusters, possibilitando o processamento paralelo, o que acelera significativamente o tempo de execução de algoritmos complexos. Isso é especialmente relevante em cenários onde o volume de dados é muito grande para ser tratado por ferramentas tradicionais, como Pandas, que operam de forma local.',\n",
              " '']"
            ]
          },
          "metadata": {},
          "execution_count": 38
        }
      ]
    },
    {
      "cell_type": "markdown",
      "source": [
        "Há quantas linhas no arquivo?"
      ],
      "metadata": {
        "id": "M3cALfS0tRFb"
      }
    },
    {
      "cell_type": "code",
      "source": [
        "text_rdd.count()"
      ],
      "metadata": {
        "id": "BvXmBK-4tQLH",
        "colab": {
          "base_uri": "https://localhost:8080/"
        },
        "outputId": "baeae624-82ed-4ec1-a5ed-a35a4f3bc98c"
      },
      "execution_count": 39,
      "outputs": [
        {
          "output_type": "execute_result",
          "data": {
            "text/plain": [
              "19"
            ]
          },
          "metadata": {},
          "execution_count": 39
        }
      ]
    },
    {
      "cell_type": "markdown",
      "source": [
        "Há quantas linhas com texto?"
      ],
      "metadata": {
        "id": "O0sf6mlVp4xv"
      }
    },
    {
      "cell_type": "code",
      "source": [
        "text_rdd.filter(lambda l: len(l) > 0).count()"
      ],
      "metadata": {
        "id": "hLN7iPibpot8",
        "colab": {
          "base_uri": "https://localhost:8080/"
        },
        "outputId": "bc5acab6-4f8e-4e92-eac6-14aeb74315b7"
      },
      "execution_count": 40,
      "outputs": [
        {
          "output_type": "execute_result",
          "data": {
            "text/plain": [
              "10"
            ]
          },
          "metadata": {},
          "execution_count": 40
        }
      ]
    },
    {
      "cell_type": "markdown",
      "source": [
        "Quantas vezes a palavra \"Spark\" apareceu no texto?"
      ],
      "metadata": {
        "id": "O62xdlTntXLa"
      }
    },
    {
      "cell_type": "code",
      "source": [
        "text_rdd.flatMap(lambda l: l.split(\" \")).filter(lambda w: w == \"Spark\").count()"
      ],
      "metadata": {
        "id": "LYXlhSgsp5hD",
        "colab": {
          "base_uri": "https://localhost:8080/"
        },
        "outputId": "01e4cd14-c03b-429d-d2e5-726e449452bd"
      },
      "execution_count": 42,
      "outputs": [
        {
          "output_type": "execute_result",
          "data": {
            "text/plain": [
              "17"
            ]
          },
          "metadata": {},
          "execution_count": 42
        }
      ]
    },
    {
      "cell_type": "markdown",
      "source": [
        "Quantas vezes cada palavra apareceu?"
      ],
      "metadata": {
        "id": "rW9byuhEtXwS"
      }
    },
    {
      "cell_type": "code",
      "source": [
        "contagemPlavras = text_rdd.flatMap(lambda l: l.split(\" \")) \\\n",
        "                .map(lambda w: (w, 1)) \\\n",
        "                .reduceByKey(lambda a, b: a+b)"
      ],
      "metadata": {
        "id": "AJ9tMG1uqDh9"
      },
      "execution_count": 43,
      "outputs": []
    },
    {
      "cell_type": "code",
      "source": [
        "contagemPlavras.take(10)"
      ],
      "metadata": {
        "colab": {
          "base_uri": "https://localhost:8080/"
        },
        "id": "fVSh7IJSjuTI",
        "outputId": "8efbdf94-6586-445b-b526-27949f93d696"
      },
      "execution_count": 44,
      "outputs": [
        {
          "output_type": "execute_result",
          "data": {
            "text/plain": [
              "[('O', 7),\n",
              " ('Apache', 1),\n",
              " ('Spark', 17),\n",
              " ('uma', 9),\n",
              " ('no', 1),\n",
              " ('universo', 1),\n",
              " ('da', 2),\n",
              " ('dados', 17),\n",
              " ('à', 2),\n",
              " ('capacidade', 3)]"
            ]
          },
          "metadata": {},
          "execution_count": 44
        }
      ]
    },
    {
      "cell_type": "code",
      "source": [
        "contagemPlavras.takeOrdered(10, key=lambda x: -x[1])"
      ],
      "metadata": {
        "id": "C15QMamNqbo_",
        "colab": {
          "base_uri": "https://localhost:8080/"
        },
        "outputId": "27a66946-7a2c-4d07-fc3e-74a94b6ab79a"
      },
      "execution_count": 45,
      "outputs": [
        {
          "output_type": "execute_result",
          "data": {
            "text/plain": [
              "[('de', 61),\n",
              " ('o', 31),\n",
              " ('em', 19),\n",
              " ('que', 18),\n",
              " ('para', 18),\n",
              " ('e', 18),\n",
              " ('Spark', 17),\n",
              " ('dados', 17),\n",
              " ('é', 17),\n",
              " ('do', 14)]"
            ]
          },
          "metadata": {},
          "execution_count": 45
        }
      ]
    },
    {
      "cell_type": "code",
      "source": [],
      "metadata": {
        "id": "fRrbuMVsqgA-"
      },
      "execution_count": null,
      "outputs": []
    }
  ]
}