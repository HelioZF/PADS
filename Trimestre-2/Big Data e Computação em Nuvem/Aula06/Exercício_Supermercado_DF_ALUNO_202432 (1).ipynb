{
 "cells": [
  {
   "cell_type": "markdown",
   "metadata": {
    "id": "eOk2BLo9v7pP"
   },
   "source": [
    "# Insper - Programa Avançado em Data Science e Decisão\n",
    "\n",
    "# Prática - Supermercado - pyspark DataFrame\n",
    "\n",
    "## Profs. Michel & Thanuci"
   ]
  },
  {
   "cell_type": "code",
   "execution_count": null,
   "metadata": {
    "ExecuteTime": {
     "end_time": "2021-11-06T18:28:44.190046Z",
     "start_time": "2021-11-06T18:28:39.918280Z"
    },
    "id": "m9uVzmjjnbYG"
   },
   "outputs": [],
   "source": [
    "# Criar a sessao do Spark\n",
    "from pyspark.sql import SparkSession\n",
    "spark = SparkSession \\\n",
    "            .builder \\\n",
    "            .master('local[2]') \\\n",
    "            .appName(\"Thanuci_Supermercado\") \\\n",
    "            .getOrCreate()\n",
    "\n",
    "# Pega o contexto do Spark\n",
    "sc = spark.sparkContext"
   ]
  },
  {
   "cell_type": "code",
   "execution_count": null,
   "metadata": {
    "ExecuteTime": {
     "end_time": "2021-11-06T18:28:44.210831Z",
     "start_time": "2021-11-06T18:28:44.196734Z"
    },
    "colab": {
     "base_uri": "https://localhost:8080/",
     "height": 216
    },
    "id": "SfnXWkWOnkR3",
    "outputId": "2be8890b-9876-4296-b992-5630a45dde43"
   },
   "outputs": [],
   "source": [
    "spark"
   ]
  },
  {
   "cell_type": "markdown",
   "metadata": {
    "id": "3CdEbrumOXkZ"
   },
   "source": [
    "# Lendo como RDD"
   ]
  },
  {
   "cell_type": "code",
   "execution_count": null,
   "metadata": {
    "ExecuteTime": {
     "end_time": "2021-11-06T00:48:24.608573Z",
     "start_time": "2021-11-06T00:48:24.147588Z"
    },
    "id": "2AnXHlcWuqbq"
   },
   "outputs": [],
   "source": [
    "rdd1 = sc.textFile('supermercado.csv')"
   ]
  },
  {
   "cell_type": "code",
   "execution_count": null,
   "metadata": {
    "ExecuteTime": {
     "end_time": "2021-10-16T01:52:34.352916Z",
     "start_time": "2021-10-16T01:52:33.368370Z"
    },
    "colab": {
     "base_uri": "https://localhost:8080/"
    },
    "id": "XR2O_huYxQXQ",
    "outputId": "ab5033ad-a2a3-42d2-fb51-3b545e61ae55"
   },
   "outputs": [],
   "source": [
    "rdd1.take(3)"
   ]
  },
  {
   "cell_type": "markdown",
   "metadata": {
    "id": "n6nyJTf6OXkb"
   },
   "source": [
    "# Lendo como Spark DataFrame"
   ]
  },
  {
   "cell_type": "code",
   "execution_count": null,
   "metadata": {
    "ExecuteTime": {
     "end_time": "2021-11-06T18:32:04.305019Z",
     "start_time": "2021-11-06T18:32:04.302288Z"
    },
    "id": "XDSC9jlTOXkb"
   },
   "outputs": [],
   "source": [
    "file_path = 'supermercado.csv'"
   ]
  },
  {
   "cell_type": "code",
   "execution_count": null,
   "metadata": {
    "ExecuteTime": {
     "end_time": "2021-11-06T01:54:15.854937Z",
     "start_time": "2021-11-06T01:54:15.717068Z"
    },
    "id": "pBGaB-ZvOXkc",
    "outputId": "984698f7-4419-4275-aa18-edf46bcdd366"
   },
   "outputs": [],
   "source": [
    "df = spark.read.csv(file_path)\n",
    "df.show(5)"
   ]
  },
  {
   "cell_type": "code",
   "execution_count": null,
   "metadata": {
    "ExecuteTime": {
     "end_time": "2021-11-06T01:54:26.253988Z",
     "start_time": "2021-11-06T01:54:26.083978Z"
    },
    "id": "qIAGiQlPOXkd",
    "outputId": "b16f322d-2e3d-4dd1-d34e-0388ba304e21"
   },
   "outputs": [],
   "source": []
  },
  {
   "cell_type": "code",
   "execution_count": null,
   "metadata": {
    "ExecuteTime": {
     "end_time": "2021-11-06T01:55:04.492373Z",
     "start_time": "2021-11-06T01:55:04.362689Z"
    },
    "id": "VRdsH-Y4OXkd",
    "outputId": "5e79c099-4847-4620-f8b7-e5fe9c0531fe"
   },
   "outputs": [],
   "source": []
  },
  {
   "cell_type": "code",
   "execution_count": null,
   "metadata": {
    "ExecuteTime": {
     "end_time": "2021-11-06T01:55:12.532229Z",
     "start_time": "2021-11-06T01:55:12.528234Z"
    },
    "id": "pv8sYqXzOXke",
    "outputId": "2cdf39fe-da17-451a-eb3b-b512df23687b"
   },
   "outputs": [],
   "source": [
    "df.schema"
   ]
  },
  {
   "cell_type": "code",
   "execution_count": null,
   "metadata": {
    "ExecuteTime": {
     "end_time": "2021-11-06T01:55:17.834723Z",
     "start_time": "2021-11-06T01:55:17.697964Z"
    },
    "id": "yfcC8v0fOXke"
   },
   "outputs": [],
   "source": []
  },
  {
   "cell_type": "code",
   "execution_count": null,
   "metadata": {
    "ExecuteTime": {
     "end_time": "2021-11-06T01:55:22.840493Z",
     "start_time": "2021-11-06T01:55:22.794572Z"
    },
    "id": "9sy5o4UhOXke",
    "outputId": "5ca24476-e3cd-453b-d581-0b9f385b8027"
   },
   "outputs": [],
   "source": [
    "df.show(5)"
   ]
  },
  {
   "cell_type": "code",
   "execution_count": null,
   "metadata": {
    "ExecuteTime": {
     "end_time": "2021-11-06T01:55:28.641831Z",
     "start_time": "2021-11-06T01:55:28.638146Z"
    },
    "id": "VX5WHf0xOXkf",
    "outputId": "818f1468-8d01-4da4-9e90-7d1e5768c2c5"
   },
   "outputs": [],
   "source": [
    "df.schema"
   ]
  },
  {
   "cell_type": "code",
   "execution_count": null,
   "metadata": {
    "ExecuteTime": {
     "end_time": "2021-11-06T18:32:13.899236Z",
     "start_time": "2021-11-06T18:32:10.316615Z"
    },
    "id": "soRcGbHgOXkf"
   },
   "outputs": [],
   "source": []
  },
  {
   "cell_type": "code",
   "execution_count": null,
   "metadata": {
    "ExecuteTime": {
     "end_time": "2021-11-06T02:01:51.302127Z",
     "start_time": "2021-11-06T02:01:51.245434Z"
    },
    "id": "47lP0EnmOXkf",
    "outputId": "9b7f6e51-4b06-407e-9939-1e2e2838b973"
   },
   "outputs": [],
   "source": [
    "df.show(5)"
   ]
  },
  {
   "cell_type": "markdown",
   "metadata": {
    "id": "fSc0jg4ezOmY"
   },
   "source": [
    "# Analisando a lista de compras\n",
    "\n",
    "* [pyspark.sql.functions](https://spark.apache.org/docs/latest/api/python/reference/pyspark.sql/functions.html)\n",
    "* [pyspark.sql.functions.when](https://spark.apache.org/docs/latest/api/python/reference/pyspark.sql/api/pyspark.sql.functions.when.html#pyspark.sql.functions.when)\n",
    "* [pyspark.sql.functions.udf](https://spark.apache.org/docs/latest/api/python/reference/pyspark.sql/api/pyspark.sql.functions.udf.html#pyspark.sql.functions.udf)\n",
    "* [pyspark.sql.DataFrame.agg](https://spark.apache.org/docs/latest/api/python/reference/pyspark.sql/api/pyspark.sql.DataFrame.agg.html)\n",
    "* [Como checar se um número é inteiro](https://stackoverflow.com/a/9266979)\n",
    "\n",
    "\n",
    "\n",
    "## Encontre a quantidade de itens comprados"
   ]
  },
  {
   "cell_type": "code",
   "execution_count": null,
   "metadata": {
    "ExecuteTime": {
     "end_time": "2021-11-06T02:02:07.307106Z",
     "start_time": "2021-11-06T02:02:07.235456Z"
    },
    "id": "uD0PwgecOXkg",
    "outputId": "033ad3f6-8f53-43c2-daa7-e39a9de569d6"
   },
   "outputs": [],
   "source": [
    "import pyspark.sql.functions as F\n",
    "\n"
   ]
  },
  {
   "cell_type": "code",
   "execution_count": null,
   "metadata": {
    "ExecuteTime": {
     "end_time": "2021-11-06T18:32:38.721247Z",
     "start_time": "2021-11-06T18:32:38.718012Z"
    },
    "id": "9sKTz-Y6OXkh"
   },
   "outputs": [],
   "source": [
    "from pyspark.sql.functions import udf\n",
    "from pyspark.sql.types import BooleanType\n",
    "\n",
    "spark_udf = udf(lambda x: x > 5, returnType=BooleanType())"
   ]
  },
  {
   "cell_type": "code",
   "execution_count": null,
   "metadata": {
    "ExecuteTime": {
     "end_time": "2021-11-06T18:33:46.740511Z",
     "start_time": "2021-11-06T18:33:45.850563Z"
    },
    "id": "R6e4TpQpOXkh",
    "outputId": "515aabd4-f885-48e8-bd8d-4e7c757fa38a"
   },
   "outputs": [],
   "source": []
  },
  {
   "cell_type": "code",
   "execution_count": null,
   "metadata": {
    "ExecuteTime": {
     "end_time": "2021-11-06T19:36:43.212470Z",
     "start_time": "2021-11-06T19:36:43.208781Z"
    },
    "id": "Ik_goib2OXkh",
    "outputId": "a6fd413f-8fa1-4f03-bdff-5c74878935a9"
   },
   "outputs": [],
   "source": [
    "variavel = 2.4\n",
    "variavel.is_integer()"
   ]
  },
  {
   "cell_type": "code",
   "execution_count": null,
   "metadata": {
    "ExecuteTime": {
     "end_time": "2021-11-06T01:21:29.636518Z",
     "start_time": "2021-11-06T01:21:29.633333Z"
    },
    "id": "yBcvFGRCOXki"
   },
   "outputs": [],
   "source": [
    "from pyspark.sql.functions import udf\n",
    "from pyspark.sql.types import BooleanType\n",
    "\n"
   ]
  },
  {
   "cell_type": "code",
   "execution_count": null,
   "metadata": {
    "ExecuteTime": {
     "end_time": "2021-11-06T02:02:21.289505Z",
     "start_time": "2021-11-06T02:02:21.276700Z"
    },
    "id": "qglE3WkBOXki"
   },
   "outputs": [],
   "source": []
  },
  {
   "cell_type": "code",
   "execution_count": null,
   "metadata": {
    "ExecuteTime": {
     "end_time": "2021-11-06T02:02:21.731674Z",
     "start_time": "2021-11-06T02:02:21.638614Z"
    },
    "id": "0Ld5fNxEOXki",
    "outputId": "22776664-b6c8-41c6-9f1b-af7dd64d9b4d"
   },
   "outputs": [],
   "source": [
    "df.show()"
   ]
  },
  {
   "cell_type": "code",
   "execution_count": null,
   "metadata": {
    "ExecuteTime": {
     "end_time": "2021-11-06T01:34:26.962380Z",
     "start_time": "2021-11-06T01:34:26.848674Z"
    },
    "id": "Ywnss1hFOXkj",
    "outputId": "3a2bd2e8-447e-416d-ed34-582dbfd7fdb0"
   },
   "outputs": [],
   "source": []
  },
  {
   "cell_type": "code",
   "execution_count": null,
   "metadata": {
    "ExecuteTime": {
     "end_time": "2021-11-06T01:34:30.667690Z",
     "start_time": "2021-11-06T01:34:30.514358Z"
    },
    "id": "kdLc61QZOXkj",
    "outputId": "8f07904f-1b70-4d46-b41d-d85a9101a961"
   },
   "outputs": [],
   "source": []
  },
  {
   "cell_type": "markdown",
   "metadata": {
    "id": "ibPTUpewzI53"
   },
   "source": [
    "## Obtenha o valor total da compra"
   ]
  },
  {
   "cell_type": "code",
   "execution_count": null,
   "metadata": {
    "ExecuteTime": {
     "end_time": "2021-11-06T01:34:44.826361Z",
     "start_time": "2021-11-06T01:34:44.819358Z"
    },
    "id": "UUxdN5T_OXkk"
   },
   "outputs": [],
   "source": []
  },
  {
   "cell_type": "code",
   "execution_count": null,
   "metadata": {
    "ExecuteTime": {
     "end_time": "2021-11-06T01:34:48.597980Z",
     "start_time": "2021-11-06T01:34:48.456770Z"
    },
    "id": "i-j6blpWOXkk",
    "outputId": "08dd8e58-4762-4aaf-db7b-4635b99bec71"
   },
   "outputs": [],
   "source": [
    "df.show()"
   ]
  },
  {
   "cell_type": "code",
   "execution_count": null,
   "metadata": {
    "ExecuteTime": {
     "end_time": "2021-11-06T01:35:02.361880Z",
     "start_time": "2021-11-06T01:35:02.229110Z"
    },
    "id": "hBv_VzI7OXkk",
    "outputId": "61818e22-8abe-426b-ad0f-1a28b501f082"
   },
   "outputs": [],
   "source": []
  },
  {
   "cell_type": "markdown",
   "metadata": {
    "id": "BMMj9-ez0Vea"
   },
   "source": [
    "## Qual o produto mais caro, em termos de preço unitário?\n",
    "\n",
    "\n",
    "* [pyspark.sql.DataFrame.sort](https://spark.apache.org/docs/3.1.1/api/python/reference/api/pyspark.sql.DataFrame.sort.html)"
   ]
  },
  {
   "cell_type": "code",
   "execution_count": null,
   "metadata": {
    "ExecuteTime": {
     "end_time": "2021-11-06T01:41:17.218408Z",
     "start_time": "2021-11-06T01:41:17.064203Z"
    },
    "id": "OtvOSDfEOXkl",
    "outputId": "1c14188b-5541-4d2d-9583-7cac45a7affb"
   },
   "outputs": [],
   "source": []
  }
 ],
 "metadata": {
  "colab": {
   "provenance": []
  },
  "hide_input": false,
  "kernelspec": {
   "display_name": "Python 3 (ipykernel)",
   "language": "python",
   "name": "python3"
  },
  "language_info": {
   "codemirror_mode": {
    "name": "ipython",
    "version": 3
   },
   "file_extension": ".py",
   "mimetype": "text/x-python",
   "name": "python",
   "nbconvert_exporter": "python",
   "pygments_lexer": "ipython3",
   "version": "3.12.7"
  },
  "toc": {
   "base_numbering": 1,
   "nav_menu": {},
   "number_sections": true,
   "sideBar": true,
   "skip_h1_title": false,
   "title_cell": "Table of Contents",
   "title_sidebar": "Contents",
   "toc_cell": false,
   "toc_position": {},
   "toc_section_display": true,
   "toc_window_display": false
  },
  "varInspector": {
   "cols": {
    "lenName": 16,
    "lenType": 16,
    "lenVar": 40
   },
   "kernels_config": {
    "python": {
     "delete_cmd_postfix": "",
     "delete_cmd_prefix": "del ",
     "library": "var_list.py",
     "varRefreshCmd": "print(var_dic_list())"
    },
    "r": {
     "delete_cmd_postfix": ") ",
     "delete_cmd_prefix": "rm(",
     "library": "var_list.r",
     "varRefreshCmd": "cat(var_dic_list()) "
    }
   },
   "types_to_exclude": [
    "module",
    "function",
    "builtin_function_or_method",
    "instance",
    "_Feature"
   ],
   "window_display": false
  }
 },
 "nbformat": 4,
 "nbformat_minor": 4
}
