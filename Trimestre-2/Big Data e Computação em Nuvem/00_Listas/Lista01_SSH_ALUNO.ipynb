{
  "cells": [
    {
      "cell_type": "markdown",
      "metadata": {
        "id": "Q6ZAw5mimwqm"
      },
      "source": [
        "# **Big Data e Computação em Nuvem**\n",
        "\n",
        "Prof. Michel Fornaciali\n",
        "\n",
        "Profa. Thanuci Silva\n",
        "\n",
        "Lista 1 - Logs SSH\n",
        "\n",
        "Utilize Spark RDDs para responder as perguntas abaixo:\n",
        "\n",
        "1. **Quantas linhas há no arquivo de log?**\n",
        "2. **Quantos logins com sucesso ocorreram no sistema?**\n",
        "3. **Quais são os usuários que logaram neste sistema?**\n",
        "4. **Quem acessa a máquina com maior frequência? (exceto root)**\n",
        "5. **Quais IP's estão acessando mais frequentemente esta máquina?**"
      ]
    },
    {
      "cell_type": "code",
      "execution_count": null,
      "metadata": {
        "ExecuteTime": {
          "end_time": "2021-08-14T11:36:42.826045Z",
          "start_time": "2021-08-14T11:36:38.522859Z"
        },
        "id": "zdMop5KFmwqq"
      },
      "outputs": [],
      "source": [
        "# Criar a sessao do Spark\n",
        "from pyspark.sql import SparkSession\n",
        "spark = SparkSession \\\n",
        "            .builder \\\n",
        "            .master('local[2]') \\\n",
        "            .appName(\"appName\") \\\n",
        "            .getOrCreate()\n",
        "\n",
        "# Pega o contexto do Spark\n",
        "sc = spark.sparkContext"
      ]
    },
    {
      "cell_type": "code",
      "source": [
        "!wget https://raw.githubusercontent.com/elastic/examples/master/Machine%20Learning/Security%20Analytics%20Recipes/suspicious_login_activity/data/auth.log"
      ],
      "metadata": {
        "id": "nxgtBAnheNDw"
      },
      "execution_count": null,
      "outputs": []
    },
    {
      "cell_type": "code",
      "execution_count": null,
      "metadata": {
        "ExecuteTime": {
          "end_time": "2021-08-14T11:52:48.937319Z",
          "start_time": "2021-08-14T11:52:48.428511Z"
        },
        "id": "DY-bGBO-mwqr"
      },
      "outputs": [],
      "source": [
        "rdd1 = sc.textFile('auth.log')"
      ]
    },
    {
      "cell_type": "code",
      "execution_count": null,
      "metadata": {
        "ExecuteTime": {
          "end_time": "2021-08-14T11:52:50.767042Z",
          "start_time": "2021-08-14T11:52:49.806675Z"
        },
        "id": "SwOfg0Ramwqr"
      },
      "outputs": [],
      "source": [
        "rdd1.take(20)"
      ]
    },
    {
      "cell_type": "markdown",
      "metadata": {
        "id": "RIYzP2c7mwqs"
      },
      "source": [
        "# Quantas linhas há no arquivo de log?\n",
        "\n",
        "* [pyspark.RDD.count](https://spark.apache.org/docs/latest/api/python/reference/api/pyspark.RDD.count.html)"
      ]
    },
    {
      "cell_type": "code",
      "execution_count": null,
      "metadata": {
        "id": "9m_21uPhcm4z"
      },
      "outputs": [],
      "source": []
    },
    {
      "cell_type": "markdown",
      "metadata": {
        "id": "m85kLkv6mwqu",
        "tags": []
      },
      "source": [
        "# Quantos logins com sucesso ocorreram no sistema?\n",
        "\n",
        "Dica: utilize como referência para busca: _\"Accepted password for\"_\n",
        "\n",
        "* [pyspark.RDD.filter](https://spark.apache.org/docs/3.1.1/api/python/reference/api/pyspark.RDD.filter.html)"
      ]
    },
    {
      "cell_type": "code",
      "execution_count": null,
      "metadata": {
        "id": "lN0PvKuKcm4z"
      },
      "outputs": [],
      "source": []
    },
    {
      "cell_type": "code",
      "source": [],
      "metadata": {
        "id": "EDOenl7aiQ5d"
      },
      "execution_count": null,
      "outputs": []
    },
    {
      "cell_type": "markdown",
      "metadata": {
        "id": "m-KlQqqncm40"
      },
      "source": [
        "# Quais são os usuários que logaram neste sistema?\n",
        "\n",
        "* [pyspark.RDD.map](https://spark.apache.org/docs/3.1.1/api/python/reference/api/pyspark.RDD.map.html)"
      ]
    },
    {
      "cell_type": "code",
      "execution_count": null,
      "metadata": {
        "id": "4X_0rU8Ccm40"
      },
      "outputs": [],
      "source": []
    },
    {
      "cell_type": "markdown",
      "metadata": {
        "id": "NhlD2MRJmwqv"
      },
      "source": [
        "# Quem acessa a máquina com maior frequência?\n",
        "\n",
        "* [pyspark.RDD.map](https://spark.apache.org/docs/latest/api/python/reference/api/pyspark.RDD.map.html)\n",
        "* [pyspark.RDD.reduceByKey](https://spark.apache.org/docs/3.1.1/api/python/reference/api/pyspark.RDD.reduceByKey.html)\n",
        "* [pyspark.RDD.takeOrdered](https://spark.apache.org/docs/3.1.1/api/python/reference/api/pyspark.RDD.takeOrdered.html)"
      ]
    },
    {
      "cell_type": "code",
      "execution_count": null,
      "metadata": {
        "id": "KGt15MQFcm40"
      },
      "outputs": [],
      "source": []
    },
    {
      "cell_type": "markdown",
      "metadata": {
        "id": "moc7L5xImwqw"
      },
      "source": [
        "# Quais IP's estão acessando mais frequentemente esta máquina?\n",
        "\n",
        "* [Regex para IPs](https://stackoverflow.com/questions/10086572/ip-address-validation-in-python-using-regex)\n",
        "* [pyspark.RDD.flatMap](https://spark.apache.org/docs/3.1.1/api/python/reference/api/pyspark.RDD.flatMap.html)"
      ]
    },
    {
      "cell_type": "code",
      "execution_count": null,
      "metadata": {
        "id": "opGWIswMcm40"
      },
      "outputs": [],
      "source": [
        "import re\n",
        "valid_ip_adress_regex = r\"\\b\\d{1,3}\\.\\d{1,3}\\.\\d{1,3}\\.\\d{1,3}\\b\"\n",
        "pattern = re.compile(valid_ip_adress_regex)"
      ]
    },
    {
      "cell_type": "code",
      "source": [],
      "metadata": {
        "id": "X00InMQdlRjh"
      },
      "execution_count": null,
      "outputs": []
    },
    {
      "cell_type": "code",
      "source": [],
      "metadata": {
        "id": "lK2iPg21lVgE"
      },
      "execution_count": null,
      "outputs": []
    },
    {
      "cell_type": "code",
      "source": [],
      "metadata": {
        "id": "BHmuBwirlbZe"
      },
      "execution_count": null,
      "outputs": []
    }
  ],
  "metadata": {
    "colab": {
      "provenance": []
    },
    "hide_input": false,
    "kernelspec": {
      "display_name": "Python 3 (ipykernel)",
      "language": "python",
      "name": "python3"
    },
    "language_info": {
      "codemirror_mode": {
        "name": "ipython",
        "version": 3
      },
      "file_extension": ".py",
      "mimetype": "text/x-python",
      "name": "python",
      "nbconvert_exporter": "python",
      "pygments_lexer": "ipython3",
      "version": "3.11.9"
    },
    "toc": {
      "base_numbering": 1,
      "nav_menu": {},
      "number_sections": true,
      "sideBar": true,
      "skip_h1_title": false,
      "title_cell": "Table of Contents",
      "title_sidebar": "Contents",
      "toc_cell": false,
      "toc_position": {},
      "toc_section_display": true,
      "toc_window_display": false
    },
    "varInspector": {
      "cols": {
        "lenName": 16,
        "lenType": 16,
        "lenVar": 40
      },
      "kernels_config": {
        "python": {
          "delete_cmd_postfix": "",
          "delete_cmd_prefix": "del ",
          "library": "var_list.py",
          "varRefreshCmd": "print(var_dic_list())"
        },
        "r": {
          "delete_cmd_postfix": ") ",
          "delete_cmd_prefix": "rm(",
          "library": "var_list.r",
          "varRefreshCmd": "cat(var_dic_list()) "
        }
      },
      "types_to_exclude": [
        "module",
        "function",
        "builtin_function_or_method",
        "instance",
        "_Feature"
      ],
      "window_display": false
    },
    "vscode": {
      "interpreter": {
        "hash": "ad2bdc8ecc057115af97d19610ffacc2b4e99fae6737bb82f5d7fb13d2f2c186"
      }
    }
  },
  "nbformat": 4,
  "nbformat_minor": 0
}