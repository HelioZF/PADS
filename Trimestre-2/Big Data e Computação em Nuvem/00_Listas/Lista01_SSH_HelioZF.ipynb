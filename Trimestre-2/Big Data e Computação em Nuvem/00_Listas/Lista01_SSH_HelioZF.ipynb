{
  "cells": [
    {
      "cell_type": "markdown",
      "metadata": {
        "id": "Q6ZAw5mimwqm"
      },
      "source": [
        "# **Big Data e Computação em Nuvem**\n",
        "\n",
        "Prof. Michel Fornaciali\n",
        "\n",
        "Profa. Thanuci Silva\n",
        "\n",
        "Lista 1 - Logs SSH\n",
        "\n",
        "Utilize Spark RDDs para responder as perguntas abaixo:\n",
        "\n",
        "1. **Quantas linhas há no arquivo de log?**\n",
        "2. **Quantos logins com sucesso ocorreram no sistema?**\n",
        "3. **Quais são os usuários que logaram neste sistema?**\n",
        "4. **Quem acessa a máquina com maior frequência? (exceto root)**\n",
        "5. **Quais IP's estão acessando mais frequentemente esta máquina?**"
      ]
    },
    {
      "cell_type": "code",
      "execution_count": 1,
      "metadata": {
        "ExecuteTime": {
          "end_time": "2021-08-14T11:36:42.826045Z",
          "start_time": "2021-08-14T11:36:38.522859Z"
        },
        "id": "zdMop5KFmwqq"
      },
      "outputs": [],
      "source": [
        "# Criar a sessao do Spark\n",
        "from pyspark.sql import SparkSession\n",
        "spark = SparkSession \\\n",
        "            .builder \\\n",
        "            .master('local[2]') \\\n",
        "            .appName(\"appName\") \\\n",
        "            .getOrCreate()\n",
        "\n",
        "# Pega o contexto do Spark\n",
        "sc = spark.sparkContext"
      ]
    },
    {
      "cell_type": "code",
      "source": [
        "!wget https://raw.githubusercontent.com/elastic/examples/master/Machine%20Learning/Security%20Analytics%20Recipes/suspicious_login_activity/data/auth.log"
      ],
      "metadata": {
        "id": "nxgtBAnheNDw",
        "colab": {
          "base_uri": "https://localhost:8080/"
        },
        "outputId": "1cf54554-ea9f-42ce-c48f-09e163814938"
      },
      "execution_count": 2,
      "outputs": [
        {
          "output_type": "stream",
          "name": "stdout",
          "text": [
            "--2024-11-09 12:42:30--  https://raw.githubusercontent.com/elastic/examples/master/Machine%20Learning/Security%20Analytics%20Recipes/suspicious_login_activity/data/auth.log\n",
            "Resolving raw.githubusercontent.com (raw.githubusercontent.com)... 185.199.111.133, 185.199.109.133, 185.199.110.133, ...\n",
            "Connecting to raw.githubusercontent.com (raw.githubusercontent.com)|185.199.111.133|:443... connected.\n",
            "HTTP request sent, awaiting response... 200 OK\n",
            "Length: 797637 (779K) [text/plain]\n",
            "Saving to: ‘auth.log’\n",
            "\n",
            "auth.log            100%[===================>] 778.94K  --.-KB/s    in 0.06s   \n",
            "\n",
            "2024-11-09 12:42:31 (13.0 MB/s) - ‘auth.log’ saved [797637/797637]\n",
            "\n"
          ]
        }
      ]
    },
    {
      "cell_type": "code",
      "execution_count": 3,
      "metadata": {
        "ExecuteTime": {
          "end_time": "2021-08-14T11:52:48.937319Z",
          "start_time": "2021-08-14T11:52:48.428511Z"
        },
        "id": "DY-bGBO-mwqr"
      },
      "outputs": [],
      "source": [
        "rdd1 = sc.textFile('auth.log')"
      ]
    },
    {
      "cell_type": "code",
      "execution_count": 4,
      "metadata": {
        "ExecuteTime": {
          "end_time": "2021-08-14T11:52:50.767042Z",
          "start_time": "2021-08-14T11:52:49.806675Z"
        },
        "id": "SwOfg0Ramwqr",
        "colab": {
          "base_uri": "https://localhost:8080/"
        },
        "outputId": "3deb30ce-7936-43e7-e2a7-f35a04d99b85"
      },
      "outputs": [
        {
          "output_type": "execute_result",
          "data": {
            "text/plain": [
              "['Mar 27 13:06:56 ip-10-77-20-248 sshd[1291]: Server listening on 0.0.0.0 port 22.',\n",
              " 'Mar 27 13:06:56 ip-10-77-20-248 sshd[1291]: Server listening on :: port 22.',\n",
              " 'Mar 27 13:06:56 ip-10-77-20-248 systemd-logind[1118]: Watching system buttons on /dev/input/event0 (Power Button)',\n",
              " 'Mar 27 13:06:56 ip-10-77-20-248 systemd-logind[1118]: Watching system buttons on /dev/input/event1 (Sleep Button)',\n",
              " 'Mar 27 13:06:56 ip-10-77-20-248 systemd-logind[1118]: New seat seat0.',\n",
              " 'Mar 27 13:08:09 ip-10-77-20-248 sshd[1361]: Accepted publickey for ubuntu from 85.245.107.41 port 54259 ssh2: RSA SHA256:Kl8kPGZrTiz7g4FO1hyqHdsSBBb5Fge6NWOobN03XJg',\n",
              " 'Mar 27 13:08:09 ip-10-77-20-248 sshd[1361]: pam_unix(sshd:session): session opened for user ubuntu by (uid=0)',\n",
              " 'Mar 27 13:08:09 ip-10-77-20-248 systemd: pam_unix(systemd-user:session): session opened for user ubuntu by (uid=0)',\n",
              " 'Mar 27 13:08:09 ip-10-77-20-248 systemd-logind[1118]: New session 1 of user ubuntu.',\n",
              " 'Mar 27 13:09:37 ip-10-77-20-248 sudo:   ubuntu : TTY=pts/0 ; PWD=/home/ubuntu ; USER=root ; COMMAND=/usr/bin/curl -L -O https://artifacts.elastic.co/downloads/beats/filebeat/filebeat-5.2.2-amd64.deb',\n",
              " 'Mar 27 13:09:37 ip-10-77-20-248 sudo: pam_unix(sudo:session): session opened for user root by ubuntu(uid=0)',\n",
              " 'Mar 27 13:09:38 ip-10-77-20-248 sudo: pam_unix(sudo:session): session closed for user root',\n",
              " 'Mar 27 13:10:08 ip-10-77-20-248 sudo:   ubuntu : TTY=pts/0 ; PWD=/home/ubuntu ; USER=root ; COMMAND=/usr/bin/apt-key add -',\n",
              " 'Mar 27 13:10:08 ip-10-77-20-248 sudo: pam_unix(sudo:session): session opened for user root by ubuntu(uid=0)',\n",
              " 'Mar 27 13:10:09 ip-10-77-20-248 sudo: pam_unix(sudo:session): session closed for user root',\n",
              " 'Mar 27 13:10:14 ip-10-77-20-248 sudo:   ubuntu : TTY=pts/0 ; PWD=/home/ubuntu ; USER=root ; COMMAND=/usr/bin/apt-get install apt-transport-https',\n",
              " 'Mar 27 13:10:14 ip-10-77-20-248 sudo: pam_unix(sudo:session): session opened for user root by ubuntu(uid=0)',\n",
              " 'Mar 27 13:10:14 ip-10-77-20-248 sudo: pam_unix(sudo:session): session closed for user root',\n",
              " 'Mar 27 13:10:18 ip-10-77-20-248 sudo:   ubuntu : TTY=pts/0 ; PWD=/home/ubuntu ; USER=root ; COMMAND=/usr/bin/tee -a /etc/apt/sources.list.d/elastic-5.x.list',\n",
              " 'Mar 27 13:10:18 ip-10-77-20-248 sudo: pam_unix(sudo:session): session opened for user root by ubuntu(uid=0)']"
            ]
          },
          "metadata": {},
          "execution_count": 4
        }
      ],
      "source": [
        "rdd1.take(20)"
      ]
    },
    {
      "cell_type": "markdown",
      "metadata": {
        "id": "RIYzP2c7mwqs"
      },
      "source": [
        "# Quantas linhas há no arquivo de log?\n",
        "\n",
        "* [pyspark.RDD.count](https://spark.apache.org/docs/latest/api/python/reference/api/pyspark.RDD.count.html)"
      ]
    },
    {
      "cell_type": "code",
      "execution_count": 7,
      "metadata": {
        "id": "9m_21uPhcm4z",
        "colab": {
          "base_uri": "https://localhost:8080/"
        },
        "outputId": "27542928-9207-4d8b-f977-c9f1ba65a875"
      },
      "outputs": [
        {
          "output_type": "stream",
          "name": "stdout",
          "text": [
            "Total de linhas no arquivo de log: 7121\n"
          ]
        }
      ],
      "source": [
        "num_linhas = rdd1.count()\n",
        "print(f\"Total de linhas no arquivo de log: {num_linhas}\")\n"
      ]
    },
    {
      "cell_type": "markdown",
      "metadata": {
        "id": "m85kLkv6mwqu",
        "tags": []
      },
      "source": [
        "# Quantos logins com sucesso ocorreram no sistema?\n",
        "\n",
        "Dica: utilize como referência para busca: _\"Accepted password for\"_\n",
        "\n",
        "* [pyspark.RDD.filter](https://spark.apache.org/docs/3.1.1/api/python/reference/api/pyspark.RDD.filter.html)"
      ]
    },
    {
      "cell_type": "code",
      "execution_count": 12,
      "metadata": {
        "id": "lN0PvKuKcm4z",
        "colab": {
          "base_uri": "https://localhost:8080/"
        },
        "outputId": "ab82d714-539d-4729-c3fe-e497e8c983d4"
      },
      "outputs": [
        {
          "output_type": "stream",
          "name": "stdout",
          "text": [
            "Total de logins com sucesso: 190\n"
          ]
        }
      ],
      "source": [
        "logins_sucesso = rdd1.filter(lambda line: \"Accepted password\" in line)\n",
        "num_logins_sucesso = logins_sucesso.count()\n",
        "print(f\"Total de logins com sucesso: {num_logins_sucesso}\")\n"
      ]
    },
    {
      "cell_type": "code",
      "source": [
        "logins_sucesso.take(20)"
      ],
      "metadata": {
        "id": "EDOenl7aiQ5d",
        "colab": {
          "base_uri": "https://localhost:8080/"
        },
        "outputId": "b50d18e0-1b62-4f7d-feef-a0a0fe4f18ac"
      },
      "execution_count": 14,
      "outputs": [
        {
          "output_type": "execute_result",
          "data": {
            "text/plain": [
              "['Mar 29 10:43:01 ip-10-77-20-248 sshd[1193]: Accepted password for elastic_user_7 from 127.0.0.1 port 52942 ssh2',\n",
              " 'Mar 29 11:35:20 ip-10-77-20-248 sshd[1361]: Accepted password for elastic_user_2 from 85.245.107.41 port 50690 ssh2',\n",
              " 'Mar 29 11:36:51 ip-10-77-20-248 sshd[1460]: Accepted password for elastic_user_8 from 85.245.107.41 port 50696 ssh2',\n",
              " 'Mar 29 11:37:37 ip-10-77-20-248 sshd[1510]: Accepted password for elastic_user_5 from 85.245.107.41 port 50697 ssh2',\n",
              " 'Mar 29 11:37:50 ip-10-77-20-248 sshd[1558]: Accepted password for elastic_user_8 from 85.245.107.41 port 50699 ssh2',\n",
              " 'Mar 29 11:45:01 ip-10-77-20-248 sshd[1734]: Accepted password for elastic_user_7 from 85.245.107.41 port 50755 ssh2',\n",
              " 'Mar 29 11:52:58 ip-10-77-20-248 sshd[1857]: Accepted password for elastic_user_0 from 85.245.107.41 port 50797 ssh2',\n",
              " 'Mar 29 12:02:08 ip-10-77-20-248 sshd[1985]: Accepted password for elastic_user_0 from 85.245.107.41 port 50817 ssh2',\n",
              " 'Mar 29 12:19:17 ip-10-77-20-248 sshd[2055]: Accepted password for elastic_user_2 from 85.245.107.41 port 51007 ssh2',\n",
              " 'Mar 29 12:36:35 ip-10-77-20-248 sshd[2115]: Accepted password for elastic_user_7 from 85.245.107.41 port 51188 ssh2',\n",
              " 'Mar 29 12:49:41 ip-10-77-20-248 sshd[2195]: Accepted password for elastic_user_4 from 85.245.107.41 port 51306 ssh2',\n",
              " 'Mar 29 13:21:15 ip-10-77-20-248 sshd[2262]: Accepted password for elastic_user_3 from 85.245.107.41 port 51534 ssh2',\n",
              " 'Mar 29 13:59:41 ip-10-77-20-248 sshd[2341]: Accepted password for elastic_user_8 from 85.245.107.41 port 51807 ssh2',\n",
              " 'Mar 29 14:15:51 ip-10-77-20-248 sshd[2416]: Accepted password for elastic_user_5 from 85.245.107.41 port 52133 ssh2',\n",
              " 'Mar 29 14:16:10 ip-10-77-20-248 sshd[2477]: Accepted password for elastic_user_8 from 24.151.103.17 port 64554 ssh2',\n",
              " 'Mar 29 14:26:31 ip-10-77-20-248 sshd[3530]: Accepted password for elastic_user_1 from 85.245.107.41 port 52284 ssh2',\n",
              " 'Mar 29 14:28:02 ip-10-77-20-248 sshd[3581]: Accepted password for elastic_user_0 from 24.151.103.17 port 64635 ssh2',\n",
              " 'Mar 29 14:39:52 ip-10-77-20-248 sshd[3629]: Accepted password for elastic_user_6 from 24.151.103.17 port 64733 ssh2',\n",
              " 'Mar 29 14:58:43 ip-10-77-20-248 sshd[3692]: Accepted password for elastic_user_5 from 85.245.107.41 port 52652 ssh2',\n",
              " 'Mar 29 14:59:17 ip-10-77-20-248 sshd[3743]: Accepted password for elastic_user_7 from 24.151.103.17 port 64905 ssh2']"
            ]
          },
          "metadata": {},
          "execution_count": 14
        }
      ]
    },
    {
      "cell_type": "code",
      "source": [],
      "metadata": {
        "colab": {
          "base_uri": "https://localhost:8080/"
        },
        "id": "Y8wfOCs3-W-H",
        "outputId": "a196e7e9-ff62-486a-de6a-fda34428bf27"
      },
      "execution_count": 20,
      "outputs": [
        {
          "output_type": "execute_result",
          "data": {
            "text/plain": [
              "['elastic_user_7',\n",
              " 'elastic_user_2',\n",
              " 'elastic_user_8',\n",
              " 'elastic_user_5',\n",
              " 'elastic_user_8']"
            ]
          },
          "metadata": {},
          "execution_count": 20
        }
      ]
    },
    {
      "cell_type": "markdown",
      "metadata": {
        "id": "m-KlQqqncm40"
      },
      "source": [
        "# Quais são os usuários que logaram neste sistema?\n",
        "\n",
        "* [pyspark.RDD.map](https://spark.apache.org/docs/3.1.1/api/python/reference/api/pyspark.RDD.map.html)"
      ]
    },
    {
      "cell_type": "code",
      "execution_count": 21,
      "metadata": {
        "id": "4X_0rU8Ccm40",
        "colab": {
          "base_uri": "https://localhost:8080/"
        },
        "outputId": "2805a3ba-96cc-4104-c678-c27e09a2a4e6"
      },
      "outputs": [
        {
          "output_type": "stream",
          "name": "stdout",
          "text": [
            "Usuários que logaram no sistema: ['elastic_user_8', 'elastic_user_5', 'elastic_user_4', 'elastic_user_9', 'elastic_user_7', 'elastic_user_2', 'elastic_user_0', 'elastic_user_3', 'elastic_user_1', 'elastic_user_6']\n"
          ]
        }
      ],
      "source": [
        "total_users = logins_sucesso.map(lambda line: line.split()[8])\n",
        "total_users.take(5)\n",
        "usuarios = total_users.distinct().collect()\n",
        "print(f\"Usuários que logaram no sistema: {usuarios}\")\n"
      ]
    },
    {
      "cell_type": "markdown",
      "metadata": {
        "id": "NhlD2MRJmwqv"
      },
      "source": [
        "# Quem acessa a máquina com maior frequência?\n",
        "\n",
        "* [pyspark.RDD.map](https://spark.apache.org/docs/latest/api/python/reference/api/pyspark.RDD.map.html)\n",
        "* [pyspark.RDD.reduceByKey](https://spark.apache.org/docs/3.1.1/api/python/reference/api/pyspark.RDD.reduceByKey.html)\n",
        "* [pyspark.RDD.takeOrdered](https://spark.apache.org/docs/3.1.1/api/python/reference/api/pyspark.RDD.takeOrdered.html)"
      ]
    },
    {
      "cell_type": "code",
      "execution_count": 22,
      "metadata": {
        "id": "KGt15MQFcm40",
        "colab": {
          "base_uri": "https://localhost:8080/"
        },
        "outputId": "54e85eb3-6c24-4a4c-ad2a-4be7f0d3c9a1"
      },
      "outputs": [
        {
          "output_type": "stream",
          "name": "stdout",
          "text": [
            "Usuário que acessa a máquina com mais frequência (exceto root): ('elastic_user_0', 29)\n"
          ]
        }
      ],
      "source": [
        "acessos_por_usuario = total_users \\\n",
        "                      .filter(lambda user: user != \"root\") \\\n",
        "                      .map(lambda user: (user, 1)) \\\n",
        "                      .reduceByKey(lambda a, b: a + b)\n",
        "\n",
        "usuario_mais_frequente = acessos_por_usuario.takeOrdered(1, key=lambda x: -x[1])[0]\n",
        "print(f\"Usuário que acessa a máquina com mais frequência (exceto root): {usuario_mais_frequente}\")\n"
      ]
    },
    {
      "cell_type": "markdown",
      "metadata": {
        "id": "moc7L5xImwqw"
      },
      "source": [
        "# Quais IP's estão acessando mais frequentemente esta máquina?\n",
        "\n",
        "* [Regex para IPs](https://stackoverflow.com/questions/10086572/ip-address-validation-in-python-using-regex)\n",
        "* [pyspark.RDD.flatMap](https://spark.apache.org/docs/3.1.1/api/python/reference/api/pyspark.RDD.flatMap.html)"
      ]
    },
    {
      "cell_type": "code",
      "execution_count": 24,
      "metadata": {
        "id": "opGWIswMcm40"
      },
      "outputs": [],
      "source": [
        "import re\n",
        "valid_ip_adress_regex = r\"\\b\\d{1,3}\\.\\d{1,3}\\.\\d{1,3}\\.\\d{1,3}\\b\"\n",
        "pattern = re.compile(valid_ip_adress_regex)"
      ]
    },
    {
      "cell_type": "code",
      "source": [
        "acessos_por_ip = (\n",
        "    logins_sucesso\n",
        "    .flatMap(lambda line: pattern.findall(line))\n",
        "    .map(lambda ip: (ip, 1))\n",
        "    .reduceByKey(lambda a, b: a + b)\n",
        ")\n",
        "\n",
        "ips_mais_frequentes = acessos_por_ip.takeOrdered(5, key=lambda x: -x[1])\n",
        "print(f\"IPs que acessam a máquina com mais frequência: {ips_mais_frequentes}\")"
      ],
      "metadata": {
        "id": "X00InMQdlRjh",
        "colab": {
          "base_uri": "https://localhost:8080/"
        },
        "outputId": "8e028330-ab6a-4502-b421-51f81e1e12fa"
      },
      "execution_count": 26,
      "outputs": [
        {
          "output_type": "stream",
          "name": "stdout",
          "text": [
            "IPs que acessam a máquina com mais frequência: [('85.245.107.41', 139), ('24.151.103.17', 47), ('95.93.96.191', 3), ('127.0.0.1', 1)]\n"
          ]
        }
      ]
    },
    {
      "cell_type": "code",
      "source": [],
      "metadata": {
        "id": "lK2iPg21lVgE"
      },
      "execution_count": null,
      "outputs": []
    },
    {
      "cell_type": "code",
      "source": [],
      "metadata": {
        "id": "BHmuBwirlbZe"
      },
      "execution_count": null,
      "outputs": []
    }
  ],
  "metadata": {
    "colab": {
      "provenance": []
    },
    "hide_input": false,
    "kernelspec": {
      "display_name": "Python 3 (ipykernel)",
      "language": "python",
      "name": "python3"
    },
    "language_info": {
      "codemirror_mode": {
        "name": "ipython",
        "version": 3
      },
      "file_extension": ".py",
      "mimetype": "text/x-python",
      "name": "python",
      "nbconvert_exporter": "python",
      "pygments_lexer": "ipython3",
      "version": "3.11.9"
    },
    "toc": {
      "base_numbering": 1,
      "nav_menu": {},
      "number_sections": true,
      "sideBar": true,
      "skip_h1_title": false,
      "title_cell": "Table of Contents",
      "title_sidebar": "Contents",
      "toc_cell": false,
      "toc_position": {},
      "toc_section_display": true,
      "toc_window_display": false
    },
    "varInspector": {
      "cols": {
        "lenName": 16,
        "lenType": 16,
        "lenVar": 40
      },
      "kernels_config": {
        "python": {
          "delete_cmd_postfix": "",
          "delete_cmd_prefix": "del ",
          "library": "var_list.py",
          "varRefreshCmd": "print(var_dic_list())"
        },
        "r": {
          "delete_cmd_postfix": ") ",
          "delete_cmd_prefix": "rm(",
          "library": "var_list.r",
          "varRefreshCmd": "cat(var_dic_list()) "
        }
      },
      "types_to_exclude": [
        "module",
        "function",
        "builtin_function_or_method",
        "instance",
        "_Feature"
      ],
      "window_display": false
    },
    "vscode": {
      "interpreter": {
        "hash": "ad2bdc8ecc057115af97d19610ffacc2b4e99fae6737bb82f5d7fb13d2f2c186"
      }
    }
  },
  "nbformat": 4,
  "nbformat_minor": 0
}