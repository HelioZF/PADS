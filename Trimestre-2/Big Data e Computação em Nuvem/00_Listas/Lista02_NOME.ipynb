{
 "cells": [
  {
   "cell_type": "markdown",
   "metadata": {
    "id": "rpxBzith2v0y"
   },
   "source": [
    "# Lista 2 - AVC\n",
    "\n",
    "O objetivo da lista é praticar queries e operações com DataFrame. Abaixo está o dicionário de dados da tabela.\n",
    "\n",
    "![a](https://miro.medium.com/max/649/1*3exwRyxaFZuhGB4hk-2K0Q.png)\n"
   ]
  },
  {
   "cell_type": "markdown",
   "metadata": {
    "id": "JteQEMMM2v04"
   },
   "source": [
    "### Cria uma tabela com DuckDB com os dados do arquivo `healthcare-dataset-stroke-data.csv` que estão no Blackboard"
   ]
  },
  {
   "cell_type": "code",
   "execution_count": null,
   "metadata": {
    "id": "bNCWeUIM2v05"
   },
   "outputs": [],
   "source": [
    "file_path = 'healthcare-dataset-stroke-data.csv'"
   ]
  },
  {
   "cell_type": "code",
   "execution_count": null,
   "metadata": {
    "id": "rIMAItPB2v06"
   },
   "outputs": [],
   "source": []
  },
  {
   "cell_type": "markdown",
   "metadata": {
    "id": "BXrlK9xy2v08"
   },
   "source": [
    "### Crie uma query SQL com o número de pessoas com AVC por tipo de trabalho, renomeando a coluna com os valores para `work_type_count`, em ordem decrescente"
   ]
  },
  {
   "cell_type": "code",
   "execution_count": null,
   "metadata": {
    "ExecuteTime": {
     "end_time": "2021-11-12T00:58:06.771184Z",
     "start_time": "2021-11-12T00:58:06.157452Z"
    },
    "id": "j1Y7L3hU2v09",
    "outputId": "4dfbceca-d024-4ef4-d5d8-7458ba91f72f"
   },
   "outputs": [],
   "source": []
  },
  {
   "cell_type": "markdown",
   "metadata": {
    "ExecuteTime": {
     "end_time": "2021-11-12T01:10:31.659327Z",
     "start_time": "2021-11-12T01:10:31.656856Z"
    },
    "id": "byb2_qDi2v0-"
   },
   "source": [
    "### Crie uma query SQL com o número total e a porcentagem de cada gênero na base"
   ]
  },
  {
   "cell_type": "code",
   "execution_count": null,
   "metadata": {
    "ExecuteTime": {
     "end_time": "2021-11-12T01:06:53.025336Z",
     "start_time": "2021-11-12T01:06:52.478022Z"
    },
    "id": "E4ma7Km_2v0-",
    "outputId": "31e022d1-1dd4-4487-c461-63d38a1ca5d1"
   },
   "outputs": [],
   "source": []
  },
  {
   "cell_type": "markdown",
   "metadata": {
    "id": "cC4lp7ik2v0_"
   },
   "source": [
    "### Crie uma query SQL com o número total e a porcentagem de pacientes masculinos com AVC"
   ]
  },
  {
   "cell_type": "code",
   "execution_count": null,
   "metadata": {
    "ExecuteTime": {
     "end_time": "2021-11-12T00:58:09.708198Z",
     "start_time": "2021-11-12T00:58:08.729749Z"
    },
    "id": "re8hccsJ2v0_",
    "outputId": "ab6dca86-371f-45f1-d9ca-fc6350315759"
   },
   "outputs": [],
   "source": []
  },
  {
   "cell_type": "markdown",
   "metadata": {
    "id": "oSBPB1Ip2v0_"
   },
   "source": [
    "### Crie uma query SQL com a quantidade de AVCs por faixa etária"
   ]
  },
  {
   "cell_type": "code",
   "execution_count": null,
   "metadata": {
    "ExecuteTime": {
     "end_time": "2021-11-12T00:58:10.764551Z",
     "start_time": "2021-11-12T00:58:10.175530Z"
    },
    "id": "72IwJxF72v1A",
    "outputId": "a86cab15-b002-487d-c360-114633c24043"
   },
   "outputs": [],
   "source": []
  }
 ],
 "metadata": {
  "colab": {
   "provenance": []
  },
  "hide_input": false,
  "kernelspec": {
   "display_name": "Python 3 (ipykernel)",
   "language": "python",
   "name": "python3"
  },
  "language_info": {
   "codemirror_mode": {
    "name": "ipython",
    "version": 3
   },
   "file_extension": ".py",
   "mimetype": "text/x-python",
   "name": "python",
   "nbconvert_exporter": "python",
   "pygments_lexer": "ipython3",
   "version": "3.10.8"
  },
  "toc": {
   "base_numbering": 1,
   "nav_menu": {},
   "number_sections": true,
   "sideBar": true,
   "skip_h1_title": false,
   "title_cell": "Table of Contents",
   "title_sidebar": "Contents",
   "toc_cell": false,
   "toc_position": {},
   "toc_section_display": true,
   "toc_window_display": false
  },
  "varInspector": {
   "cols": {
    "lenName": 16,
    "lenType": 16,
    "lenVar": 40
   },
   "kernels_config": {
    "python": {
     "delete_cmd_postfix": "",
     "delete_cmd_prefix": "del ",
     "library": "var_list.py",
     "varRefreshCmd": "print(var_dic_list())"
    },
    "r": {
     "delete_cmd_postfix": ") ",
     "delete_cmd_prefix": "rm(",
     "library": "var_list.r",
     "varRefreshCmd": "cat(var_dic_list()) "
    }
   },
   "types_to_exclude": [
    "module",
    "function",
    "builtin_function_or_method",
    "instance",
    "_Feature"
   ],
   "window_display": false
  }
 },
 "nbformat": 4,
 "nbformat_minor": 4
}
