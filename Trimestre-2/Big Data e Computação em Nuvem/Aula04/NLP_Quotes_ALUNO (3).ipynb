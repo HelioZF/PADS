{
 "cells": [
  {
   "cell_type": "markdown",
   "id": "a25f2caa-c11f-446b-a189-e2e90edefcf8",
   "metadata": {},
   "source": [
    "# NLP - Spark\n",
    "\n",
    "![https://i.imgur.com/JRU5xR8.png](https://i.imgur.com/JRU5xR8.png)"
   ]
  },
  {
   "cell_type": "code",
   "execution_count": 1,
   "id": "9272248f-39a6-4c9a-8928-a537486c33f1",
   "metadata": {},
   "outputs": [],
   "source": [
    "import bs4\n",
    "import requests\n",
    "import pandas as pd\n",
    "import numpy as np"
   ]
  },
  {
   "cell_type": "markdown",
   "id": "6351ccd5-cfa1-4e14-97af-ceb8d0f08545",
   "metadata": {},
   "source": [
    "## 1. Tokenização usando `map ()`, `flatMap()` e `reduceByKey()`"
   ]
  },
  {
   "cell_type": "code",
   "execution_count": null,
   "id": "345dba1c-6c05-4136-9931-86bded4e9f20",
   "metadata": {},
   "outputs": [],
   "source": []
  },
  {
   "cell_type": "markdown",
   "id": "818bd577-bcc1-4e4a-9d30-a3751178c16f",
   "metadata": {},
   "source": [
    "## 2. Tokenização usando o `tokenize.word_tokenize()`"
   ]
  },
  {
   "cell_type": "code",
   "execution_count": null,
   "id": "ea5aff79-ed82-4064-9534-14b5f5406bff",
   "metadata": {},
   "outputs": [],
   "source": []
  }
 ],
 "metadata": {
  "kernelspec": {
   "display_name": "Python 3 (ipykernel)",
   "language": "python",
   "name": "python3"
  },
  "language_info": {
   "codemirror_mode": {
    "name": "ipython",
    "version": 3
   },
   "file_extension": ".py",
   "mimetype": "text/x-python",
   "name": "python",
   "nbconvert_exporter": "python",
   "pygments_lexer": "ipython3",
   "version": "3.12.7"
  }
 },
 "nbformat": 4,
 "nbformat_minor": 5
}
