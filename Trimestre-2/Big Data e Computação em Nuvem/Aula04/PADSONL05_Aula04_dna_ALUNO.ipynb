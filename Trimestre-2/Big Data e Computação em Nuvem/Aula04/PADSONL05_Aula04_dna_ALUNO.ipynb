{
  "cells": [
    {
      "cell_type": "markdown",
      "metadata": {
        "id": "mPnugDNFXM70"
      },
      "source": [
        "# Aula 4 - Sequenciamento Genético\n",
        "\n",
        "## Sequenciamento COVID"
      ]
    },
    {
      "cell_type": "code",
      "source": [],
      "metadata": {
        "id": "OmIwJrIJoixY"
      },
      "execution_count": null,
      "outputs": []
    },
    {
      "cell_type": "code",
      "execution_count": null,
      "metadata": {
        "ExecuteTime": {
          "end_time": "2022-05-07T14:39:52.955978Z",
          "start_time": "2022-05-07T14:39:48.143923Z"
        },
        "id": "PnBo8PYJXM8H"
      },
      "outputs": [],
      "source": [
        "from pyspark.sql import SparkSession\n",
        "spark = SparkSession \\\n",
        "        .builder \\\n",
        "        .master(\"local[*]\") \\\n",
        "        .appName(\"DNA_Michel2023\") \\\n",
        "        .getOrCreate()"
      ]
    },
    {
      "cell_type": "code",
      "execution_count": null,
      "metadata": {
        "ExecuteTime": {
          "end_time": "2022-05-07T14:39:54.602308Z",
          "start_time": "2022-05-07T14:39:54.582310Z"
        },
        "id": "QnCGXIYIXM8P"
      },
      "outputs": [],
      "source": [
        "spark"
      ]
    },
    {
      "cell_type": "code",
      "execution_count": null,
      "metadata": {
        "ExecuteTime": {
          "end_time": "2022-05-07T14:40:05.870179Z",
          "start_time": "2022-05-07T14:40:05.862772Z"
        },
        "id": "GqbVl2slXM8V"
      },
      "outputs": [],
      "source": [
        "sc = spark.sparkContext"
      ]
    },
    {
      "cell_type": "markdown",
      "metadata": {
        "ExecuteTime": {
          "end_time": "2021-10-23T00:40:05.863042Z",
          "start_time": "2021-10-23T00:40:05.860629Z"
        },
        "id": "ujmz4kY9XM8X"
      },
      "source": [
        "### Vírus de Wuhan\n",
        "\n",
        "SARS-CoV-2-Wuhan-NC_045512.2.fasta"
      ]
    },
    {
      "cell_type": "code",
      "execution_count": null,
      "metadata": {
        "ExecuteTime": {
          "end_time": "2022-05-07T14:40:49.680445Z",
          "start_time": "2022-05-07T14:40:49.677768Z"
        },
        "id": "rFcgzoMdXM8Z"
      },
      "outputs": [],
      "source": []
    },
    {
      "cell_type": "code",
      "execution_count": null,
      "metadata": {
        "ExecuteTime": {
          "end_time": "2022-05-07T14:41:20.951698Z",
          "start_time": "2022-05-07T14:41:20.907017Z"
        },
        "id": "lxX1AQV5XM8a"
      },
      "outputs": [],
      "source": []
    },
    {
      "cell_type": "code",
      "execution_count": null,
      "metadata": {
        "ExecuteTime": {
          "end_time": "2022-05-07T14:41:30.806765Z",
          "start_time": "2022-05-07T14:41:29.822123Z"
        },
        "id": "vQaYXbAfXM8c"
      },
      "outputs": [],
      "source": []
    },
    {
      "cell_type": "code",
      "execution_count": null,
      "metadata": {
        "ExecuteTime": {
          "end_time": "2022-05-07T14:41:56.669031Z",
          "start_time": "2022-05-07T14:41:56.590181Z"
        },
        "id": "O5w3-2F4XM8f"
      },
      "outputs": [],
      "source": []
    },
    {
      "cell_type": "code",
      "execution_count": null,
      "metadata": {
        "ExecuteTime": {
          "end_time": "2022-05-07T14:45:28.986692Z",
          "start_time": "2022-05-07T14:45:28.983100Z"
        },
        "id": "TEo24m9dXM8i"
      },
      "outputs": [],
      "source": []
    },
    {
      "cell_type": "code",
      "execution_count": null,
      "metadata": {
        "ExecuteTime": {
          "end_time": "2022-05-07T14:45:37.640337Z",
          "start_time": "2022-05-07T14:45:37.576222Z"
        },
        "id": "GSxgAh_DXM8k"
      },
      "outputs": [],
      "source": []
    },
    {
      "cell_type": "code",
      "execution_count": null,
      "metadata": {
        "ExecuteTime": {
          "end_time": "2022-05-07T14:50:56.916699Z",
          "start_time": "2022-05-07T14:50:56.913338Z"
        },
        "id": "-bScVJvRXM8m"
      },
      "outputs": [],
      "source": []
    },
    {
      "cell_type": "code",
      "execution_count": null,
      "metadata": {
        "ExecuteTime": {
          "end_time": "2022-05-07T14:52:03.460133Z",
          "start_time": "2022-05-07T14:52:03.457271Z"
        },
        "id": "EHnSiMyXXM8o"
      },
      "outputs": [],
      "source": []
    },
    {
      "cell_type": "code",
      "execution_count": null,
      "metadata": {
        "ExecuteTime": {
          "end_time": "2022-05-07T14:52:37.641998Z",
          "start_time": "2022-05-07T14:52:37.593302Z"
        },
        "id": "xh0VVwnwXM8q"
      },
      "outputs": [],
      "source": []
    },
    {
      "cell_type": "code",
      "execution_count": null,
      "metadata": {
        "ExecuteTime": {
          "end_time": "2022-05-07T14:53:56.996395Z",
          "start_time": "2022-05-07T14:53:56.964077Z"
        },
        "id": "mekgrL_BXM8r"
      },
      "outputs": [],
      "source": []
    },
    {
      "cell_type": "code",
      "execution_count": null,
      "metadata": {
        "ExecuteTime": {
          "end_time": "2022-05-07T14:56:28.601489Z",
          "start_time": "2022-05-07T14:56:28.132020Z"
        },
        "id": "vSYCwgZIXM8s"
      },
      "outputs": [],
      "source": []
    },
    {
      "cell_type": "code",
      "execution_count": null,
      "metadata": {
        "ExecuteTime": {
          "end_time": "2022-05-07T14:57:42.128355Z",
          "start_time": "2022-05-07T14:57:42.066570Z"
        },
        "id": "6L2LeGuzXM8u"
      },
      "outputs": [],
      "source": []
    },
    {
      "cell_type": "code",
      "execution_count": null,
      "metadata": {
        "ExecuteTime": {
          "end_time": "2022-05-07T14:57:45.590100Z",
          "start_time": "2022-05-07T14:57:45.586551Z"
        },
        "id": "Fc6iMGCPXM8w"
      },
      "outputs": [],
      "source": []
    },
    {
      "cell_type": "code",
      "execution_count": null,
      "metadata": {
        "ExecuteTime": {
          "end_time": "2022-05-07T14:58:44.078407Z",
          "start_time": "2022-05-07T14:58:44.075335Z"
        },
        "id": "DKGJ3rZWXM8x"
      },
      "outputs": [],
      "source": []
    },
    {
      "cell_type": "code",
      "execution_count": null,
      "metadata": {
        "ExecuteTime": {
          "end_time": "2022-05-07T14:58:59.068156Z",
          "start_time": "2022-05-07T14:58:59.019065Z"
        },
        "id": "x_JZ7fl1XM8z"
      },
      "outputs": [],
      "source": []
    },
    {
      "cell_type": "markdown",
      "metadata": {
        "id": "k-vBQkNfXM80"
      },
      "source": [
        "### Vírus de Washington\n",
        "\n",
        "SARS-CoV-2-Washington_MT293201.1.fasta"
      ]
    },
    {
      "cell_type": "code",
      "execution_count": null,
      "metadata": {
        "ExecuteTime": {
          "end_time": "2022-05-07T15:00:40.238170Z",
          "start_time": "2022-05-07T15:00:40.036108Z"
        },
        "id": "_RctfXA7XM81"
      },
      "outputs": [],
      "source": []
    },
    {
      "cell_type": "markdown",
      "metadata": {
        "id": "cbtdH4W4XM83"
      },
      "source": [
        "## Estratégias de sequenciamento\n",
        "\n",
        "### Estratégia 01 (igual anteriormente)"
      ]
    },
    {
      "cell_type": "code",
      "source": [],
      "metadata": {
        "id": "jXKvzcTlomVx"
      },
      "execution_count": null,
      "outputs": []
    },
    {
      "cell_type": "code",
      "execution_count": null,
      "metadata": {
        "ExecuteTime": {
          "end_time": "2022-05-14T16:16:01.490926Z",
          "start_time": "2022-05-14T16:15:56.772621Z"
        },
        "id": "E6sT-4ojXM84"
      },
      "outputs": [],
      "source": [
        "from pyspark.sql import SparkSession\n",
        "spark = SparkSession \\\n",
        "        .builder \\\n",
        "        .master(\"local[*]\") \\\n",
        "        .appName(\"DNA_Michel_Otimizacoes2\") \\\n",
        "        .getOrCreate()"
      ]
    },
    {
      "cell_type": "code",
      "execution_count": null,
      "metadata": {
        "ExecuteTime": {
          "end_time": "2022-05-14T16:16:20.284989Z",
          "start_time": "2022-05-14T16:16:20.268140Z"
        },
        "id": "Rc-xJQp2XM86"
      },
      "outputs": [],
      "source": [
        "spark"
      ]
    },
    {
      "cell_type": "code",
      "execution_count": null,
      "metadata": {
        "ExecuteTime": {
          "end_time": "2022-05-14T16:16:24.305525Z",
          "start_time": "2022-05-14T16:16:24.302830Z"
        },
        "id": "rWyKi7X9XM87"
      },
      "outputs": [],
      "source": [
        "sc = spark.sparkContext"
      ]
    },
    {
      "cell_type": "code",
      "execution_count": null,
      "metadata": {
        "ExecuteTime": {
          "end_time": "2022-05-14T16:16:27.104371Z",
          "start_time": "2022-05-14T16:16:27.101698Z"
        },
        "id": "Owh7tEw3XM89"
      },
      "outputs": [],
      "source": []
    },
    {
      "cell_type": "code",
      "execution_count": null,
      "metadata": {
        "ExecuteTime": {
          "end_time": "2022-05-14T16:19:10.302686Z",
          "start_time": "2022-05-14T16:19:09.847053Z"
        },
        "id": "wZ0CJMYjXM8-"
      },
      "outputs": [],
      "source": []
    },
    {
      "cell_type": "code",
      "execution_count": null,
      "metadata": {
        "ExecuteTime": {
          "end_time": "2022-05-14T16:19:35.079978Z",
          "start_time": "2022-05-14T16:19:22.774668Z"
        },
        "id": "gvKNzYkqXM8_"
      },
      "outputs": [],
      "source": []
    },
    {
      "cell_type": "code",
      "execution_count": null,
      "metadata": {
        "ExecuteTime": {
          "end_time": "2022-05-14T16:20:03.044394Z",
          "start_time": "2022-05-14T16:20:02.375805Z"
        },
        "id": "-1Vg7Mq2XM9A"
      },
      "outputs": [],
      "source": []
    },
    {
      "cell_type": "code",
      "execution_count": null,
      "metadata": {
        "ExecuteTime": {
          "end_time": "2022-05-14T16:20:50.556237Z",
          "start_time": "2022-05-14T16:20:50.552267Z"
        },
        "id": "qlTditNlXM9B"
      },
      "outputs": [],
      "source": []
    },
    {
      "cell_type": "code",
      "execution_count": null,
      "metadata": {
        "ExecuteTime": {
          "end_time": "2022-05-14T16:23:52.941195Z",
          "start_time": "2022-05-14T16:23:52.937206Z"
        },
        "id": "HhcTJ8RMXM9C"
      },
      "outputs": [],
      "source": []
    },
    {
      "cell_type": "code",
      "execution_count": null,
      "metadata": {
        "ExecuteTime": {
          "end_time": "2022-05-14T16:24:28.980835Z",
          "start_time": "2022-05-14T16:24:28.977318Z"
        },
        "id": "q0EZeaLiXM9D"
      },
      "outputs": [],
      "source": []
    },
    {
      "cell_type": "code",
      "execution_count": null,
      "metadata": {
        "ExecuteTime": {
          "end_time": "2022-05-14T16:25:52.928612Z",
          "start_time": "2022-05-14T16:25:52.897801Z"
        },
        "id": "__bwaMmZXM9E"
      },
      "outputs": [],
      "source": []
    },
    {
      "cell_type": "code",
      "execution_count": null,
      "metadata": {
        "ExecuteTime": {
          "end_time": "2022-05-14T16:42:38.397150Z",
          "start_time": "2022-05-14T16:27:32.697997Z"
        },
        "id": "du3tXQGLXM9F"
      },
      "outputs": [],
      "source": []
    },
    {
      "cell_type": "markdown",
      "metadata": {
        "id": "X6h-f3BDXM9H"
      },
      "source": [
        "### Estratégia 2 - Map/Reduce Otimizado\n",
        "\n",
        "Alterando a estruturada de dados (de lista para dicionário)"
      ]
    },
    {
      "cell_type": "code",
      "execution_count": null,
      "metadata": {
        "ExecuteTime": {
          "end_time": "2022-05-14T16:42:38.468023Z",
          "start_time": "2022-05-14T16:42:38.430344Z"
        },
        "id": "s_rWQQlDXM9I"
      },
      "outputs": [],
      "source": []
    },
    {
      "cell_type": "code",
      "execution_count": null,
      "metadata": {
        "ExecuteTime": {
          "end_time": "2022-05-14T16:42:38.623659Z",
          "start_time": "2022-05-14T16:42:38.505729Z"
        },
        "id": "mF4S6IPbXM9K"
      },
      "outputs": [],
      "source": []
    },
    {
      "cell_type": "code",
      "execution_count": null,
      "metadata": {
        "ExecuteTime": {
          "end_time": "2022-05-14T16:47:05.248818Z",
          "start_time": "2022-05-14T16:42:38.757742Z"
        },
        "id": "yJddrvDBXM9L"
      },
      "outputs": [],
      "source": []
    },
    {
      "cell_type": "markdown",
      "metadata": {
        "id": "0nOUDxyuXM9M"
      },
      "source": [
        "### Estratégia 3 - Usando mapPartitions"
      ]
    },
    {
      "cell_type": "code",
      "execution_count": null,
      "metadata": {
        "ExecuteTime": {
          "end_time": "2022-05-14T16:47:56.075596Z",
          "start_time": "2022-05-14T16:47:05.281722Z"
        },
        "id": "ALa1wz51XM9N"
      },
      "outputs": [],
      "source": []
    },
    {
      "cell_type": "code",
      "execution_count": null,
      "metadata": {
        "ExecuteTime": {
          "end_time": "2022-05-14T16:47:56.208000Z",
          "start_time": "2022-05-14T16:47:56.141993Z"
        },
        "id": "CLXk5sijXM9O"
      },
      "outputs": [],
      "source": []
    },
    {
      "cell_type": "code",
      "execution_count": null,
      "metadata": {
        "ExecuteTime": {
          "end_time": "2022-05-14T16:47:56.464000Z",
          "start_time": "2022-05-14T16:47:56.328647Z"
        },
        "id": "SYRmmhdCXM9P"
      },
      "outputs": [],
      "source": []
    },
    {
      "cell_type": "code",
      "execution_count": null,
      "metadata": {
        "ExecuteTime": {
          "end_time": "2022-05-14T16:51:12.143975Z",
          "start_time": "2022-05-14T16:47:56.652591Z"
        },
        "id": "w1ThISbYXM9Q"
      },
      "outputs": [],
      "source": []
    },
    {
      "cell_type": "code",
      "execution_count": null,
      "metadata": {
        "ExecuteTime": {
          "end_time": "2021-10-23T12:24:03.756504Z",
          "start_time": "2021-10-23T12:19:57.761991Z"
        },
        "id": "Y-LwHYzDXM9R"
      },
      "outputs": [],
      "source": []
    }
  ],
  "metadata": {
    "hide_input": false,
    "kernelspec": {
      "display_name": "Insper (PySpark)",
      "language": "python",
      "name": "insper"
    },
    "language_info": {
      "codemirror_mode": {
        "name": "ipython",
        "version": 3
      },
      "file_extension": ".py",
      "mimetype": "text/x-python",
      "name": "python",
      "nbconvert_exporter": "python",
      "pygments_lexer": "ipython3",
      "version": "3.8.3"
    },
    "toc": {
      "base_numbering": 1,
      "nav_menu": {},
      "number_sections": true,
      "sideBar": true,
      "skip_h1_title": false,
      "title_cell": "Table of Contents",
      "title_sidebar": "Contents",
      "toc_cell": false,
      "toc_position": {},
      "toc_section_display": true,
      "toc_window_display": false
    },
    "varInspector": {
      "cols": {
        "lenName": 16,
        "lenType": 16,
        "lenVar": 40
      },
      "kernels_config": {
        "python": {
          "delete_cmd_postfix": "",
          "delete_cmd_prefix": "del ",
          "library": "var_list.py",
          "varRefreshCmd": "print(var_dic_list())"
        },
        "r": {
          "delete_cmd_postfix": ") ",
          "delete_cmd_prefix": "rm(",
          "library": "var_list.r",
          "varRefreshCmd": "cat(var_dic_list()) "
        }
      },
      "types_to_exclude": [
        "module",
        "function",
        "builtin_function_or_method",
        "instance",
        "_Feature"
      ],
      "window_display": false
    },
    "colab": {
      "provenance": []
    }
  },
  "nbformat": 4,
  "nbformat_minor": 0
}