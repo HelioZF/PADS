{
 "cells": [
  {
   "cell_type": "markdown",
   "id": "a25f2caa-c11f-446b-a189-e2e90edefcf8",
   "metadata": {},
   "source": [
    "# NLP - Spark\n",
    "\n",
    "![https://i.imgur.com/JRU5xR8.png](https://i.imgur.com/JRU5xR8.png)"
   ]
  },
  {
   "cell_type": "code",
   "execution_count": 1,
   "id": "9272248f-39a6-4c9a-8928-a537486c33f1",
   "metadata": {},
   "outputs": [],
   "source": [
    "import bs4\n",
    "import requests\n",
    "import pandas as pd\n",
    "import numpy as np"
   ]
  },
  {
   "cell_type": "markdown",
   "id": "6351ccd5-cfa1-4e14-97af-ceb8d0f08545",
   "metadata": {},
   "source": [
    "## 1. Tokenização usando `map ()`, `flatMap()` e `reduceByKey()`"
   ]
  },
  {
   "cell_type": "code",
   "execution_count": 4,
   "id": "345dba1c-6c05-4136-9931-86bded4e9f20",
   "metadata": {},
   "outputs": [],
   "source": [
    "pags = str(np.arange(1,11))\n",
    " \n",
    "texts = []\n",
    " \n",
    "for pag in pags:\n",
    "    base_url = \"https://quotes.toscrape.com/page/\"+ pag\n",
    "    result = requests.get(base_url)\n",
    "    soup = bs4.BeautifulSoup(result.text)\n",
    "    for text_ in soup.select('.text'):\n",
    "        texts.append(text_.text)"
   ]
  },
  {
   "cell_type": "code",
   "execution_count": 7,
   "id": "975798bc-6366-4f0b-a22b-208c3883387e",
   "metadata": {},
   "outputs": [],
   "source": [
    "from pyspark.sql import SparkSession\n",
    "spark = SparkSession \\\n",
    "        .builder \\\n",
    "        .master(\"local[4]\") \\\n",
    "        .appName(\"nlp_quotes\") \\\n",
    "        .getOrCreate()"
   ]
  },
  {
   "cell_type": "code",
   "execution_count": 8,
   "id": "90f84196-0715-4e9f-9f0e-d64f3d8ad498",
   "metadata": {},
   "outputs": [],
   "source": [
    "sc = spark.sparkContext"
   ]
  },
  {
   "cell_type": "code",
   "execution_count": 10,
   "id": "db6eb1d5-ccd1-410b-a617-43c720dacd28",
   "metadata": {},
   "outputs": [],
   "source": [
    "textsRDD = sc.text_rdd = sc.parallelize(texts)"
   ]
  },
  {
   "cell_type": "code",
   "execution_count": 11,
   "id": "b60eb0b1-0bcc-4b68-9da4-2006cee02727",
   "metadata": {},
   "outputs": [
    {
     "data": {
      "text/plain": [
       "['“The world as we have created it is a process of our thinking. It cannot be changed without changing our thinking.”',\n",
       " '“It is our choices, Harry, that show what we truly are, far more than our abilities.”']"
      ]
     },
     "execution_count": 11,
     "metadata": {},
     "output_type": "execute_result"
    }
   ],
   "source": [
    "textsRDD.take(2)"
   ]
  },
  {
   "cell_type": "code",
   "execution_count": 15,
   "id": "04ab6327-3276-4dd0-aee5-77c77b742fa6",
   "metadata": {},
   "outputs": [
    {
     "name": "stdout",
     "output_type": "stream",
     "text": [
      "Collecting nltk\n",
      "  Downloading nltk-3.9.1-py3-none-any.whl.metadata (2.9 kB)\n",
      "Requirement already satisfied: click in /opt/conda/lib/python3.12/site-packages (from nltk) (8.1.7)\n",
      "Requirement already satisfied: joblib in /opt/conda/lib/python3.12/site-packages (from nltk) (1.4.2)\n",
      "Collecting regex>=2021.8.3 (from nltk)\n",
      "  Downloading regex-2024.9.11-cp312-cp312-manylinux_2_17_x86_64.manylinux2014_x86_64.whl.metadata (40 kB)\n",
      "Requirement already satisfied: tqdm in /opt/conda/lib/python3.12/site-packages (from nltk) (4.66.6)\n",
      "Downloading nltk-3.9.1-py3-none-any.whl (1.5 MB)\n",
      "\u001b[2K   \u001b[90m━━━━━━━━━━━━━━━━━━━━━━━━━━━━━━━━━━━━━━━━\u001b[0m \u001b[32m1.5/1.5 MB\u001b[0m \u001b[31m50.7 MB/s\u001b[0m eta \u001b[36m0:00:00\u001b[0m\n",
      "\u001b[?25hDownloading regex-2024.9.11-cp312-cp312-manylinux_2_17_x86_64.manylinux2014_x86_64.whl (797 kB)\n",
      "\u001b[2K   \u001b[90m━━━━━━━━━━━━━━━━━━━━━━━━━━━━━━━━━━━━━━━━\u001b[0m \u001b[32m797.0/797.0 kB\u001b[0m \u001b[31m28.5 MB/s\u001b[0m eta \u001b[36m0:00:00\u001b[0m\n",
      "\u001b[?25hInstalling collected packages: regex, nltk\n",
      "Successfully installed nltk-3.9.1 regex-2024.9.11\n",
      "Note: you may need to restart the kernel to use updated packages.\n"
     ]
    }
   ],
   "source": [
    "pip install nltk"
   ]
  },
  {
   "cell_type": "code",
   "execution_count": 33,
   "id": "608da222-5f98-4b75-a7eb-5c7afc964d00",
   "metadata": {},
   "outputs": [
    {
     "name": "stderr",
     "output_type": "stream",
     "text": [
      "[nltk_data] Downloading package stopwords to /home/jovyan/nltk_data...\n",
      "[nltk_data]   Package stopwords is already up-to-date!\n",
      "[nltk_data] Downloading package punkt to /home/jovyan/nltk_data...\n",
      "[nltk_data]   Package punkt is already up-to-date!\n",
      "[nltk_data] Downloading package punkt_tab to /home/jovyan/nltk_data...\n",
      "[nltk_data]   Unzipping tokenizers/punkt_tab.zip.\n"
     ]
    },
    {
     "data": {
      "text/plain": [
       "True"
      ]
     },
     "execution_count": 33,
     "metadata": {},
     "output_type": "execute_result"
    }
   ],
   "source": [
    "import nltk\n",
    "nltk.download('stopwords')\n",
    "nltk.download('punkt')\n",
    "nltk.download('punkt_tab')"
   ]
  },
  {
   "cell_type": "code",
   "execution_count": 19,
   "id": "670dfa52-5a5d-4b7b-87b9-67029ca99e9f",
   "metadata": {},
   "outputs": [
    {
     "data": {
      "text/plain": [
       "['The world as we have created it is a process of our thinking. It cannot be changed without changing our thinking.',\n",
       " 'It is our choices, Harry, that show what we truly are, far more than our abilities.']"
      ]
     },
     "execution_count": 19,
     "metadata": {},
     "output_type": "execute_result"
    }
   ],
   "source": [
    "textsRDD2 = textsRDD.map(lambda x: x.replace('“',' ').strip())\n",
    "textsRDD3 = textsRDD2.map(lambda x: x.replace('”',' ').strip())\n",
    "textsRDD3.take(2)"
   ]
  },
  {
   "cell_type": "code",
   "execution_count": 20,
   "id": "fa748fb5-8f22-47df-bcf6-ae81411cd159",
   "metadata": {},
   "outputs": [
    {
     "data": {
      "text/plain": [
       "['the world as we have created it is a process of our thinking. it cannot be changed without changing our thinking.',\n",
       " 'it is our choices, harry, that show what we truly are, far more than our abilities.']"
      ]
     },
     "execution_count": 20,
     "metadata": {},
     "output_type": "execute_result"
    }
   ],
   "source": [
    "textsRDD4  = textsRDD3.map(lambda x: x.lower())\n",
    "textsRDD4.take(2)"
   ]
  },
  {
   "cell_type": "code",
   "execution_count": 26,
   "id": "7fe499f9-04f5-4e6e-9e02-7798f245d790",
   "metadata": {},
   "outputs": [
    {
     "data": {
      "text/plain": [
       "['the', 'world', 'as', 'we', 'have', 'created', 'it', 'is', 'a', 'process']"
      ]
     },
     "execution_count": 26,
     "metadata": {},
     "output_type": "execute_result"
    }
   ],
   "source": [
    "textsRDD5 = textsRDD4.flatMap(lambda x: x.split(' '))\n",
    "textsRDD5.take(10)"
   ]
  },
  {
   "cell_type": "code",
   "execution_count": 27,
   "id": "22044f84-198e-427c-b704-5ba2626ad088",
   "metadata": {},
   "outputs": [
    {
     "data": {
      "text/plain": [
       "[('the', 1), ('world', 1), ('as', 1), ('we', 1), ('have', 1)]"
      ]
     },
     "execution_count": 27,
     "metadata": {},
     "output_type": "execute_result"
    }
   ],
   "source": [
    "textsRDD6 = textsRDD5.map(lambda x: (x, 1))\n",
    "textsRDD6.take(5)"
   ]
  },
  {
   "cell_type": "code",
   "execution_count": 28,
   "id": "7b1b864c-71e0-4d48-bee4-162157e8d619",
   "metadata": {},
   "outputs": [
    {
     "data": {
      "text/plain": [
       "[('world', 5), ('have', 18), ('it', 39), ('of', 49), ('our', 10)]"
      ]
     },
     "execution_count": 28,
     "metadata": {},
     "output_type": "execute_result"
    }
   ],
   "source": [
    "textsRDD7 = textsRDD6.reduceByKey(lambda x,y: x+y)\n",
    "textsRDD7.take(5)"
   ]
  },
  {
   "cell_type": "markdown",
   "id": "818bd577-bcc1-4e4a-9d30-a3751178c16f",
   "metadata": {},
   "source": [
    "## 2. Tokenização usando o `tokenize.word_tokenize()`"
   ]
  },
  {
   "cell_type": "code",
   "execution_count": 30,
   "id": "ea5aff79-ed82-4064-9534-14b5f5406bff",
   "metadata": {},
   "outputs": [
    {
     "data": {
      "text/plain": [
       "['the world as we have created it is a process of our thinking. it cannot be changed without changing our thinking.',\n",
       " 'it is our choices, harry, that show what we truly are, far more than our abilities.']"
      ]
     },
     "execution_count": 30,
     "metadata": {},
     "output_type": "execute_result"
    }
   ],
   "source": [
    "textsRDD4.take(2)"
   ]
  },
  {
   "cell_type": "code",
   "execution_count": 34,
   "id": "d1940551-e66e-4f33-b944-5c1269e0053d",
   "metadata": {},
   "outputs": [],
   "source": [
    "textsRDD_Token = textsRDD4.map(lambda x: nltk.tokenize.word_tokenize(x))"
   ]
  },
  {
   "cell_type": "code",
   "execution_count": 36,
   "id": "f938caed-8b15-427d-8df6-ccd7522d59f7",
   "metadata": {},
   "outputs": [
    {
     "data": {
      "text/plain": [
       "[['the',\n",
       "  'world',\n",
       "  'as',\n",
       "  'we',\n",
       "  'have',\n",
       "  'created',\n",
       "  'it',\n",
       "  'is',\n",
       "  'a',\n",
       "  'process',\n",
       "  'of',\n",
       "  'our',\n",
       "  'thinking',\n",
       "  '.',\n",
       "  'it',\n",
       "  'can',\n",
       "  'not',\n",
       "  'be',\n",
       "  'changed',\n",
       "  'without',\n",
       "  'changing',\n",
       "  'our',\n",
       "  'thinking',\n",
       "  '.']]"
      ]
     },
     "execution_count": 36,
     "metadata": {},
     "output_type": "execute_result"
    }
   ],
   "source": [
    "textsRDD_Token.take(1)"
   ]
  },
  {
   "cell_type": "code",
   "execution_count": null,
   "id": "d47996ba-c8e9-4f5b-a912-d73ac2028268",
   "metadata": {},
   "outputs": [],
   "source": []
  },
  {
   "cell_type": "code",
   "execution_count": 37,
   "id": "9bf1bfe2-4862-4577-8bb4-8f9d458f7def",
   "metadata": {},
   "outputs": [],
   "source": [
    "stopWord = nltk.corpus.stopwords.words('english')"
   ]
  },
  {
   "cell_type": "code",
   "execution_count": 38,
   "id": "a0e92ce9-59d0-42f0-bbcf-e7aa2001cb2f",
   "metadata": {},
   "outputs": [],
   "source": [
    "textsRDD_stopWord = textsRDD_Token.flatMap(lambda x: [word for word in x if word not in stopWord])"
   ]
  },
  {
   "cell_type": "code",
   "execution_count": 40,
   "id": "7f31a8b8-c09a-485f-af75-9e810db584f6",
   "metadata": {},
   "outputs": [
    {
     "data": {
      "text/plain": [
       "['world', 'created', 'process', 'thinking', '.']"
      ]
     },
     "execution_count": 40,
     "metadata": {},
     "output_type": "execute_result"
    }
   ],
   "source": [
    "textsRDD_stopWord.take(5)"
   ]
  },
  {
   "cell_type": "code",
   "execution_count": 41,
   "id": "d5e99e17-a094-4b05-a6ae-064d1489f7f1",
   "metadata": {},
   "outputs": [
    {
     "data": {
      "text/plain": [
       "[('world', 1), ('created', 1), ('process', 1), ('thinking', 1), ('.', 1)]"
      ]
     },
     "execution_count": 41,
     "metadata": {},
     "output_type": "execute_result"
    }
   ],
   "source": [
    "textsRDD10 = textsRDD_stopWord.map(lambda x: (x,1))\n",
    "textsRDD10.take(5)"
   ]
  },
  {
   "cell_type": "code",
   "execution_count": 43,
   "id": "38781450-6467-4854-91de-5e322b19ec95",
   "metadata": {},
   "outputs": [
    {
     "data": {
      "text/plain": [
       "[('world', 7), ('thinking', 6), ('.', 173), ('changed', 2), ('changing', 2)]"
      ]
     },
     "execution_count": 43,
     "metadata": {},
     "output_type": "execute_result"
    }
   ],
   "source": [
    "textsRDD11 = textsRDD10.reduceByKey(lambda x,y: x+y)\n",
    "textsRDD11.take(5)"
   ]
  },
  {
   "cell_type": "code",
   "execution_count": 45,
   "id": "927ec5be-ab8a-4412-99d3-85761462d34d",
   "metadata": {},
   "outputs": [
    {
     "data": {
      "text/plain": [
       "'!\"#$%&\\'()*+,-./:;<=>?@[\\\\]^_`{|}~'"
      ]
     },
     "execution_count": 45,
     "metadata": {},
     "output_type": "execute_result"
    }
   ],
   "source": [
    "import string\n",
    "string.punctuation"
   ]
  },
  {
   "cell_type": "code",
   "execution_count": 61,
   "id": "fe5455f3-1081-4722-801f-f2699c572a63",
   "metadata": {},
   "outputs": [],
   "source": [
    "lista_specChars = ['...','-','–',\"'\",\"n't\",\"'s\"]"
   ]
  },
  {
   "cell_type": "code",
   "execution_count": 62,
   "id": "282b8183-cad7-454d-b3d9-3703580d4587",
   "metadata": {},
   "outputs": [],
   "source": [
    "textsRDD12 = textsRDD11.filter(lambda x: x[0] not in lista_specChars)"
   ]
  },
  {
   "cell_type": "code",
   "execution_count": 63,
   "id": "99fc436b-aa91-459c-8db0-11382b75ba99",
   "metadata": {},
   "outputs": [
    {
     "data": {
      "text/plain": [
       "[('world', 7), ('thinking', 6), ('.', 173), ('changed', 2), ('changing', 2)]"
      ]
     },
     "execution_count": 63,
     "metadata": {},
     "output_type": "execute_result"
    }
   ],
   "source": [
    "textsRDD12.take(5)"
   ]
  },
  {
   "cell_type": "code",
   "execution_count": 64,
   "id": "91858167-574b-43b7-a904-15e396c17065",
   "metadata": {},
   "outputs": [],
   "source": [
    "textsRDD13 = textsRDD12.filter(lambda x: x[0] not in string.punctuation)"
   ]
  },
  {
   "cell_type": "code",
   "execution_count": 65,
   "id": "dd2f4844-cf40-4be8-aeec-05a111896ae7",
   "metadata": {},
   "outputs": [
    {
     "data": {
      "text/plain": [
       "[('world', 7), ('thinking', 6), ('changed', 2), ('changing', 2), ('harry', 4)]"
      ]
     },
     "execution_count": 65,
     "metadata": {},
     "output_type": "execute_result"
    }
   ],
   "source": [
    "textsRDD13.take(5)"
   ]
  },
  {
   "cell_type": "code",
   "execution_count": 66,
   "id": "33e9a8d1-3bf2-4c40-953f-fa4e13cbdcc4",
   "metadata": {},
   "outputs": [
    {
     "data": {
      "text/plain": [
       "[('love', 23),\n",
       " ('one', 15),\n",
       " ('life', 12),\n",
       " ('never', 12),\n",
       " ('think', 12),\n",
       " ('like', 11),\n",
       " ('make', 10),\n",
       " ('good', 9),\n",
       " ('know', 9),\n",
       " ('without', 8)]"
      ]
     },
     "execution_count": 66,
     "metadata": {},
     "output_type": "execute_result"
    }
   ],
   "source": [
    "textsRDD13.takeOrdered(10,key=lambda x: -x[1])"
   ]
  },
  {
   "cell_type": "code",
   "execution_count": null,
   "id": "1dbe2cc9-d387-4dbe-91c0-561a4d063d2d",
   "metadata": {},
   "outputs": [],
   "source": []
  }
 ],
 "metadata": {
  "kernelspec": {
   "display_name": "Python 3 (ipykernel)",
   "language": "python",
   "name": "python3"
  },
  "language_info": {
   "codemirror_mode": {
    "name": "ipython",
    "version": 3
   },
   "file_extension": ".py",
   "mimetype": "text/x-python",
   "name": "python",
   "nbconvert_exporter": "python",
   "pygments_lexer": "ipython3",
   "version": "3.12.7"
  }
 },
 "nbformat": 4,
 "nbformat_minor": 5
}
