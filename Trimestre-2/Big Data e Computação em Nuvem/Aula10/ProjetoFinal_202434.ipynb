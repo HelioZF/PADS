{
 "cells": [
  {
   "cell_type": "markdown",
   "id": "4fff4f44-23d3-4dda-8732-7d9c5a3652a4",
   "metadata": {},
   "source": [
    "# Base de Dados para o Projeto Final\n",
    "\n",
    "## Detecção de atrasos em vôos\n",
    "\n",
    "- Este dataset contém dados plurianuais de 2009 a 2018.\n",
    "\n",
    "- O conjunto de dados possui quase 7 GB, com quase 68 milhões de linhas.\n",
    "\n",
    "Fonte: https:// www.kaggle.com/yuanyuwendymu/airline-delay-and-cancellation-data-2009-2018"
   ]
  },
  {
   "cell_type": "markdown",
   "id": "93c88c9d-9fc9-46ee-8374-be68baebb112",
   "metadata": {},
   "source": [
    "## Iniciando a sessão do Spark\n",
    " Atenção à versão do Spark utilizada ao consultar documentação"
   ]
  },
  {
   "cell_type": "code",
   "execution_count": 1,
   "id": "685ffac7-543d-4bca-a629-85dc40b1037b",
   "metadata": {},
   "outputs": [],
   "source": [
    "from pyspark.sql import SparkSession\n",
    "from pyspark.sql.types import StructType, StructField, StringType, IntegerType, FloatType, DateType"
   ]
  },
  {
   "cell_type": "code",
   "execution_count": 2,
   "id": "3e8361b0-c23d-4c48-b90d-07bb55090d7a",
   "metadata": {},
   "outputs": [],
   "source": [
    "# Criar a sessão do Spark\n",
    "\n",
    "spark = SparkSession \\\n",
    "            .builder \\\n",
    "            .master('local[4]') \\\n",
    "            .appName('nyc_<ProjetoIntegrador>') \\\n",
    "            .config('spark.jars.packages', 'org.apache.hadoop:hadoop-azure:3.3.4,com.microsoft.azure:azure-storage:8.6.6') \\\n",
    "            .getOrCreate()"
   ]
  },
  {
   "cell_type": "markdown",
   "id": "f18e3088-177d-42ec-be13-d33ae12916ea",
   "metadata": {},
   "source": [
    "## Criando o Schema com os tipos de dados (apenas sugestão)"
   ]
  },
  {
   "cell_type": "code",
   "execution_count": 3,
   "id": "65cf903f-34d5-4f2d-a82f-b2125bf78547",
   "metadata": {},
   "outputs": [],
   "source": [
    "labels = (('FL_DATE', DateType()),\n",
    "    ('OP_CARRIER', StringType()),\n",
    "    ('OP_CARRIER_FL_NUM', IntegerType()),\n",
    "    ('ORIGIN', StringType()),\n",
    "    ('DEST', StringType()),\n",
    "    ('CRS_DEP_TIME', IntegerType()),\n",
    "    ('DEP_TIME', FloatType()),\n",
    "    ('DEP_DELAY', FloatType()),\n",
    "    ('TAXI_OUT', FloatType()),\n",
    "    ('WHEELS_OFF', FloatType()),\n",
    "    ('WHEELS_ON', FloatType()),\n",
    "    ('TAXI_IN', FloatType()),\n",
    "    ('CRS_ARR_TIME', IntegerType()),\n",
    "    ('ARR_TIME', FloatType()),\n",
    "    ('ARR_DELAY', FloatType()),\n",
    "    ('CANCELLED', IntegerType()),\n",
    "    ('CANCELLATION_CODE', StringType()),\n",
    "    ('DIVERTED', IntegerType()),\n",
    "    ('CRS_ELAPSED_TIME', FloatType()),\n",
    "    ('ACTUAL_ELAPSED_TIME', FloatType()),\n",
    "    ('AIR_TIME', FloatType()),\n",
    "    ('DISTANCE', FloatType()),\n",
    "    ('CARRIER_DELAY', FloatType()),\n",
    "    ('WEATHER_DELAY', FloatType()),\n",
    "    ('NAS_DELAY', FloatType()),\n",
    "    ('SECURITY_DELAY', FloatType()),\n",
    "    ('LATE_AIRCRAFT_DELAY', FloatType()),\n",
    "    ('Unnamed: 27', StringType()))\n",
    "\n",
    "schema = StructType([StructField(x[0], x[1], True) for x in labels])"
   ]
  },
  {
   "cell_type": "markdown",
   "id": "e17a9afd-43ef-4f12-956b-c1338e29bfe7",
   "metadata": {},
   "source": [
    "### Como ler TODOS os arquivo? "
   ]
  },
  {
   "cell_type": "code",
   "execution_count": null,
   "id": "d7456241-d49b-439d-bfc4-16e8b8d05a8b",
   "metadata": {},
   "outputs": [],
   "source": []
  },
  {
   "cell_type": "code",
   "execution_count": 5,
   "id": "7a49519c-db97-4b27-8306-91c83416286e",
   "metadata": {},
   "outputs": [
    {
     "data": {
      "text/plain": [
       "61556964"
      ]
     },
     "execution_count": 5,
     "metadata": {},
     "output_type": "execute_result"
    }
   ],
   "source": [
    "df.count()"
   ]
  },
  {
   "cell_type": "markdown",
   "id": "0d01bfef-1ecf-4f78-ab2a-ef2385c41d17",
   "metadata": {},
   "source": [
    "### Como ler somente um arquivo? Por exemplo, o de 2011? "
   ]
  },
  {
   "cell_type": "code",
   "execution_count": null,
   "id": "c354c0bf-978f-4ee5-aa65-4ac14803644c",
   "metadata": {},
   "outputs": [],
   "source": []
  },
  {
   "cell_type": "code",
   "execution_count": 7,
   "id": "5384ca58-580b-4896-9800-6beb488786e2",
   "metadata": {},
   "outputs": [
    {
     "data": {
      "text/plain": [
       "6066650"
      ]
     },
     "execution_count": 7,
     "metadata": {},
     "output_type": "execute_result"
    }
   ],
   "source": [
    "df.count()"
   ]
  },
  {
   "cell_type": "code",
   "execution_count": null,
   "id": "53505678-7a00-4bf9-a08c-a77b30c6c69e",
   "metadata": {},
   "outputs": [],
   "source": []
  }
 ],
 "metadata": {
  "kernelspec": {
   "display_name": "Python 3 (ipykernel)",
   "language": "python",
   "name": "python3"
  },
  "language_info": {
   "codemirror_mode": {
    "name": "ipython",
    "version": 3
   },
   "file_extension": ".py",
   "mimetype": "text/x-python",
   "name": "python",
   "nbconvert_exporter": "python",
   "pygments_lexer": "ipython3",
   "version": "3.12.7"
  }
 },
 "nbformat": 4,
 "nbformat_minor": 5
}
