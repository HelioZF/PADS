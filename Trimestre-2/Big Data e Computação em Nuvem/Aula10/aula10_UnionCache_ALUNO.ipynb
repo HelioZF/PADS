{
 "cells": [
  {
   "cell_type": "markdown",
   "metadata": {
    "id": "arUl83-6-w7A"
   },
   "source": [
    "Insper\n",
    "\n",
    "# Aula 10 - Spark DataFrame - União"
   ]
  },
  {
   "cell_type": "code",
   "execution_count": null,
   "metadata": {
    "ExecuteTime": {
     "end_time": "2021-11-13T11:43:51.990407Z",
     "start_time": "2021-11-13T11:43:47.258667Z"
    },
    "id": "pDjQhiPV-w7B"
   },
   "outputs": [],
   "source": [
    "# Criar a sessao do Spark\n",
    "from pyspark.sql import SparkSession\n",
    "spark = SparkSession \\\n",
    "            .builder \\\n",
    "            .master(\"local[*]\") \\\n",
    "            .appName(\"Michel-3105\") \\\n",
    "            .getOrCreate()"
   ]
  },
  {
   "cell_type": "code",
   "execution_count": null,
   "metadata": {
    "ExecuteTime": {
     "end_time": "2021-11-13T11:43:52.020502Z",
     "start_time": "2021-11-13T11:43:52.000381Z"
    },
    "id": "AeJhIX22-w7C"
   },
   "outputs": [],
   "source": [
    "spark"
   ]
  },
  {
   "cell_type": "markdown",
   "metadata": {
    "id": "5Zoxk_sj-w7C"
   },
   "source": [
    "# Passo 01: Leitura dos arquivos\n",
    "\n",
    "Os arquivos estão no zip. Faça a leitura dos arquivos no spark. Os arquivos possuem cabeçalho, de modo que será preciso fornecer o parâmetro 'header=True'."
   ]
  },
  {
   "cell_type": "code",
   "execution_count": null,
   "metadata": {
    "ExecuteTime": {
     "end_time": "2021-11-13T11:47:31.616015Z",
     "start_time": "2021-11-13T11:47:31.500272Z"
    },
    "id": "lXdOqUJpqeb5"
   },
   "outputs": [],
   "source": []
  },
  {
   "cell_type": "code",
   "execution_count": null,
   "metadata": {
    "ExecuteTime": {
     "end_time": "2021-11-13T11:48:52.698436Z",
     "start_time": "2021-11-13T11:48:49.209148Z"
    },
    "id": "Rd2_kWk4-w7C"
   },
   "outputs": [],
   "source": []
  },
  {
   "cell_type": "code",
   "execution_count": null,
   "metadata": {
    "ExecuteTime": {
     "end_time": "2021-11-13T11:49:02.039769Z",
     "start_time": "2021-11-13T11:49:01.616272Z"
    },
    "id": "Z7AlUmMcqeb6"
   },
   "outputs": [],
   "source": []
  },
  {
   "cell_type": "markdown",
   "metadata": {
    "id": "eRtj3_C4_nCO"
   },
   "source": [
    "Tente visualizar o arquivo no spark. Provavelmente ficará muito difícil a leitura. Faça uso do método `limit()`, seguindo do método `toPandas()` de modo a passar para o pandas apenas 10 linhas."
   ]
  },
  {
   "cell_type": "code",
   "execution_count": null,
   "metadata": {
    "ExecuteTime": {
     "end_time": "2021-11-13T11:51:56.476957Z",
     "start_time": "2021-11-13T11:51:56.293676Z"
    },
    "id": "t9duddSc-w7C"
   },
   "outputs": [],
   "source": []
  },
  {
   "cell_type": "markdown",
   "metadata": {
    "id": "kA7cDZPb-w7D"
   },
   "source": [
    "Exiba o schema do dataframe."
   ]
  },
  {
   "cell_type": "code",
   "execution_count": null,
   "metadata": {
    "ExecuteTime": {
     "end_time": "2021-11-13T11:52:35.135072Z",
     "start_time": "2021-11-13T11:52:35.129673Z"
    },
    "id": "E3FJAsIO-w7D",
    "scrolled": true
   },
   "outputs": [],
   "source": []
  },
  {
   "cell_type": "markdown",
   "metadata": {
    "id": "nLe8NNE1-w7D"
   },
   "source": [
    "Filtre para que apenas as colunas 'user_name', 'DateTime', 'keyboard' e 'mouse' sejam exibidas."
   ]
  },
  {
   "cell_type": "code",
   "execution_count": null,
   "metadata": {
    "ExecuteTime": {
     "end_time": "2021-11-13T11:54:39.735307Z",
     "start_time": "2021-11-13T11:54:39.714096Z"
    },
    "id": "RKeULvs--w7E"
   },
   "outputs": [],
   "source": []
  },
  {
   "cell_type": "code",
   "execution_count": null,
   "metadata": {
    "ExecuteTime": {
     "end_time": "2021-11-13T11:54:45.112650Z",
     "start_time": "2021-11-13T11:54:44.981439Z"
    },
    "id": "J86HGIbEAhIK"
   },
   "outputs": [],
   "source": []
  },
  {
   "cell_type": "markdown",
   "metadata": {
    "id": "N9PKRn7CAhbb"
   },
   "source": [
    "Importe as funções spark"
   ]
  },
  {
   "cell_type": "code",
   "execution_count": null,
   "metadata": {
    "ExecuteTime": {
     "end_time": "2021-11-13T11:55:01.029646Z",
     "start_time": "2021-11-13T11:55:01.021124Z"
    },
    "id": "pLb_V9WY-w7E"
   },
   "outputs": [],
   "source": [
    "import pyspark.sql.functions as sf"
   ]
  },
  {
   "cell_type": "markdown",
   "metadata": {
    "id": "G2jwurdv-w7E"
   },
   "source": [
    "Crie uma nova coluna chamada 'Date'  que ira converter DateTime para o formato datetime. Use a funcao `to_timestamp` do spark. Lembre que para criar uma nova coluna você deve usar a função `withColumn`."
   ]
  },
  {
   "cell_type": "code",
   "execution_count": null,
   "metadata": {
    "ExecuteTime": {
     "end_time": "2021-11-13T12:01:06.942367Z",
     "start_time": "2021-11-13T12:01:06.924172Z"
    },
    "id": "2WyPMMlu-w7E"
   },
   "outputs": [],
   "source": []
  },
  {
   "cell_type": "code",
   "execution_count": null,
   "metadata": {
    "ExecuteTime": {
     "end_time": "2021-11-13T12:01:16.903161Z",
     "start_time": "2021-11-13T12:01:16.899429Z"
    },
    "id": "U047Xoh7qeb_"
   },
   "outputs": [],
   "source": []
  },
  {
   "cell_type": "markdown",
   "metadata": {
    "id": "Ydmq9r7I-w7E"
   },
   "source": [
    "Remova (`drop`) a coluna DateTime"
   ]
  },
  {
   "cell_type": "code",
   "execution_count": null,
   "metadata": {
    "ExecuteTime": {
     "end_time": "2021-11-13T12:03:44.478828Z",
     "start_time": "2021-11-13T12:03:44.466637Z"
    },
    "id": "ZT1a6SYK-w7F"
   },
   "outputs": [],
   "source": []
  },
  {
   "cell_type": "markdown",
   "metadata": {
    "id": "9v7ULrl7BCzN"
   },
   "source": [
    "Exiba o schema novamente."
   ]
  },
  {
   "cell_type": "code",
   "execution_count": null,
   "metadata": {
    "ExecuteTime": {
     "end_time": "2021-11-13T12:03:46.360334Z",
     "start_time": "2021-11-13T12:03:46.356543Z"
    },
    "id": "r50hOJIg-w7F"
   },
   "outputs": [],
   "source": []
  },
  {
   "cell_type": "markdown",
   "metadata": {
    "id": "meVWG93mBE4V"
   },
   "source": [
    "# Exercício em sala"
   ]
  },
  {
   "cell_type": "markdown",
   "metadata": {
    "id": "Z4QdoJMf-w7G"
   },
   "source": [
    "Sua tarefa:\n",
    "\n",
    "1. Cada arquivo representa logins de pessoas em 9 dias diferentes;\n",
    "2. É possível que em um único dia haja mais de um login de uma pessoa;\n",
    "3. Basta a pessoa ter aparecido ao menos uma vez em um dia, que ela já é considera presente;\n",
    "4. E você deve calcular o número de dias de ausência (*leaves*) de cada pessoa;\n",
    "5. Faca uso de dataframes apartados, e use a transformacao `union`;\n",
    "6. O seu resultado deve ser um único dataframe contendo duas colunas: `user_name` e `leaves`.\n",
    "\n"
   ]
  },
  {
   "cell_type": "code",
   "execution_count": null,
   "metadata": {
    "ExecuteTime": {
     "end_time": "2021-11-13T12:42:48.328608Z",
     "start_time": "2021-11-13T12:42:48.325055Z"
    },
    "id": "aRn3pt1SBfxn"
   },
   "outputs": [],
   "source": []
  },
  {
   "cell_type": "code",
   "execution_count": null,
   "metadata": {
    "ExecuteTime": {
     "end_time": "2021-11-13T12:44:45.052770Z",
     "start_time": "2021-11-13T12:44:45.049128Z"
    },
    "id": "9VxWNoSyqecC"
   },
   "outputs": [],
   "source": []
  },
  {
   "cell_type": "code",
   "execution_count": null,
   "metadata": {
    "ExecuteTime": {
     "end_time": "2021-11-13T12:44:59.000849Z",
     "start_time": "2021-11-13T12:44:57.432008Z"
    },
    "id": "SforZKt2qecD"
   },
   "outputs": [],
   "source": []
  },
  {
   "cell_type": "code",
   "execution_count": null,
   "metadata": {
    "ExecuteTime": {
     "end_time": "2021-11-13T12:46:15.257492Z",
     "start_time": "2021-11-13T12:46:15.229760Z"
    },
    "id": "iL9cJ37-qecD"
   },
   "outputs": [],
   "source": []
  },
  {
   "cell_type": "code",
   "execution_count": null,
   "metadata": {
    "ExecuteTime": {
     "end_time": "2021-11-13T12:47:32.652357Z",
     "start_time": "2021-11-13T12:47:32.649681Z"
    },
    "id": "NSoR1qdPqecD"
   },
   "outputs": [],
   "source": []
  },
  {
   "cell_type": "code",
   "execution_count": null,
   "metadata": {
    "ExecuteTime": {
     "end_time": "2021-11-13T12:47:40.739024Z",
     "start_time": "2021-11-13T12:47:39.717445Z"
    },
    "id": "JocFnJy5qecE"
   },
   "outputs": [],
   "source": []
  },
  {
   "cell_type": "code",
   "execution_count": null,
   "metadata": {
    "ExecuteTime": {
     "end_time": "2021-11-13T12:48:40.084808Z",
     "start_time": "2021-11-13T12:48:40.050543Z"
    },
    "id": "E04UjB6AqecE"
   },
   "outputs": [],
   "source": []
  },
  {
   "cell_type": "code",
   "execution_count": null,
   "metadata": {
    "ExecuteTime": {
     "end_time": "2021-11-13T12:51:14.717961Z",
     "start_time": "2021-11-13T12:51:14.677408Z"
    },
    "id": "o4oTk3QPqecF"
   },
   "outputs": [],
   "source": []
  },
  {
   "cell_type": "code",
   "execution_count": null,
   "metadata": {
    "ExecuteTime": {
     "end_time": "2021-11-13T12:51:41.155128Z",
     "start_time": "2021-11-13T12:51:26.556157Z"
    },
    "id": "BNThVfa9qecF"
   },
   "outputs": [],
   "source": []
  },
  {
   "cell_type": "markdown",
   "metadata": {
    "id": "vSkNes9hBu8C"
   },
   "source": [
    "# Cache\n",
    "\n",
    "Quanto tempo demorou o comando anterior? Faça uso da estrutura de cache do Spark e veja se é possível otimizar esse tempo. Após isso remova o cache (com o método `unpersist` e faça o seguinte processamento:\n",
    "\n",
    "- Agrupe os usuários por número de *leaves*, obtendo a contagem de cada usuário por leave.\n",
    "\n",
    "- Calcule o tempo sem cache e o tempo com cache do dataframe resultante do exercício anterior."
   ]
  },
  {
   "cell_type": "code",
   "execution_count": null,
   "metadata": {
    "ExecuteTime": {
     "end_time": "2021-11-13T12:57:09.505184Z",
     "start_time": "2021-11-13T12:57:09.338798Z"
    },
    "id": "YA8krJ-bqecG"
   },
   "outputs": [],
   "source": []
  },
  {
   "cell_type": "code",
   "execution_count": null,
   "metadata": {
    "ExecuteTime": {
     "end_time": "2021-11-13T12:57:36.529033Z",
     "start_time": "2021-11-13T12:57:28.180702Z"
    },
    "id": "3m_n1LTaqecG"
   },
   "outputs": [],
   "source": []
  },
  {
   "cell_type": "code",
   "execution_count": null,
   "metadata": {
    "ExecuteTime": {
     "end_time": "2021-11-13T12:58:05.166080Z",
     "start_time": "2021-11-13T12:58:04.936133Z"
    },
    "id": "VZhcGjA5qecH"
   },
   "outputs": [],
   "source": []
  },
  {
   "cell_type": "code",
   "execution_count": null,
   "metadata": {
    "ExecuteTime": {
     "end_time": "2021-11-13T12:58:31.623111Z",
     "start_time": "2021-11-13T12:58:31.602640Z"
    },
    "id": "biJRq4JoqecR"
   },
   "outputs": [],
   "source": []
  },
  {
   "cell_type": "code",
   "execution_count": null,
   "metadata": {
    "ExecuteTime": {
     "end_time": "2021-11-13T12:58:49.534849Z",
     "start_time": "2021-11-13T12:58:41.908810Z"
    },
    "id": "RimKzXd_qecS"
   },
   "outputs": [],
   "source": []
  },
  {
   "cell_type": "code",
   "execution_count": null,
   "metadata": {
    "id": "VM5MScOZqecS"
   },
   "outputs": [],
   "source": []
  }
 ],
 "metadata": {
  "colab": {
   "provenance": []
  },
  "hide_input": false,
  "kernelspec": {
   "display_name": "Python 3 (ipykernel)",
   "language": "python",
   "name": "python3"
  },
  "language_info": {
   "codemirror_mode": {
    "name": "ipython",
    "version": 3
   },
   "file_extension": ".py",
   "mimetype": "text/x-python",
   "name": "python",
   "nbconvert_exporter": "python",
   "pygments_lexer": "ipython3",
   "version": "3.12.7"
  },
  "toc": {
   "base_numbering": 1,
   "nav_menu": {},
   "number_sections": true,
   "sideBar": true,
   "skip_h1_title": false,
   "title_cell": "Table of Contents",
   "title_sidebar": "Contents",
   "toc_cell": false,
   "toc_position": {},
   "toc_section_display": true,
   "toc_window_display": false
  },
  "varInspector": {
   "cols": {
    "lenName": 16,
    "lenType": 16,
    "lenVar": 40
   },
   "kernels_config": {
    "python": {
     "delete_cmd_postfix": "",
     "delete_cmd_prefix": "del ",
     "library": "var_list.py",
     "varRefreshCmd": "print(var_dic_list())"
    },
    "r": {
     "delete_cmd_postfix": ") ",
     "delete_cmd_prefix": "rm(",
     "library": "var_list.r",
     "varRefreshCmd": "cat(var_dic_list()) "
    }
   },
   "types_to_exclude": [
    "module",
    "function",
    "builtin_function_or_method",
    "instance",
    "_Feature"
   ],
   "window_display": false
  }
 },
 "nbformat": 4,
 "nbformat_minor": 4
}
