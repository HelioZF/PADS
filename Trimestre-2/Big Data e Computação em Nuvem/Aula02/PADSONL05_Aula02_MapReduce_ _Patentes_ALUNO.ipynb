{
  "cells": [
    {
      "cell_type": "markdown",
      "metadata": {
        "id": "vIofgC6EYLjt"
      },
      "source": [
        "# Aplicações de Map e Reduce"
      ]
    },
    {
      "cell_type": "code",
      "execution_count": null,
      "metadata": {
        "id": "dEwELbfAYLju"
      },
      "outputs": [],
      "source": []
    },
    {
      "cell_type": "code",
      "execution_count": null,
      "metadata": {
        "id": "wvcd_CC1YLjv"
      },
      "outputs": [],
      "source": []
    },
    {
      "cell_type": "code",
      "execution_count": null,
      "metadata": {
        "id": "kM6PKUVVYLjv"
      },
      "outputs": [],
      "source": []
    },
    {
      "cell_type": "code",
      "execution_count": null,
      "metadata": {
        "id": "nb0m4HWdYLjw"
      },
      "outputs": [],
      "source": []
    },
    {
      "cell_type": "code",
      "execution_count": null,
      "metadata": {
        "id": "O7wUw-jJYLjw"
      },
      "outputs": [],
      "source": []
    },
    {
      "cell_type": "code",
      "execution_count": null,
      "metadata": {
        "id": "fMGMyBKXYLjw"
      },
      "outputs": [],
      "source": []
    },
    {
      "cell_type": "markdown",
      "metadata": {
        "id": "k6LuA-ZYUOHo"
      },
      "source": [
        "# Contagem de Patentes citadas (Map / Reduce Clássico)"
      ]
    },
    {
      "cell_type": "code",
      "execution_count": null,
      "metadata": {
        "id": "Ty19twIkYs45"
      },
      "outputs": [],
      "source": [
        "!wget https://raw.githubusercontent.com/daoleen/HadoopLearning/master/cite75_99.txt"
      ]
    },
    {
      "cell_type": "markdown",
      "metadata": {
        "id": "pz0T8PEtUOHs"
      },
      "source": [
        "Ler o arquivo"
      ]
    },
    {
      "cell_type": "code",
      "execution_count": null,
      "metadata": {
        "ExecuteTime": {
          "end_time": "2021-07-30T22:25:35.133503Z",
          "start_time": "2021-07-30T22:25:25.502331Z"
        },
        "id": "Ihz7jBgmUOHs"
      },
      "outputs": [],
      "source": []
    },
    {
      "cell_type": "code",
      "execution_count": null,
      "metadata": {
        "ExecuteTime": {
          "end_time": "2021-07-30T22:25:49.336155Z",
          "start_time": "2021-07-30T22:25:49.317840Z"
        },
        "id": "seHHasKGUOHt"
      },
      "outputs": [],
      "source": []
    },
    {
      "cell_type": "markdown",
      "metadata": {
        "id": "84nOgAqhUOHt"
      },
      "source": [
        "## MAP\n",
        "\n",
        "'3858241,956203' --> (956203, 1)"
      ]
    },
    {
      "cell_type": "code",
      "execution_count": null,
      "metadata": {
        "ExecuteTime": {
          "end_time": "2021-07-30T22:30:46.792131Z",
          "start_time": "2021-07-30T22:30:46.787123Z"
        },
        "id": "UXdd_Q6nUOHt"
      },
      "outputs": [],
      "source": []
    },
    {
      "cell_type": "code",
      "execution_count": null,
      "metadata": {
        "id": "p_iHWBmrYLjy"
      },
      "outputs": [],
      "source": []
    },
    {
      "cell_type": "code",
      "execution_count": null,
      "metadata": {
        "ExecuteTime": {
          "end_time": "2021-07-30T22:35:19.023589Z",
          "start_time": "2021-07-30T22:35:19.009436Z"
        },
        "id": "A_DoX8s6UOHu"
      },
      "outputs": [],
      "source": []
    },
    {
      "cell_type": "markdown",
      "metadata": {
        "id": "OFOekblBYLjy"
      },
      "source": [
        "## SHUFFLE"
      ]
    },
    {
      "cell_type": "code",
      "execution_count": null,
      "metadata": {
        "id": "pCGVHhnoYLjy"
      },
      "outputs": [],
      "source": []
    },
    {
      "cell_type": "code",
      "execution_count": null,
      "metadata": {
        "ExecuteTime": {
          "end_time": "2021-07-30T22:36:40.802762Z",
          "start_time": "2021-07-30T22:36:00.506768Z"
        },
        "id": "zadaweTlUOHu"
      },
      "outputs": [],
      "source": []
    },
    {
      "cell_type": "code",
      "execution_count": null,
      "metadata": {
        "id": "rvCMGsInYLjy"
      },
      "outputs": [],
      "source": []
    },
    {
      "cell_type": "markdown",
      "metadata": {
        "id": "7D91flJjUOHv"
      },
      "source": [
        "## REDUCE"
      ]
    },
    {
      "cell_type": "code",
      "execution_count": null,
      "metadata": {
        "ExecuteTime": {
          "end_time": "2021-07-30T22:39:29.476840Z",
          "start_time": "2021-07-30T22:39:29.472397Z"
        },
        "id": "NAyrw-z2UOHv"
      },
      "outputs": [],
      "source": []
    },
    {
      "cell_type": "code",
      "execution_count": null,
      "metadata": {
        "ExecuteTime": {
          "end_time": "2021-07-30T22:39:50.667060Z",
          "start_time": "2021-07-30T22:39:50.662276Z"
        },
        "id": "0f5tLugsUOHv"
      },
      "outputs": [],
      "source": []
    },
    {
      "cell_type": "code",
      "execution_count": null,
      "metadata": {
        "ExecuteTime": {
          "end_time": "2021-07-30T22:40:55.267246Z",
          "start_time": "2021-07-30T22:40:50.103503Z"
        },
        "id": "9rCDQI2nUOHv"
      },
      "outputs": [],
      "source": []
    },
    {
      "cell_type": "markdown",
      "metadata": {
        "ExecuteTime": {
          "end_time": "2021-07-30T22:43:25.935919Z",
          "start_time": "2021-07-30T22:43:25.542362Z"
        },
        "id": "CSSCPiONUOHw",
        "outputId": "fe0df24e-f7fb-4ed4-bf5e-4b36e5fd95c7"
      },
      "source": [
        "## NO DASK"
      ]
    },
    {
      "cell_type": "code",
      "execution_count": null,
      "metadata": {
        "id": "0l9Ddd3tYLjz"
      },
      "outputs": [],
      "source": []
    },
    {
      "cell_type": "code",
      "execution_count": null,
      "metadata": {
        "id": "h9Tfal30YLjz"
      },
      "outputs": [],
      "source": []
    },
    {
      "cell_type": "code",
      "execution_count": null,
      "metadata": {
        "ExecuteTime": {
          "end_time": "2021-07-30T22:41:18.604320Z",
          "start_time": "2021-07-30T22:41:18.551011Z"
        },
        "id": "aRIc0NedUOHw"
      },
      "outputs": [],
      "source": []
    },
    {
      "cell_type": "markdown",
      "metadata": {
        "id": "kW7mTd9u2x77"
      },
      "source": [
        "# Configurando Spark localmente\n",
        "\n",
        "Instalando o Spark na versão 3.1.3 no Colab. Eventualmente você precisará reiniciar seu ambiente."
      ]
    },
    {
      "cell_type": "code",
      "execution_count": null,
      "metadata": {
        "id": "8zlJuslZS1FO"
      },
      "outputs": [],
      "source": [
        "!pip install pyspark==3.1.3"
      ]
    },
    {
      "cell_type": "markdown",
      "metadata": {
        "id": "Or_nIAKmUDZ8"
      },
      "source": [
        "# SETUP"
      ]
    },
    {
      "cell_type": "markdown",
      "metadata": {
        "id": "9OCfLuAKUDaN"
      },
      "source": [
        "Criar uma sessão do Spark"
      ]
    },
    {
      "cell_type": "code",
      "execution_count": null,
      "metadata": {
        "ExecuteTime": {
          "end_time": "2021-07-30T23:44:02.679117Z",
          "start_time": "2021-07-30T23:44:02.610235Z"
        },
        "id": "MlonhnpgUDaZ"
      },
      "outputs": [],
      "source": [
        "from pyspark.sql import SparkSession"
      ]
    },
    {
      "cell_type": "code",
      "execution_count": null,
      "metadata": {
        "ExecuteTime": {
          "end_time": "2021-07-30T23:45:22.630355Z",
          "start_time": "2021-07-30T23:45:15.448640Z"
        },
        "id": "t-RJ1qsuUDad"
      },
      "outputs": [],
      "source": []
    },
    {
      "cell_type": "code",
      "execution_count": null,
      "metadata": {
        "ExecuteTime": {
          "end_time": "2021-07-31T00:10:58.748888Z",
          "start_time": "2021-07-31T00:10:58.735143Z"
        },
        "id": "t9s5U-ASUDaj"
      },
      "outputs": [],
      "source": [
        "spark"
      ]
    },
    {
      "cell_type": "markdown",
      "metadata": {
        "id": "BK5BUmzFUDao"
      },
      "source": [
        "Crie um contexto (onde executamos comandos para os RDDs)\n",
        "\n",
        "* [SparkContext](https://spark.apache.org/docs/3.1.1/api/python/reference/api/pyspark.SparkContext.html)"
      ]
    },
    {
      "cell_type": "code",
      "execution_count": null,
      "metadata": {
        "ExecuteTime": {
          "end_time": "2021-07-30T23:50:21.148119Z",
          "start_time": "2021-07-30T23:50:21.143554Z"
        },
        "id": "UvYxVwg3UDap"
      },
      "outputs": [],
      "source": [
        "sc = spark.sparkContext"
      ]
    },
    {
      "cell_type": "markdown",
      "metadata": {
        "id": "tiQs9M6UUDat"
      },
      "source": [
        "# Passo 1: Ler o arquivo em um RDD"
      ]
    },
    {
      "cell_type": "markdown",
      "metadata": {
        "id": "wT7sSU8HdmPF"
      },
      "source": [
        "* [textFile](https://spark.apache.org/docs/3.1.1/api/python/reference/api/pyspark.SparkContext.textFile.html)"
      ]
    },
    {
      "cell_type": "code",
      "execution_count": null,
      "metadata": {
        "ExecuteTime": {
          "end_time": "2021-07-30T23:51:42.290134Z",
          "start_time": "2021-07-30T23:51:41.412668Z"
        },
        "id": "EPitAOnhUDav"
      },
      "outputs": [],
      "source": []
    },
    {
      "cell_type": "markdown",
      "metadata": {
        "id": "v2c2sKYuUDax"
      },
      "source": [
        "## Uma primeira ação (take) ...."
      ]
    },
    {
      "cell_type": "code",
      "execution_count": null,
      "metadata": {
        "ExecuteTime": {
          "end_time": "2021-07-30T23:52:40.117990Z",
          "start_time": "2021-07-30T23:52:40.000760Z"
        },
        "id": "MVN0cU87UDax"
      },
      "outputs": [],
      "source": [
        "rdd1.take(10)"
      ]
    },
    {
      "cell_type": "markdown",
      "metadata": {
        "id": "nuv1onBFUDaz"
      },
      "source": [
        "## Precisamos remover o cabeçalho"
      ]
    },
    {
      "cell_type": "code",
      "execution_count": null,
      "metadata": {
        "ExecuteTime": {
          "end_time": "2021-07-30T23:53:53.137700Z",
          "start_time": "2021-07-30T23:53:53.038226Z"
        },
        "id": "Ta9T3iLsUDaz"
      },
      "outputs": [],
      "source": []
    },
    {
      "cell_type": "code",
      "execution_count": null,
      "metadata": {
        "ExecuteTime": {
          "end_time": "2021-07-30T23:53:55.439189Z",
          "start_time": "2021-07-30T23:53:55.432635Z"
        },
        "id": "HdjTcpVWUDa0"
      },
      "outputs": [],
      "source": [
        "header"
      ]
    },
    {
      "cell_type": "markdown",
      "metadata": {
        "id": "VCZuBZkIUDa2"
      },
      "source": [
        "## Uma transformação: filter "
      ]
    },
    {
      "cell_type": "code",
      "execution_count": null,
      "metadata": {
        "ExecuteTime": {
          "end_time": "2021-07-30T23:54:49.805316Z",
          "start_time": "2021-07-30T23:54:49.799828Z"
        },
        "id": "8lxOIS0vUDa5"
      },
      "outputs": [],
      "source": []
    },
    {
      "cell_type": "code",
      "execution_count": null,
      "metadata": {
        "ExecuteTime": {
          "end_time": "2021-07-30T23:54:56.889880Z",
          "start_time": "2021-07-30T23:54:56.771618Z"
        },
        "id": "x82A1ujvUDa6"
      },
      "outputs": [],
      "source": [
        "rdd2.take(5)"
      ]
    },
    {
      "cell_type": "markdown",
      "metadata": {
        "id": "teC0Rl_SUDa6"
      },
      "source": [
        "## Agora é o MAP --> '3858241, 956203' => (956203, 1)"
      ]
    },
    {
      "cell_type": "code",
      "execution_count": null,
      "metadata": {
        "ExecuteTime": {
          "end_time": "2021-07-30T23:56:37.025767Z",
          "start_time": "2021-07-30T23:56:37.020476Z"
        },
        "id": "_D4mcUI0UDa-"
      },
      "outputs": [],
      "source": []
    },
    {
      "cell_type": "code",
      "execution_count": null,
      "metadata": {
        "ExecuteTime": {
          "end_time": "2021-07-30T23:56:43.190240Z",
          "start_time": "2021-07-30T23:56:43.079616Z"
        },
        "id": "0qdWDl_jUDa-"
      },
      "outputs": [],
      "source": [
        "rdd3.take(5)"
      ]
    },
    {
      "cell_type": "markdown",
      "metadata": {
        "id": "2B_vRLZnUDa_"
      },
      "source": [
        "## Agora é o Reduce, obtendo então a quantidade de citações de cada patente\n",
        "\n",
        "* [reduceByKey](https://spark.apache.org/docs/latest/api/python/reference/api/pyspark.RDD.reduceByKey.html)"
      ]
    },
    {
      "cell_type": "code",
      "execution_count": null,
      "metadata": {
        "ExecuteTime": {
          "end_time": "2021-07-31T00:04:13.077271Z",
          "start_time": "2021-07-31T00:04:13.006869Z"
        },
        "id": "3PZaiyRtUDa_"
      },
      "outputs": [],
      "source": []
    },
    {
      "cell_type": "markdown",
      "metadata": {
        "id": "ACsh44DLUDa_"
      },
      "source": [
        "## Agora é executar e obter o resultado"
      ]
    },
    {
      "cell_type": "code",
      "execution_count": null,
      "metadata": {
        "ExecuteTime": {
          "end_time": "2021-07-31T00:05:35.363059Z",
          "start_time": "2021-07-31T00:04:35.410858Z"
        },
        "id": "P64Qmei1UDbB"
      },
      "outputs": [],
      "source": [
        "rdd4.take(20)"
      ]
    },
    {
      "cell_type": "markdown",
      "metadata": {
        "id": "LfWJjdDXUDbB"
      },
      "source": [
        "## Obtendo as top-10 mais citadas ...uma nova ação: takeOrdered\n",
        "\n",
        "* [takeOrdered](https://spark.apache.org/docs/3.1.1/api/python/reference/api/pyspark.RDD.takeOrdered.html)"
      ]
    },
    {
      "cell_type": "code",
      "execution_count": null,
      "metadata": {
        "ExecuteTime": {
          "end_time": "2021-07-31T00:06:56.949503Z",
          "start_time": "2021-07-31T00:06:49.408324Z"
        },
        "id": "izCEQXAJUDbB"
      },
      "outputs": [],
      "source": []
    }
  ],
  "metadata": {
    "colab": {
      "provenance": []
    },
    "hide_input": false,
    "kernelspec": {
      "display_name": "Python 3",
      "language": "python",
      "name": "python3"
    },
    "language_info": {
      "codemirror_mode": {
        "name": "ipython",
        "version": 3
      },
      "file_extension": ".py",
      "mimetype": "text/x-python",
      "name": "python",
      "nbconvert_exporter": "python",
      "pygments_lexer": "ipython3",
      "version": "3.7.3"
    },
    "toc": {
      "base_numbering": 1,
      "nav_menu": {},
      "number_sections": true,
      "sideBar": true,
      "skip_h1_title": false,
      "title_cell": "Table of Contents",
      "title_sidebar": "Contents",
      "toc_cell": false,
      "toc_position": {},
      "toc_section_display": true,
      "toc_window_display": false
    },
    "varInspector": {
      "cols": {
        "lenName": 16,
        "lenType": 16,
        "lenVar": 40
      },
      "kernels_config": {
        "python": {
          "delete_cmd_postfix": "",
          "delete_cmd_prefix": "del ",
          "library": "var_list.py",
          "varRefreshCmd": "print(var_dic_list())"
        },
        "r": {
          "delete_cmd_postfix": ") ",
          "delete_cmd_prefix": "rm(",
          "library": "var_list.r",
          "varRefreshCmd": "cat(var_dic_list()) "
        }
      },
      "types_to_exclude": [
        "module",
        "function",
        "builtin_function_or_method",
        "instance",
        "_Feature"
      ],
      "window_display": false
    }
  },
  "nbformat": 4,
  "nbformat_minor": 0
}