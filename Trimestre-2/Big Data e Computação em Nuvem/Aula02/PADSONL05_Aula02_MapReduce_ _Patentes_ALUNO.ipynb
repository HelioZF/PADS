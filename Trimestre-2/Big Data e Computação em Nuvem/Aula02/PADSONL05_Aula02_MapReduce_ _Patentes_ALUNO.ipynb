{
 "cells": [
  {
   "cell_type": "markdown",
   "metadata": {
    "id": "vIofgC6EYLjt"
   },
   "source": [
    "# Aplicações de Map e Reduce"
   ]
  },
  {
   "cell_type": "code",
   "execution_count": null,
   "metadata": {
    "id": "dEwELbfAYLju"
   },
   "outputs": [],
   "source": []
  },
  {
   "cell_type": "code",
   "execution_count": null,
   "metadata": {
    "id": "wvcd_CC1YLjv"
   },
   "outputs": [],
   "source": []
  },
  {
   "cell_type": "code",
   "execution_count": null,
   "metadata": {
    "id": "kM6PKUVVYLjv"
   },
   "outputs": [],
   "source": []
  },
  {
   "cell_type": "code",
   "execution_count": null,
   "metadata": {
    "id": "nb0m4HWdYLjw"
   },
   "outputs": [],
   "source": []
  },
  {
   "cell_type": "code",
   "execution_count": null,
   "metadata": {
    "id": "O7wUw-jJYLjw"
   },
   "outputs": [],
   "source": []
  },
  {
   "cell_type": "code",
   "execution_count": null,
   "metadata": {
    "id": "fMGMyBKXYLjw"
   },
   "outputs": [],
   "source": []
  },
  {
   "cell_type": "markdown",
   "metadata": {
    "id": "k6LuA-ZYUOHo"
   },
   "source": [
    "# Contagem de Patentes citadas (Map / Reduce Clássico)"
   ]
  },
  {
   "cell_type": "code",
   "execution_count": 1,
   "metadata": {
    "id": "Ty19twIkYs45"
   },
   "outputs": [
    {
     "name": "stdout",
     "output_type": "stream",
     "text": [
      "--2024-10-22 00:15:34--  https://raw.githubusercontent.com/daoleen/HadoopLearning/master/cite75_99.txt\n",
      "Resolving raw.githubusercontent.com (raw.githubusercontent.com)... 185.199.110.133, 185.199.111.133, 185.199.109.133, ...\n",
      "Connecting to raw.githubusercontent.com (raw.githubusercontent.com)|185.199.110.133|:443... connected.\n",
      "HTTP request sent, awaiting response... 200 OK\n",
      "Length: 15956 (16K) [text/plain]\n",
      "Saving to: ‘cite75_99.txt’\n",
      "\n",
      "cite75_99.txt       100%[===================>]  15.58K  --.-KB/s    in 0s      \n",
      "\n",
      "2024-10-22 00:15:35 (152 MB/s) - ‘cite75_99.txt’ saved [15956/15956]\n",
      "\n"
     ]
    }
   ],
   "source": [
    "!wget https://raw.githubusercontent.com/daoleen/HadoopLearning/master/cite75_99.txt"
   ]
  },
  {
   "cell_type": "markdown",
   "metadata": {
    "id": "pz0T8PEtUOHs"
   },
   "source": [
    "Ler o arquivo"
   ]
  },
  {
   "cell_type": "code",
   "execution_count": 2,
   "metadata": {
    "ExecuteTime": {
     "end_time": "2021-07-30T22:25:35.133503Z",
     "start_time": "2021-07-30T22:25:25.502331Z"
    },
    "id": "Ihz7jBgmUOHs"
   },
   "outputs": [],
   "source": [
    "citacoes = []\n",
    "with open(\"cite75_99.txt\") as f:\n",
    "    lines = f.readlines()\n",
    "    lines.pop(0) # remove a linha do cabeçalho\n",
    "    for line in lines:\n",
    "        citacoes.append( line.strip() )"
   ]
  },
  {
   "cell_type": "code",
   "execution_count": 7,
   "metadata": {
    "ExecuteTime": {
     "end_time": "2021-07-30T22:25:49.336155Z",
     "start_time": "2021-07-30T22:25:49.317840Z"
    },
    "id": "seHHasKGUOHt"
   },
   "outputs": [
    {
     "data": {
      "text/plain": [
       "'3858241,956203'"
      ]
     },
     "execution_count": 7,
     "metadata": {},
     "output_type": "execute_result"
    }
   ],
   "source": [
    "citacoes[0]"
   ]
  },
  {
   "cell_type": "code",
   "execution_count": 8,
   "metadata": {},
   "outputs": [
    {
     "data": {
      "text/plain": [
       "['3858241', '956203']"
      ]
     },
     "execution_count": 8,
     "metadata": {},
     "output_type": "execute_result"
    }
   ],
   "source": [
    "citacoes[0].split(\",\")"
   ]
  },
  {
   "cell_type": "markdown",
   "metadata": {
    "id": "84nOgAqhUOHt"
   },
   "source": [
    "## MAP\n",
    "\n",
    "'3858241,956203' --> (956203, 1)"
   ]
  },
  {
   "cell_type": "code",
   "execution_count": 14,
   "metadata": {},
   "outputs": [],
   "source": [
    "citacoes_map = map(lambda x: (int(x.split(\",\")[1]), 1), citacoes)"
   ]
  },
  {
   "cell_type": "code",
   "execution_count": 15,
   "metadata": {
    "ExecuteTime": {
     "end_time": "2021-07-30T22:30:46.792131Z",
     "start_time": "2021-07-30T22:30:46.787123Z"
    },
    "id": "UXdd_Q6nUOHt"
   },
   "outputs": [],
   "source": [
    "citacoes_map = map(lambda c: ((c.split(\",\")[1],1)), citacoes)"
   ]
  },
  {
   "cell_type": "code",
   "execution_count": 16,
   "metadata": {
    "id": "p_iHWBmrYLjy"
   },
   "outputs": [
    {
     "data": {
      "text/plain": [
       "<map at 0x7f8934389ab0>"
      ]
     },
     "execution_count": 16,
     "metadata": {},
     "output_type": "execute_result"
    }
   ],
   "source": [
    "citacoes_map"
   ]
  },
  {
   "cell_type": "code",
   "execution_count": null,
   "metadata": {
    "ExecuteTime": {
     "end_time": "2021-07-30T22:35:19.023589Z",
     "start_time": "2021-07-30T22:35:19.009436Z"
    },
    "id": "A_DoX8s6UOHu"
   },
   "outputs": [],
   "source": []
  },
  {
   "cell_type": "markdown",
   "metadata": {
    "id": "OFOekblBYLjy"
   },
   "source": [
    "## SHUFFLE"
   ]
  },
  {
   "cell_type": "code",
   "execution_count": 17,
   "metadata": {
    "id": "pCGVHhnoYLjy"
   },
   "outputs": [],
   "source": [
    "group_by_patente = {}"
   ]
  },
  {
   "cell_type": "code",
   "execution_count": 18,
   "metadata": {
    "ExecuteTime": {
     "end_time": "2021-07-30T22:36:40.802762Z",
     "start_time": "2021-07-30T22:36:00.506768Z"
    },
    "id": "zadaweTlUOHu"
   },
   "outputs": [],
   "source": [
    "for patente, valor in citacoes_map:\n",
    "    try:      \n",
    "        group_by_patente[patente].append(valor)\n",
    "    except:\n",
    "        group_by_patente[patente] = [valor]"
   ]
  },
  {
   "cell_type": "code",
   "execution_count": null,
   "metadata": {
    "id": "rvCMGsInYLjy"
   },
   "outputs": [],
   "source": []
  },
  {
   "cell_type": "markdown",
   "metadata": {
    "id": "7D91flJjUOHv"
   },
   "source": [
    "## REDUCE"
   ]
  },
  {
   "cell_type": "code",
   "execution_count": 26,
   "metadata": {
    "ExecuteTime": {
     "end_time": "2021-07-30T22:39:29.476840Z",
     "start_time": "2021-07-30T22:39:29.472397Z"
    },
    "id": "NAyrw-z2UOHv"
   },
   "outputs": [],
   "source": [
    "from functools import reduce"
   ]
  },
  {
   "cell_type": "code",
   "execution_count": 30,
   "metadata": {},
   "outputs": [],
   "source": [
    "patente_count = {}\n",
    "for k, v in group_by_patente.items():\n",
    "    patente_count[k] = reduce (lambda x,y: x+y, v) "
   ]
  },
  {
   "cell_type": "code",
   "execution_count": 31,
   "metadata": {
    "ExecuteTime": {
     "end_time": "2021-07-30T22:39:50.667060Z",
     "start_time": "2021-07-30T22:39:50.662276Z"
    },
    "id": "0f5tLugsUOHv"
   },
   "outputs": [],
   "source": [
    "import pandas as pd"
   ]
  },
  {
   "cell_type": "code",
   "execution_count": 32,
   "metadata": {
    "ExecuteTime": {
     "end_time": "2021-07-30T22:40:55.267246Z",
     "start_time": "2021-07-30T22:40:50.103503Z"
    },
    "id": "9rCDQI2nUOHv"
   },
   "outputs": [
    {
     "data": {
      "text/html": [
       "<div>\n",
       "<style scoped>\n",
       "    .dataframe tbody tr th:only-of-type {\n",
       "        vertical-align: middle;\n",
       "    }\n",
       "\n",
       "    .dataframe tbody tr th {\n",
       "        vertical-align: top;\n",
       "    }\n",
       "\n",
       "    .dataframe thead th {\n",
       "        text-align: right;\n",
       "    }\n",
       "</style>\n",
       "<table border=\"1\" class=\"dataframe\">\n",
       "  <thead>\n",
       "    <tr style=\"text-align: right;\">\n",
       "      <th></th>\n",
       "      <th>Patente</th>\n",
       "      <th>Contagem</th>\n",
       "    </tr>\n",
       "  </thead>\n",
       "  <tbody>\n",
       "    <tr>\n",
       "      <th>26</th>\n",
       "      <td>3621837</td>\n",
       "      <td>2</td>\n",
       "    </tr>\n",
       "    <tr>\n",
       "      <th>28</th>\n",
       "      <td>3755824</td>\n",
       "      <td>2</td>\n",
       "    </tr>\n",
       "    <tr>\n",
       "      <th>260</th>\n",
       "      <td>3310865</td>\n",
       "      <td>2</td>\n",
       "    </tr>\n",
       "    <tr>\n",
       "      <th>0</th>\n",
       "      <td>956203</td>\n",
       "      <td>1</td>\n",
       "    </tr>\n",
       "    <tr>\n",
       "      <th>1</th>\n",
       "      <td>1324234</td>\n",
       "      <td>1</td>\n",
       "    </tr>\n",
       "  </tbody>\n",
       "</table>\n",
       "</div>"
      ],
      "text/plain": [
       "     Patente  Contagem\n",
       "26   3621837         2\n",
       "28   3755824         2\n",
       "260  3310865         2\n",
       "0     956203         1\n",
       "1    1324234         1"
      ]
     },
     "execution_count": 32,
     "metadata": {},
     "output_type": "execute_result"
    }
   ],
   "source": [
    "df = pd.DataFrame(list(patente_count.items()),columns = [\"Patente\",\"Contagem\"])\n",
    "df.nlargest(5,\"Contagem\")"
   ]
  },
  {
   "cell_type": "code",
   "execution_count": null,
   "metadata": {},
   "outputs": [],
   "source": []
  },
  {
   "cell_type": "markdown",
   "metadata": {
    "ExecuteTime": {
     "end_time": "2021-07-30T22:43:25.935919Z",
     "start_time": "2021-07-30T22:43:25.542362Z"
    },
    "id": "CSSCPiONUOHw",
    "outputId": "fe0df24e-f7fb-4ed4-bf5e-4b36e5fd95c7"
   },
   "source": [
    "## NO DASK"
   ]
  },
  {
   "cell_type": "code",
   "execution_count": 33,
   "metadata": {
    "id": "0l9Ddd3tYLjz"
   },
   "outputs": [],
   "source": [
    "import dask.dataframe as dd"
   ]
  },
  {
   "cell_type": "code",
   "execution_count": 37,
   "metadata": {
    "ExecuteTime": {
     "end_time": "2021-07-30T22:41:18.604320Z",
     "start_time": "2021-07-30T22:41:18.551011Z"
    },
    "id": "aRIc0NedUOHw"
   },
   "outputs": [
    {
     "ename": "ValueError",
     "evalue": "DataFrame constructor not properly called!",
     "output_type": "error",
     "traceback": [
      "\u001b[0;31m---------------------------------------------------------------------------\u001b[0m",
      "\u001b[0;31mValueError\u001b[0m                                Traceback (most recent call last)",
      "\u001b[0;32m/tmp/ipykernel_99/2745587964.py\u001b[0m in \u001b[0;36m?\u001b[0;34m()\u001b[0m\n\u001b[0;32m----> 1\u001b[0;31m \u001b[0mddf\u001b[0m \u001b[0;34m=\u001b[0m \u001b[0mpd\u001b[0m\u001b[0;34m.\u001b[0m\u001b[0mDataFrame\u001b[0m\u001b[0;34m(\u001b[0m\u001b[0mdd\u001b[0m\u001b[0;34m,\u001b[0m\u001b[0mcolumns\u001b[0m\u001b[0;34m=\u001b[0m\u001b[0;34m[\u001b[0m\u001b[0;34m\"PATENTE\"\u001b[0m\u001b[0;34m,\u001b[0m\u001b[0;34m\"CITED\"\u001b[0m\u001b[0;34m]\u001b[0m\u001b[0;34m)\u001b[0m\u001b[0;34m\u001b[0m\u001b[0;34m\u001b[0m\u001b[0m\n\u001b[0m",
      "\u001b[0;32m/opt/conda/lib/python3.11/site-packages/pandas/core/frame.py\u001b[0m in \u001b[0;36m?\u001b[0;34m(self, data, index, columns, dtype, copy)\u001b[0m\n\u001b[1;32m    813\u001b[0m                 )\n\u001b[1;32m    814\u001b[0m         \u001b[0;31m# For data is scalar\u001b[0m\u001b[0;34m\u001b[0m\u001b[0;34m\u001b[0m\u001b[0m\n\u001b[1;32m    815\u001b[0m         \u001b[0;32melse\u001b[0m\u001b[0;34m:\u001b[0m\u001b[0;34m\u001b[0m\u001b[0;34m\u001b[0m\u001b[0m\n\u001b[1;32m    816\u001b[0m             \u001b[0;32mif\u001b[0m \u001b[0mindex\u001b[0m \u001b[0;32mis\u001b[0m \u001b[0;32mNone\u001b[0m \u001b[0;32mor\u001b[0m \u001b[0mcolumns\u001b[0m \u001b[0;32mis\u001b[0m \u001b[0;32mNone\u001b[0m\u001b[0;34m:\u001b[0m\u001b[0;34m\u001b[0m\u001b[0;34m\u001b[0m\u001b[0m\n\u001b[0;32m--> 817\u001b[0;31m                 \u001b[0;32mraise\u001b[0m \u001b[0mValueError\u001b[0m\u001b[0;34m(\u001b[0m\u001b[0;34m\"DataFrame constructor not properly called!\"\u001b[0m\u001b[0;34m)\u001b[0m\u001b[0;34m\u001b[0m\u001b[0;34m\u001b[0m\u001b[0m\n\u001b[0m\u001b[1;32m    818\u001b[0m \u001b[0;34m\u001b[0m\u001b[0m\n\u001b[1;32m    819\u001b[0m             \u001b[0mindex\u001b[0m \u001b[0;34m=\u001b[0m \u001b[0mensure_index\u001b[0m\u001b[0;34m(\u001b[0m\u001b[0mindex\u001b[0m\u001b[0;34m)\u001b[0m\u001b[0;34m\u001b[0m\u001b[0;34m\u001b[0m\u001b[0m\n\u001b[1;32m    820\u001b[0m             \u001b[0mcolumns\u001b[0m \u001b[0;34m=\u001b[0m \u001b[0mensure_index\u001b[0m\u001b[0;34m(\u001b[0m\u001b[0mcolumns\u001b[0m\u001b[0;34m)\u001b[0m\u001b[0;34m\u001b[0m\u001b[0;34m\u001b[0m\u001b[0m\n",
      "\u001b[0;31mValueError\u001b[0m: DataFrame constructor not properly called!"
     ]
    }
   ],
   "source": [
    "ddf = pd.DataFrame(dd,columns=[\"PATENTE\",\"CITED\"])"
   ]
  },
  {
   "cell_type": "code",
   "execution_count": null,
   "metadata": {},
   "outputs": [],
   "source": [
    "resultado = ddf.groupby(\"CITED\").size().compute()"
   ]
  },
  {
   "cell_type": "code",
   "execution_count": null,
   "metadata": {},
   "outputs": [],
   "source": [
    "resultado.sort_values(ascending=False)"
   ]
  },
  {
   "cell_type": "code",
   "execution_count": null,
   "metadata": {},
   "outputs": [],
   "source": []
  },
  {
   "cell_type": "markdown",
   "metadata": {
    "id": "kW7mTd9u2x77"
   },
   "source": [
    "# Configurando Spark localmente\n",
    "\n",
    "Instalando o Spark na versão 3.1.3 no Colab. Eventualmente você precisará reiniciar seu ambiente."
   ]
  },
  {
   "cell_type": "code",
   "execution_count": 38,
   "metadata": {
    "id": "8zlJuslZS1FO"
   },
   "outputs": [
    {
     "name": "stdout",
     "output_type": "stream",
     "text": [
      "Collecting pyspark==3.1.3\n",
      "  Downloading pyspark-3.1.3.tar.gz (214.0 MB)\n",
      "\u001b[2K     \u001b[90m━━━━━━━━━━━━━━━━━━━━━━━━━━━━━━━━━━━━━━\u001b[0m \u001b[32m214.0/214.0 MB\u001b[0m \u001b[31m44.6 MB/s\u001b[0m eta \u001b[36m0:00:00\u001b[0m00:01\u001b[0m00:01\u001b[0m\n",
      "\u001b[?25h  Preparing metadata (setup.py) ... \u001b[?25ldone\n",
      "\u001b[?25hCollecting py4j==0.10.9 (from pyspark==3.1.3)\n",
      "  Downloading py4j-0.10.9-py2.py3-none-any.whl.metadata (1.3 kB)\n",
      "Downloading py4j-0.10.9-py2.py3-none-any.whl (198 kB)\n",
      "Building wheels for collected packages: pyspark\n",
      "  Building wheel for pyspark (setup.py) ... \u001b[?25ldone\n",
      "\u001b[?25h  Created wheel for pyspark: filename=pyspark-3.1.3-py2.py3-none-any.whl size=214463458 sha256=48f098ccd97088b7e5e033b6247121ba3c2200a82bdb06e27cd6c88a2b995b10\n",
      "  Stored in directory: /home/jovyan/.cache/pip/wheels/25/da/89/3c1760252397d50554c2b3a66ab0ea57e1460fdab21d0aa968\n",
      "Successfully built pyspark\n",
      "Installing collected packages: py4j, pyspark\n",
      "  Attempting uninstall: py4j\n",
      "    Found existing installation: py4j 0.10.9.7\n",
      "    Uninstalling py4j-0.10.9.7:\n",
      "      Successfully uninstalled py4j-0.10.9.7\n",
      "  Attempting uninstall: pyspark\n",
      "    Found existing installation: pyspark 3.5.3\n",
      "    Can't uninstall 'pyspark'. No files were found to uninstall.\n",
      "Successfully installed py4j-0.10.9 pyspark-3.5.3\n"
     ]
    }
   ],
   "source": [
    "!pip install pyspark==3.1.3"
   ]
  },
  {
   "cell_type": "markdown",
   "metadata": {
    "id": "Or_nIAKmUDZ8"
   },
   "source": [
    "# SETUP"
   ]
  },
  {
   "cell_type": "markdown",
   "metadata": {
    "id": "9OCfLuAKUDaN"
   },
   "source": [
    "Criar uma sessão do Spark"
   ]
  },
  {
   "cell_type": "code",
   "execution_count": 43,
   "metadata": {
    "ExecuteTime": {
     "end_time": "2021-07-30T23:44:02.679117Z",
     "start_time": "2021-07-30T23:44:02.610235Z"
    },
    "id": "MlonhnpgUDaZ"
   },
   "outputs": [],
   "source": [
    "from pyspark.sql import SparkSession"
   ]
  },
  {
   "cell_type": "raw",
   "metadata": {},
   "source": []
  },
  {
   "cell_type": "code",
   "execution_count": 46,
   "metadata": {
    "ExecuteTime": {
     "end_time": "2021-07-30T23:45:22.630355Z",
     "start_time": "2021-07-30T23:45:15.448640Z"
    },
    "id": "t-RJ1qsuUDad"
   },
   "outputs": [],
   "source": [
    "spark = SparkSession \\\n",
    "        .builder \\\n",
    "        .master(\"local[*]\")\\\n",
    "        .appName(\"Patente_RDD\")\\\n",
    "        .getOrCreate()"
   ]
  },
  {
   "cell_type": "code",
   "execution_count": 47,
   "metadata": {
    "ExecuteTime": {
     "end_time": "2021-07-31T00:10:58.748888Z",
     "start_time": "2021-07-31T00:10:58.735143Z"
    },
    "id": "t9s5U-ASUDaj"
   },
   "outputs": [
    {
     "data": {
      "text/html": [
       "\n",
       "            <div>\n",
       "                <p><b>SparkSession - in-memory</b></p>\n",
       "                \n",
       "        <div>\n",
       "            <p><b>SparkContext</b></p>\n",
       "\n",
       "            <p><a href=\"http://jupyter-helio-20zaia-20franciscon:4040\">Spark UI</a></p>\n",
       "\n",
       "            <dl>\n",
       "              <dt>Version</dt>\n",
       "                <dd><code>v3.5.3</code></dd>\n",
       "              <dt>Master</dt>\n",
       "                <dd><code>local[*]</code></dd>\n",
       "              <dt>AppName</dt>\n",
       "                <dd><code>Patente_RDD</code></dd>\n",
       "            </dl>\n",
       "        </div>\n",
       "        \n",
       "            </div>\n",
       "        "
      ],
      "text/plain": [
       "<pyspark.sql.session.SparkSession at 0x7f891c54eb90>"
      ]
     },
     "execution_count": 47,
     "metadata": {},
     "output_type": "execute_result"
    }
   ],
   "source": [
    "spark"
   ]
  },
  {
   "cell_type": "markdown",
   "metadata": {
    "id": "BK5BUmzFUDao"
   },
   "source": [
    "Crie um contexto (onde executamos comandos para os RDDs)\n",
    "\n",
    "* [SparkContext](https://spark.apache.org/docs/3.1.1/api/python/reference/api/pyspark.SparkContext.html)"
   ]
  },
  {
   "cell_type": "code",
   "execution_count": 48,
   "metadata": {
    "ExecuteTime": {
     "end_time": "2021-07-30T23:50:21.148119Z",
     "start_time": "2021-07-30T23:50:21.143554Z"
    },
    "id": "UvYxVwg3UDap"
   },
   "outputs": [],
   "source": [
    "sc = spark.sparkContext"
   ]
  },
  {
   "cell_type": "markdown",
   "metadata": {
    "id": "tiQs9M6UUDat"
   },
   "source": [
    "# Passo 1: Ler o arquivo em um RDD"
   ]
  },
  {
   "cell_type": "markdown",
   "metadata": {
    "id": "wT7sSU8HdmPF"
   },
   "source": [
    "* [textFile](https://spark.apache.org/docs/3.1.1/api/python/reference/api/pyspark.SparkContext.textFile.html)"
   ]
  },
  {
   "cell_type": "code",
   "execution_count": 49,
   "metadata": {
    "ExecuteTime": {
     "end_time": "2021-07-30T23:51:42.290134Z",
     "start_time": "2021-07-30T23:51:41.412668Z"
    },
    "id": "EPitAOnhUDav"
   },
   "outputs": [],
   "source": [
    "rdd1 = sc.textFile(\"cite75_99.txt\")"
   ]
  },
  {
   "cell_type": "markdown",
   "metadata": {
    "id": "v2c2sKYuUDax"
   },
   "source": [
    "## Uma primeira ação (take) ...."
   ]
  },
  {
   "cell_type": "code",
   "execution_count": 50,
   "metadata": {
    "ExecuteTime": {
     "end_time": "2021-07-30T23:52:40.117990Z",
     "start_time": "2021-07-30T23:52:40.000760Z"
    },
    "id": "MVN0cU87UDax"
   },
   "outputs": [
    {
     "data": {
      "text/plain": [
       "['\"CITING\",\"CITED\"',\n",
       " '3858241,956203',\n",
       " '3858241,1324234',\n",
       " '3858241,3398406',\n",
       " '3858241,3557384',\n",
       " '3858241,3634889',\n",
       " '3858242,1515701',\n",
       " '3858242,3319261',\n",
       " '3858242,3668705',\n",
       " '3858242,3707004']"
      ]
     },
     "execution_count": 50,
     "metadata": {},
     "output_type": "execute_result"
    }
   ],
   "source": [
    "rdd1.take(10)"
   ]
  },
  {
   "cell_type": "markdown",
   "metadata": {
    "id": "nuv1onBFUDaz"
   },
   "source": [
    "## Precisamos remover o cabeçalho"
   ]
  },
  {
   "cell_type": "code",
   "execution_count": 51,
   "metadata": {
    "ExecuteTime": {
     "end_time": "2021-07-30T23:53:53.137700Z",
     "start_time": "2021-07-30T23:53:53.038226Z"
    },
    "id": "Ta9T3iLsUDaz"
   },
   "outputs": [],
   "source": [
    "header = rdd1.take(1)"
   ]
  },
  {
   "cell_type": "code",
   "execution_count": 52,
   "metadata": {
    "ExecuteTime": {
     "end_time": "2021-07-30T23:53:55.439189Z",
     "start_time": "2021-07-30T23:53:55.432635Z"
    },
    "id": "HdjTcpVWUDa0"
   },
   "outputs": [
    {
     "data": {
      "text/plain": [
       "['\"CITING\",\"CITED\"']"
      ]
     },
     "execution_count": 52,
     "metadata": {},
     "output_type": "execute_result"
    }
   ],
   "source": [
    "header"
   ]
  },
  {
   "cell_type": "markdown",
   "metadata": {
    "id": "VCZuBZkIUDa2"
   },
   "source": [
    "## Uma transformação: filter "
   ]
  },
  {
   "cell_type": "code",
   "execution_count": 53,
   "metadata": {
    "ExecuteTime": {
     "end_time": "2021-07-30T23:54:49.805316Z",
     "start_time": "2021-07-30T23:54:49.799828Z"
    },
    "id": "8lxOIS0vUDa5"
   },
   "outputs": [],
   "source": [
    "rdd2 = rdd1.filter(lambda row: row!=header[0])"
   ]
  },
  {
   "cell_type": "code",
   "execution_count": 54,
   "metadata": {
    "ExecuteTime": {
     "end_time": "2021-07-30T23:54:56.889880Z",
     "start_time": "2021-07-30T23:54:56.771618Z"
    },
    "id": "x82A1ujvUDa6"
   },
   "outputs": [
    {
     "data": {
      "text/plain": [
       "['3858241,956203',\n",
       " '3858241,1324234',\n",
       " '3858241,3398406',\n",
       " '3858241,3557384',\n",
       " '3858241,3634889']"
      ]
     },
     "execution_count": 54,
     "metadata": {},
     "output_type": "execute_result"
    }
   ],
   "source": [
    "rdd2.take(5)"
   ]
  },
  {
   "cell_type": "markdown",
   "metadata": {
    "id": "teC0Rl_SUDa6"
   },
   "source": [
    "## Agora é o MAP --> '3858241, 956203' => (956203, 1)"
   ]
  },
  {
   "cell_type": "code",
   "execution_count": 55,
   "metadata": {
    "ExecuteTime": {
     "end_time": "2021-07-30T23:56:37.025767Z",
     "start_time": "2021-07-30T23:56:37.020476Z"
    },
    "id": "_D4mcUI0UDa-"
   },
   "outputs": [],
   "source": [
    "rdd3 = rdd2.map(lambda r: (r.split(\",\")[1],1))"
   ]
  },
  {
   "cell_type": "code",
   "execution_count": 56,
   "metadata": {
    "ExecuteTime": {
     "end_time": "2021-07-30T23:56:43.190240Z",
     "start_time": "2021-07-30T23:56:43.079616Z"
    },
    "id": "0qdWDl_jUDa-"
   },
   "outputs": [
    {
     "data": {
      "text/plain": [
       "[('956203', 1), ('1324234', 1), ('3398406', 1), ('3557384', 1), ('3634889', 1)]"
      ]
     },
     "execution_count": 56,
     "metadata": {},
     "output_type": "execute_result"
    }
   ],
   "source": [
    "rdd3.take(5)"
   ]
  },
  {
   "cell_type": "markdown",
   "metadata": {
    "id": "2B_vRLZnUDa_"
   },
   "source": [
    "## Agora é o Reduce, obtendo então a quantidade de citações de cada patente\n",
    "\n",
    "* [reduceByKey](https://spark.apache.org/docs/latest/api/python/reference/api/pyspark.RDD.reduceByKey.html)"
   ]
  },
  {
   "cell_type": "code",
   "execution_count": 57,
   "metadata": {
    "ExecuteTime": {
     "end_time": "2021-07-31T00:04:13.077271Z",
     "start_time": "2021-07-31T00:04:13.006869Z"
    },
    "id": "3PZaiyRtUDa_"
   },
   "outputs": [
    {
     "name": "stdout",
     "output_type": "stream",
     "text": [
      "CPU times: user 6.09 ms, sys: 0 ns, total: 6.09 ms\n",
      "Wall time: 17.8 ms\n"
     ]
    }
   ],
   "source": [
    "%%time\n",
    "rdd4 = rdd3.reduceByKey(lambda x, y: x+y)"
   ]
  },
  {
   "cell_type": "markdown",
   "metadata": {
    "id": "ACsh44DLUDa_"
   },
   "source": [
    "## Agora é executar e obter o resultado"
   ]
  },
  {
   "cell_type": "code",
   "execution_count": 58,
   "metadata": {
    "ExecuteTime": {
     "end_time": "2021-07-31T00:05:35.363059Z",
     "start_time": "2021-07-31T00:04:35.410858Z"
    },
    "id": "P64Qmei1UDbB"
   },
   "outputs": [
    {
     "data": {
      "text/plain": [
       "[('956203', 1),\n",
       " ('3634889', 1),\n",
       " ('3319261', 1),\n",
       " ('2949611', 1),\n",
       " ('3156927', 1),\n",
       " ('3221341', 1),\n",
       " ('3574238', 1),\n",
       " ('3684611', 1),\n",
       " ('14040', 1),\n",
       " ('17445', 1),\n",
       " ('2635670', 1),\n",
       " ('2912700', 1),\n",
       " ('3608095', 1),\n",
       " ('3621837', 2),\n",
       " ('3755824', 2),\n",
       " ('3451067', 1),\n",
       " ('3503079', 1),\n",
       " ('1600859', 1),\n",
       " ('3694819', 1),\n",
       " ('3706104', 1)]"
      ]
     },
     "execution_count": 58,
     "metadata": {},
     "output_type": "execute_result"
    }
   ],
   "source": [
    "rdd4.take(20)"
   ]
  },
  {
   "cell_type": "markdown",
   "metadata": {
    "id": "LfWJjdDXUDbB"
   },
   "source": [
    "## Obtendo as top-10 mais citadas ...uma nova ação: takeOrdered\n",
    "\n",
    "* [takeOrdered](https://spark.apache.org/docs/3.1.1/api/python/reference/api/pyspark.RDD.takeOrdered.html)"
   ]
  },
  {
   "cell_type": "code",
   "execution_count": 65,
   "metadata": {
    "ExecuteTime": {
     "end_time": "2021-07-31T00:06:56.949503Z",
     "start_time": "2021-07-31T00:06:49.408324Z"
    },
    "id": "izCEQXAJUDbB"
   },
   "outputs": [
    {
     "name": "stdout",
     "output_type": "stream",
     "text": [
      "CPU times: user 4.3 ms, sys: 19 μs, total: 4.32 ms\n",
      "Wall time: 93.6 ms\n"
     ]
    },
    {
     "data": {
      "text/plain": [
       "[('3621837', 2),\n",
       " ('3755824', 2),\n",
       " ('3310865', 2),\n",
       " ('956203', 1),\n",
       " ('3634889', 1),\n",
       " ('3319261', 1),\n",
       " ('2949611', 1),\n",
       " ('3156927', 1),\n",
       " ('3221341', 1),\n",
       " ('3574238', 1)]"
      ]
     },
     "execution_count": 65,
     "metadata": {},
     "output_type": "execute_result"
    }
   ],
   "source": [
    "%%time\n",
    "rdd4.takeOrdered(10,key=lambda r: -r[1])"
   ]
  },
  {
   "cell_type": "code",
   "execution_count": null,
   "metadata": {},
   "outputs": [],
   "source": []
  }
 ],
 "metadata": {
  "colab": {
   "provenance": []
  },
  "hide_input": false,
  "kernelspec": {
   "display_name": "Python 3 (ipykernel)",
   "language": "python",
   "name": "python3"
  },
  "language_info": {
   "codemirror_mode": {
    "name": "ipython",
    "version": 3
   },
   "file_extension": ".py",
   "mimetype": "text/x-python",
   "name": "python",
   "nbconvert_exporter": "python",
   "pygments_lexer": "ipython3",
   "version": "3.11.10"
  },
  "toc": {
   "base_numbering": 1,
   "nav_menu": {},
   "number_sections": true,
   "sideBar": true,
   "skip_h1_title": false,
   "title_cell": "Table of Contents",
   "title_sidebar": "Contents",
   "toc_cell": false,
   "toc_position": {},
   "toc_section_display": true,
   "toc_window_display": false
  },
  "varInspector": {
   "cols": {
    "lenName": 16,
    "lenType": 16,
    "lenVar": 40
   },
   "kernels_config": {
    "python": {
     "delete_cmd_postfix": "",
     "delete_cmd_prefix": "del ",
     "library": "var_list.py",
     "varRefreshCmd": "print(var_dic_list())"
    },
    "r": {
     "delete_cmd_postfix": ") ",
     "delete_cmd_prefix": "rm(",
     "library": "var_list.r",
     "varRefreshCmd": "cat(var_dic_list()) "
    }
   },
   "types_to_exclude": [
    "module",
    "function",
    "builtin_function_or_method",
    "instance",
    "_Feature"
   ],
   "window_display": false
  }
 },
 "nbformat": 4,
 "nbformat_minor": 4
}
