{
  "cells": [
    {
      "cell_type": "markdown",
      "metadata": {
        "id": "4QefwopRJq0y"
      },
      "source": [
        "# INSPER - Big Data e Computação em Nuvem\n",
        "# Aula 1 - Introdução à Computação em Larga Escala, Dask\n",
        "\n",
        "#### *Prof. Michel Fornaciali*\n",
        "#### *Profa. Thanuci Silva*\n",
        "\n",
        "Vantagens de se usar Dask:\n",
        "\n",
        "1. **Fácil de usar**: É projetado para usar interfaces familiares como Numpy, Pandas e Scikit-Learn, permitindo que os usuários escalem suas operações sem a necessidade de aprender um novo framework completamente.\n",
        "\n",
        "2. **Proporciona escalabilidade**: Permite a execução tarefas em grande escala, dividindo-os em tarefas menores e gerenciáveis, que são então executadas em paralelo em vários núcleos ou distribuídas entre várias máquinas.\n",
        "\n",
        "[Link para a documentação](https://docs.dask.org/en/latest/)"
      ]
    },
    {
      "cell_type": "markdown",
      "source": [
        "### Instalação da biblioteca Dask\n",
        "\n",
        "`!pip install dask[complete]`"
      ],
      "metadata": {
        "id": "vtA7MhfQ7ZI9"
      }
    },
    {
      "cell_type": "code",
      "source": [
        "!pip install dask[complete]"
      ],
      "metadata": {
        "id": "05ZVSenipcun"
      },
      "execution_count": null,
      "outputs": []
    },
    {
      "cell_type": "markdown",
      "metadata": {
        "id": "JXw2vcAUJq0z"
      },
      "source": [
        "### Instalação da biblioteca Graphviz\n",
        "\n",
        "Para visualizar o grafos de execução do Dask, é necessário a biblioteca Graphivz.\n",
        "\n",
        "No Google Colab, Graphviz já vem instalado por padrão. Caso contrário, utilize: `!pip install graphviz`"
      ]
    },
    {
      "cell_type": "markdown",
      "metadata": {
        "id": "9_Tb4NSKJq00"
      },
      "source": [
        "### Importando bibliotecas"
      ]
    },
    {
      "cell_type": "code",
      "execution_count": null,
      "metadata": {
        "ExecuteTime": {
          "end_time": "2021-04-03T15:48:34.192012Z",
          "start_time": "2021-04-03T15:48:33.780657Z"
        },
        "id": "Ob_qT_A0Jq01"
      },
      "outputs": [],
      "source": [
        "import pandas as pd\n",
        "import numpy as np\n",
        "from dask import delayed\n",
        "from time import sleep"
      ]
    },
    {
      "cell_type": "markdown",
      "metadata": {
        "id": "-JRwB1NcJq01"
      },
      "source": [
        "Vamos iniciar fazendo duas funcões: inc e add, que irão levar pelo menos 1 segundo em sua execução, com uso da função sleep"
      ]
    },
    {
      "cell_type": "code",
      "execution_count": null,
      "metadata": {
        "ExecuteTime": {
          "end_time": "2021-04-03T15:51:40.283332Z",
          "start_time": "2021-04-03T15:51:40.280229Z"
        },
        "id": "gBAHop1gJq01"
      },
      "outputs": [],
      "source": [
        "def inc(x):\n",
        "  sleep(1)\n",
        "  return x+1\n",
        "\n",
        "def add(x, y):\n",
        "  sleep(1)\n",
        "  return x+y"
      ]
    },
    {
      "cell_type": "markdown",
      "metadata": {
        "id": "AXyEfTN7Jq02"
      },
      "source": [
        "Agora vamos ver o tempo de execução. Para isso use o magic command %%time"
      ]
    },
    {
      "cell_type": "code",
      "execution_count": null,
      "metadata": {
        "ExecuteTime": {
          "end_time": "2021-04-03T15:52:24.719820Z",
          "start_time": "2021-04-03T15:52:21.707169Z"
        },
        "id": "v6iiZdJ5Jq02"
      },
      "outputs": [],
      "source": []
    },
    {
      "cell_type": "code",
      "source": [],
      "metadata": {
        "id": "9o_W1tQHsb5O"
      },
      "execution_count": null,
      "outputs": []
    },
    {
      "cell_type": "markdown",
      "metadata": {
        "id": "ZWlkeDfXJq03"
      },
      "source": [
        "# Usando o Dask\n",
        "\n",
        "Como esperado, os códigos demoraram três segundos, pois cada linha de execução levou em torno de 1 segundo para concluir, uma vez que fizemos uso da função sleep em suas definições.\n",
        "\n",
        "De todo modo, é possível pensar em paralelizar?\n",
        "\n",
        "Consegue pensar nas partes que podem ser paralizadas e na parte sequêncial?\n",
        "\n",
        "De fato, poderíamos fazer em paralelo a atribuição de `x` e a atribuição de `y` e, na sequencia, somar `x` e `y`, armazenando em `z`. `z` é a parte sequencial e ela limita a nossa execução em paralelo.\n",
        "\n",
        "A biblioteca **dask** possui mecanismos interessantes de paralelizar a execução de código, otimizando sempre que possível. Neste caso, vamos usar a função *delayed* da biblioteca para informar que queremos aplicar *lazy evaluation*"
      ]
    },
    {
      "cell_type": "code",
      "execution_count": null,
      "metadata": {
        "ExecuteTime": {
          "end_time": "2021-04-03T15:56:22.010327Z",
          "start_time": "2021-04-03T15:56:22.006728Z"
        },
        "id": "KjHbLQWvJq03"
      },
      "outputs": [],
      "source": []
    },
    {
      "cell_type": "code",
      "execution_count": null,
      "metadata": {
        "ExecuteTime": {
          "end_time": "2021-04-03T15:56:27.557241Z",
          "start_time": "2021-04-03T15:56:27.547670Z"
        },
        "id": "v5QbRoiZJq03"
      },
      "outputs": [],
      "source": []
    },
    {
      "cell_type": "code",
      "execution_count": null,
      "metadata": {
        "ExecuteTime": {
          "end_time": "2021-04-03T15:56:28.609497Z",
          "start_time": "2021-04-03T15:56:28.605978Z"
        },
        "id": "iTPF_QobJq03"
      },
      "outputs": [],
      "source": []
    },
    {
      "cell_type": "code",
      "execution_count": null,
      "metadata": {
        "ExecuteTime": {
          "end_time": "2021-04-03T15:56:29.289665Z",
          "start_time": "2021-04-03T15:56:29.286708Z"
        },
        "id": "sWp1kTo1Jq04"
      },
      "outputs": [],
      "source": []
    },
    {
      "cell_type": "markdown",
      "metadata": {
        "id": "6BIWmTqIJq04"
      },
      "source": [
        "A bilioteca nos permite visualizar um grafo da execução para este cenário."
      ]
    },
    {
      "cell_type": "code",
      "execution_count": null,
      "metadata": {
        "ExecuteTime": {
          "end_time": "2021-04-03T15:56:50.324282Z",
          "start_time": "2021-04-03T15:56:49.329121Z"
        },
        "id": "g58qmUq9Jq04"
      },
      "outputs": [],
      "source": []
    },
    {
      "cell_type": "markdown",
      "metadata": {
        "id": "B3iDS5XnJq05"
      },
      "source": [
        "Observe que há o paralelismo ao invocar a função *inc* simultaneamente e, posteriormente, há a invocação da função *add*.\n",
        "\n",
        "Para executar esse grafo, faça uso da função *compute*"
      ]
    },
    {
      "cell_type": "code",
      "execution_count": null,
      "metadata": {
        "ExecuteTime": {
          "end_time": "2021-04-03T15:57:52.318539Z",
          "start_time": "2021-04-03T15:57:50.302211Z"
        },
        "id": "7ETIRXcDJq05"
      },
      "outputs": [],
      "source": []
    },
    {
      "cell_type": "markdown",
      "metadata": {
        "id": "rLr1kQUpJq05"
      },
      "source": [
        "Excelente! Agora conseguimos executar em 2 segundos!"
      ]
    },
    {
      "cell_type": "markdown",
      "metadata": {
        "id": "q9gsxa_3Jq05"
      },
      "source": [
        "## E se fosse um laço?\n",
        "\n",
        "Será que agora conseguimos fazer isso para um laço? Veja o código abaixo:"
      ]
    },
    {
      "cell_type": "code",
      "execution_count": null,
      "metadata": {
        "ExecuteTime": {
          "end_time": "2021-04-03T15:59:49.165131Z",
          "start_time": "2021-04-03T15:59:41.139348Z"
        },
        "id": "ubl5Kz19Jq05"
      },
      "outputs": [],
      "source": []
    },
    {
      "cell_type": "markdown",
      "metadata": {
        "id": "Z0Gxi1BHJq06"
      },
      "source": [
        "## E com o dask?\n",
        "\n",
        "Levamos quase 8 segundos para incrementar cada elemento da lista e somá-los. Mas isso poderia ser paralelizado, concorda? Vamos modificar o código e aplicar a função *delayed*:"
      ]
    },
    {
      "cell_type": "code",
      "execution_count": null,
      "metadata": {
        "ExecuteTime": {
          "end_time": "2021-04-03T16:01:01.240364Z",
          "start_time": "2021-04-03T16:01:01.235960Z"
        },
        "id": "HeMlyccAJq06"
      },
      "outputs": [],
      "source": []
    },
    {
      "cell_type": "code",
      "execution_count": null,
      "metadata": {
        "ExecuteTime": {
          "end_time": "2021-04-03T16:01:04.764643Z",
          "start_time": "2021-04-03T16:01:04.318643Z"
        },
        "id": "kiq7DkHxJq06"
      },
      "outputs": [],
      "source": []
    },
    {
      "cell_type": "code",
      "execution_count": null,
      "metadata": {
        "ExecuteTime": {
          "end_time": "2021-04-03T16:01:12.379357Z",
          "start_time": "2021-04-03T16:01:11.366640Z"
        },
        "id": "6mtKlb6kJq06"
      },
      "outputs": [],
      "source": []
    },
    {
      "cell_type": "code",
      "source": [],
      "metadata": {
        "id": "5mm-YZsky7Er"
      },
      "execution_count": null,
      "outputs": []
    },
    {
      "cell_type": "code",
      "source": [],
      "metadata": {
        "id": "ZRSrU8fAzoQk"
      },
      "execution_count": null,
      "outputs": []
    },
    {
      "cell_type": "markdown",
      "source": [
        "# Comparando com o Pandas - Voos NYC"
      ],
      "metadata": {
        "id": "hZEYGbEm2E27"
      }
    },
    {
      "cell_type": "code",
      "source": [
        "!wget https://storage.googleapis.com/dask-tutorial-data/nycflights.tar.gz\n",
        "!mkdir data\n",
        "!tar -xvzf nycflights.tar.gz -C data"
      ],
      "metadata": {
        "id": "r8NtoEvA2H2p"
      },
      "execution_count": null,
      "outputs": []
    },
    {
      "cell_type": "code",
      "source": [
        "import glob\n",
        "\n",
        "filenames = glob.glob(\"data/nycflights/*.csv\")\n",
        "\n",
        "for f in filenames:\n",
        "  print(f)"
      ],
      "metadata": {
        "id": "1t3lUlOo2Zx5"
      },
      "execution_count": null,
      "outputs": []
    },
    {
      "cell_type": "code",
      "source": [],
      "metadata": {
        "id": "Kj1gEwB9KRpu"
      },
      "execution_count": null,
      "outputs": []
    },
    {
      "cell_type": "markdown",
      "source": [
        "Vamos descobrir o maior atraso de todos os voos listados (DepDelay)."
      ],
      "metadata": {
        "id": "GKVEVmsqK3Qo"
      }
    },
    {
      "cell_type": "code",
      "source": [],
      "metadata": {
        "id": "ht67xftzKg_m"
      },
      "execution_count": null,
      "outputs": []
    },
    {
      "cell_type": "markdown",
      "source": [
        "Usando delayed() do dask para obter a mesma informação."
      ],
      "metadata": {
        "id": "zBV7dY3OMGCX"
      }
    },
    {
      "cell_type": "code",
      "source": [],
      "metadata": {
        "id": "CrBDE5yEL90t"
      },
      "execution_count": null,
      "outputs": []
    },
    {
      "cell_type": "code",
      "source": [],
      "metadata": {
        "id": "H_srn7PYMjhc"
      },
      "execution_count": null,
      "outputs": []
    },
    {
      "cell_type": "code",
      "source": [],
      "metadata": {
        "id": "whNR4rj7MogT"
      },
      "execution_count": null,
      "outputs": []
    },
    {
      "cell_type": "markdown",
      "source": [
        "# Usando dask puro para obter o valor máximo de atraso."
      ],
      "metadata": {
        "id": "ztdaw8r1NOac"
      }
    },
    {
      "cell_type": "markdown",
      "source": [
        "Vamos carregar nossos dados diretamente como Dask Dataframe (ddf)\n",
        "\n",
        "![image.png](data:image/png;base64,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)"
      ],
      "metadata": {
        "id": "Zr2XYRbThh1C"
      }
    },
    {
      "cell_type": "code",
      "source": [
        "import dask.dataframe as ddf"
      ],
      "metadata": {
        "id": "LK8ZzH96M9ea"
      },
      "execution_count": null,
      "outputs": []
    },
    {
      "cell_type": "code",
      "source": [
        "%%time\n",
        "df = ddf.read_csv(\"data/nycflights/*.csv\", dtype={\"TailNum\": str,\n",
        "                         \"CSRElapsedTime\": int,\n",
        "                         \"Cancelled\": bool}, assume_missing=True)\n"
      ],
      "metadata": {
        "id": "Mwru8q-pNT4T"
      },
      "execution_count": null,
      "outputs": []
    },
    {
      "cell_type": "code",
      "source": [
        "df.DepDelay.max().visualize()"
      ],
      "metadata": {
        "id": "TD0n4tqSNqcL"
      },
      "execution_count": null,
      "outputs": []
    },
    {
      "cell_type": "code",
      "source": [],
      "metadata": {
        "id": "yc99axbDOj_D"
      },
      "execution_count": null,
      "outputs": []
    },
    {
      "cell_type": "markdown",
      "source": [
        "## Obtendo voos não cancelados\n",
        "\n",
        "Podemos compartilhar resultados intermediários. Ex: cálculo de média e desvio padrão de atrasos para voos não cancelados."
      ],
      "metadata": {
        "id": "c0381fegQuFk"
      }
    },
    {
      "cell_type": "code",
      "source": [
        "df = ddf.read_csv(\"data/nycflights/*.csv\", dtype={\"TailNum\": str,\n",
        "                         \"CSRElapsedTime\": int,\n",
        "                         \"Cancelled\": bool}, assume_missing=True)"
      ],
      "metadata": {
        "id": "S5TVCN43S_vr"
      },
      "execution_count": null,
      "outputs": []
    },
    {
      "cell_type": "code",
      "source": [],
      "metadata": {
        "id": "mSZjWNf1PGCD"
      },
      "execution_count": null,
      "outputs": []
    },
    {
      "cell_type": "code",
      "source": [],
      "metadata": {
        "id": "J9_9O3BnSilA"
      },
      "execution_count": null,
      "outputs": []
    },
    {
      "cell_type": "code",
      "source": [],
      "metadata": {
        "id": "fjwLJfTIjMqT"
      },
      "execution_count": null,
      "outputs": []
    },
    {
      "cell_type": "code",
      "source": [],
      "metadata": {
        "id": "CmAD8PAeSku4"
      },
      "execution_count": null,
      "outputs": []
    },
    {
      "cell_type": "code",
      "source": [
        "\n",
        "\n"
      ],
      "metadata": {
        "id": "uBOmYkKZUgLA"
      },
      "execution_count": null,
      "outputs": []
    },
    {
      "cell_type": "code",
      "source": [],
      "metadata": {
        "id": "gC_xBmL5Up9Y"
      },
      "execution_count": null,
      "outputs": []
    },
    {
      "cell_type": "code",
      "source": [],
      "metadata": {
        "id": "SrBaK3lPVW1X"
      },
      "execution_count": null,
      "outputs": []
    },
    {
      "cell_type": "code",
      "source": [
        "import dask"
      ],
      "metadata": {
        "id": "8DxzCgoPVaTm"
      },
      "execution_count": null,
      "outputs": []
    },
    {
      "cell_type": "code",
      "source": [],
      "metadata": {
        "id": "FMMeRvRUVhDH"
      },
      "execution_count": null,
      "outputs": []
    },
    {
      "cell_type": "code",
      "source": [],
      "metadata": {
        "id": "Chnn0oxIV3de"
      },
      "execution_count": null,
      "outputs": []
    },
    {
      "cell_type": "markdown",
      "source": [
        "Agora é com vocês!\n",
        "\n",
        "Sabendo da interface existente entre Dask, Pandas, NumPy e ScikitLearn façam, a partir do Dataframe de vôos não cancelados:\n",
        "\n",
        "\n",
        "1.   Uma filtragem de Dados: selecione voos que partiram de \"JFK\" e tiveram como destino \"LAX\".\n",
        "\n",
        "2.   Agrupamento e Agregação: a partir dos dados filtrados na etapa 1, agrupe os dados por ano e mês do voo, e calcule o número total de vôos por mês.\n",
        "\n",
        "3.   Plote um gráfico que seja interessante para mostrar distribuição do número de voos por ano e por mês. Ps.: Substitua os números dos meses por seus respectivos nomes.\n",
        "\n",
        "4.   A partir da visualização gerada e no período de tempo considerado, qual o mês onde aparentemente o número de vôos é maior?\n",
        "\n",
        "5. Faça um gráfico de barras com a contagem de número de voos (origem) por aeroporto. Qual aeroporto de NY tem maior número de departures?\n",
        "\n",
        "6. Faça um gráfico de dispersão comparando a distância do vôo com o atraso no pouso. Observando esse gráfico, quais são as conclusões que podemos tirar a respeito de:\n",
        " - Qualidade da informação\n",
        " - Pipeline de execução\n",
        "\n",
        "\n",
        "\n",
        "\n",
        "\n",
        "\n"
      ],
      "metadata": {
        "id": "E2DVLAL2iZ9x"
      }
    },
    {
      "cell_type": "code",
      "source": [],
      "metadata": {
        "id": "cJjOto60WAxW"
      },
      "execution_count": null,
      "outputs": []
    },
    {
      "cell_type": "code",
      "source": [],
      "metadata": {
        "id": "ibwGI9i0tniN"
      },
      "execution_count": null,
      "outputs": []
    },
    {
      "cell_type": "code",
      "source": [],
      "metadata": {
        "id": "SG6D1tmftn91"
      },
      "execution_count": null,
      "outputs": []
    },
    {
      "cell_type": "code",
      "source": [],
      "metadata": {
        "id": "RFmrWrVOtoAN"
      },
      "execution_count": null,
      "outputs": []
    },
    {
      "cell_type": "code",
      "source": [],
      "metadata": {
        "id": "Gx24nMoCtoCr"
      },
      "execution_count": null,
      "outputs": []
    },
    {
      "cell_type": "code",
      "source": [],
      "metadata": {
        "id": "LAzsmnzQtoE5"
      },
      "execution_count": null,
      "outputs": []
    },
    {
      "cell_type": "code",
      "source": [],
      "metadata": {
        "id": "NpWStONHtoHS"
      },
      "execution_count": null,
      "outputs": []
    },
    {
      "cell_type": "code",
      "source": [],
      "metadata": {
        "id": "Oz-O4agPtoJk"
      },
      "execution_count": null,
      "outputs": []
    },
    {
      "cell_type": "code",
      "source": [],
      "metadata": {
        "id": "1z26RVKRtoL6"
      },
      "execution_count": null,
      "outputs": []
    },
    {
      "cell_type": "code",
      "source": [],
      "metadata": {
        "id": "hKiFoLY7tomG"
      },
      "execution_count": null,
      "outputs": []
    }
  ],
  "metadata": {
    "colab": {
      "provenance": []
    },
    "kernelspec": {
      "display_name": "Python 3",
      "language": "python",
      "name": "python3"
    },
    "language_info": {
      "codemirror_mode": {
        "name": "ipython",
        "version": 3
      },
      "file_extension": ".py",
      "mimetype": "text/x-python",
      "name": "python",
      "nbconvert_exporter": "python",
      "pygments_lexer": "ipython3",
      "version": "3.7.3"
    },
    "nteract": {
      "version": "0.28.0"
    },
    "toc": {
      "base_numbering": 1,
      "nav_menu": {},
      "number_sections": true,
      "sideBar": true,
      "skip_h1_title": false,
      "title_cell": "Table of Contents",
      "title_sidebar": "Contents",
      "toc_cell": false,
      "toc_position": {},
      "toc_section_display": true,
      "toc_window_display": false
    }
  },
  "nbformat": 4,
  "nbformat_minor": 0
}